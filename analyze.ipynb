{
 "cells": [
  {
   "cell_type": "markdown",
   "metadata": {},
   "source": [
    "# Imports "
   ]
  },
  {
   "cell_type": "code",
   "execution_count": null,
   "metadata": {
    "ExecuteTime": {
     "end_time": "2022-03-13T16:32:22.659248Z",
     "start_time": "2022-03-13T16:32:22.647928Z"
    }
   },
   "outputs": [],
   "source": [
    "import pandas as pd\n",
    "import numpy as np\n",
    "import torch\n",
    "from torch.nn import functional as F\n",
    "import scipy\n",
    "import sklearn\n",
    "from umap import UMAP\n",
    "\n",
    "import plotly_express as px\n",
    "import plotly.graph_objects as go\n",
    "from plotly.subplots import make_subplots\n",
    "import plotly.io as pio\n",
    "import seaborn as sns\n",
    "import matplotlib\n",
    "import matplotlib.pyplot as plt\n",
    "\n",
    "from netcal.metrics import ECE, MCE\n",
    "from netcal.scaling import TemperatureScaling\n",
    "from netcal.presentation import ReliabilityDiagram\n",
    "from sklearn.metrics import brier_score_loss\n",
    "from sklearn.preprocessing import OneHotEncoder"
   ]
  },
  {
   "cell_type": "markdown",
   "metadata": {},
   "source": [
    "# Analysis Functions "
   ]
  },
  {
   "cell_type": "code",
   "execution_count": null,
   "metadata": {
    "ExecuteTime": {
     "end_time": "2022-03-13T16:32:26.822691Z",
     "start_time": "2022-03-13T16:32:26.811457Z"
    }
   },
   "outputs": [],
   "source": [
    "def test_report(l, confidence=0.95):\n",
    "    for df in l:\n",
    "        df.columns = list(df.columns[1:]) + ['model_name']\n",
    "        df['accuracy'] = 100 * df['accuracy']\n",
    "        a = df['accuracy'].to_numpy()\n",
    "        n = len(a)\n",
    "        m, se = np.mean(a), scipy.stats.sem(a)\n",
    "        h = se * scipy.stats.t.ppf((1 + confidence) / 2., n-1)\n",
    "        print(m, h)"
   ]
  },
  {
   "cell_type": "code",
   "execution_count": null,
   "metadata": {
    "ExecuteTime": {
     "end_time": "2022-03-13T16:32:27.044423Z",
     "start_time": "2022-03-13T16:32:27.036342Z"
    }
   },
   "outputs": [],
   "source": [
    "def conf_int(data, confidence=0.95):\n",
    "    a = data.to_numpy()\n",
    "    n = len(a)\n",
    "    m, se = np.mean(a), scipy.stats.sem(a)\n",
    "    h = se * scipy.stats.t.ppf((1 + confidence) / 2., n-1)\n",
    "    return m, h"
   ]
  },
  {
   "cell_type": "code",
   "execution_count": null,
   "metadata": {
    "ExecuteTime": {
     "end_time": "2022-03-13T16:32:27.241348Z",
     "start_time": "2022-03-13T16:32:27.235174Z"
    }
   },
   "outputs": [],
   "source": [
    "def prob_metrics(df):\n",
    "    df.columns = ['task', '0', '1', '2', '3', '4', 'actual']\n",
    "    df[['0', '1', '2', '3', '4']] = F.softmax(torch.tensor(\n",
    "        df[['0', '1', '2', '3', '4']].to_numpy()), dim=1).numpy()\n",
    "    \n",
    "    # Calculate ECE, MCE\n",
    "    n_bins = 10\n",
    "    confidences = df[['0', '1', '2', '3', '4']].to_numpy()\n",
    "    ground_truth = df['actual'].to_numpy()\n",
    "    ece = ECE(n_bins)\n",
    "    mce = MCE(n_bins)\n",
    "    uncalibrated_score_ece = ece.measure(confidences, ground_truth)\n",
    "    temperature = TemperatureScaling()\n",
    "    temperature.fit(confidences, ground_truth)\n",
    "    calibrated = temperature.transform(confidences)\n",
    "    calibrated_score_ece = ece.measure(calibrated, ground_truth)\n",
    "    \n",
    "    uncalibrated_score_mce = mce.measure(confidences, ground_truth)\n",
    "    calibrated_score_mce = mce.measure(calibrated, ground_truth)\n",
    "\n",
    "    # Reliability diagram\n",
    "    diagram = ReliabilityDiagram(n_bins)\n",
    "    diagram.plot(calibrated, ground_truth)\n",
    "    \n",
    "    return calibrated_score_ece, calibrated_score_mce"
   ]
  },
  {
   "cell_type": "code",
   "execution_count": null,
   "metadata": {
    "ExecuteTime": {
     "end_time": "2022-03-13T16:32:27.566934Z",
     "start_time": "2022-03-13T16:32:27.558046Z"
    }
   },
   "outputs": [],
   "source": [
    "def report(df, tasks, confidence=0.95):\n",
    "    df.columns = list(df.columns[1:]) + ['model_name']\n",
    "    df['accuracy'] = 100 * df['accuracy']\n",
    "    a = df['accuracy'].to_numpy()\n",
    "    a = np.split(a, len(a)/tasks, axis=0)\n",
    "    for accs in a:\n",
    "        n = len(accs)\n",
    "        m, se = np.mean(accs), scipy.stats.sem(accs)\n",
    "        h = se * scipy.stats.t.ppf((1 + confidence) / 2., n-1)\n",
    "        print(m, h)"
   ]
  },
  {
   "cell_type": "code",
   "execution_count": null,
   "metadata": {
    "ExecuteTime": {
     "end_time": "2022-03-13T19:40:42.314167Z",
     "start_time": "2022-03-13T19:40:42.304914Z"
    }
   },
   "outputs": [],
   "source": [
    "def plot_summarize(dfs, columns, meta_batch_size, batch_size):\n",
    "    dfs[0] = dfs[0].groupby(np.arange(len(dfs[0])) // meta_batch_size).mean()\n",
    "    \n",
    "    dfs[1].columns = list(dfs[1].columns[1:]) + ['model_name']\n",
    "    valid = dfs[1].groupby('model_name', as_index=False)[dfs[1].columns].mean()\n",
    "    valid['iter'] = valid['model_name'].apply(\n",
    "        lambda x: int(x[x.index('_') + 1:-3]))\n",
    "    valid.sort_values(by=['iter'], inplace=True)\n",
    "    valid.drop(columns=['model_name'], inplace=True)\n",
    "    valid['accuracy'] = 100 * valid['accuracy'] \n",
    "\n",
    "    # Summarizing best valid scores\n",
    "    ind = valid[valid['accuracy'] == valid['accuracy'].max()]['iter'].values[0]\n",
    "    t = dfs[1][dfs[1]['model_name'] == 'model_' + str(ind) + '.pt']\n",
    "    t['accuracy'] = 100 * t['accuracy']\n",
    "    print('Validation Metrics Stats of Best Model at {}-th Iteration'.format(ind))\n",
    "    display(t.describe())\n",
    "\n",
    "    dfs[0].drop(columns=['task'], inplace=True)\n",
    "    dfs[0].reset_index(drop=True, inplace=True)\n",
    "    valid.reset_index(drop=True, inplace=True)\n",
    "    dfs[0].columns = [str(c)+'_train' for c in columns]\n",
    "    dfs[0]['accuracy_train'] = 100 * dfs[0]['accuracy_train']\n",
    "    dfs[0]['iter'] = dfs[0].index\n",
    "    \n",
    "    # Plotting\n",
    "    ctv = [str(c)+'_train' for c in columns]\n",
    "    fig = px.line(dfs[0], x=dfs[0].index, y=ctv)\n",
    "    fig.add_scatter(x=valid['iter'], y=valid['accuracy'], name='accuracy_valid')\n",
    "    fig.show()\n",
    "\n",
    "    #return df, test"
   ]
  },
  {
   "cell_type": "markdown",
   "metadata": {},
   "source": [
    "# Analysing runs from CSV's"
   ]
  },
  {
   "cell_type": "code",
   "execution_count": null,
   "metadata": {
    "ExecuteTime": {
     "end_time": "2022-03-13T19:40:45.044369Z",
     "start_time": "2022-03-13T19:40:43.738273Z"
    },
    "scrolled": true
   },
   "outputs": [],
   "source": [
    "df_train = pd.read_csv(f'PATH TO train.csv')\n",
    "df_valid = pd.read_csv(f'PATH TO valid.csv')\n",
    "df_test = df_test[~(df_test['CE_Loss'] == 'model_last.pt')]\n",
    "df_valid = df_valid[~(df_valid['CE_Loss'] == 'model_last.pt')]"
   ]
  },
  {
   "cell_type": "code",
   "execution_count": null,
   "metadata": {
    "ExecuteTime": {
     "end_time": "2022-03-13T19:40:51.197351Z",
     "start_time": "2022-03-13T19:40:47.212501Z"
    },
    "scrolled": true
   },
   "outputs": [],
   "source": [
    "plot_summarize([df_train, df_valid], ['accuracy', 'ELBO', 'Label_KL', 'Semantic_KL', 'Reconst_Loss', 'CE_Loss'], 20, 500)"
   ]
  },
  {
   "cell_type": "code",
   "execution_count": null,
   "metadata": {
    "ExecuteTime": {
     "end_time": "2022-03-13T19:41:30.946345Z",
     "start_time": "2022-03-13T19:41:30.792583Z"
    }
   },
   "outputs": [],
   "source": [
    "df_test = pd.read_csv(f'PATH to test.csv')\n",
    "test_report([df_test]) # Can also run test.py multiple times for multiple test.csv's and add in the argument list  "
   ]
  },
  {
   "cell_type": "markdown",
   "metadata": {},
   "source": [
    "# Prob Metrics "
   ]
  },
  {
   "cell_type": "code",
   "execution_count": null,
   "metadata": {
    "ExecuteTime": {
     "end_time": "2022-02-15T01:01:29.108509Z",
     "start_time": "2022-02-15T01:01:28.789721Z"
    }
   },
   "outputs": [],
   "source": [
    "df_preds = pd.read_csv('PATH TO preds.csv')\n",
    "ece, mce = prob_metrics(df_preds)\n",
    "print(ece,mce)"
   ]
  },
  {
   "cell_type": "code",
   "execution_count": null,
   "metadata": {
    "ExecuteTime": {
     "end_time": "2022-03-09T11:24:13.375999Z",
     "start_time": "2022-03-09T11:24:13.342310Z"
    }
   },
   "outputs": [],
   "source": [
    "def brier_multi(targets, probs):\n",
    "    return np.mean(np.sum((probs - targets)**2, axis=1))\n",
    "encoder = OneHotEncoder(sparse=False)\n",
    "onehot = encoder.fit_transform(np.array(df_preds['actual']).reshape(-1, 1))\n",
    "brier_multi(onehot, df_preds[['0','1','2','3','4']])"
   ]
  },
  {
   "cell_type": "markdown",
   "metadata": {},
   "source": [
    "# Visualizing the Latents "
   ]
  },
  {
   "cell_type": "code",
   "execution_count": null,
   "metadata": {
    "ExecuteTime": {
     "end_time": "2022-03-02T14:14:03.968506Z",
     "start_time": "2022-03-02T14:14:03.958340Z"
    }
   },
   "outputs": [],
   "source": [
    "latents0 = torch.load('PATH to a random latents_0')\n",
    "latents = torch.load('PATH to a random latents')"
   ]
  },
  {
   "cell_type": "code",
   "execution_count": null,
   "metadata": {
    "ExecuteTime": {
     "end_time": "2022-03-02T14:14:05.597715Z",
     "start_time": "2022-03-02T14:14:04.318677Z"
    }
   },
   "outputs": [],
   "source": [
    "# Making Before and After latent-datasets \n",
    "df0 = pd.DataFrame(np.array(latents0['label_latents'][0]))\n",
    "df0['class'] = pd.Series(list(np.full((10,), 0)) + list(np.full((10,), 1)) + list(\n",
    "    np.full((10,), 2)) + list(np.full((10,), 3)) + list(np.full((10,), 4)))\n",
    "features0 = df0.iloc[:, :-1]\n",
    "df = pd.DataFrame(np.array(latents['label_latents'][0]))\n",
    "df['class'] = pd.Series(list(np.full((10,), 0)) + list(np.full((10,), 1)) + list(\n",
    "    np.full((10,), 2)) + list(np.full((10,), 3)) + list(np.full((10,), 4)))\n",
    "features = df.iloc[:, :-1]\n",
    "\n",
    "# UMAP projection to 2D space \n",
    "umap = UMAP(n_components=2, init='random', random_state=0)\n",
    "proj_2d0 = umap.fit_transform(features0)\n",
    "umap = UMAP(n_components=2, init='random', random_state=0)\n",
    "proj_2d = umap.fit_transform(features)"
   ]
  },
  {
   "cell_type": "code",
   "execution_count": null,
   "metadata": {
    "ExecuteTime": {
     "end_time": "2022-03-02T14:14:06.122377Z",
     "start_time": "2022-03-02T14:14:06.115618Z"
    }
   },
   "outputs": [],
   "source": [
    "sklearn.metrics.davies_bouldin_score(proj_2d0, df['class'])"
   ]
  },
  {
   "cell_type": "code",
   "execution_count": null,
   "metadata": {
    "ExecuteTime": {
     "end_time": "2022-03-02T14:14:06.580566Z",
     "start_time": "2022-03-02T14:14:06.574312Z"
    }
   },
   "outputs": [],
   "source": [
    "sklearn.metrics.davies_bouldin_score(proj_2d, df['class'])"
   ]
  },
  {
   "cell_type": "code",
   "execution_count": null,
   "metadata": {},
   "outputs": [],
   "source": [
    "plt.figure(figsize=(25, 12))\n",
    "sns.relplot(x=proj_2d[:, 0], y=proj_2d[:, 1], hue=df['class'].astype(\n",
    "    int), palette=\"Dark2\", style=df['class'].astype(int), s=250, legend=False)\n",
    "a=sns.kdeplot(x=proj_2d[:, 0], y=proj_2d[:, 1],\n",
    "            hue=df['class'].astype(int), palette=\"Pastel2\", legend=False)\n",
    "sns.despine(right=True)"
   ]
  },
  {
   "cell_type": "code",
   "execution_count": null,
   "metadata": {},
   "outputs": [],
   "source": [
    "plt.figure(figsize=(10, 6))\n",
    "sns.relplot(x=proj_2d0[:, 0], y=proj_2d0[:, 1], hue=df['class'].astype(\n",
    "    int), palette=\"Dark2\", style=df['class'].astype(int), s=250, legend=False)\n",
    "a=sns.kdeplot(x=proj_2d0[:, 0], y=proj_2d0[:, 1],\n",
    "            hue=df['class'].astype(int), palette=\"Pastel2\", legend=False)\n",
    "sns.despine(right=True)"
   ]
  },
  {
   "cell_type": "code",
   "execution_count": null,
   "metadata": {
    "ExecuteTime": {
     "end_time": "2022-03-02T13:52:28.902650Z",
     "start_time": "2022-03-02T13:52:28.790141Z"
    }
   },
   "outputs": [],
   "source": [
    "sfig = a.get_figure()\n",
    "sfig.savefig('label_latents0.jpeg', dpi=1000)"
   ]
  },
  {
   "cell_type": "code",
   "execution_count": null,
   "metadata": {
    "ExecuteTime": {
     "end_time": "2022-03-02T14:14:13.747389Z",
     "start_time": "2022-03-02T14:14:12.729016Z"
    }
   },
   "outputs": [],
   "source": [
    "# Making Before and After latent-datasets \n",
    "df0 = pd.DataFrame(np.array(latents0['semantic_latents'][0]))\n",
    "df0['class'] = pd.Series(list(np.full((10,), 0)) + list(np.full((10,), 1)) + list(\n",
    "    np.full((10,), 2)) + list(np.full((10,), 3)) + list(np.full((10,), 4)))\n",
    "features0 = df0.iloc[:, :-1]\n",
    "df = pd.DataFrame(np.array(latents['semantic_latents'][0]))\n",
    "df['class'] = pd.Series(list(np.full((10,), 0)) + list(np.full((10,), 1)) + list(\n",
    "    np.full((10,), 2)) + list(np.full((10,), 3)) + list(np.full((10,), 4)))\n",
    "features = df.iloc[:, :-1]\n",
    "\n",
    "# UMAP projection to 2D space\n",
    "umap = UMAP(n_components=2, init='random', random_state=0)\n",
    "proj_2d0 = umap.fit_transform(features0)\n",
    "umap = UMAP(n_components=2, init='random', random_state=0)\n",
    "proj_2d = umap.fit_transform(features)"
   ]
  },
  {
   "cell_type": "code",
   "execution_count": null,
   "metadata": {
    "ExecuteTime": {
     "end_time": "2022-03-02T14:14:41.630653Z",
     "start_time": "2022-03-02T14:14:41.624055Z"
    }
   },
   "outputs": [],
   "source": [
    "sklearn.metrics.davies_bouldin_score(proj_2d0, df['class'])"
   ]
  },
  {
   "cell_type": "code",
   "execution_count": null,
   "metadata": {
    "ExecuteTime": {
     "end_time": "2022-03-02T14:14:48.090858Z",
     "start_time": "2022-03-02T14:14:48.074650Z"
    }
   },
   "outputs": [],
   "source": [
    "sklearn.metrics.davies_bouldin_score(proj_2d, df['class'])"
   ]
  },
  {
   "cell_type": "code",
   "execution_count": null,
   "metadata": {},
   "outputs": [],
   "source": [
    "plt.figure(figsize=(10, 6))\n",
    "sns.relplot(x=proj_2d[:, 0], y=proj_2d[:, 1], hue=df['class'].astype(\n",
    "    int), palette=\"Dark2\", style=df['class'].astype(int), s=250, legend=False)\n",
    "a=sns.kdeplot(x=proj_2d[:, 0], y=proj_2d[:, 1],\n",
    "            hue=df['class'].astype(int), palette=\"Pastel2\", legend=False)\n",
    "sns.despine(right=True)"
   ]
  },
  {
   "cell_type": "code",
   "execution_count": null,
   "metadata": {},
   "outputs": [],
   "source": [
    "#plt.figure(figsize=(10, 6))\n",
    "sns.relplot(x=proj_2d0[:, 0], y=proj_2d0[:, 1], hue=df['class'].astype(\n",
    "    int), palette=\"Dark2\", style=df['class'].astype(int), s=250, legend=False)\n",
    "a= sns.kdeplot(x=proj_2d0[:, 0], y=proj_2d0[:, 1],\n",
    "            hue=df['class'].astype(int), palette=\"Pastel2\", legend=False)\n",
    "sns.despine(right=True)"
   ]
  },
  {
   "cell_type": "code",
   "execution_count": null,
   "metadata": {},
   "outputs": [],
   "source": [
    "sfig = a.get_figure()\n",
    "sfig.savefig('style_latents0.jpeg', dpi=1000)"
   ]
  }
 ],
 "metadata": {
  "interpreter": {
   "hash": "7e3af266dcb7df8b026f0780dbb396b062ee5ca2767a18f50e60e26ee6084121"
  },
  "kernelspec": {
   "display_name": "Python 3 (ipykernel)",
   "language": "python",
   "name": "python3"
  },
  "language_info": {
   "codemirror_mode": {
    "name": "ipython",
    "version": 3
   },
   "file_extension": ".py",
   "mimetype": "text/x-python",
   "name": "python",
   "nbconvert_exporter": "python",
   "pygments_lexer": "ipython3",
   "version": "3.9.7"
  },
  "toc": {
   "base_numbering": 1,
   "nav_menu": {},
   "number_sections": true,
   "sideBar": true,
   "skip_h1_title": false,
   "title_cell": "Table of Contents",
   "title_sidebar": "Contents",
   "toc_cell": false,
   "toc_position": {
    "height": "calc(100% - 180px)",
    "left": "10px",
    "top": "150px",
    "width": "369.069px"
   },
   "toc_section_display": true,
   "toc_window_display": true
  }
 },
 "nbformat": 4,
 "nbformat_minor": 2
}

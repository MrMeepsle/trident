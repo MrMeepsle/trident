{
 "cells": [
  {
   "cell_type": "code",
   "execution_count": 1,
   "metadata": {},
   "outputs": [],
   "source": [
    "import argparse\n",
    "\n",
    "import numpy as np\n",
    "import tqdm\n",
    "from torch import nn, optim\n",
    "import sys\n",
    "sys.path.append('/home/anuj/Desktop/Work/TU_Delft/research/implement/learning_to_meta-learn')\n",
    "sys.path\n",
    "\n",
    "from src.zoo.delpo_utils import setup, inner_adapt_delpo\n",
    "from src.utils2 import Profiler\n",
    "import wandb"
   ]
  },
  {
   "cell_type": "code",
   "execution_count": 2,
   "metadata": {},
   "outputs": [],
   "source": [
    "profiler = Profiler('DELPO_{}_{}-way_{}-shot_{}-queries'.format('mini_imagenet', 5, 5, 10), 'exp1')"
   ]
  },
  {
   "cell_type": "code",
   "execution_count": 3,
   "metadata": {},
   "outputs": [],
   "source": [
    "l = [[1,2,3,4,5,6,7], [1,2,3,4,5,6,7]]\n",
    "profiler.log_csv(l, 'train')"
   ]
  },
  {
   "cell_type": "code",
   "execution_count": 4,
   "metadata": {},
   "outputs": [],
   "source": [
    "l = [1,2,3,4,5,6,7]\n",
    "profiler.log_csv(l, 'valid')"
   ]
  },
  {
   "cell_type": "code",
   "execution_count": 2,
   "metadata": {},
   "outputs": [],
   "source": [
    "\n",
    "# ##############\n",
    "# # Parameters #\n",
    "# ##############\n",
    "# parser = argparse.ArgumentParser()\n",
    "# parser.add_argument('--dataset', type=str, default='mini_imagenet')\n",
    "# parser.add_argument('--root', type=str, default='../../data')\n",
    "# # parser.add_argument('--n-ways', type=int)\n",
    "# # parser.add_argument('--k-shots', type=int)\n",
    "# # parser.add_argument('--q-shots', type=int)\n",
    "# # parser.add_argument('--inner-adapt-steps-train', type=int)\n",
    "# # parser.add_argument('--inner-adapt-steps-test', type=int)\n",
    "# # parser.add_argument('--inner-lr', type=float)\n",
    "# # parser.add_argument('--meta-lr', type=float)\n",
    "# # parser.add_argument('--meta-batch-size', type=int)\n",
    "# # parser.add_argument('--iterations', type=int)\n",
    "# # parser.add_argument('--order', type=str)\n",
    "# # parser.add_argument('--device', type=str)\n",
    "# # parser.add_argument('--download', type=str)\n",
    "\n",
    "# args = parser.parse_args()\n",
    "# # if args.order == 'True':\n",
    "# #     args.order = True\n",
    "# # elif args.order == 'False':\n",
    "# #     args.order = False\n",
    "\n",
    "# # if args.download == 'True':\n",
    "# #     args.download = True\n",
    "# # elif args.download == 'False':\n",
    "# #     args.download = False\n",
    "\n",
    "args = {'dataset': 'miniimagenet', 'root': '../../dataset/mini_imagenet', 'n_ways': 5, 'k_shots': 1, 'q_shots': 1, 'inner_adapt_steps_train': 5, 'inner_adapt_steps_test': 5,\n",
    "        'inner_lr': 0.001, 'meta_lr': 0.0001, 'meta_batch_size': 1, 'iterations': 3500, 'wt_ce': 1, 'klwt': False, 'rec_wt': 1, 'beta_l': 1, 'beta_s': 1, 'order': False, 'device': 'cpu'}"
   ]
  },
  {
   "cell_type": "code",
   "execution_count": 3,
   "metadata": {},
   "outputs": [
    {
     "name": "stderr",
     "output_type": "stream",
     "text": [
      "Failed to detect the name of this notebook, you can set it manually with the WANDB_NOTEBOOK_NAME environment variable to enable code saving.\n",
      "\u001b[34m\u001b[1mwandb\u001b[0m: Currently logged in as: \u001b[33manujinho\u001b[0m (use `wandb login --relogin` to force relogin)\n"
     ]
    },
    {
     "data": {
      "text/html": [
       "\n",
       "                    Syncing run <strong><a href=\"https://wandb.ai/anujinho/meta/runs/3mck7xna\" target=\"_blank\">rare-voice-7</a></strong> to <a href=\"https://wandb.ai/anujinho/meta\" target=\"_blank\">Weights & Biases</a> (<a href=\"https://docs.wandb.com/integrations/jupyter.html\" target=\"_blank\">docs</a>).<br/>\n",
       "\n",
       "                "
      ],
      "text/plain": [
       "<IPython.core.display.HTML object>"
      ]
     },
     "metadata": {},
     "output_type": "display_data"
    }
   ],
   "source": [
    "wandb.init(project=\"meta\", entity='anujinho', config={})\n",
    "wandb.config.update(args)"
   ]
  },
  {
   "cell_type": "code",
   "execution_count": 4,
   "metadata": {},
   "outputs": [],
   "source": [
    "\n",
    "# Generating Tasks, initializing learners, loss, meta - optimizer\n",
    "train_tasks, valid_tasks, test_tasks, learner = setup(\n",
    "    args['dataset'], args['root'], args['n_ways'], args['k_shots'], args['q_shots'], args['order'], args['inner_lr'], args['device'], download=False)\n",
    "opt = optim.Adam(learner.parameters(), args['meta_lr'])\n",
    "reconst_loss = nn.MSELoss(reduction='none')\n",
    "# if args.order == False:\n",
    "#     profiler = Profiler('DELPO_{}_{}-way_{}-shot_{}-queries'.format(args.dataset,\n",
    "#                         args.n_ways, args.k_shots, args.q_shots))\n",
    "#     prof_test = Profiler('DELPO_test_{}_{}-way_{}-shot_{}-queries'.format(\n",
    "#         args.dataset, args.n_ways, args.k_shots, args.q_shots))\n",
    "# elif args.order == True:\n",
    "#     profiler = Profiler('FO-DELPO_{}_{}-way_{}-shot_{}-queries'.format(\n",
    "#         args.dataset, args.n_ways, args.k_shots, args.q_shots))\n",
    "#     prof_test = Profiler('FO-DELPO_test_{}_{}-way_{}-shot_{}-queries'.format(\n",
    "#         args.dataset, args.n_ways, args.k_shots, args.q_shots))"
   ]
  },
  {
   "cell_type": "code",
   "execution_count": 5,
   "metadata": {},
   "outputs": [
    {
     "name": "stderr",
     "output_type": "stream",
     "text": [
      "  0%|          | 0/3500 [00:00<?, ?it/s]/home/anuj/anaconda3/envs/torch/lib/python3.8/site-packages/torch/nn/functional.py:718: UserWarning: Named tensors and all their associated APIs are an experimental feature and subject to change. Please do not use them for anything important until they are released as stable. (Triggered internally at  /opt/conda/conda-bld/pytorch_1623448278899/work/c10/core/TensorImpl.h:1156.)\n",
      "  return torch.max_pool2d(input, kernel_size, stride, padding, dilation, ceil_mode)\n",
      "  6%|▋         | 223/3500 [07:47<1:54:35,  2.10s/it]\n"
     ]
    },
    {
     "ename": "KeyboardInterrupt",
     "evalue": "",
     "output_type": "error",
     "traceback": [
      "\u001b[0;31m---------------------------------------------------------------------------\u001b[0m",
      "\u001b[0;31mKeyboardInterrupt\u001b[0m                         Traceback (most recent call last)",
      "\u001b[0;32m/tmp/ipykernel_89855/728152569.py\u001b[0m in \u001b[0;36m<module>\u001b[0;34m\u001b[0m\n\u001b[1;32m     13\u001b[0m                 ttask, reconst_loss, model, args['n_ways'], args['k_shots'], args['q_shots'], args['inner_adapt_steps_train'], args['device'], False, args)\n\u001b[1;32m     14\u001b[0m \u001b[0;34m\u001b[0m\u001b[0m\n\u001b[0;32m---> 15\u001b[0;31m         \u001b[0mevaluation_loss\u001b[0m\u001b[0;34m[\u001b[0m\u001b[0;34m'elbo'\u001b[0m\u001b[0;34m]\u001b[0m\u001b[0;34m.\u001b[0m\u001b[0mbackward\u001b[0m\u001b[0;34m(\u001b[0m\u001b[0;34m)\u001b[0m\u001b[0;34m\u001b[0m\u001b[0;34m\u001b[0m\u001b[0m\n\u001b[0m\u001b[1;32m     16\u001b[0m \u001b[0;34m\u001b[0m\u001b[0m\n\u001b[1;32m     17\u001b[0m         \u001b[0;31m# Logging per train-task losses and accuracies\u001b[0m\u001b[0;34m\u001b[0m\u001b[0;34m\u001b[0m\u001b[0;34m\u001b[0m\u001b[0m\n",
      "\u001b[0;32m~/anaconda3/envs/torch/lib/python3.8/site-packages/torch/_tensor.py\u001b[0m in \u001b[0;36mbackward\u001b[0;34m(self, gradient, retain_graph, create_graph, inputs)\u001b[0m\n\u001b[1;32m    253\u001b[0m                 \u001b[0mcreate_graph\u001b[0m\u001b[0;34m=\u001b[0m\u001b[0mcreate_graph\u001b[0m\u001b[0;34m,\u001b[0m\u001b[0;34m\u001b[0m\u001b[0;34m\u001b[0m\u001b[0m\n\u001b[1;32m    254\u001b[0m                 inputs=inputs)\n\u001b[0;32m--> 255\u001b[0;31m         \u001b[0mtorch\u001b[0m\u001b[0;34m.\u001b[0m\u001b[0mautograd\u001b[0m\u001b[0;34m.\u001b[0m\u001b[0mbackward\u001b[0m\u001b[0;34m(\u001b[0m\u001b[0mself\u001b[0m\u001b[0;34m,\u001b[0m \u001b[0mgradient\u001b[0m\u001b[0;34m,\u001b[0m \u001b[0mretain_graph\u001b[0m\u001b[0;34m,\u001b[0m \u001b[0mcreate_graph\u001b[0m\u001b[0;34m,\u001b[0m \u001b[0minputs\u001b[0m\u001b[0;34m=\u001b[0m\u001b[0minputs\u001b[0m\u001b[0;34m)\u001b[0m\u001b[0;34m\u001b[0m\u001b[0;34m\u001b[0m\u001b[0m\n\u001b[0m\u001b[1;32m    256\u001b[0m \u001b[0;34m\u001b[0m\u001b[0m\n\u001b[1;32m    257\u001b[0m     \u001b[0;32mdef\u001b[0m \u001b[0mregister_hook\u001b[0m\u001b[0;34m(\u001b[0m\u001b[0mself\u001b[0m\u001b[0;34m,\u001b[0m \u001b[0mhook\u001b[0m\u001b[0;34m)\u001b[0m\u001b[0;34m:\u001b[0m\u001b[0;34m\u001b[0m\u001b[0;34m\u001b[0m\u001b[0m\n",
      "\u001b[0;32m~/anaconda3/envs/torch/lib/python3.8/site-packages/torch/autograd/__init__.py\u001b[0m in \u001b[0;36mbackward\u001b[0;34m(tensors, grad_tensors, retain_graph, create_graph, grad_variables, inputs)\u001b[0m\n\u001b[1;32m    145\u001b[0m         \u001b[0mretain_graph\u001b[0m \u001b[0;34m=\u001b[0m \u001b[0mcreate_graph\u001b[0m\u001b[0;34m\u001b[0m\u001b[0;34m\u001b[0m\u001b[0m\n\u001b[1;32m    146\u001b[0m \u001b[0;34m\u001b[0m\u001b[0m\n\u001b[0;32m--> 147\u001b[0;31m     Variable._execution_engine.run_backward(\n\u001b[0m\u001b[1;32m    148\u001b[0m         \u001b[0mtensors\u001b[0m\u001b[0;34m,\u001b[0m \u001b[0mgrad_tensors_\u001b[0m\u001b[0;34m,\u001b[0m \u001b[0mretain_graph\u001b[0m\u001b[0;34m,\u001b[0m \u001b[0mcreate_graph\u001b[0m\u001b[0;34m,\u001b[0m \u001b[0minputs\u001b[0m\u001b[0;34m,\u001b[0m\u001b[0;34m\u001b[0m\u001b[0;34m\u001b[0m\u001b[0m\n\u001b[1;32m    149\u001b[0m         allow_unreachable=True, accumulate_grad=True)  # allow_unreachable flag\n",
      "\u001b[0;31mKeyboardInterrupt\u001b[0m: "
     ]
    },
    {
     "name": "stderr",
     "output_type": "stream",
     "text": [
      "wandb: Network error (ConnectionError), entering retry loop.\n",
      "\u001b[34m\u001b[1mwandb\u001b[0m: Network error resolved after 0:00:07.945814, resuming normal operation.\n"
     ]
    }
   ],
   "source": [
    "\n",
    "## Training ##\n",
    "for iter in tqdm.tqdm(range(args['iterations'])):\n",
    "    opt.zero_grad()\n",
    "    \n",
    "    for batch in range(args['meta_batch_size']):\n",
    "        ttask = train_tasks.sample()\n",
    "        model = learner.clone()\n",
    "        if bool(iter%100==0):\n",
    "            evaluation_loss, evaluation_accuracy, reconst_img, query_imgs = inner_adapt_delpo(\n",
    "                ttask, reconst_loss, model, args['n_ways'], args['k_shots'], args['q_shots'], args['inner_adapt_steps_train'], args['device'], True, args)\n",
    "        else:\n",
    "            evaluation_loss, evaluation_accuracy = inner_adapt_delpo(\n",
    "                ttask, reconst_loss, model, args['n_ways'], args['k_shots'], args['q_shots'], args['inner_adapt_steps_train'], args['device'], False, args)\n",
    "        \n",
    "        evaluation_loss['elbo'].backward()\n",
    "\n",
    "        # Logging per train-task losses and accuracies\n",
    "        wandb.log(dict({f\"train/{key}\": loss.item() for _, (key, loss) in enumerate(evaluation_loss.items())},\n",
    "                  **{'train/accuracies': evaluation_accuracy.item(), 'train/task': (iter*args['meta_batch_size'])+batch}))\n",
    "        \n",
    "    rimages = wandb.Image(reconst_img, caption=\"Reconstructed Query Images\")  \n",
    "    qimages = wandb.Image(query_imgs, caption=\"Query Images\")\n",
    "    wandb.log({\"reconst_examples\": rimages, \"gt_examples\": qimages})\n",
    "        \n",
    "    vtask = valid_tasks.sample()\n",
    "    model = learner.clone()\n",
    "    validation_loss, validation_accuracy = inner_adapt_delpo(\n",
    "        vtask, reconst_loss, model, args['n_ways'], args['k_shots'], args['q_shots'], args['inner_adapt_steps_train'], args['device'], False, args)\n",
    "\n",
    "    # Logging per validation-task losses and accuracies\n",
    "    wandb.log(dict({f\"valid/{key}\": loss.item() for _, (key, loss) in enumerate(validation_loss.items())},\n",
    "              **{'valid/accuracies': validation_accuracy.item(), 'valid/task': iter}))\n",
    "\n",
    "   \n",
    "    for p in learner.parameters():\n",
    "        p.grad.data.mul_(1.0 / args['meta_batch_size'])\n",
    "    opt.step()\n",
    "\n",
    "#torch.save(learner, f='../repro')\n",
    "\n",
    "## Testing ##\n",
    "print('Testing on held out classes')\n",
    "\n",
    "for i, tetask in enumerate(test_tasks):\n",
    "    wandb.define_metric(\"accuracies\", summary=\"max\")\n",
    "    wandb.define_metric(\"accuracies\", summary=\"mean\")\n",
    "\n",
    "    model = learner.clone()\n",
    "    #tetask = test_tasks.sample()\n",
    "    evaluation_loss, evaluation_accuracy = inner_adapt_delpo(\n",
    "        tetask, reconst_loss, model, args['n_ways'], args['k_shots'], args['q_shots'], args['inner_adapt_steps_test'], args['device'], False, args)\n",
    "    \n",
    "    # Logging per test-task losses and accuracies\n",
    "    wandb.log(dict({f\"test/{key}\": loss.item() for _, (key, loss) in enumerate(evaluation_loss.items())},\n",
    "                **{'test/accuracies': evaluation_accuracy.item(), 'test/task': i}))\n",
    "\n"
   ]
  },
  {
   "cell_type": "code",
   "execution_count": null,
   "metadata": {},
   "outputs": [],
   "source": []
  }
 ],
 "metadata": {
  "interpreter": {
   "hash": "7e3af266dcb7df8b026f0780dbb396b062ee5ca2767a18f50e60e26ee6084121"
  },
  "kernelspec": {
   "display_name": "Python 3.8.11 64-bit ('torch': conda)",
   "name": "python3"
  },
  "language_info": {
   "codemirror_mode": {
    "name": "ipython",
    "version": 3
   },
   "file_extension": ".py",
   "mimetype": "text/x-python",
   "name": "python",
   "nbconvert_exporter": "python",
   "pygments_lexer": "ipython3",
   "version": "3.8.11"
  },
  "orig_nbformat": 4
 },
 "nbformat": 4,
 "nbformat_minor": 2
}

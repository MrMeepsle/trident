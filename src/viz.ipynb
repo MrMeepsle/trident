{
 "cells": [
  {
   "cell_type": "code",
   "execution_count": 57,
   "metadata": {},
   "outputs": [],
   "source": [
    "import sys\n",
    "import numpy as np\n",
    "import torch\n",
    "import learn2learn as l2l\n",
    "from torch import nn, optim\n",
    "from torch.nn import functional as F\n",
    "from torchvision import transforms\n",
    "\n",
    "from PIL.Image import LANCZOS\n",
    "from csv import writer\n",
    "\n",
    "from PIL import Image\n",
    "import pandas as pd\n",
    "import cv2\n",
    "import plotly.express as px\n",
    "import matplotlib.pyplot as plt\n",
    "#torch.cuda.is_available()"
   ]
  },
  {
   "cell_type": "code",
   "execution_count": 2,
   "metadata": {},
   "outputs": [
    {
     "data": {
      "text/plain": [
       "['/home/anuj/Desktop/Work/TU_Delft/research/implement/learning_to_meta-learn/src',\n",
       " '/home/anuj/.vscode/extensions/ms-toolsai.jupyter-2022.6.1201981810/pythonFiles',\n",
       " '/home/anuj/.vscode/extensions/ms-toolsai.jupyter-2022.6.1201981810/pythonFiles/lib/python',\n",
       " '/home/anuj/anaconda3/envs/torch/lib/python39.zip',\n",
       " '/home/anuj/anaconda3/envs/torch/lib/python3.9',\n",
       " '/home/anuj/anaconda3/envs/torch/lib/python3.9/lib-dynload',\n",
       " '',\n",
       " '/home/anuj/anaconda3/envs/torch/lib/python3.9/site-packages',\n",
       " '/home/anuj/anaconda3/envs/torch/lib/python3.9/site-packages/IPython/extensions',\n",
       " '/home/anuj/.ipython',\n",
       " '/home/anuj/Desktop/Work/TU_Delft/research/implement/learning_to_meta-learn']"
      ]
     },
     "execution_count": 2,
     "metadata": {},
     "output_type": "execute_result"
    }
   ],
   "source": [
    "sys.path.append('/home/anuj/Desktop/Work/TU_Delft/research/implement/learning_to_meta-learn')\n",
    "sys.path"
   ]
  },
  {
   "cell_type": "code",
   "execution_count": 3,
   "metadata": {},
   "outputs": [],
   "source": [
    "# from data.taskers import gen_tasks\n",
    "from src.zoo.archs import CCVAE\n",
    "from src.zoo.trident_utils import setup, inner_adapt_trident, loss, accuracy\n",
    "# from data.loaders import CUBirds200\n",
    "from src.zoo.trident_utils import inner_adapt_trident, setup\n",
    "from data.taskers import gen_tasks\n"
   ]
  },
  {
   "cell_type": "code",
   "execution_count": 4,
   "metadata": {},
   "outputs": [],
   "source": [
    "reconst_loss = nn.MSELoss(reduction='none')\n",
    "\n",
    "class Args:\n",
    "    def __init__(self, wt_ce, klwt, rec_wt, beta_l, beta_s):\n",
    "        #args.wt_ce, args.klwt, args.rec_wt, args.beta_l, args.beta_s\n",
    "        self.wt_ce = wt_ce\n",
    "        self.klwt = klwt\n",
    "        self.rec_wt = rec_wt\n",
    "        self.beta_l = beta_l\n",
    "        self.beta_s = beta_s\n",
    "        self.dataset = 'miniimagenet'\n",
    "        self.root = '../../dataset/mini_imagenet'\n",
    "        self.task_adapt = True\n",
    "        self.task_adapt_fn = 'tafe'\n",
    "        self.n_ways = 5\n",
    "        self.k_shots = 5\n",
    "        self.q_shots = 10\n",
    "        self.zl = 64\n",
    "        self.zs = 64\n",
    "        self.reconstr = 'std'\n",
    "        self.device = 'cpu'\n",
    "        self.wn_channels = 32\n",
    "        self.wm_channels = 64\n",
    "        self.order = False\n",
    "        self.inner_lr = 0.001\n",
    "        self.meta_lr = 0.0001\n",
    "        self.adapt_steps = 5\n",
    "        self.meta_batch_size = 20\n",
    "        self.download = False\n",
    "        self.log_data = False\n",
    "\n",
    "\n",
    "args = Args(100, False, 0.01, 1, 1)"
   ]
  },
  {
   "cell_type": "code",
   "execution_count": 5,
   "metadata": {},
   "outputs": [],
   "source": [
    "learner = torch.load(\n",
    "    '/home/anuj/Desktop/Work/TU_Delft/research/implement/learning_to_meta-learn/logs/DELPO_miniimagenet_5-way_5-shot_10-queries/exp8-tafe/exp8.2-tafe(w relu)/model_33000.pt', map_location=args.device)\n",
    "learner = learner.to(args.device)"
   ]
  },
  {
   "cell_type": "code",
   "execution_count": 6,
   "metadata": {},
   "outputs": [],
   "source": [
    "test_tasks = gen_tasks(args.dataset, args.root, download=args.download, mode='test',\n",
    "                               n_ways=args.n_ways, k_shots=args.k_shots, q_shots=args.q_shots, num_tasks=600)"
   ]
  },
  {
   "cell_type": "code",
   "execution_count": 7,
   "metadata": {},
   "outputs": [
    {
     "name": "stderr",
     "output_type": "stream",
     "text": [
      "/home/anuj/anaconda3/envs/torch/lib/python3.9/site-packages/torch/_tensor.py:1013: UserWarning: The .grad attribute of a Tensor that is not a leaf Tensor is being accessed. Its .grad attribute won't be populated during autograd.backward(). If you indeed want the .grad field to be populated for a non-leaf Tensor, use .retain_grad() on the non-leaf Tensor. If you access the non-leaf Tensor by mistake, make sure you access the leaf Tensor instead. See github.com/pytorch/pytorch/pull/30531 for more informations. (Triggered internally at  /opt/conda/conda-bld/pytorch_1639180549130/work/build/aten/src/ATen/core/TensorBody.h:417.)\n",
      "  return self._grad\n"
     ]
    }
   ],
   "source": [
    "task = test_tasks.sample()\n",
    "evaluation_loss, evaluation_accuracy, learner, queries, labels = inner_adapt_trident(task, reconst_loss, learner, args.n_ways, args.k_shots, args.q_shots, args.adapt_steps, args.device, args.log_data, args, extra=\"No\")"
   ]
  },
  {
   "cell_type": "code",
   "execution_count": 8,
   "metadata": {},
   "outputs": [],
   "source": [
    "attfex = learner.module.classifier_vae.encoder\n",
    "G = attfex.forward(task[0], 'outer')\n",
    "G = G.reshape(G.shape[0], -1, 5, 5)"
   ]
  },
  {
   "cell_type": "code",
   "execution_count": 9,
   "metadata": {},
   "outputs": [
    {
     "data": {
      "text/plain": [
       "torch.Size([50, 32, 5, 5])"
      ]
     },
     "execution_count": 9,
     "metadata": {},
     "output_type": "execute_result"
    }
   ],
   "source": [
    "G.shape"
   ]
  },
  {
   "cell_type": "markdown",
   "metadata": {},
   "source": [
    "# Activation Heatmap"
   ]
  },
  {
   "cell_type": "code",
   "execution_count": 10,
   "metadata": {},
   "outputs": [
    {
     "data": {
      "text/plain": [
       "(5, 5)"
      ]
     },
     "execution_count": 10,
     "metadata": {},
     "output_type": "execute_result"
    }
   ],
   "source": [
    "#using the approach in https://arxiv.org/abs/1612.03928\n",
    "output = np.abs(G.detach().numpy()[0])\n",
    "output = np.sum(output, axis = 0).squeeze()\n",
    "output.shape"
   ]
  },
  {
   "cell_type": "code",
   "execution_count": 11,
   "metadata": {},
   "outputs": [
    {
     "data": {
      "text/plain": [
       "(84, 84)"
      ]
     },
     "execution_count": 11,
     "metadata": {},
     "output_type": "execute_result"
    }
   ],
   "source": [
    "#resize and convert to image \n",
    "output = cv2.resize(output, (84, 84))\n",
    "output.shape"
   ]
  },
  {
   "cell_type": "code",
   "execution_count": 66,
   "metadata": {},
   "outputs": [
    {
     "data": {
      "text/plain": [
       "True"
      ]
     },
     "execution_count": 66,
     "metadata": {},
     "output_type": "execute_result"
    }
   ],
   "source": [
    "cv2.imwrite('./features.jpg', output)"
   ]
  },
  {
   "cell_type": "code",
   "execution_count": 12,
   "metadata": {},
   "outputs": [
    {
     "data": {
      "text/plain": [
       "array([[191, 191, 191, ..., 193, 193, 193],\n",
       "       [191, 191, 191, ..., 193, 193, 193],\n",
       "       [191, 191, 191, ..., 193, 193, 193],\n",
       "       ...,\n",
       "       [180, 180, 180, ..., 198, 198, 198],\n",
       "       [180, 180, 180, ..., 198, 198, 198],\n",
       "       [180, 180, 180, ..., 198, 198, 198]], dtype=uint8)"
      ]
     },
     "execution_count": 12,
     "metadata": {},
     "output_type": "execute_result"
    }
   ],
   "source": [
    "output /= output.max()\n",
    "output *= 255\n",
    "255 - output.astype('uint8')"
   ]
  },
  {
   "cell_type": "code",
   "execution_count": 13,
   "metadata": {},
   "outputs": [
    {
     "data": {
      "text/plain": [
       "(84, 84)"
      ]
     },
     "execution_count": 13,
     "metadata": {},
     "output_type": "execute_result"
    }
   ],
   "source": [
    "output.shape"
   ]
  },
  {
   "cell_type": "code",
   "execution_count": 22,
   "metadata": {},
   "outputs": [
    {
     "data": {
      "text/plain": [
       "array([[[0.99607843, 0.9764706 , 0.972549  , ..., 0.99607843,\n",
       "         1.        , 0.99215686],\n",
       "        [0.9843137 , 0.5647059 , 0.34901962, ..., 0.9647059 ,\n",
       "         0.827451  , 0.7137255 ],\n",
       "        [0.32941177, 0.2901961 , 0.3254902 , ..., 0.23921569,\n",
       "         0.2901961 , 0.25882354],\n",
       "        ...,\n",
       "        [0.23529412, 0.21176471, 0.22745098, ..., 0.30980393,\n",
       "         0.36078432, 0.36078432],\n",
       "        [0.20784314, 0.23137255, 0.25490198, ..., 0.3647059 ,\n",
       "         0.3529412 , 0.37254903],\n",
       "        [0.21176471, 0.22352941, 0.21960784, ..., 0.38431373,\n",
       "         0.3764706 , 0.37254903]],\n",
       "\n",
       "       [[0.9882353 , 0.9764706 , 0.9764706 , ..., 0.6156863 ,\n",
       "         0.8862745 , 0.6156863 ],\n",
       "        [0.9843137 , 0.5647059 , 0.35686275, ..., 0.7058824 ,\n",
       "         0.72156864, 0.4627451 ],\n",
       "        [0.34117648, 0.3019608 , 0.33333334, ..., 0.2509804 ,\n",
       "         0.2509804 , 0.2627451 ],\n",
       "        ...,\n",
       "        [0.2       , 0.16078432, 0.20784314, ..., 0.19607843,\n",
       "         0.2509804 , 0.27058825],\n",
       "        [0.16862746, 0.18039216, 0.20392157, ..., 0.2901961 ,\n",
       "         0.28235295, 0.3019608 ],\n",
       "        [0.17254902, 0.19215687, 0.16470589, ..., 0.29803923,\n",
       "         0.30588236, 0.29411766]],\n",
       "\n",
       "       [[0.9647059 , 0.9411765 , 0.93333334, ..., 0.49803922,\n",
       "         0.78431374, 0.49019608],\n",
       "        [0.93333334, 0.57254905, 0.42352942, ..., 0.62352943,\n",
       "         0.6431373 , 0.41568628],\n",
       "        [0.41960785, 0.42352942, 0.48235294, ..., 0.3254902 ,\n",
       "         0.34901962, 0.38039216],\n",
       "        ...,\n",
       "        [0.30588236, 0.27058825, 0.29803923, ..., 0.28235295,\n",
       "         0.34117648, 0.34901962],\n",
       "        [0.26666668, 0.28235295, 0.30588236, ..., 0.39215687,\n",
       "         0.3764706 , 0.39215687],\n",
       "        [0.26666668, 0.28627452, 0.2627451 , ..., 0.40784314,\n",
       "         0.4       , 0.4       ]]], dtype=float32)"
      ]
     },
     "execution_count": 22,
     "metadata": {},
     "output_type": "execute_result"
    }
   ],
   "source": [
    "queries[0].detach().numpy()"
   ]
  },
  {
   "cell_type": "code",
   "execution_count": 42,
   "metadata": {},
   "outputs": [
    {
     "data": {
      "text/plain": [
       "tensor([2, 2, 2, 2, 2, 2, 2, 2, 2, 2, 2, 2, 2, 2, 2, 4, 4, 4, 4, 4, 4, 4, 4, 4,\n",
       "        4, 4, 4, 4, 4, 4, 0, 0, 0, 0, 0, 0, 0, 0, 0, 0, 0, 0, 0, 0, 0, 3, 3, 3,\n",
       "        3, 3, 3, 3, 3, 3, 3, 3, 3, 3, 3, 3, 1, 1, 1, 1, 1, 1, 1, 1, 1, 1, 1, 1,\n",
       "        1, 1, 1])"
      ]
     },
     "execution_count": 42,
     "metadata": {},
     "output_type": "execute_result"
    }
   ],
   "source": [
    "labels"
   ]
  },
  {
   "cell_type": "code",
   "execution_count": 45,
   "metadata": {},
   "outputs": [
    {
     "data": {
      "text/plain": [
       "torch.Size([50, 84, 84, 3])"
      ]
     },
     "execution_count": 45,
     "metadata": {},
     "output_type": "execute_result"
    }
   ],
   "source": [
    "queries.permute(0,2,3,1).shape"
   ]
  },
  {
   "cell_type": "code",
   "execution_count": 58,
   "metadata": {},
   "outputs": [
    {
     "name": "stdout",
     "output_type": "stream",
     "text": [
      "(5, 5)\n",
      "(5, 5)\n",
      "(5, 5)\n",
      "(5, 5)\n",
      "(5, 5)\n",
      "(5, 5)\n",
      "(5, 5)\n",
      "(5, 5)\n",
      "(5, 5)\n",
      "(5, 5)\n",
      "(5, 5)\n",
      "(5, 5)\n",
      "(5, 5)\n",
      "(5, 5)\n",
      "(5, 5)\n",
      "(5, 5)\n",
      "(5, 5)\n",
      "(5, 5)\n",
      "(5, 5)\n",
      "(5, 5)\n",
      "(5, 5)\n",
      "(5, 5)\n",
      "(5, 5)\n",
      "(5, 5)\n",
      "(5, 5)\n",
      "(5, 5)\n",
      "(5, 5)\n",
      "(5, 5)\n",
      "(5, 5)\n",
      "(5, 5)\n",
      "(5, 5)\n",
      "(5, 5)\n",
      "(5, 5)\n",
      "(5, 5)\n",
      "(5, 5)\n",
      "(5, 5)\n",
      "(5, 5)\n",
      "(5, 5)\n",
      "(5, 5)\n",
      "(5, 5)\n",
      "(5, 5)\n",
      "(5, 5)\n",
      "(5, 5)\n",
      "(5, 5)\n",
      "(5, 5)\n",
      "(5, 5)\n",
      "(5, 5)\n",
      "(5, 5)\n",
      "(5, 5)\n",
      "(5, 5)\n"
     ]
    }
   ],
   "source": [
    "processed = []\n",
    "for feature_map in G:\n",
    "    feature_map = feature_map.squeeze(0)\n",
    "    gray_scale = torch.sum(feature_map,0)\n",
    "    gray_scale = gray_scale / feature_map.shape[0]\n",
    "    processed.append(gray_scale.data.cpu().numpy())\n",
    "for fm in processed:\n",
    "    print(fm.shape)"
   ]
  },
  {
   "cell_type": "code",
   "execution_count": 64,
   "metadata": {},
   "outputs": [
    {
     "data": {
      "image/png": "[encoded data removed]",
      "text/plain": [
       "<Figure size 720x1440 with 5 Axes>"
      ]
     },
     "metadata": {
      "needs_background": "light"
     },
     "output_type": "display_data"
    }
   ],
   "source": [
    "fig = plt.figure(figsize=(10, 20))\n",
    "for i in range(len(processed[1::10])):\n",
    "    a = fig.add_subplot(1, 5, i+1)\n",
    "    imgplot = plt.imshow(processed[i])\n",
    "    a.axis(\"off\")\n",
    "    #a.set_title(names[i].split('(')[0], fontsize=30)\n",
    "plt.savefig(str('feature_maps.jpg'), bbox_inches='tight')"
   ]
  },
  {
   "cell_type": "code",
   "execution_count": null,
   "metadata": {},
   "outputs": [],
   "source": [
    "#generate heat maps \n",
    "heatmap = cv2.applyColorMap(output, cv2.COLORMAP_JET)\n",
    "heatmap = cv2.addWeighted(heatmap, 0.7, img, 0.3, 0)"
   ]
  },
  {
   "cell_type": "code",
   "execution_count": 62,
   "metadata": {},
   "outputs": [
    {
     "data": {
      "application/vnd.plotly.v1+json": {
       "config": {
        "plotlyServerURL": "https://plot.ly"
       },
       "data": [
        {
         "hovertemplate": "x: %{x}<br>y: %{y}<extra></extra>",
         "name": "0",
         "source": "data:image/png;base64,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",
         "type": "image",
         "xaxis": "x",
         "yaxis": "y"
        },
        {
         "hovertemplate": "x: %{x}<br>y: %{y}<extra></extra>",
         "name": "1",
         "source": "data:image/png;base64,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",
         "type": "image",
         "xaxis": "x2",
         "yaxis": "y2"
        },
        {
         "hovertemplate": "x: %{x}<br>y: %{y}<extra></extra>",
         "name": "2",
         "source": "data:image/png;base64,iVBORw0KGgoAAAANSUhEUgAAAFQAAABUCAIAAACTCYeWAABK5UlEQVR4XiXbZYMd5cEw4Jl7XI67rftusnEnCYRABAhSXIrTAi2uD5RSihdrS6HFg1sICXF3l02yWfc9e9xmzri9H97rf1xwTW2FrusejyebnPC4naoFyYpJkZiuGwAAl8s1MThARV3F0WLbjNmYRLz02kuiJKGIZUE4BKOQBQEAwQAxYQgAYFkWBEGWaZqW1d17/ps1n0wkBhnapahlLpOdPXumoijDQxMoiqIYqsiq32cb6O1Zu3avIjsZG4YiCAyDLVt/m9xej2N2jzuIoDDHccViYdLklo0bf/nks6/uuv+Wl19/qqXpgpf/8vL2YwOop+3crs9dRBZGZADjNBHUdBNBUAiCTUAABJiaBiMgPjHOUnZT0TvPngoEvSMjwyYEw83NjaZpQhDEsiQGQQZmkBiTLxUZytbb24ui6NQZU2RLFSf4dau//887H1/xwG2WAUwDRixgABO2LBhGAYrppg7BEARBCIKYpqnrOoCpUDTKl4soigEYSmaz7//n3y6nU5f4QrHY1X2KZVnF5AIOR1d3748//OpxNRMULImi0+k6dOiQP+iIhCtMU+/oOHPhhYsFXiBpYjwvPXDvM5R7DIXQmCvw9N//cW40uWfjLkjq6u/rr6yoCQaqKIqFINO0dJymLBODdA0hcM0wURgJeAKrP/9k0aK523fusCAIrqiOMSRNIKiqSsFYSOALtdGKU10DwVDQ6XQODg76fG4tUYxRYbOvu7ql/ep/vmJqwNAsAmgSZMAwAAiwIABQXNM0CIIAQGEYhmHIMgwYxiDIsiwNRQgEATiO5PJZu8sBAJyayCo69Mu6NadPHiIIFYas1V/+rCsUDEwCp3TdOnnqiChICy6Yk0ym/L4QBBkIBic5FcHht19dPZ5av/HHLdPmzP/f6q9yaXLw3ObPvni3ffKMWbNmrF/7a3VV/bz5802YskwYRSyPNwhBSCKVqgxXbtqwNhoL7ty9HScIgGGErhsAQWP+ULEsBD0BlZcYnBXKgqqqPM/jptXABojKyrZVS73z62+4bhlLSSzJ2RmAIBZJ4wyDQ7BWKnEEQZimYVmWaZrpdIrAaNhSkhPDJAlhGKQjWk5Ikw705htWrrpi8c03L3c5kHvu+v3rr71TW9OqqdbKFStJVkURPF8oAMSKRqouWLD4+PGTfl8QRQmcYQAOqUp+2bKlupU2pOj0+QtYl/e2W+5W1JQkl7yuGEW4cZS57tqb5s9bgkBO2ERwFGMp2tINh90xaXI7TTPXXHNtZUU1TVEQZMFtrY0uj3ssPl7DeBRglSEtaPfE8zkMw1iWpSjq6uuuTXYO4h53174dVYFQdmyEqott3LYVIDgb8NspxoKRdCb/x/vvWLHsqsR4ASAwXy6/+/6r6URCkuSqWLNpqYqsYxglaYpaLmuG4vYH8nxSlUUun2VYh83GtjRNu/OeP2/ZtLmmpq66qj4SCRcKxXA4nM/nO84evWDBQgIlDhzdecny5ddcteyyK678deuvi2b97qf1axHKSSMFClZohlwwbxYKcBS1EShNoLSBWBTF4AiB4SgA0IUXL/ry0+8XzJu6e8fBQycOyKYCV1VGEAxtaGwc6umtrKiknTauyI0nkq+8/FJnZ+dvv/1WXVXLOmjt/Ph4McPYbEApP/DmS7ddf3M94dXqA5ogARhWNb2utq2nt7O7q/Ozzz6+7w9/qGmocjIhGKLvuv33N9z4O8vSz3R21TZUnz5+csGCC8bH8kMTxUJ2Yvf2DYnU6ODAyKpVVyXyE3958lkIoSwTGx+fcLlcGIaVSiWHkz5z9tiyZUtC4fDRjs6/PPx/9/75gXff+ccHH70/ec5lq7/78J2/PRHyMqlUFra0ZGL84Yf+z9Jx2LIAjqMIblkwSdIAAGDqPq+PprGJ8fyPa38SNRGe1NbCl3kExepqqxLJFIPjrMPh8fh4oeT1euPx+NXLVnVNjPT9tgelyV4xg2ragpZ2oEMLRWw1nCgaGorAnMB/+uGPI2O9v/3208kTHazdFo5WLLt4+Rtvvs7xXCxWJ4icoWGsnRX5ko215fOZ+pZ6imL7BkcuWnDxIw8/ffTooQ3r102fMWny1Eks49FUy+tz6boOQZCpl197/aUsxy9besmtt9yMUsTN9zxcTPZNntRGEv4tm7+qjdV7gu7+/u5iVpg7Z0ZVTcXIQGbe3KmqhqA4DiwUQTCKYhiaZmzEzJlTdu86+s2P31umCd93573bD6wlEI9pGi6Pe3x8lCIJu92J45iqqhYETAt+9IE/fvLdT7Qq7T144M2nnu/dsMOqDi8YkI64wTkinysUFN0kScJQVcPCfY7IRCnV6qrYdnRTfWPjBUuveuRPTxezIm0nSRpRNHXPrn3lQmpqextrdykqjECSYcEQAIYKouHgzl0bj586tXzlsrbm9lOnj61YsaSQK0mSfLLj9N49+//y3FPvf/0jl8iM5Up6uV/kNY+r4uTJg/H42Ly506+//vovPv/S4UOuuuzmf737wa233WLoEMuykqiyrAMAJBgOxhPjLU3N6zdsFEUVnj17hp9h6v3syb6hjGxCKKkoEgZMWZZjsZgiSYqiOxzuBXPmnOo6kxxKrpg/J3Wiwwx64ROnjJaWrnIcJlmpKJYlMeiwv/Hi619/uvqyy6/0TZmzf/fWn3/+VOczZQj9/KNvMBiIOqSbcDabksrFifiYIAgrL1/FlcskZYchjCAgHAEE5i6WihCwuHLm+eefufe+e4I+//Tp015+6WUMJ3Yf2oM4aTlTtNntDAMVC/zVq247cugkgkmIRU+eUjE8IEzkeysrvZWRScMD/U2NzZqmIQgGWSiG4iZssHa2sXZqZ1d/iU/CN97yu44Dx2c0hHnVbJk1d+/OPSXN4IrZcChkQGDJ/OmpZOrImT4PibXNX3Du6Nkp0bCVLxJeT6KY6h9IX33Lqp9+/gV2kEIhy+KWNVH84t//3rV+26w/Pw4B1Em773rsMUJOnzl3/Iev11K0z4IIisLH4qNDw+dNSy8V8lUV1VU1tTa7EyccmipjiKlociDsR1H01KlzHo/nhuuufuGFFy5eciFJ0UWRKwnKjb+7SpN4lLQuvXTZsSOnus6N/f7uK3NJqW1S7ZLF123cviGZ7MJxgiVsKIrCMELglCSpDGOPVUSra6tbm5s7OsYHBwfBmVNnRMLYO5iUYezg7h1TaoIEgOwOB03TmmagkDUy0gMhkAybe7ftbJvScGSwqyM/cWSweyg95gPQL1t+1S34yrmzCdTm9IVr6xtMp23aBbMtw1JEpZDv+e7Fu67y2WZOm37vY/c4vLiu5xSLj9UE5i2+VFbhcLSinCts27gWmFwiOYSgmqoadtYl8ko6xTU2tOoaeOrJJxcsmCeo0vRZM//2/HOfffBPl4tU9ZLb5ScIUtbyFdWB02eOzJ7X+MXn3547f3jVyssvXnQ5AosQZCKoVSjkSlyBogiX02m329rbWzBCCsdskpoEqqITJkFQxGA8Nz6Rd9pt1S6cggDHlyNR75n+gSOn+u+54mIun7c56GPHjzU0NHKCsHDO9ESudFZKd548f/2UBYkTx1oqA4KsRatCciqxdvMmpdB74D/PcR/9+/jrz7Ra5R//8+Ef58x/7M93I05cl3hdknRVvOiipdNnzUVtrNvj3btzR+/pwyQOGwrPcVw2XUAQxGajfl33YzgSMQxL4ssnjh1CMWve3NkETjpckZmzptVUN7lstXaXiRiuznOn58yb3tDcjECWKCqSgqI4wnOSpgIEkJpmiLJkmYimyTBgJkYzkiQDAIDP7VEESTd0FaV/2HXEAAwKW/lsMZXMNzVOrquoKg70oDa6JJRRFM2W8u5I8LcdOzEb06qxz977oKka09smz/RHy1xBVpT+rkHa5z28dRNe5PyZYUR1q2MTI+t/s/V0XF8R+vb9t7Zs3WrBJgYDFLKAac6es2DlFdeqEEvi9mP7DhXzGQvBIMgQeK63u3fZxcu2bN529OiRP/3pzxhmeT3+337bVN9QRVFsZ2dnQ13NvffcEfKHb77p2q6eUy4niVqIpsoOO1MVq8lm0pKkUAQJIFiVFVmWS1zx6JGTu3cd2X9o69mOE0CW1fGxOGxAEKwbpqAB0sYyLU1RgkT9fu/XX39dUVOFB8OKoGqSrKpqPp+PVVQwdgcOzBsCzZRiFHSrWBQKo6NgIk+RhKzJKk2N9Yx4Fl4Sm9WedkWy9QsPHT0b9FSSI8n+g/sC7MT/PX0bgsiQZciiZpmqppkrV1659NIroqHKgcHzO755vTrEwJasSuXR4cHHHn34nbdf+/yzjz/++N+FXLGj4+TUGQ0up/35//v7l5+v3rb1N4EvY5jhYCNXXnGFy0GrqsUyLpctXFXZaGMdMDANUwWIZRhaMhkfGhwrFouDg/0AhgGBQohl+EkKRmHSQm0M2jM+NnfOFFjkJEmLhsKnOzu/3X6IJEmapmVZrq6q7u3tgYBx7bJFolDQ4wWIUG0InS/mGRMq58WGKsfSy6+FcHsiMfTN9tMDfH4wGHJevAjiIFFTL587262efemJSS+/9jQvpnALWAapygoBcTYguCP64e17V05xbl79+s8/ftTe3jSpvvmj//1v67adDofHgsinnnll6dJLThw5+/tbbubE+NVX3x0K20oF8cP/vT1v7spDR44pssiSpNfhxiBINyyGoCkAcGCRJE4wFIbhlqnCMLRo0cLm2hrggLBZ/gihSQ208/K6JlIxmisa9u49X1VTH4+PaqYRi0UJHDctC8dxAIOx4YSuQEF/xZ6O4YUvPyE7mer6phPZoZyLcNWGKkPukULG6w3OmDqfoei2eRebqcw1F180OJGCW5roaPuVq+7r6R4vxIcvm7rw5Yf/+MuPryKgyFLa3XfftnXzV0/96fmhiURWghAmtGju8m++/HDjrtWPPfFAIjn6+BOPSGLJ0IWVK5f+44135s9bJAilQMA5nhxHUHvEH2huqaqpmEKQBmQW+gbOYSyOoigEDH/IR9M0Q5E4BNlIyu/y/PzzT19+/U2CF4FGYxZLlBkwKhfyphiMOOsbQud6zxkAQQAkKZKhGwRBkARuWVZTc5OuF7hSophPUij6h3efic12oWx+DNLzGf2WK+4Iyk6xr+/LLz4IttTU1AWrrlwVbWy+5493GAxT09oCL56vphVvoAY1mymxeMsly/mJ4shgx8Htaync3Lju5xXLpl+1eDZfLDGQWsqeqo3gNtb195ef2rrll+f/79lLLrqawhyvvfYyV1AP7D+QLxYVg29umfzEk8/HgnXpbJ+mmH/60x/7Ozsn1TZbKsBRTNVlwzJiFTUAgoCpGYoqlLiFF8y88sqbnn70Ibi2oZK22/Jl3omRUJbHaqu8qLFy2dL/fvY9BGtudxDAlmEYJmQpihKNRhfPX7hj++6hoZHKypCgyJpYWDpv3vHhvlWXLHU6fCGI/PDtv11wzzNLZ13Y/evfenh7NIT7Q97DQ6Ptkdq+3T1CKVk9q03ElZbgJK4QV1jxv6t3N0Q99oA7OZAYjCcmVdVXhQ27MyTBoqAkVt7y2DvvvX/FisuPnz51+52PZrLc2XPHF8xbls2Pnuk91tY0S1XlcsHIToz3xHdevfwPidFRVC3ZMJeKg+O9Qw6HCzKtiL/G1Mo6UHUFxlAsLydSSebA0TVAlyQbyeIWEfT6n5x3ia7I5871HTjREQwHLAiJVUYRC4YIhqLYpsYWHEU7e86Mp/I2J+sgmIjf6w5H1m/dO9Q9+NkXq79f/d39f3vuT2+9BZCsrueKvpqh/vNMRbg3XaJ1g7RD066qJ6uJ+NDpifRwiAVph89QS9fceNektsC1111fWx9rDvhqmmrWbz+USI8LEqTqWq5vc5vHPH/oPIbwqUT5wJFfpk9rLXDxckk2IR42ddhkcZTy+GN957PFbMrmCMgaBrM4bWgOFjNM3ck47Xais6t3fCxR4vKZdCZbKMfTY9XROnBVy2ycwD20XSsKliL4vNGKSOXJU2c4jsMJoiZakckUPIzb6XA0NTewrC2VzF53w6ppM5v5VMZUDRxHi7pkyPaMRHaP5CmYven6u1rqJr34lzuHRs/e/+idFGq1TqqN1URPd3WPlXIirS28evEVl8x0B9nhvr7xQqompidS/PmB7ioPsaA5OpTphgi0f7Afs6PJuHRk3+H2STWWNBrzR2IBNhKAN27ZsHvfhsbmGlnlFUXTDUszVAuCfO56l9MLQYbb6RHK5TLPu9xuDCHzQm4ilyAddDhSr2imzeV47OH7BkfodJEDTkA4EFIWxEyZy7lZirLuu+36kMdfb/fDpnXo+FEUQdraJ+EEcrajIxKMuN2e3zb8EgpGYBeN0lQ+VfBGw27C8fMn/9v4/v8wFx0KuWsqw6ogpM6N/++lf+1du/3L994ixeKVF82wY+TUyTMIu8PhQRxtAY/bcenFSwhcrm2sOHn8sF4uoELB0rjWqmZCNkkLDwc8rU2TTdTwRHC/G3rz70/v3rTr1muWx8fOffjhf4vFgmFgpoFAAKIY2ucJHTi4X9WM0ZER2UQh2gMQ3O/3HTlypK9vwDQBQSKBcNAAKIbgRSs9c8p0+KJp03hVHlM1Fjb9FlQiDBrBOV6dFqw+nR2iPC48Lik0MXNqY1pSYqGA2+fq7Owul6WGprqV7bO+XbdedeL3X32naeSP/rTtu86jkiZ6fMHi6ERVNORlcZtOQAbH6jrtpvrGBi//3aJpSxZJainaMGPz+t5qv6ia6vj4hM0ZOrBlvVvWjeoKTXM7pLw7FpmYOKMrRU9NRFKFtvrWA0fyqXS+sTVQ39JAumb9uPmdq5c8K5qGqQqaaqz/ZW1m/Pw9f3zS78Cnz1usQ9aTTz0ya9a8aCCGEfgvP6y76/474mPj4/nsLTf+7mROO/bDB6gHQe/83TXf/7J+OBu/a9ayt0/tYSoDwSCZKBQD0eDo8JiLtefLmZaRwNyF8zcNdsRHhqZMm9HbN3ju1GlG0MYmRqEy8uJfn0Fx5bv3Pr1t4saffvoATJ72yn/+M6YAy0GkNVWRtWw6PlWNsUz4t19P7Nh1JlUaf/GDD10BO8qiheE+J+3oPX+qsbm90uWNF/IyExo5FSdgLCuhANL8KEXDXMfp85kiunT5ZafP7T++//B3Wz5ecVM7DAEYUWAYRTEwddqM85bAsmRBkj55/8tQI+UKOOPjQwxKN7Y1ZdPj//nwfcxCD3efSSVHV9z8yNnj3ehUi+JS6VnT22rjvu8HT9rd7lnT2nfu3y0pOmaC6liFDGgH4mxDaNiyyiPJhF4GQ3111ZUypm3r6Xzm2pt+2LTGv3DGJSxhnj5dklU/xK+8fnleVK5Ydls8Nbr917UHj+xTEDphsycmxmmM8OE2QGAvPfu3p5/9y/erv6Bxq66uduEF01OZYt/ACKySmpUHrrCNJAxJIVmCgChHMLhv787atmU4jigy4Hiuuq6myBcQxEQNS9AUBEGbWial4j2wJXKi1FDX4otK3cN9DoRBEXDowD5dU1/664sff/r5AxddfN1lF06dd2VVFIDDev7bvYe/PHR0bzqRxVDcNPb/tiY10oNYsMDzoigGXR6XzZMsFfy1QQ7IsInyqWy6oxPuT7a3NP1vzVfTmqcfPX5iz7lziqhgNFMq5CWpcN/td738wMtLLrjg2Rde+ejtDy5snhHy2EVVLJRL3YmEiNsn8qasa93xTO+wsWHr6Q8++u2HNZsKKb5xUjtLoW/989MjB0+wTITEYxpvckUp4A/aKSYxNjKRGq9sqLUgUNPQ8vqbr2CIUltXqRuioolTZ806dGA/wJC1m79dt2X7hl9/i6eSp050RIIxGEIJFO84e9rv9c6aPz8QYUwDAnEEv+zC+aam2J1OURBaa6ctbZ911113OFAAmwhC2oeGzrXVN5Zj7p87TtVV1liWbMjqHED8vmbKYm9rY9uU9Ud34boo2F02xoujsMPpy6QLeV5+/923obx2YNNGqj5wa/u8dsN2SaztwnBliGAm0qls1np/9TpZhs+OjCeSYkdfoSyyh0aGvlu/YevOw7+/dVlFLKKpmimx4+P8YJdaWddOIbqkIRJnyYbldrFcoTAxwb36xusbdmzuPH1y64YNKkweOnF0+5Yds+fOOts9+OiDz/SPDducNgABt5PqHuotaInO8yeb2hvsdpmHRbBwweJDZ89pGswVS26ny+PD3SGHLhZShUS9MzQxHmcYRlYzX2WHs7I63N+P4QRXLjMSWkWRHpO4tGLWnVfc1FbbatFOvcKVGzlLopDKFz/6/M18UF57aNOKG66mve7Wy5dc2VLz5i13XDZvyYPtFzR5InbWcfRkVyYL+UKx1inNd9y+8thA6czZREfXxIx5Uxrap23Yf2zrwW0GrMM4QhCB/BDa11EcTyfKmlQqxG2sq/Nk/+T5rSqMb99zIJsdaGgOv/Xm36oronf/4T7GRtc11nR39cEw7In4P/nqUyrgffvztwmc2rJ5643X3js8BMsojwJIPzs24PPHuFI2FAl1pZIsZlqIQdttCMCcGBBU61jHzkhly/kzHbKDxHmDJ6xPk+efRFHMXWFRtlbId1RU+0d7Xh19/bELF47CMA4gQRq77fJL/vvDF3c98uDjzz1RVR35/McNyyf11WCwnXRv6zpbffGlveWxyVXhnzefKGfzDq/3D0887C4OnRk75XIxBzsSOZ2+5b6/rfn6fcIgZLk0c1aziji+/2Gtj3SbuhmtCXuYpoNnjtoQvKl+jsut/fTb14FYUNWNb3/67uyxIzkpo+XRV979a2fHoNtP/bD520UrW8kccMW8A+JmHj0ZKreD48cPC5ACo7DL57O7XRRhLVw0D6hyJpVzRAP1YW9JUCurImOD/RyfR1SraGiIpHEknvHaay+ddT7Tf8RMd5cmCnKRqApxGOVw+xLpjIooTgfzxjPPfvjPf1XB7JzWKQtff/5rmXth496P9m+NhkIzakNzJgV+f+3U1195/JGnHtpz+MA77z4fccgXLl5y4uj5RObc889cyOc6H3x0zo1/WLbs6pUnjnUgBvSPV5/0Bj3ZhMSwMg57gQVcrISRVrKQXXbFMsXUc0X+5OlT6Ww6EPTdffc9PT09kWBk2bJFt9x5DeyWzo93rrhj1eHOsxV1MV7pgisqwz5vUNPU1sltuWy8WMhrvBTwsASNDYwWrr/u6m9/+rWioqLzyPHLV6043dvX0FB/6ugJnPGwKICy0o233NzujkgW99AX/549fVq8p0Muq5lSljOsxuYWKCGZIjzCpRRdCVRUL2yozBaGe9LFgcHhv9x3pem2Llw81+4w7VRUUx0KQo6cOig70Xdf+6Egl9771yPJ3oM6ogS9C88d7diz5aQg6Y++8uj2zQc3/bJl/ux2HqCxyspjHaf9VW2xaKC39xhJVUQxaIjL7d13QJXwFStuTUx0hF0eTeXoCLJoxfQ/XvfXuvq2Gx6c33Zx3V8v+xQQOMMwdhvrxjESMqjF8y6rC1detGT+4Ng4zrK7DuzTNL22pqmivnrLvp2WZcCmgmHAMtWyobz93ScVMxsrLmyDq524qZ84fa4nWcyqSA5CXnriGXGCr/XVvPD4Y++9+srA0eOH9m+9bsWcF1994KnfX/rj6i/O95f2bxp/9tmf7r/j64ce/BB32VHcHvL5MpkMaWOLeYFC2NGhHp+nUoZQhi3Nn9rgc1AD3Qc9FNdUGzZ0edPWbYPD4yO9E/OmTus8s2flpcs9NrqpueHsuVOTJ7U3NtafPLmdsrlhlM6mczPbFn2/7ofnv77PX+uavNKnk9yslUtQ09Qty2BYBscRhsVy8bFJtWFY5bO5NGvYVEmFIeTosYOmKje2Nefi2f2HjjKEXYc4WIQefOi+UjmdjSemTJtO21gLxp976pXJLa2xGt/GNV/O8oavvfqqNQc2fPjDV2/+3/8tXnWZ08HokPL91u0afHqh22y88qJYc21VtXl4p3jdDfc+8NjrUQvUhKLeQNyWKQT8sfmLZwk65XX4jsXHKMkFEMjQ84qiXH/NtQf273zsiScOHe64ZMWMvuHzLW3Tn376xeef+Wtn73mxyBXw+JIlS39Z963KheL5ZKyh6beTPy7/U9uhzQfCTS5Z83ccHaxZlQDBmF9Qy+3TpyhAl4t8/9jh73fvgBi/0xlxu902llU12TQN3M1IJTk+OqYUCk6ng6JsgKFIGIMtzB8JTZ40f3ioqKny7v1b77n9lr8993xt0xSJhp741wsm5V66/Na9Bw889deXn/9o7f0vrN5zaOSJR++1SQJis9lwC8Vc0SD7r1cfm7TkwtFEUeKpKTPniOUSzthhPcfY3CSOEF53pL5ZhwSE9MCE+9vPvtc5QdKUxjr3pKmTeS0LOaP3//Wdr3/8+vCRE2E3Uxmq2b53G8vSCG3gFCapxeyEeOj7wa0fdT90xaP7fvz24MGNo1sRQBIOVQEUYcdVK5VI5jXSE2zctOMwBFm6rttstkAgUCqVZE7yuZ1vPf2cDlAVNf2SaolKnuNsDieBkTt3bezuOWlZZplXXAHfpi2HX3n9o80Hz57rjf/4ww+nd647c7Z3TqXXMXHa4/W0NEdSmZIsSBWYsWHdnvQQXzG1jvIUj/z4MmGMN7W1Dw4MypKxcfPWspBODp/NlMYBAfGSAFlsV7c8q2VWRjeLOsZilsbz6fhEKOwrY0akgpHV0h8fvM/hjQzkMrObW1HAxCIsTbrLxYKVsw3uU5pdF7z84Vs/bzwQdNR//skaePKUqQ6b/6qrLtu6cwMxnBMYg0HwSy+bv37P4fFkCTYNBMNQFHb7fOXhHhdsW3DhhVv27LowUPHzSJ/FMgxFWJaqyqLX7+c4DgAEx8lkvGwaUtfOrsLRDvsMTzkxbgvXrHnj5sUNgRd+PYPEwgoaFMfGHnzoaiEztnHtsT1doyaMLlwwb+fOL13hpvq2mZ2d53EYvnyR3TAcFy69vLfrBDDwQwdO9nPl0TFrxuQWm5qsmTvZKE0kyoX2i1ccSSvSYFxIZn+35Kq16z4/PpKbW+XMioxi9lS6p53p3NfaOF8sZ2jU2XCRe932bTOmT3fRlYBlkBnT2vlyusVfqxsoJkNTG1oYBpuYmDBNk6bpqqpKiqILonjZvAU5U+YSY6xuiQypKKKmqKaiCWXF5QwUiwUYNnVD7usdHB7s3rrhq19effetL/8px09bLhdK6BetuBiN+K+cPOOGC2rffvqBXDr1ny822p01Tz52m2RpCy5aufqHHxYvX/buf/4tSSVVlWVF/Od7J3/Z0HXH3S8/8cwXFyy7pbN76NJLF16xauEf7rin8fKbYbpeVcG0WVNFmWdxdOXKC02gPvHMH31OyoYStTPb66bOURDLY3O3T1lMu8x0mttzdFfhFB5VWx+49sVP3l0NEMTe0jINhpDDvSc1SK7EHSGclAxY0YiqioqmlmZ/wF1dUymm8525cn2sKTOWqPKGtx3cX+FyUShuoMC0QKFU9rpCkq7iGrk8XD/UcY6gyyksf83ty7fu3VNS8xu+f4+BLV0opkVeRABXmKisoHA2vHbTyY27Dj/5p9+vWHnJwS//8eKL78XPJU1DZ0iGZPAdux6/+655N18+rSJa++hj1zdXBmgtUR/QR0c2DObIUSn05fc71645XG0PzY81apkyrGQmTZ6qF2CnVylNAJe7gkHxQr7o8cZ0GXg9nvrG6X25DIzoN16zom36NIChWCoTHxkdKoslD0EYEkfS5DPPvWNZxvDwiMvpaW2bpKiKCsyMwN16x014WTft7KN33Hn7/IUszYiCyjIUBEOJVMrvjhY4tSItHTq+lyLE+9+8e/KKKav+fGeoEr3krpvR2QuRC6+/4qUHA3WNfRODN/3pusUL3AWquKMrNTKSMEul3NAZmUupSc3rCqAEOmX2olIusWTpRcEaePlNi1etnGwjaFMTAFruOrWzWMioMIl6qNnzJg/2Zx/+46OfffDfTCKbyGRxFESjgUOn9+385Rs+lbZRcNBlKxaKklJ2O5nR4YFFl1/KaxZfKKIcx3N8luc5xVAVzIRMc/Vv66pbakRBbW9vLxa5xPgwg6OQpo+PJ7/48ks3SfaNjN+6YunRn9cKhgJgy8Ni6bwIcDY5kYZJMxlw3NI6RzHit/7ujnyJc4RqWBfDjw0agoTiFAVpPMzBKoUTrGmIz7/43Lv/er8/J01WudqaMCDY1raWtZ0baZp2+8zXv9j4wrOTo9HQ0f0D85sqB8gcwQBJxGTcBRV7aRq6+Y7rZL2QymfufPrBIxu3FUvyvCuvoEaHiun01Zf/DnZEdq0vxIvFoX37U9kRTdIzGT7gDa77eU1TSxNkAVDXUAUQ6HzPWdwiOBIXLGvuotnpXNHtdqOoJcvy8f7TVSxhaaqsqI1NzTAN2lpbyqaMCiIBQwxN1jQ2NLlZRVJNyqII9pRVOD3QwUkK5fb7qmpSJcUTqU+UoRSE9mbLo4KmyRSGECosTq31BIj4yw9dTeljW7bvhA27JZmaVjIhSOBKloju3z7Ep8Y0YQIDMAR0y9QVWRPzKoHj5bFD+b7fTI1BVUxWuXQxbQCFBHans1LWdChnCmp5IlewsZX+SJNiKh53oLq2xTRNQ9UsRVVKJUs3AIoilmUaukXjzPjEmIAB0YRIkm5pabYgSxB4zIILyTyKkSiBMy7PRCHf09cXDVdM0ASFEbKlFMeLddU1Hh/kQ924YVXEKv736Sc9PSM4SdIk0uAnkr0n/A6ShRi9rFkaZCCUiQO3nzR1BYNwVcnedfP1kqR+tf2kYIgKBA/39aE0e67jVDRU7QgETNWiCBJYkK6Jiso7A4LTDVXXRHHK/Hn9NknDAUBLomBn7AABxXIKAbCbZS1VgAFKUO6x4WGXw0OR9vGxhN3uyOdKpKW7ScKNMIAmibHRIchATc0iSCoHaSe7em12R21ttSyrFqRjKLmv57ysGgLPVTTUIgQlI4agG12a6NcAakK017fsxt9HwligqtKgQF/vQL7Avf3ex6lM+sSRI2ePnE2P5t2M37JgmAIFSSD4QgUhPfXgKtjkyoWSURhFdfmFpx7o6unQ8xpD02022uQVWZZ5AbCeiNtNVkQ9BgShKOlyLFSlKsisEGQgytKUKbMJ1E0B3E2TQoFjCFAbcXf291IMhcpKlAEQl3Da4JDPPzw0DsMAABCNhucvuQpQfg0j0Hg83nn+DIApXS1RNCUroikr9dMnO12sx+NV1DKXTcoIYmcpyAJffP5xFWPLWcKB/nMLLedJhJdE6OT5Ew/Af5xLRVYPdFEYo6uSBYF4vKg6EBvlW37LbbopbfntF0q1UD7nJAjKZMMA8YJsddCGMQShUkDk/TT39ut//cNzj7373++WXzx1/5cbUREVlbxYRIHFSCWcJ1kTYd/54EO701bTOO3hx1/uOrOFcbemhs8RZamupSV/rkcpS/984W84Am669uY9+3aLYzIJ66n06EBfn64pslqGYSaXyZU25RVRap0zHy0UsxSNGRpKUCjH5wN+T3EkBUmSqqvFouBwYxIK7KLpDpJdkpnnshcQoe5iZu0334QFqmr+lNMDvWqBp2hsaWjGN6fPZfgSRlKGWp47Y/7I2PFL25f+9MVniK820zcyZ05ra9MiBS1WeoOrpjfIBMbYWAgxeg2nP9Co2FSEYt945tU/PHi7y8eSNG6aFCCK99z7f1w6o+mogYJ7L124+OIAzWIWSQk8/OxfXqtpmsaJY3MaWnefOKeIvItlr771rvWff85zGVe0Ylr70pNbPrcMzTJMGFb+8eqb//z7m801FToM0xFDsTSUJElNNRia4PmSoeuVFltXw+C0E0UxVZMVmeDK5SmBcL3LPZY+i3srWa/fC5Xf+McX6197U/UR5lkOxpGu+JAmj82d1HxwcLyUkQmcOnbktMnKh88c//eTLx5IZnYKCR9qTllxRcf5NSXF8rjdZmbMTuIaQbz4ws+Ug5lIEKye+svv64d6UmHCdeXU+b8eP1tX25yIj6CYG0Fof61NQ9TGuogoyfXttM2mTZtXJ5lqc32tUCh6Y3XZwT5P0Ffb3nzRsgt0SKYt5fzYIE4wNGKHKGBo5itvvq2j8vRKdy5V1jFY0zWgahoAGI4jkGXZGJZHFAEqapqayxUAsIpFzk5Qj7358taBnngpn9OkxQ/dKjDGEJ+68MUnr/zzgwzBYjT6j/fe+vD82eb5C2FZh2HLskyKZsO+6pF86dnXH/7ijWf+et+NswRo1dxF8OHxWgtDASrBmI2lMz0Dyzz6I3fO2733ocevb60VB5656yoHl1vcUg9Z1pQpU2iWjYWkubNxBEAAGCxD+rwsMPNOB8HaScMq+ANOnALHjh6WZbFYKkAwjFiaDhkeBynlUn6f32Gjo8FYdaRp5eK5l1+yLNLc1jBlVs/wCC6VUa/HXSqWkqkEgJDqmpppS2ZEaKtUwAVVtCzdNKG0Lq288WbU4cAJyskSF119k9dpe/zhFy2A8OUMgdsUqOx3BOPnxk5U9RkIYnegPKeQKF5MlAyEPCGP//elVyui0QmfKweVCkUNEDpJ0kLashQNYZAcnp01q94sfrn0qqXDv4xGMH3+DTfmYIYiML/fi+HorCX+5nac2FXNolIqEZ88pQGyYMsADGHjSwOCWKYpsrmuqpBKX3rJUklVmmrreJn7/pPP/I0X0VEH1TzfGh6ZzRhB02yun7p7aOTjH37EQTnLpdFYLDowMARgDEYgXhDW/vdHykXNX7BQ5AumqSqKgfFQUdEmOexyqcyNJUgGcXuc6SynySKmGaaXxiwSoFZza3T7rl0L5szs6DiNIIgsSziBhnzuXHYiCZDRZNrnCexZs7WM6aZLtVxYrivDF1IGDB5fvU0YP1EqyRF7yY2jIpS1Ue6OgSHdkrq6eiRZ3rFFWbbyap3dRRLV0dp6WBNkU5NEIVZRl5TT8Yl8EMZrwg1dhUJitNuE2f+888Hp06eigbovv9n495fe+e3woSlXrYLyuUwp1RlPrN+53um05ZOJsZ4UkBUBAARBcMi0Muk0J+npVLa/vzuVToqioMqSB6NrGIdUEuvrGikcj3hiMaetCsIvmzO71uMEmgYhKJBlJ2fObW7oOtdJkgRB4JouQxDEceXGqqb923bs2X2QcTnamqfF3C6cMz/95ksnTdc1No2NpzRJtmSBhe2qKSEUiRvlEsfn+3pQAPr7+50uZ107Hx/tj/las6pUyA0pguoNVDndhBOACicLF9XW1tYSz6WTmd07j8gy1bp46cRo3EqVHrn9Lp3Lnj26uSebydsRuqblv59/48JQG4kYkJmVimgykQUANi3FNAy+xJGUHbdUTeIYb7jElz2uwOBA/9I5020Etb3jlKFpKiROrr1oMLFtfmMDXirIqUxclRELa7aFzCpGsZDB8WGWpSHI1DXTMAzWZx9LDr//9Hsf//kRv0ZUtc+Tsmeal82xCnw5nXVhuJwcclCKpJoWhCqWRehCspCdGBvQFCrPFWgHOdAtO2+Ij6xLV8fC6cHAT2eO9vcddtEbL714ybpfTuG4XVEPGjgBMAZn7ae7e+2Uw+5243bPpTdeXSxOXHfVVWWiIjG876IFVzEsxRBQvigjMD65pRpomq6pKgwBDCdsNgY3LVOFK51sOBRzONwGpJTE8unhofbpdarA230ezbDkIh9z+9LxMUYDNkWhHGxBEUWxYEPI8fFBV9CHWTiK0BRD6ro+ODDe1tb++8cevmbVyjW//ICh2PSm+ZO9NWO9p4pwAbURTjcGZwVIhU1xLKkAAcUtS62ff4WPxVGMlIq8zTGtnIxMaW6pjFT8tnX7g49e88a7/wrbGd5UQ9Ga5mnTBE2FVAMyTRLHHaSTQskf1m7YfuhEupwjSBttdxCmsXndXl1T7R5aBCpG4LFIOFpbCVRVZVkWRdHJU9tUVTM0EYbVmMcNEODz+UVBdjhoGcDdo0kDQsYTCdjQVF2yTAMBkKzybgejK6qkqU6bizLQGGwbP9dXlkTKQbMsK4oiSWCnTp2OF4rfHT/ZVNdAhRxbd+755H+fCgWYwX2iAHX1JRFDltGARLU4QxcBUZZFcODE/tHeHpIkFchMTnB/eeyr9z/e+MPXn77+7+f9fqJ/ZKsJiYSNgDGLcRAIgUEANmhGhsyykuwe7n7rtXdctkCQtb38yhuGhD78p0e7O0eXr1wllJNAJWncTHLF1tnzgaZpgiiaptnd2TWnqb7O42ZQBJJVXTMoilZVtbamVtbkf372DUrSmq4bhjGWSqimTuKkbihV0ShswboFlXVJNXVM1d2Atgwtk04Gg/7m5sayVDZNCKUdO4aGdh45+s3PPw+MjB4/1bvxzMCXv+3uz3JyGdp36Nz77+1IlqQedSgwf16SpWZeeWdlNIwhSCxWCbCyN2rffHRXwA0MUMkQiK5LACEQFAmHg7lcMhgM6rruIdA6f3h2SzNTzEyd3tIVP7992yZREikWu+HWy774/kuXK2RAqKjrfTlk8qInvvq2BFRVlSRJ0zRLMWbX1hGKiZiQaUB+f8Dt8nh9gVAwaqiSYqH+UAgnSd2A0hzv8HilsopiBGLBJE6ohkHKCiqJ7RWVDEYhFjSltW3Xrh2ZdEZDYV3TuaKYLHE1k5u5nEDVTRk2He7py9ovuYkItG480EO1Xomxdfu27+3POmcs/8eP24988OEHk6a0WaYW8QdhYC69Zs5YKV5TzcqmBcEFQzM0ozDaP0rhJF8qEghqavpDD97WN9j31Y9roHDo0SdeWDB9/g8/r3F4bJpJVjc2Z0vq6HC8rmV+oD6y7LLLRKlbKHyOqqr6/2OIDKCASQa8TjklQ4Yky8n4eFHXjZ7e87ppNjVU9gz0MwwrWYJiWk6C4mUJIXAMmDxXphlgoxkGoONcnobQUmZ0HM4tuvii9HAaL2QoGwPBUFlATo/FPXb25MRwXhV/3rKJwEmP11Xiips2bCG9NNmpjhXPN0yque2Guw7176xiCOOUFQ76+0YHNFV0KIyC5HleUe2WyguEq1FVsVCgenCiq1Aoqar11j8+vuGuO69ZcZ1m6Yaq14aDBzYJx0fHxEKhPlJ36uyZh597/MM3Xsqkx557qe3kkd00ZQIAgK7rra2tAYBBkEmilmHqulQscaloLFxRGZJl0dB1ikARCBI5niBwTpdMAhAwpGsqRaEojmAEApVFwrQsTdE1zQGQZVMbOk7u8Qe9Dgfr9tgURQIWgBSzVCxlsznTgCCM1VBtIitmCxovmRInYyTT4I/edsXi2ZfMuOu+WxigBB3kQP8gZNJbNx1DKIOhXJJcYignbfcOJVIAQRkbq6jy6PCwDhGecONzjz1nCvz5wycwkozEqlmWPbh1Z6xtKk0Srz739Mf/fu2m26+ZfeHMTz77NF/IwRAKVFUFAPT29jU7vaLAkyiGYwRuWf2DvS6nN5vLej1hp9MdYmwunHA5XTgETABDAGYQOOT34gSu65CPsrlRnIQgFIZpFqFZdnJLzcP3PHjm2Onp06cPD4+6XC6AoAgMIABMC0JxXNQVVdL18hhSHqpgoKhuOlEhgsEOJ/7JR5/kuJKhSYpQFjVYEnWRY0wDh1T54M59//2ga9vWzkmTG01IHxjqhgDk8wZhggQM3drQsOazz7dt3cupZue58XKJ+/NDDzzy6LP33nf37269vqEusmnrhvjwCGKZuAXxhRxKU1SxyBuSCJMCY8GmDMOG6rS5a3BtYGhA4GSekxsaq0ujWW+pHGdgC2CyWCCcdr9IcCXFa+I6YjkYe1DEAISrpgwgsPTy6Sk++/6/P6qbdcm6tRsrGmqBaliWZUKopWooZlqWheoI7vLEAvDk9nlLEH3r9u62m27IHR1IJdIHj3UsXjFTgeAH7r797x99h8ECRrmBAuzOYHx3brTYC+gQYo74glWDE+fDvqrxoRzthcZH+8RsyeuAy2RgzcffN03y/PjLujFJLHClBTPmnzl9IJWcUGQNRQnYUMqCXFNVD2RZZVg6VlHpQBhDMVmalCVVN3Ubw+ayyfb2RoJEAgFvWSw6fQ5TVnRTVwCMqjqwND+Fud0UbEAwa50O58hLqv68+qX737x2ypKLYpMW1U5qUMcL81qachMJvixhGGZaumHoqqqbJmShSD6baQqHysMTug6BgsyVioYmIclUQRJynOZk2FkzpkhSWRBEy4I///jtPXtRhEn/6aEbSRIri1SJL6uaHI4FDUt66sHb33n2aVER+g+cntpWOxHvfv7/njg/OmZjXW6Hr39goMwXVUWDYSBJUiqVb22ZMjqSACiKOp12hrY5SbuhGDhsmjCkG6rC8zaGcTgcbpcTwwgpW6AUbWVNPUVaLGM/MzhqYVjZhV3w1P0Ohp48tf3Kl/7Ou6OnB7mrrvjLP//+3ZlD58M2Rs7n82PjQY9bUSTdVC3LgGHI0CFDtxRNxVBscsskFMXWb9qLWLKVmGAqKlzpkVRfupjJEYStVMwxOO3xeHTN6O4+8ODjV5aE8mef/4ahQDLyBmwCBCTicQS25s6YVl1fDfzOw6dOq4IVCkYYMjh1/sJivkDhFEFThVzG0ExV1kaH45Wx2tOnOwFAUUVRHS4WUhBP0KvKkq5KFkAAAjAAJeLpmupWDCcz6aJiIZSdcWlisTCCIOF1qTNXPXKbE5O37NnH87nTe86t+3arolsoRFZVxmBVEfgxl4uopVmtJjDCFygKqCrQFNWCTATBYRggsGkA5HDPUKpv6M8zGwupssdus19363ji3GXL61tmL84d3fbjml/UsjJtztSOjg7KwQyc2aOVGSTAht1RbcQQlBKCoOND47oEIXS0yOlfvP/xu/fererl73/+onXS5LPnz7g9dlMzBFlFLcSyLFGU6uvqFUUFMCRJAgpBJoQSXhNgqM7IKEWwhiLjAEVUoSFS2XW+v7PnZEWsVpTN2//6x0wm/2hpwVuvrfZEY6++80HYFz7T2U0TbOf5bgdLuUhHoTgul0TI5SlmCtEwTLjtvbyG8xPVle1dvQMQrOmmiViGYZgogaGIufnwuQpLzBQEux0SYDPiisHLb7m3ssaCwm0XPvjWp9dHgqypK5pqRX0eC8UpGy4IBo8XHE5WMDIwDLHu4MwV048Md5EQMjg4VgT4q/94LRCLdvd0BX2+dCapqSYMTA0y8wXe7/byhRICcMDADGEHiqpKoqRKyvD5Pk4oy5Bud9CYnSRZuqLKly6MmqaZyaQUAkwYxA/7Oh999m0Nhg1LDYeqtmzecemlyzEY9uFEmStNba6uCtpptchYBqMDu6rTZTHoQi8OO1uNHIGhGKBwjEZRHIIAgdGqZukA75GwQRPCAq5Yc9vqzz45191nJ5m9635b+926O29/xBVwlkqcLKsDPUO8kHLZKFFUJyZSqmrohh6NxoqFwmNPPqcEmorOBtrp7CpzEI5MjI5QOC6KoqZpMGJompzPZUmclhQFJXETK1OGfyIxDhRFkQXBwTA+r51jjeoZtXc/cJtG0SVOdtrsgMDDoWihkJcl8a67Htm345gNZSgMtTMsx/FTpkz78aefW+sa6pzuaZHKaxcsBJxiZ4ABqS4H6w37xOSokJ1ACOL2q1eFvTQKAAwAABaCwASNEgQOG3A4VPdrvDTY2P7zsVFGS3ld+PZN35US54c7d506sn3x/N8V8gUAkInBEYYNDiUyJEUTJK6bCk7hVZVVqAWNHTpakSt99uSzrz30tBfHREGIhsIARwuFAgRBKALLslLiRQxDFFXXIVQx7eX0geXXPwMAAIVCqX1qa9tls3N+6LyQTkPagcExhnFv2rItHs9WxGIMw8IoAtGsCZnLZs/1sLaJ8fhofAyStMpIwInjbrsDEaUjP/3qoe0kRDOGaRWLJUtvmdcUaa4px2rSDmTGtDqAWAyFUQzG2glFFTCA2WiqoIuGt+av768bn0gQODF52pxp02droixyQqkwOjxwhucFAsdkRZtIICqC+PweVdcgRNd09dTJk5YsH9y/d/VX7yV6j5Y1xUB1r8ctymIilUAQxDQNSZRgi/X7/ABB7Pbg3ffc7wbk3/60ID6QBjRDWyaiwUpOVXedO//hp5tf/8e3fd0lRRAlRc+Mp890nHM73YZi6mme1FW7YbAYOqWpqVgsBlwhXRQIEz7T20PbWacFWAfl9YTmTm2FtHJBB920LGrqimuvGC+VQqFKC4F1QzZNVdPE5uZGXTMATmAIIsp6RU2DgQNZVLNF6cz53qJYxlykouM9PUMMxQrlImrz7TnSR1C0qkoESaEEwpfL+Vx+0bx5jCs8b/ZSBCd9LnvYH5BkOZvLIRas6UouV5yYKBhwuVjWHnj0hktXXDASz6CIw04yxfxplCYpXVM//nR1I+QYhnnCZodgSOKKKFJtp5iYF6VRamRoJBKIsjgnyXxR4W1e79EzR1nauafjKAFraCPO0nTI54HLkI2mTARUBe25BOSINIxzfVYe2r3/8Jerf41U1AMUhi3cbqMESUglsxgOFFlBMKRcLuMk2jk4rElqSQITyQEVaLCF9wyP6ZbJ0KTP5+PEYlPrpCPHTmiaarOx2eK4YUAAID09/dt2H/dVVPr9XkEQBIEvCxyGo6aic1yRJsmgJzL/4mbTql3zfef0BVS6dG7B8gu+2vztNKIOKJKkaQbD2hsw51dv/xNBkLpAqJZkcAK4HUxNNNgQrQMYTsDQwoVzgWb4bE5DMKK+0Kypk1AX0VBbZ0hqS32dCax8kXMSZMRJ4YYEmTiwLAu2cap+7my2rmVqURQpCjdUSBUNXQOxWCUMQxiGAchy2p2FQlHWrbFc4fiZI2Px8Xxe7O2OS5Isy2VFUerq6hCA1NZUQ7rK86Xq6ioEgb2eIAwhrM0RqY0xbqRQyBmGxnFFFAWiWC6WCpKsBX2+e++8YlrzpfPnzH78sftvvvLlltgtf3nm/9747szD//0aDYWiyfi4pCHz/bFDW44Dw3TjBKNbLE1lCjpkKTTiIhGgIno6nqyPRV2GqYb9kyumf7vpp2p/MK6VAwoIBKoQuUDb4TKi2BDD0jQIB2K2MDhYtHSzyA9ZMIRhRD6VN1EThQlI0/PJwrSZc3s6zymSZGoKQZJFngcwjMGwy2HPFTkMQmHDpCgWQ3FT0wxZVSQ1ky3aHNShwwdpWquJVJ0t9PGQJemqxmsAJUfHxhiGKQsShqAOm9ugDK8LFfLJTz/a4Ag3+IK+WDRWH6v6Ye0BkqJCHidaEssYBCAEoxCgWSZsmAyKY4oBAOZ02Fmv6+xgwu12TQwMY4aNVExN0XVcMXWZxIhQKNJ77CgbjWIqZFOgIT1XYZB+D4viFs3YdElBYWBzO7r7eqtra3hBKXEcwCEaQSkCRgkWBag34EnGE4qs6ACiGErSVQQjcpk0TtIqJBS41EXTl4Yrw7+u/9WwjIGBPo/XpSgSz+ctgHafPy+LykRcnDxjBl/iOvvOoiiqKEoqkXCwdtNQ64MRs1hwMbbmBv9Qtr8wMTbUtesojJRlCUEQy4LR0eHhaeGqUrkkFXIlORCORHKZzCTWIYmKqmmcUL7z/j+v+/GfUqZAcKpq6SKOkE46FPYJpVI+V8IJVDIsA4fdEIsGYpgTCaKSw0nTCJiQOafTxXHcpMmTOJ6HDHPGzJkT48OGqQDDWDjXl4hzJRiPRKOFXD5XLMAWpJumx+NZuuhyTVXd4RAOYFPXOnvGDQWnSOTsubOSLNgYlmRwE+gCL3sDvmQmMTw8AEwExzFFUdOZjNvu1BQlFAz3DgwvntFoaaSpW6l4RtU1A4ZIBOUlkaVoTReB2+VEVQNIKmqZumVmi/l8oagbhiKrKIqeOH4Sh7F0LiuoCmpCNofDkHXKgAq9/ZZh8jxfW1eTLBVNmkRJzl5IJ9R8ze9WEjNrvfNaCgIniiIEQelU2jCMTDozOj7GkpRlQXaGSffIRk7PxfsN05Rl2cayEl/GANLb19ff36+rqipgLsYddbuFYsbUpbLA53I5TVMkUTItAycJA4EK5eK8C+YxdnYiPgFBcLlcrq6qctpc0XCF3eacdMEiC2VyxTFfyBmOVoQ9PhrFvXYnjRMIBDOIC9idThi2UEUxTEQXBbtmZmFD48qmbiCo5STojz543uXyOr1+BTIhmjRIxIWiWtmsiETbJ7UDzRgtFnuHenMMdMl7j85atWhTZ2dcabz1qU8dNg8EgGZCuAHxmZwBLElULRhXOG1+bY1LT5t9xy5s8FCqghGkKBiBQEBXNRNFOnoGJzIl1un02D2WoWCoAaMIhhEoglMkoyiyrppBf9TSDIHnU/HUeM+Qocq5fKa2rjqVSgTCbowUSmKBS45QsOX2emCTuPzSS8ZG4zAENARx2F0er9/CDLRUKEQI1oWiLEBgTbM7HVChDEgM1jRRUCgYhJx+E0PKXAlF6NRwPFhfATQ5ly7SNnrDpo0kjZgo1QOn77nh4f+sWT95+rxHnn8x5tsQ9lfLkgYZqCqrqNMuSZyNtRs6rMmyOxBonTur79DR5og/kVcxrWSZNoeDkGQZhmGaoQtlfuq82RPJREsskCzzvCAoqsIyLIKhuq4TFGNoWj6dd9jcTS2Ne/fugy2gKsqCuQtOnz5ZGYuQBFIQFcxON8ea5Pio2xua4W78z5dfvPz6q5phSJJUKpXK5bLb7QY8z9tg4FNNHIL1soQBJGxzUzQFQ5YKW4ZhDHV0SvmSzWFTDd1GMZauiypf296CQxZC4rKqUjSr4/jGXede/ceXDz/yptvp/9vTj9b6SUuXUiN9DR736o8+eeOtD+qrajm+pEJ6qcyv/umHdGYsD0jIQidVVxVLYziGoygKQRBqQpqsvPuvf/qCAYplMALHKBIGoKq6xjQhFMVlSZdlPZfOUxh59OBRyLQwDL322hsP7D9IURSGI6JqxaobxoYmHPUV7qC/d3hgzS8/RTzu73/6bvWXn337/dc7dm49fOTAL2t/BiRB2hHKjWA6AwMc8MAiKAKTDGABCDIpiuJlaXjgDAQ0jYBwU8dh2YIVpw++4aaLMFj1VlYbkgBb0NrNu6oCvkxm7L4rr8uOjGdzQxgKXX71Kosr/PDfF89t366Nxm02m6brQDMcdr8BETmu5GNBKZOBIVAocn5fkGVoTVcdDkaR9Lf+8aqi8slsrr6+0eW0Ezih6DqKoZqmWybgy0IinYFgBIKgZcsuWfvrLwsWLAz6Q6qsCpyweePhmrqKMwePc7LqYRhZ4LhcVhB4FDNgyFQUGQATgkxAoJhhGMC0FK6s6qplmDhFkiQFwVCxyFE03lpXC8G4ycFOyE5S1EhZvOTOG2PTK22BgKjJuVwGJ8kyVy5kMx7W0RKIDOzcQdhou8XAvNy980BDxLl/99EHn7zDzSAugBKyWVlVkUwmXD7GAWmiUUJRZNnFS0ZGRoZHBmDYwhBU13WapqqrI7KmD/bHT5w44XQ6RVEsl3mSpHRd93jcDocDABjDEYpiNm7YhiJEd1+vqmsoQtjsVGNjVXdvj2EYsiIVudL0mTMwkrCxLEXaEQRHEIRhbDa7G2AQkCWJxSmAwDAMR8JhSVcN0zAMjSBIFLPsLhqjNNOedl/gvv1ff7rqkRsLgP7qg0333fsigrhpgi2VeZIgnCxjGpCDIBbUVOK4FWB9KmxMJCYIXaypqP75vTcEU4Zx6Pnnn40EQ4oOcdmyUVYRRRfLZZ+Tbm5qZlmbYRgAWDiG0AR+6tQpQVFlQbHRtnyRi8fHbDabZcI4gZMkKYmSpqnx8bhQLuM4gaI4RREwggaCYVXRCQx8+N8vx+PjDc3NsqYWeM4fCKi4LipFVctAkApZhiTygMRwGAAMABWxLGApimJzOAicIAjCMEyvz7lx1/q3P/jr44/8ueHyy7RA6w13/eXZx1/x8woGwQBVy1xWlCWXw4kiSCKXBzRuIaZYzJV5jqFonEC5YtnQyz0HzpUzfMTufvbPj4wPDkyaNqUrw50WRIvx0hTud9nDkfADD9zPsJTP5/X5PFyp1FDb/OY7bxeK+Ww6W1lRWeJLMAKVSiUYArlcTtd1gMCLFl8AwZamKZZlBMMhCIKEssTSvhlTZvf0JlZethKCTdZhS2Uz8VTi4683yTpDItTKlReXhTyJaoAgYBZFAIMiFG3KWswRVFVFpxBgGA4bGZ7X/OaHLx3cf3Y8oV919X3LLruyujqmMIRsqvWUm5Zh3EIZnJTLvM7lRYYIRiOpVFLHKUWULWDTEBMqm7KkiJoeIunGysrrLl8KOCGdKlSyituFIaQ9kytxguSxs8MDQ8lEVhQFSweWYV1yyUWlUgmhqZKo2hm7opZxjFBkxVBVVdUQlJgxY/rZM50EZsNxHDKM4b5BEsNJiph7wYx8Vpjo68qMJE+eOX/4YA9ACRxS773nd2VdFWG+n+fnLFnicLAAWDoAADER07QggOK0o1zieVKxexwWgLJJbseuc998v+3vb7zT2FxPIChswGY2b8jIlHAdA0hd01EUzeXyTTX1JIKu2bFDVqy0IsE6HI1VQLquWrrNQHtTSZphFVkoQwCGQU9XtzdYEVLkAKM5Yt5iqVgWpDVr1zqdzlSKQzA8HPOv+W2tpMjOUAigNI7ZaMqOoLAF6ZZlWaYpiuLxY6cJnKEZRlFUhmVxArUsaOXKy/v7hk1I48vZoeF+juMS+dGlK5aKOjJv2hSGyNAkhbLMqZ5TgxNFgEOUYeqooRq6ibOA8umLl83lq73OmgZOlH7+bs3adVt5jmdRWi2XDUM1YeMCm9fCqGSpwMM6hGM0TVswJIgSARDG4yuHwtFAjRD19Y2nVIBZhAth3CxKNcycpBnq9sPH77xxpRdXOQiWbVDGUHTKVlVTSzGEpEqqqkVi4Ww+V1NbN3XypKA/sH7TZnfALykyDKM2lgLAwjDMtKwlS5bIsqxqmiQJoVAEAYjb7Vy+fNnWLduHRwZTyeSpU6fcPidf4rxO35tvvJvJFg8fOq5LOEEFEdOUirwJQcAwdFGTDQeSouHFy+ZlS6Ok1/HF1kPv/PcHxESEkoiiOI4AP0qRGGEgpiGKtU7CxOGMWLA5bBiJFPm8BszBckaUZFNV13Sdef611zszmc82nRgoyd8dP3lIyOd1wJc1oFnXLbpIGJxY0lQTdOhTrrzm3fWHz5/ocdlde/btczmdLGOTROHmG29JTKTSyUQ0GpgyqW1stBejCBQnNE2HIAtGgKJou3ftmjZtWmVFFUVRAieKonT1Ndee6OjTdDWTSUmSdNlV1+i6hRFkc/tUG01BKJJMZVDKmcnkOw+fctAuu4NFTZkLzJ7mqA+dPN0R4gqffb+raseIjfUYhsFSDEkSOIIBw7R0a3L7dB0ATcnFlqz4/F9vsi5ntpRRNNFrdwSC4dHkKECwSDBAkWQikbCjqGFCGKRbdmdn/xAD4+c3bbz80gs7u05eEgmhnqDBsH958dNQpAGmVIKhCBSjSArA6G3X3bJj++5yWWhtrRXKfCGfq6yIZrPZqVNnCGJRKMu5bHHatBn9/T1nzp4BEA4D08m6AoHgnr1H0zlOLCaqqqpcLueJk6co1ulSjZ/WbTEh0+l20TSrm4amGqmRVArSCYr8f9vVTVKoflvKAAAAAElFTkSuQmCC",
         "type": "image",
         "xaxis": "x3",
         "yaxis": "y3"
        },
        {
         "hovertemplate": "x: %{x}<br>y: %{y}<extra></extra>",
         "name": "3",
         "source": "data:image/png;base64,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",
         "type": "image",
         "xaxis": "x4",
         "yaxis": "y4"
        },
        {
         "hovertemplate": "x: %{x}<br>y: %{y}<extra></extra>",
         "name": "4",
         "source": "data:image/png;base64,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",
         "type": "image",
         "xaxis": "x5",
         "yaxis": "y5"
        }
       ],
       "layout": {
        "annotations": [
         {
          "font": {},
          "showarrow": false,
          "text": "facet_col=0",
          "x": 0.09200000000000001,
          "xanchor": "center",
          "xref": "paper",
          "y": 1,
          "yanchor": "bottom",
          "yref": "paper"
         },
         {
          "font": {},
          "showarrow": false,
          "text": "facet_col=1",
          "x": 0.29600000000000004,
          "xanchor": "center",
          "xref": "paper",
          "y": 1,
          "yanchor": "bottom",
          "yref": "paper"
         },
         {
          "font": {},
          "showarrow": false,
          "text": "facet_col=2",
          "x": 0.5,
          "xanchor": "center",
          "xref": "paper",
          "y": 1,
          "yanchor": "bottom",
          "yref": "paper"
         },
         {
          "font": {},
          "showarrow": false,
          "text": "facet_col=3",
          "x": 0.7040000000000002,
          "xanchor": "center",
          "xref": "paper",
          "y": 1,
          "yanchor": "bottom",
          "yref": "paper"
         },
         {
          "font": {},
          "showarrow": false,
          "text": "facet_col=4",
          "x": 0.908,
          "xanchor": "center",
          "xref": "paper",
          "y": 1,
          "yanchor": "bottom",
          "yref": "paper"
         }
        ],
        "margin": {
         "t": 60
        },
        "template": {
         "data": {
          "bar": [
           {
            "error_x": {
             "color": "#2a3f5f"
            },
            "error_y": {
             "color": "#2a3f5f"
            },
            "marker": {
             "line": {
              "color": "#E5ECF6",
              "width": 0.5
             },
             "pattern": {
              "fillmode": "overlay",
              "size": 10,
              "solidity": 0.2
             }
            },
            "type": "bar"
           }
          ],
          "barpolar": [
           {
            "marker": {
             "line": {
              "color": "#E5ECF6",
              "width": 0.5
             },
             "pattern": {
              "fillmode": "overlay",
              "size": 10,
              "solidity": 0.2
             }
            },
            "type": "barpolar"
           }
          ],
          "carpet": [
           {
            "aaxis": {
             "endlinecolor": "#2a3f5f",
             "gridcolor": "white",
             "linecolor": "white",
             "minorgridcolor": "white",
             "startlinecolor": "#2a3f5f"
            },
            "baxis": {
             "endlinecolor": "#2a3f5f",
             "gridcolor": "white",
             "linecolor": "white",
             "minorgridcolor": "white",
             "startlinecolor": "#2a3f5f"
            },
            "type": "carpet"
           }
          ],
          "choropleth": [
           {
            "colorbar": {
             "outlinewidth": 0,
             "ticks": ""
            },
            "type": "choropleth"
           }
          ],
          "contour": [
           {
            "colorbar": {
             "outlinewidth": 0,
             "ticks": ""
            },
            "colorscale": [
             [
              0,
              "#0d0887"
             ],
             [
              0.1111111111111111,
              "#46039f"
             ],
             [
              0.2222222222222222,
              "#7201a8"
             ],
             [
              0.3333333333333333,
              "#9c179e"
             ],
             [
              0.4444444444444444,
              "#bd3786"
             ],
             [
              0.5555555555555556,
              "#d8576b"
             ],
             [
              0.6666666666666666,
              "#ed7953"
             ],
             [
              0.7777777777777778,
              "#fb9f3a"
             ],
             [
              0.8888888888888888,
              "#fdca26"
             ],
             [
              1,
              "#f0f921"
             ]
            ],
            "type": "contour"
           }
          ],
          "contourcarpet": [
           {
            "colorbar": {
             "outlinewidth": 0,
             "ticks": ""
            },
            "type": "contourcarpet"
           }
          ],
          "heatmap": [
           {
            "colorbar": {
             "outlinewidth": 0,
             "ticks": ""
            },
            "colorscale": [
             [
              0,
              "#0d0887"
             ],
             [
              0.1111111111111111,
              "#46039f"
             ],
             [
              0.2222222222222222,
              "#7201a8"
             ],
             [
              0.3333333333333333,
              "#9c179e"
             ],
             [
              0.4444444444444444,
              "#bd3786"
             ],
             [
              0.5555555555555556,
              "#d8576b"
             ],
             [
              0.6666666666666666,
              "#ed7953"
             ],
             [
              0.7777777777777778,
              "#fb9f3a"
             ],
             [
              0.8888888888888888,
              "#fdca26"
             ],
             [
              1,
              "#f0f921"
             ]
            ],
            "type": "heatmap"
           }
          ],
          "heatmapgl": [
           {
            "colorbar": {
             "outlinewidth": 0,
             "ticks": ""
            },
            "colorscale": [
             [
              0,
              "#0d0887"
             ],
             [
              0.1111111111111111,
              "#46039f"
             ],
             [
              0.2222222222222222,
              "#7201a8"
             ],
             [
              0.3333333333333333,
              "#9c179e"
             ],
             [
              0.4444444444444444,
              "#bd3786"
             ],
             [
              0.5555555555555556,
              "#d8576b"
             ],
             [
              0.6666666666666666,
              "#ed7953"
             ],
             [
              0.7777777777777778,
              "#fb9f3a"
             ],
             [
              0.8888888888888888,
              "#fdca26"
             ],
             [
              1,
              "#f0f921"
             ]
            ],
            "type": "heatmapgl"
           }
          ],
          "histogram": [
           {
            "marker": {
             "pattern": {
              "fillmode": "overlay",
              "size": 10,
              "solidity": 0.2
             }
            },
            "type": "histogram"
           }
          ],
          "histogram2d": [
           {
            "colorbar": {
             "outlinewidth": 0,
             "ticks": ""
            },
            "colorscale": [
             [
              0,
              "#0d0887"
             ],
             [
              0.1111111111111111,
              "#46039f"
             ],
             [
              0.2222222222222222,
              "#7201a8"
             ],
             [
              0.3333333333333333,
              "#9c179e"
             ],
             [
              0.4444444444444444,
              "#bd3786"
             ],
             [
              0.5555555555555556,
              "#d8576b"
             ],
             [
              0.6666666666666666,
              "#ed7953"
             ],
             [
              0.7777777777777778,
              "#fb9f3a"
             ],
             [
              0.8888888888888888,
              "#fdca26"
             ],
             [
              1,
              "#f0f921"
             ]
            ],
            "type": "histogram2d"
           }
          ],
          "histogram2dcontour": [
           {
            "colorbar": {
             "outlinewidth": 0,
             "ticks": ""
            },
            "colorscale": [
             [
              0,
              "#0d0887"
             ],
             [
              0.1111111111111111,
              "#46039f"
             ],
             [
              0.2222222222222222,
              "#7201a8"
             ],
             [
              0.3333333333333333,
              "#9c179e"
             ],
             [
              0.4444444444444444,
              "#bd3786"
             ],
             [
              0.5555555555555556,
              "#d8576b"
             ],
             [
              0.6666666666666666,
              "#ed7953"
             ],
             [
              0.7777777777777778,
              "#fb9f3a"
             ],
             [
              0.8888888888888888,
              "#fdca26"
             ],
             [
              1,
              "#f0f921"
             ]
            ],
            "type": "histogram2dcontour"
           }
          ],
          "mesh3d": [
           {
            "colorbar": {
             "outlinewidth": 0,
             "ticks": ""
            },
            "type": "mesh3d"
           }
          ],
          "parcoords": [
           {
            "line": {
             "colorbar": {
              "outlinewidth": 0,
              "ticks": ""
             }
            },
            "type": "parcoords"
           }
          ],
          "pie": [
           {
            "automargin": true,
            "type": "pie"
           }
          ],
          "scatter": [
           {
            "marker": {
             "colorbar": {
              "outlinewidth": 0,
              "ticks": ""
             }
            },
            "type": "scatter"
           }
          ],
          "scatter3d": [
           {
            "line": {
             "colorbar": {
              "outlinewidth": 0,
              "ticks": ""
             }
            },
            "marker": {
             "colorbar": {
              "outlinewidth": 0,
              "ticks": ""
             }
            },
            "type": "scatter3d"
           }
          ],
          "scattercarpet": [
           {
            "marker": {
             "colorbar": {
              "outlinewidth": 0,
              "ticks": ""
             }
            },
            "type": "scattercarpet"
           }
          ],
          "scattergeo": [
           {
            "marker": {
             "colorbar": {
              "outlinewidth": 0,
              "ticks": ""
             }
            },
            "type": "scattergeo"
           }
          ],
          "scattergl": [
           {
            "marker": {
             "colorbar": {
              "outlinewidth": 0,
              "ticks": ""
             }
            },
            "type": "scattergl"
           }
          ],
          "scattermapbox": [
           {
            "marker": {
             "colorbar": {
              "outlinewidth": 0,
              "ticks": ""
             }
            },
            "type": "scattermapbox"
           }
          ],
          "scatterpolar": [
           {
            "marker": {
             "colorbar": {
              "outlinewidth": 0,
              "ticks": ""
             }
            },
            "type": "scatterpolar"
           }
          ],
          "scatterpolargl": [
           {
            "marker": {
             "colorbar": {
              "outlinewidth": 0,
              "ticks": ""
             }
            },
            "type": "scatterpolargl"
           }
          ],
          "scatterternary": [
           {
            "marker": {
             "colorbar": {
              "outlinewidth": 0,
              "ticks": ""
             }
            },
            "type": "scatterternary"
           }
          ],
          "surface": [
           {
            "colorbar": {
             "outlinewidth": 0,
             "ticks": ""
            },
            "colorscale": [
             [
              0,
              "#0d0887"
             ],
             [
              0.1111111111111111,
              "#46039f"
             ],
             [
              0.2222222222222222,
              "#7201a8"
             ],
             [
              0.3333333333333333,
              "#9c179e"
             ],
             [
              0.4444444444444444,
              "#bd3786"
             ],
             [
              0.5555555555555556,
              "#d8576b"
             ],
             [
              0.6666666666666666,
              "#ed7953"
             ],
             [
              0.7777777777777778,
              "#fb9f3a"
             ],
             [
              0.8888888888888888,
              "#fdca26"
             ],
             [
              1,
              "#f0f921"
             ]
            ],
            "type": "surface"
           }
          ],
          "table": [
           {
            "cells": {
             "fill": {
              "color": "#EBF0F8"
             },
             "line": {
              "color": "white"
             }
            },
            "header": {
             "fill": {
              "color": "#C8D4E3"
             },
             "line": {
              "color": "white"
             }
            },
            "type": "table"
           }
          ]
         },
         "layout": {
          "annotationdefaults": {
           "arrowcolor": "#2a3f5f",
           "arrowhead": 0,
           "arrowwidth": 1
          },
          "autotypenumbers": "strict",
          "coloraxis": {
           "colorbar": {
            "outlinewidth": 0,
            "ticks": ""
           }
          },
          "colorscale": {
           "diverging": [
            [
             0,
             "#8e0152"
            ],
            [
             0.1,
             "#c51b7d"
            ],
            [
             0.2,
             "#de77ae"
            ],
            [
             0.3,
             "#f1b6da"
            ],
            [
             0.4,
             "#fde0ef"
            ],
            [
             0.5,
             "#f7f7f7"
            ],
            [
             0.6,
             "#e6f5d0"
            ],
            [
             0.7,
             "#b8e186"
            ],
            [
             0.8,
             "#7fbc41"
            ],
            [
             0.9,
             "#4d9221"
            ],
            [
             1,
             "#276419"
            ]
           ],
           "sequential": [
            [
             0,
             "#0d0887"
            ],
            [
             0.1111111111111111,
             "#46039f"
            ],
            [
             0.2222222222222222,
             "#7201a8"
            ],
            [
             0.3333333333333333,
             "#9c179e"
            ],
            [
             0.4444444444444444,
             "#bd3786"
            ],
            [
             0.5555555555555556,
             "#d8576b"
            ],
            [
             0.6666666666666666,
             "#ed7953"
            ],
            [
             0.7777777777777778,
             "#fb9f3a"
            ],
            [
             0.8888888888888888,
             "#fdca26"
            ],
            [
             1,
             "#f0f921"
            ]
           ],
           "sequentialminus": [
            [
             0,
             "#0d0887"
            ],
            [
             0.1111111111111111,
             "#46039f"
            ],
            [
             0.2222222222222222,
             "#7201a8"
            ],
            [
             0.3333333333333333,
             "#9c179e"
            ],
            [
             0.4444444444444444,
             "#bd3786"
            ],
            [
             0.5555555555555556,
             "#d8576b"
            ],
            [
             0.6666666666666666,
             "#ed7953"
            ],
            [
             0.7777777777777778,
             "#fb9f3a"
            ],
            [
             0.8888888888888888,
             "#fdca26"
            ],
            [
             1,
             "#f0f921"
            ]
           ]
          },
          "colorway": [
           "#636efa",
           "#EF553B",
           "#00cc96",
           "#ab63fa",
           "#FFA15A",
           "#19d3f3",
           "#FF6692",
           "#B6E880",
           "#FF97FF",
           "#FECB52"
          ],
          "font": {
           "color": "#2a3f5f"
          },
          "geo": {
           "bgcolor": "white",
           "lakecolor": "white",
           "landcolor": "#E5ECF6",
           "showlakes": true,
           "showland": true,
           "subunitcolor": "white"
          },
          "hoverlabel": {
           "align": "left"
          },
          "hovermode": "closest",
          "mapbox": {
           "style": "light"
          },
          "paper_bgcolor": "white",
          "plot_bgcolor": "#E5ECF6",
          "polar": {
           "angularaxis": {
            "gridcolor": "white",
            "linecolor": "white",
            "ticks": ""
           },
           "bgcolor": "#E5ECF6",
           "radialaxis": {
            "gridcolor": "white",
            "linecolor": "white",
            "ticks": ""
           }
          },
          "scene": {
           "xaxis": {
            "backgroundcolor": "#E5ECF6",
            "gridcolor": "white",
            "gridwidth": 2,
            "linecolor": "white",
            "showbackground": true,
            "ticks": "",
            "zerolinecolor": "white"
           },
           "yaxis": {
            "backgroundcolor": "#E5ECF6",
            "gridcolor": "white",
            "gridwidth": 2,
            "linecolor": "white",
            "showbackground": true,
            "ticks": "",
            "zerolinecolor": "white"
           },
           "zaxis": {
            "backgroundcolor": "#E5ECF6",
            "gridcolor": "white",
            "gridwidth": 2,
            "linecolor": "white",
            "showbackground": true,
            "ticks": "",
            "zerolinecolor": "white"
           }
          },
          "shapedefaults": {
           "line": {
            "color": "#2a3f5f"
           }
          },
          "ternary": {
           "aaxis": {
            "gridcolor": "white",
            "linecolor": "white",
            "ticks": ""
           },
           "baxis": {
            "gridcolor": "white",
            "linecolor": "white",
            "ticks": ""
           },
           "bgcolor": "#E5ECF6",
           "caxis": {
            "gridcolor": "white",
            "linecolor": "white",
            "ticks": ""
           }
          },
          "title": {
           "x": 0.05
          },
          "xaxis": {
           "automargin": true,
           "gridcolor": "white",
           "linecolor": "white",
           "ticks": "",
           "title": {
            "standoff": 15
           },
           "zerolinecolor": "white",
           "zerolinewidth": 2
          },
          "yaxis": {
           "automargin": true,
           "gridcolor": "white",
           "linecolor": "white",
           "ticks": "",
           "title": {
            "standoff": 15
           },
           "zerolinecolor": "white",
           "zerolinewidth": 2
          }
         }
        },
        "xaxis": {
         "anchor": "y",
         "domain": [
          0,
          0.18400000000000002
         ]
        },
        "xaxis2": {
         "anchor": "y2",
         "domain": [
          0.20400000000000001,
          0.388
         ],
         "matches": "x"
        },
        "xaxis3": {
         "anchor": "y3",
         "domain": [
          0.40800000000000003,
          0.5920000000000001
         ],
         "matches": "x"
        },
        "xaxis4": {
         "anchor": "y4",
         "domain": [
          0.6120000000000001,
          0.7960000000000002
         ],
         "matches": "x"
        },
        "xaxis5": {
         "anchor": "y5",
         "domain": [
          0.8160000000000001,
          1
         ],
         "matches": "x"
        },
        "yaxis": {
         "anchor": "x",
         "domain": [
          0,
          1
         ]
        },
        "yaxis2": {
         "anchor": "x2",
         "domain": [
          0,
          1
         ],
         "matches": "y",
         "showticklabels": false
        },
        "yaxis3": {
         "anchor": "x3",
         "domain": [
          0,
          1
         ],
         "matches": "y",
         "showticklabels": false
        },
        "yaxis4": {
         "anchor": "x4",
         "domain": [
          0,
          1
         ],
         "matches": "y",
         "showticklabels": false
        },
        "yaxis5": {
         "anchor": "x5",
         "domain": [
          0,
          1
         ],
         "matches": "y",
         "showticklabels": false
        }
       }
      }
     },
     "metadata": {},
     "output_type": "display_data"
    }
   ],
   "source": [
    "fig1 = px.imshow(np.array(queries.permute(0,2,3,1))[1::10], facet_col=0 ,facet_col_wrap=5)\n",
    "fig1.show()"
   ]
  },
  {
   "cell_type": "code",
   "execution_count": 28,
   "metadata": {},
   "outputs": [
    {
     "data": {
      "text/plain": [
       "True"
      ]
     },
     "execution_count": 28,
     "metadata": {},
     "output_type": "execute_result"
    }
   ],
   "source": [
    "cv2.imwrite('query0.png', (queries[0].detach().numpy()*255).reshape(queries.shape[2], queries.shape[3], queries.shape[1])[::-1])"
   ]
  },
  {
   "cell_type": "markdown",
   "metadata": {},
   "source": [
    "Extremely small (5x5) feature maps. Too small for any reasonable activation visualization, w or w/o upsampling. "
   ]
  },
  {
   "cell_type": "markdown",
   "metadata": {},
   "source": [
    "# GradCAM"
   ]
  }
 ],
 "metadata": {
  "kernelspec": {
   "display_name": "Python 3.9.7 ('torch')",
   "language": "python",
   "name": "python3"
  },
  "language_info": {
   "codemirror_mode": {
    "name": "ipython",
    "version": 3
   },
   "file_extension": ".py",
   "mimetype": "text/x-python",
   "name": "python",
   "nbconvert_exporter": "python",
   "pygments_lexer": "ipython3",
   "version": "3.9.7"
  },
  "orig_nbformat": 4,
  "vscode": {
   "interpreter": {
    "hash": "7e3af266dcb7df8b026f0780dbb396b062ee5ca2767a18f50e60e26ee6084121"
   }
  }
 },
 "nbformat": 4,
 "nbformat_minor": 2
}

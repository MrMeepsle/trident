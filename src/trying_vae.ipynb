{
 "cells": [
  {
   "cell_type": "markdown",
   "metadata": {},
   "source": [
    "classifiers: nn.crossentropyloss = -log-likelihood --- use for logp(y) and -logq(y/x) for support <br>\n",
    "kl-div: <br>\n",
    "reconstr-loss: set reduction to none and then take mean of losses per image in the total batch. This gives reconstr-loss per image for further computation<br> "
   ]
  },
  {
   "cell_type": "code",
   "execution_count": 1,
   "metadata": {},
   "outputs": [],
   "source": [
    "import sys\n",
    "import random\n",
    "import numpy as np\n",
    "import torch\n",
    "import learn2learn as l2l\n",
    "import pandas as pd\n",
    "\n",
    "from torch import nn, optim\n",
    "from torch.nn import functional as F\n",
    "from torchvision import datasets, transforms\n",
    "from PIL.Image import LANCZOS\n",
    "import wandb"
   ]
  },
  {
   "cell_type": "code",
   "execution_count": 2,
   "metadata": {},
   "outputs": [
    {
     "data": {
      "text/plain": [
       "True"
      ]
     },
     "execution_count": 2,
     "metadata": {},
     "output_type": "execute_result"
    }
   ],
   "source": [
    "torch.cuda.is_available()"
   ]
  },
  {
   "cell_type": "code",
   "execution_count": 3,
   "metadata": {},
   "outputs": [
    {
     "data": {
      "text/plain": [
       "['/home/anuj/Desktop/Work/TU_Delft/research/implement/learning_to_meta-learn/src',\n",
       " '/home/anuj/.vscode/extensions/ms-toolsai.jupyter-2021.9.1001312534/pythonFiles',\n",
       " '/home/anuj/.vscode/extensions/ms-toolsai.jupyter-2021.9.1001312534/pythonFiles/lib/python',\n",
       " '/home/anuj/anaconda3/envs/torch/lib/python38.zip',\n",
       " '/home/anuj/anaconda3/envs/torch/lib/python3.8',\n",
       " '/home/anuj/anaconda3/envs/torch/lib/python3.8/lib-dynload',\n",
       " '',\n",
       " '/home/anuj/anaconda3/envs/torch/lib/python3.8/site-packages',\n",
       " '/home/anuj/anaconda3/envs/torch/lib/python3.8/site-packages/datasets-1.2.1-py3.8.egg',\n",
       " '/home/anuj/anaconda3/envs/torch/lib/python3.8/site-packages/locket-0.2.1-py3.8.egg',\n",
       " '/home/anuj/anaconda3/envs/torch/lib/python3.8/site-packages/IPython/extensions',\n",
       " '/home/anuj/.ipython',\n",
       " '/home/anuj/Desktop/Work/TU_Delft/research/implement/learning_to_meta-learn']"
      ]
     },
     "execution_count": 3,
     "metadata": {},
     "output_type": "execute_result"
    }
   ],
   "source": [
    "sys.path.append('/home/anuj/Desktop/Work/TU_Delft/research/implement/learning_to_meta-learn')\n",
    "sys.path"
   ]
  },
  {
   "cell_type": "code",
   "execution_count": 4,
   "metadata": {},
   "outputs": [],
   "source": [
    "#from data.loaders import Omniglotmix, MiniImageNet\n",
    "from data.taskers import gen_tasks\n",
    "from src.zoo.archs import CCVAE, CEncoder, Classifier_VAE\n",
    "from src.zoo.delpo_utils import setup, inner_adapt_delpo, loss, accuracy\n",
    "\n",
    "#from src.utils import Profiler"
   ]
  },
  {
   "cell_type": "code",
   "execution_count": 10,
   "metadata": {},
   "outputs": [],
   "source": [
    "train_tasks = gen_tasks(dataname='miniimagenet', root='../../dataset/mini_imagenet', mode='train', n_ways=5, k_shots=5, q_shots=15, image_transforms=None)"
   ]
  },
  {
   "cell_type": "code",
   "execution_count": 21,
   "metadata": {},
   "outputs": [
    {
     "name": "stderr",
     "output_type": "stream",
     "text": [
      "/home/anuj/anaconda3/envs/torch/lib/python3.8/site-packages/torchvision/transforms/transforms.py:280: UserWarning: Argument interpolation should be of type InterpolationMode instead of int. Please, use InterpolationMode enum.\n",
      "  warnings.warn(\n"
     ]
    }
   ],
   "source": [
    "classes = list(range(1623))\n",
    "random.shuffle(classes)\n",
    "image_transforms = transforms.Compose([transforms.Resize(28, interpolation=LANCZOS),\n",
    "                                                    transforms.ToTensor(),\n",
    "                                                    lambda x: 1.0 - x,\n",
    "                                                ])\n",
    "train_tasks = gen_tasks('omniglot', '/home/anuj/Desktop/Work/TU_Delft/research/implement/omniglot', image_transforms=image_transforms, n_ways=5, k_shots=5, q_shots=5, classes=classes[:1100])"
   ]
  },
  {
   "cell_type": "code",
   "execution_count": 6,
   "metadata": {},
   "outputs": [],
   "source": [
    "task = train_tasks.sample()"
   ]
  },
  {
   "cell_type": "code",
   "execution_count": 5,
   "metadata": {},
   "outputs": [],
   "source": [
    "device = 'cpu'\n",
    "n_ways = 5\n",
    "k_shots = 5\n",
    "q_shots = 15\n",
    "dataset = 'miniimagenet'\n",
    "root = '../../dataset/mini_imagenet'\n",
    "order = False\n",
    "inner_lr = 0.0001\n",
    "meta_lr = 0.0001\n",
    "reconst_loss = nn.MSELoss(reduction='none')\n",
    "inner_adapt_steps_train = 5"
   ]
  },
  {
   "cell_type": "code",
   "execution_count": 6,
   "metadata": {},
   "outputs": [],
   "source": [
    "train_tasks, valid_tasks, test_tasks, learner = setup(\n",
    "    dataset, root, n_ways, k_shots, q_shots, order, inner_lr, device, download='False')\n",
    "opt = optim.Adam(learner.parameters(), meta_lr)"
   ]
  },
  {
   "cell_type": "code",
   "execution_count": 7,
   "metadata": {},
   "outputs": [],
   "source": [
    "opt.zero_grad()\n",
    "meta_train_loss = []\n",
    "meta_valid_loss = []\n",
    "meta_train_acc = []\n",
    "meta_valid_acc = []\n"
   ]
  },
  {
   "cell_type": "code",
   "execution_count": 7,
   "metadata": {},
   "outputs": [],
   "source": [
    "task = train_tasks.sample()\n",
    "model = learner.clone()\n",
    "data, labels = task\n",
    "data, labels = data.to(device) / 255.0, labels.to(device)\n",
    "total = n_ways * (k_shots + q_shots)\n",
    "queries_index = np.zeros(total)\n",
    "\n",
    "# Extracting the evaluation datums from the entire task set, for the meta gradient calculation\n",
    "for offset in range(n_ways):\n",
    "    queries_index[np.random.choice(\n",
    "        k_shots+q_shots, q_shots, replace=False) + ((k_shots + q_shots)*offset)] = True\n",
    "support = data[np.where(queries_index == 0)]\n",
    "support_labels = labels[np.where(queries_index == 0)]\n",
    "queries = data[np.where(queries_index == 1)]\n",
    "queries_labels = labels[np.where(queries_index == 1)]\n"
   ]
  },
  {
   "cell_type": "code",
   "execution_count": 8,
   "metadata": {},
   "outputs": [],
   "source": [
    "d = {'a': queries, 'b': queries}\n",
    "torch.save(d, 'testing.pt')"
   ]
  },
  {
   "cell_type": "code",
   "execution_count": 9,
   "metadata": {},
   "outputs": [
    {
     "data": {
      "text/plain": [
       "{'a': tensor([[[[0.3608, 0.3647, 0.3490,  ..., 0.3098, 0.3059, 0.3137],\n",
       "           [0.2745, 0.3137, 0.3333,  ..., 0.2745, 0.3137, 0.3255],\n",
       "           [0.3490, 0.3882, 0.4000,  ..., 0.3255, 0.3255, 0.3333],\n",
       "           ...,\n",
       "           [0.3725, 0.3961, 0.4118,  ..., 0.2588, 0.2549, 0.2353],\n",
       "           [0.3255, 0.3686, 0.4510,  ..., 0.2784, 0.2902, 0.2706],\n",
       "           [0.3804, 0.3843, 0.3922,  ..., 0.2863, 0.2471, 0.2667]],\n",
       " \n",
       "          [[0.2627, 0.2745, 0.2627,  ..., 0.2706, 0.2627, 0.2627],\n",
       "           [0.2000, 0.2392, 0.2627,  ..., 0.2353, 0.2706, 0.2706],\n",
       "           [0.3098, 0.3569, 0.3725,  ..., 0.2902, 0.2824, 0.2784],\n",
       "           ...,\n",
       "           [0.3490, 0.3725, 0.3882,  ..., 0.2627, 0.2588, 0.2392],\n",
       "           [0.3294, 0.3686, 0.4392,  ..., 0.2824, 0.2941, 0.2706],\n",
       "           [0.3686, 0.3765, 0.3804,  ..., 0.2902, 0.2667, 0.2745]],\n",
       " \n",
       "          [[0.2353, 0.2431, 0.2314,  ..., 0.2627, 0.2471, 0.2392],\n",
       "           [0.1608, 0.2039, 0.2235,  ..., 0.2235, 0.2627, 0.2706],\n",
       "           [0.2627, 0.3059, 0.3216,  ..., 0.2549, 0.2588, 0.2667],\n",
       "           ...,\n",
       "           [0.2824, 0.3059, 0.3255,  ..., 0.2431, 0.2392, 0.2196],\n",
       "           [0.2902, 0.3176, 0.3804,  ..., 0.2392, 0.2588, 0.2471],\n",
       "           [0.3412, 0.3294, 0.3333,  ..., 0.2588, 0.2431, 0.2627]]],\n",
       " \n",
       " \n",
       "         [[[0.0196, 0.0706, 0.1255,  ..., 0.0510, 0.1255, 0.0784],\n",
       "           [0.0824, 0.0745, 0.1725,  ..., 0.0353, 0.1922, 0.0941],\n",
       "           [0.0784, 0.0824, 0.0824,  ..., 0.0000, 0.2196, 0.0353],\n",
       "           ...,\n",
       "           [0.0235, 0.1059, 0.1176,  ..., 0.1333, 0.1686, 0.1176],\n",
       "           [0.6039, 0.7843, 0.8078,  ..., 0.1059, 0.0588, 0.1922],\n",
       "           [0.6235, 0.8392, 0.8431,  ..., 0.0980, 0.2039, 0.1333]],\n",
       " \n",
       "          [[0.2510, 0.2784, 0.3098,  ..., 0.2353, 0.3294, 0.2431],\n",
       "           [0.3922, 0.3451, 0.4235,  ..., 0.3098, 0.4471, 0.2706],\n",
       "           [0.4353, 0.4157, 0.4431,  ..., 0.2039, 0.4392, 0.2157],\n",
       "           ...,\n",
       "           [0.3412, 0.4275, 0.4471,  ..., 0.3843, 0.4078, 0.3373],\n",
       "           [0.7882, 0.8588, 0.8549,  ..., 0.3490, 0.3059, 0.4235],\n",
       "           [0.8039, 0.9020, 0.8902,  ..., 0.3059, 0.4510, 0.3373]],\n",
       " \n",
       "          [[0.0196, 0.0824, 0.1294,  ..., 0.0549, 0.1725, 0.1020],\n",
       "           [0.0627, 0.0588, 0.1569,  ..., 0.0745, 0.2588, 0.1216],\n",
       "           [0.0471, 0.0431, 0.0510,  ..., 0.0000, 0.2471, 0.0667],\n",
       "           ...,\n",
       "           [0.0627, 0.0510, 0.0275,  ..., 0.1490, 0.1804, 0.1333],\n",
       "           [0.5490, 0.8627, 0.8667,  ..., 0.1255, 0.0784, 0.2118],\n",
       "           [0.6510, 0.9569, 0.9059,  ..., 0.1294, 0.2118, 0.1569]]],\n",
       " \n",
       " \n",
       "         [[[0.2431, 0.2431, 0.2588,  ..., 0.4784, 0.4392, 0.4000],\n",
       "           [0.2745, 0.2588, 0.2627,  ..., 0.4745, 0.4314, 0.4000],\n",
       "           [0.2941, 0.2824, 0.2824,  ..., 0.4863, 0.4392, 0.3804],\n",
       "           ...,\n",
       "           [0.2275, 0.2471, 0.2824,  ..., 0.3569, 0.4000, 0.3373],\n",
       "           [0.2078, 0.2314, 0.2549,  ..., 0.3608, 0.3804, 0.3529],\n",
       "           [0.2196, 0.2118, 0.2431,  ..., 0.3804, 0.4039, 0.3176]],\n",
       " \n",
       "          [[0.2510, 0.2471, 0.2588,  ..., 0.4902, 0.4510, 0.4275],\n",
       "           [0.2784, 0.2627, 0.2627,  ..., 0.4745, 0.4431, 0.4118],\n",
       "           [0.2941, 0.2863, 0.2824,  ..., 0.4824, 0.4431, 0.3961],\n",
       "           ...,\n",
       "           [0.3137, 0.3216, 0.3451,  ..., 0.3765, 0.4078, 0.3333],\n",
       "           [0.2510, 0.2667, 0.2824,  ..., 0.3765, 0.3725, 0.3333],\n",
       "           [0.2431, 0.2314, 0.2471,  ..., 0.3922, 0.3804, 0.3059]],\n",
       " \n",
       "          [[0.2549, 0.2431, 0.2510,  ..., 0.3765, 0.3451, 0.3333],\n",
       "           [0.2863, 0.2588, 0.2588,  ..., 0.3569, 0.3333, 0.3137],\n",
       "           [0.3137, 0.2941, 0.2824,  ..., 0.3647, 0.3333, 0.2980],\n",
       "           ...,\n",
       "           [0.2078, 0.2275, 0.2627,  ..., 0.2824, 0.3255, 0.2510],\n",
       "           [0.2078, 0.2353, 0.2588,  ..., 0.2824, 0.2941, 0.2549],\n",
       "           [0.2275, 0.2275, 0.2549,  ..., 0.3020, 0.3098, 0.2235]]],\n",
       " \n",
       " \n",
       "         ...,\n",
       " \n",
       " \n",
       "         [[[0.5686, 0.6353, 0.6902,  ..., 0.4549, 0.4196, 0.4941],\n",
       "           [0.4941, 0.6745, 0.7059,  ..., 0.5059, 0.5255, 0.5647],\n",
       "           [0.5294, 0.6431, 0.7098,  ..., 0.6000, 0.4196, 0.5020],\n",
       "           ...,\n",
       "           [0.2549, 0.5216, 0.3961,  ..., 0.6667, 0.6784, 0.5608],\n",
       "           [0.3490, 0.2706, 0.4314,  ..., 0.6078, 0.6588, 0.6078],\n",
       "           [0.0863, 0.4392, 0.3373,  ..., 0.6588, 0.6941, 0.6510]],\n",
       " \n",
       "          [[0.6510, 0.7059, 0.7686,  ..., 0.5529, 0.5373, 0.5647],\n",
       "           [0.5686, 0.7569, 0.7725,  ..., 0.5725, 0.5843, 0.6510],\n",
       "           [0.5961, 0.7451, 0.7647,  ..., 0.6235, 0.5216, 0.5804],\n",
       "           ...,\n",
       "           [0.2627, 0.5490, 0.5176,  ..., 0.6667, 0.6549, 0.5686],\n",
       "           [0.3176, 0.3020, 0.5216,  ..., 0.6510, 0.6706, 0.6039],\n",
       "           [0.1373, 0.4235, 0.4627,  ..., 0.7255, 0.7176, 0.6980]],\n",
       " \n",
       "          [[0.6118, 0.7098, 0.7647,  ..., 0.2235, 0.1608, 0.3647],\n",
       "           [0.5608, 0.7333, 0.7451,  ..., 0.3490, 0.4078, 0.4118],\n",
       "           [0.5882, 0.6980, 0.7569,  ..., 0.5843, 0.2196, 0.4510],\n",
       "           ...,\n",
       "           [0.1294, 0.3922, 0.3647,  ..., 0.4784, 0.4667, 0.3961],\n",
       "           [0.2784, 0.1804, 0.4235,  ..., 0.4235, 0.4745, 0.4510],\n",
       "           [0.0235, 0.2588, 0.2941,  ..., 0.5373, 0.5490, 0.5098]]],\n",
       " \n",
       " \n",
       "         [[[0.3333, 0.0745, 0.1882,  ..., 0.4431, 0.3059, 0.2039],\n",
       "           [0.1961, 0.1020, 0.1686,  ..., 0.3098, 0.3765, 0.3804],\n",
       "           [0.2118, 0.2118, 0.2431,  ..., 0.7686, 0.2314, 0.4000],\n",
       "           ...,\n",
       "           [0.8196, 0.8314, 0.8431,  ..., 0.2196, 0.1137, 0.1020],\n",
       "           [0.8118, 0.8196, 0.8275,  ..., 0.1608, 0.1373, 0.0980],\n",
       "           [0.8000, 0.8078, 0.8235,  ..., 0.1804, 0.2196, 0.0941]],\n",
       " \n",
       "          [[0.3255, 0.0745, 0.1922,  ..., 0.4392, 0.3137, 0.2235],\n",
       "           [0.1922, 0.1059, 0.1725,  ..., 0.3176, 0.3843, 0.3961],\n",
       "           [0.2235, 0.2157, 0.2431,  ..., 0.7843, 0.2431, 0.4078],\n",
       "           ...,\n",
       "           [0.8157, 0.8314, 0.8431,  ..., 0.2353, 0.1255, 0.1216],\n",
       "           [0.8039, 0.8118, 0.8196,  ..., 0.1686, 0.1490, 0.1137],\n",
       "           [0.7961, 0.8039, 0.8157,  ..., 0.1882, 0.2275, 0.1137]],\n",
       " \n",
       "          [[0.3373, 0.0824, 0.2078,  ..., 0.4667, 0.3412, 0.2157],\n",
       "           [0.2118, 0.1137, 0.1804,  ..., 0.3373, 0.4275, 0.4039],\n",
       "           [0.2431, 0.2235, 0.2392,  ..., 0.8157, 0.2863, 0.4392],\n",
       "           ...,\n",
       "           [0.8863, 0.8980, 0.9098,  ..., 0.2431, 0.1255, 0.0980],\n",
       "           [0.8784, 0.8784, 0.9020,  ..., 0.1569, 0.1333, 0.0902],\n",
       "           [0.8667, 0.8667, 0.8980,  ..., 0.1765, 0.2157, 0.0902]]],\n",
       " \n",
       " \n",
       "         [[[0.5294, 0.5294, 0.5216,  ..., 0.5804, 0.5725, 0.5333],\n",
       "           [0.5137, 0.5216, 0.5608,  ..., 0.6039, 0.5686, 0.5608],\n",
       "           [0.5255, 0.6588, 0.4431,  ..., 0.6039, 0.5804, 0.5608],\n",
       "           ...,\n",
       "           [0.0118, 0.0118, 0.0314,  ..., 0.0706, 0.0667, 0.0667],\n",
       "           [0.0078, 0.1529, 0.0235,  ..., 0.0667, 0.0353, 0.0275],\n",
       "           [0.0039, 0.0196, 0.0235,  ..., 0.0588, 0.0392, 0.0431]],\n",
       " \n",
       "          [[0.4510, 0.4471, 0.4510,  ..., 0.6431, 0.6275, 0.6078],\n",
       "           [0.4784, 0.4667, 0.4784,  ..., 0.6549, 0.6275, 0.6078],\n",
       "           [0.4549, 0.6549, 0.4431,  ..., 0.6549, 0.6392, 0.6039],\n",
       "           ...,\n",
       "           [0.0039, 0.0078, 0.0235,  ..., 0.0824, 0.0784, 0.0667],\n",
       "           [0.0078, 0.1451, 0.0118,  ..., 0.0784, 0.0431, 0.0471],\n",
       "           [0.0039, 0.0118, 0.0157,  ..., 0.0667, 0.0471, 0.0510]],\n",
       " \n",
       "          [[0.5686, 0.5647, 0.5686,  ..., 0.7529, 0.7333, 0.7059],\n",
       "           [0.6078, 0.6118, 0.6314,  ..., 0.7647, 0.7216, 0.7098],\n",
       "           [0.5569, 0.8000, 0.5765,  ..., 0.6980, 0.7255, 0.6863],\n",
       "           ...,\n",
       "           [0.0157, 0.0157, 0.0353,  ..., 0.1176, 0.1137, 0.1137],\n",
       "           [0.0118, 0.1647, 0.0196,  ..., 0.1216, 0.0902, 0.0941],\n",
       "           [0.0118, 0.0314, 0.0157,  ..., 0.1137, 0.0941, 0.1020]]]]),\n",
       " 'b': tensor([[[[0.3608, 0.3647, 0.3490,  ..., 0.3098, 0.3059, 0.3137],\n",
       "           [0.2745, 0.3137, 0.3333,  ..., 0.2745, 0.3137, 0.3255],\n",
       "           [0.3490, 0.3882, 0.4000,  ..., 0.3255, 0.3255, 0.3333],\n",
       "           ...,\n",
       "           [0.3725, 0.3961, 0.4118,  ..., 0.2588, 0.2549, 0.2353],\n",
       "           [0.3255, 0.3686, 0.4510,  ..., 0.2784, 0.2902, 0.2706],\n",
       "           [0.3804, 0.3843, 0.3922,  ..., 0.2863, 0.2471, 0.2667]],\n",
       " \n",
       "          [[0.2627, 0.2745, 0.2627,  ..., 0.2706, 0.2627, 0.2627],\n",
       "           [0.2000, 0.2392, 0.2627,  ..., 0.2353, 0.2706, 0.2706],\n",
       "           [0.3098, 0.3569, 0.3725,  ..., 0.2902, 0.2824, 0.2784],\n",
       "           ...,\n",
       "           [0.3490, 0.3725, 0.3882,  ..., 0.2627, 0.2588, 0.2392],\n",
       "           [0.3294, 0.3686, 0.4392,  ..., 0.2824, 0.2941, 0.2706],\n",
       "           [0.3686, 0.3765, 0.3804,  ..., 0.2902, 0.2667, 0.2745]],\n",
       " \n",
       "          [[0.2353, 0.2431, 0.2314,  ..., 0.2627, 0.2471, 0.2392],\n",
       "           [0.1608, 0.2039, 0.2235,  ..., 0.2235, 0.2627, 0.2706],\n",
       "           [0.2627, 0.3059, 0.3216,  ..., 0.2549, 0.2588, 0.2667],\n",
       "           ...,\n",
       "           [0.2824, 0.3059, 0.3255,  ..., 0.2431, 0.2392, 0.2196],\n",
       "           [0.2902, 0.3176, 0.3804,  ..., 0.2392, 0.2588, 0.2471],\n",
       "           [0.3412, 0.3294, 0.3333,  ..., 0.2588, 0.2431, 0.2627]]],\n",
       " \n",
       " \n",
       "         [[[0.0196, 0.0706, 0.1255,  ..., 0.0510, 0.1255, 0.0784],\n",
       "           [0.0824, 0.0745, 0.1725,  ..., 0.0353, 0.1922, 0.0941],\n",
       "           [0.0784, 0.0824, 0.0824,  ..., 0.0000, 0.2196, 0.0353],\n",
       "           ...,\n",
       "           [0.0235, 0.1059, 0.1176,  ..., 0.1333, 0.1686, 0.1176],\n",
       "           [0.6039, 0.7843, 0.8078,  ..., 0.1059, 0.0588, 0.1922],\n",
       "           [0.6235, 0.8392, 0.8431,  ..., 0.0980, 0.2039, 0.1333]],\n",
       " \n",
       "          [[0.2510, 0.2784, 0.3098,  ..., 0.2353, 0.3294, 0.2431],\n",
       "           [0.3922, 0.3451, 0.4235,  ..., 0.3098, 0.4471, 0.2706],\n",
       "           [0.4353, 0.4157, 0.4431,  ..., 0.2039, 0.4392, 0.2157],\n",
       "           ...,\n",
       "           [0.3412, 0.4275, 0.4471,  ..., 0.3843, 0.4078, 0.3373],\n",
       "           [0.7882, 0.8588, 0.8549,  ..., 0.3490, 0.3059, 0.4235],\n",
       "           [0.8039, 0.9020, 0.8902,  ..., 0.3059, 0.4510, 0.3373]],\n",
       " \n",
       "          [[0.0196, 0.0824, 0.1294,  ..., 0.0549, 0.1725, 0.1020],\n",
       "           [0.0627, 0.0588, 0.1569,  ..., 0.0745, 0.2588, 0.1216],\n",
       "           [0.0471, 0.0431, 0.0510,  ..., 0.0000, 0.2471, 0.0667],\n",
       "           ...,\n",
       "           [0.0627, 0.0510, 0.0275,  ..., 0.1490, 0.1804, 0.1333],\n",
       "           [0.5490, 0.8627, 0.8667,  ..., 0.1255, 0.0784, 0.2118],\n",
       "           [0.6510, 0.9569, 0.9059,  ..., 0.1294, 0.2118, 0.1569]]],\n",
       " \n",
       " \n",
       "         [[[0.2431, 0.2431, 0.2588,  ..., 0.4784, 0.4392, 0.4000],\n",
       "           [0.2745, 0.2588, 0.2627,  ..., 0.4745, 0.4314, 0.4000],\n",
       "           [0.2941, 0.2824, 0.2824,  ..., 0.4863, 0.4392, 0.3804],\n",
       "           ...,\n",
       "           [0.2275, 0.2471, 0.2824,  ..., 0.3569, 0.4000, 0.3373],\n",
       "           [0.2078, 0.2314, 0.2549,  ..., 0.3608, 0.3804, 0.3529],\n",
       "           [0.2196, 0.2118, 0.2431,  ..., 0.3804, 0.4039, 0.3176]],\n",
       " \n",
       "          [[0.2510, 0.2471, 0.2588,  ..., 0.4902, 0.4510, 0.4275],\n",
       "           [0.2784, 0.2627, 0.2627,  ..., 0.4745, 0.4431, 0.4118],\n",
       "           [0.2941, 0.2863, 0.2824,  ..., 0.4824, 0.4431, 0.3961],\n",
       "           ...,\n",
       "           [0.3137, 0.3216, 0.3451,  ..., 0.3765, 0.4078, 0.3333],\n",
       "           [0.2510, 0.2667, 0.2824,  ..., 0.3765, 0.3725, 0.3333],\n",
       "           [0.2431, 0.2314, 0.2471,  ..., 0.3922, 0.3804, 0.3059]],\n",
       " \n",
       "          [[0.2549, 0.2431, 0.2510,  ..., 0.3765, 0.3451, 0.3333],\n",
       "           [0.2863, 0.2588, 0.2588,  ..., 0.3569, 0.3333, 0.3137],\n",
       "           [0.3137, 0.2941, 0.2824,  ..., 0.3647, 0.3333, 0.2980],\n",
       "           ...,\n",
       "           [0.2078, 0.2275, 0.2627,  ..., 0.2824, 0.3255, 0.2510],\n",
       "           [0.2078, 0.2353, 0.2588,  ..., 0.2824, 0.2941, 0.2549],\n",
       "           [0.2275, 0.2275, 0.2549,  ..., 0.3020, 0.3098, 0.2235]]],\n",
       " \n",
       " \n",
       "         ...,\n",
       " \n",
       " \n",
       "         [[[0.5686, 0.6353, 0.6902,  ..., 0.4549, 0.4196, 0.4941],\n",
       "           [0.4941, 0.6745, 0.7059,  ..., 0.5059, 0.5255, 0.5647],\n",
       "           [0.5294, 0.6431, 0.7098,  ..., 0.6000, 0.4196, 0.5020],\n",
       "           ...,\n",
       "           [0.2549, 0.5216, 0.3961,  ..., 0.6667, 0.6784, 0.5608],\n",
       "           [0.3490, 0.2706, 0.4314,  ..., 0.6078, 0.6588, 0.6078],\n",
       "           [0.0863, 0.4392, 0.3373,  ..., 0.6588, 0.6941, 0.6510]],\n",
       " \n",
       "          [[0.6510, 0.7059, 0.7686,  ..., 0.5529, 0.5373, 0.5647],\n",
       "           [0.5686, 0.7569, 0.7725,  ..., 0.5725, 0.5843, 0.6510],\n",
       "           [0.5961, 0.7451, 0.7647,  ..., 0.6235, 0.5216, 0.5804],\n",
       "           ...,\n",
       "           [0.2627, 0.5490, 0.5176,  ..., 0.6667, 0.6549, 0.5686],\n",
       "           [0.3176, 0.3020, 0.5216,  ..., 0.6510, 0.6706, 0.6039],\n",
       "           [0.1373, 0.4235, 0.4627,  ..., 0.7255, 0.7176, 0.6980]],\n",
       " \n",
       "          [[0.6118, 0.7098, 0.7647,  ..., 0.2235, 0.1608, 0.3647],\n",
       "           [0.5608, 0.7333, 0.7451,  ..., 0.3490, 0.4078, 0.4118],\n",
       "           [0.5882, 0.6980, 0.7569,  ..., 0.5843, 0.2196, 0.4510],\n",
       "           ...,\n",
       "           [0.1294, 0.3922, 0.3647,  ..., 0.4784, 0.4667, 0.3961],\n",
       "           [0.2784, 0.1804, 0.4235,  ..., 0.4235, 0.4745, 0.4510],\n",
       "           [0.0235, 0.2588, 0.2941,  ..., 0.5373, 0.5490, 0.5098]]],\n",
       " \n",
       " \n",
       "         [[[0.3333, 0.0745, 0.1882,  ..., 0.4431, 0.3059, 0.2039],\n",
       "           [0.1961, 0.1020, 0.1686,  ..., 0.3098, 0.3765, 0.3804],\n",
       "           [0.2118, 0.2118, 0.2431,  ..., 0.7686, 0.2314, 0.4000],\n",
       "           ...,\n",
       "           [0.8196, 0.8314, 0.8431,  ..., 0.2196, 0.1137, 0.1020],\n",
       "           [0.8118, 0.8196, 0.8275,  ..., 0.1608, 0.1373, 0.0980],\n",
       "           [0.8000, 0.8078, 0.8235,  ..., 0.1804, 0.2196, 0.0941]],\n",
       " \n",
       "          [[0.3255, 0.0745, 0.1922,  ..., 0.4392, 0.3137, 0.2235],\n",
       "           [0.1922, 0.1059, 0.1725,  ..., 0.3176, 0.3843, 0.3961],\n",
       "           [0.2235, 0.2157, 0.2431,  ..., 0.7843, 0.2431, 0.4078],\n",
       "           ...,\n",
       "           [0.8157, 0.8314, 0.8431,  ..., 0.2353, 0.1255, 0.1216],\n",
       "           [0.8039, 0.8118, 0.8196,  ..., 0.1686, 0.1490, 0.1137],\n",
       "           [0.7961, 0.8039, 0.8157,  ..., 0.1882, 0.2275, 0.1137]],\n",
       " \n",
       "          [[0.3373, 0.0824, 0.2078,  ..., 0.4667, 0.3412, 0.2157],\n",
       "           [0.2118, 0.1137, 0.1804,  ..., 0.3373, 0.4275, 0.4039],\n",
       "           [0.2431, 0.2235, 0.2392,  ..., 0.8157, 0.2863, 0.4392],\n",
       "           ...,\n",
       "           [0.8863, 0.8980, 0.9098,  ..., 0.2431, 0.1255, 0.0980],\n",
       "           [0.8784, 0.8784, 0.9020,  ..., 0.1569, 0.1333, 0.0902],\n",
       "           [0.8667, 0.8667, 0.8980,  ..., 0.1765, 0.2157, 0.0902]]],\n",
       " \n",
       " \n",
       "         [[[0.5294, 0.5294, 0.5216,  ..., 0.5804, 0.5725, 0.5333],\n",
       "           [0.5137, 0.5216, 0.5608,  ..., 0.6039, 0.5686, 0.5608],\n",
       "           [0.5255, 0.6588, 0.4431,  ..., 0.6039, 0.5804, 0.5608],\n",
       "           ...,\n",
       "           [0.0118, 0.0118, 0.0314,  ..., 0.0706, 0.0667, 0.0667],\n",
       "           [0.0078, 0.1529, 0.0235,  ..., 0.0667, 0.0353, 0.0275],\n",
       "           [0.0039, 0.0196, 0.0235,  ..., 0.0588, 0.0392, 0.0431]],\n",
       " \n",
       "          [[0.4510, 0.4471, 0.4510,  ..., 0.6431, 0.6275, 0.6078],\n",
       "           [0.4784, 0.4667, 0.4784,  ..., 0.6549, 0.6275, 0.6078],\n",
       "           [0.4549, 0.6549, 0.4431,  ..., 0.6549, 0.6392, 0.6039],\n",
       "           ...,\n",
       "           [0.0039, 0.0078, 0.0235,  ..., 0.0824, 0.0784, 0.0667],\n",
       "           [0.0078, 0.1451, 0.0118,  ..., 0.0784, 0.0431, 0.0471],\n",
       "           [0.0039, 0.0118, 0.0157,  ..., 0.0667, 0.0471, 0.0510]],\n",
       " \n",
       "          [[0.5686, 0.5647, 0.5686,  ..., 0.7529, 0.7333, 0.7059],\n",
       "           [0.6078, 0.6118, 0.6314,  ..., 0.7647, 0.7216, 0.7098],\n",
       "           [0.5569, 0.8000, 0.5765,  ..., 0.6980, 0.7255, 0.6863],\n",
       "           ...,\n",
       "           [0.0157, 0.0157, 0.0353,  ..., 0.1176, 0.1137, 0.1137],\n",
       "           [0.0118, 0.1647, 0.0196,  ..., 0.1216, 0.0902, 0.0941],\n",
       "           [0.0118, 0.0314, 0.0157,  ..., 0.1137, 0.0941, 0.1020]]]])}"
      ]
     },
     "execution_count": 9,
     "metadata": {},
     "output_type": "execute_result"
    }
   ],
   "source": [
    "d = torch.load('testing.pt')\n",
    "d"
   ]
  },
  {
   "cell_type": "code",
   "execution_count": 10,
   "metadata": {},
   "outputs": [],
   "source": [
    "model = learner.clone()"
   ]
  },
  {
   "cell_type": "code",
   "execution_count": 11,
   "metadata": {},
   "outputs": [
    {
     "name": "stderr",
     "output_type": "stream",
     "text": [
      "/home/anuj/anaconda3/envs/torch/lib/python3.8/site-packages/torch/nn/functional.py:718: UserWarning: Named tensors and all their associated APIs are an experimental feature and subject to change. Please do not use them for anything important until they are released as stable. (Triggered internally at  /opt/conda/conda-bld/pytorch_1623448278899/work/c10/core/TensorImpl.h:1156.)\n",
      "  return torch.max_pool2d(input, kernel_size, stride, padding, dilation, ceil_mode)\n"
     ]
    },
    {
     "data": {
      "text/plain": [
       "{'elbo': tensor(232.0746, grad_fn=<AddBackward0>),\n",
       " 'label_kl': tensor(19.9467, grad_fn=<MeanBackward0>),\n",
       " 'style_kl': tensor(22.4856, grad_fn=<MeanBackward0>),\n",
       " 'reconstruction_loss': tensor(2623.4343, grad_fn=<MeanBackward0>),\n",
       " 'classification_loss': tensor(1.6341, grad_fn=<NllLossBackward>)}"
      ]
     },
     "execution_count": 11,
     "metadata": {},
     "output_type": "execute_result"
    }
   ],
   "source": [
    "reconst_image, logits, mu_l, log_var_l, mu_s, log_var_s = model(support)\n",
    "adapt_loss = loss(reconst_loss, reconst_image, support, logits, support_labels, mu_s, log_var_s, mu_l, log_var_l)\n",
    "adapt_loss"
   ]
  },
  {
   "cell_type": "code",
   "execution_count": 13,
   "metadata": {},
   "outputs": [],
   "source": [
    "dl = {\"label_latents\": [mu_l, log_var_l], \"style_latents\": [mu_s, log_var_s]}\n",
    "torch.save(dl, 'testing_l.pt')"
   ]
  },
  {
   "cell_type": "code",
   "execution_count": 21,
   "metadata": {},
   "outputs": [],
   "source": [
    "model.adapt(adapt_loss[0])"
   ]
  },
  {
   "cell_type": "code",
   "execution_count": 29,
   "metadata": {},
   "outputs": [
    {
     "data": {
      "text/plain": [
       "tensor([[0.0671, 0.1224, 0.1134, 0.1977, 0.4994],\n",
       "        [0.0495, 0.0567, 0.0615, 0.0856, 0.7466],\n",
       "        [0.0616, 0.1182, 0.0882, 0.0639, 0.6681],\n",
       "        [0.1082, 0.1271, 0.1970, 0.1099, 0.4578],\n",
       "        [0.1577, 0.2765, 0.2085, 0.1579, 0.1994],\n",
       "        [0.2518, 0.1493, 0.2866, 0.1699, 0.1425],\n",
       "        [0.1147, 0.1307, 0.3507, 0.2322, 0.1718],\n",
       "        [0.1675, 0.1424, 0.3328, 0.1532, 0.2042],\n",
       "        [0.1277, 0.1921, 0.2469, 0.1764, 0.2570],\n",
       "        [0.1496, 0.2345, 0.2737, 0.1282, 0.2140],\n",
       "        [0.2273, 0.2629, 0.1814, 0.1745, 0.1539],\n",
       "        [0.2630, 0.2246, 0.0819, 0.1546, 0.2759],\n",
       "        [0.3271, 0.1557, 0.1397, 0.2652, 0.1123],\n",
       "        [0.3151, 0.2511, 0.1084, 0.1540, 0.1715],\n",
       "        [0.2765, 0.1391, 0.1244, 0.3009, 0.1591],\n",
       "        [0.2782, 0.2093, 0.2391, 0.1639, 0.1095],\n",
       "        [0.2384, 0.2250, 0.1913, 0.1731, 0.1722],\n",
       "        [0.1471, 0.3402, 0.1831, 0.1211, 0.2085],\n",
       "        [0.2134, 0.2904, 0.2023, 0.1475, 0.1463],\n",
       "        [0.1804, 0.2893, 0.1912, 0.1854, 0.1536],\n",
       "        [0.1903, 0.1011, 0.0828, 0.5309, 0.0950],\n",
       "        [0.1580, 0.1425, 0.1449, 0.3783, 0.1763],\n",
       "        [0.1235, 0.1248, 0.1716, 0.4096, 0.1705],\n",
       "        [0.1667, 0.2059, 0.1632, 0.2681, 0.1961],\n",
       "        [0.1170, 0.0990, 0.1260, 0.5177, 0.1403]], grad_fn=<SoftmaxBackward>)"
      ]
     },
     "execution_count": 29,
     "metadata": {},
     "output_type": "execute_result"
    }
   ],
   "source": [
    "F.softmax(logits, dim=1)"
   ]
  },
  {
   "cell_type": "code",
   "execution_count": 22,
   "metadata": {},
   "outputs": [],
   "source": [
    "task = train_tasks.sample()\n",
    "model = learner.clone()\n",
    "evaluation_loss, evaluation_accuracy = inner_adapt_delpo(\n",
    "            task, reconst_loss, model, n_ways, k_shots, q_shots, inner_adapt_steps_train, device)"
   ]
  },
  {
   "cell_type": "code",
   "execution_count": null,
   "metadata": {},
   "outputs": [
    {
     "ename": "Error",
     "evalue": "Kernel is dead",
     "output_type": "error",
     "traceback": [
      "Error: Kernel is dead",
      "at g._sendKernelShellControl (/home/anuj/.vscode/extensions/ms-toolsai.jupyter-2021.8.2041215044/out/client/extension.js:52:1006195)",
      "at g.sendShellMessage (/home/anuj/.vscode/extensions/ms-toolsai.jupyter-2021.8.2041215044/out/client/extension.js:52:1005964)",
      "at g.requestExecute (/home/anuj/.vscode/extensions/ms-toolsai.jupyter-2021.8.2041215044/out/client/extension.js:52:1008506)",
      "at d.requestExecute (/home/anuj/.vscode/extensions/ms-toolsai.jupyter-2021.8.2041215044/out/client/extension.js:37:325680)",
      "at w.requestExecute (/home/anuj/.vscode/extensions/ms-toolsai.jupyter-2021.8.2041215044/out/client/extension.js:32:18027)",
      "at w.executeCodeCell (/home/anuj/.vscode/extensions/ms-toolsai.jupyter-2021.8.2041215044/out/client/extension.js:52:301076)",
      "at w.execute (/home/anuj/.vscode/extensions/ms-toolsai.jupyter-2021.8.2041215044/out/client/extension.js:52:300703)",
      "at w.start (/home/anuj/.vscode/extensions/ms-toolsai.jupyter-2021.8.2041215044/out/client/extension.js:52:296367)",
      "at runMicrotasks (<anonymous>)",
      "at processTicksAndRejections (internal/process/task_queues.js:93:5)",
      "at async t.CellExecutionQueue.executeQueuedCells (/home/anuj/.vscode/extensions/ms-toolsai.jupyter-2021.8.2041215044/out/client/extension.js:52:311160)",
      "at async t.CellExecutionQueue.start (/home/anuj/.vscode/extensions/ms-toolsai.jupyter-2021.8.2041215044/out/client/extension.js:52:310700)"
     ]
    }
   ],
   "source": [
    "evaluation_loss"
   ]
  },
  {
   "cell_type": "code",
   "execution_count": 21,
   "metadata": {},
   "outputs": [],
   "source": [
    "evaluation_loss[0].backward()\n",
    "meta_train_loss.append(evaluation_loss[0])\n",
    "meta_train_acc.append(evaluation_accuracy)\n"
   ]
  },
  {
   "cell_type": "code",
   "execution_count": 11,
   "metadata": {},
   "outputs": [
    {
     "data": {
      "text/plain": [
       "tensor(16.9887, grad_fn=<AddBackward0>)"
      ]
     },
     "execution_count": 11,
     "metadata": {},
     "output_type": "execute_result"
    }
   ],
   "source": [
    "evaluation_loss[0]"
   ]
  },
  {
   "cell_type": "code",
   "execution_count": null,
   "metadata": {},
   "outputs": [],
   "source": [
    "for p in learner.parameters():\n",
    "    p.grad.data.mul_(1.0 / 3)\n",
    "opt.step()"
   ]
  },
  {
   "cell_type": "code",
   "execution_count": 7,
   "metadata": {},
   "outputs": [
    {
     "name": "stderr",
     "output_type": "stream",
     "text": [
      "/home/anuj/anaconda3/envs/torch/lib/python3.8/site-packages/torch/nn/functional.py:718: UserWarning: Named tensors and all their associated APIs are an experimental feature and subject to change. Please do not use them for anything important until they are released as stable. (Triggered internally at  /opt/conda/conda-bld/pytorch_1623448278899/work/c10/core/TensorImpl.h:1156.)\n",
      "  return torch.max_pool2d(input, kernel_size, stride, padding, dilation, ceil_mode)\n"
     ]
    }
   ],
   "source": [
    "for iter in range(10):\n",
    "    opt.zero_grad()\n",
    "    meta_train_losses = []\n",
    "    meta_valid_losses = []\n",
    "    meta_train_acc = []\n",
    "    meta_valid_acc = []\n",
    "\n",
    "    for batch in range(5):\n",
    "        ttask = train_tasks.sample()\n",
    "        model = learner.clone()\n",
    "        evaluation_loss, evaluation_accuracy = inner_adapt_delpo(\n",
    "            ttask, reconst_loss, model, n_ways, k_shots, q_shots, inner_adapt_steps_train, device)\n",
    "        evaluation_loss[0].backward()\n",
    "        meta_train_losses.append([l.item() for l in evaluation_loss])\n",
    "        meta_train_acc.append(evaluation_accuracy.item())\n",
    "\n",
    "    vtask = valid_tasks.sample()\n",
    "    model = learner.clone()\n",
    "    validation_loss, validation_accuracy = inner_adapt_delpo(\n",
    "        vtask, reconst_loss, model, n_ways, k_shots, q_shots, inner_adapt_steps_train, device)\n",
    "    meta_valid_losses.append([l.item() for l in validation_loss])\n",
    "    meta_valid_acc.append(validation_accuracy.item())\n",
    "\n",
    "    for p in learner.parameters():\n",
    "        p.grad.data.mul_(1.0 / 5)\n",
    "    opt.step()"
   ]
  },
  {
   "cell_type": "code",
   "execution_count": 10,
   "metadata": {},
   "outputs": [
    {
     "data": {
      "text/plain": [
       "[[207.71360778808594,\n",
       "  21.771520614624023,\n",
       "  6.7143144607543945,\n",
       "  2425.524658203125,\n",
       "  1.5497252941131592],\n",
       " [194.03419494628906,\n",
       "  21.9337100982666,\n",
       "  5.416471481323242,\n",
       "  2459.828857421875,\n",
       "  1.4208571910858154],\n",
       " [199.2206268310547,\n",
       "  30.40707015991211,\n",
       "  5.68020486831665,\n",
       "  2262.280517578125,\n",
       "  1.405105471611023],\n",
       " [203.253662109375,\n",
       "  22.707983016967773,\n",
       "  5.878161430358887,\n",
       "  2504.766357421875,\n",
       "  1.4961985349655151],\n",
       " [195.3379364013672,\n",
       "  20.966901779174805,\n",
       "  7.109440326690674,\n",
       "  2023.20703125,\n",
       "  1.4702953100204468]]"
      ]
     },
     "execution_count": 10,
     "metadata": {},
     "output_type": "execute_result"
    }
   ],
   "source": [
    "meta_train_losses"
   ]
  },
  {
   "cell_type": "code",
   "execution_count": 9,
   "metadata": {},
   "outputs": [
    {
     "data": {
      "text/plain": [
       "array([2.07713608e+02, 2.17715206e+01, 6.71431446e+00, 2.42552466e+03,\n",
       "       1.54972529e+00, 1.94034195e+02, 2.19337101e+01, 5.41647148e+00,\n",
       "       2.45982886e+03, 1.42085719e+00, 1.99220627e+02, 3.04070702e+01,\n",
       "       5.68020487e+00, 2.26228052e+03, 1.40510547e+00, 2.03253662e+02,\n",
       "       2.27079830e+01, 5.87816143e+00, 2.50476636e+03, 1.49619853e+00,\n",
       "       1.95337936e+02, 2.09669018e+01, 7.10944033e+00, 2.02320703e+03,\n",
       "       1.47029531e+00])"
      ]
     },
     "execution_count": 9,
     "metadata": {},
     "output_type": "execute_result"
    }
   ],
   "source": [
    "y = np.hstack(meta_train_losses)\n",
    "y"
   ]
  },
  {
   "cell_type": "code",
   "execution_count": 12,
   "metadata": {},
   "outputs": [
    {
     "data": {
      "text/plain": [
       "199.91200561523436"
      ]
     },
     "execution_count": 12,
     "metadata": {},
     "output_type": "execute_result"
    }
   ],
   "source": [
    "y[::5].mean()"
   ]
  },
  {
   "cell_type": "code",
   "execution_count": 14,
   "metadata": {},
   "outputs": [
    {
     "data": {
      "text/plain": [
       "array([0.29333332, 0.37333333, 0.42666668, 0.40000001, 0.34666666])"
      ]
     },
     "execution_count": 14,
     "metadata": {},
     "output_type": "execute_result"
    }
   ],
   "source": [
    "y1 = np.array(meta_train_acc)\n",
    "y1"
   ]
  }
 ],
 "metadata": {
  "environment": {
   "name": "pytorch-gpu.1-8.m71",
   "type": "gcloud",
   "uri": "gcr.io/deeplearning-platform-release/pytorch-gpu.1-8:m71"
  },
  "interpreter": {
   "hash": "7e3af266dcb7df8b026f0780dbb396b062ee5ca2767a18f50e60e26ee6084121"
  },
  "kernelspec": {
   "display_name": "Python 3.8.11 64-bit ('torch': conda)",
   "name": "python3"
  },
  "language_info": {
   "codemirror_mode": {
    "name": "ipython",
    "version": 3
   },
   "file_extension": ".py",
   "mimetype": "text/x-python",
   "name": "python",
   "nbconvert_exporter": "python",
   "pygments_lexer": "ipython3",
   "version": "3.8.11"
  }
 },
 "nbformat": 4,
 "nbformat_minor": 5
}

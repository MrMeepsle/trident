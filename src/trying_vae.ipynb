{
 "cells": [
  {
   "cell_type": "markdown",
   "metadata": {},
   "source": [
    "classifiers: nn.crossentropyloss = -log-likelihood --- use for logp(y) and -logq(y/x) for support <br>\n",
    "kl-div: <br>\n",
    "reconstr-loss: set reduction to none and then take mean of losses per image in the total batch. This gives reconstr-loss per image for further computation<br> "
   ]
  },
  {
   "cell_type": "code",
   "execution_count": 1,
   "metadata": {},
   "outputs": [],
   "source": [
    "import sys\n",
    "import random\n",
    "import numpy as np\n",
    "import torch\n",
    "import learn2learn as l2l\n",
    "import pandas as pd\n",
    "\n",
    "from torch import nn, optim\n",
    "from torch.nn import functional as F\n",
    "from torchvision import datasets, transforms\n",
    "from PIL.Image import LANCZOS\n",
    "import wandb"
   ]
  },
  {
   "cell_type": "code",
   "execution_count": 2,
   "metadata": {},
   "outputs": [
    {
     "data": {
      "text/plain": [
       "True"
      ]
     },
     "execution_count": 2,
     "metadata": {},
     "output_type": "execute_result"
    }
   ],
   "source": [
    "torch.cuda.is_available()"
   ]
  },
  {
   "cell_type": "code",
   "execution_count": 3,
   "metadata": {},
   "outputs": [
    {
     "data": {
      "text/plain": [
       "['/home/anuj/Desktop/Work/TU_Delft/research/implement/learning_to_meta-learn/src',\n",
       " '/home/anuj/.vscode/extensions/ms-toolsai.jupyter-2021.9.1001312534/pythonFiles',\n",
       " '/home/anuj/.vscode/extensions/ms-toolsai.jupyter-2021.9.1001312534/pythonFiles/lib/python',\n",
       " '/home/anuj/anaconda3/envs/torch/lib/python38.zip',\n",
       " '/home/anuj/anaconda3/envs/torch/lib/python3.8',\n",
       " '/home/anuj/anaconda3/envs/torch/lib/python3.8/lib-dynload',\n",
       " '',\n",
       " '/home/anuj/anaconda3/envs/torch/lib/python3.8/site-packages',\n",
       " '/home/anuj/anaconda3/envs/torch/lib/python3.8/site-packages/datasets-1.2.1-py3.8.egg',\n",
       " '/home/anuj/anaconda3/envs/torch/lib/python3.8/site-packages/locket-0.2.1-py3.8.egg',\n",
       " '/home/anuj/anaconda3/envs/torch/lib/python3.8/site-packages/IPython/extensions',\n",
       " '/home/anuj/.ipython',\n",
       " '/home/anuj/Desktop/Work/TU_Delft/research/implement/learning_to_meta-learn']"
      ]
     },
     "execution_count": 3,
     "metadata": {},
     "output_type": "execute_result"
    }
   ],
   "source": [
    "sys.path.append('/home/anuj/Desktop/Work/TU_Delft/research/implement/learning_to_meta-learn')\n",
    "sys.path"
   ]
  },
  {
   "cell_type": "code",
   "execution_count": 4,
   "metadata": {},
   "outputs": [],
   "source": [
    "#from data.loaders import Omniglotmix, MiniImageNet\n",
    "from data.taskers import gen_tasks\n",
    "from src.zoo.archs import CCVAE, CEncoder, Classifier_VAE\n",
    "from src.zoo.delpo_utils import setup, inner_adapt_delpo, loss, accuracy\n",
    "from src.utils2 import Profiler"
   ]
  },
  {
   "cell_type": "code",
   "execution_count": 10,
   "metadata": {},
   "outputs": [],
   "source": [
    "train_tasks = gen_tasks(dataname='miniimagenet', root='../../dataset/mini_imagenet', mode='train', n_ways=5, k_shots=5, q_shots=15, image_transforms=None)"
   ]
  },
  {
   "cell_type": "code",
   "execution_count": 21,
   "metadata": {},
   "outputs": [
    {
     "name": "stderr",
     "output_type": "stream",
     "text": [
      "/home/anuj/anaconda3/envs/torch/lib/python3.8/site-packages/torchvision/transforms/transforms.py:280: UserWarning: Argument interpolation should be of type InterpolationMode instead of int. Please, use InterpolationMode enum.\n",
      "  warnings.warn(\n"
     ]
    }
   ],
   "source": [
    "classes = list(range(1623))\n",
    "random.shuffle(classes)\n",
    "image_transforms = transforms.Compose([transforms.Resize(28, interpolation=LANCZOS),\n",
    "                                                    transforms.ToTensor(),\n",
    "                                                    lambda x: 1.0 - x,\n",
    "                                                ])\n",
    "train_tasks = gen_tasks('omniglot', '/home/anuj/Desktop/Work/TU_Delft/research/implement/omniglot', image_transforms=image_transforms, n_ways=5, k_shots=5, q_shots=5, classes=classes[:1100])"
   ]
  },
  {
   "cell_type": "code",
   "execution_count": 6,
   "metadata": {},
   "outputs": [],
   "source": [
    "task = train_tasks.sample()"
   ]
  },
  {
   "cell_type": "code",
   "execution_count": 12,
   "metadata": {},
   "outputs": [
    {
     "data": {
      "text/plain": [
       "{'label_latents': [tensor([[ 0.6558, -0.1321, -0.2266,  ..., -0.8036,  0.5112,  0.1200],\n",
       "          [ 0.7546,  0.1008, -0.1327,  ..., -0.4581, -0.6979, -0.8913],\n",
       "          [ 1.1275,  0.2353, -0.3868,  ..., -0.2003, -0.2956, -0.6518],\n",
       "          ...,\n",
       "          [ 0.3954,  0.0117,  0.2331,  ..., -0.5195,  1.5961,  0.0703],\n",
       "          [ 0.5831,  0.1810, -0.2826,  ...,  0.0421,  0.2497, -0.3877],\n",
       "          [ 0.0236,  0.0432, -0.5602,  ..., -0.3434,  0.5206, -0.4129]]),\n",
       "  tensor([[ 0.3233,  0.0171, -0.9282,  ...,  0.2394, -0.7846,  0.1493],\n",
       "          [ 0.4558,  0.5093, -0.5382,  ..., -0.3772, -0.6001, -0.2965],\n",
       "          [-0.3069,  0.5045, -0.4573,  ...,  0.2668, -0.0322,  0.0196],\n",
       "          ...,\n",
       "          [ 0.1328,  0.2652, -0.8606,  ..., -0.5518, -0.6888, -0.0732],\n",
       "          [-0.1698, -0.1367, -0.5738,  ..., -0.0027, -0.1081,  0.2523],\n",
       "          [ 0.1448,  0.5585, -0.6425,  ...,  0.5092, -0.6544,  0.4169]])],\n",
       " 'style_latents': [tensor([[-0.0756,  0.1746,  0.2820,  ..., -0.3079, -0.5900,  0.2230],\n",
       "          [-0.4450, -0.1369,  0.0573,  ...,  0.5438, -0.2328, -0.3595],\n",
       "          [-0.1862, -0.0586, -0.5481,  ...,  0.1138, -0.0762, -0.3233],\n",
       "          ...,\n",
       "          [-0.0247, -0.6898, -0.5378,  ...,  0.4682,  0.1271,  0.0565],\n",
       "          [-0.1815, -0.4071, -0.0672,  ...,  0.1318,  0.0152, -0.0999],\n",
       "          [ 0.4615,  0.4123, -0.2481,  ...,  0.3256,  0.0916, -0.1957]]),\n",
       "  tensor([[-0.0339, -0.6782, -0.7556,  ...,  0.1812,  0.1694, -0.0768],\n",
       "          [ 0.1869, -0.0956,  0.0385,  ..., -0.4556,  0.1742,  0.3008],\n",
       "          [-0.5713, -0.3392, -0.7509,  ..., -0.3189, -0.0690, -0.1339],\n",
       "          ...,\n",
       "          [ 0.2956, -0.0664, -1.1441,  ...,  0.7463, -0.4180,  0.1137],\n",
       "          [ 0.0469,  0.1028, -0.1538,  ..., -0.0880, -0.0074,  0.2135],\n",
       "          [ 0.1746,  0.1842, -0.0312,  ..., -0.0648,  0.1555,  0.2438]])]}"
      ]
     },
     "execution_count": 12,
     "metadata": {},
     "output_type": "execute_result"
    }
   ],
   "source": [
    "abc = torch.load('/home/anuj/Desktop/Work/TU_Delft/research/implement/learning_to_meta-learn/logs/DELPO_miniimagenet_5-way_5-shot_15-queries/exp3/latents_epoch-0_train.pt')\n",
    "abc"
   ]
  },
  {
   "cell_type": "code",
   "execution_count": 5,
   "metadata": {},
   "outputs": [],
   "source": [
    "device = 'cuda'\n",
    "n_ways = 2\n",
    "k_shots = 1\n",
    "q_shots = 1\n",
    "dataset = 'miniimagenet'\n",
    "root = '../../dataset/mini_imagenet'\n",
    "order = False\n",
    "inner_lr = 0.001\n",
    "meta_lr = 0.0001\n",
    "reconst_loss = nn.MSELoss(reduction='none')\n",
    "inner_adapt_steps_train = 5\n",
    "meta_batch_size = 10"
   ]
  },
  {
   "cell_type": "code",
   "execution_count": 6,
   "metadata": {},
   "outputs": [
    {
     "ename": "PermissionError",
     "evalue": "[Errno 13] Permission denied: '/home/nfs'",
     "output_type": "error",
     "traceback": [
      "\u001b[0;31m---------------------------------------------------------------------------\u001b[0m",
      "\u001b[0;31mPermissionError\u001b[0m                           Traceback (most recent call last)",
      "\u001b[0;32m/tmp/ipykernel_273348/3982764266.py\u001b[0m in \u001b[0;36m<module>\u001b[0;34m\u001b[0m\n\u001b[0;32m----> 1\u001b[0;31m profiler = Profiler('DELPO_{}_{}-way_{}-shot_{}-queries'.format('miniimagenet',\n\u001b[0m\u001b[1;32m      2\u001b[0m                         5, 1, 1), 'experiment')\n",
      "\u001b[0;32m~/Desktop/Work/TU_Delft/research/implement/learning_to_meta-learn/src/utils2.py\u001b[0m in \u001b[0;36m__init__\u001b[0;34m(self, name, experiment)\u001b[0m\n\u001b[1;32m     14\u001b[0m         \u001b[0mdf\u001b[0m \u001b[0;34m=\u001b[0m \u001b[0mpd\u001b[0m\u001b[0;34m.\u001b[0m\u001b[0mDataFrame\u001b[0m\u001b[0;34m(\u001b[0m\u001b[0mcolumns\u001b[0m\u001b[0;34m=\u001b[0m\u001b[0mcolumns\u001b[0m\u001b[0;34m)\u001b[0m\u001b[0;34m\u001b[0m\u001b[0;34m\u001b[0m\u001b[0m\n\u001b[1;32m     15\u001b[0m         \u001b[0mself\u001b[0m\u001b[0;34m.\u001b[0m\u001b[0mpath\u001b[0m \u001b[0;34m=\u001b[0m \u001b[0;34m'/home/nfs/anujsingh/meta_lrng/files/learning_to_meta-learn/logs/'\u001b[0m \u001b[0;34m+\u001b[0m \u001b[0mname\u001b[0m \u001b[0;34m+\u001b[0m \u001b[0;34m'/'\u001b[0m \u001b[0;34m+\u001b[0m \u001b[0mexperiment\u001b[0m\u001b[0;34m\u001b[0m\u001b[0;34m\u001b[0m\u001b[0m\n\u001b[0;32m---> 16\u001b[0;31m         \u001b[0mos\u001b[0m\u001b[0;34m.\u001b[0m\u001b[0mmakedirs\u001b[0m\u001b[0;34m(\u001b[0m\u001b[0mself\u001b[0m\u001b[0;34m.\u001b[0m\u001b[0mpath\u001b[0m\u001b[0;34m,\u001b[0m \u001b[0mmode\u001b[0m\u001b[0;34m=\u001b[0m\u001b[0;36m0o777\u001b[0m\u001b[0;34m)\u001b[0m\u001b[0;34m\u001b[0m\u001b[0;34m\u001b[0m\u001b[0m\n\u001b[0m\u001b[1;32m     17\u001b[0m \u001b[0;34m\u001b[0m\u001b[0m\n\u001b[1;32m     18\u001b[0m         \u001b[0mself\u001b[0m\u001b[0;34m.\u001b[0m\u001b[0mpath_train\u001b[0m \u001b[0;34m=\u001b[0m \u001b[0mself\u001b[0m\u001b[0;34m.\u001b[0m\u001b[0mpath\u001b[0m \u001b[0;34m+\u001b[0m \u001b[0;34m'/'\u001b[0m \u001b[0;34m+\u001b[0m \u001b[0;34m'train.csv'\u001b[0m\u001b[0;34m\u001b[0m\u001b[0;34m\u001b[0m\u001b[0m\n",
      "\u001b[0;32m~/anaconda3/envs/torch/lib/python3.8/os.py\u001b[0m in \u001b[0;36mmakedirs\u001b[0;34m(name, mode, exist_ok)\u001b[0m\n\u001b[1;32m    211\u001b[0m     \u001b[0;32mif\u001b[0m \u001b[0mhead\u001b[0m \u001b[0;32mand\u001b[0m \u001b[0mtail\u001b[0m \u001b[0;32mand\u001b[0m \u001b[0;32mnot\u001b[0m \u001b[0mpath\u001b[0m\u001b[0;34m.\u001b[0m\u001b[0mexists\u001b[0m\u001b[0;34m(\u001b[0m\u001b[0mhead\u001b[0m\u001b[0;34m)\u001b[0m\u001b[0;34m:\u001b[0m\u001b[0;34m\u001b[0m\u001b[0;34m\u001b[0m\u001b[0m\n\u001b[1;32m    212\u001b[0m         \u001b[0;32mtry\u001b[0m\u001b[0;34m:\u001b[0m\u001b[0;34m\u001b[0m\u001b[0;34m\u001b[0m\u001b[0m\n\u001b[0;32m--> 213\u001b[0;31m             \u001b[0mmakedirs\u001b[0m\u001b[0;34m(\u001b[0m\u001b[0mhead\u001b[0m\u001b[0;34m,\u001b[0m \u001b[0mexist_ok\u001b[0m\u001b[0;34m=\u001b[0m\u001b[0mexist_ok\u001b[0m\u001b[0;34m)\u001b[0m\u001b[0;34m\u001b[0m\u001b[0;34m\u001b[0m\u001b[0m\n\u001b[0m\u001b[1;32m    214\u001b[0m         \u001b[0;32mexcept\u001b[0m \u001b[0mFileExistsError\u001b[0m\u001b[0;34m:\u001b[0m\u001b[0;34m\u001b[0m\u001b[0;34m\u001b[0m\u001b[0m\n\u001b[1;32m    215\u001b[0m             \u001b[0;31m# Defeats race condition when another thread created the path\u001b[0m\u001b[0;34m\u001b[0m\u001b[0;34m\u001b[0m\u001b[0;34m\u001b[0m\u001b[0m\n",
      "\u001b[0;32m~/anaconda3/envs/torch/lib/python3.8/os.py\u001b[0m in \u001b[0;36mmakedirs\u001b[0;34m(name, mode, exist_ok)\u001b[0m\n\u001b[1;32m    211\u001b[0m     \u001b[0;32mif\u001b[0m \u001b[0mhead\u001b[0m \u001b[0;32mand\u001b[0m \u001b[0mtail\u001b[0m \u001b[0;32mand\u001b[0m \u001b[0;32mnot\u001b[0m \u001b[0mpath\u001b[0m\u001b[0;34m.\u001b[0m\u001b[0mexists\u001b[0m\u001b[0;34m(\u001b[0m\u001b[0mhead\u001b[0m\u001b[0;34m)\u001b[0m\u001b[0;34m:\u001b[0m\u001b[0;34m\u001b[0m\u001b[0;34m\u001b[0m\u001b[0m\n\u001b[1;32m    212\u001b[0m         \u001b[0;32mtry\u001b[0m\u001b[0;34m:\u001b[0m\u001b[0;34m\u001b[0m\u001b[0;34m\u001b[0m\u001b[0m\n\u001b[0;32m--> 213\u001b[0;31m             \u001b[0mmakedirs\u001b[0m\u001b[0;34m(\u001b[0m\u001b[0mhead\u001b[0m\u001b[0;34m,\u001b[0m \u001b[0mexist_ok\u001b[0m\u001b[0;34m=\u001b[0m\u001b[0mexist_ok\u001b[0m\u001b[0;34m)\u001b[0m\u001b[0;34m\u001b[0m\u001b[0;34m\u001b[0m\u001b[0m\n\u001b[0m\u001b[1;32m    214\u001b[0m         \u001b[0;32mexcept\u001b[0m \u001b[0mFileExistsError\u001b[0m\u001b[0;34m:\u001b[0m\u001b[0;34m\u001b[0m\u001b[0;34m\u001b[0m\u001b[0m\n\u001b[1;32m    215\u001b[0m             \u001b[0;31m# Defeats race condition when another thread created the path\u001b[0m\u001b[0;34m\u001b[0m\u001b[0;34m\u001b[0m\u001b[0;34m\u001b[0m\u001b[0m\n",
      "\u001b[0;32m~/anaconda3/envs/torch/lib/python3.8/os.py\u001b[0m in \u001b[0;36mmakedirs\u001b[0;34m(name, mode, exist_ok)\u001b[0m\n\u001b[1;32m    211\u001b[0m     \u001b[0;32mif\u001b[0m \u001b[0mhead\u001b[0m \u001b[0;32mand\u001b[0m \u001b[0mtail\u001b[0m \u001b[0;32mand\u001b[0m \u001b[0;32mnot\u001b[0m \u001b[0mpath\u001b[0m\u001b[0;34m.\u001b[0m\u001b[0mexists\u001b[0m\u001b[0;34m(\u001b[0m\u001b[0mhead\u001b[0m\u001b[0;34m)\u001b[0m\u001b[0;34m:\u001b[0m\u001b[0;34m\u001b[0m\u001b[0;34m\u001b[0m\u001b[0m\n\u001b[1;32m    212\u001b[0m         \u001b[0;32mtry\u001b[0m\u001b[0;34m:\u001b[0m\u001b[0;34m\u001b[0m\u001b[0;34m\u001b[0m\u001b[0m\n\u001b[0;32m--> 213\u001b[0;31m             \u001b[0mmakedirs\u001b[0m\u001b[0;34m(\u001b[0m\u001b[0mhead\u001b[0m\u001b[0;34m,\u001b[0m \u001b[0mexist_ok\u001b[0m\u001b[0;34m=\u001b[0m\u001b[0mexist_ok\u001b[0m\u001b[0;34m)\u001b[0m\u001b[0;34m\u001b[0m\u001b[0;34m\u001b[0m\u001b[0m\n\u001b[0m\u001b[1;32m    214\u001b[0m         \u001b[0;32mexcept\u001b[0m \u001b[0mFileExistsError\u001b[0m\u001b[0;34m:\u001b[0m\u001b[0;34m\u001b[0m\u001b[0;34m\u001b[0m\u001b[0m\n\u001b[1;32m    215\u001b[0m             \u001b[0;31m# Defeats race condition when another thread created the path\u001b[0m\u001b[0;34m\u001b[0m\u001b[0;34m\u001b[0m\u001b[0;34m\u001b[0m\u001b[0m\n",
      "\u001b[0;32m~/anaconda3/envs/torch/lib/python3.8/os.py\u001b[0m in \u001b[0;36mmakedirs\u001b[0;34m(name, mode, exist_ok)\u001b[0m\n\u001b[1;32m    211\u001b[0m     \u001b[0;32mif\u001b[0m \u001b[0mhead\u001b[0m \u001b[0;32mand\u001b[0m \u001b[0mtail\u001b[0m \u001b[0;32mand\u001b[0m \u001b[0;32mnot\u001b[0m \u001b[0mpath\u001b[0m\u001b[0;34m.\u001b[0m\u001b[0mexists\u001b[0m\u001b[0;34m(\u001b[0m\u001b[0mhead\u001b[0m\u001b[0;34m)\u001b[0m\u001b[0;34m:\u001b[0m\u001b[0;34m\u001b[0m\u001b[0;34m\u001b[0m\u001b[0m\n\u001b[1;32m    212\u001b[0m         \u001b[0;32mtry\u001b[0m\u001b[0;34m:\u001b[0m\u001b[0;34m\u001b[0m\u001b[0;34m\u001b[0m\u001b[0m\n\u001b[0;32m--> 213\u001b[0;31m             \u001b[0mmakedirs\u001b[0m\u001b[0;34m(\u001b[0m\u001b[0mhead\u001b[0m\u001b[0;34m,\u001b[0m \u001b[0mexist_ok\u001b[0m\u001b[0;34m=\u001b[0m\u001b[0mexist_ok\u001b[0m\u001b[0;34m)\u001b[0m\u001b[0;34m\u001b[0m\u001b[0;34m\u001b[0m\u001b[0m\n\u001b[0m\u001b[1;32m    214\u001b[0m         \u001b[0;32mexcept\u001b[0m \u001b[0mFileExistsError\u001b[0m\u001b[0;34m:\u001b[0m\u001b[0;34m\u001b[0m\u001b[0;34m\u001b[0m\u001b[0m\n\u001b[1;32m    215\u001b[0m             \u001b[0;31m# Defeats race condition when another thread created the path\u001b[0m\u001b[0;34m\u001b[0m\u001b[0;34m\u001b[0m\u001b[0;34m\u001b[0m\u001b[0m\n",
      "\u001b[0;32m~/anaconda3/envs/torch/lib/python3.8/os.py\u001b[0m in \u001b[0;36mmakedirs\u001b[0;34m(name, mode, exist_ok)\u001b[0m\n\u001b[1;32m    211\u001b[0m     \u001b[0;32mif\u001b[0m \u001b[0mhead\u001b[0m \u001b[0;32mand\u001b[0m \u001b[0mtail\u001b[0m \u001b[0;32mand\u001b[0m \u001b[0;32mnot\u001b[0m \u001b[0mpath\u001b[0m\u001b[0;34m.\u001b[0m\u001b[0mexists\u001b[0m\u001b[0;34m(\u001b[0m\u001b[0mhead\u001b[0m\u001b[0;34m)\u001b[0m\u001b[0;34m:\u001b[0m\u001b[0;34m\u001b[0m\u001b[0;34m\u001b[0m\u001b[0m\n\u001b[1;32m    212\u001b[0m         \u001b[0;32mtry\u001b[0m\u001b[0;34m:\u001b[0m\u001b[0;34m\u001b[0m\u001b[0;34m\u001b[0m\u001b[0m\n\u001b[0;32m--> 213\u001b[0;31m             \u001b[0mmakedirs\u001b[0m\u001b[0;34m(\u001b[0m\u001b[0mhead\u001b[0m\u001b[0;34m,\u001b[0m \u001b[0mexist_ok\u001b[0m\u001b[0;34m=\u001b[0m\u001b[0mexist_ok\u001b[0m\u001b[0;34m)\u001b[0m\u001b[0;34m\u001b[0m\u001b[0;34m\u001b[0m\u001b[0m\n\u001b[0m\u001b[1;32m    214\u001b[0m         \u001b[0;32mexcept\u001b[0m \u001b[0mFileExistsError\u001b[0m\u001b[0;34m:\u001b[0m\u001b[0;34m\u001b[0m\u001b[0;34m\u001b[0m\u001b[0m\n\u001b[1;32m    215\u001b[0m             \u001b[0;31m# Defeats race condition when another thread created the path\u001b[0m\u001b[0;34m\u001b[0m\u001b[0;34m\u001b[0m\u001b[0;34m\u001b[0m\u001b[0m\n",
      "\u001b[0;32m~/anaconda3/envs/torch/lib/python3.8/os.py\u001b[0m in \u001b[0;36mmakedirs\u001b[0;34m(name, mode, exist_ok)\u001b[0m\n\u001b[1;32m    211\u001b[0m     \u001b[0;32mif\u001b[0m \u001b[0mhead\u001b[0m \u001b[0;32mand\u001b[0m \u001b[0mtail\u001b[0m \u001b[0;32mand\u001b[0m \u001b[0;32mnot\u001b[0m \u001b[0mpath\u001b[0m\u001b[0;34m.\u001b[0m\u001b[0mexists\u001b[0m\u001b[0;34m(\u001b[0m\u001b[0mhead\u001b[0m\u001b[0;34m)\u001b[0m\u001b[0;34m:\u001b[0m\u001b[0;34m\u001b[0m\u001b[0;34m\u001b[0m\u001b[0m\n\u001b[1;32m    212\u001b[0m         \u001b[0;32mtry\u001b[0m\u001b[0;34m:\u001b[0m\u001b[0;34m\u001b[0m\u001b[0;34m\u001b[0m\u001b[0m\n\u001b[0;32m--> 213\u001b[0;31m             \u001b[0mmakedirs\u001b[0m\u001b[0;34m(\u001b[0m\u001b[0mhead\u001b[0m\u001b[0;34m,\u001b[0m \u001b[0mexist_ok\u001b[0m\u001b[0;34m=\u001b[0m\u001b[0mexist_ok\u001b[0m\u001b[0;34m)\u001b[0m\u001b[0;34m\u001b[0m\u001b[0;34m\u001b[0m\u001b[0m\n\u001b[0m\u001b[1;32m    214\u001b[0m         \u001b[0;32mexcept\u001b[0m \u001b[0mFileExistsError\u001b[0m\u001b[0;34m:\u001b[0m\u001b[0;34m\u001b[0m\u001b[0;34m\u001b[0m\u001b[0m\n\u001b[1;32m    215\u001b[0m             \u001b[0;31m# Defeats race condition when another thread created the path\u001b[0m\u001b[0;34m\u001b[0m\u001b[0;34m\u001b[0m\u001b[0;34m\u001b[0m\u001b[0m\n",
      "\u001b[0;32m~/anaconda3/envs/torch/lib/python3.8/os.py\u001b[0m in \u001b[0;36mmakedirs\u001b[0;34m(name, mode, exist_ok)\u001b[0m\n\u001b[1;32m    211\u001b[0m     \u001b[0;32mif\u001b[0m \u001b[0mhead\u001b[0m \u001b[0;32mand\u001b[0m \u001b[0mtail\u001b[0m \u001b[0;32mand\u001b[0m \u001b[0;32mnot\u001b[0m \u001b[0mpath\u001b[0m\u001b[0;34m.\u001b[0m\u001b[0mexists\u001b[0m\u001b[0;34m(\u001b[0m\u001b[0mhead\u001b[0m\u001b[0;34m)\u001b[0m\u001b[0;34m:\u001b[0m\u001b[0;34m\u001b[0m\u001b[0;34m\u001b[0m\u001b[0m\n\u001b[1;32m    212\u001b[0m         \u001b[0;32mtry\u001b[0m\u001b[0;34m:\u001b[0m\u001b[0;34m\u001b[0m\u001b[0;34m\u001b[0m\u001b[0m\n\u001b[0;32m--> 213\u001b[0;31m             \u001b[0mmakedirs\u001b[0m\u001b[0;34m(\u001b[0m\u001b[0mhead\u001b[0m\u001b[0;34m,\u001b[0m \u001b[0mexist_ok\u001b[0m\u001b[0;34m=\u001b[0m\u001b[0mexist_ok\u001b[0m\u001b[0;34m)\u001b[0m\u001b[0;34m\u001b[0m\u001b[0;34m\u001b[0m\u001b[0m\n\u001b[0m\u001b[1;32m    214\u001b[0m         \u001b[0;32mexcept\u001b[0m \u001b[0mFileExistsError\u001b[0m\u001b[0;34m:\u001b[0m\u001b[0;34m\u001b[0m\u001b[0;34m\u001b[0m\u001b[0m\n\u001b[1;32m    215\u001b[0m             \u001b[0;31m# Defeats race condition when another thread created the path\u001b[0m\u001b[0;34m\u001b[0m\u001b[0;34m\u001b[0m\u001b[0;34m\u001b[0m\u001b[0m\n",
      "\u001b[0;32m~/anaconda3/envs/torch/lib/python3.8/os.py\u001b[0m in \u001b[0;36mmakedirs\u001b[0;34m(name, mode, exist_ok)\u001b[0m\n\u001b[1;32m    221\u001b[0m             \u001b[0;32mreturn\u001b[0m\u001b[0;34m\u001b[0m\u001b[0;34m\u001b[0m\u001b[0m\n\u001b[1;32m    222\u001b[0m     \u001b[0;32mtry\u001b[0m\u001b[0;34m:\u001b[0m\u001b[0;34m\u001b[0m\u001b[0;34m\u001b[0m\u001b[0m\n\u001b[0;32m--> 223\u001b[0;31m         \u001b[0mmkdir\u001b[0m\u001b[0;34m(\u001b[0m\u001b[0mname\u001b[0m\u001b[0;34m,\u001b[0m \u001b[0mmode\u001b[0m\u001b[0;34m)\u001b[0m\u001b[0;34m\u001b[0m\u001b[0;34m\u001b[0m\u001b[0m\n\u001b[0m\u001b[1;32m    224\u001b[0m     \u001b[0;32mexcept\u001b[0m \u001b[0mOSError\u001b[0m\u001b[0;34m:\u001b[0m\u001b[0;34m\u001b[0m\u001b[0;34m\u001b[0m\u001b[0m\n\u001b[1;32m    225\u001b[0m         \u001b[0;31m# Cannot rely on checking for EEXIST, since the operating system\u001b[0m\u001b[0;34m\u001b[0m\u001b[0;34m\u001b[0m\u001b[0;34m\u001b[0m\u001b[0m\n",
      "\u001b[0;31mPermissionError\u001b[0m: [Errno 13] Permission denied: '/home/nfs'"
     ]
    }
   ],
   "source": [
    "profiler = Profiler('DELPO_{}_{}-way_{}-shot_{}-queries'.format('miniimagenet',\n",
    "                        5, 1, 1), 'experiment')"
   ]
  },
  {
   "cell_type": "code",
   "execution_count": 6,
   "metadata": {},
   "outputs": [],
   "source": [
    "train_tasks, valid_tasks, test_tasks, learner = setup(\n",
    "    dataset, root, n_ways, k_shots, q_shots, order, inner_lr, device, download='False')\n",
    "opt = optim.Adam(learner.parameters(), meta_lr)"
   ]
  },
  {
   "cell_type": "code",
   "execution_count": 32,
   "metadata": {},
   "outputs": [],
   "source": [
    "batch_losses = []"
   ]
  },
  {
   "cell_type": "code",
   "execution_count": 7,
   "metadata": {},
   "outputs": [],
   "source": [
    "class Args:\n",
    "    def __init__(self, wt_ce, klwt, rec_wt, beta_l, beta_s):\n",
    "        #args.wt_ce, args.klwt, args.rec_wt, args.beta_l, args.beta_s\n",
    "        self.wt_ce = wt_ce\n",
    "        self.klwt = klwt\n",
    "        self.rec_wt = rec_wt\n",
    "        self.beta_l = beta_l\n",
    "        self.beta_s = beta_s"
   ]
  },
  {
   "cell_type": "code",
   "execution_count": 8,
   "metadata": {},
   "outputs": [],
   "source": [
    "args = Args(100, False, 0.01, 1, 1)"
   ]
  },
  {
   "cell_type": "code",
   "execution_count": 11,
   "metadata": {},
   "outputs": [
    {
     "name": "stderr",
     "output_type": "stream",
     "text": [
      "/home/anuj/anaconda3/envs/torch/lib/python3.8/site-packages/torch/nn/functional.py:718: UserWarning: Named tensors and all their associated APIs are an experimental feature and subject to change. Please do not use them for anything important until they are released as stable. (Triggered internally at  /opt/conda/conda-bld/pytorch_1623448278899/work/c10/core/TensorImpl.h:1156.)\n",
      "  return torch.max_pool2d(input, kernel_size, stride, padding, dilation, ceil_mode)\n"
     ]
    }
   ],
   "source": [
    "ttask = train_tasks.sample()\n",
    "model = learner.clone()\n",
    "evaluation_loss, evaluation_accuracy, reconst_img, query_imgs, mu_l, log_var_l, mu_s, log_var_s = inner_adapt_delpo(\n",
    "                ttask, reconst_loss, model, n_ways, k_shots, q_shots, inner_adapt_steps_train, device, True, args)"
   ]
  },
  {
   "cell_type": "code",
   "execution_count": 12,
   "metadata": {},
   "outputs": [],
   "source": [
    "evaluation_loss['elbo'].backward()"
   ]
  },
  {
   "cell_type": "code",
   "execution_count": 13,
   "metadata": {},
   "outputs": [
    {
     "data": {
      "text/plain": [
       "<generator object <genexpr> at 0x7f63240334a0>"
      ]
     },
     "execution_count": 13,
     "metadata": {},
     "output_type": "execute_result"
    }
   ],
   "source": [
    "(a.item() for a in evaluation_loss.values())"
   ]
  },
  {
   "cell_type": "code",
   "execution_count": 33,
   "metadata": {},
   "outputs": [],
   "source": [
    "tmp = [1, evaluation_accuracy.item()]\n",
    "tmp = tmp + [a.item() for a in evaluation_loss.values()]\n",
    "batch_losses.append(tmp)"
   ]
  },
  {
   "cell_type": "code",
   "execution_count": 34,
   "metadata": {},
   "outputs": [
    {
     "data": {
      "text/plain": [
       "[[1,\n",
       "  0.20000000298023224,\n",
       "  213.8948516845703,\n",
       "  15.829955101013184,\n",
       "  14.429597854614258,\n",
       "  2242.850830078125,\n",
       "  1.6120678186416626]]"
      ]
     },
     "execution_count": 34,
     "metadata": {},
     "output_type": "execute_result"
    }
   ],
   "source": [
    "batch_losses"
   ]
  },
  {
   "cell_type": "code",
   "execution_count": 9,
   "metadata": {},
   "outputs": [
    {
     "name": "stderr",
     "output_type": "stream",
     "text": [
      "/home/anuj/anaconda3/envs/torch/lib/python3.8/site-packages/torch/nn/functional.py:718: UserWarning: Named tensors and all their associated APIs are an experimental feature and subject to change. Please do not use them for anything important until they are released as stable. (Triggered internally at  /opt/conda/conda-bld/pytorch_1623448278899/work/c10/core/TensorImpl.h:1156.)\n",
      "  return torch.max_pool2d(input, kernel_size, stride, padding, dilation, ceil_mode)\n"
     ]
    }
   ],
   "source": [
    "## Training ##\n",
    "for iter in range(2):\n",
    "    opt.zero_grad()\n",
    "    batch_losses = []\n",
    "\n",
    "    for batch in range(meta_batch_size):\n",
    "        ttask = train_tasks.sample()\n",
    "        model = learner.clone()\n",
    "        if (batch == 0):\n",
    "            evaluation_loss, evaluation_accuracy, reconst_img, query_imgs, mu_l, log_var_l, mu_s, log_var_s = inner_adapt_delpo(\n",
    "                ttask, reconst_loss, model, n_ways, k_shots, q_shots, inner_adapt_steps_train, device, True, args)\n",
    "            \n",
    "            # Logging train-task images and latents\n",
    "            # di = {\"reconst_examples\": reconst_img.detach().to('cpu'), \"gt_examples\": query_imgs.detach().to('cpu')}\n",
    "            # dl = {\"label_latents\": [mu_l.detach().to('cpu'), log_var_l.detach().to('cpu')],\n",
    "            #       \"style_latents\": [mu_s.detach().to('cpu'), log_var_s.detach().to('cpu')]}\n",
    "            # profiler.log_data(di, iter, 'images', 'train')\n",
    "            # profiler.log_data(dl, iter, 'latents', 'train')\n",
    "\n",
    "        else:\n",
    "            evaluation_loss, evaluation_accuracy = inner_adapt_delpo(\n",
    "                ttask, reconst_loss, model, n_ways, k_shots, q_shots, inner_adapt_steps_train, device, False, args)\n",
    "\n",
    "        evaluation_loss['elbo'].backward()\n",
    "\n",
    "        # Logging per train-task losses and accuracies\n",
    "        # tmp = [(iter*meta_batch_size)+batch, evaluation_accuracy.item()]\n",
    "        # tmp = tmp + [a.item() for a in evaluation_loss.values()]\n",
    "        # batch_losses.append(tmp)\n",
    "\n",
    "    #     wandb.log(dict({f\"train/{key}\": loss.item() for _, (key, loss) in enumerate(evaluation_loss.items())},\n",
    "    #               **{'train/accuracies': evaluation_accuracy.item(), 'train/task': (iter*args.meta_batch_size)+batch}))\n",
    "\n",
    "    # rimages = wandb.Image(reconst_img, caption=\"Reconstructed Query Images\")\n",
    "    # qimages = wandb.Image(query_imgs, caption=\"Query Images\")\n",
    "    # wandb.log({\"reconst_examples\": rimages, \"gt_examples\": qimages})\n",
    "\n",
    "    vtask = valid_tasks.sample()\n",
    "    model = learner.clone()\n",
    "    if iter % 2 == 0:\n",
    "        validation_loss, validation_accuracy, reconst_img, query_imgs, mu_l, log_var_l, mu_s, log_var_s = inner_adapt_delpo(\n",
    "            vtask, reconst_loss, model, n_ways, k_shots, q_shots, inner_adapt_steps_train, device, True, args)\n",
    "        # # Logging valid-task images and latents\n",
    "        # di = {\"reconst_examples\": reconst_img.to('cpu'), \"gt_examples\": query_imgs.to('cpu')}\n",
    "        # dl = {\"label_latents\": [mu_l.to('cpu'), log_var_l.to('cpu')],\n",
    "        #     \"style_latents\": [mu_s.to('cpu'), log_var_s.to('cpu')]}\n",
    "        # profiler.log_data(di, iter, 'images', 'valid')\n",
    "        # profiler.log_data(dl, iter, 'latents', 'valid')\n",
    "\n",
    "    else:\n",
    "        validation_loss, validation_accuracy = inner_adapt_delpo(\n",
    "            vtask, reconst_loss, model, n_ways, k_shots, q_shots, inner_adapt_steps_train, device, False, args)\n",
    "\n",
    "    # Logging per validation-task losses and accuracies\n",
    "    # tmp = [iter, validation_accuracy.item()]\n",
    "    # tmp = tmp + [a.item() for a in validation_loss.values()]\n",
    "\n",
    "    # wandb.log(dict({f\"valid/{key}\": loss.item() for _, (key, loss) in enumerate(validation_loss.items())},\n",
    "    #           **{'valid/accuracies': validation_accuracy.item(), 'valid/task': iter}))\n",
    "\n",
    "    # Meta backpropagation of gradients\n",
    "    for p in learner.parameters():\n",
    "        p.grad.data.mul_(1.0 / meta_batch_size)\n",
    "    opt.step()\n",
    "\n",
    "    # Saving the Logs\n",
    "    # profiler.log_csv(batch_losses, 'train')\n",
    "    # profiler.log_csv(tmp, 'valid')\n",
    "\n",
    "#torch.save(learner, f='../repro')\n"
   ]
  },
  {
   "cell_type": "code",
   "execution_count": 20,
   "metadata": {},
   "outputs": [
    {
     "data": {
      "text/plain": [
       "torch.Size([2, 64])"
      ]
     },
     "execution_count": 20,
     "metadata": {},
     "output_type": "execute_result"
    }
   ],
   "source": [
    "log_var_l.shape"
   ]
  },
  {
   "cell_type": "code",
   "execution_count": 20,
   "metadata": {},
   "outputs": [
    {
     "data": {
      "text/plain": [
       "[tensor([[[[179., 164., 166.,  ..., 219., 225., 229.],\n",
       "           [162., 171., 162.,  ..., 212., 220., 218.],\n",
       "           [154., 151., 161.,  ..., 216., 215., 215.],\n",
       "           ...,\n",
       "           [255., 255., 255.,  ..., 255., 255., 255.],\n",
       "           [255., 255., 255.,  ..., 255., 255., 255.],\n",
       "           [255., 255., 255.,  ..., 255., 255., 255.]],\n",
       " \n",
       "          [[171., 160., 163.,  ..., 223., 232., 233.],\n",
       "           [156., 166., 158.,  ..., 212., 230., 229.],\n",
       "           [149., 144., 154.,  ..., 216., 227., 227.],\n",
       "           ...,\n",
       "           [255., 255., 255.,  ..., 255., 255., 255.],\n",
       "           [255., 255., 255.,  ..., 255., 255., 255.],\n",
       "           [255., 255., 255.,  ..., 255., 255., 255.]],\n",
       " \n",
       "          [[157., 142., 155.,  ..., 235., 239., 243.],\n",
       "           [137., 147., 146.,  ..., 220., 235., 238.],\n",
       "           [128., 126., 135.,  ..., 225., 233., 238.],\n",
       "           ...,\n",
       "           [255., 255., 255.,  ..., 255., 255., 255.],\n",
       "           [255., 255., 255.,  ..., 255., 255., 255.],\n",
       "           [255., 255., 255.,  ..., 255., 255., 255.]]],\n",
       " \n",
       " \n",
       "         [[[ 59.,  70.,  53.,  ...,  44.,  14.,  38.],\n",
       "           [ 58.,  78.,  60.,  ...,   4.,  10.,  44.],\n",
       "           [ 48.,  56.,  73.,  ...,  41.,  11.,  24.],\n",
       "           ...,\n",
       "           [197., 153., 200.,  ..., 212., 162., 175.],\n",
       "           [217., 238., 228.,  ..., 165., 187., 202.],\n",
       "           [190., 183., 206.,  ..., 225., 185., 204.]],\n",
       " \n",
       "          [[ 69.,  70.,  52.,  ...,  71.,  18.,  30.],\n",
       "           [ 53.,  71.,  60.,  ...,  19.,   9.,  76.],\n",
       "           [ 47.,  57.,  78.,  ...,  58.,  16.,  40.],\n",
       "           ...,\n",
       "           [175., 132., 180.,  ..., 190., 137., 151.],\n",
       "           [190., 215., 212.,  ..., 138., 164., 185.],\n",
       "           [148., 151., 175.,  ..., 195., 164., 184.]],\n",
       " \n",
       "          [[ 55.,  66.,  60.,  ...,  30.,   4.,  44.],\n",
       "           [ 55.,  85.,  62.,  ...,  13.,  20.,  46.],\n",
       "           [ 49.,  46.,  84.,  ...,  42.,   8.,  32.],\n",
       "           ...,\n",
       "           [152., 101., 149.,  ..., 153., 100., 127.],\n",
       "           [164., 183., 192.,  ..., 109., 126., 149.],\n",
       "           [117., 116., 146.,  ..., 165., 126., 147.]]],\n",
       " \n",
       " \n",
       "         [[[187., 198., 208.,  ..., 182., 182., 183.],\n",
       "           [165., 174., 183.,  ..., 208., 209., 211.],\n",
       "           [144., 150., 157.,  ..., 247., 247., 248.],\n",
       "           ...,\n",
       "           [ 41.,  74.,  93.,  ...,  63., 221.,  64.],\n",
       "           [ 65., 249., 254.,  ..., 129., 149., 115.],\n",
       "           [ 78.,  66., 148.,  ..., 234., 117., 109.]],\n",
       " \n",
       "          [[182., 193., 202.,  ..., 177., 177., 178.],\n",
       "           [160., 169., 178.,  ..., 204., 205., 207.],\n",
       "           [141., 148., 154.,  ..., 241., 242., 243.],\n",
       "           ...,\n",
       "           [ 32.,  75.,  88.,  ...,  58., 208.,  52.],\n",
       "           [ 59., 249., 251.,  ..., 104., 135., 102.],\n",
       "           [ 77.,  45., 107.,  ..., 169.,  72.,  78.]],\n",
       " \n",
       "          [[160., 168., 178.,  ..., 157., 157., 157.],\n",
       "           [141., 147., 156.,  ..., 179., 178., 180.],\n",
       "           [124., 129., 135.,  ..., 212., 212., 213.],\n",
       "           ...,\n",
       "           [ 20.,  73.,  86.,  ...,  47., 166.,  39.],\n",
       "           [ 52., 246., 234.,  ...,  74., 109.,  78.],\n",
       "           [ 67.,  21.,  50.,  ...,  76.,  42.,  51.]]],\n",
       " \n",
       " \n",
       "         [[[225., 200., 208.,  ..., 181., 158., 143.],\n",
       "           [201., 187., 193.,  ..., 176., 156., 167.],\n",
       "           [242., 202., 193.,  ..., 162., 145., 139.],\n",
       "           ...,\n",
       "           [ 70.,  78.,  57.,  ...,  37.,  43.,  57.],\n",
       "           [ 61.,  70.,  52.,  ...,  37.,  43.,  49.],\n",
       "           [ 50.,  55.,  43.,  ...,  36.,  42.,  50.]],\n",
       " \n",
       "          [[169., 144., 150.,  ..., 120.,  99.,  89.],\n",
       "           [150., 133., 134.,  ..., 116.,  99., 116.],\n",
       "           [198., 151., 136.,  ..., 103.,  89.,  88.],\n",
       "           ...,\n",
       "           [ 62.,  56.,  49.,  ...,  49.,  49.,  55.],\n",
       "           [ 62.,  56.,  52.,  ...,  56.,  55.,  53.],\n",
       "           [ 58.,  49.,  51.,  ...,  59.,  57.,  59.]],\n",
       " \n",
       "          [[154., 113., 100.,  ...,  89.,  97., 108.],\n",
       "           [120.,  99.,  94.,  ...,  96., 103., 136.],\n",
       "           [148., 111., 106.,  ...,  96.,  99., 108.],\n",
       "           ...,\n",
       "           [ 97.,  97.,  88.,  ...,  93.,  88.,  90.],\n",
       "           [ 96.,  96.,  90.,  ...,  99.,  93.,  87.],\n",
       "           [ 91.,  89.,  88.,  ..., 103.,  97.,  94.]]]]),\n",
       " tensor([0, 0, 1, 1])]"
      ]
     },
     "execution_count": 20,
     "metadata": {},
     "output_type": "execute_result"
    }
   ],
   "source": [
    "test_tasks.sample"
   ]
  },
  {
   "cell_type": "code",
   "execution_count": 20,
   "metadata": {},
   "outputs": [],
   "source": [
    "torch.save(learner, './model.pt')"
   ]
  },
  {
   "cell_type": "code",
   "execution_count": 22,
   "metadata": {},
   "outputs": [],
   "source": [
    "learner = torch.load('./model.pt')"
   ]
  },
  {
   "cell_type": "code",
   "execution_count": 25,
   "metadata": {},
   "outputs": [],
   "source": [
    "learner = learner.to('cpu')"
   ]
  },
  {
   "cell_type": "code",
   "execution_count": 27,
   "metadata": {},
   "outputs": [
    {
     "data": {
      "text/plain": [
       "(tensor([[[[0.5460, 0.7005, 0.7540,  ..., 0.6607, 0.5247, 0.6521],\n",
       "           [0.3869, 0.4778, 0.6000,  ..., 0.5082, 0.4487, 0.5776],\n",
       "           [0.5202, 0.7316, 0.7623,  ..., 0.5487, 0.4707, 0.5494],\n",
       "           ...,\n",
       "           [0.4386, 0.4401, 0.5506,  ..., 0.5411, 0.4927, 0.5433],\n",
       "           [0.4770, 0.3676, 0.4371,  ..., 0.3584, 0.3767, 0.4090],\n",
       "           [0.4787, 0.3858, 0.3679,  ..., 0.3389, 0.3394, 0.4149]],\n",
       " \n",
       "          [[0.4559, 0.4518, 0.4888,  ..., 0.7013, 0.6391, 0.3140],\n",
       "           [0.3996, 0.3678, 0.3866,  ..., 0.4096, 0.3197, 0.2149],\n",
       "           [0.4501, 0.2640, 0.2461,  ..., 0.2523, 0.1991, 0.1818],\n",
       "           ...,\n",
       "           [0.2929, 0.2676, 0.3173,  ..., 0.3396, 0.2282, 0.2554],\n",
       "           [0.3211, 0.2309, 0.2781,  ..., 0.4156, 0.2826, 0.2474],\n",
       "           [0.5293, 0.4962, 0.4777,  ..., 0.4851, 0.3834, 0.4208]],\n",
       " \n",
       "          [[0.7325, 0.5827, 0.5901,  ..., 0.7413, 0.6871, 0.7642],\n",
       "           [0.7580, 0.6519, 0.6883,  ..., 0.7370, 0.6829, 0.7204],\n",
       "           [0.7148, 0.4977, 0.5030,  ..., 0.7617, 0.6439, 0.5647],\n",
       "           ...,\n",
       "           [0.5718, 0.6577, 0.6703,  ..., 0.7768, 0.7952, 0.5863],\n",
       "           [0.5294, 0.6871, 0.6785,  ..., 0.6754, 0.7238, 0.6346],\n",
       "           [0.5640, 0.7525, 0.7336,  ..., 0.6574, 0.7076, 0.5791]]],\n",
       " \n",
       " \n",
       "         [[[0.4616, 0.4751, 0.6149,  ..., 0.5819, 0.4910, 0.5046],\n",
       "           [0.3783, 0.3729, 0.6283,  ..., 0.4075, 0.3890, 0.4244],\n",
       "           [0.2629, 0.3951, 0.6489,  ..., 0.3567, 0.3669, 0.3906],\n",
       "           ...,\n",
       "           [0.6776, 0.4958, 0.5216,  ..., 0.3829, 0.2843, 0.4355],\n",
       "           [0.6580, 0.3964, 0.3533,  ..., 0.3265, 0.2400, 0.3619],\n",
       "           [0.6106, 0.4477, 0.3370,  ..., 0.4344, 0.3043, 0.4539]],\n",
       " \n",
       "          [[0.4963, 0.6822, 0.6672,  ..., 0.5410, 0.4595, 0.3248],\n",
       "           [0.4093, 0.5696, 0.5441,  ..., 0.3824, 0.2312, 0.2577],\n",
       "           [0.4676, 0.5143, 0.4876,  ..., 0.2634, 0.1832, 0.2344],\n",
       "           ...,\n",
       "           [0.3796, 0.3746, 0.5096,  ..., 0.4192, 0.4114, 0.1637],\n",
       "           [0.2958, 0.3367, 0.4196,  ..., 0.3622, 0.3033, 0.1223],\n",
       "           [0.4633, 0.4559, 0.3886,  ..., 0.5714, 0.4509, 0.3555]],\n",
       " \n",
       "          [[0.6180, 0.5263, 0.6095,  ..., 0.7014, 0.6635, 0.6198],\n",
       "           [0.4234, 0.4492, 0.4586,  ..., 0.7301, 0.7368, 0.6853],\n",
       "           [0.4660, 0.4895, 0.4902,  ..., 0.7127, 0.6777, 0.5532],\n",
       "           ...,\n",
       "           [0.5009, 0.7045, 0.7995,  ..., 0.8717, 0.8806, 0.6905],\n",
       "           [0.4762, 0.6092, 0.6864,  ..., 0.7795, 0.7901, 0.6817],\n",
       "           [0.5316, 0.6010, 0.5450,  ..., 0.6916, 0.7390, 0.5898]]],\n",
       " \n",
       " \n",
       "         [[[0.4821, 0.5130, 0.5116,  ..., 0.6959, 0.5411, 0.5840],\n",
       "           [0.3825, 0.4224, 0.4856,  ..., 0.3638, 0.2365, 0.4427],\n",
       "           [0.3230, 0.5178, 0.5562,  ..., 0.2722, 0.1928, 0.3298],\n",
       "           ...,\n",
       "           [0.6793, 0.5820, 0.6569,  ..., 0.4021, 0.3972, 0.5089],\n",
       "           [0.6982, 0.4548, 0.4322,  ..., 0.2665, 0.2831, 0.4367],\n",
       "           [0.6291, 0.4972, 0.3638,  ..., 0.2979, 0.3020, 0.4428]],\n",
       " \n",
       "          [[0.5016, 0.5930, 0.5854,  ..., 0.6940, 0.5011, 0.2647],\n",
       "           [0.3702, 0.3991, 0.4451,  ..., 0.4448, 0.1458, 0.1108],\n",
       "           [0.3722, 0.3645, 0.4353,  ..., 0.3254, 0.1176, 0.0875],\n",
       "           ...,\n",
       "           [0.3851, 0.3307, 0.3950,  ..., 0.2707, 0.2286, 0.1893],\n",
       "           [0.3800, 0.3102, 0.3615,  ..., 0.2419, 0.1901, 0.1986],\n",
       "           [0.5376, 0.4944, 0.4409,  ..., 0.4452, 0.3750, 0.3521]],\n",
       " \n",
       "          [[0.5991, 0.4032, 0.3658,  ..., 0.8058, 0.7404, 0.7043],\n",
       "           [0.4025, 0.2679, 0.2317,  ..., 0.8030, 0.7794, 0.7700],\n",
       "           [0.4281, 0.2630, 0.2011,  ..., 0.8196, 0.6379, 0.5528],\n",
       "           ...,\n",
       "           [0.6831, 0.7812, 0.8230,  ..., 0.6421, 0.5840, 0.6470],\n",
       "           [0.6608, 0.7372, 0.7894,  ..., 0.6218, 0.6237, 0.6682],\n",
       "           [0.6913, 0.7762, 0.7650,  ..., 0.7149, 0.7117, 0.5803]]],\n",
       " \n",
       " \n",
       "         [[[0.5324, 0.5766, 0.6837,  ..., 0.6866, 0.6010, 0.7734],\n",
       "           [0.5194, 0.5345, 0.6862,  ..., 0.3670, 0.3845, 0.6499],\n",
       "           [0.4675, 0.6238, 0.7319,  ..., 0.3814, 0.3636, 0.5255],\n",
       "           ...,\n",
       "           [0.4486, 0.3721, 0.3139,  ..., 0.4006, 0.3422, 0.4420],\n",
       "           [0.4468, 0.2509, 0.2056,  ..., 0.3399, 0.2936, 0.4019],\n",
       "           [0.4766, 0.3563, 0.3380,  ..., 0.2876, 0.2746, 0.4041]],\n",
       " \n",
       "          [[0.5370, 0.6930, 0.6878,  ..., 0.6488, 0.5223, 0.2760],\n",
       "           [0.3615, 0.5174, 0.5597,  ..., 0.3380, 0.2640, 0.1145],\n",
       "           [0.3924, 0.5177, 0.5579,  ..., 0.1972, 0.1681, 0.0917],\n",
       "           ...,\n",
       "           [0.2539, 0.1568, 0.1638,  ..., 0.5084, 0.3242, 0.2768],\n",
       "           [0.2639, 0.1984, 0.2445,  ..., 0.5070, 0.3276, 0.2448],\n",
       "           [0.4651, 0.4393, 0.4071,  ..., 0.4805, 0.3468, 0.3638]],\n",
       " \n",
       "          [[0.6992, 0.5983, 0.5682,  ..., 0.8602, 0.8287, 0.7744],\n",
       "           [0.4479, 0.4213, 0.5190,  ..., 0.8024, 0.8361, 0.7427],\n",
       "           [0.4832, 0.4036, 0.4341,  ..., 0.8041, 0.7452, 0.5439],\n",
       "           ...,\n",
       "           [0.5775, 0.4673, 0.3731,  ..., 0.7253, 0.7617, 0.6082],\n",
       "           [0.5735, 0.5454, 0.4641,  ..., 0.6716, 0.6974, 0.6302],\n",
       "           [0.5665, 0.7579, 0.7315,  ..., 0.6474, 0.6677, 0.6242]]]],\n",
       "        grad_fn=<SigmoidBackward>),\n",
       " tensor([[ 0.2482,  0.6516],\n",
       "         [-0.1493,  0.3071],\n",
       "         [-0.2627,  0.7280],\n",
       "         [-0.1374,  0.1252]], grad_fn=<AddmmBackward>),\n",
       " tensor([[-1.0427e+00,  1.5486e+00,  3.7712e-01, -1.2363e+00, -6.6550e-01,\n",
       "          -6.2212e-01, -3.7823e-01, -2.4082e-01,  2.6278e-01, -8.9451e-01,\n",
       "          -1.2854e+00,  2.4860e-02, -5.5511e-01, -5.9627e-01, -6.5324e-03,\n",
       "           4.9552e-01, -4.2039e-01,  4.7758e-01,  4.5570e-01, -2.2097e-01,\n",
       "          -1.8639e-01,  6.1043e-01, -2.8873e-01,  4.6831e-01,  9.6868e-01,\n",
       "          -4.2490e-01, -4.6423e-01, -3.7781e-01,  5.8020e-02,  7.5179e-01,\n",
       "          -3.0532e-01,  4.8438e-01, -2.4328e-01,  1.0959e+00, -1.1996e+00,\n",
       "           6.3191e-01,  1.0069e+00,  2.4784e-01, -2.5084e-01,  1.2540e+00,\n",
       "          -3.9792e-02,  1.9532e-01,  1.1072e+00, -1.0880e-01,  2.4570e-01,\n",
       "          -6.3982e-01, -4.0435e-01,  8.6478e-01,  3.4675e-01, -4.6406e-01,\n",
       "           9.9928e-01,  4.3913e-01, -2.1397e-01,  5.5439e-01,  5.2898e-03,\n",
       "          -3.8093e-01,  1.5761e+00, -4.2980e-01, -8.3359e-02,  1.3419e-01,\n",
       "           1.2379e+00,  7.1658e-01,  1.5237e+00, -2.0429e-01],\n",
       "         [-9.8657e-01,  6.5907e-02,  4.4691e-01, -4.1792e-01,  2.3034e-01,\n",
       "          -6.2552e-01, -2.6754e-01, -4.5925e-01, -4.7429e-01, -5.7079e-01,\n",
       "          -1.2990e+00, -8.2958e-01, -8.6491e-02,  4.1192e-02,  5.1518e-01,\n",
       "           4.6955e-01, -3.6358e-01,  5.7182e-01,  1.4987e-01, -5.5069e-01,\n",
       "          -4.7041e-01,  3.4059e-01, -8.2564e-01,  2.4578e-01,  4.4072e-01,\n",
       "          -4.0165e-01, -1.0650e+00, -1.0647e+00,  6.7946e-01,  3.6562e-01,\n",
       "          -5.0909e-01,  5.3694e-01,  3.0152e-02,  6.3253e-02, -6.3895e-01,\n",
       "           7.6491e-01,  8.6761e-01,  4.5662e-01, -3.1709e-01,  5.0872e-01,\n",
       "           4.4868e-01,  9.8669e-02,  5.3296e-02, -6.0436e-01,  1.8684e-01,\n",
       "           2.2029e-01, -2.6696e-01,  1.9326e-01,  5.2352e-01,  6.3960e-01,\n",
       "           6.8786e-01,  1.8437e-01, -1.5243e-01,  5.9653e-01, -2.9414e-01,\n",
       "          -1.1424e+00,  9.7313e-01,  7.4257e-01, -8.0285e-01, -1.2369e-01,\n",
       "           1.5063e+00,  4.6705e-01,  8.5877e-01,  2.9591e-02],\n",
       "         [-6.2944e-01,  1.0690e+00,  1.1066e+00, -6.3273e-01,  1.8194e-01,\n",
       "          -3.9785e-01, -1.3444e+00, -8.3931e-01, -1.3893e+00, -1.1164e+00,\n",
       "          -1.6616e+00, -3.2131e-01, -6.4468e-01,  1.9330e-01,  9.0179e-02,\n",
       "           4.3819e-01, -6.1879e-01,  9.9477e-02,  3.2215e-02, -3.5475e-01,\n",
       "           1.8786e-01,  3.1329e-01, -1.6302e+00,  8.9239e-04,  7.8012e-01,\n",
       "          -9.8014e-01, -3.7182e-01, -3.4477e-01,  3.8969e-01,  4.6394e-01,\n",
       "          -3.4223e-01,  1.5741e-01,  8.1654e-01,  6.8169e-02, -1.9686e+00,\n",
       "           1.7471e+00,  1.1710e+00,  9.1011e-01,  3.8966e-01,  6.8218e-01,\n",
       "          -4.9394e-01, -7.1415e-01, -3.1851e-01, -1.2008e+00,  3.9927e-01,\n",
       "          -1.0891e+00, -7.3526e-01,  4.2310e-02,  9.4372e-01,  3.6476e-01,\n",
       "           1.4336e+00,  5.8398e-01, -2.4610e-02,  5.8569e-01,  9.3578e-02,\n",
       "          -6.1558e-01,  1.8143e+00, -2.9612e-01, -9.2693e-01,  1.1896e-01,\n",
       "           8.7674e-01, -2.7073e-01,  1.3244e+00,  9.5615e-01],\n",
       "         [-5.4136e-01,  3.2179e-01, -2.0281e-01, -2.0729e-01,  7.7492e-01,\n",
       "          -4.8828e-01, -3.5585e-01, -7.8893e-01, -1.6989e-01,  4.1251e-01,\n",
       "          -1.2901e+00, -4.9137e-01, -1.5146e-01,  1.8907e-01,  3.2065e-01,\n",
       "           1.9190e-01, -4.0879e-01,  3.1080e-01,  5.6968e-01, -4.8568e-01,\n",
       "          -1.7223e-01,  4.5407e-01, -3.2437e-01,  6.9592e-01,  4.2789e-01,\n",
       "          -4.2553e-01, -1.2073e+00, -1.0008e+00,  2.4737e-01,  4.8880e-02,\n",
       "           2.3815e-01,  7.4388e-01,  5.0519e-02, -5.6881e-02, -5.8152e-01,\n",
       "           3.6477e-01,  3.6029e-01,  3.5744e-01,  2.5598e-01,  3.9801e-01,\n",
       "           3.6650e-01,  2.2633e-01, -1.3265e-01, -1.1012e+00, -5.4078e-02,\n",
       "          -4.0193e-01, -5.2718e-01,  2.1821e-01,  7.3594e-01,  1.1589e+00,\n",
       "           3.5502e-01,  1.0436e+00,  3.9480e-01,  2.0411e-01,  8.9128e-02,\n",
       "          -6.1074e-01,  1.1933e+00,  7.5323e-01, -1.1211e+00,  6.3046e-02,\n",
       "           8.1822e-01,  5.9995e-01,  7.0758e-01, -4.2292e-01]],\n",
       "        grad_fn=<AddmmBackward>),\n",
       " tensor([[ 1.0647e-01,  1.5160e-01, -8.3628e-01, -2.1236e-01,  4.0951e-01,\n",
       "          -8.2976e-03, -3.4569e-01, -2.8417e-01, -4.7929e-01, -9.1334e-02,\n",
       "           4.1839e-01,  5.2088e-02, -1.7993e-01, -9.1891e-01,  3.5410e-02,\n",
       "           1.1948e-01,  9.7303e-01,  8.5831e-01, -1.0251e+00,  5.9573e-01,\n",
       "           3.6959e-01, -1.0120e+00,  7.4889e-01, -1.4848e+00, -4.0915e-01,\n",
       "           2.0774e-01, -2.4134e-02, -5.4017e-01, -2.9369e-01,  6.4744e-01,\n",
       "          -3.9573e-02,  3.2934e-01,  1.3344e-01, -1.7343e+00, -8.7552e-01,\n",
       "           8.1901e-01,  5.0429e-01,  4.7399e-01,  7.8999e-02,  4.8247e-01,\n",
       "           3.6501e-02,  3.7212e-01,  2.6029e-01, -8.3030e-02,  7.6731e-01,\n",
       "           1.5467e-01, -2.8189e-02,  1.8249e-01, -9.5448e-01, -2.4625e-01,\n",
       "          -4.0618e-01,  4.4419e-01,  9.9215e-01, -1.1120e+00, -2.0976e-02,\n",
       "          -1.5486e+00, -5.4511e-01,  1.5949e-01, -2.2132e-01,  3.7674e-02,\n",
       "           5.8980e-01, -5.0577e-01, -2.3003e-01, -9.8616e-01],\n",
       "         [ 2.2594e-01,  9.1214e-02, -4.4889e-02,  2.6438e-01,  1.8255e-01,\n",
       "           5.4208e-01, -1.3170e+00,  2.4087e-01,  1.0744e-01,  5.7052e-01,\n",
       "          -6.2096e-01,  1.8366e-01,  2.1383e-02, -8.0070e-01, -9.0154e-01,\n",
       "           1.1484e+00, -4.7308e-04,  1.2388e-01, -1.7311e-01, -8.8101e-03,\n",
       "           6.8999e-01, -4.2612e-01,  5.3558e-02, -1.6288e+00, -4.9598e-01,\n",
       "          -1.6475e-01, -4.8892e-02,  8.6772e-01, -5.6789e-01,  7.4009e-01,\n",
       "           1.2902e-01,  2.9499e-01, -3.2384e-01, -1.2955e+00, -6.6631e-01,\n",
       "           7.6000e-01, -8.2658e-02,  1.1554e+00,  6.8370e-01,  4.1997e-01,\n",
       "           1.2241e+00,  5.7718e-02,  5.8048e-01,  4.1887e-01,  4.5641e-01,\n",
       "          -1.7261e-01,  3.3833e-02, -1.3159e-01,  4.4846e-01, -5.3291e-01,\n",
       "          -3.8264e-01, -6.1419e-01,  9.6336e-02, -1.0548e+00,  5.3689e-01,\n",
       "          -1.4449e+00, -2.4938e-01,  6.7456e-01, -1.8049e-01,  2.0218e-01,\n",
       "           8.8946e-01, -1.6735e-01,  1.6849e-01,  6.1521e-01],\n",
       "         [ 2.6278e-01, -1.2206e-01,  1.8801e-01, -1.7964e-01,  4.0418e-01,\n",
       "          -4.9484e-01, -1.3293e+00,  8.3286e-02,  1.1726e+00,  2.0232e-01,\n",
       "          -2.7197e-01,  1.0621e+00,  1.5052e-01, -4.1656e-01,  9.0055e-02,\n",
       "           1.1208e+00,  7.9445e-01, -7.5440e-01, -1.5575e+00,  2.6832e-01,\n",
       "           1.1385e+00, -1.2621e+00,  4.4023e-01, -1.3598e+00, -1.2914e+00,\n",
       "           3.6100e-02, -7.5382e-01, -7.8916e-01,  2.9603e-01,  3.2361e-01,\n",
       "          -5.2163e-01,  2.6033e-01,  5.4026e-01, -1.4803e+00, -1.7555e+00,\n",
       "           8.3029e-01,  1.1177e+00,  4.9671e-01,  6.7320e-02,  9.8979e-01,\n",
       "          -6.7979e-02,  4.9277e-01,  3.0429e-03, -3.9393e-01,  6.2244e-01,\n",
       "           2.6136e-01, -4.2779e-01,  4.2325e-01,  1.1316e-01,  6.4757e-01,\n",
       "           3.9240e-01, -1.9224e-01,  4.8660e-01, -3.4058e-01, -1.0142e+00,\n",
       "          -5.8040e-01, -1.9005e-01, -5.4209e-01,  1.8410e-01,  1.2577e+00,\n",
       "           2.2352e+00, -5.4805e-01,  3.1239e-02, -8.6078e-01],\n",
       "         [-2.4549e-02, -3.3800e-01, -6.2523e-01,  1.1619e-01,  6.0409e-02,\n",
       "          -4.5932e-02, -5.3214e-01, -2.3429e-01,  2.0314e-01,  9.1364e-01,\n",
       "           1.4193e-01,  6.4621e-01, -7.3222e-01, -1.4316e+00, -1.5061e+00,\n",
       "           1.0817e+00,  3.0009e-01, -2.5054e-01,  1.2299e-01, -1.7100e-01,\n",
       "           3.4559e-01, -5.4650e-01, -8.6927e-02, -1.1887e+00, -1.9013e-01,\n",
       "           4.7733e-01,  1.7835e-01, -1.3032e-01, -4.4656e-01,  8.9288e-01,\n",
       "           6.8568e-01,  4.1050e-01, -6.4770e-02, -8.0258e-01, -1.2411e+00,\n",
       "           5.3010e-01,  1.9888e-01,  1.3725e+00,  4.2433e-01, -1.0141e-01,\n",
       "           5.4158e-01,  4.1288e-01,  5.9506e-01,  4.0014e-01,  3.0908e-01,\n",
       "           4.0854e-01, -6.8268e-02,  3.1139e-01,  6.3791e-01,  2.6370e-01,\n",
       "          -2.1406e-01, -1.9961e-01,  9.1837e-01, -1.2372e+00,  6.2316e-01,\n",
       "          -2.1850e-01, -3.5326e-01, -2.1721e-01, -5.9372e-01, -4.3825e-01,\n",
       "           9.5516e-01, -1.3608e-01,  6.5201e-01,  2.1145e-01]],\n",
       "        grad_fn=<AddmmBackward>),\n",
       " tensor([[ 3.7053e-01,  2.5323e-01, -7.3182e-01, -5.2788e-02, -1.1694e+00,\n",
       "          -7.6351e-01,  1.2535e+00, -2.8564e-01,  6.0491e-01, -2.3497e-01,\n",
       "           1.2060e+00,  4.7478e-01, -1.1254e+00,  8.0270e-01, -5.3399e-01,\n",
       "           2.4886e-01, -7.5631e-02, -8.7801e-01,  1.0650e+00, -9.5949e-01,\n",
       "          -1.4514e-01, -5.6843e-01,  6.5403e-01,  4.6875e-01, -1.5072e-01,\n",
       "          -2.6392e-01,  1.7090e-01,  6.6966e-01,  1.3442e-01, -5.3155e-01,\n",
       "          -1.2191e+00,  3.6736e-01,  3.9964e-01, -1.0296e+00, -1.6832e-02,\n",
       "          -5.6743e-01, -6.3973e-01, -8.0634e-02,  7.5467e-01,  1.4131e-01,\n",
       "           1.3297e+00, -1.8395e-01,  1.3485e-01,  5.8679e-01,  2.1811e-01,\n",
       "          -1.1531e-01,  1.1403e+00,  4.0352e-01, -4.8781e-01,  6.4588e-02,\n",
       "          -1.1730e+00,  6.8874e-01,  1.2159e+00, -5.4939e-01, -6.5562e-02,\n",
       "          -9.0735e-01, -3.3527e-01, -1.0406e+00, -7.0800e-01, -5.0842e-01,\n",
       "           4.1842e-01, -4.7375e-01,  7.1508e-02,  9.2959e-01],\n",
       "         [-1.5734e-01,  3.1082e-01, -5.4274e-01, -3.1558e-01,  6.3181e-02,\n",
       "          -3.0111e-02,  7.5616e-01, -3.3697e-01, -1.1732e-01, -2.6432e-02,\n",
       "           1.2178e-01,  5.7784e-03, -8.3572e-01,  4.4569e-01,  1.8992e-01,\n",
       "          -6.6022e-01, -3.2841e-01,  5.6726e-01,  7.1613e-01, -2.4800e-01,\n",
       "           4.4499e-01,  1.6994e-01,  2.4291e-01, -1.4463e-01, -6.0495e-01,\n",
       "           1.6416e-01,  3.8119e-01,  3.3503e-01, -5.7171e-03, -6.9619e-01,\n",
       "          -1.1760e+00,  4.1902e-01, -3.5177e-01,  1.2620e-01, -6.8741e-01,\n",
       "          -2.5846e-01,  1.2788e-01,  2.7059e-01, -4.6714e-02,  5.2342e-01,\n",
       "           8.3007e-01, -3.0649e-01,  1.0173e-01, -1.3733e-01,  4.0654e-01,\n",
       "           2.5516e-01,  2.7182e-01,  1.4526e+00, -3.8004e-01, -2.2514e-01,\n",
       "          -4.1715e-01,  1.0473e+00,  6.7590e-01,  2.9076e-01, -1.1863e+00,\n",
       "          -3.9941e-01, -1.0850e-01, -6.9598e-01, -5.3516e-01, -4.0775e-01,\n",
       "           6.9863e-02, -4.6485e-01,  8.3368e-01,  2.2382e-01],\n",
       "         [-5.1922e-01,  4.1087e-01, -9.6461e-01, -5.9268e-01, -1.0284e+00,\n",
       "           2.3808e-01,  2.0495e+00, -1.4990e+00,  9.7257e-01, -2.9252e-01,\n",
       "           1.8368e+00,  5.8737e-01, -5.3770e-01,  1.2123e+00, -9.3911e-03,\n",
       "          -6.9361e-01,  5.5304e-01, -2.7794e-01,  1.1953e+00, -2.1703e-01,\n",
       "           6.7457e-01, -5.6216e-02,  1.8309e-01,  3.6462e-01, -4.4976e-01,\n",
       "           5.4797e-01,  5.1741e-01,  2.5764e-01,  7.3841e-01, -2.9921e-01,\n",
       "          -1.7697e+00, -7.3590e-01, -6.8614e-01, -1.2330e+00, -4.9751e-01,\n",
       "          -2.9507e-01,  3.2606e-01,  3.1927e-01,  7.0089e-01, -5.7360e-03,\n",
       "           1.7714e+00, -6.0358e-01,  5.5823e-01,  4.7251e-01,  1.5523e+00,\n",
       "          -7.5727e-01,  1.4299e+00,  1.2045e+00,  7.2614e-01,  6.8322e-01,\n",
       "          -1.8802e+00,  1.0930e+00,  1.6481e+00, -4.7537e-01, -5.0388e-02,\n",
       "           1.8217e-01,  1.0421e+00, -8.1628e-01, -7.1592e-01, -9.2220e-01,\n",
       "           1.5931e+00, -1.0506e+00,  1.3581e-01,  1.8441e+00],\n",
       "         [-2.4381e-02,  7.0483e-01,  1.4827e-01,  2.4925e-02, -7.3998e-01,\n",
       "           5.9874e-01,  5.0960e-01, -2.3579e-01,  6.0291e-01,  1.2111e-01,\n",
       "           7.6643e-02, -6.9330e-02, -7.5927e-01,  5.1824e-01,  2.8755e-01,\n",
       "          -3.0019e-01, -3.9849e-02,  1.5034e-01,  4.7361e-01, -1.7478e-01,\n",
       "           2.3705e-01, -1.1238e-01,  3.4294e-01,  8.1528e-02, -6.8438e-01,\n",
       "          -6.8447e-02,  1.1703e-01,  6.1868e-02, -2.2731e-02, -4.5235e-01,\n",
       "          -1.0830e+00,  8.7829e-01, -2.1039e-01, -6.9001e-01,  2.1306e-01,\n",
       "           2.2783e-01,  2.0686e-01,  3.5820e-01,  1.4995e-01,  1.7772e-01,\n",
       "           1.4089e+00, -2.7253e-01,  3.8260e-01,  6.6075e-01,  5.6650e-01,\n",
       "          -3.9343e-01,  6.9858e-01,  6.0604e-01, -1.2405e-01, -4.9387e-01,\n",
       "          -1.2994e-01,  7.2545e-01,  2.2484e-01, -8.1440e-03, -4.9963e-01,\n",
       "           1.2066e-01, -1.7595e-01, -9.5018e-01, -2.0810e-01, -2.2851e-01,\n",
       "           4.5142e-01, -4.6140e-04,  6.3524e-01,  7.9341e-01]],\n",
       "        grad_fn=<AddmmBackward>),\n",
       " tensor([[ 8.7720e-01, -7.3727e-02, -5.0232e-01,  3.0900e-01,  4.0468e-01,\n",
       "           5.4463e-01,  7.2638e-02,  7.7138e-01, -1.1961e+00,  1.5552e+00,\n",
       "          -3.6341e-01,  8.3519e-01,  2.8246e-01,  6.4696e-01,  1.5454e+00,\n",
       "          -9.5145e-01,  4.6653e-01, -7.2505e-01,  8.0158e-02,  4.3186e-01,\n",
       "          -3.1520e-01, -1.8177e-01,  1.9857e-01,  6.2527e-01,  3.4276e-01,\n",
       "          -9.8300e-02, -1.2308e+00,  8.3307e-01,  2.8638e-01, -8.8110e-01,\n",
       "          -9.7370e-01,  2.3265e-01, -6.8499e-01, -2.8683e-01,  5.1744e-01,\n",
       "          -2.4636e-01, -4.0778e-01,  5.1478e-01,  1.3204e+00, -4.5983e-01,\n",
       "           1.2103e-01, -6.5724e-01, -6.3515e-01,  1.1760e-01, -1.2333e-01,\n",
       "          -5.5347e-01, -2.9888e-01, -5.8363e-02, -5.6267e-01,  1.0650e+00,\n",
       "           9.0831e-01,  5.6055e-02, -1.1609e-03,  2.6192e-01,  7.0959e-01,\n",
       "           1.7023e+00, -5.0380e-01,  4.6282e-01,  1.6097e+00, -9.8628e-01,\n",
       "          -5.3334e-01,  9.4544e-01, -1.8362e+00,  2.2186e-02],\n",
       "         [ 1.6855e-01, -3.0567e-01,  3.6838e-02,  8.1812e-01,  1.9319e-01,\n",
       "          -1.7373e-01, -9.1905e-03,  2.5303e-01, -4.7856e-01,  1.6104e+00,\n",
       "          -8.0445e-01, -5.5849e-01,  8.9761e-01, -1.0167e-01,  2.8165e-01,\n",
       "          -2.5356e-01,  4.7617e-01, -2.9719e-02,  1.1721e-01, -1.8875e-02,\n",
       "          -1.2856e-01, -6.4632e-01, -3.9122e-01,  1.7721e-01,  9.3885e-01,\n",
       "          -4.0102e-02, -4.2388e-01,  5.6234e-01, -1.6162e-03, -2.8170e-01,\n",
       "          -6.6763e-02,  2.5123e-02,  4.7450e-01, -5.6276e-01,  2.3394e-01,\n",
       "          -8.1048e-01, -3.2569e-01,  3.9438e-01,  3.8914e-01, -4.1720e-01,\n",
       "           1.2684e+00, -2.7415e-01, -1.4549e-01, -3.8214e-01,  7.3684e-01,\n",
       "          -5.7975e-01, -4.2511e-01,  2.5474e-01, -1.0713e+00,  1.1930e+00,\n",
       "           1.1582e+00, -9.4816e-02, -2.6202e-02,  1.6757e-01,  1.2598e+00,\n",
       "           1.4109e+00, -1.1432e-01,  3.8467e-01,  7.7641e-01, -4.8648e-01,\n",
       "          -1.5776e+00,  1.4569e+00, -1.1875e+00, -4.1869e-01],\n",
       "         [ 8.0037e-01, -4.7408e-02,  2.8104e-01,  1.1188e+00,  8.3446e-01,\n",
       "           2.5940e-01,  9.7620e-01,  5.7337e-01, -6.6962e-01,  1.1429e+00,\n",
       "          -2.4446e-01,  9.5140e-02, -1.4171e-02,  1.2323e-01,  1.0760e+00,\n",
       "          -2.1667e-01,  1.6873e-02, -1.1056e+00,  1.0878e-01, -4.6615e-01,\n",
       "           5.1775e-02, -1.8814e-01, -8.1502e-01,  1.2892e+00,  6.8598e-01,\n",
       "          -6.9399e-01, -8.2422e-01,  1.2827e+00, -1.7202e-01, -9.0652e-01,\n",
       "          -5.1168e-01,  2.3676e-02, -5.5461e-01,  1.8561e-01,  1.2486e+00,\n",
       "          -1.3564e+00, -1.0683e+00, -1.8048e-01, -6.9369e-01, -1.1669e+00,\n",
       "           3.0837e-01, -7.8252e-01, -5.0157e-01,  5.8557e-01,  3.7268e-01,\n",
       "           1.0810e-01, -7.0992e-01, -2.0019e-01, -8.4665e-01,  3.9503e-01,\n",
       "           1.3127e+00,  7.7821e-01, -3.2453e-01, -3.2963e-01,  5.7984e-02,\n",
       "           5.0094e-01, -6.5673e-01,  3.3295e-01,  2.0624e+00, -2.1337e-01,\n",
       "          -8.8102e-01,  2.1141e+00, -7.8712e-01, -4.1314e-01],\n",
       "         [ 3.9509e-01,  2.4326e-02,  2.7136e-01,  3.4218e-01,  4.2949e-01,\n",
       "          -2.6020e-01,  2.6019e-02,  1.4206e-01, -7.8709e-01,  1.7605e+00,\n",
       "          -9.7210e-01,  5.0901e-02,  8.7334e-01,  1.1667e-01,  3.9888e-01,\n",
       "           5.3240e-01, -9.8200e-02,  3.7250e-01,  1.5071e-01,  2.3104e-02,\n",
       "          -5.3659e-02, -4.7223e-01, -9.3308e-02,  3.6033e-01,  2.8768e-01,\n",
       "          -7.8007e-02, -2.0820e-01,  1.1453e+00,  8.3367e-03, -6.5847e-01,\n",
       "          -3.4837e-01,  8.0362e-01,  4.8605e-01, -1.8015e-01, -9.6335e-02,\n",
       "          -7.6877e-01, -7.0230e-01, -3.2610e-01,  1.5643e-01, -2.0373e-01,\n",
       "           3.4380e-01, -2.3354e-01,  1.1826e-01, -8.3317e-02,  2.6571e-01,\n",
       "          -9.4326e-02, -6.7173e-01,  7.0114e-01, -1.0516e+00,  8.6428e-01,\n",
       "           9.2522e-01, -2.6216e-01,  1.5300e-01, -4.0996e-01,  8.0283e-01,\n",
       "           1.2263e+00, -4.7724e-01,  9.0756e-01,  9.5900e-01, -2.9031e-01,\n",
       "          -1.2714e+00,  8.0949e-01, -9.3442e-01, -8.9507e-02]],\n",
       "        grad_fn=<AddmmBackward>))"
      ]
     },
     "execution_count": 27,
     "metadata": {},
     "output_type": "execute_result"
    }
   ],
   "source": [
    "learner(vtask[0])"
   ]
  },
  {
   "cell_type": "code",
   "execution_count": 11,
   "metadata": {},
   "outputs": [
    {
     "name": "stdout",
     "output_type": "stream",
     "text": [
      "Testing on held out classes\n"
     ]
    },
    {
     "ename": "KeyboardInterrupt",
     "evalue": "",
     "output_type": "error",
     "traceback": [
      "\u001b[0;31m---------------------------------------------------------------------------\u001b[0m",
      "\u001b[0;31mKeyboardInterrupt\u001b[0m                         Traceback (most recent call last)",
      "\u001b[0;32m/tmp/ipykernel_273348/2229067109.py\u001b[0m in \u001b[0;36m<module>\u001b[0;34m\u001b[0m\n\u001b[1;32m      8\u001b[0m     \u001b[0mmodel\u001b[0m \u001b[0;34m=\u001b[0m \u001b[0mlearner\u001b[0m\u001b[0;34m.\u001b[0m\u001b[0mclone\u001b[0m\u001b[0;34m(\u001b[0m\u001b[0;34m)\u001b[0m\u001b[0;34m\u001b[0m\u001b[0;34m\u001b[0m\u001b[0m\n\u001b[1;32m      9\u001b[0m     \u001b[0;31m#tetask = test_tasks.sample()\u001b[0m\u001b[0;34m\u001b[0m\u001b[0;34m\u001b[0m\u001b[0;34m\u001b[0m\u001b[0m\n\u001b[0;32m---> 10\u001b[0;31m     evaluation_loss, evaluation_accuracy = inner_adapt_delpo(\n\u001b[0m\u001b[1;32m     11\u001b[0m         tetask, reconst_loss, model, n_ways, k_shots, q_shots, 5, device, False, args)\n\u001b[1;32m     12\u001b[0m \u001b[0;34m\u001b[0m\u001b[0m\n",
      "\u001b[0;32m~/Desktop/Work/TU_Delft/research/implement/learning_to_meta-learn/src/zoo/delpo_utils.py\u001b[0m in \u001b[0;36minner_adapt_delpo\u001b[0;34m(task, reconst_loss, learner, n_ways, k_shots, q_shots, adapt_steps, device, log_data, args)\u001b[0m\n\u001b[1;32m     94\u001b[0m     \u001b[0;31m# Inner adapt step\u001b[0m\u001b[0;34m\u001b[0m\u001b[0;34m\u001b[0m\u001b[0;34m\u001b[0m\u001b[0m\n\u001b[1;32m     95\u001b[0m     \u001b[0;32mfor\u001b[0m \u001b[0m_\u001b[0m \u001b[0;32min\u001b[0m \u001b[0mrange\u001b[0m\u001b[0;34m(\u001b[0m\u001b[0madapt_steps\u001b[0m\u001b[0;34m)\u001b[0m\u001b[0;34m:\u001b[0m\u001b[0;34m\u001b[0m\u001b[0;34m\u001b[0m\u001b[0m\n\u001b[0;32m---> 96\u001b[0;31m         reconst_image, logits, mu_l, log_var_l, mu_s, log_var_s = learner(\n\u001b[0m\u001b[1;32m     97\u001b[0m             support)\n\u001b[1;32m     98\u001b[0m         adapt_loss = loss(reconst_loss, reconst_image, support,\n",
      "\u001b[0;32m~/anaconda3/envs/torch/lib/python3.8/site-packages/torch/nn/modules/module.py\u001b[0m in \u001b[0;36m_call_impl\u001b[0;34m(self, *input, **kwargs)\u001b[0m\n\u001b[1;32m   1049\u001b[0m         if not (self._backward_hooks or self._forward_hooks or self._forward_pre_hooks or _global_backward_hooks\n\u001b[1;32m   1050\u001b[0m                 or _global_forward_hooks or _global_forward_pre_hooks):\n\u001b[0;32m-> 1051\u001b[0;31m             \u001b[0;32mreturn\u001b[0m \u001b[0mforward_call\u001b[0m\u001b[0;34m(\u001b[0m\u001b[0;34m*\u001b[0m\u001b[0minput\u001b[0m\u001b[0;34m,\u001b[0m \u001b[0;34m**\u001b[0m\u001b[0mkwargs\u001b[0m\u001b[0;34m)\u001b[0m\u001b[0;34m\u001b[0m\u001b[0;34m\u001b[0m\u001b[0m\n\u001b[0m\u001b[1;32m   1052\u001b[0m         \u001b[0;31m# Do not call functions when jit is used\u001b[0m\u001b[0;34m\u001b[0m\u001b[0;34m\u001b[0m\u001b[0;34m\u001b[0m\u001b[0m\n\u001b[1;32m   1053\u001b[0m         \u001b[0mfull_backward_hooks\u001b[0m\u001b[0;34m,\u001b[0m \u001b[0mnon_full_backward_hooks\u001b[0m \u001b[0;34m=\u001b[0m \u001b[0;34m[\u001b[0m\u001b[0;34m]\u001b[0m\u001b[0;34m,\u001b[0m \u001b[0;34m[\u001b[0m\u001b[0;34m]\u001b[0m\u001b[0;34m\u001b[0m\u001b[0;34m\u001b[0m\u001b[0m\n",
      "\u001b[0;32m~/anaconda3/envs/torch/lib/python3.8/site-packages/learn2learn/algorithms/maml.py\u001b[0m in \u001b[0;36mforward\u001b[0;34m(self, *args, **kwargs)\u001b[0m\n\u001b[1;32m    105\u001b[0m \u001b[0;34m\u001b[0m\u001b[0m\n\u001b[1;32m    106\u001b[0m     \u001b[0;32mdef\u001b[0m \u001b[0mforward\u001b[0m\u001b[0;34m(\u001b[0m\u001b[0mself\u001b[0m\u001b[0;34m,\u001b[0m \u001b[0;34m*\u001b[0m\u001b[0margs\u001b[0m\u001b[0;34m,\u001b[0m \u001b[0;34m**\u001b[0m\u001b[0mkwargs\u001b[0m\u001b[0;34m)\u001b[0m\u001b[0;34m:\u001b[0m\u001b[0;34m\u001b[0m\u001b[0;34m\u001b[0m\u001b[0m\n\u001b[0;32m--> 107\u001b[0;31m         \u001b[0;32mreturn\u001b[0m \u001b[0mself\u001b[0m\u001b[0;34m.\u001b[0m\u001b[0mmodule\u001b[0m\u001b[0;34m(\u001b[0m\u001b[0;34m*\u001b[0m\u001b[0margs\u001b[0m\u001b[0;34m,\u001b[0m \u001b[0;34m**\u001b[0m\u001b[0mkwargs\u001b[0m\u001b[0;34m)\u001b[0m\u001b[0;34m\u001b[0m\u001b[0;34m\u001b[0m\u001b[0m\n\u001b[0m\u001b[1;32m    108\u001b[0m \u001b[0;34m\u001b[0m\u001b[0m\n\u001b[1;32m    109\u001b[0m     def adapt(self,\n",
      "\u001b[0;32m~/anaconda3/envs/torch/lib/python3.8/site-packages/torch/nn/modules/module.py\u001b[0m in \u001b[0;36m_call_impl\u001b[0;34m(self, *input, **kwargs)\u001b[0m\n\u001b[1;32m   1049\u001b[0m         if not (self._backward_hooks or self._forward_hooks or self._forward_pre_hooks or _global_backward_hooks\n\u001b[1;32m   1050\u001b[0m                 or _global_forward_hooks or _global_forward_pre_hooks):\n\u001b[0;32m-> 1051\u001b[0;31m             \u001b[0;32mreturn\u001b[0m \u001b[0mforward_call\u001b[0m\u001b[0;34m(\u001b[0m\u001b[0;34m*\u001b[0m\u001b[0minput\u001b[0m\u001b[0;34m,\u001b[0m \u001b[0;34m**\u001b[0m\u001b[0mkwargs\u001b[0m\u001b[0;34m)\u001b[0m\u001b[0;34m\u001b[0m\u001b[0;34m\u001b[0m\u001b[0m\n\u001b[0m\u001b[1;32m   1052\u001b[0m         \u001b[0;31m# Do not call functions when jit is used\u001b[0m\u001b[0;34m\u001b[0m\u001b[0;34m\u001b[0m\u001b[0;34m\u001b[0m\u001b[0m\n\u001b[1;32m   1053\u001b[0m         \u001b[0mfull_backward_hooks\u001b[0m\u001b[0;34m,\u001b[0m \u001b[0mnon_full_backward_hooks\u001b[0m \u001b[0;34m=\u001b[0m \u001b[0;34m[\u001b[0m\u001b[0;34m]\u001b[0m\u001b[0;34m,\u001b[0m \u001b[0;34m[\u001b[0m\u001b[0;34m]\u001b[0m\u001b[0;34m\u001b[0m\u001b[0;34m\u001b[0m\u001b[0m\n",
      "\u001b[0;32m~/Desktop/Work/TU_Delft/research/implement/learning_to_meta-learn/src/zoo/archs.py\u001b[0m in \u001b[0;36mforward\u001b[0;34m(self, x)\u001b[0m\n\u001b[1;32m    639\u001b[0m         \u001b[0mmu_s\u001b[0m\u001b[0;34m,\u001b[0m \u001b[0mlog_var_s\u001b[0m \u001b[0;34m=\u001b[0m \u001b[0mself\u001b[0m\u001b[0;34m.\u001b[0m\u001b[0mencoder\u001b[0m\u001b[0;34m(\u001b[0m\u001b[0mx\u001b[0m\u001b[0;34m)\u001b[0m\u001b[0;34m\u001b[0m\u001b[0;34m\u001b[0m\u001b[0m\n\u001b[1;32m    640\u001b[0m         \u001b[0mz_s\u001b[0m \u001b[0;34m=\u001b[0m \u001b[0mself\u001b[0m\u001b[0;34m.\u001b[0m\u001b[0mreparameterize\u001b[0m\u001b[0;34m(\u001b[0m\u001b[0mmu_s\u001b[0m\u001b[0;34m,\u001b[0m \u001b[0mlog_var_s\u001b[0m\u001b[0;34m)\u001b[0m\u001b[0;34m\u001b[0m\u001b[0;34m\u001b[0m\u001b[0m\n\u001b[0;32m--> 641\u001b[0;31m         \u001b[0mx\u001b[0m \u001b[0;34m=\u001b[0m \u001b[0mself\u001b[0m\u001b[0;34m.\u001b[0m\u001b[0mdecoder\u001b[0m\u001b[0;34m(\u001b[0m\u001b[0mtorch\u001b[0m\u001b[0;34m.\u001b[0m\u001b[0mcat\u001b[0m\u001b[0;34m(\u001b[0m\u001b[0;34m[\u001b[0m\u001b[0mz_s\u001b[0m\u001b[0;34m,\u001b[0m \u001b[0mmu_l\u001b[0m\u001b[0;34m]\u001b[0m\u001b[0;34m,\u001b[0m \u001b[0mdim\u001b[0m\u001b[0;34m=\u001b[0m\u001b[0;36m1\u001b[0m\u001b[0;34m)\u001b[0m\u001b[0;34m)\u001b[0m\u001b[0;34m\u001b[0m\u001b[0;34m\u001b[0m\u001b[0m\n\u001b[0m\u001b[1;32m    642\u001b[0m         \u001b[0;32mreturn\u001b[0m \u001b[0mx\u001b[0m\u001b[0;34m,\u001b[0m \u001b[0mlogits\u001b[0m\u001b[0;34m,\u001b[0m \u001b[0mmu_l\u001b[0m\u001b[0;34m,\u001b[0m \u001b[0mlog_var_l\u001b[0m\u001b[0;34m,\u001b[0m \u001b[0mmu_s\u001b[0m\u001b[0;34m,\u001b[0m \u001b[0mlog_var_s\u001b[0m\u001b[0;34m\u001b[0m\u001b[0;34m\u001b[0m\u001b[0m\n\u001b[1;32m    643\u001b[0m \u001b[0;34m\u001b[0m\u001b[0m\n",
      "\u001b[0;32m~/anaconda3/envs/torch/lib/python3.8/site-packages/torch/nn/modules/module.py\u001b[0m in \u001b[0;36m_call_impl\u001b[0;34m(self, *input, **kwargs)\u001b[0m\n\u001b[1;32m   1049\u001b[0m         if not (self._backward_hooks or self._forward_hooks or self._forward_pre_hooks or _global_backward_hooks\n\u001b[1;32m   1050\u001b[0m                 or _global_forward_hooks or _global_forward_pre_hooks):\n\u001b[0;32m-> 1051\u001b[0;31m             \u001b[0;32mreturn\u001b[0m \u001b[0mforward_call\u001b[0m\u001b[0;34m(\u001b[0m\u001b[0;34m*\u001b[0m\u001b[0minput\u001b[0m\u001b[0;34m,\u001b[0m \u001b[0;34m**\u001b[0m\u001b[0mkwargs\u001b[0m\u001b[0;34m)\u001b[0m\u001b[0;34m\u001b[0m\u001b[0;34m\u001b[0m\u001b[0m\n\u001b[0m\u001b[1;32m   1052\u001b[0m         \u001b[0;31m# Do not call functions when jit is used\u001b[0m\u001b[0;34m\u001b[0m\u001b[0;34m\u001b[0m\u001b[0;34m\u001b[0m\u001b[0m\n\u001b[1;32m   1053\u001b[0m         \u001b[0mfull_backward_hooks\u001b[0m\u001b[0;34m,\u001b[0m \u001b[0mnon_full_backward_hooks\u001b[0m \u001b[0;34m=\u001b[0m \u001b[0;34m[\u001b[0m\u001b[0;34m]\u001b[0m\u001b[0;34m,\u001b[0m \u001b[0;34m[\u001b[0m\u001b[0;34m]\u001b[0m\u001b[0;34m\u001b[0m\u001b[0;34m\u001b[0m\u001b[0m\n",
      "\u001b[0;32m~/Desktop/Work/TU_Delft/research/implement/learning_to_meta-learn/src/zoo/archs.py\u001b[0m in \u001b[0;36mforward\u001b[0;34m(self, x)\u001b[0m\n\u001b[1;32m    535\u001b[0m             \u001b[0mx\u001b[0m \u001b[0;34m=\u001b[0m \u001b[0mself\u001b[0m\u001b[0;34m.\u001b[0m\u001b[0mlinear\u001b[0m\u001b[0;34m(\u001b[0m\u001b[0mx\u001b[0m\u001b[0;34m)\u001b[0m\u001b[0;34m\u001b[0m\u001b[0;34m\u001b[0m\u001b[0m\n\u001b[1;32m    536\u001b[0m             \u001b[0mx\u001b[0m \u001b[0;34m=\u001b[0m \u001b[0mx\u001b[0m\u001b[0;34m.\u001b[0m\u001b[0mreshape\u001b[0m\u001b[0;34m(\u001b[0m\u001b[0mx\u001b[0m\u001b[0;34m.\u001b[0m\u001b[0mshape\u001b[0m\u001b[0;34m[\u001b[0m\u001b[0;36m0\u001b[0m\u001b[0;34m]\u001b[0m\u001b[0;34m,\u001b[0m \u001b[0;34m-\u001b[0m\u001b[0;36m1\u001b[0m\u001b[0;34m,\u001b[0m \u001b[0;36m5\u001b[0m\u001b[0;34m,\u001b[0m \u001b[0;36m5\u001b[0m\u001b[0;34m)\u001b[0m\u001b[0;34m\u001b[0m\u001b[0;34m\u001b[0m\u001b[0m\n\u001b[0;32m--> 537\u001b[0;31m         \u001b[0mx\u001b[0m \u001b[0;34m=\u001b[0m \u001b[0mself\u001b[0m\u001b[0;34m.\u001b[0m\u001b[0mnet\u001b[0m\u001b[0;34m(\u001b[0m\u001b[0mx\u001b[0m\u001b[0;34m)\u001b[0m\u001b[0;34m\u001b[0m\u001b[0;34m\u001b[0m\u001b[0m\n\u001b[0m\u001b[1;32m    538\u001b[0m         \u001b[0;32mreturn\u001b[0m \u001b[0mx\u001b[0m\u001b[0;34m\u001b[0m\u001b[0;34m\u001b[0m\u001b[0m\n\u001b[1;32m    539\u001b[0m \u001b[0;34m\u001b[0m\u001b[0m\n",
      "\u001b[0;32m~/anaconda3/envs/torch/lib/python3.8/site-packages/torch/nn/modules/module.py\u001b[0m in \u001b[0;36m_call_impl\u001b[0;34m(self, *input, **kwargs)\u001b[0m\n\u001b[1;32m   1049\u001b[0m         if not (self._backward_hooks or self._forward_hooks or self._forward_pre_hooks or _global_backward_hooks\n\u001b[1;32m   1050\u001b[0m                 or _global_forward_hooks or _global_forward_pre_hooks):\n\u001b[0;32m-> 1051\u001b[0;31m             \u001b[0;32mreturn\u001b[0m \u001b[0mforward_call\u001b[0m\u001b[0;34m(\u001b[0m\u001b[0;34m*\u001b[0m\u001b[0minput\u001b[0m\u001b[0;34m,\u001b[0m \u001b[0;34m**\u001b[0m\u001b[0mkwargs\u001b[0m\u001b[0;34m)\u001b[0m\u001b[0;34m\u001b[0m\u001b[0;34m\u001b[0m\u001b[0m\n\u001b[0m\u001b[1;32m   1052\u001b[0m         \u001b[0;31m# Do not call functions when jit is used\u001b[0m\u001b[0;34m\u001b[0m\u001b[0;34m\u001b[0m\u001b[0;34m\u001b[0m\u001b[0m\n\u001b[1;32m   1053\u001b[0m         \u001b[0mfull_backward_hooks\u001b[0m\u001b[0;34m,\u001b[0m \u001b[0mnon_full_backward_hooks\u001b[0m \u001b[0;34m=\u001b[0m \u001b[0;34m[\u001b[0m\u001b[0;34m]\u001b[0m\u001b[0;34m,\u001b[0m \u001b[0;34m[\u001b[0m\u001b[0;34m]\u001b[0m\u001b[0;34m\u001b[0m\u001b[0;34m\u001b[0m\u001b[0m\n",
      "\u001b[0;32m~/anaconda3/envs/torch/lib/python3.8/site-packages/torch/nn/modules/container.py\u001b[0m in \u001b[0;36mforward\u001b[0;34m(self, input)\u001b[0m\n\u001b[1;32m    137\u001b[0m     \u001b[0;32mdef\u001b[0m \u001b[0mforward\u001b[0m\u001b[0;34m(\u001b[0m\u001b[0mself\u001b[0m\u001b[0;34m,\u001b[0m \u001b[0minput\u001b[0m\u001b[0;34m)\u001b[0m\u001b[0;34m:\u001b[0m\u001b[0;34m\u001b[0m\u001b[0;34m\u001b[0m\u001b[0m\n\u001b[1;32m    138\u001b[0m         \u001b[0;32mfor\u001b[0m \u001b[0mmodule\u001b[0m \u001b[0;32min\u001b[0m \u001b[0mself\u001b[0m\u001b[0;34m:\u001b[0m\u001b[0;34m\u001b[0m\u001b[0;34m\u001b[0m\u001b[0m\n\u001b[0;32m--> 139\u001b[0;31m             \u001b[0minput\u001b[0m \u001b[0;34m=\u001b[0m \u001b[0mmodule\u001b[0m\u001b[0;34m(\u001b[0m\u001b[0minput\u001b[0m\u001b[0;34m)\u001b[0m\u001b[0;34m\u001b[0m\u001b[0;34m\u001b[0m\u001b[0m\n\u001b[0m\u001b[1;32m    140\u001b[0m         \u001b[0;32mreturn\u001b[0m \u001b[0minput\u001b[0m\u001b[0;34m\u001b[0m\u001b[0;34m\u001b[0m\u001b[0m\n\u001b[1;32m    141\u001b[0m \u001b[0;34m\u001b[0m\u001b[0m\n",
      "\u001b[0;32m~/anaconda3/envs/torch/lib/python3.8/site-packages/torch/nn/modules/module.py\u001b[0m in \u001b[0;36m_call_impl\u001b[0;34m(self, *input, **kwargs)\u001b[0m\n\u001b[1;32m   1049\u001b[0m         if not (self._backward_hooks or self._forward_hooks or self._forward_pre_hooks or _global_backward_hooks\n\u001b[1;32m   1050\u001b[0m                 or _global_forward_hooks or _global_forward_pre_hooks):\n\u001b[0;32m-> 1051\u001b[0;31m             \u001b[0;32mreturn\u001b[0m \u001b[0mforward_call\u001b[0m\u001b[0;34m(\u001b[0m\u001b[0;34m*\u001b[0m\u001b[0minput\u001b[0m\u001b[0;34m,\u001b[0m \u001b[0;34m**\u001b[0m\u001b[0mkwargs\u001b[0m\u001b[0;34m)\u001b[0m\u001b[0;34m\u001b[0m\u001b[0;34m\u001b[0m\u001b[0m\n\u001b[0m\u001b[1;32m   1052\u001b[0m         \u001b[0;31m# Do not call functions when jit is used\u001b[0m\u001b[0;34m\u001b[0m\u001b[0;34m\u001b[0m\u001b[0;34m\u001b[0m\u001b[0m\n\u001b[1;32m   1053\u001b[0m         \u001b[0mfull_backward_hooks\u001b[0m\u001b[0;34m,\u001b[0m \u001b[0mnon_full_backward_hooks\u001b[0m \u001b[0;34m=\u001b[0m \u001b[0;34m[\u001b[0m\u001b[0;34m]\u001b[0m\u001b[0;34m,\u001b[0m \u001b[0;34m[\u001b[0m\u001b[0;34m]\u001b[0m\u001b[0;34m\u001b[0m\u001b[0;34m\u001b[0m\u001b[0m\n",
      "\u001b[0;32m~/anaconda3/envs/torch/lib/python3.8/site-packages/torch/nn/modules/conv.py\u001b[0m in \u001b[0;36mforward\u001b[0;34m(self, input)\u001b[0m\n\u001b[1;32m    441\u001b[0m \u001b[0;34m\u001b[0m\u001b[0m\n\u001b[1;32m    442\u001b[0m     \u001b[0;32mdef\u001b[0m \u001b[0mforward\u001b[0m\u001b[0;34m(\u001b[0m\u001b[0mself\u001b[0m\u001b[0;34m,\u001b[0m \u001b[0minput\u001b[0m\u001b[0;34m:\u001b[0m \u001b[0mTensor\u001b[0m\u001b[0;34m)\u001b[0m \u001b[0;34m->\u001b[0m \u001b[0mTensor\u001b[0m\u001b[0;34m:\u001b[0m\u001b[0;34m\u001b[0m\u001b[0;34m\u001b[0m\u001b[0m\n\u001b[0;32m--> 443\u001b[0;31m         \u001b[0;32mreturn\u001b[0m \u001b[0mself\u001b[0m\u001b[0;34m.\u001b[0m\u001b[0m_conv_forward\u001b[0m\u001b[0;34m(\u001b[0m\u001b[0minput\u001b[0m\u001b[0;34m,\u001b[0m \u001b[0mself\u001b[0m\u001b[0;34m.\u001b[0m\u001b[0mweight\u001b[0m\u001b[0;34m,\u001b[0m \u001b[0mself\u001b[0m\u001b[0;34m.\u001b[0m\u001b[0mbias\u001b[0m\u001b[0;34m)\u001b[0m\u001b[0;34m\u001b[0m\u001b[0;34m\u001b[0m\u001b[0m\n\u001b[0m\u001b[1;32m    444\u001b[0m \u001b[0;34m\u001b[0m\u001b[0m\n\u001b[1;32m    445\u001b[0m \u001b[0;32mclass\u001b[0m \u001b[0mConv3d\u001b[0m\u001b[0;34m(\u001b[0m\u001b[0m_ConvNd\u001b[0m\u001b[0;34m)\u001b[0m\u001b[0;34m:\u001b[0m\u001b[0;34m\u001b[0m\u001b[0;34m\u001b[0m\u001b[0m\n",
      "\u001b[0;32m~/anaconda3/envs/torch/lib/python3.8/site-packages/torch/nn/modules/conv.py\u001b[0m in \u001b[0;36m_conv_forward\u001b[0;34m(self, input, weight, bias)\u001b[0m\n\u001b[1;32m    437\u001b[0m                             \u001b[0mweight\u001b[0m\u001b[0;34m,\u001b[0m \u001b[0mbias\u001b[0m\u001b[0;34m,\u001b[0m \u001b[0mself\u001b[0m\u001b[0;34m.\u001b[0m\u001b[0mstride\u001b[0m\u001b[0;34m,\u001b[0m\u001b[0;34m\u001b[0m\u001b[0;34m\u001b[0m\u001b[0m\n\u001b[1;32m    438\u001b[0m                             _pair(0), self.dilation, self.groups)\n\u001b[0;32m--> 439\u001b[0;31m         return F.conv2d(input, weight, bias, self.stride,\n\u001b[0m\u001b[1;32m    440\u001b[0m                         self.padding, self.dilation, self.groups)\n\u001b[1;32m    441\u001b[0m \u001b[0;34m\u001b[0m\u001b[0m\n",
      "\u001b[0;31mKeyboardInterrupt\u001b[0m: "
     ]
    }
   ],
   "source": [
    "\n",
    "## Testing ##\n",
    "print('Testing on held out classes')\n",
    "\n",
    "for i, tetask in enumerate(test_tasks):\n",
    "    # wandb.define_metric(\"accuracies\", summary=\"max\")\n",
    "    # wandb.define_metric(\"accuracies\", summary=\"mean\")\n",
    "\n",
    "    model = learner.clone()\n",
    "    #tetask = test_tasks.sample()\n",
    "    evaluation_loss, evaluation_accuracy = inner_adapt_delpo(\n",
    "        tetask, reconst_loss, model, n_ways, k_shots, q_shots, 5, device, False, args)\n",
    "\n",
    "    # Logging per test-task losses and accuracies\n",
    "    # tmp = [iter, evaluation_accuracy.item()]\n",
    "    # tmp.append(a.item() for a in evaluation_loss.values())\n",
    "    # profiler.log_csv(tmp, 'test')\n",
    "    # # wandb.log(dict({f\"test/{key}\": loss.item() for _, (key, loss) in enumerate(evaluation_loss.items())},\n",
    "    #             **{'test/accuracies': evaluation_accuracy.item(), 'test/task': i}))\n"
   ]
  }
 ],
 "metadata": {
  "environment": {
   "name": "pytorch-gpu.1-8.m71",
   "type": "gcloud",
   "uri": "gcr.io/deeplearning-platform-release/pytorch-gpu.1-8:m71"
  },
  "interpreter": {
   "hash": "7e3af266dcb7df8b026f0780dbb396b062ee5ca2767a18f50e60e26ee6084121"
  },
  "kernelspec": {
   "display_name": "Python 3.8.11 64-bit ('torch': conda)",
   "name": "python3"
  },
  "language_info": {
   "codemirror_mode": {
    "name": "ipython",
    "version": 3
   },
   "file_extension": ".py",
   "mimetype": "text/x-python",
   "name": "python",
   "nbconvert_exporter": "python",
   "pygments_lexer": "ipython3",
   "version": "3.8.11"
  }
 },
 "nbformat": 4,
 "nbformat_minor": 5
}

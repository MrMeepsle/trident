{
 "cells": [
  {
   "cell_type": "code",
   "execution_count": 1,
   "id": "92c9c550",
   "metadata": {},
   "outputs": [],
   "source": [
    "import sys\n",
    "import numpy as np\n",
    "import torch\n",
    "import learn2learn as l2l\n",
    "from torch import nn, optim\n",
    "from torch.nn import functional as F\n",
    "from torchvision import transforms\n",
    "\n",
    "from PIL.Image import LANCZOS\n",
    "from csv import writer\n",
    "\n",
    "from PIL import Image\n",
    "import pandas as pd"
   ]
  },
  {
   "cell_type": "code",
   "execution_count": 2,
   "id": "5a0570df",
   "metadata": {},
   "outputs": [
    {
     "data": {
      "text/plain": [
       "False"
      ]
     },
     "execution_count": 2,
     "metadata": {},
     "output_type": "execute_result"
    }
   ],
   "source": [
    "torch.cuda.is_available()"
   ]
  },
  {
   "cell_type": "code",
   "execution_count": 3,
   "id": "c796324e",
   "metadata": {},
   "outputs": [
    {
     "data": {
      "text/plain": [
       "['/home/anuj/Desktop/Work/TU_Delft/research/implement/learning_to_meta-learn/src',\n",
       " '/home/anuj/.vscode/extensions/ms-toolsai.jupyter-2022.5.1001601848/pythonFiles',\n",
       " '/home/anuj/.vscode/extensions/ms-toolsai.jupyter-2022.5.1001601848/pythonFiles/lib/python',\n",
       " '/home/anuj/anaconda3/envs/torch/lib/python39.zip',\n",
       " '/home/anuj/anaconda3/envs/torch/lib/python3.9',\n",
       " '/home/anuj/anaconda3/envs/torch/lib/python3.9/lib-dynload',\n",
       " '',\n",
       " '/home/anuj/anaconda3/envs/torch/lib/python3.9/site-packages',\n",
       " '/home/anuj/anaconda3/envs/torch/lib/python3.9/site-packages/IPython/extensions',\n",
       " '/home/anuj/.ipython',\n",
       " '/home/anuj/Desktop/Work/TU_Delft/research/implement/learning_to_meta-learn']"
      ]
     },
     "execution_count": 3,
     "metadata": {},
     "output_type": "execute_result"
    }
   ],
   "source": [
    "sys.path.append('/home/anuj/Desktop/Work/TU_Delft/research/implement/learning_to_meta-learn')\n",
    "sys.path"
   ]
  },
  {
   "cell_type": "code",
   "execution_count": 4,
   "id": "337d93de",
   "metadata": {},
   "outputs": [],
   "source": [
    "# from data.taskers import gen_tasks\n",
    "from src.zoo.archs import CCVAE\n",
    "# from src.zoo.trident_utils import setup, inner_adapt_trident, loss, accuracy\n",
    "# from data.loaders import CUBirds200\n",
    "from src.zoo.trident_utils import inner_adapt_trident, setup\n"
   ]
  },
  {
   "cell_type": "code",
   "execution_count": 5,
   "id": "7b1b9846",
   "metadata": {},
   "outputs": [],
   "source": [
    "device = 'cpu'\n",
    "n_ways = 5\n",
    "k_shots = 1\n",
    "q_shots = 1\n",
    "order = False\n",
    "inner_lr = 0.001\n",
    "meta_lr = 0.0001\n",
    "reconst_loss = nn.MSELoss(reduction='none')\n",
    "adapt_steps = 2\n",
    "meta_batch_size = 10\n",
    "download = False"
   ]
  },
  {
   "cell_type": "code",
   "execution_count": 6,
   "id": "9b432fc0",
   "metadata": {},
   "outputs": [],
   "source": [
    "class Args:\n",
    "    def __init__(self, wt_ce, klwt, rec_wt, beta_l, beta_s):\n",
    "        #args.wt_ce, args.klwt, args.rec_wt, args.beta_l, args.beta_s\n",
    "        self.wt_ce = wt_ce\n",
    "        self.klwt = klwt\n",
    "        self.rec_wt = rec_wt\n",
    "        self.beta_l = beta_l\n",
    "        self.beta_s = beta_s\n",
    "        self.dataset = 'miniimagenet'\n",
    "        self.root = '../../dataset/mini_imagenet'\n",
    "        self.task_adapt = True\n",
    "        self.task_adapt_fn = 'tafe'\n",
    "        self.n_ways = 5\n",
    "        self.k_shots = 1\n",
    "        self.q_shots = 1\n",
    "        self.zl = 64\n",
    "        self.zs = 64\n",
    "        self.reconstr = 'pp'\n",
    "        self.device = 'cpu'\n",
    "        \n",
    "args = Args(1, False, 1, 1, 1)"
   ]
  },
  {
   "cell_type": "code",
   "execution_count": 7,
   "id": "19a2c5e0",
   "metadata": {},
   "outputs": [],
   "source": [
    "train_tasks, valid_tasks, _, learner = setup(\n",
    "    args.dataset, args.root, args.n_ways, args.k_shots, args.q_shots, order, inner_lr, args.device, download=download, task_adapt=args.task_adapt, args=args)\n",
    "opt = optim.Adam(learner.parameters(), meta_lr)\n",
    "reconst_loss = nn.MSELoss(reduction='none')\n"
   ]
  },
  {
   "cell_type": "code",
   "execution_count": 8,
   "id": "fed8c79c",
   "metadata": {},
   "outputs": [],
   "source": [
    "ttask = train_tasks.sample()\n",
    "model = learner.clone()"
   ]
  },
  {
   "cell_type": "code",
   "execution_count": 9,
   "id": "5513327f",
   "metadata": {},
   "outputs": [],
   "source": [
    "evaluation_loss, evaluation_accuracy = inner_adapt_trident(\n",
    "    ttask, reconst_loss, model, args.n_ways, args.k_shots, args.q_shots, adapt_steps, args.device, False, args)"
   ]
  },
  {
   "cell_type": "code",
   "execution_count": 10,
   "id": "303f12c4",
   "metadata": {},
   "outputs": [
    {
     "data": {
      "text/plain": [
       "{'elbo': tensor(12.8777, grad_fn=<AddBackward0>),\n",
       " 'label_kl': tensor(1.6585, grad_fn=<MeanBackward0>),\n",
       " 'style_kl': tensor(9.3425, grad_fn=<MeanBackward0>),\n",
       " 'reconstruction_loss': tensor(0.1450, grad_fn=<MeanBackward0>),\n",
       " 'classification_loss': tensor(1.7316, grad_fn=<NllLossBackward0>)}"
      ]
     },
     "execution_count": 10,
     "metadata": {},
     "output_type": "execute_result"
    }
   ],
   "source": [
    "evaluation_loss"
   ]
  },
  {
   "cell_type": "code",
   "execution_count": 11,
   "id": "ee45d5dc",
   "metadata": {},
   "outputs": [],
   "source": [
    "evaluation_loss['elbo'].backward()"
   ]
  },
  {
   "cell_type": "code",
   "execution_count": 12,
   "id": "5340fcd8",
   "metadata": {},
   "outputs": [],
   "source": [
    "torch.save(learner.state_dict(), './temp.pt')"
   ]
  },
  {
   "cell_type": "code",
   "execution_count": 16,
   "id": "bfccd2d4",
   "metadata": {},
   "outputs": [
    {
     "data": {
      "text/plain": [
       "<All keys matched successfully>"
      ]
     },
     "execution_count": 16,
     "metadata": {},
     "output_type": "execute_result"
    }
   ],
   "source": [
    "learner1 = CCVAE(in_channels=3, base_channels=32, n_ways=args.n_ways, task_adapt=True, args=args, latent_dim_l=64, latent_dim_s=64)\n",
    "learner1 = l2l.algorithms.MAML(learner1, first_order=order, lr=inner_lr, allow_nograd=False)\n",
    "learner1.load_state_dict(torch.load('./temp.pt'))"
   ]
  },
  {
   "cell_type": "code",
   "execution_count": 19,
   "id": "b44c6c47",
   "metadata": {},
   "outputs": [],
   "source": [
    "model = learner1.clone()\n",
    "evaluation_loss, evaluation_accuracy = inner_adapt_trident(\n",
    "    ttask, reconst_loss, model, args.n_ways, args.k_shots, args.q_shots, adapt_steps, args.device, False, args)"
   ]
  },
  {
   "cell_type": "code",
   "execution_count": 20,
   "id": "3cc13a3f",
   "metadata": {},
   "outputs": [
    {
     "data": {
      "text/plain": [
       "{'elbo': tensor(12.1259, grad_fn=<AddBackward0>),\n",
       " 'label_kl': tensor(1.4813, grad_fn=<MeanBackward0>),\n",
       " 'style_kl': tensor(8.8035, grad_fn=<MeanBackward0>),\n",
       " 'reconstruction_loss': tensor(0.1288, grad_fn=<MeanBackward0>),\n",
       " 'classification_loss': tensor(1.7124, grad_fn=<NllLossBackward0>)}"
      ]
     },
     "execution_count": 20,
     "metadata": {},
     "output_type": "execute_result"
    }
   ],
   "source": [
    "evaluation_loss"
   ]
  }
 ],
 "metadata": {
  "environment": {
   "name": "pytorch-gpu.1-8.m71",
   "type": "gcloud",
   "uri": "gcr.io/deeplearning-platform-release/pytorch-gpu.1-8:m71"
  },
  "interpreter": {
   "hash": "7e3af266dcb7df8b026f0780dbb396b062ee5ca2767a18f50e60e26ee6084121"
  },
  "kernelspec": {
   "display_name": "Python 3.8.11 64-bit ('torch': conda)",
   "name": "python3"
  },
  "language_info": {
   "codemirror_mode": {
    "name": "ipython",
    "version": 3
   },
   "file_extension": ".py",
   "mimetype": "text/x-python",
   "name": "python",
   "nbconvert_exporter": "python",
   "pygments_lexer": "ipython3",
   "version": "3.9.7"
  }
 },
 "nbformat": 4,
 "nbformat_minor": 5
}

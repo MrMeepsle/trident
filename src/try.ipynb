{
 "cells": [
  {
   "cell_type": "code",
   "execution_count": 1,
   "id": "92c9c550",
   "metadata": {
    "ExecuteTime": {
     "end_time": "2022-08-08T17:32:55.528206Z",
     "start_time": "2022-08-08T17:32:54.201452Z"
    }
   },
   "outputs": [],
   "source": [
    "import sys\n",
    "import numpy as np\n",
    "import torch\n",
    "import learn2learn as l2l\n",
    "from torch import nn, optim\n",
    "from torch.nn import functional as F\n",
    "from torchvision import transforms\n",
    "\n",
    "from PIL.Image import LANCZOS\n",
    "from csv import writer\n",
    "\n",
    "from PIL import Image\n",
    "import pandas as pd"
   ]
  },
  {
   "cell_type": "code",
   "execution_count": 2,
   "id": "5a0570df",
   "metadata": {
    "ExecuteTime": {
     "end_time": "2022-08-08T17:32:55.543144Z",
     "start_time": "2022-08-08T17:32:55.530886Z"
    }
   },
   "outputs": [
    {
     "data": {
      "text/plain": [
       "False"
      ]
     },
     "execution_count": 2,
     "metadata": {},
     "output_type": "execute_result"
    }
   ],
   "source": [
    "torch.cuda.is_available()"
   ]
  },
  {
   "cell_type": "code",
   "execution_count": 3,
   "id": "c796324e",
   "metadata": {
    "ExecuteTime": {
     "end_time": "2022-08-08T17:32:55.553275Z",
     "start_time": "2022-08-08T17:32:55.545532Z"
    }
   },
   "outputs": [
    {
     "data": {
      "text/plain": [
       "['/home/anuj/Desktop/Work/TU_Delft/research/implement/learning_to_meta-learn/src',\n",
       " '/home/anuj/.vscode/extensions/ms-toolsai.jupyter-2022.7.1002181843/pythonFiles',\n",
       " '/home/anuj/.vscode/extensions/ms-toolsai.jupyter-2022.7.1002181843/pythonFiles/lib/python',\n",
       " '/home/anuj/anaconda3/envs/torch/lib/python39.zip',\n",
       " '/home/anuj/anaconda3/envs/torch/lib/python3.9',\n",
       " '/home/anuj/anaconda3/envs/torch/lib/python3.9/lib-dynload',\n",
       " '',\n",
       " '/home/anuj/anaconda3/envs/torch/lib/python3.9/site-packages',\n",
       " '/home/anuj/anaconda3/envs/torch/lib/python3.9/site-packages/IPython/extensions',\n",
       " '/home/anuj/.ipython',\n",
       " '/home/anuj/Desktop/Work/TU_Delft/research/implement/learning_to_meta-learn']"
      ]
     },
     "execution_count": 3,
     "metadata": {},
     "output_type": "execute_result"
    }
   ],
   "source": [
    "sys.path.append('/home/anuj/Desktop/Work/TU_Delft/research/implement/learning_to_meta-learn')\n",
    "sys.path"
   ]
  },
  {
   "cell_type": "code",
   "execution_count": 4,
   "id": "337d93de",
   "metadata": {
    "ExecuteTime": {
     "end_time": "2022-08-08T17:32:55.574683Z",
     "start_time": "2022-08-08T17:32:55.555387Z"
    }
   },
   "outputs": [],
   "source": [
    "# from data.taskers import gen_tasks\n",
    "from src.zoo.archs import CCVAE, CEncoder\n",
    "# from src.zoo.trident_utils import setup, inner_adapt_trident, loss, accuracy\n",
    "# from data.loaders import CUBirds200\n",
    "from src.zoo.trident_utils import inner_adapt_trident, setup\n"
   ]
  },
  {
   "cell_type": "code",
   "execution_count": 5,
   "id": "7b1b9846",
   "metadata": {
    "ExecuteTime": {
     "end_time": "2022-08-08T17:32:57.902377Z",
     "start_time": "2022-08-08T17:32:57.893792Z"
    }
   },
   "outputs": [],
   "source": [
    "device = 'cpu'\n",
    "n_ways = 5\n",
    "k_shots = 1\n",
    "q_shots = 10\n",
    "order = False\n",
    "inner_lr = 0.001\n",
    "meta_lr = 0.0001\n",
    "reconst_loss = nn.MSELoss(reduction='none')\n",
    "adapt_steps = 5\n",
    "meta_batch_size = 10\n",
    "download = False"
   ]
  },
  {
   "cell_type": "code",
   "execution_count": 6,
   "id": "9b432fc0",
   "metadata": {
    "ExecuteTime": {
     "end_time": "2022-08-08T17:32:59.105750Z",
     "start_time": "2022-08-08T17:32:59.094234Z"
    }
   },
   "outputs": [],
   "source": [
    "class Args:\n",
    "    def __init__(self, wt_ce, klwt, rec_wt, beta_l, beta_s):\n",
    "        #args.wt_ce, args.klwt, args.rec_wt, args.beta_l, args.beta_s\n",
    "        self.wt_ce = wt_ce\n",
    "        self.klwt = klwt\n",
    "        self.rec_wt = rec_wt\n",
    "        self.beta_l = beta_l\n",
    "        self.beta_s = beta_s\n",
    "        self.dataset = 'tiered'\n",
    "        self.root = '../../dataset/mini_imagenet/'\n",
    "        self.task_adapt = True\n",
    "        self.task_adapt_fn = 'tafe'\n",
    "        self.n_ways = 5\n",
    "        self.k_shots = 1\n",
    "        self.q_shots = 10\n",
    "        self.zl = 64\n",
    "        self.zs = 64\n",
    "        self.reconstr = 'std'\n",
    "        self.device = 'cpu'\n",
    "        self.wn_channels = 32\n",
    "        self.wm_channels = 64\n",
    "\n",
    "args = Args(100, False, 0.01, 1, 1)"
   ]
  },
  {
   "cell_type": "code",
   "execution_count": 11,
   "id": "deb7bdf5",
   "metadata": {},
   "outputs": [],
   "source": [
    "def testing(args, l):\n",
    "    print('chaning now')\n",
    "    args.dataset = 'cub'\n",
    "    args.dataset = 'tiered'\n",
    "    return l"
   ]
  },
  {
   "cell_type": "code",
   "execution_count": 12,
   "id": "fd295332",
   "metadata": {},
   "outputs": [
    {
     "name": "stdout",
     "output_type": "stream",
     "text": [
      "chaning now\n"
     ]
    },
    {
     "data": {
      "text/plain": [
       "'tiered'"
      ]
     },
     "execution_count": 12,
     "metadata": {},
     "output_type": "execute_result"
    }
   ],
   "source": [
    "a = testing(args, [1,2,3])\n",
    "args.dataset"
   ]
  },
  {
   "cell_type": "code",
   "execution_count": null,
   "id": "1b025405",
   "metadata": {},
   "outputs": [],
   "source": [
    "m = nn.LeakyReLU(0.2)\n",
    "input = torch.randn(2)\n",
    "output = m(input)\n",
    "output"
   ]
  },
  {
   "cell_type": "code",
   "execution_count": null,
   "id": "fc105d87",
   "metadata": {},
   "outputs": [],
   "source": [
    "m = nn.LeakyReLU(0.2)\n",
    "#m = m(0.2)\n",
    "input = torch.randn(2)\n",
    "output = m(input)\n",
    "output"
   ]
  },
  {
   "cell_type": "code",
   "execution_count": null,
   "id": "435f840a",
   "metadata": {},
   "outputs": [],
   "source": [
    "model = CEncoder(3, 32, args=args)\n",
    "input = ttask[0]\n",
    "output = model(input)\n",
    "output"
   ]
  },
  {
   "cell_type": "code",
   "execution_count": null,
   "id": "97f17524",
   "metadata": {},
   "outputs": [],
   "source": [
    "learner = torch.load('../logs/DELPO_tiered_5-way_1-shot_10-queries/exp5-tafe(wo relu)/model_67500.pt')"
   ]
  },
  {
   "cell_type": "code",
   "execution_count": null,
   "id": "ca6e9f5a",
   "metadata": {},
   "outputs": [],
   "source": [
    "learner.args"
   ]
  },
  {
   "cell_type": "code",
   "execution_count": null,
   "id": "e15d2205",
   "metadata": {},
   "outputs": [],
   "source": [
    "learner.modules"
   ]
  },
  {
   "cell_type": "code",
   "execution_count": null,
   "id": "bb508a32",
   "metadata": {},
   "outputs": [],
   "source": [
    "learner.state_dict()"
   ]
  },
  {
   "cell_type": "code",
   "execution_count": null,
   "id": "8d3946e9",
   "metadata": {},
   "outputs": [],
   "source": [
    "torch.save(learner.state_dict(), '../logs/DELPO_tiered_5-way_1-shot_10-queries/exp5-tafe(wo relu)/model_67500_sd.pt')"
   ]
  },
  {
   "cell_type": "code",
   "execution_count": null,
   "id": "55314f55",
   "metadata": {},
   "outputs": [],
   "source": [
    "learner = CCVAE(in_channels=3, base_channels=32,\n",
    "                        n_ways=args.n_ways, task_adapt=True, args=args, latent_dim_l=args.zl, latent_dim_s=args.zs)\n",
    "#opt = optim.Adam(learner.parameters(), 0.00015)"
   ]
  },
  {
   "cell_type": "code",
   "execution_count": null,
   "id": "19a2c5e0",
   "metadata": {},
   "outputs": [],
   "source": [
    "train_tasks, valid_tasks, _, learner = setup(\n",
    "    args.dataset, args.root, args.n_ways, args.k_shots, args.q_shots, order, inner_lr, args.device, download=download, task_adapt=args.task_adapt, args=args)\n",
    "opt = optim.Adam(learner.parameters(), meta_lr)\n",
    "reconst_loss = nn.MSELoss(reduction='none')\n"
   ]
  },
  {
   "cell_type": "code",
   "execution_count": null,
   "id": "fed8c79c",
   "metadata": {},
   "outputs": [],
   "source": [
    "ttask = train_tasks.sample()\n",
    "model = learner.clone()"
   ]
  },
  {
   "cell_type": "code",
   "execution_count": null,
   "id": "5513327f",
   "metadata": {},
   "outputs": [],
   "source": [
    "evaluation_loss, evaluation_accuracy = inner_adapt_trident(\n",
    "    ttask, reconst_loss, model, args.n_ways, args.k_shots, args.q_shots, adapt_steps, args.device, False, args)"
   ]
  },
  {
   "cell_type": "code",
   "execution_count": null,
   "id": "303f12c4",
   "metadata": {},
   "outputs": [],
   "source": [
    "evaluation_loss"
   ]
  },
  {
   "cell_type": "code",
   "execution_count": null,
   "id": "ee45d5dc",
   "metadata": {},
   "outputs": [],
   "source": [
    "evaluation_loss['elbo'].backward()"
   ]
  },
  {
   "cell_type": "code",
   "execution_count": null,
   "id": "5340fcd8",
   "metadata": {},
   "outputs": [],
   "source": [
    "torch.save(learner.state_dict(), './temp.pt')"
   ]
  },
  {
   "cell_type": "code",
   "execution_count": null,
   "id": "bfccd2d4",
   "metadata": {},
   "outputs": [],
   "source": [
    "learner1 = CCVAE(in_channels=3, base_channels=32, n_ways=args.n_ways, task_adapt=True, args=args, latent_dim_l=args.zl, latent_dim_s=args.zs)\n",
    "learner1 = l2l.algorithms.MAML(learner1, first_order=order, lr=inner_lr, allow_nograd=False)\n",
    "learner1.load_state_dict(torch.load('../logs/DELPO_miniimagenet_5-way_5-shot_10-queries/og/model_28500.pt'))"
   ]
  },
  {
   "cell_type": "code",
   "execution_count": null,
   "id": "e262cd73",
   "metadata": {},
   "outputs": [],
   "source": [
    "learner1.state_dict()"
   ]
  },
  {
   "cell_type": "code",
   "execution_count": 7,
   "id": "657cf12f",
   "metadata": {
    "ExecuteTime": {
     "end_time": "2022-08-08T17:33:11.430596Z",
     "start_time": "2022-08-08T17:33:11.368869Z"
    }
   },
   "outputs": [
    {
     "data": {
      "text/plain": [
       "<All keys matched successfully>"
      ]
     },
     "execution_count": 7,
     "metadata": {},
     "output_type": "execute_result"
    }
   ],
   "source": [
    "learner = CCVAE(in_channels=3, base_channels=32, n_ways=args.n_ways, task_adapt=True, args=args, latent_dim_l=args.zl, latent_dim_s=args.zs)\n",
    "learner = l2l.algorithms.MAML(learner, first_order=order, lr=inner_lr, allow_nograd=False)\n",
    "learner.load_state_dict(torch.load('../logs/DELPO_tiered_5-way_1-shot_10-queries/exp5-tafe(wo relu)/model_67500_sd.pt'))"
   ]
  },
  {
   "cell_type": "code",
   "execution_count": 8,
   "metadata": {
    "ExecuteTime": {
     "end_time": "2022-08-08T17:33:20.133644Z",
     "start_time": "2022-08-08T17:33:20.119609Z"
    }
   },
   "outputs": [
    {
     "data": {
      "text/plain": [
       "MAML(\n",
       "  (module): CCVAE(\n",
       "    (encoder): CEncoder(\n",
       "      (net): Sequential(\n",
       "        (0): Conv2d(3, 32, kernel_size=(3, 3), stride=(1, 1), padding=(1, 1))\n",
       "        (1): BatchNorm2d(32, eps=1e-05, momentum=0.1, affine=True, track_running_stats=True)\n",
       "        (2): ReLU()\n",
       "        (3): MaxPool2d(kernel_size=2, stride=2, padding=0, dilation=1, ceil_mode=False)\n",
       "        (4): Conv2d(32, 32, kernel_size=(3, 3), stride=(1, 1), padding=(1, 1))\n",
       "        (5): BatchNorm2d(32, eps=1e-05, momentum=0.1, affine=True, track_running_stats=True)\n",
       "        (6): ReLU()\n",
       "        (7): MaxPool2d(kernel_size=2, stride=2, padding=0, dilation=1, ceil_mode=False)\n",
       "        (8): Conv2d(32, 32, kernel_size=(3, 3), stride=(1, 1), padding=(1, 1))\n",
       "        (9): BatchNorm2d(32, eps=1e-05, momentum=0.1, affine=True, track_running_stats=True)\n",
       "        (10): ReLU()\n",
       "        (11): MaxPool2d(kernel_size=2, stride=2, padding=0, dilation=1, ceil_mode=False)\n",
       "        (12): Conv2d(32, 32, kernel_size=(3, 3), stride=(1, 1), padding=(1, 1))\n",
       "        (13): BatchNorm2d(32, eps=1e-05, momentum=0.1, affine=True, track_running_stats=True)\n",
       "        (14): ReLU()\n",
       "        (15): MaxPool2d(kernel_size=2, stride=2, padding=0, dilation=1, ceil_mode=False)\n",
       "        (16): Flatten(start_dim=1, end_dim=-1)\n",
       "      )\n",
       "    )\n",
       "    (decoder): CDecoder(\n",
       "      (linear): Sequential(\n",
       "        (0): Linear(in_features=128, out_features=800, bias=True)\n",
       "        (1): ReLU()\n",
       "      )\n",
       "      (net): Sequential(\n",
       "        (0): UpsamplingNearest2d(size=(10, 10), mode=nearest)\n",
       "        (1): Conv2d(32, 32, kernel_size=(3, 3), stride=(1, 1), padding=same)\n",
       "        (2): BatchNorm2d(32, eps=1e-05, momentum=0.1, affine=True, track_running_stats=True)\n",
       "        (3): ReLU()\n",
       "        (4): UpsamplingNearest2d(size=(21, 21), mode=nearest)\n",
       "        (5): Conv2d(32, 32, kernel_size=(3, 3), stride=(1, 1), padding=same)\n",
       "        (6): BatchNorm2d(32, eps=1e-05, momentum=0.1, affine=True, track_running_stats=True)\n",
       "        (7): ReLU()\n",
       "        (8): UpsamplingNearest2d(size=(42, 42), mode=nearest)\n",
       "        (9): Conv2d(32, 32, kernel_size=(3, 3), stride=(1, 1), padding=same)\n",
       "        (10): BatchNorm2d(32, eps=1e-05, momentum=0.1, affine=True, track_running_stats=True)\n",
       "        (11): ReLU()\n",
       "        (12): UpsamplingNearest2d(size=(84, 84), mode=nearest)\n",
       "        (13): Conv2d(32, 3, kernel_size=(3, 3), stride=(1, 1), padding=same)\n",
       "        (14): BatchNorm2d(3, eps=1e-05, momentum=0.1, affine=True, track_running_stats=True)\n",
       "        (15): Sigmoid()\n",
       "      )\n",
       "    )\n",
       "    (classifier_vae): Classifier_VAE(\n",
       "      (encoder): TADCEncoder(\n",
       "        (net): Sequential(\n",
       "          (0): Conv2d(3, 32, kernel_size=(3, 3), stride=(1, 1), padding=(1, 1))\n",
       "          (1): BatchNorm2d(32, eps=1e-05, momentum=0.1, affine=True, track_running_stats=True)\n",
       "          (2): ReLU()\n",
       "          (3): MaxPool2d(kernel_size=2, stride=2, padding=0, dilation=1, ceil_mode=False)\n",
       "          (4): Conv2d(32, 32, kernel_size=(3, 3), stride=(1, 1), padding=(1, 1))\n",
       "          (5): BatchNorm2d(32, eps=1e-05, momentum=0.1, affine=True, track_running_stats=True)\n",
       "          (6): ReLU()\n",
       "          (7): MaxPool2d(kernel_size=2, stride=2, padding=0, dilation=1, ceil_mode=False)\n",
       "          (8): Conv2d(32, 32, kernel_size=(3, 3), stride=(1, 1), padding=(1, 1))\n",
       "          (9): BatchNorm2d(32, eps=1e-05, momentum=0.1, affine=True, track_running_stats=True)\n",
       "          (10): ReLU()\n",
       "          (11): MaxPool2d(kernel_size=2, stride=2, padding=0, dilation=1, ceil_mode=False)\n",
       "          (12): Conv2d(32, 32, kernel_size=(3, 3), stride=(1, 1), padding=(1, 1))\n",
       "          (13): BatchNorm2d(32, eps=1e-05, momentum=0.1, affine=True, track_running_stats=True)\n",
       "          (14): ReLU()\n",
       "          (15): MaxPool2d(kernel_size=2, stride=2, padding=0, dilation=1, ceil_mode=False)\n",
       "        )\n",
       "        (fe): Sequential(\n",
       "          (0): Conv2d(1, 64, kernel_size=(55, 1), stride=(1, 1), padding=valid, bias=False)\n",
       "          (1): ReLU()\n",
       "          (2): Conv2d(64, 32, kernel_size=(1, 1), stride=(1, 1), padding=valid, bias=False)\n",
       "          (3): ReLU()\n",
       "        )\n",
       "        (f_q): Conv2d(32, 1, kernel_size=(1, 1), stride=(1, 1), padding=valid, bias=False)\n",
       "        (f_k): Conv2d(32, 1, kernel_size=(1, 1), stride=(1, 1), padding=valid, bias=False)\n",
       "        (f_v): Conv2d(32, 1, kernel_size=(1, 1), stride=(1, 1), padding=valid, bias=False)\n",
       "      )\n",
       "      (gaussian_parametrizer): GaussianParametrizer(\n",
       "        (h1): Linear(in_features=864, out_features=64, bias=True)\n",
       "        (h2): Linear(in_features=864, out_features=64, bias=True)\n",
       "      )\n",
       "      (classifier): Sequential(\n",
       "        (0): Linear(in_features=64, out_features=32, bias=True)\n",
       "        (1): ReLU()\n",
       "        (2): Linear(in_features=32, out_features=5, bias=True)\n",
       "      )\n",
       "    )\n",
       "    (gaussian_parametrizer): GaussianParametrizer(\n",
       "      (h1): Linear(in_features=800, out_features=64, bias=True)\n",
       "      (h2): Linear(in_features=800, out_features=64, bias=True)\n",
       "    )\n",
       "  )\n",
       ")"
      ]
     },
     "execution_count": 8,
     "metadata": {},
     "output_type": "execute_result"
    }
   ],
   "source": [
    "learner"
   ]
  },
  {
   "cell_type": "code",
   "execution_count": null,
   "id": "66057729",
   "metadata": {},
   "outputs": [],
   "source": [
    "learner.state_dict()"
   ]
  },
  {
   "cell_type": "code",
   "execution_count": null,
   "id": "8e09b0f8",
   "metadata": {},
   "outputs": [],
   "source": [
    "_, _, test_tasks, learner = setup(\n",
    "    args.dataset, args.root, args.n_ways, args.k_shots, args.q_shots, order, inner_lr, args.device, download=download, task_adapt=args.task_adapt, args=args)\n",
    "\n",
    "learner.load_state_dict(torch.load('../logs/DELPO_tiered_5-way_1-shot_10-queries/exp5-tafe(wo relu)/model_67500_sd.pt'))\n",
    "learner = learner.to(args.device)"
   ]
  },
  {
   "cell_type": "code",
   "execution_count": null,
   "id": "44324e17",
   "metadata": {},
   "outputs": [],
   "source": [
    "learner.load_state_dict(torch.load('../logs/DELPO_miniimagenet_5-way_5-shot_10-queries/og/model_28500.pt'))\n",
    "learner = learner.to(args.device)"
   ]
  },
  {
   "cell_type": "code",
   "execution_count": null,
   "id": "d3ce15e6",
   "metadata": {},
   "outputs": [],
   "source": [
    "learner.state_dict()"
   ]
  },
  {
   "cell_type": "code",
   "execution_count": null,
   "id": "1384c6d2",
   "metadata": {},
   "outputs": [],
   "source": [
    "device = 'cpu'\n",
    "n_ways = 5\n",
    "k_shots = 5\n",
    "q_shots = 10\n",
    "order = False\n",
    "inner_lr = 0.00014\n",
    "meta_lr = 0.000014\n",
    "reconst_loss = nn.MSELoss(reduction='none')\n",
    "adapt_steps = 10\n",
    "meta_batch_size = 10\n",
    "download = False"
   ]
  },
  {
   "cell_type": "code",
   "execution_count": null,
   "id": "961f9a6c",
   "metadata": {},
   "outputs": [],
   "source": [
    "ttask = test_tasks.sample()"
   ]
  },
  {
   "cell_type": "code",
   "execution_count": null,
   "id": "b3422560",
   "metadata": {},
   "outputs": [],
   "source": [
    "ttask"
   ]
  },
  {
   "cell_type": "code",
   "execution_count": null,
   "id": "b44c6c47",
   "metadata": {},
   "outputs": [],
   "source": [
    "model = learner.clone()\n",
    "evaluation_loss, evaluation_accuracy = inner_adapt_trident(\n",
    "    ttask, reconst_loss, model, args.n_ways, args.k_shots, args.q_shots, adapt_steps, args.device, False, args)"
   ]
  },
  {
   "cell_type": "code",
   "execution_count": null,
   "id": "5d1efa7a",
   "metadata": {},
   "outputs": [],
   "source": [
    "evaluation_accuracy"
   ]
  },
  {
   "cell_type": "code",
   "execution_count": null,
   "id": "3cc13a3f",
   "metadata": {},
   "outputs": [],
   "source": [
    "evaluation_loss"
   ]
  },
  {
   "cell_type": "code",
   "execution_count": null,
   "id": "ac29cd07",
   "metadata": {},
   "outputs": [],
   "source": []
  }
 ],
 "metadata": {
  "environment": {
   "name": "pytorch-gpu.1-8.m71",
   "type": "gcloud",
   "uri": "gcr.io/deeplearning-platform-release/pytorch-gpu.1-8:m71"
  },
  "interpreter": {
   "hash": "7e3af266dcb7df8b026f0780dbb396b062ee5ca2767a18f50e60e26ee6084121"
  },
  "kernelspec": {
   "display_name": "Python 3 (ipykernel)",
   "language": "python",
   "name": "python3"
  },
  "language_info": {
   "codemirror_mode": {
    "name": "ipython",
    "version": 3
   },
   "file_extension": ".py",
   "mimetype": "text/x-python",
   "name": "python",
   "nbconvert_exporter": "python",
   "pygments_lexer": "ipython3",
   "version": "3.9.7"
  },
  "toc": {
   "base_numbering": 1,
   "nav_menu": {},
   "number_sections": true,
   "sideBar": true,
   "skip_h1_title": false,
   "title_cell": "Table of Contents",
   "title_sidebar": "Contents",
   "toc_cell": false,
   "toc_position": {},
   "toc_section_display": true,
   "toc_window_display": false
  }
 },
 "nbformat": 4,
 "nbformat_minor": 5
}

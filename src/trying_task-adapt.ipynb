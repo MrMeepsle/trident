{
 "cells": [
  {
   "cell_type": "markdown",
   "metadata": {},
   "source": [
    "classifiers: nn.crossentropyloss = -log-likelihood --- use for logp(y) and -logq(y/x) for support <br>\n",
    "kl-div: <br>\n",
    "reconstr-loss: set reduction to none and then take mean of losses per image in the total batch. This gives reconstr-loss per image for further computation<br> "
   ]
  },
  {
   "cell_type": "code",
   "execution_count": 1,
   "metadata": {},
   "outputs": [],
   "source": [
    "import sys\n",
    "import random\n",
    "import numpy as np\n",
    "import torch\n",
    "import learn2learn as l2l\n",
    "import pandas as pd\n",
    "import os\n",
    "from torch import nn, optim\n",
    "from torch.nn import functional as F\n",
    "from torchvision import datasets, transforms\n",
    "from PIL.Image import LANCZOS"
   ]
  },
  {
   "cell_type": "code",
   "execution_count": 2,
   "metadata": {},
   "outputs": [
    {
     "data": {
      "text/plain": [
       "True"
      ]
     },
     "execution_count": 2,
     "metadata": {},
     "output_type": "execute_result"
    }
   ],
   "source": [
    "torch.cuda.is_available()"
   ]
  },
  {
   "cell_type": "code",
   "execution_count": 3,
   "metadata": {},
   "outputs": [
    {
     "data": {
      "text/plain": [
       "['/home/anuj/Desktop/Work/TU_Delft/research/implement/learning_to_meta-learn/src',\n",
       " '/home/anuj/.vscode/extensions/ms-toolsai.jupyter-2021.11.1001550889/pythonFiles',\n",
       " '/home/anuj/.vscode/extensions/ms-toolsai.jupyter-2021.11.1001550889/pythonFiles/lib/python',\n",
       " '/home/anuj/anaconda3/envs/torch/lib/python38.zip',\n",
       " '/home/anuj/anaconda3/envs/torch/lib/python3.8',\n",
       " '/home/anuj/anaconda3/envs/torch/lib/python3.8/lib-dynload',\n",
       " '',\n",
       " '/home/anuj/anaconda3/envs/torch/lib/python3.8/site-packages',\n",
       " '/home/anuj/anaconda3/envs/torch/lib/python3.8/site-packages/datasets-1.2.1-py3.8.egg',\n",
       " '/home/anuj/anaconda3/envs/torch/lib/python3.8/site-packages/locket-0.2.1-py3.8.egg',\n",
       " '/home/anuj/anaconda3/envs/torch/lib/python3.8/site-packages/IPython/extensions',\n",
       " '/home/anuj/.ipython',\n",
       " '/home/anuj/Desktop/Work/TU_Delft/research/implement/learning_to_meta-learn']"
      ]
     },
     "execution_count": 3,
     "metadata": {},
     "output_type": "execute_result"
    }
   ],
   "source": [
    "sys.path.append('/home/anuj/Desktop/Work/TU_Delft/research/implement/learning_to_meta-learn')\n",
    "sys.path"
   ]
  },
  {
   "cell_type": "code",
   "execution_count": 5,
   "metadata": {},
   "outputs": [],
   "source": [
    "from data.taskers import gen_tasks\n",
    "from src.zoo.archs import ConvBase\n",
    "from src.zoo.archs import TADCEncoder\n",
    "from src.zoo.delpo_utils import setup"
   ]
  },
  {
   "cell_type": "code",
   "execution_count": 11,
   "metadata": {},
   "outputs": [],
   "source": [
    "train_tasks = gen_tasks(dataname='miniimagenet', root='../../dataset/mini_imagenet', mode='train', n_ways=5, k_shots=5, q_shots=10, image_transforms=None)"
   ]
  },
  {
   "cell_type": "code",
   "execution_count": 125,
   "metadata": {},
   "outputs": [
    {
     "name": "stderr",
     "output_type": "stream",
     "text": [
      "/home/anuj/anaconda3/envs/torch/lib/python3.8/site-packages/torchvision/transforms/transforms.py:280: UserWarning: Argument interpolation should be of type InterpolationMode instead of int. Please, use InterpolationMode enum.\n",
      "  warnings.warn(\n"
     ]
    }
   ],
   "source": [
    "classes = list(range(1623))\n",
    "random.shuffle(classes)\n",
    "image_transforms = transforms.Compose([transforms.Resize(28, interpolation=LANCZOS),\n",
    "                                                    transforms.ToTensor(),\n",
    "                                                    lambda x: 1.0 - x,\n",
    "                                                ])\n",
    "train_tasks = gen_tasks('omniglot', '/home/anuj/Desktop/Work/TU_Delft/research/implement/dataset/omniglot', image_transforms=image_transforms, n_ways=5, k_shots=5, q_shots=15, classes=classes[:1100])"
   ]
  },
  {
   "cell_type": "code",
   "execution_count": 12,
   "metadata": {},
   "outputs": [],
   "source": [
    "ttask = train_tasks.sample()"
   ]
  },
  {
   "cell_type": "markdown",
   "metadata": {},
   "source": [
    "# Gaussian Kernel Smoothing"
   ]
  },
  {
   "cell_type": "code",
   "execution_count": 26,
   "metadata": {},
   "outputs": [
    {
     "data": {
      "text/plain": [
       "torch.Size([100, 3, 84, 84])"
      ]
     },
     "execution_count": 26,
     "metadata": {},
     "output_type": "execute_result"
    }
   ],
   "source": [
    "n = 5*(5 + 15)\n",
    "alpha = 0.1\n",
    "ttask[0].shape"
   ]
  },
  {
   "cell_type": "code",
   "execution_count": 19,
   "metadata": {},
   "outputs": [
    {
     "data": {
      "text/plain": [
       "torch.Size([100, 32, 5, 5])"
      ]
     },
     "execution_count": 19,
     "metadata": {},
     "output_type": "execute_result"
    }
   ],
   "source": [
    "generic_emb = ConvBase(3, 32, 4, True, (2,2))\n",
    "common = generic_emb(ttask[0])\n",
    "common.shape"
   ]
  },
  {
   "cell_type": "code",
   "execution_count": 23,
   "metadata": {},
   "outputs": [
    {
     "data": {
      "text/plain": [
       "torch.Size([100, 100])"
      ]
     },
     "execution_count": 23,
     "metadata": {},
     "output_type": "execute_result"
    }
   ],
   "source": [
    "G = common.reshape(n, -1)\n",
    "A = torch.cdist(G, G, p=2) ** 2\n",
    "A = A / A.var() # Normalized adjacency matrix\n",
    "A.shape"
   ]
  },
  {
   "cell_type": "code",
   "execution_count": 30,
   "metadata": {},
   "outputs": [
    {
     "data": {
      "text/plain": [
       "tensor([[0.6438, 0.0000, 0.0000,  ..., 0.0000, 0.0000, 0.0000],\n",
       "        [0.0000, 0.5844, 0.0000,  ..., 0.0000, 0.0000, 0.0000],\n",
       "        [0.0000, 0.0000, 0.6538,  ..., 0.0000, 0.0000, 0.0000],\n",
       "        ...,\n",
       "        [0.0000, 0.0000, 0.0000,  ..., 0.5670, 0.0000, 0.0000],\n",
       "        [0.0000, 0.0000, 0.0000,  ..., 0.0000, 0.6119, 0.0000],\n",
       "        [0.0000, 0.0000, 0.0000,  ..., 0.0000, 0.0000, 0.5660]],\n",
       "       grad_fn=<DiagBackward>)"
      ]
     },
     "execution_count": 30,
     "metadata": {},
     "output_type": "execute_result"
    }
   ],
   "source": [
    "D = A.sum(dim=1)\n",
    "D = torch.diag(D.pow(-0.5))\n",
    "D"
   ]
  },
  {
   "cell_type": "code",
   "execution_count": 35,
   "metadata": {},
   "outputs": [
    {
     "data": {
      "text/plain": [
       "tensor([[1.0001e+00, 1.2817e-03, 7.5209e-04,  ..., 1.3999e-03, 1.1779e-03,\n",
       "         1.2399e-03],\n",
       "        [1.2817e-03, 1.0001e+00, 1.3362e-03,  ..., 1.0192e-03, 1.1325e-03,\n",
       "         9.8987e-04],\n",
       "        [7.5209e-04, 1.3362e-03, 1.0001e+00,  ..., 1.4542e-03, 1.1138e-03,\n",
       "         1.4934e-03],\n",
       "        ...,\n",
       "        [1.3999e-03, 1.0192e-03, 1.4542e-03,  ..., 1.0001e+00, 9.6673e-04,\n",
       "         1.1531e-03],\n",
       "        [1.1779e-03, 1.1325e-03, 1.1138e-03,  ..., 9.6673e-04, 1.0001e+00,\n",
       "         1.2561e-03],\n",
       "        [1.2399e-03, 9.8987e-04, 1.4934e-03,  ..., 1.1531e-03, 1.2561e-03,\n",
       "         1.0001e+00]], grad_fn=<LinalgInvExBackward>)"
      ]
     },
     "execution_count": 35,
     "metadata": {},
     "output_type": "execute_result"
    }
   ],
   "source": [
    "L = torch.matmul(torch.matmul(D, A), D)\n",
    "P = torch.linalg.inv(torch.eye(n,n) - alpha * L)\n",
    "P"
   ]
  },
  {
   "cell_type": "code",
   "execution_count": 36,
   "metadata": {},
   "outputs": [],
   "source": [
    "class Kernel_Smoothing(nn.Module):\n",
    "    \n",
    "    def __init__(self):\n",
    "        super(Kernel_Smoothing, self).__init__()\n",
    "\n",
    "        self.n = 5*(5 + 15)\n",
    "        self.alpha = 0.1\n",
    "\n",
    "    def forward(self, x):\n",
    "        x = ConvBase(3, 32, 4, True, (2,2))(x)\n",
    "        G = x.reshape(self.n, -1)\n",
    "        A = torch.cdist(G, G, p=2) ** 2\n",
    "        A = A / A.var() # Normalized adjacency matrix\n",
    "        D = torch.diag(A.sum(dim=1).pow(-0.5))\n",
    "        L = torch.matmul(torch.matmul(D, A), D) # Laplacian Matrix\n",
    "        P = torch.linalg.inv(torch.eye(self.n, self.n) - self.alpha * L) # Propagator Matrix\n",
    "        x = torch.matmul(P, x.reshape(self.n, -1))\n",
    "\n",
    "        return x"
   ]
  },
  {
   "cell_type": "code",
   "execution_count": 37,
   "metadata": {},
   "outputs": [
    {
     "data": {
      "text/plain": [
       "tensor([[0.0756, 0.0594, 0.0413,  ..., 0.0185, 0.0437, 0.0110],\n",
       "        [0.0534, 0.0178, 0.0578,  ..., 0.0203, 0.0255, 0.0122],\n",
       "        [0.1110, 0.0611, 0.0659,  ..., 0.0902, 0.0795, 0.0098],\n",
       "        ...,\n",
       "        [0.5959, 0.1115, 0.2839,  ..., 0.0253, 0.2233, 0.1762],\n",
       "        [0.2493, 0.1906, 0.0172,  ..., 0.1330, 0.1448, 0.1637],\n",
       "        [0.0572, 0.2228, 0.1980,  ..., 0.0225, 0.1649, 0.2338]],\n",
       "       grad_fn=<MmBackward>)"
      ]
     },
     "execution_count": 37,
     "metadata": {},
     "output_type": "execute_result"
    }
   ],
   "source": [
    "model = Kernel_Smoothing()\n",
    "x = model(ttask[0])\n",
    "x"
   ]
  },
  {
   "cell_type": "markdown",
   "metadata": {},
   "source": [
    "# Convolution:"
   ]
  },
  {
   "cell_type": "code",
   "execution_count": 13,
   "metadata": {},
   "outputs": [],
   "source": [
    "n = 5*(5 + 10)"
   ]
  },
  {
   "cell_type": "code",
   "execution_count": 14,
   "metadata": {},
   "outputs": [
    {
     "data": {
      "text/plain": [
       "torch.Size([75, 3, 84, 84])"
      ]
     },
     "execution_count": 14,
     "metadata": {},
     "output_type": "execute_result"
    }
   ],
   "source": [
    "ttask[0].shape"
   ]
  },
  {
   "cell_type": "code",
   "execution_count": 15,
   "metadata": {},
   "outputs": [
    {
     "data": {
      "text/plain": [
       "torch.Size([75, 32, 5, 5])"
      ]
     },
     "execution_count": 15,
     "metadata": {},
     "output_type": "execute_result"
    }
   ],
   "source": [
    "generic_emb = ConvBase(3, 32, 4, True, (2,2))\n",
    "common = generic_emb(ttask[0])\n",
    "common.shape"
   ]
  },
  {
   "cell_type": "code",
   "execution_count": 16,
   "metadata": {},
   "outputs": [],
   "source": [
    "w = 5\n",
    "h = 5\n",
    "c = 32"
   ]
  },
  {
   "cell_type": "markdown",
   "id": "70c258f0",
   "metadata": {},
   "source": [
    "# TAFE "
   ]
  },
  {
   "cell_type": "code",
   "execution_count": 77,
   "id": "075eb238",
   "metadata": {},
   "outputs": [
    {
     "data": {
      "text/plain": [
       "torch.Size([75, 32, 5, 5])"
      ]
     },
     "execution_count": 77,
     "metadata": {},
     "output_type": "execute_result"
    }
   ],
   "source": [
    "net = common\n",
    "net.shape"
   ]
  },
  {
   "cell_type": "code",
   "execution_count": 78,
   "id": "dff5eac2",
   "metadata": {},
   "outputs": [
    {
     "data": {
      "text/plain": [
       "torch.Size([32, 75, 5, 5])"
      ]
     },
     "execution_count": 78,
     "metadata": {},
     "output_type": "execute_result"
    }
   ],
   "source": [
    "input = net.permute(1,0,2,3)\n",
    "input.shape"
   ]
  },
  {
   "cell_type": "code",
   "execution_count": 79,
   "id": "1af2615d",
   "metadata": {},
   "outputs": [
    {
     "data": {
      "text/plain": [
       "torch.Size([32, 32, 5, 5])"
      ]
     },
     "execution_count": 79,
     "metadata": {},
     "output_type": "execute_result"
    }
   ],
   "source": [
    "# Inter-Image convolutional comparisons as feature extraction \n",
    "fe = nn.Conv2d(in_channels=n, out_channels=32, kernel_size=(1,1), stride=(1,1), padding='valid', bias=False)\n",
    "input = fe(input)\n",
    "input.shape"
   ]
  },
  {
   "cell_type": "code",
   "execution_count": 80,
   "id": "6fb2c5d3",
   "metadata": {},
   "outputs": [],
   "source": [
    "# Preparing Q, K and V\n",
    "f_k = nn.Conv2d(in_channels=32, out_channels=1, kernel_size=(1,1), stride=(1,1), padding='valid', bias=False)\n",
    "f_v = nn.Conv2d(in_channels=32, out_channels=1, kernel_size=(1,1), stride=(1,1), padding='valid', bias=False)\n",
    "f_q = nn.Conv2d(in_channels=32, out_channels=1, kernel_size=(1,1), stride=(1,1), padding='valid', bias=False)\n",
    "\n",
    "input_q = f_q(input)\n",
    "input_k = f_k(input)\n",
    "input_v = f_v(input)\n",
    "\n",
    "input_q = input_q.squeeze()\n",
    "input_k = input_k.squeeze()\n",
    "input_v = input_v.squeeze()"
   ]
  },
  {
   "cell_type": "code",
   "execution_count": 81,
   "id": "8126389c",
   "metadata": {},
   "outputs": [
    {
     "data": {
      "text/plain": [
       "torch.Size([32, 5, 5])"
      ]
     },
     "execution_count": 81,
     "metadata": {},
     "output_type": "execute_result"
    }
   ],
   "source": [
    "input_q.shape"
   ]
  },
  {
   "cell_type": "code",
   "execution_count": 82,
   "id": "f54d0d33",
   "metadata": {},
   "outputs": [
    {
     "data": {
      "text/plain": [
       "torch.Size([32, 25])"
      ]
     },
     "execution_count": 82,
     "metadata": {},
     "output_type": "execute_result"
    }
   ],
   "source": [
    "# Attention Module\n",
    "input_q = input_q.reshape(input_q.shape[0], input_q.shape[1]*input_q.shape[2])\n",
    "input_k = input_k.reshape(input_k.shape[0], input_k.shape[1]*input_k.shape[2])\n",
    "input_v = input_v.reshape(input_v.shape[0], input_v.shape[1]*input_v.shape[2])\n",
    "\n",
    "weights = torch.mm(input_q, input_k.transpose(0,1))\n",
    "sm = nn.Softmax(dim=-1)\n",
    "weights = sm(weights)\n",
    "output = torch.mm(weights, input_v)\n",
    "output.shape"
   ]
  },
  {
   "cell_type": "code",
   "execution_count": 83,
   "id": "716532d8",
   "metadata": {},
   "outputs": [
    {
     "data": {
      "text/plain": [
       "torch.Size([75, 32, 5, 5])"
      ]
     },
     "execution_count": 83,
     "metadata": {},
     "output_type": "execute_result"
    }
   ],
   "source": [
    "# Transductive Mask transformed input\n",
    "output = output.reshape(-1, 5, 5)\n",
    "net = net * output\n",
    "net.shape"
   ]
  },
  {
   "cell_type": "code",
   "execution_count": null,
   "id": "4ce1fe03",
   "metadata": {},
   "outputs": [],
   "source": []
  },
  {
   "cell_type": "markdown",
   "metadata": {},
   "source": [
    "## Pytorch Style Convolution"
   ]
  },
  {
   "cell_type": "code",
   "execution_count": 11,
   "metadata": {},
   "outputs": [
    {
     "data": {
      "text/plain": [
       "torch.Size([100, 32, 5, 5])"
      ]
     },
     "execution_count": 11,
     "metadata": {},
     "output_type": "execute_result"
    }
   ],
   "source": [
    "net = common\n",
    "net.shape"
   ]
  },
  {
   "cell_type": "code",
   "execution_count": 12,
   "metadata": {},
   "outputs": [
    {
     "data": {
      "text/plain": [
       "torch.Size([25, 1, 100, 32])"
      ]
     },
     "execution_count": 12,
     "metadata": {},
     "output_type": "execute_result"
    }
   ],
   "source": [
    "input = net.permute(2,3,0,1)\n",
    "input = input.reshape(input.shape[0] * input.shape[1], input.shape[2], input.shape[3]).unsqueeze(dim=1)\n",
    "input.shape"
   ]
  },
  {
   "cell_type": "code",
   "execution_count": 13,
   "metadata": {},
   "outputs": [
    {
     "data": {
      "text/plain": [
       "torch.Size([25, 64, 1, 32])"
      ]
     },
     "execution_count": 13,
     "metadata": {},
     "output_type": "execute_result"
    }
   ],
   "source": [
    "# P\n",
    "p = nn.Conv2d(in_channels=1, out_channels=64, kernel_size=(n,1), stride=(1,1), padding='valid', bias=False)\n",
    "p.weight.data.fill_(2)\n",
    "input = p(input)\n",
    "input.shape"
   ]
  },
  {
   "cell_type": "code",
   "execution_count": 14,
   "metadata": {},
   "outputs": [
    {
     "data": {
      "text/plain": [
       "torch.Size([25, 32, 1, 32])"
      ]
     },
     "execution_count": 14,
     "metadata": {},
     "output_type": "execute_result"
    }
   ],
   "source": [
    "# Z\n",
    "z = nn.Conv2d(in_channels=64, out_channels=32, kernel_size=(1,1), stride=(1,1), padding='valid', bias=False)\n",
    "z.weight.data.fill_(3)\n",
    "input = z(input)\n",
    "input.shape"
   ]
  },
  {
   "cell_type": "code",
   "execution_count": 15,
   "metadata": {},
   "outputs": [
    {
     "data": {
      "text/plain": [
       "torch.Size([25, 1, 1, 32])"
      ]
     },
     "execution_count": 15,
     "metadata": {},
     "output_type": "execute_result"
    }
   ],
   "source": [
    "# F\n",
    "f = nn.Conv2d(in_channels=32, out_channels=1, kernel_size=(1,1), stride=(1,1), padding='valid', bias=False)\n",
    "f.weight.data.fill_(0.314)\n",
    "input = f(input)\n",
    "input.shape"
   ]
  },
  {
   "cell_type": "code",
   "execution_count": 16,
   "metadata": {},
   "outputs": [
    {
     "data": {
      "text/plain": [
       "torch.Size([32, 5, 5])"
      ]
     },
     "execution_count": 16,
     "metadata": {},
     "output_type": "execute_result"
    }
   ],
   "source": [
    "input = input.squeeze().transpose(0,1).reshape(-1, 5,5)\n",
    "#input = input.reshape(5,5,-1).transpose(0,1)\n",
    "input.shape"
   ]
  },
  {
   "cell_type": "code",
   "execution_count": 17,
   "metadata": {},
   "outputs": [
    {
     "data": {
      "text/plain": [
       "torch.Size([100, 32, 5, 5])"
      ]
     },
     "execution_count": 17,
     "metadata": {},
     "output_type": "execute_result"
    }
   ],
   "source": [
    "a = net * input\n",
    "a.shape"
   ]
  },
  {
   "cell_type": "markdown",
   "metadata": {},
   "source": [
    "## Original"
   ]
  },
  {
   "cell_type": "code",
   "execution_count": 61,
   "metadata": {},
   "outputs": [
    {
     "data": {
      "text/plain": [
       "torch.Size([100, 32, 5, 5])"
      ]
     },
     "execution_count": 61,
     "metadata": {},
     "output_type": "execute_result"
    }
   ],
   "source": [
    "common.shape"
   ]
  },
  {
   "cell_type": "code",
   "execution_count": 57,
   "metadata": {},
   "outputs": [
    {
     "data": {
      "text/plain": [
       "torch.Size([100, 5, 5, 32])"
      ]
     },
     "execution_count": 57,
     "metadata": {},
     "output_type": "execute_result"
    }
   ],
   "source": [
    "net = common.reshape(n, h, w, -1)\n",
    "net.shape"
   ]
  },
  {
   "cell_type": "code",
   "execution_count": 58,
   "metadata": {},
   "outputs": [
    {
     "data": {
      "text/plain": [
       "torch.Size([25, 1, 100, 32])"
      ]
     },
     "execution_count": 58,
     "metadata": {},
     "output_type": "execute_result"
    }
   ],
   "source": [
    "input = torch.transpose(net, 0, 2)\n",
    "input = input.reshape(input.shape[0]*input.shape[1], 1, n, input.shape[3])\n",
    "input.shape"
   ]
  },
  {
   "cell_type": "code",
   "execution_count": 13,
   "metadata": {},
   "outputs": [
    {
     "data": {
      "text/plain": [
       "torch.Size([25, 64, 1, 32])"
      ]
     },
     "execution_count": 13,
     "metadata": {},
     "output_type": "execute_result"
    }
   ],
   "source": [
    "# P\n",
    "p = nn.Conv2d(in_channels=1, out_channels=64, kernel_size=(n,1), stride=(1,1), padding='valid', bias=False)\n",
    "p.weight.data.fill_(2)\n",
    "input = p(input)\n",
    "input.shape"
   ]
  },
  {
   "cell_type": "code",
   "execution_count": 14,
   "metadata": {},
   "outputs": [
    {
     "data": {
      "text/plain": [
       "torch.Size([25, 32, 1, 32])"
      ]
     },
     "execution_count": 14,
     "metadata": {},
     "output_type": "execute_result"
    }
   ],
   "source": [
    "# Z\n",
    "z = nn.Conv2d(in_channels=64, out_channels=32, kernel_size=(1,1), stride=(1,1), padding='valid', bias=False)\n",
    "z.weight.data.fill_(3)\n",
    "input = z(input)\n",
    "input.shape"
   ]
  },
  {
   "cell_type": "code",
   "execution_count": 15,
   "metadata": {},
   "outputs": [
    {
     "data": {
      "text/plain": [
       "torch.Size([25, 1, 1, 32])"
      ]
     },
     "execution_count": 15,
     "metadata": {},
     "output_type": "execute_result"
    }
   ],
   "source": [
    "# F\n",
    "f = nn.Conv2d(in_channels=32, out_channels=1, kernel_size=(1,1), stride=(1,1), padding='valid', bias=False)\n",
    "f.weight.data.fill_(0.314)\n",
    "input = f(input)\n",
    "input.shape"
   ]
  },
  {
   "cell_type": "code",
   "execution_count": 16,
   "metadata": {},
   "outputs": [
    {
     "data": {
      "text/plain": [
       "torch.Size([5, 5, 32])"
      ]
     },
     "execution_count": 16,
     "metadata": {},
     "output_type": "execute_result"
    }
   ],
   "source": [
    "#input = input.reshape(5,5,-1)\n",
    "input = input.reshape(5,5,-1).transpose(0,1)\n",
    "input.shape"
   ]
  },
  {
   "cell_type": "code",
   "execution_count": 17,
   "metadata": {},
   "outputs": [
    {
     "data": {
      "text/plain": [
       "torch.Size([100, 5, 5, 32])"
      ]
     },
     "execution_count": 17,
     "metadata": {},
     "output_type": "execute_result"
    }
   ],
   "source": [
    "a = net * input\n",
    "a.shape"
   ]
  },
  {
   "cell_type": "markdown",
   "metadata": {},
   "source": [
    "# Custom Implementation:"
   ]
  },
  {
   "cell_type": "code",
   "execution_count": 18,
   "metadata": {},
   "outputs": [
    {
     "data": {
      "text/plain": [
       "torch.Size([100, 32, 5, 5])"
      ]
     },
     "execution_count": 18,
     "metadata": {},
     "output_type": "execute_result"
    }
   ],
   "source": [
    "common.shape"
   ]
  },
  {
   "cell_type": "code",
   "execution_count": 19,
   "metadata": {},
   "outputs": [
    {
     "data": {
      "text/plain": [
       "torch.Size([1, 800, 100])"
      ]
     },
     "execution_count": 19,
     "metadata": {},
     "output_type": "execute_result"
    }
   ],
   "source": [
    "G = common.reshape(n, -1)\n",
    "G = G.transpose(1,0)\n",
    "G = torch.unsqueeze(G, dim=0)\n",
    "G.shape"
   ]
  },
  {
   "cell_type": "code",
   "execution_count": 20,
   "metadata": {},
   "outputs": [
    {
     "data": {
      "text/plain": [
       "torch.Size([1, 800, 64])"
      ]
     },
     "execution_count": 20,
     "metadata": {},
     "output_type": "execute_result"
    }
   ],
   "source": [
    "# P\n",
    "p = torch.full((64, 1, n), 2, dtype=float, requires_grad=True)\n",
    "G = G * p\n",
    "G = G.sum(dim=-1).transpose(0,1).unsqueeze(dim=0)\n",
    "G.shape"
   ]
  },
  {
   "cell_type": "code",
   "execution_count": 21,
   "metadata": {},
   "outputs": [
    {
     "data": {
      "text/plain": [
       "torch.Size([1, 800, 32])"
      ]
     },
     "execution_count": 21,
     "metadata": {},
     "output_type": "execute_result"
    }
   ],
   "source": [
    "# Z\n",
    "z = torch.full((32, 1, G.shape[-1]), 3, dtype=float, requires_grad=True)\n",
    "G = G * z\n",
    "G = G.sum(dim=-1).transpose(0,1).unsqueeze(dim=0)\n",
    "G.shape"
   ]
  },
  {
   "cell_type": "code",
   "execution_count": 22,
   "metadata": {},
   "outputs": [
    {
     "data": {
      "text/plain": [
       "torch.Size([1, 800, 1])"
      ]
     },
     "execution_count": 22,
     "metadata": {},
     "output_type": "execute_result"
    }
   ],
   "source": [
    "# F\n",
    "f = torch.full((1, 1, G.shape[-1]), 0.314, dtype=float, requires_grad=True)\n",
    "G = G * f\n",
    "G = G.sum(dim=-1).transpose(0,1).unsqueeze(dim=0)\n",
    "G.shape"
   ]
  },
  {
   "cell_type": "markdown",
   "metadata": {},
   "source": [
    "### Verifying with Convolution - 'Original'"
   ]
  },
  {
   "cell_type": "code",
   "execution_count": 23,
   "metadata": {},
   "outputs": [
    {
     "data": {
      "text/plain": [
       "torch.Size([100, 5, 5, 32])"
      ]
     },
     "execution_count": 23,
     "metadata": {},
     "output_type": "execute_result"
    }
   ],
   "source": [
    "G = G.squeeze(dim=0).reshape(5,5,-1)\n",
    "G_dash = common.reshape(n, h, w, -1) * G\n",
    "G_dash.shape"
   ]
  },
  {
   "cell_type": "markdown",
   "metadata": {},
   "source": [
    "### Verifying with Pytorch Style Conv"
   ]
  },
  {
   "cell_type": "code",
   "execution_count": 23,
   "metadata": {},
   "outputs": [
    {
     "data": {
      "text/plain": [
       "torch.Size([100, 32, 5, 5])"
      ]
     },
     "execution_count": 23,
     "metadata": {},
     "output_type": "execute_result"
    }
   ],
   "source": [
    "G = G.squeeze().reshape(-1, 5, 5)\n",
    "G_dash = common * G\n",
    "G_dash.shape"
   ]
  },
  {
   "cell_type": "code",
   "execution_count": 24,
   "metadata": {},
   "outputs": [
    {
     "data": {
      "text/plain": [
       "tensor([[[135724.0339, 134871.5002, 156128.3977, 141662.0127, 113862.4311],\n",
       "         [ 72774.5083,  78557.0485,  93187.9452,  92270.0155,  68308.9334],\n",
       "         [ 71446.6729,  86870.4030,  86972.0233,  92074.2429,  69011.8134],\n",
       "         [ 70268.2918,  72134.9665,  84626.7943,  75014.0232,  54637.2674],\n",
       "         [ 48438.4008,  58953.4071,  62103.0001,  55304.1344,  36140.5821]],\n",
       "\n",
       "        [[ 97584.1105,  85511.9181,  88730.2170,  99824.6582, 114331.1612],\n",
       "         [127839.8272, 111239.2123, 111612.6852, 118368.7284, 150921.3162],\n",
       "         [128820.2795, 111827.3190, 135450.9619, 139818.6286, 160964.5483],\n",
       "         [128150.9199, 125615.3622, 143903.8772, 135381.8980, 169597.4901],\n",
       "         [106791.7447,  87252.1827, 110241.0059, 119055.2388, 151839.1560]],\n",
       "\n",
       "        [[439722.8316, 323994.5233, 386152.3525, 378627.8626, 273514.2983],\n",
       "         [356857.0788, 239094.3322, 331720.4332, 332729.4020, 231207.7999],\n",
       "         [394676.9129, 282858.4106, 349353.9971, 352598.1782, 236379.5037],\n",
       "         [344900.3126, 257584.1122, 276423.3741, 280501.3818, 188236.1758],\n",
       "         [262157.4291, 156793.7056, 213977.6305, 223476.3884, 136080.1267]],\n",
       "\n",
       "        [[120137.8532, 125534.1421, 147134.6432, 139239.7677, 138653.9388],\n",
       "         [137634.6285, 161037.1703, 133197.9090, 146668.2781, 155603.2819],\n",
       "         [133644.0742, 163431.0831, 157675.0529, 178195.5405, 162268.5870],\n",
       "         [145456.7207, 157003.3243, 168178.3551, 167737.5721, 140856.6186],\n",
       "         [183311.0196, 205661.0246, 209693.9126, 204075.8711, 175506.1890]],\n",
       "\n",
       "        [[127520.9533, 108577.5778, 119175.8919, 119584.5563, 105313.1325],\n",
       "         [112667.8653,  82667.2630,  97126.1069, 104384.4815,  85693.7376],\n",
       "         [107591.6325,  92406.4717,  84647.4873,  90799.4037,  96931.1304],\n",
       "         [108626.0451,  89395.7332,  88860.2761,  79034.1448,  82078.2839],\n",
       "         [ 84540.5705,  76312.8923,  64776.2247,  77536.4043,  66867.2043]],\n",
       "\n",
       "        [[ 38938.6634,  19343.5886,  21858.1503,  21778.3234,  15217.3597],\n",
       "         [ 46059.4437,  21942.4553,  29744.6321,  24888.8015,  18502.0516],\n",
       "         [ 46872.6838,  25472.7599,  25309.8262,  26233.8298,  16722.0413],\n",
       "         [ 46819.9854,  25940.6693,  22846.8369,  27030.3991,  15914.5459],\n",
       "         [ 45174.3245,  22344.7507,  21938.2267,  21883.4585,  15402.3437]],\n",
       "\n",
       "        [[267844.3889, 271652.4493, 287432.9779, 272173.4093, 219329.2330],\n",
       "         [234808.8370, 216533.0879, 255169.3899, 227099.1699, 158015.5059],\n",
       "         [253830.6543, 235544.2526, 257762.6330, 228368.4481, 131550.3464],\n",
       "         [247679.1052, 203710.3010, 191566.0987, 190001.5357, 136714.0621],\n",
       "         [228439.0800, 167147.0022, 163024.1456, 125528.0654, 111853.4916]],\n",
       "\n",
       "        [[191917.9475,  88511.2129, 108497.2386,  99951.2675,  84042.4172],\n",
       "         [127821.7327,  88400.9396,  95603.3869,  91628.0060,  74389.2330],\n",
       "         [125554.0395,  77648.9965,  66142.2496,  68749.9406,  67650.9635],\n",
       "         [118796.5476,  73700.4616,  74791.1322,  76364.3011,  69352.8109],\n",
       "         [101552.5006,  68317.3575,  67200.6453,  69266.4480,  56910.8913]],\n",
       "\n",
       "        [[ 68945.0922,  87891.3683, 101530.3145,  93982.4558,  84462.1405],\n",
       "         [ 80590.5143, 105988.7053, 138917.5117, 126302.2048,  95252.6240],\n",
       "         [ 72934.9210, 113316.9321, 127213.7758, 137149.4442, 116997.9588],\n",
       "         [ 75168.2458, 111832.5633, 126789.9258, 114888.4981, 106243.5049],\n",
       "         [ 80357.1743,  91585.7809, 110541.6248, 108984.5215,  94110.6595]],\n",
       "\n",
       "        [[374816.3813, 222997.5601, 220680.5651, 209133.6347, 245756.3038],\n",
       "         [384662.5977, 255141.3582, 246536.9339, 221707.8654, 283469.2595],\n",
       "         [374008.1959, 216547.5059, 237001.9601, 198905.0018, 263874.0798],\n",
       "         [356436.9635, 209656.0580, 191177.4206, 193698.2750, 263151.9512],\n",
       "         [331072.4374, 231184.3261, 197447.9553, 219688.1370, 249659.7580]],\n",
       "\n",
       "        [[322044.4719, 265329.8259, 271611.7429, 269327.1531, 216537.9155],\n",
       "         [344446.5950, 289962.2476, 261531.8575, 277393.6160, 215524.0313],\n",
       "         [293345.0197, 259968.3674, 280261.4125, 263549.2892, 205237.8290],\n",
       "         [319989.1439, 267573.8179, 290520.9488, 304518.9515, 210120.7416],\n",
       "         [327166.2749, 356741.4286, 339486.8581, 343043.9343, 315825.5099]],\n",
       "\n",
       "        [[161262.7400, 182404.3560, 160536.6734, 159011.0225, 144835.6570],\n",
       "         [128913.8484, 153840.3646, 164690.4247, 145201.1994, 138114.4511],\n",
       "         [123922.6466, 130291.9925, 133380.6090, 127026.0079, 110558.4421],\n",
       "         [134424.3493, 120917.5117, 131299.5822, 126792.6490, 125610.0880],\n",
       "         [106821.4468,  80203.9723, 103705.7882, 116340.2308,  91411.6620]],\n",
       "\n",
       "        [[199508.1274, 261685.3051, 259225.4209, 295006.3364, 357267.0782],\n",
       "         [221183.6732, 269788.0288, 343713.5960, 337751.5840, 320522.0841],\n",
       "         [233593.6766, 289456.3423, 348223.5869, 297739.4044, 316208.5968],\n",
       "         [203024.8340, 256106.0945, 263222.2304, 241563.2143, 296216.1845],\n",
       "         [132963.7862, 139073.8646, 164521.0067, 155549.6982, 200545.6775]],\n",
       "\n",
       "        [[353894.6268, 440893.2415, 450004.2504, 433149.4861, 324746.0756],\n",
       "         [264559.5041, 405176.8367, 441550.7939, 356933.3689, 274530.8593],\n",
       "         [238422.0207, 376045.1312, 402854.6122, 380068.9437, 252303.5178],\n",
       "         [204520.3977, 353952.2215, 326182.8944, 305905.0411, 272933.1159],\n",
       "         [173870.5660, 277483.9021, 282203.4151, 219458.8592, 191850.2706]],\n",
       "\n",
       "        [[ 41990.8378,  33883.6226,  31109.1847,  34716.3939,  36948.3335],\n",
       "         [ 34079.2836,  27281.9039,  30617.6653,  28357.8010,  30130.1264],\n",
       "         [ 32313.6832,  30911.6605,  30484.0942,  25771.7171,  27543.6252],\n",
       "         [ 32966.1190,  27153.8869,  25827.8153,  28539.3904,  29245.0483],\n",
       "         [ 27524.4107,  14576.6047,  19073.7285,  16931.9910,  17272.1270]],\n",
       "\n",
       "        [[169903.2070, 244528.6108, 203860.8622, 230810.0873, 230652.0845],\n",
       "         [228827.2167, 248531.9289, 291978.8928, 308311.4868, 288807.1955],\n",
       "         [225359.7493, 277379.2383, 372311.1960, 377559.5430, 285041.5289],\n",
       "         [219443.1937, 343691.0705, 323727.6120, 308409.1159, 282499.5122],\n",
       "         [382761.1760, 427286.0778, 447002.7705, 486485.7130, 440528.4229]],\n",
       "\n",
       "        [[391845.8432, 159496.4209, 160686.8054, 170035.2959, 207142.6643],\n",
       "         [369244.8702, 210213.9828, 181040.3912, 193580.1422, 195139.8612],\n",
       "         [342032.2710, 203401.6292, 154518.7107, 135268.0597, 184901.5536],\n",
       "         [344066.4248, 182878.0967, 143500.3753, 143462.8686, 164478.3419],\n",
       "         [453075.4954, 259604.9105, 234214.4397, 230551.2876, 229232.1547]],\n",
       "\n",
       "        [[ 27075.9491,   6544.8613,   6316.1765,   7166.5532,   8808.1914],\n",
       "         [ 27670.3361,  10747.4090,  10772.7234,   9585.4779,   8886.4745],\n",
       "         [ 29931.8763,  10975.9525,   9277.0618,   9283.1559,   8883.4515],\n",
       "         [ 28159.0380,  10622.5425,   9205.2981,   8580.9680,   8820.9330],\n",
       "         [ 30354.5023,  15678.1477,  15032.1638,  14516.3103,  11596.1784]],\n",
       "\n",
       "        [[184784.3883, 227214.9130, 203984.3888, 211041.2472, 193446.8343],\n",
       "         [139696.2515, 169276.0700, 174066.8795, 160505.1733, 154512.2178],\n",
       "         [138380.3573, 163734.3831, 161232.5584, 151656.9292, 153782.6507],\n",
       "         [119095.1875, 159834.9542, 165159.6952, 170635.4647, 125210.7411],\n",
       "         [119422.5297, 122476.4212, 133427.7751, 123770.4921, 102929.1926]],\n",
       "\n",
       "        [[ 54984.0543,  44057.0047,  46892.2444,  49523.3700,  82138.7378],\n",
       "         [ 52636.3361,  53525.6700,  41189.6590,  49846.7693,  95678.9736],\n",
       "         [ 56949.1289,  60701.3669,  59038.6792,  43966.2130,  84954.9066],\n",
       "         [ 53986.4883,  55551.0382,  56796.5244,  46700.9621,  81915.1591],\n",
       "         [ 56064.8926,  40540.3406,  47179.4189,  42466.5486,  75230.4985]],\n",
       "\n",
       "        [[ 10777.0478,   5811.4973,   6684.8062,   5777.9555,   7415.9455],\n",
       "         [  9649.9956,   5478.6371,   5701.4363,   6769.8134,   7817.4170],\n",
       "         [ 10270.0918,   5931.8415,   6470.1126,   7358.9011,   7942.2351],\n",
       "         [ 11978.4883,   7336.2159,   6534.5781,   6605.7168,   7486.5854],\n",
       "         [ 11507.5599,   7740.4689,   7875.8631,   6965.3833,   9210.8635]],\n",
       "\n",
       "        [[113270.4693, 121091.0034, 126142.0314, 136446.8508, 140660.9299],\n",
       "         [164902.6234, 187450.9282, 193026.0846, 225547.2018, 184050.4940],\n",
       "         [170197.8991, 186921.5318, 177653.3009, 197214.1906, 190967.9297],\n",
       "         [152372.7348, 172182.6736, 177334.5843, 183249.5414, 187928.8273],\n",
       "         [113437.8935, 118310.2255, 136051.7135, 153879.7937, 147927.8799]],\n",
       "\n",
       "        [[212742.4991, 261365.3379, 232402.1704, 245712.8756, 212091.3680],\n",
       "         [165088.0723, 222842.7105, 223640.0986, 203843.8392, 172535.0454],\n",
       "         [162177.8000, 216726.1133, 238275.0334, 218226.8119, 156195.0806],\n",
       "         [171231.6321, 204171.8358, 168773.5602, 184417.5919, 156342.7587],\n",
       "         [213325.2226, 188352.5312, 201489.7626, 180746.9999, 190477.1704]],\n",
       "\n",
       "        [[312081.0617, 357018.0722, 375204.1050, 393314.5204, 412359.2855],\n",
       "         [143000.8298, 145270.7241, 180400.4276, 170251.4951, 250823.8031],\n",
       "         [133293.6579, 171687.4479, 186659.5907, 167504.0543, 300687.8360],\n",
       "         [137758.6874, 131907.8723, 135380.0314, 147718.9894, 276868.3953],\n",
       "         [138099.9482, 104921.6039, 128871.4252, 143063.0362, 241966.4505]],\n",
       "\n",
       "        [[155433.6827, 121281.4764, 127929.4500, 121708.5312, 120876.4912],\n",
       "         [111485.0903,  86749.2904,  74808.9339,  94650.2928, 102011.6101],\n",
       "         [107105.3509,  81601.5038,  67523.1846,  85327.2041,  97147.7374],\n",
       "         [111895.4013,  85813.3489,  90861.1253,  95996.2235,  94301.1711],\n",
       "         [ 87859.1782,  82144.0856,  81566.0063,  83220.4635,  94897.5737]],\n",
       "\n",
       "        [[163264.3565, 176022.3351, 195795.9886, 192937.7391, 271796.3455],\n",
       "         [297608.0178, 334760.1263, 333439.5674, 362290.6847, 346696.2690],\n",
       "         [259267.4070, 281300.9023, 280846.0475, 299710.7001, 339666.3496],\n",
       "         [260291.8131, 251712.9177, 270264.5474, 336750.7750, 329667.2469],\n",
       "         [303550.9504, 291492.3251, 318314.8957, 331857.0748, 356293.4920]],\n",
       "\n",
       "        [[ 69754.5481,  84008.8454,  76320.6820,  95565.3798, 140648.8501],\n",
       "         [ 48564.7076,  68892.4282,  69936.1932,  73418.2392,  87559.6999],\n",
       "         [ 41295.7566,  74206.9731,  81773.4910,  81643.8377,  94595.2967],\n",
       "         [ 33360.2671,  64669.5645,  71967.1580,  85254.5671,  94477.0232],\n",
       "         [ 43380.0893,  62433.5608,  74837.6167,  90805.1809,  93108.5533]],\n",
       "\n",
       "        [[ 81457.1803,  80762.5799,  69060.1123,  77726.8284, 142347.1458],\n",
       "         [ 80451.2050,  73237.2264,  68704.4399,  68153.4013,  96562.7052],\n",
       "         [ 69593.6945,  49259.5113,  62603.9865,  63650.2630, 103167.2217],\n",
       "         [ 70384.8916,  55570.1957,  60611.1741,  53658.6592,  97427.4064],\n",
       "         [ 71528.4112,  53765.3949,  43472.3918,  46819.6592,  88607.0957]],\n",
       "\n",
       "        [[330941.0891, 162927.9541, 203166.8274, 171700.8871, 141214.1413],\n",
       "         [236619.4370, 182172.0603, 208714.1492, 243471.5730, 184474.7696],\n",
       "         [245388.8365, 203841.8130, 194862.5212, 191257.2049, 176532.5554],\n",
       "         [229652.5035, 216833.6988, 196388.3514, 193955.6733, 163480.4348],\n",
       "         [206473.7717, 174780.2262, 176828.7474, 171207.1881, 155855.6108]],\n",
       "\n",
       "        [[184334.4694, 145260.9273, 167650.6321, 148351.5246, 124705.5586],\n",
       "         [168288.1609, 130449.4359, 142806.0717, 127558.0746,  96558.8484],\n",
       "         [187707.8675, 131366.3544, 119744.7679, 107434.7551,  94659.4568],\n",
       "         [159582.8759, 119963.0094, 109375.4871,  94950.9931,  92275.7200],\n",
       "         [127007.9249,  85460.9451,  82165.2589,  69137.8580,  66643.5625]],\n",
       "\n",
       "        [[201132.8393, 167455.3887, 150119.3998, 143308.5899, 174122.3612],\n",
       "         [178365.3441, 161968.2204, 145775.3676, 154582.5557, 172511.2219],\n",
       "         [165296.0377, 141443.1801, 116918.8509, 124068.7206, 153161.5056],\n",
       "         [167236.9003, 166000.0686, 142073.4221, 153221.2082, 166213.1191],\n",
       "         [204231.8400, 211988.0103, 172005.6119, 184859.8975, 215875.2513]],\n",
       "\n",
       "        [[226989.8861, 189046.4614, 181911.0158, 208529.0345, 257512.5223],\n",
       "         [246579.6882, 287256.8028, 319240.8713, 319527.8998, 328031.6094],\n",
       "         [278146.9852, 286368.9512, 291120.2219, 330320.8957, 323785.3220],\n",
       "         [266817.8397, 298989.6765, 313386.6288, 250642.0629, 326309.7778],\n",
       "         [229370.7703, 219464.4236, 262726.0631, 241761.7678, 282937.8210]]],\n",
       "       dtype=torch.float64, grad_fn=<ViewBackward>)"
      ]
     },
     "execution_count": 24,
     "metadata": {},
     "output_type": "execute_result"
    }
   ],
   "source": [
    "G"
   ]
  },
  {
   "cell_type": "code",
   "execution_count": 25,
   "metadata": {},
   "outputs": [
    {
     "data": {
      "text/plain": [
       "tensor([[[135724.0000, 134871.3125, 156128.3438, 141661.9531, 113862.4844],\n",
       "         [ 72774.5078,  78557.0859,  93187.9297,  92270.0703,  68308.8906],\n",
       "         [ 71446.6406,  86870.4062,  86972.0078,  92074.2422,  69011.8594],\n",
       "         [ 70268.2578,  72134.9141,  84626.7578,  75013.9922,  54637.2539],\n",
       "         [ 48438.3867,  58953.4023,  62103.0000,  55304.1523,  36140.5781]],\n",
       "\n",
       "        [[ 97584.0781,  85511.9219,  88730.1797,  99824.5781, 114331.1953],\n",
       "         [127839.9375, 111239.1797, 111612.5703, 118368.7500, 150921.4531],\n",
       "         [128820.3047, 111827.3047, 135450.9844, 139818.5469, 160964.5156],\n",
       "         [128150.9844, 125615.5000, 143903.8125, 135381.9375, 169597.5469],\n",
       "         [106791.7656,  87252.1719, 110241.0000, 119055.2344, 151839.0469]],\n",
       "\n",
       "        [[439723.0312, 323994.3125, 386152.0938, 378627.9688, 273514.0938],\n",
       "         [356857.0938, 239094.3906, 331720.6875, 332729.3750, 231207.9688],\n",
       "         [394676.9688, 282858.6250, 349353.9688, 352598.2812, 236379.3906],\n",
       "         [344900.0938, 257584.1094, 276423.3750, 280501.3438, 188236.1719],\n",
       "         [262157.4062, 156793.8438, 213977.5312, 223476.3906, 136080.0469]],\n",
       "\n",
       "        [[120137.8047, 125534.0469, 147134.7031, 139239.6875, 138654.0469],\n",
       "         [137634.5156, 161037.3125, 133197.9844, 146668.2031, 155603.3281],\n",
       "         [133644.0469, 163431.1875, 157675.0469, 178195.5156, 162268.8125],\n",
       "         [145456.7188, 157003.2969, 168178.4531, 167737.5469, 140856.6719],\n",
       "         [183311.1250, 205661.0469, 209693.8750, 204076.0156, 175506.0312]],\n",
       "\n",
       "        [[127521.0078, 108577.4922, 119175.7578, 119584.4844, 105313.0703],\n",
       "         [112667.8047,  82667.1719,  97126.0781, 104384.4922,  85693.7500],\n",
       "         [107591.6797,  92406.4766,  84647.4922,  90799.4141,  96931.1797],\n",
       "         [108626.0078,  89395.7656,  88860.3359,  79034.1016,  82078.3281],\n",
       "         [ 84540.6719,  76312.9141,  64776.2461,  77536.3516,  66867.2422]],\n",
       "\n",
       "        [[ 38938.6680,  19343.5840,  21858.1660,  21778.3301,  15217.3750],\n",
       "         [ 46059.4102,  21942.4590,  29744.6289,  24888.8066,  18502.0605],\n",
       "         [ 46872.6602,  25472.7695,  25309.8145,  26233.8145,  16722.0547],\n",
       "         [ 46819.9570,  25940.6445,  22846.8145,  27030.3906,  15914.5381],\n",
       "         [ 45174.3633,  22344.7676,  21938.2441,  21883.4434,  15402.3369]],\n",
       "\n",
       "        [[267844.5000, 271652.5625, 287433.0312, 272173.5625, 219329.1094],\n",
       "         [234808.8906, 216533.1094, 255169.3750, 227099.0312, 158015.4844],\n",
       "         [253830.4844, 235544.0312, 257762.5312, 228368.4844, 131550.2969],\n",
       "         [247679.3906, 203710.3438, 191566.1719, 190001.4844, 136714.1875],\n",
       "         [228438.9688, 167147.0469, 163024.3125, 125527.9922, 111853.5078]],\n",
       "\n",
       "        [[191918.0156,  88511.2422, 108497.0703,  99951.2422,  84042.4219],\n",
       "         [127821.7969,  88400.9922,  95603.4141,  91627.9922,  74389.1641],\n",
       "         [125554.0625,  77649.0234,  66142.2422,  68749.9766,  67650.9766],\n",
       "         [118796.4844,  73700.4922,  74791.1016,  76364.2500,  69352.8594],\n",
       "         [101552.5625,  68317.3438,  67200.7188,  69266.4922,  56910.9102]],\n",
       "\n",
       "        [[ 68945.0938,  87891.4141, 101530.2578,  93982.4766,  84462.1797],\n",
       "         [ 80590.5234, 105988.7578, 138917.4531, 126302.1953,  95252.5703],\n",
       "         [ 72934.9922, 113316.9844, 127213.7656, 137149.5000, 116998.0156],\n",
       "         [ 75168.2266, 111832.5156, 126790.0078, 114888.4453, 106243.5156],\n",
       "         [ 80357.2422,  91585.7266, 110541.6797, 108984.4766,  94110.5859]],\n",
       "\n",
       "        [[374816.3438, 222997.6094, 220680.5000, 209133.6250, 245756.4844],\n",
       "         [384662.6875, 255141.4062, 246536.8906, 221707.9688, 283469.0938],\n",
       "         [374008.2812, 216547.4688, 237002.0312, 198905.0312, 263874.1250],\n",
       "         [356436.9062, 209656.0312, 191177.4688, 193698.3594, 263152.0312],\n",
       "         [331072.6250, 231184.3906, 197448.0312, 219688.1406, 249659.8906]],\n",
       "\n",
       "        [[322044.6562, 265329.9688, 271611.5625, 269326.9688, 216538.0312],\n",
       "         [344446.6875, 289962.4062, 261531.9062, 277393.8750, 215524.1094],\n",
       "         [293345.0312, 259968.1250, 280261.3750, 263549.0312, 205237.9688],\n",
       "         [319988.9688, 267573.5312, 290520.6562, 304518.9062, 210120.8594],\n",
       "         [327166.3750, 356741.6562, 339486.9062, 343043.9062, 315825.3125]],\n",
       "\n",
       "        [[161262.7969, 182404.4531, 160536.7969, 159010.9844, 144835.6719],\n",
       "         [128913.9453, 153840.4531, 164690.4844, 145201.1875, 138114.5625],\n",
       "         [123922.6875, 130291.9844, 133380.7344, 127026.0156, 110558.3203],\n",
       "         [134424.2344, 120917.5547, 131299.7344, 126792.5625, 125610.0469],\n",
       "         [106821.5000,  80204.0078, 103705.7734, 116340.2344,  91411.6797]],\n",
       "\n",
       "        [[199508.0312, 261685.1094, 259225.5156, 295006.5625, 357266.9688],\n",
       "         [221183.8594, 269787.9062, 343713.3750, 337751.2812, 320522.3438],\n",
       "         [233593.5156, 289456.4062, 348223.6250, 297739.5938, 316208.3438],\n",
       "         [203024.8750, 256105.9844, 263222.4062, 241563.0312, 296216.3438],\n",
       "         [132963.9375, 139073.7812, 164520.9844, 155549.8125, 200545.5312]],\n",
       "\n",
       "        [[353894.3750, 440893.3125, 450004.7188, 433149.2500, 324746.3125],\n",
       "         [264559.1250, 405177.0312, 441550.9688, 356933.6250, 274531.0312],\n",
       "         [238421.9688, 376045.0000, 402854.6875, 380069.0000, 252303.6094],\n",
       "         [204520.3750, 353952.0938, 326183.0938, 305905.0312, 272932.9688],\n",
       "         [173870.5469, 277484.0312, 282203.1250, 219458.8594, 191850.3438]],\n",
       "\n",
       "        [[ 41990.8711,  33883.6094,  31109.1914,  34716.4297,  36948.3594],\n",
       "         [ 34079.2539,  27281.8906,  30617.6738,  28357.8105,  30130.1387],\n",
       "         [ 32313.6914,  30911.6855,  30484.0664,  25771.7070,  27543.6211],\n",
       "         [ 32966.1211,  27153.8906,  25827.8105,  28539.3926,  29245.0176],\n",
       "         [ 27524.4199,  14576.5947,  19073.7129,  16931.9922,  17272.1250]],\n",
       "\n",
       "        [[169903.0156, 244528.5156, 203860.9531, 230810.0312, 230651.9844],\n",
       "         [228827.1406, 248531.9844, 291978.9062, 308311.5938, 288807.0938],\n",
       "         [225359.8906, 277379.0312, 372311.0312, 377559.6562, 285041.6250],\n",
       "         [219443.3594, 343690.9688, 323727.6875, 308409.3438, 282499.5625],\n",
       "         [382761.0312, 427286.0625, 447002.9688, 486485.9375, 440528.7188]],\n",
       "\n",
       "        [[391846.0312, 159496.3438, 160686.9375, 170035.3438, 207142.8438],\n",
       "         [369244.9688, 210214.0312, 181040.4531, 193580.1406, 195139.8438],\n",
       "         [342032.3438, 203401.6250, 154518.7969, 135268.0469, 184901.5156],\n",
       "         [344066.0938, 182878.0469, 143500.4844, 143462.8281, 164478.3125],\n",
       "         [453075.2188, 259605.0312, 234214.3750, 230551.3906, 229232.1406]],\n",
       "\n",
       "        [[ 27075.9414,   6544.8599,   6316.1758,   7166.5503,   8808.2012],\n",
       "         [ 27670.3164,  10747.4062,  10772.7197,   9585.4795,   8886.4727],\n",
       "         [ 29931.8770,  10975.9482,   9277.0518,   9283.1670,   8883.4512],\n",
       "         [ 28159.0566,  10622.5420,   9205.3018,   8580.9648,   8820.9336],\n",
       "         [ 30354.5137,  15678.1553,  15032.1797,  14516.3096,  11596.1787]],\n",
       "\n",
       "        [[184784.4688, 227215.0000, 203984.4688, 211041.4688, 193446.6562],\n",
       "         [139696.2344, 169276.1406, 174066.9844, 160505.3438, 154512.3281],\n",
       "         [138380.4531, 163734.5156, 161232.6719, 151656.9844, 153782.7031],\n",
       "         [119095.2344, 159834.9531, 165159.6562, 170635.3281, 125210.7344],\n",
       "         [119422.4453, 122476.3125, 133427.8125, 123770.5547, 102929.2266]],\n",
       "\n",
       "        [[ 54984.0078,  44057.0117,  46892.2461,  49523.3672,  82138.7266],\n",
       "         [ 52636.3672,  53525.7109,  41189.6211,  49846.7617,  95678.9844],\n",
       "         [ 56949.1328,  60701.3477,  59038.6562,  43966.2461,  84954.9219],\n",
       "         [ 53986.4688,  55551.0078,  56796.5273,  46700.9180,  81915.1484],\n",
       "         [ 56064.9023,  40540.3633,  47179.4180,  42466.5859,  75230.5234]],\n",
       "\n",
       "        [[ 10777.0400,   5811.4985,   6684.8115,   5777.9536,   7415.9414],\n",
       "         [  9650.0010,   5478.6353,   5701.4380,   6769.8125,   7817.4214],\n",
       "         [ 10270.0908,   5931.8398,   6470.1108,   7358.9053,   7942.2354],\n",
       "         [ 11978.4785,   7336.2183,   6534.5776,   6605.7197,   7486.5820],\n",
       "         [ 11507.5605,   7740.4678,   7875.8633,   6965.3862,   9210.8711]],\n",
       "\n",
       "        [[113270.4922, 121090.9922, 126141.9922, 136446.8125, 140660.8281],\n",
       "         [164902.6875, 187450.9531, 193025.9844, 225547.3906, 184050.4844],\n",
       "         [170197.9531, 186921.6406, 177653.1719, 197214.1406, 190968.0000],\n",
       "         [152372.8281, 172182.5469, 177334.6406, 183249.5469, 187928.9531],\n",
       "         [113437.9766, 118310.2344, 136051.7812, 153879.9531, 147927.9531]],\n",
       "\n",
       "        [[212742.5156, 261365.1250, 232402.3594, 245712.8906, 212091.4844],\n",
       "         [165088.0156, 222842.8906, 223640.0156, 203843.8438, 172534.9844],\n",
       "         [162177.8438, 216726.1250, 238274.9688, 218226.6406, 156194.9844],\n",
       "         [171231.6719, 204171.6562, 168773.6406, 184417.6406, 156342.6562],\n",
       "         [213325.3594, 188352.4531, 201489.9531, 180747.0469, 190477.3281]],\n",
       "\n",
       "        [[312080.9688, 357018.0312, 375204.0312, 393314.7188, 412359.7188],\n",
       "         [143000.7812, 145270.8281, 180400.5000, 170251.4844, 250823.5312],\n",
       "         [133293.6875, 171687.5156, 186659.6406, 167503.9844, 300687.6562],\n",
       "         [137758.7344, 131907.7969, 135380.0000, 147718.9531, 276868.5312],\n",
       "         [138099.8125, 104921.6797, 128871.4375, 143062.9844, 241966.3750]],\n",
       "\n",
       "        [[155433.7969, 121281.4844, 127929.4844, 121708.4922, 120876.4375],\n",
       "         [111485.0547,  86749.3281,  74808.9141,  94650.2734, 102011.6875],\n",
       "         [107105.4297,  81601.4766,  67523.1562,  85327.2422,  97147.7578],\n",
       "         [111895.4297,  85813.3359,  90861.1641,  95996.1719,  94301.1641],\n",
       "         [ 87859.1641,  82144.0234,  81565.9922,  83220.4219,  94897.6641]],\n",
       "\n",
       "        [[163264.3438, 176022.3281, 195796.0312, 192937.8594, 271796.1250],\n",
       "         [297607.9688, 334760.0938, 333439.3125, 362290.7188, 346696.0938],\n",
       "         [259267.3906, 281301.0312, 280846.3438, 299710.5938, 339666.3125],\n",
       "         [260291.9688, 251712.8750, 270264.6250, 336750.9688, 329667.3125],\n",
       "         [303551.0312, 291492.4375, 318314.6875, 331856.9688, 356293.3438]],\n",
       "\n",
       "        [[ 69754.5000,  84008.8281,  76320.6016,  95565.3203, 140648.7812],\n",
       "         [ 48564.7148,  68892.4766,  69936.2266,  73418.2422,  87559.7578],\n",
       "         [ 41295.7500,  74206.9922,  81773.4766,  81643.7734,  94595.2578],\n",
       "         [ 33360.3008,  64669.5312,  71967.2266,  85254.5234,  94477.0078],\n",
       "         [ 43380.0820,  62433.5312,  74837.5859,  90805.2500,  93108.5234]],\n",
       "\n",
       "        [[ 81457.2422,  80762.5938,  69060.1406,  77726.8516, 142347.0156],\n",
       "         [ 80451.2266,  73237.2578,  68704.4766,  68153.3906,  96562.5781],\n",
       "         [ 69593.7188,  49259.5039,  62604.0273,  63650.2773, 103167.2422],\n",
       "         [ 70384.9062,  55570.1602,  60611.1289,  53658.6289,  97427.3281],\n",
       "         [ 71528.3594,  53765.3789,  43472.3789,  46819.6289,  88607.0234]],\n",
       "\n",
       "        [[330941.0312, 162927.8438, 203166.8750, 171700.9531, 141214.0625],\n",
       "         [236619.4844, 182172.0156, 208714.1250, 243471.6250, 184474.9531],\n",
       "         [245388.8750, 203841.6562, 194862.5156, 191257.3438, 176532.5469],\n",
       "         [229652.4844, 216833.6406, 196388.3438, 193955.6562, 163480.4531],\n",
       "         [206473.8750, 174780.0469, 176828.5469, 171207.1719, 155855.6562]],\n",
       "\n",
       "        [[184334.3750, 145260.8281, 167650.6875, 148351.6719, 124705.5469],\n",
       "         [168288.1562, 130449.4531, 142806.0000, 127558.0625,  96558.7656],\n",
       "         [187707.9531, 131366.2969, 119744.7344, 107434.7344,  94659.4766],\n",
       "         [159582.9531, 119963.0156, 109375.5547,  94951.0156,  92275.7500],\n",
       "         [127007.9922,  85460.9922,  82165.2734,  69137.8594,  66643.6016]],\n",
       "\n",
       "        [[201132.8750, 167455.4844, 150119.4844, 143308.5156, 174122.4531],\n",
       "         [178365.3281, 161968.1562, 145775.2969, 154582.6719, 172511.1406],\n",
       "         [165296.0000, 141443.1875, 116918.7578, 124068.7422, 153161.5156],\n",
       "         [167237.0000, 165999.9844, 142073.5156, 153221.2969, 166213.1875],\n",
       "         [204231.8750, 211988.0156, 172005.5156, 184859.8594, 215875.0469]],\n",
       "\n",
       "        [[226989.8594, 189046.4531, 181910.9844, 208529.0156, 257512.5938],\n",
       "         [246579.5312, 287256.9688, 319241.0312, 319527.6875, 328031.6875],\n",
       "         [278147.1250, 286369.0938, 291120.4062, 330320.9062, 323785.3750],\n",
       "         [266818.0000, 298989.5938, 313386.9062, 250642.1250, 326310.0000],\n",
       "         [229370.6406, 219464.5156, 262726.1250, 241761.5312, 282937.9688]]],\n",
       "       grad_fn=<ViewBackward>)"
      ]
     },
     "execution_count": 25,
     "metadata": {},
     "output_type": "execute_result"
    }
   ],
   "source": [
    "input"
   ]
  },
  {
   "cell_type": "code",
   "execution_count": 26,
   "metadata": {},
   "outputs": [
    {
     "data": {
      "text/plain": [
       "tensor([[[[5.7130e+04, 4.2011e+04, 1.1792e+05, 1.1971e+05, 5.0771e+04],\n",
       "          [0.0000e+00, 0.0000e+00, 9.6368e+03, 2.0541e+04, 1.4571e+04],\n",
       "          [5.0759e+03, 0.0000e+00, 1.4381e+04, 2.9205e+04, 1.3847e+04],\n",
       "          [4.9974e+04, 3.2189e+04, 4.8077e+04, 4.2570e+04, 0.0000e+00],\n",
       "          [5.5177e+03, 3.6733e+04, 1.2604e+04, 2.2816e+04, 5.8615e+03]],\n",
       "\n",
       "         [[1.2386e+04, 5.0113e+03, 4.6554e+04, 6.0615e+04, 2.2984e+04],\n",
       "          [9.7799e+03, 1.2731e+04, 5.3444e+03, 3.2348e+04, 4.9568e+04],\n",
       "          [5.7447e+04, 2.9769e+04, 3.4073e+03, 1.6146e+04, 1.8593e+04],\n",
       "          [3.2046e+04, 0.0000e+00, 0.0000e+00, 3.1664e+04, 5.2744e+04],\n",
       "          [3.5075e+04, 3.0278e+04, 7.2277e+04, 1.1006e+05, 1.9711e+04]],\n",
       "\n",
       "         [[3.7381e+05, 0.0000e+00, 4.6799e+04, 1.0356e+06, 5.8617e+05],\n",
       "          [2.5143e+03, 0.0000e+00, 0.0000e+00, 4.7950e+05, 2.1042e+05],\n",
       "          [0.0000e+00, 3.6081e+05, 4.5002e+05, 5.7635e+05, 2.1625e+05],\n",
       "          [4.8722e+05, 3.9853e+05, 3.4745e+05, 3.3123e+05, 0.0000e+00],\n",
       "          [3.5444e+05, 2.5351e+05, 2.4154e+05, 3.4782e+05, 4.9391e+04]],\n",
       "\n",
       "         ...,\n",
       "\n",
       "         [[1.2598e+05, 6.2855e+04, 9.8999e+04, 8.3952e+04, 6.8226e+04],\n",
       "          [7.9000e+04, 3.8669e+04, 8.0394e+04, 5.2748e+04, 0.0000e+00],\n",
       "          [6.4820e+04, 6.1552e+04, 4.9105e+04, 4.3942e+04, 1.3058e+04],\n",
       "          [1.2224e+05, 4.6148e+04, 1.4736e+04, 9.8959e+03, 0.0000e+00],\n",
       "          [0.0000e+00, 2.4109e+04, 0.0000e+00, 9.6352e+03, 1.0407e+04]],\n",
       "\n",
       "         [[1.6239e+05, 6.1373e+04, 0.0000e+00, 0.0000e+00, 6.4473e+04],\n",
       "          [9.1782e+04, 8.9541e+04, 3.1275e+04, 2.5363e+04, 5.6722e+04],\n",
       "          [8.6710e+04, 3.1969e+02, 0.0000e+00, 1.6514e+04, 5.0812e+04],\n",
       "          [0.0000e+00, 2.3717e+04, 0.0000e+00, 4.6376e+04, 2.6224e+04],\n",
       "          [0.0000e+00, 0.0000e+00, 0.0000e+00, 0.0000e+00, 6.0415e+03]],\n",
       "\n",
       "         [[0.0000e+00, 0.0000e+00, 0.0000e+00, 3.6077e+05, 2.3246e+05],\n",
       "          [0.0000e+00, 0.0000e+00, 0.0000e+00, 4.6698e+04, 2.6578e+05],\n",
       "          [0.0000e+00, 0.0000e+00, 0.0000e+00, 1.1492e+05, 2.4270e+05],\n",
       "          [0.0000e+00, 1.5042e+05, 4.0364e+05, 3.4371e+05, 6.0674e+04],\n",
       "          [3.1597e+05, 0.0000e+00, 3.3688e+04, 0.0000e+00, 4.4467e+04]]],\n",
       "\n",
       "\n",
       "        [[[0.0000e+00, 0.0000e+00, 0.0000e+00, 0.0000e+00, 0.0000e+00],\n",
       "          [0.0000e+00, 0.0000e+00, 2.1181e+04, 0.0000e+00, 0.0000e+00],\n",
       "          [0.0000e+00, 0.0000e+00, 2.5319e+04, 1.3644e+04, 0.0000e+00],\n",
       "          [0.0000e+00, 0.0000e+00, 0.0000e+00, 2.6795e+04, 1.5127e+04],\n",
       "          [2.1438e+03, 0.0000e+00, 0.0000e+00, 4.1833e+03, 6.1352e+03]],\n",
       "\n",
       "         [[1.0681e+04, 1.7627e+04, 2.3813e+04, 9.7522e+03, 1.3528e+04],\n",
       "          [0.0000e+00, 0.0000e+00, 0.0000e+00, 0.0000e+00, 2.4011e+04],\n",
       "          [3.2312e+04, 7.5043e+03, 5.9206e+04, 6.3138e+03, 4.7682e+04],\n",
       "          [0.0000e+00, 0.0000e+00, 0.0000e+00, 0.0000e+00, 0.0000e+00],\n",
       "          [3.4113e+04, 7.9116e+02, 2.9260e+04, 5.9008e+04, 1.2171e+05]],\n",
       "\n",
       "         [[0.0000e+00, 0.0000e+00, 0.0000e+00, 0.0000e+00, 0.0000e+00],\n",
       "          [0.0000e+00, 0.0000e+00, 7.3780e+04, 0.0000e+00, 0.0000e+00],\n",
       "          [0.0000e+00, 0.0000e+00, 0.0000e+00, 6.7484e+04, 0.0000e+00],\n",
       "          [0.0000e+00, 0.0000e+00, 0.0000e+00, 0.0000e+00, 0.0000e+00],\n",
       "          [3.4815e+04, 0.0000e+00, 3.8982e+04, 4.2889e+04, 2.1020e+04]],\n",
       "\n",
       "         ...,\n",
       "\n",
       "         [[3.0127e+04, 4.8024e+04, 4.8525e+04, 6.1411e+04, 3.9794e+04],\n",
       "          [4.3579e+04, 5.4983e+04, 6.5250e+03, 5.6108e+04, 2.2950e+04],\n",
       "          [9.3149e+04, 4.2471e+04, 4.2018e+04, 2.8278e+04, 3.4799e+04],\n",
       "          [6.1527e+04, 4.5827e+04, 3.0906e+04, 3.7018e+04, 1.1379e+04],\n",
       "          [7.2371e+04, 3.2648e+04, 1.0585e+03, 2.5387e+03, 3.6739e+04]],\n",
       "\n",
       "         [[1.3900e+05, 1.1929e+05, 1.0495e+05, 1.4833e+05, 1.3577e+05],\n",
       "          [1.4787e+05, 1.2115e+05, 9.6185e+04, 8.9116e+04, 9.1760e+04],\n",
       "          [1.1394e+05, 8.2619e+04, 8.3157e+04, 0.0000e+00, 6.0655e+04],\n",
       "          [1.4534e+05, 1.3453e+05, 7.3399e+04, 1.6986e+05, 1.5948e+05],\n",
       "          [6.5348e+04, 1.0528e+05, 1.8395e+04, 0.0000e+00, 5.5716e+04]],\n",
       "\n",
       "         [[0.0000e+00, 0.0000e+00, 0.0000e+00, 0.0000e+00, 0.0000e+00],\n",
       "          [0.0000e+00, 1.6747e+05, 4.7840e+05, 1.3926e+05, 5.2400e+04],\n",
       "          [0.0000e+00, 4.3222e+04, 2.0970e+05, 1.5723e+04, 2.8392e+04],\n",
       "          [0.0000e+00, 0.0000e+00, 1.1819e+05, 2.2854e+05, 2.9244e+05],\n",
       "          [1.6649e+05, 1.7381e+05, 1.9340e+05, 1.0992e+05, 9.7658e+04]]],\n",
       "\n",
       "\n",
       "        [[[0.0000e+00, 0.0000e+00, 1.5969e+04, 7.9245e+03, 0.0000e+00],\n",
       "          [0.0000e+00, 1.8244e+04, 7.9220e+03, 2.6230e+04, 6.1109e+03],\n",
       "          [9.5197e+03, 1.2155e+04, 2.3598e+04, 0.0000e+00, 0.0000e+00],\n",
       "          [4.6461e+03, 0.0000e+00, 6.2896e+04, 2.8220e+04, 0.0000e+00],\n",
       "          [1.3934e+03, 4.6238e+04, 5.1471e+04, 3.5853e+04, 2.1084e+04]],\n",
       "\n",
       "         [[1.6228e+04, 1.6203e+04, 3.8999e+04, 2.9969e+04, 2.8771e+04],\n",
       "          [1.7202e+04, 1.6921e+04, 3.0789e+04, 7.8427e+04, 2.0765e+04],\n",
       "          [2.7510e+04, 2.3580e+04, 2.5351e+04, 1.6141e+04, 0.0000e+00],\n",
       "          [4.7360e+03, 7.0739e+04, 1.9771e+05, 4.5857e+04, 2.7221e+04],\n",
       "          [7.1048e+03, 4.4937e+04, 7.2766e+03, 8.0090e+04, 6.2856e+04]],\n",
       "\n",
       "         [[0.0000e+00, 0.0000e+00, 0.0000e+00, 7.1507e+05, 0.0000e+00],\n",
       "          [0.0000e+00, 0.0000e+00, 5.8630e+05, 4.3513e+05, 0.0000e+00],\n",
       "          [0.0000e+00, 1.7390e+04, 2.3704e+05, 4.0407e+04, 0.0000e+00],\n",
       "          [0.0000e+00, 6.2477e+04, 2.8274e+05, 7.0140e+05, 4.1010e+05],\n",
       "          [5.2288e+04, 6.7386e+04, 4.6754e+05, 5.6877e+05, 3.2759e+05]],\n",
       "\n",
       "         ...,\n",
       "\n",
       "         [[2.9958e+04, 0.0000e+00, 1.2079e+04, 0.0000e+00, 0.0000e+00],\n",
       "          [1.5869e+04, 0.0000e+00, 9.6041e+04, 2.2008e+04, 3.2103e+04],\n",
       "          [3.0236e+04, 1.0907e+04, 0.0000e+00, 3.7815e+03, 4.6210e+04],\n",
       "          [4.9455e+04, 0.0000e+00, 0.0000e+00, 0.0000e+00, 0.0000e+00],\n",
       "          [4.1591e+04, 0.0000e+00, 2.8434e+04, 0.0000e+00, 0.0000e+00]],\n",
       "\n",
       "         [[1.4196e+05, 1.2084e+05, 8.4516e+04, 8.4266e+04, 8.3842e+04],\n",
       "          [1.4969e+05, 1.6348e+05, 7.4807e+03, 2.6897e+04, 1.0308e+05],\n",
       "          [1.3936e+05, 1.3018e+05, 1.1950e+05, 1.2142e+05, 1.1814e+05],\n",
       "          [1.6808e+05, 1.6946e+05, 8.6341e+04, 0.0000e+00, 3.8518e+04],\n",
       "          [2.2098e+05, 2.3851e+05, 0.0000e+00, 0.0000e+00, 0.0000e+00]],\n",
       "\n",
       "         [[4.4691e+03, 1.2726e+04, 1.9706e+05, 1.3857e+05, 1.4590e+05],\n",
       "          [1.9393e+04, 1.8661e+05, 3.6393e+05, 4.5421e+05, 2.8839e+05],\n",
       "          [6.9496e+04, 1.1344e+05, 2.7674e+05, 2.7785e+05, 6.6447e+04],\n",
       "          [4.0489e+04, 3.4147e+05, 1.0209e+06, 2.8880e+05, 0.0000e+00],\n",
       "          [7.5187e+04, 7.0925e+05, 6.3551e+05, 5.0443e+05, 2.5679e+05]]],\n",
       "\n",
       "\n",
       "        ...,\n",
       "\n",
       "\n",
       "        [[[3.5828e+04, 1.5488e+03, 6.9792e+04, 6.5740e+04, 8.3467e+04],\n",
       "          [1.6997e+04, 4.6060e+04, 5.6611e+04, 3.7748e+04, 3.5260e+04],\n",
       "          [2.6654e+04, 8.3759e+03, 6.7685e+03, 2.6993e+04, 6.6609e+03],\n",
       "          [9.1919e+03, 9.3286e+03, 1.1766e+04, 5.1803e+03, 1.7805e+04],\n",
       "          [0.0000e+00, 0.0000e+00, 0.0000e+00, 1.4258e+04, 5.0303e+03]],\n",
       "\n",
       "         [[0.0000e+00, 0.0000e+00, 1.8874e+03, 3.2317e+04, 1.8656e+04],\n",
       "          [5.6370e+04, 8.0319e+04, 1.0791e+05, 1.0928e+05, 8.1994e+04],\n",
       "          [5.6848e+04, 1.4362e+04, 1.7052e+04, 5.4035e+04, 4.8951e+04],\n",
       "          [2.7629e+04, 2.9951e+04, 3.0314e+04, 3.0600e+04, 1.0002e+05],\n",
       "          [6.1800e+04, 4.2332e+04, 4.7702e+04, 4.4802e+04, 9.2450e+04]],\n",
       "\n",
       "         [[2.2347e+05, 2.0074e+05, 3.9669e+05, 7.7023e+05, 2.2282e+05],\n",
       "          [5.4989e+05, 1.4276e+05, 6.2760e+05, 1.4785e+05, 3.1513e+05],\n",
       "          [3.9259e+05, 2.4202e+05, 7.5416e+05, 3.3088e+05, 2.1639e+05],\n",
       "          [0.0000e+00, 0.0000e+00, 8.1479e+04, 1.5298e+05, 3.8161e+05],\n",
       "          [0.0000e+00, 0.0000e+00, 0.0000e+00, 0.0000e+00, 7.0750e+04]],\n",
       "\n",
       "         ...,\n",
       "\n",
       "         [[6.4586e+04, 5.1719e+03, 9.1109e+03, 8.2438e+04, 5.1187e+03],\n",
       "          [1.3606e+05, 7.1505e+04, 6.5408e+04, 1.8211e+04, 0.0000e+00],\n",
       "          [7.3145e+04, 0.0000e+00, 1.7115e+03, 3.6157e+04, 6.1184e+04],\n",
       "          [7.8917e+04, 4.4904e+04, 4.1571e+04, 2.8647e+04, 4.3031e+04],\n",
       "          [3.2162e+04, 6.5156e+03, 3.6893e+03, 1.6856e+04, 2.2449e+04]],\n",
       "\n",
       "         [[1.2135e+05, 8.8545e+04, 1.1512e+04, 2.1073e+04, 1.4878e+05],\n",
       "          [3.1190e+04, 3.9592e+03, 5.8044e+04, 1.4504e+05, 5.9597e+03],\n",
       "          [9.4180e+04, 5.8970e+04, 4.0114e+04, 5.3482e+04, 6.8166e+04],\n",
       "          [1.6514e+05, 8.6594e+04, 3.6027e+04, 2.4043e+03, 0.0000e+00],\n",
       "          [1.3125e+05, 1.5290e+05, 1.2137e+05, 1.2079e+05, 8.6077e+04]],\n",
       "\n",
       "         [[1.9840e+05, 7.1071e+04, 8.1877e+04, 3.0133e+05, 4.3221e+05],\n",
       "          [8.6738e+04, 2.1885e+05, 2.4376e+05, 3.6742e+05, 5.4048e+05],\n",
       "          [4.9798e+05, 2.5805e+05, 1.0450e+05, 5.2372e+05, 4.4308e+05],\n",
       "          [1.3065e+05, 0.0000e+00, 8.5237e+04, 4.0975e+04, 3.2351e+05],\n",
       "          [2.2251e+04, 0.0000e+00, 0.0000e+00, 0.0000e+00, 6.5519e+04]]],\n",
       "\n",
       "\n",
       "        [[[4.5128e+04, 4.8230e+04, 7.5870e+04, 4.4139e+04, 0.0000e+00],\n",
       "          [8.4693e+03, 0.0000e+00, 0.0000e+00, 0.0000e+00, 1.8067e+04],\n",
       "          [1.3074e+04, 1.3192e+04, 4.4451e+03, 0.0000e+00, 2.0894e+04],\n",
       "          [0.0000e+00, 1.2769e+03, 0.0000e+00, 1.0378e+04, 1.3992e+04],\n",
       "          [6.5248e+03, 2.2776e+03, 1.3878e+03, 2.5437e+03, 2.6554e+02]],\n",
       "\n",
       "         [[0.0000e+00, 0.0000e+00, 0.0000e+00, 0.0000e+00, 1.1073e+04],\n",
       "          [7.1852e+04, 1.3553e+03, 2.4759e+04, 1.5020e+03, 1.6432e+04],\n",
       "          [4.3370e+04, 1.8790e+04, 1.5064e+04, 0.0000e+00, 4.9558e+04],\n",
       "          [2.6372e+04, 3.0685e+04, 0.0000e+00, 2.0569e+04, 2.1779e+04],\n",
       "          [3.3467e+04, 2.8120e+04, 2.6859e+04, 4.9348e+04, 3.2982e+04]],\n",
       "\n",
       "         [[1.0158e+06, 4.3644e+05, 7.8132e+05, 3.6267e+05, 0.0000e+00],\n",
       "          [7.4546e+05, 1.1420e+05, 6.0325e+04, 2.2313e+05, 0.0000e+00],\n",
       "          [7.1452e+05, 2.0160e+05, 0.0000e+00, 4.1701e+04, 1.1598e+05],\n",
       "          [6.0060e+05, 1.7295e+05, 0.0000e+00, 6.4304e+03, 0.0000e+00],\n",
       "          [1.7566e+05, 0.0000e+00, 0.0000e+00, 9.6732e+04, 0.0000e+00]],\n",
       "\n",
       "         ...,\n",
       "\n",
       "         [[6.8708e+04, 2.6004e+04, 8.7076e+04, 1.4999e+04, 0.0000e+00],\n",
       "          [0.0000e+00, 0.0000e+00, 0.0000e+00, 3.1094e+04, 0.0000e+00],\n",
       "          [0.0000e+00, 0.0000e+00, 0.0000e+00, 9.0816e+03, 0.0000e+00],\n",
       "          [0.0000e+00, 0.0000e+00, 1.2156e+04, 0.0000e+00, 0.0000e+00],\n",
       "          [0.0000e+00, 0.0000e+00, 0.0000e+00, 0.0000e+00, 0.0000e+00]],\n",
       "\n",
       "         [[9.2763e+04, 7.3406e+04, 9.5177e+04, 8.3733e+04, 1.0740e+05],\n",
       "          [1.7861e+04, 0.0000e+00, 2.0604e+04, 2.5416e+04, 1.4357e+05],\n",
       "          [0.0000e+00, 0.0000e+00, 3.1574e+04, 3.0350e+04, 6.8398e+03],\n",
       "          [4.2440e+04, 1.2557e+04, 4.1048e+04, 9.3975e+04, 8.7525e+04],\n",
       "          [8.8824e+04, 2.4957e+04, 1.5686e+04, 3.4206e+04, 1.1667e+04]],\n",
       "\n",
       "         [[1.0412e+05, 1.1580e+05, 1.4046e+05, 2.1475e+05, 0.0000e+00],\n",
       "          [1.0369e+05, 1.1125e+05, 1.7989e+05, 4.2253e+05, 4.5279e+05],\n",
       "          [1.8165e+05, 9.8522e+03, 1.3813e+05, 1.2396e+05, 2.6375e+05],\n",
       "          [1.3718e+05, 4.3512e+05, 2.2565e+05, 4.0740e+05, 3.6507e+05],\n",
       "          [3.3190e+04, 5.6698e+04, 1.5436e+05, 1.8632e+05, 2.7737e+05]]],\n",
       "\n",
       "\n",
       "        [[[1.4407e+04, 1.7610e+02, 2.2634e+04, 0.0000e+00, 0.0000e+00],\n",
       "          [0.0000e+00, 0.0000e+00, 5.2317e+04, 2.3403e+04, 0.0000e+00],\n",
       "          [0.0000e+00, 1.7133e+04, 2.7455e+04, 1.6162e+04, 0.0000e+00],\n",
       "          [0.0000e+00, 2.5830e+04, 2.7134e+04, 1.2202e+04, 0.0000e+00],\n",
       "          [0.0000e+00, 0.0000e+00, 1.3909e+03, 0.0000e+00, 0.0000e+00]],\n",
       "\n",
       "         [[2.6552e+04, 3.0019e+04, 3.5427e+04, 3.6513e+04, 2.1302e+04],\n",
       "          [2.3428e+04, 1.3796e+04, 1.2920e+04, 0.0000e+00, 2.8620e+04],\n",
       "          [1.6895e+04, 6.8667e+03, 2.2149e+04, 4.3739e+04, 2.4611e+04],\n",
       "          [0.0000e+00, 4.1437e+04, 4.5191e+04, 4.3347e+04, 3.0193e+04],\n",
       "          [2.9312e+02, 3.2010e+04, 2.0223e+04, 0.0000e+00, 1.3676e+04]],\n",
       "\n",
       "         [[0.0000e+00, 0.0000e+00, 1.3137e+05, 0.0000e+00, 0.0000e+00],\n",
       "          [0.0000e+00, 1.6280e+04, 4.5171e+05, 3.6310e+05, 0.0000e+00],\n",
       "          [0.0000e+00, 1.5686e+05, 5.7148e+05, 3.8993e+05, 0.0000e+00],\n",
       "          [0.0000e+00, 0.0000e+00, 3.1801e+05, 1.1815e+05, 0.0000e+00],\n",
       "          [0.0000e+00, 0.0000e+00, 0.0000e+00, 1.2837e+05, 0.0000e+00]],\n",
       "\n",
       "         ...,\n",
       "\n",
       "         [[7.2726e+04, 6.2343e+04, 3.2806e+04, 1.9111e+04, 2.7116e+04],\n",
       "          [8.6230e+04, 5.5684e+04, 7.8607e+04, 4.2634e+04, 3.6042e+04],\n",
       "          [1.7566e+05, 6.5823e+04, 1.9604e+04, 2.5096e+04, 5.8495e+04],\n",
       "          [1.3461e+05, 3.4714e+04, 3.2808e+04, 1.2803e+04, 5.1341e+04],\n",
       "          [5.0916e+04, 2.8311e+04, 3.2243e+04, 1.3703e+04, 1.8593e+04]],\n",
       "\n",
       "         [[1.5809e+05, 9.4102e+04, 6.9567e+04, 1.2276e+05, 1.4512e+05],\n",
       "          [1.2997e+05, 8.2275e+04, 5.0652e+04, 1.6001e+05, 1.0268e+05],\n",
       "          [1.1045e+05, 7.7107e+04, 0.0000e+00, 4.0557e+04, 1.4113e+05],\n",
       "          [1.0053e+05, 1.0345e+05, 0.0000e+00, 6.6321e+04, 1.1800e+05],\n",
       "          [1.2768e+05, 2.0965e+05, 8.5080e+04, 1.7665e+05, 1.8972e+05]],\n",
       "\n",
       "         [[3.3827e+04, 8.8821e+04, 6.5230e+04, 1.3015e+05, 5.9806e+04],\n",
       "          [1.2407e+05, 2.0844e+05, 3.8654e+05, 2.4347e+05, 1.2680e+05],\n",
       "          [1.4308e+05, 1.7304e+05, 2.9200e+05, 3.5933e+05, 1.8698e+05],\n",
       "          [7.9041e+04, 2.9904e+04, 1.5560e+05, 8.7814e+04, 2.0173e+05],\n",
       "          [7.0348e+03, 2.0875e+04, 1.4431e+05, 0.0000e+00, 2.6261e+04]]]],\n",
       "       grad_fn=<MulBackward0>)"
      ]
     },
     "execution_count": 26,
     "metadata": {},
     "output_type": "execute_result"
    }
   ],
   "source": [
    "a"
   ]
  },
  {
   "cell_type": "code",
   "execution_count": 27,
   "metadata": {},
   "outputs": [
    {
     "data": {
      "text/plain": [
       "tensor([[[[5.7130e+04, 4.2011e+04, 1.1792e+05, 1.1971e+05, 5.0771e+04],\n",
       "          [0.0000e+00, 0.0000e+00, 9.6368e+03, 2.0541e+04, 1.4571e+04],\n",
       "          [5.0759e+03, 0.0000e+00, 1.4381e+04, 2.9205e+04, 1.3847e+04],\n",
       "          [4.9974e+04, 3.2189e+04, 4.8077e+04, 4.2570e+04, 0.0000e+00],\n",
       "          [5.5177e+03, 3.6733e+04, 1.2604e+04, 2.2816e+04, 5.8615e+03]],\n",
       "\n",
       "         [[1.2386e+04, 5.0113e+03, 4.6554e+04, 6.0615e+04, 2.2984e+04],\n",
       "          [9.7799e+03, 1.2731e+04, 5.3444e+03, 3.2348e+04, 4.9568e+04],\n",
       "          [5.7447e+04, 2.9769e+04, 3.4073e+03, 1.6146e+04, 1.8593e+04],\n",
       "          [3.2046e+04, 0.0000e+00, 0.0000e+00, 3.1664e+04, 5.2744e+04],\n",
       "          [3.5075e+04, 3.0278e+04, 7.2277e+04, 1.1006e+05, 1.9711e+04]],\n",
       "\n",
       "         [[3.7381e+05, 0.0000e+00, 4.6799e+04, 1.0356e+06, 5.8617e+05],\n",
       "          [2.5143e+03, 0.0000e+00, 0.0000e+00, 4.7950e+05, 2.1042e+05],\n",
       "          [0.0000e+00, 3.6081e+05, 4.5002e+05, 5.7635e+05, 2.1625e+05],\n",
       "          [4.8722e+05, 3.9853e+05, 3.4745e+05, 3.3123e+05, 0.0000e+00],\n",
       "          [3.5444e+05, 2.5351e+05, 2.4154e+05, 3.4782e+05, 4.9391e+04]],\n",
       "\n",
       "         ...,\n",
       "\n",
       "         [[1.2598e+05, 6.2855e+04, 9.8999e+04, 8.3951e+04, 6.8226e+04],\n",
       "          [7.9000e+04, 3.8669e+04, 8.0394e+04, 5.2748e+04, 0.0000e+00],\n",
       "          [6.4820e+04, 6.1552e+04, 4.9105e+04, 4.3942e+04, 1.3058e+04],\n",
       "          [1.2224e+05, 4.6148e+04, 1.4736e+04, 9.8958e+03, 0.0000e+00],\n",
       "          [0.0000e+00, 2.4109e+04, 0.0000e+00, 9.6352e+03, 1.0407e+04]],\n",
       "\n",
       "         [[1.6239e+05, 6.1373e+04, 0.0000e+00, 0.0000e+00, 6.4473e+04],\n",
       "          [9.1782e+04, 8.9541e+04, 3.1275e+04, 2.5363e+04, 5.6722e+04],\n",
       "          [8.6710e+04, 3.1969e+02, 0.0000e+00, 1.6514e+04, 5.0812e+04],\n",
       "          [0.0000e+00, 2.3717e+04, 0.0000e+00, 4.6376e+04, 2.6224e+04],\n",
       "          [0.0000e+00, 0.0000e+00, 0.0000e+00, 0.0000e+00, 6.0415e+03]],\n",
       "\n",
       "         [[0.0000e+00, 0.0000e+00, 0.0000e+00, 3.6077e+05, 2.3246e+05],\n",
       "          [0.0000e+00, 0.0000e+00, 0.0000e+00, 4.6698e+04, 2.6578e+05],\n",
       "          [0.0000e+00, 0.0000e+00, 0.0000e+00, 1.1492e+05, 2.4270e+05],\n",
       "          [0.0000e+00, 1.5042e+05, 4.0364e+05, 3.4371e+05, 6.0674e+04],\n",
       "          [3.1598e+05, 0.0000e+00, 3.3688e+04, 0.0000e+00, 4.4467e+04]]],\n",
       "\n",
       "\n",
       "        [[[0.0000e+00, 0.0000e+00, 0.0000e+00, 0.0000e+00, 0.0000e+00],\n",
       "          [0.0000e+00, 0.0000e+00, 2.1181e+04, 0.0000e+00, 0.0000e+00],\n",
       "          [0.0000e+00, 0.0000e+00, 2.5319e+04, 1.3644e+04, 0.0000e+00],\n",
       "          [0.0000e+00, 0.0000e+00, 0.0000e+00, 2.6795e+04, 1.5127e+04],\n",
       "          [2.1438e+03, 0.0000e+00, 0.0000e+00, 4.1833e+03, 6.1352e+03]],\n",
       "\n",
       "         [[1.0681e+04, 1.7627e+04, 2.3813e+04, 9.7522e+03, 1.3528e+04],\n",
       "          [0.0000e+00, 0.0000e+00, 0.0000e+00, 0.0000e+00, 2.4011e+04],\n",
       "          [3.2312e+04, 7.5043e+03, 5.9206e+04, 6.3138e+03, 4.7682e+04],\n",
       "          [0.0000e+00, 0.0000e+00, 0.0000e+00, 0.0000e+00, 0.0000e+00],\n",
       "          [3.4113e+04, 7.9116e+02, 2.9260e+04, 5.9008e+04, 1.2171e+05]],\n",
       "\n",
       "         [[0.0000e+00, 0.0000e+00, 0.0000e+00, 0.0000e+00, 0.0000e+00],\n",
       "          [0.0000e+00, 0.0000e+00, 7.3780e+04, 0.0000e+00, 0.0000e+00],\n",
       "          [0.0000e+00, 0.0000e+00, 0.0000e+00, 6.7484e+04, 0.0000e+00],\n",
       "          [0.0000e+00, 0.0000e+00, 0.0000e+00, 0.0000e+00, 0.0000e+00],\n",
       "          [3.4815e+04, 0.0000e+00, 3.8982e+04, 4.2889e+04, 2.1020e+04]],\n",
       "\n",
       "         ...,\n",
       "\n",
       "         [[3.0127e+04, 4.8024e+04, 4.8525e+04, 6.1411e+04, 3.9794e+04],\n",
       "          [4.3579e+04, 5.4983e+04, 6.5250e+03, 5.6108e+04, 2.2950e+04],\n",
       "          [9.3149e+04, 4.2471e+04, 4.2018e+04, 2.8278e+04, 3.4799e+04],\n",
       "          [6.1527e+04, 4.5827e+04, 3.0906e+04, 3.7018e+04, 1.1379e+04],\n",
       "          [7.2371e+04, 3.2648e+04, 1.0585e+03, 2.5387e+03, 3.6739e+04]],\n",
       "\n",
       "         [[1.3900e+05, 1.1929e+05, 1.0495e+05, 1.4833e+05, 1.3577e+05],\n",
       "          [1.4787e+05, 1.2115e+05, 9.6185e+04, 8.9116e+04, 9.1760e+04],\n",
       "          [1.1394e+05, 8.2619e+04, 8.3157e+04, 0.0000e+00, 6.0655e+04],\n",
       "          [1.4534e+05, 1.3453e+05, 7.3399e+04, 1.6986e+05, 1.5948e+05],\n",
       "          [6.5348e+04, 1.0528e+05, 1.8395e+04, 0.0000e+00, 5.5716e+04]],\n",
       "\n",
       "         [[0.0000e+00, 0.0000e+00, 0.0000e+00, 0.0000e+00, 0.0000e+00],\n",
       "          [0.0000e+00, 1.6747e+05, 4.7840e+05, 1.3926e+05, 5.2400e+04],\n",
       "          [0.0000e+00, 4.3222e+04, 2.0970e+05, 1.5723e+04, 2.8392e+04],\n",
       "          [0.0000e+00, 0.0000e+00, 1.1819e+05, 2.2854e+05, 2.9244e+05],\n",
       "          [1.6649e+05, 1.7381e+05, 1.9340e+05, 1.0992e+05, 9.7658e+04]]],\n",
       "\n",
       "\n",
       "        [[[0.0000e+00, 0.0000e+00, 1.5969e+04, 7.9245e+03, 0.0000e+00],\n",
       "          [0.0000e+00, 1.8244e+04, 7.9220e+03, 2.6230e+04, 6.1109e+03],\n",
       "          [9.5197e+03, 1.2155e+04, 2.3598e+04, 0.0000e+00, 0.0000e+00],\n",
       "          [4.6461e+03, 0.0000e+00, 6.2896e+04, 2.8220e+04, 0.0000e+00],\n",
       "          [1.3934e+03, 4.6238e+04, 5.1471e+04, 3.5853e+04, 2.1084e+04]],\n",
       "\n",
       "         [[1.6228e+04, 1.6203e+04, 3.8999e+04, 2.9969e+04, 2.8771e+04],\n",
       "          [1.7202e+04, 1.6921e+04, 3.0789e+04, 7.8427e+04, 2.0765e+04],\n",
       "          [2.7510e+04, 2.3580e+04, 2.5351e+04, 1.6141e+04, 0.0000e+00],\n",
       "          [4.7360e+03, 7.0739e+04, 1.9771e+05, 4.5857e+04, 2.7221e+04],\n",
       "          [7.1048e+03, 4.4937e+04, 7.2766e+03, 8.0090e+04, 6.2856e+04]],\n",
       "\n",
       "         [[0.0000e+00, 0.0000e+00, 0.0000e+00, 7.1507e+05, 0.0000e+00],\n",
       "          [0.0000e+00, 0.0000e+00, 5.8630e+05, 4.3513e+05, 0.0000e+00],\n",
       "          [0.0000e+00, 1.7390e+04, 2.3704e+05, 4.0407e+04, 0.0000e+00],\n",
       "          [0.0000e+00, 6.2477e+04, 2.8274e+05, 7.0140e+05, 4.1010e+05],\n",
       "          [5.2288e+04, 6.7386e+04, 4.6754e+05, 5.6877e+05, 3.2759e+05]],\n",
       "\n",
       "         ...,\n",
       "\n",
       "         [[2.9958e+04, 0.0000e+00, 1.2079e+04, 0.0000e+00, 0.0000e+00],\n",
       "          [1.5869e+04, 0.0000e+00, 9.6041e+04, 2.2008e+04, 3.2103e+04],\n",
       "          [3.0236e+04, 1.0907e+04, 0.0000e+00, 3.7815e+03, 4.6210e+04],\n",
       "          [4.9455e+04, 0.0000e+00, 0.0000e+00, 0.0000e+00, 0.0000e+00],\n",
       "          [4.1591e+04, 0.0000e+00, 2.8434e+04, 0.0000e+00, 0.0000e+00]],\n",
       "\n",
       "         [[1.4196e+05, 1.2084e+05, 8.4516e+04, 8.4266e+04, 8.3841e+04],\n",
       "          [1.4969e+05, 1.6348e+05, 7.4807e+03, 2.6897e+04, 1.0308e+05],\n",
       "          [1.3936e+05, 1.3018e+05, 1.1950e+05, 1.2142e+05, 1.1814e+05],\n",
       "          [1.6808e+05, 1.6946e+05, 8.6341e+04, 0.0000e+00, 3.8518e+04],\n",
       "          [2.2098e+05, 2.3851e+05, 0.0000e+00, 0.0000e+00, 0.0000e+00]],\n",
       "\n",
       "         [[4.4691e+03, 1.2726e+04, 1.9706e+05, 1.3857e+05, 1.4590e+05],\n",
       "          [1.9393e+04, 1.8661e+05, 3.6393e+05, 4.5421e+05, 2.8839e+05],\n",
       "          [6.9496e+04, 1.1344e+05, 2.7674e+05, 2.7785e+05, 6.6447e+04],\n",
       "          [4.0489e+04, 3.4147e+05, 1.0209e+06, 2.8880e+05, 0.0000e+00],\n",
       "          [7.5187e+04, 7.0925e+05, 6.3551e+05, 5.0443e+05, 2.5679e+05]]],\n",
       "\n",
       "\n",
       "        ...,\n",
       "\n",
       "\n",
       "        [[[3.5828e+04, 1.5488e+03, 6.9792e+04, 6.5740e+04, 8.3467e+04],\n",
       "          [1.6997e+04, 4.6060e+04, 5.6611e+04, 3.7748e+04, 3.5260e+04],\n",
       "          [2.6654e+04, 8.3759e+03, 6.7685e+03, 2.6993e+04, 6.6609e+03],\n",
       "          [9.1919e+03, 9.3286e+03, 1.1766e+04, 5.1803e+03, 1.7805e+04],\n",
       "          [0.0000e+00, 0.0000e+00, 0.0000e+00, 1.4258e+04, 5.0303e+03]],\n",
       "\n",
       "         [[0.0000e+00, 0.0000e+00, 1.8874e+03, 3.2317e+04, 1.8656e+04],\n",
       "          [5.6370e+04, 8.0319e+04, 1.0791e+05, 1.0928e+05, 8.1994e+04],\n",
       "          [5.6848e+04, 1.4362e+04, 1.7052e+04, 5.4035e+04, 4.8951e+04],\n",
       "          [2.7629e+04, 2.9951e+04, 3.0314e+04, 3.0600e+04, 1.0002e+05],\n",
       "          [6.1800e+04, 4.2332e+04, 4.7702e+04, 4.4802e+04, 9.2450e+04]],\n",
       "\n",
       "         [[2.2347e+05, 2.0074e+05, 3.9669e+05, 7.7023e+05, 2.2282e+05],\n",
       "          [5.4989e+05, 1.4276e+05, 6.2760e+05, 1.4785e+05, 3.1513e+05],\n",
       "          [3.9259e+05, 2.4202e+05, 7.5416e+05, 3.3088e+05, 2.1639e+05],\n",
       "          [0.0000e+00, 0.0000e+00, 8.1479e+04, 1.5298e+05, 3.8161e+05],\n",
       "          [0.0000e+00, 0.0000e+00, 0.0000e+00, 0.0000e+00, 7.0750e+04]],\n",
       "\n",
       "         ...,\n",
       "\n",
       "         [[6.4586e+04, 5.1719e+03, 9.1109e+03, 8.2438e+04, 5.1187e+03],\n",
       "          [1.3606e+05, 7.1505e+04, 6.5408e+04, 1.8211e+04, 0.0000e+00],\n",
       "          [7.3145e+04, 0.0000e+00, 1.7115e+03, 3.6157e+04, 6.1184e+04],\n",
       "          [7.8917e+04, 4.4904e+04, 4.1571e+04, 2.8647e+04, 4.3031e+04],\n",
       "          [3.2162e+04, 6.5156e+03, 3.6893e+03, 1.6856e+04, 2.2449e+04]],\n",
       "\n",
       "         [[1.2135e+05, 8.8545e+04, 1.1512e+04, 2.1073e+04, 1.4878e+05],\n",
       "          [3.1190e+04, 3.9592e+03, 5.8044e+04, 1.4504e+05, 5.9597e+03],\n",
       "          [9.4180e+04, 5.8970e+04, 4.0114e+04, 5.3482e+04, 6.8166e+04],\n",
       "          [1.6514e+05, 8.6594e+04, 3.6027e+04, 2.4043e+03, 0.0000e+00],\n",
       "          [1.3125e+05, 1.5290e+05, 1.2137e+05, 1.2079e+05, 8.6077e+04]],\n",
       "\n",
       "         [[1.9840e+05, 7.1071e+04, 8.1877e+04, 3.0133e+05, 4.3221e+05],\n",
       "          [8.6738e+04, 2.1885e+05, 2.4376e+05, 3.6742e+05, 5.4048e+05],\n",
       "          [4.9798e+05, 2.5805e+05, 1.0450e+05, 5.2372e+05, 4.4308e+05],\n",
       "          [1.3065e+05, 0.0000e+00, 8.5237e+04, 4.0975e+04, 3.2351e+05],\n",
       "          [2.2251e+04, 0.0000e+00, 0.0000e+00, 0.0000e+00, 6.5519e+04]]],\n",
       "\n",
       "\n",
       "        [[[4.5128e+04, 4.8230e+04, 7.5870e+04, 4.4139e+04, 0.0000e+00],\n",
       "          [8.4693e+03, 0.0000e+00, 0.0000e+00, 0.0000e+00, 1.8067e+04],\n",
       "          [1.3074e+04, 1.3192e+04, 4.4451e+03, 0.0000e+00, 2.0894e+04],\n",
       "          [0.0000e+00, 1.2769e+03, 0.0000e+00, 1.0378e+04, 1.3992e+04],\n",
       "          [6.5248e+03, 2.2776e+03, 1.3878e+03, 2.5437e+03, 2.6554e+02]],\n",
       "\n",
       "         [[0.0000e+00, 0.0000e+00, 0.0000e+00, 0.0000e+00, 1.1073e+04],\n",
       "          [7.1852e+04, 1.3553e+03, 2.4759e+04, 1.5020e+03, 1.6432e+04],\n",
       "          [4.3370e+04, 1.8790e+04, 1.5064e+04, 0.0000e+00, 4.9558e+04],\n",
       "          [2.6372e+04, 3.0685e+04, 0.0000e+00, 2.0569e+04, 2.1779e+04],\n",
       "          [3.3467e+04, 2.8120e+04, 2.6859e+04, 4.9348e+04, 3.2982e+04]],\n",
       "\n",
       "         [[1.0158e+06, 4.3644e+05, 7.8132e+05, 3.6267e+05, 0.0000e+00],\n",
       "          [7.4546e+05, 1.1420e+05, 6.0325e+04, 2.2313e+05, 0.0000e+00],\n",
       "          [7.1452e+05, 2.0160e+05, 0.0000e+00, 4.1701e+04, 1.1598e+05],\n",
       "          [6.0060e+05, 1.7295e+05, 0.0000e+00, 6.4304e+03, 0.0000e+00],\n",
       "          [1.7566e+05, 0.0000e+00, 0.0000e+00, 9.6732e+04, 0.0000e+00]],\n",
       "\n",
       "         ...,\n",
       "\n",
       "         [[6.8708e+04, 2.6004e+04, 8.7076e+04, 1.4999e+04, 0.0000e+00],\n",
       "          [0.0000e+00, 0.0000e+00, 0.0000e+00, 3.1094e+04, 0.0000e+00],\n",
       "          [0.0000e+00, 0.0000e+00, 0.0000e+00, 9.0816e+03, 0.0000e+00],\n",
       "          [0.0000e+00, 0.0000e+00, 1.2156e+04, 0.0000e+00, 0.0000e+00],\n",
       "          [0.0000e+00, 0.0000e+00, 0.0000e+00, 0.0000e+00, 0.0000e+00]],\n",
       "\n",
       "         [[9.2763e+04, 7.3406e+04, 9.5177e+04, 8.3733e+04, 1.0740e+05],\n",
       "          [1.7861e+04, 0.0000e+00, 2.0604e+04, 2.5416e+04, 1.4357e+05],\n",
       "          [0.0000e+00, 0.0000e+00, 3.1574e+04, 3.0350e+04, 6.8398e+03],\n",
       "          [4.2440e+04, 1.2557e+04, 4.1048e+04, 9.3975e+04, 8.7525e+04],\n",
       "          [8.8824e+04, 2.4957e+04, 1.5686e+04, 3.4206e+04, 1.1667e+04]],\n",
       "\n",
       "         [[1.0412e+05, 1.1580e+05, 1.4046e+05, 2.1475e+05, 0.0000e+00],\n",
       "          [1.0369e+05, 1.1125e+05, 1.7989e+05, 4.2253e+05, 4.5279e+05],\n",
       "          [1.8165e+05, 9.8522e+03, 1.3813e+05, 1.2396e+05, 2.6375e+05],\n",
       "          [1.3718e+05, 4.3512e+05, 2.2565e+05, 4.0740e+05, 3.6507e+05],\n",
       "          [3.3190e+04, 5.6698e+04, 1.5436e+05, 1.8632e+05, 2.7737e+05]]],\n",
       "\n",
       "\n",
       "        [[[1.4407e+04, 1.7610e+02, 2.2634e+04, 0.0000e+00, 0.0000e+00],\n",
       "          [0.0000e+00, 0.0000e+00, 5.2317e+04, 2.3403e+04, 0.0000e+00],\n",
       "          [0.0000e+00, 1.7133e+04, 2.7455e+04, 1.6162e+04, 0.0000e+00],\n",
       "          [0.0000e+00, 2.5830e+04, 2.7134e+04, 1.2202e+04, 0.0000e+00],\n",
       "          [0.0000e+00, 0.0000e+00, 1.3909e+03, 0.0000e+00, 0.0000e+00]],\n",
       "\n",
       "         [[2.6552e+04, 3.0019e+04, 3.5427e+04, 3.6513e+04, 2.1302e+04],\n",
       "          [2.3428e+04, 1.3796e+04, 1.2920e+04, 0.0000e+00, 2.8620e+04],\n",
       "          [1.6895e+04, 6.8667e+03, 2.2149e+04, 4.3739e+04, 2.4611e+04],\n",
       "          [0.0000e+00, 4.1437e+04, 4.5191e+04, 4.3347e+04, 3.0193e+04],\n",
       "          [2.9312e+02, 3.2010e+04, 2.0223e+04, 0.0000e+00, 1.3676e+04]],\n",
       "\n",
       "         [[0.0000e+00, 0.0000e+00, 1.3137e+05, 0.0000e+00, 0.0000e+00],\n",
       "          [0.0000e+00, 1.6280e+04, 4.5171e+05, 3.6310e+05, 0.0000e+00],\n",
       "          [0.0000e+00, 1.5686e+05, 5.7148e+05, 3.8993e+05, 0.0000e+00],\n",
       "          [0.0000e+00, 0.0000e+00, 3.1801e+05, 1.1815e+05, 0.0000e+00],\n",
       "          [0.0000e+00, 0.0000e+00, 0.0000e+00, 1.2837e+05, 0.0000e+00]],\n",
       "\n",
       "         ...,\n",
       "\n",
       "         [[7.2726e+04, 6.2343e+04, 3.2806e+04, 1.9111e+04, 2.7116e+04],\n",
       "          [8.6230e+04, 5.5684e+04, 7.8607e+04, 4.2634e+04, 3.6042e+04],\n",
       "          [1.7566e+05, 6.5823e+04, 1.9604e+04, 2.5096e+04, 5.8495e+04],\n",
       "          [1.3461e+05, 3.4714e+04, 3.2808e+04, 1.2803e+04, 5.1341e+04],\n",
       "          [5.0916e+04, 2.8311e+04, 3.2243e+04, 1.3703e+04, 1.8593e+04]],\n",
       "\n",
       "         [[1.5809e+05, 9.4102e+04, 6.9567e+04, 1.2276e+05, 1.4512e+05],\n",
       "          [1.2997e+05, 8.2275e+04, 5.0652e+04, 1.6001e+05, 1.0268e+05],\n",
       "          [1.1045e+05, 7.7107e+04, 0.0000e+00, 4.0557e+04, 1.4113e+05],\n",
       "          [1.0053e+05, 1.0345e+05, 0.0000e+00, 6.6321e+04, 1.1800e+05],\n",
       "          [1.2768e+05, 2.0965e+05, 8.5080e+04, 1.7665e+05, 1.8972e+05]],\n",
       "\n",
       "         [[3.3827e+04, 8.8821e+04, 6.5230e+04, 1.3015e+05, 5.9806e+04],\n",
       "          [1.2407e+05, 2.0844e+05, 3.8654e+05, 2.4347e+05, 1.2680e+05],\n",
       "          [1.4308e+05, 1.7304e+05, 2.9200e+05, 3.5933e+05, 1.8698e+05],\n",
       "          [7.9041e+04, 2.9904e+04, 1.5560e+05, 8.7814e+04, 2.0173e+05],\n",
       "          [7.0348e+03, 2.0875e+04, 1.4431e+05, 0.0000e+00, 2.6261e+04]]]],\n",
       "       dtype=torch.float64, grad_fn=<MulBackward0>)"
      ]
     },
     "execution_count": 27,
     "metadata": {},
     "output_type": "execute_result"
    }
   ],
   "source": [
    "G_dash"
   ]
  },
  {
   "cell_type": "markdown",
   "metadata": {},
   "source": [
    "## Both methods give same results (Convolution - Pytorch Style && Custom Implementation - Pytorch Style Verification), hence use the Conv2d approach"
   ]
  },
  {
   "cell_type": "markdown",
   "metadata": {},
   "source": [
    "### Conclusion: Reshape doesn't care about dimensional ordering of elements. It simply 'reshapes' the tensor into the required dimensions. Permute preserves the dimensional ordering of elements and shifts around entire sub-tensors (dims) to give the desired output."
   ]
  },
  {
   "cell_type": "code",
   "execution_count": 29,
   "metadata": {},
   "outputs": [],
   "source": [
    "class Args:\n",
    "    def __init__(self, n_ways, k_shots, q_shots):\n",
    "        #args.wt_ce, args.klwt, args.rec_wt, args.beta_l, args.beta_s\n",
    "        self.n_ways = n_ways\n",
    "        self.k_shots = k_shots\n",
    "        self.q_shots = q_shots\n",
    "\n",
    "args = Args(5, 5, 15)"
   ]
  },
  {
   "cell_type": "code",
   "execution_count": 45,
   "metadata": {},
   "outputs": [],
   "source": [
    "class Test(nn.Module):\n",
    "    \n",
    "    def __init__(self,\n",
    "                 num_input_channels: int,\n",
    "                 base_channel_size: int,\n",
    "                 latent_dim: int,\n",
    "                 dataset: str,\n",
    "                 #task_adapt_fn: str,\n",
    "                 args,\n",
    "                 act_fn: object = nn.ReLU):\n",
    "        super(Test, self).__init__()\n",
    "\n",
    "        self.args = args\n",
    "        c_hid = base_channel_size\n",
    "        self.net = nn.Sequential(\n",
    "                nn.Conv2d(num_input_channels, c_hid, kernel_size=3, padding=1),\n",
    "                nn.BatchNorm2d(c_hid),\n",
    "                act_fn(),\n",
    "                nn.MaxPool2d(2),  # 28 x 28, # 42 x 42\n",
    "\n",
    "                # nn.ZeroPad2d(conv_padding),\n",
    "                nn.Conv2d(c_hid, c_hid, kernel_size=3, padding=1),\n",
    "                nn.BatchNorm2d(c_hid),\n",
    "                act_fn(),\n",
    "                nn.MaxPool2d(2),  # 9x9 # 21 x 21\n",
    "\n",
    "                # nn.ZeroPad2d(conv_padding),\n",
    "                nn.Conv2d(c_hid, c_hid, kernel_size=3, padding=1),\n",
    "                nn.BatchNorm2d(c_hid),\n",
    "                act_fn(),\n",
    "                nn.MaxPool2d(2),  # 3x3 # 10 x 10\n",
    "\n",
    "                # nn.ZeroPad2d(conv_padding),\n",
    "                nn.Conv2d(c_hid, c_hid, kernel_size=3, padding=1),\n",
    "                nn.BatchNorm2d(c_hid),\n",
    "                act_fn(),\n",
    "                nn.MaxPool2d(2)  # 1x1 # 5 x 5\n",
    "            )\n",
    "        \n",
    "        n = args.n_ways * (args.k_shots + args.q_shots)\n",
    "        self.eaen = nn.Sequential(\n",
    "            nn.Conv2d(in_channels=1, out_channels=64, kernel_size=(n,1), stride=(1,1), padding='valid', bias=False),\n",
    "            act_fn(),                                                                                                # P\n",
    "            \n",
    "            nn.Conv2d(in_channels=64, out_channels=32, kernel_size=(1,1), stride=(1,1), padding='valid', bias=False),\n",
    "            act_fn(),                                                                                                # Z\n",
    "            \n",
    "            nn.Conv2d(in_channels=32, out_channels=1, kernel_size=(1,1), stride=(1,1), padding='valid', bias=False),\n",
    "            act_fn(),                                                                                                # F\n",
    "        )\n",
    "\n",
    "        self.h1 = nn.Linear(c_hid*25, latent_dim) \n",
    "        self.h2 = nn.Linear(c_hid*25, latent_dim)\n",
    "\n",
    "    def forward(self, x, update:str):\n",
    "        x = self.net(x)\n",
    "\n",
    "        # Task aware embeddings\n",
    "        input = x.permute(2,3,0,1)\n",
    "        input = input.reshape(input.shape[0] * input.shape[1], input.shape[2], input.shape[3]).unsqueeze(dim=1)\n",
    "        input = self.eaen(input)\n",
    "        input = input.squeeze().transpose(0,1).reshape(-1, 5,5)\n",
    "        if update == 'inner':\n",
    "            x = x[:self.args.n_ways*self.args.k_shots] * input\n",
    "        elif update == 'outer':\n",
    "            x = x[self.args.n_ways*self.args.k_shots:] * input\n",
    "        x = nn.Flatten()(x)\n",
    "        \n",
    "        mu = self.h1(x)\n",
    "        log_var = self.h2(x)\n",
    "        return mu, log_var\n"
   ]
  },
  {
   "cell_type": "code",
   "execution_count": 46,
   "metadata": {},
   "outputs": [],
   "source": [
    "data, labels = ttask\n",
    "data, labels = data.to('cpu') / 255.0, labels.to('cpu')\n",
    "total = args.n_ways * (args.k_shots + args.q_shots)\n",
    "queries_index = np.zeros(total)\n",
    "\n",
    "# Extracting the evaluation datums from the entire task set, for the meta gradient calculation\n",
    "for offset in range(args.n_ways):\n",
    "    queries_index[np.random.choice(\n",
    "        args.k_shots+args.q_shots, args.q_shots, replace=False) + ((args.k_shots + args.q_shots)*offset)] = True\n",
    "support = data[np.where(queries_index == 0)]\n",
    "support_labels = labels[np.where(queries_index == 0)]\n",
    "queries = data[np.where(queries_index == 1)]\n",
    "queries_labels = labels[np.where(queries_index == 1)]"
   ]
  },
  {
   "cell_type": "code",
   "execution_count": 49,
   "metadata": {},
   "outputs": [
    {
     "data": {
      "text/plain": [
       "(tensor([[ 0.0189,  0.0154,  0.0003,  ...,  0.0005,  0.0051,  0.0295],\n",
       "         [ 0.0352, -0.0039,  0.0169,  ...,  0.0093,  0.0086,  0.0320],\n",
       "         [ 0.0303, -0.0042,  0.0034,  ...,  0.0123,  0.0067,  0.0341],\n",
       "         ...,\n",
       "         [ 0.0318,  0.0028,  0.0113,  ...,  0.0104,  0.0048,  0.0198],\n",
       "         [ 0.0248,  0.0057, -0.0041,  ...,  0.0027,  0.0114,  0.0251],\n",
       "         [ 0.0272,  0.0055, -0.0080,  ...,  0.0125,  0.0024,  0.0138]],\n",
       "        grad_fn=<AddmmBackward>),\n",
       " tensor([[ 0.0209,  0.0066,  0.0209,  ...,  0.0270, -0.0196,  0.0106],\n",
       "         [ 0.0177,  0.0023,  0.0341,  ...,  0.0188, -0.0107,  0.0161],\n",
       "         [ 0.0111,  0.0022,  0.0303,  ...,  0.0193, -0.0055,  0.0190],\n",
       "         ...,\n",
       "         [ 0.0192,  0.0044,  0.0341,  ...,  0.0166, -0.0099,  0.0067],\n",
       "         [ 0.0238,  0.0064,  0.0237,  ...,  0.0270, -0.0190,  0.0079],\n",
       "         [ 0.0221,  0.0030,  0.0286,  ...,  0.0256, -0.0191,  0.0048]],\n",
       "        grad_fn=<AddmmBackward>))"
      ]
     },
     "execution_count": 49,
     "metadata": {},
     "output_type": "execute_result"
    }
   ],
   "source": [
    "module = Test(3, 32, 64, 'miniimagenet', args)\n",
    "module(torch.cat([support, queries], dim=0), 'inner')"
   ]
  }
 ],
 "metadata": {
  "environment": {
   "name": "pytorch-gpu.1-8.m71",
   "type": "gcloud",
   "uri": "gcr.io/deeplearning-platform-release/pytorch-gpu.1-8:m71"
  },
  "interpreter": {
   "hash": "7e3af266dcb7df8b026f0780dbb396b062ee5ca2767a18f50e60e26ee6084121"
  },
  "kernelspec": {
   "display_name": "Python 3.8.11 64-bit ('torch': conda)",
   "name": "python3"
  },
  "language_info": {
   "codemirror_mode": {
    "name": "ipython",
    "version": 3
   },
   "file_extension": ".py",
   "mimetype": "text/x-python",
   "name": "python",
   "nbconvert_exporter": "python",
   "pygments_lexer": "ipython3",
   "version": "3.8.11"
  }
 },
 "nbformat": 4,
 "nbformat_minor": 5
}

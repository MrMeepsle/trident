{
 "cells": [
  {
   "cell_type": "code",
   "execution_count": 1,
   "metadata": {
    "ExecuteTime": {
     "end_time": "2022-02-14T14:36:21.318310Z",
     "start_time": "2022-02-14T14:36:16.217003Z"
    }
   },
   "outputs": [],
   "source": [
    "import pandas as pd\n",
    "import numpy as np\n",
    "import torch\n",
    "from torch.nn import functional as F\n",
    "import scipy\n",
    "from umap import UMAP\n",
    "\n",
    "import plotly_express as px\n",
    "import plotly.graph_objects as go\n",
    "from plotly.subplots import make_subplots\n",
    "import plotly.io as pio\n",
    "\n",
    "from netcal.metrics import ECE, MCE\n",
    "from netcal.scaling import TemperatureScaling\n",
    "from netcal.presentation import ReliabilityDiagram"
   ]
  },
  {
   "cell_type": "code",
   "execution_count": 2,
   "metadata": {
    "ExecuteTime": {
     "end_time": "2022-02-14T14:36:21.323520Z",
     "start_time": "2022-02-14T14:36:21.320116Z"
    }
   },
   "outputs": [],
   "source": [
    "def test_report(l, confidence=0.95):\n",
    "    for df in l:\n",
    "        df.columns = list(df.columns[1:]) + ['model_name']\n",
    "        df['accuracy'] = 100 * df['accuracy']\n",
    "        a = df['accuracy'].to_numpy()\n",
    "        n = len(a)\n",
    "        m, se = np.mean(a), scipy.stats.sem(a)\n",
    "        h = se * scipy.stats.t.ppf((1 + confidence) / 2., n-1)\n",
    "        print(m, h)"
   ]
  },
  {
   "cell_type": "code",
   "execution_count": 3,
   "metadata": {
    "ExecuteTime": {
     "end_time": "2022-02-14T14:36:21.327682Z",
     "start_time": "2022-02-14T14:36:21.324614Z"
    }
   },
   "outputs": [],
   "source": [
    "def conf_int(data, confidence=0.95):\n",
    "    a = data.to_numpy()\n",
    "    n = len(a)\n",
    "    m, se = np.mean(a), scipy.stats.sem(a)\n",
    "    h = se * scipy.stats.t.ppf((1 + confidence) / 2., n-1)\n",
    "    return m, h"
   ]
  },
  {
   "cell_type": "code",
   "execution_count": 4,
   "metadata": {
    "ExecuteTime": {
     "end_time": "2022-02-14T14:36:21.334252Z",
     "start_time": "2022-02-14T14:36:21.329788Z"
    }
   },
   "outputs": [],
   "source": [
    "def prob_metrics(df):\n",
    "    df_preds.columns = ['task', '0', '1', '2', '3', '4', 'actual']\n",
    "    df_preds[['0', '1', '2', '3', '4']] = F.softmax(torch.tensor(\n",
    "        df_preds[['0', '1', '2', '3', '4']].to_numpy()), dim=1).numpy()\n",
    "    \n",
    "    # Calculate ECE, MCE\n",
    "    n_bins = 10\n",
    "    confidences = df_preds[['0', '1', '2', '3', '4']].to_numpy()\n",
    "    ground_truth = df_preds['actual'].to_numpy()\n",
    "    ece = ECE(n_bins)\n",
    "    mce = MCE(n_bins)\n",
    "    uncalibrated_score_ece = ece.measure(confidences, ground_truth)\n",
    "    temperature = TemperatureScaling()\n",
    "    temperature.fit(confidences, ground_truth)\n",
    "    calibrated = temperature.transform(confidences)\n",
    "    calibrated_score_ece = ece.measure(calibrated, ground_truth)\n",
    "    \n",
    "    uncalibrated_score_mce = mce.measure(confidences, ground_truth)\n",
    "    calibrated_score_mce = mce.measure(calibrated, ground_truth)\n",
    "\n",
    "    # Reliability diagram\n",
    "    diagram = ReliabilityDiagram(n_bins)\n",
    "    diagram.plot(calibrated, ground_truth)   # visualize miscalibration of calibrated\n",
    "    \n",
    "    return calibrated_score_ece, calibrated_score_mce"
   ]
  },
  {
   "cell_type": "code",
   "execution_count": 5,
   "metadata": {
    "ExecuteTime": {
     "end_time": "2022-02-14T14:36:21.339328Z",
     "start_time": "2022-02-14T14:36:21.336142Z"
    }
   },
   "outputs": [],
   "source": [
    "def report(df, tasks, confidence=0.95):\n",
    "    df.columns = list(df.columns[1:]) + ['model_name']\n",
    "    df['accuracy'] = 100 * df['accuracy']\n",
    "    a = df['accuracy'].to_numpy()\n",
    "    a = np.split(a, len(a)/tasks, axis=0)\n",
    "    for accs in a:\n",
    "        n = len(accs)\n",
    "        m, se = np.mean(accs), scipy.stats.sem(accs)\n",
    "        h = se * scipy.stats.t.ppf((1 + confidence) / 2., n-1)\n",
    "        print(m, h)"
   ]
  },
  {
   "cell_type": "code",
   "execution_count": 6,
   "metadata": {
    "ExecuteTime": {
     "end_time": "2022-02-14T14:36:21.349994Z",
     "start_time": "2022-02-14T14:36:21.341021Z"
    }
   },
   "outputs": [],
   "source": [
    "def plot_summarize(dfs, columns, meta_batch_size, batch_size):\n",
    "    dfs[0] = dfs[0].groupby(np.arange(len(dfs[0])) // meta_batch_size).mean()\n",
    "    \n",
    "    dfs[1].columns = list(dfs[1].columns[1:]) + ['model_name']\n",
    "    valid = dfs[1].groupby('model_name', as_index=False)[dfs[1].columns].mean()\n",
    "    valid['iter'] = valid['model_name'].apply(\n",
    "        lambda x: int(x[x.index('_') + 1:-3]))\n",
    "    valid.sort_values(by=['iter'], inplace=True)\n",
    "    valid.drop(columns=['model_name'], inplace=True)\n",
    "    valid['accuracy'] = 100 * valid['accuracy'] \n",
    "\n",
    "    dfs[2].columns = list(dfs[2].columns[1:]) + ['model_name']\n",
    "    test = dfs[2].groupby('model_name', as_index=False)[dfs[2].columns].mean()\n",
    "    test['iter'] = test['model_name'].apply(\n",
    "        lambda x: int(x[x.index('_') + 1:-3]))\n",
    "    test['accuracy'] = 100 * test['accuracy']\n",
    "    test.drop(columns=['model_name'], inplace=True)\n",
    "    test.sort_values(by=['iter'], inplace=True)\n",
    "\n",
    "    # Summarizing best valid & test scores\n",
    "    ind = valid[valid['accuracy'] == valid['accuracy'].max()]['iter'].values[0]\n",
    "    t = dfs[1][dfs[1]['model_name'] == 'model_' + str(ind) + '.pt']\n",
    "    t['accuracy'] = 100 * t['accuracy']\n",
    "    print('Validation Metrics Stats of Best Model at {}-th Iteration'.format(ind))\n",
    "    display(t.describe())\n",
    "    t = dfs[2][dfs[2]['model_name'] == 'model_' + str(ind) + '.pt']\n",
    "    t['accuracy'] = 100 * t['accuracy']\n",
    "    print('Test Metrics Stats of Best Val-picked Model at {}-th Iteration'.format(ind))\n",
    "    display(t.describe())\n",
    "    \n",
    "    ind = test[test['accuracy'] == test['accuracy'].max()]['iter'].values[0]\n",
    "    t = dfs[2][dfs[2]['model_name'] == 'model_' + str(ind) + '.pt']\n",
    "    t['accuracy'] = 100 * t['accuracy']\n",
    "    print('Test Metrics Stats of Best Model at {}-th Iteration'.format(ind))\n",
    "    display(t.describe())\n",
    "\n",
    "    dfs[0].drop(columns=['task'], inplace=True)\n",
    "    dfs[0].reset_index(drop=True, inplace=True)\n",
    "    valid.reset_index(drop=True, inplace=True)\n",
    "    dfs[0].columns = [str(c)+'_train' for c in columns]\n",
    "    dfs[0]['accuracy_train'] = 100 * dfs[0]['accuracy_train']\n",
    "    dfs[0]['iter'] = dfs[0].index\n",
    "    \n",
    "    # Plotting\n",
    "    ctv = [str(c)+'_train' for c in columns]\n",
    "    fig = px.line(dfs[0], x=dfs[0].index, y=ctv)\n",
    "    # figure this test.columns format and how to name\n",
    "    fig.add_scatter(x=test['iter'], y=test['accuracy'], name='accuracy_test')\n",
    "    fig.add_scatter(x=valid['iter'], y=valid['accuracy'], name='accuracy_valid')\n",
    "    fig.show()\n",
    "\n",
    "    #return df, test"
   ]
  },
  {
   "cell_type": "code",
   "execution_count": 7,
   "metadata": {
    "ExecuteTime": {
     "end_time": "2022-02-14T14:36:21.356937Z",
     "start_time": "2022-02-14T14:36:21.351297Z"
    }
   },
   "outputs": [],
   "source": [
    "def plot_summarize_old(dfs, columns, meta_batch_size):\n",
    "    dfs[0] = dfs[0].groupby(np.arange(len(dfs[0])) // meta_batch_size).mean()\n",
    "    dfs[0].reset_index(drop=True, inplace=True)\n",
    "    dfs[1].reset_index(drop=True, inplace=True)\n",
    "    df = pd.concat([dfs[0][columns], dfs[1][columns]], axis=1)\n",
    "    df.columns = [str(c)+'_train' for c in columns] + \\\n",
    "        [str(c)+'_valid' for c in columns]\n",
    "    df[['accuracy_train', 'accuracy_valid']] = 100 * \\\n",
    "        df[['accuracy_train', 'accuracy_valid']]\n",
    "    df['iter'] = df.index\n",
    "\n",
    "    dfs[2].columns = list(dfs[2].columns[1:]) + ['model_name']\n",
    "    test = dfs[2].groupby('model_name', as_index=False)[dfs[2].columns].mean()\n",
    "    test['iter'] = test['model_name'].apply(\n",
    "        lambda x: int(x[x.index('_') + 1:-3]))\n",
    "    test['accuracy'] = 100 * test['accuracy']\n",
    "    test.drop(columns=['model_name'], inplace=True)\n",
    "    test.sort_values(by=['iter'], inplace=True)\n",
    "\n",
    "    # Summarizing test scores\n",
    "    ind = test[test['accuracy'] == test['accuracy'].max()]['iter'].values[0]\n",
    "    t = dfs[2][dfs[2]['model_name'] == 'model_' + str(ind) + '.pt']\n",
    "    t['accuracy'] = 100 * t['accuracy']\n",
    "    print('Test Metrics Stats of Best Model at {}-th Iteration'.format(ind))\n",
    "    display(t.describe())\n",
    "\n",
    "    # Plotting\n",
    "    ctv = [str(c)+'_train' for c in columns] + \\\n",
    "        [str(c)+'_valid' for c in columns]\n",
    "    fig = px.line(df, x=df.index, y=ctv)\n",
    "    # figure this test.columns format and how to name\n",
    "    fig.add_scatter(x=test['iter'], y=test['accuracy'], name='accuracy_test')\n",
    "    fig.show()\n",
    "\n",
    "    return df, test"
   ]
  },
  {
   "cell_type": "code",
   "execution_count": 8,
   "metadata": {
    "ExecuteTime": {
     "end_time": "2022-02-14T14:36:21.362452Z",
     "start_time": "2022-02-14T14:36:21.358505Z"
    }
   },
   "outputs": [],
   "source": [
    "def viz_images(experiment, epoch, mode):\n",
    "    images = torch.load(\n",
    "        '/home/anuj/Desktop/Work/TU_Delft/research/implement/learning_to_meta-learn/logs/DELPO_{}_5-way_5-shot_15-queries/{}/images_epoch-{}_{}.pt'.format(experiment[1], experiment[0], epoch, mode))\n",
    "    \n",
    "    fig1 = px.imshow(np.array(images['gt_examples'].permute(0,2,3,1))[::15], facet_col=0 ,facet_col_wrap=5)\n",
    "    fig2 = px.imshow(np.array(images['reconst_examples'].permute(0,2,3,1))[::15], facet_col=0 ,facet_col_wrap=5)\n",
    "\n",
    "    fig1.show()\n",
    "    fig2.show()"
   ]
  },
  {
   "cell_type": "code",
   "execution_count": 9,
   "metadata": {
    "ExecuteTime": {
     "end_time": "2022-02-14T14:36:21.370482Z",
     "start_time": "2022-02-14T14:36:21.364618Z"
    }
   },
   "outputs": [],
   "source": [
    "def viz_latents(experiment, epoch, mode):\n",
    "\n",
    "    #Only visualizing the image-latent-gaussian distribution mu's\n",
    "    latents = torch.load(\n",
    "        '/home/anuj/Desktop/Work/TU_Delft/research/implement/learning_to_meta-learn/logs/DELPO_{}_5-way_5-shot_15-queries/{}/latents_epoch-{}_{}.pt'.format(experiment[1], experiment[0], epoch, mode))\n",
    "    df = pd.DataFrame(np.array(latents['label_latents'][0]))\n",
    "    df['class'] = pd.Series(list(np.full((15,), 0)) + list(np.full((15,), 1)) + list(\n",
    "        np.full((15,), 2)) + list(np.full((15,), 3)) + list(np.full((15,), 4)))\n",
    "    features = df.iloc[:, :-1]\n",
    "\n",
    "    umap = UMAP(n_components=3, init='random', random_state=0)\n",
    "\n",
    "    proj_2d = umap.fit_transform(features)\n",
    "\n",
    "    fig_3d = px.scatter_3d(\n",
    "        proj_2d, x=0, y=1, z=2,\n",
    "        color=df['class'], labels={'color': 'class'}\n",
    "    )\n",
    "    fig_3d.show()\n"
   ]
  },
  {
   "cell_type": "markdown",
   "metadata": {},
   "source": [
    "# MiniImagenet: 5-way, 1-shot, 15-queries - Vanilla"
   ]
  },
  {
   "cell_type": "code",
   "execution_count": null,
   "metadata": {
    "ExecuteTime": {
     "end_time": "2021-12-15T14:58:48.848054Z",
     "start_time": "2021-12-15T14:58:47.274675Z"
    }
   },
   "outputs": [],
   "source": [
    "df_train = pd.read_csv('./logs/DELPO_miniimagenet_5-way_1-shot_15-queries/vanilla/train2.csv')\n",
    "df_valid = pd.read_csv('./logs/DELPO_miniimagenet_5-way_1-shot_15-queries/vanilla/valid_all2.csv')\n",
    "df_test = pd.read_csv('./logs/DELPO_miniimagenet_5-way_1-shot_15-queries/vanilla/test_all2.csv')\n",
    "df_test = df_test[~(df_test['CE_Loss'] == 'model_last.pt')]\n",
    "df_valid = df_valid[~(df_valid['CE_Loss'] == 'model_last.pt')]"
   ]
  },
  {
   "cell_type": "code",
   "execution_count": null,
   "metadata": {
    "ExecuteTime": {
     "end_time": "2021-12-15T14:58:52.180629Z",
     "start_time": "2021-12-15T14:58:48.849760Z"
    },
    "scrolled": false
   },
   "outputs": [],
   "source": [
    "plot_summarize([df_train, df_valid, df_test], ['accuracy', 'ELBO', 'Label_KL', 'Style_KL', 'Reconst_Loss', 'CE_Loss'], 20, 500)"
   ]
  },
  {
   "cell_type": "code",
   "execution_count": null,
   "metadata": {},
   "outputs": [],
   "source": []
  },
  {
   "cell_type": "code",
   "execution_count": null,
   "metadata": {
    "ExecuteTime": {
     "end_time": "2021-12-14T07:40:38.400195Z",
     "start_time": "2021-12-14T07:40:30.026243Z"
    }
   },
   "outputs": [],
   "source": [
    "df_train = pd.read_csv('./logs/DELPO_miniimagenet_5-way_1-shot_10-queries/exp1-eaen/train.csv')\n",
    "df_train = df_train.groupby(np.arange(len(df_train)) // 20).mean()\n",
    "\n",
    "df_train1 = pd.read_csv('./logs/DELPO_miniimagenet_5-way_1-shot_15-queries/vanilla/train1.csv')\n",
    "df_train1 = df_train1.groupby(np.arange(len(df_train1)) // 20).mean()\n",
    "\n",
    "df_train2 = pd.read_csv('./logs/DELPO_miniimagenet_5-way_1-shot_15-queries/vanilla/train2.csv')\n",
    "df_train2 = df_train2.groupby(np.arange(len(df_train2)) // 20).mean()\n",
    "\n",
    "df_train3 = pd.read_csv('./logs/DELPO_miniimagenet_5-way_1-shot_15-queries/vanilla/train3.csv')\n",
    "df_train3 = df_train3.groupby(np.arange(len(df_train3)) // 20).mean()\n",
    "\n",
    "df_train = pd.concat([df_train, df_train1, df_train2, df_train3], axis=1)\n",
    "df_train = df_train['accuracy']\n",
    "df_train.columns = ['acc', 'acc1', 'acc2', 'acc3']\n",
    "#df_train.dropna(inplace=True)\n",
    "\n",
    "fig = px.line(df_train)\n",
    "fig.show()"
   ]
  },
  {
   "cell_type": "markdown",
   "metadata": {},
   "source": [
    "# MiniImagenet: 5-way, 1-shot, 10-queries - with TAD"
   ]
  },
  {
   "cell_type": "markdown",
   "metadata": {},
   "source": [
    "## TAFE "
   ]
  },
  {
   "cell_type": "code",
   "execution_count": null,
   "metadata": {
    "ExecuteTime": {
     "end_time": "2022-01-09T07:32:36.124340Z",
     "start_time": "2022-01-09T07:32:28.248847Z"
    }
   },
   "outputs": [],
   "source": [
    "df_train = pd.read_csv('./logs/DELPO_miniimagenet_5-way_1-shot_10-queries/exp1-eaen/train.csv')\n",
    "df_train = df_train.groupby(np.arange(len(df_train)) // 20).mean()\n",
    "\n",
    "df_train1 = pd.read_csv(f'./logs/DELPO_miniimagenet_5-way_1-shot_10-queries/exp1-tafe/train(wo relu)3.csv')\n",
    "df_train1 = df_train1.groupby(np.arange(len(df_train1)) // 20).mean()\n",
    "\n",
    "df_train2 = pd.read_csv(f'./logs/DELPO_miniimagenet_5-way_1-shot_10-queries/exp1-tafe/train(w relu)2.csv')\n",
    "df_train2 = df_train2.groupby(np.arange(len(df_train2)) // 20).mean()\n",
    "\n",
    "df_train = pd.concat([df_train, df_train1, df_train2], axis=1)\n",
    "df_train = df_train['accuracy']\n",
    "df_train.columns = ['acc1', 'acc2', 'acc3']\n",
    "#df_train.dropna(inplace=True)\n",
    "\n",
    "fig = px.line(df_train)\n",
    "fig.show()"
   ]
  },
  {
   "cell_type": "code",
   "execution_count": null,
   "metadata": {
    "ExecuteTime": {
     "end_time": "2022-01-27T12:42:24.070262Z",
     "start_time": "2022-01-27T12:42:22.822909Z"
    }
   },
   "outputs": [],
   "source": [
    "df_train = pd.read_csv(f'./logs/DELPO_miniimagenet_5-way_1-shot_10-queries/exp1-tafe/exp1-tafe(wo relu)/train.csv')\n",
    "df_valid = pd.read_csv(f'./logs/DELPO_miniimagenet_5-way_1-shot_10-queries/exp1-tafe/exp1-tafe(wo relu)/valid_all.csv')\n",
    "df_test = pd.read_csv(f'./logs/DELPO_miniimagenet_5-way_1-shot_10-queries/exp1-tafe/exp1-tafe(wo relu)/test_all.csv')\n",
    "df_test = df_test[~(df_test['CE_Loss'] == 'model_last.pt')]\n",
    "df_valid = df_valid[~(df_valid['CE_Loss'] == 'model_last.pt')]"
   ]
  },
  {
   "cell_type": "code",
   "execution_count": null,
   "metadata": {
    "ExecuteTime": {
     "end_time": "2022-01-27T12:43:24.348162Z",
     "start_time": "2022-01-27T12:43:24.322180Z"
    }
   },
   "outputs": [],
   "source": [
    "df_test2 = pd.read_csv(f'./logs/DELPO_miniimagenet_5-way_1-shot_10-queries/exp1-tafe/exp1-tafe(wo relu)/test_all2.csv')\n",
    "df_test3 = pd.read_csv(f'./logs/DELPO_miniimagenet_5-way_1-shot_10-queries/exp1-tafe/exp1-tafe(wo relu)/test_all3.csv')\n",
    "df_test4 = pd.read_csv(f'./logs/DELPO_miniimagenet_5-way_1-shot_10-queries/exp1-tafe/exp1-tafe(wo relu)/test_all4.csv')\n",
    "test_report([df_test2, df_test3, df_test4])"
   ]
  },
  {
   "cell_type": "code",
   "execution_count": null,
   "metadata": {
    "ExecuteTime": {
     "end_time": "2022-01-27T12:42:29.778939Z",
     "start_time": "2022-01-27T12:42:26.209055Z"
    },
    "scrolled": true
   },
   "outputs": [],
   "source": [
    "plot_summarize([df_train, df_valid, df_test], ['accuracy', 'ELBO', 'Label_KL', 'Style_KL', 'Reconst_Loss', 'CE_Loss'], 20, 500)"
   ]
  },
  {
   "cell_type": "code",
   "execution_count": null,
   "metadata": {
    "ExecuteTime": {
     "end_time": "2022-01-27T12:42:33.712359Z",
     "start_time": "2022-01-27T12:42:33.701404Z"
    }
   },
   "outputs": [],
   "source": [
    "conf_int(df_test[df_test['model_name'] == 'model_59500.pt']['accuracy'])"
   ]
  },
  {
   "cell_type": "markdown",
   "metadata": {},
   "source": [
    "**Works best without relu activations for QKV extraction. Finalize and test!**"
   ]
  },
  {
   "cell_type": "code",
   "execution_count": null,
   "metadata": {},
   "outputs": [],
   "source": []
  },
  {
   "cell_type": "markdown",
   "metadata": {},
   "source": [
    "### Prob Metrics "
   ]
  },
  {
   "cell_type": "code",
   "execution_count": 40,
   "metadata": {
    "ExecuteTime": {
     "end_time": "2022-02-15T01:01:29.108509Z",
     "start_time": "2022-02-15T01:01:28.789721Z"
    }
   },
   "outputs": [
    {
     "name": "stdout",
     "output_type": "stream",
     "text": [
      "0.005710097639615684 0.02383576637206064\n"
     ]
    },
    {
     "data": {
      "image/png": "[encoded data removed]",
      "text/plain": [
       "<Figure size 504x432 with 2 Axes>"
      ]
     },
     "metadata": {
      "needs_background": "light"
     },
     "output_type": "display_data"
    }
   ],
   "source": [
    "df_preds = pd.read_csv(\n",
    "    './logs/DELPO_miniimagenet_5-way_1-shot_10-queries/exp1-tafe/exp1-tafe(wo relu)/add_eval/preds.csv')\n",
    "ece, mce = prob_metrics(df_preds)\n",
    "print(ece,mce)"
   ]
  },
  {
   "cell_type": "code",
   "execution_count": 14,
   "metadata": {
    "ExecuteTime": {
     "end_time": "2022-02-14T14:40:03.349963Z",
     "start_time": "2022-02-14T14:40:03.153873Z"
    }
   },
   "outputs": [
    {
     "data": {
      "application/vnd.plotly.v1+json": {
       "config": {
        "plotlyServerURL": "https://plot.ly"
       },
       "data": [
        {
         "hovertemplate": "variable=accuracy<br>ELBO=%{x}<br>value=%{y}<extra></extra>",
         "legendgroup": "accuracy",
         "line": {
          "color": "#636efa",
          "dash": "solid"
         },
         "marker": {
          "symbol": "circle"
         },
         "mode": "lines",
         "name": "accuracy",
         "orientation": "v",
         "showlegend": true,
         "type": "scatter",
         "x": [
          "model_0.pt",
          "model_1000.pt",
          "model_10000.pt",
          "model_10500.pt",
          "model_11000.pt",
          "model_11500.pt",
          "model_12000.pt",
          "model_12500.pt",
          "model_13000.pt",
          "model_13500.pt",
          "model_14000.pt",
          "model_14500.pt",
          "model_1500.pt",
          "model_15000.pt",
          "model_15500.pt",
          "model_16000.pt",
          "model_16500.pt",
          "model_17000.pt",
          "model_17500.pt",
          "model_18000.pt",
          "model_18500.pt",
          "model_19000.pt",
          "model_19500.pt",
          "model_2000.pt",
          "model_20000.pt",
          "model_20500.pt",
          "model_21000.pt",
          "model_21500.pt",
          "model_22000.pt",
          "model_22500.pt",
          "model_23000.pt",
          "model_23500.pt",
          "model_24000.pt",
          "model_24500.pt",
          "model_2500.pt",
          "model_25000.pt",
          "model_25500.pt",
          "model_26000.pt",
          "model_26500.pt",
          "model_27000.pt",
          "model_27500.pt",
          "model_28000.pt",
          "model_28500.pt",
          "model_29000.pt",
          "model_29500.pt",
          "model_3000.pt",
          "model_30000.pt",
          "model_30500.pt",
          "model_31000.pt",
          "model_31500.pt",
          "model_32000.pt",
          "model_32500.pt",
          "model_33000.pt",
          "model_33500.pt",
          "model_34000.pt",
          "model_34500.pt",
          "model_3500.pt",
          "model_35000.pt",
          "model_35500.pt",
          "model_36000.pt",
          "model_36500.pt",
          "model_37000.pt",
          "model_37500.pt",
          "model_38000.pt",
          "model_38500.pt",
          "model_39000.pt",
          "model_39500.pt",
          "model_4000.pt",
          "model_40000.pt",
          "model_40500.pt",
          "model_41000.pt",
          "model_41500.pt",
          "model_42000.pt",
          "model_42500.pt",
          "model_43000.pt",
          "model_43500.pt",
          "model_44000.pt",
          "model_44500.pt",
          "model_4500.pt",
          "model_45000.pt",
          "model_45500.pt",
          "model_46000.pt",
          "model_46500.pt",
          "model_47000.pt",
          "model_47500.pt",
          "model_48000.pt",
          "model_48500.pt",
          "model_49000.pt",
          "model_49500.pt",
          "model_500.pt",
          "model_5000.pt",
          "model_50000.pt",
          "model_50500.pt",
          "model_51000.pt",
          "model_51500.pt",
          "model_52000.pt",
          "model_52500.pt",
          "model_53000.pt",
          "model_53500.pt",
          "model_54000.pt",
          "model_54500.pt",
          "model_5500.pt",
          "model_55000.pt",
          "model_55500.pt",
          "model_56000.pt",
          "model_56500.pt",
          "model_57000.pt",
          "model_57500.pt",
          "model_58000.pt",
          "model_58500.pt",
          "model_59000.pt",
          "model_59500.pt",
          "model_6000.pt",
          "model_6500.pt",
          "model_7000.pt",
          "model_7500.pt",
          "model_8000.pt",
          "model_8500.pt",
          "model_9000.pt",
          "model_9500.pt"
         ],
         "xaxis": "x",
         "y": [
          0.24673333875834938,
          0.24911111652851103,
          0.2589777834961811,
          0.2585333386311928,
          0.2614666717251141,
          0.2657555606712897,
          0.268955561046799,
          0.2695111168175936,
          0.27746667216221493,
          0.2707333391904831,
          0.278155561722815,
          0.2892888954033454,
          0.25097778248290215,
          0.29231111756215494,
          0.3089555625120799,
          0.32022222893933455,
          0.3236444517225027,
          0.342155563334624,
          0.3398000070328514,
          0.354466674476862,
          0.35182222972313565,
          0.3697333406905333,
          0.37148889700571697,
          0.26075556096931296,
          0.37917778658370177,
          0.38966667498151464,
          0.39084445292750997,
          0.39626667482157546,
          0.3945777866244316,
          0.39915556530157725,
          0.4125777873645226,
          0.40724445370336376,
          0.41155556400616966,
          0.41397778744498887,
          0.25988889450828234,
          0.418822232161959,
          0.4223555651555459,
          0.42540000977615516,
          0.43240000955760477,
          0.4321777880936861,
          0.432022231866916,
          0.4337777879834175,
          0.43882223290701705,
          0.43611112164954347,
          0.4390666776398818,
          0.2645111164698998,
          0.4454000099748373,
          0.43953334346413614,
          0.438088898807764,
          0.44404445541401705,
          0.4496666768193245,
          0.45137778781354426,
          0.45677778812746206,
          0.4458444540699323,
          0.4562222319344679,
          0.44831112183630467,
          0.261644450041155,
          0.44622223305205505,
          0.4485111215958993,
          0.453488899966081,
          0.45291112224260965,
          0.45271112129092217,
          0.4539111205935478,
          0.45891112138827644,
          0.4565777873744567,
          0.4582889011998971,
          0.4494889007260402,
          0.26528889422615365,
          0.4553333447128534,
          0.45206667703886827,
          0.4675333440552155,
          0.4566888993481795,
          0.45628889933228495,
          0.4602666787803173,
          0.4656222329288721,
          0.4650222329298655,
          0.45955556685725846,
          0.46188889888425666,
          0.2607111163685719,
          0.45644445486366747,
          0.458022233247757,
          0.4592000105728706,
          0.4579777877777815,
          0.46551112247010074,
          0.4577555662890275,
          0.4602222334593534,
          0.4552666775882244,
          0.45682223382095494,
          0.4578222329169512,
          0.24971111626674733,
          0.2571333383396268,
          0.4548444548000892,
          0.4642666766792536,
          0.4589333441108465,
          0.45920001037418845,
          0.4670888998111089,
          0.46204445528487365,
          0.4562222330768903,
          0.46000001090268294,
          0.4665777887155612,
          0.46362223356962207,
          0.2580444496621688,
          0.4196222317467133,
          0.46811112254858017,
          0.4642444544037183,
          0.45926667732497056,
          0.449555565888683,
          0.46268890000879764,
          0.45957778826355933,
          0.4582666775584221,
          0.4575333441297213,
          0.4628666766484578,
          0.2538888940711816,
          0.24920000487317637,
          0.24086667134116088,
          0.23477778291950618,
          0.23408889306088285,
          0.23842222727835177,
          0.24517778304715945,
          0.252022227148215
         ],
         "yaxis": "y"
        }
       ],
       "layout": {
        "legend": {
         "title": {
          "text": "variable"
         },
         "tracegroupgap": 0
        },
        "margin": {
         "t": 60
        },
        "template": {
         "data": {
          "bar": [
           {
            "error_x": {
             "color": "#2a3f5f"
            },
            "error_y": {
             "color": "#2a3f5f"
            },
            "marker": {
             "line": {
              "color": "#E5ECF6",
              "width": 0.5
             },
             "pattern": {
              "fillmode": "overlay",
              "size": 10,
              "solidity": 0.2
             }
            },
            "type": "bar"
           }
          ],
          "barpolar": [
           {
            "marker": {
             "line": {
              "color": "#E5ECF6",
              "width": 0.5
             },
             "pattern": {
              "fillmode": "overlay",
              "size": 10,
              "solidity": 0.2
             }
            },
            "type": "barpolar"
           }
          ],
          "carpet": [
           {
            "aaxis": {
             "endlinecolor": "#2a3f5f",
             "gridcolor": "white",
             "linecolor": "white",
             "minorgridcolor": "white",
             "startlinecolor": "#2a3f5f"
            },
            "baxis": {
             "endlinecolor": "#2a3f5f",
             "gridcolor": "white",
             "linecolor": "white",
             "minorgridcolor": "white",
             "startlinecolor": "#2a3f5f"
            },
            "type": "carpet"
           }
          ],
          "choropleth": [
           {
            "colorbar": {
             "outlinewidth": 0,
             "ticks": ""
            },
            "type": "choropleth"
           }
          ],
          "contour": [
           {
            "colorbar": {
             "outlinewidth": 0,
             "ticks": ""
            },
            "colorscale": [
             [
              0,
              "#0d0887"
             ],
             [
              0.1111111111111111,
              "#46039f"
             ],
             [
              0.2222222222222222,
              "#7201a8"
             ],
             [
              0.3333333333333333,
              "#9c179e"
             ],
             [
              0.4444444444444444,
              "#bd3786"
             ],
             [
              0.5555555555555556,
              "#d8576b"
             ],
             [
              0.6666666666666666,
              "#ed7953"
             ],
             [
              0.7777777777777778,
              "#fb9f3a"
             ],
             [
              0.8888888888888888,
              "#fdca26"
             ],
             [
              1,
              "#f0f921"
             ]
            ],
            "type": "contour"
           }
          ],
          "contourcarpet": [
           {
            "colorbar": {
             "outlinewidth": 0,
             "ticks": ""
            },
            "type": "contourcarpet"
           }
          ],
          "heatmap": [
           {
            "colorbar": {
             "outlinewidth": 0,
             "ticks": ""
            },
            "colorscale": [
             [
              0,
              "#0d0887"
             ],
             [
              0.1111111111111111,
              "#46039f"
             ],
             [
              0.2222222222222222,
              "#7201a8"
             ],
             [
              0.3333333333333333,
              "#9c179e"
             ],
             [
              0.4444444444444444,
              "#bd3786"
             ],
             [
              0.5555555555555556,
              "#d8576b"
             ],
             [
              0.6666666666666666,
              "#ed7953"
             ],
             [
              0.7777777777777778,
              "#fb9f3a"
             ],
             [
              0.8888888888888888,
              "#fdca26"
             ],
             [
              1,
              "#f0f921"
             ]
            ],
            "type": "heatmap"
           }
          ],
          "heatmapgl": [
           {
            "colorbar": {
             "outlinewidth": 0,
             "ticks": ""
            },
            "colorscale": [
             [
              0,
              "#0d0887"
             ],
             [
              0.1111111111111111,
              "#46039f"
             ],
             [
              0.2222222222222222,
              "#7201a8"
             ],
             [
              0.3333333333333333,
              "#9c179e"
             ],
             [
              0.4444444444444444,
              "#bd3786"
             ],
             [
              0.5555555555555556,
              "#d8576b"
             ],
             [
              0.6666666666666666,
              "#ed7953"
             ],
             [
              0.7777777777777778,
              "#fb9f3a"
             ],
             [
              0.8888888888888888,
              "#fdca26"
             ],
             [
              1,
              "#f0f921"
             ]
            ],
            "type": "heatmapgl"
           }
          ],
          "histogram": [
           {
            "marker": {
             "pattern": {
              "fillmode": "overlay",
              "size": 10,
              "solidity": 0.2
             }
            },
            "type": "histogram"
           }
          ],
          "histogram2d": [
           {
            "colorbar": {
             "outlinewidth": 0,
             "ticks": ""
            },
            "colorscale": [
             [
              0,
              "#0d0887"
             ],
             [
              0.1111111111111111,
              "#46039f"
             ],
             [
              0.2222222222222222,
              "#7201a8"
             ],
             [
              0.3333333333333333,
              "#9c179e"
             ],
             [
              0.4444444444444444,
              "#bd3786"
             ],
             [
              0.5555555555555556,
              "#d8576b"
             ],
             [
              0.6666666666666666,
              "#ed7953"
             ],
             [
              0.7777777777777778,
              "#fb9f3a"
             ],
             [
              0.8888888888888888,
              "#fdca26"
             ],
             [
              1,
              "#f0f921"
             ]
            ],
            "type": "histogram2d"
           }
          ],
          "histogram2dcontour": [
           {
            "colorbar": {
             "outlinewidth": 0,
             "ticks": ""
            },
            "colorscale": [
             [
              0,
              "#0d0887"
             ],
             [
              0.1111111111111111,
              "#46039f"
             ],
             [
              0.2222222222222222,
              "#7201a8"
             ],
             [
              0.3333333333333333,
              "#9c179e"
             ],
             [
              0.4444444444444444,
              "#bd3786"
             ],
             [
              0.5555555555555556,
              "#d8576b"
             ],
             [
              0.6666666666666666,
              "#ed7953"
             ],
             [
              0.7777777777777778,
              "#fb9f3a"
             ],
             [
              0.8888888888888888,
              "#fdca26"
             ],
             [
              1,
              "#f0f921"
             ]
            ],
            "type": "histogram2dcontour"
           }
          ],
          "mesh3d": [
           {
            "colorbar": {
             "outlinewidth": 0,
             "ticks": ""
            },
            "type": "mesh3d"
           }
          ],
          "parcoords": [
           {
            "line": {
             "colorbar": {
              "outlinewidth": 0,
              "ticks": ""
             }
            },
            "type": "parcoords"
           }
          ],
          "pie": [
           {
            "automargin": true,
            "type": "pie"
           }
          ],
          "scatter": [
           {
            "marker": {
             "colorbar": {
              "outlinewidth": 0,
              "ticks": ""
             }
            },
            "type": "scatter"
           }
          ],
          "scatter3d": [
           {
            "line": {
             "colorbar": {
              "outlinewidth": 0,
              "ticks": ""
             }
            },
            "marker": {
             "colorbar": {
              "outlinewidth": 0,
              "ticks": ""
             }
            },
            "type": "scatter3d"
           }
          ],
          "scattercarpet": [
           {
            "marker": {
             "colorbar": {
              "outlinewidth": 0,
              "ticks": ""
             }
            },
            "type": "scattercarpet"
           }
          ],
          "scattergeo": [
           {
            "marker": {
             "colorbar": {
              "outlinewidth": 0,
              "ticks": ""
             }
            },
            "type": "scattergeo"
           }
          ],
          "scattergl": [
           {
            "marker": {
             "colorbar": {
              "outlinewidth": 0,
              "ticks": ""
             }
            },
            "type": "scattergl"
           }
          ],
          "scattermapbox": [
           {
            "marker": {
             "colorbar": {
              "outlinewidth": 0,
              "ticks": ""
             }
            },
            "type": "scattermapbox"
           }
          ],
          "scatterpolar": [
           {
            "marker": {
             "colorbar": {
              "outlinewidth": 0,
              "ticks": ""
             }
            },
            "type": "scatterpolar"
           }
          ],
          "scatterpolargl": [
           {
            "marker": {
             "colorbar": {
              "outlinewidth": 0,
              "ticks": ""
             }
            },
            "type": "scatterpolargl"
           }
          ],
          "scatterternary": [
           {
            "marker": {
             "colorbar": {
              "outlinewidth": 0,
              "ticks": ""
             }
            },
            "type": "scatterternary"
           }
          ],
          "surface": [
           {
            "colorbar": {
             "outlinewidth": 0,
             "ticks": ""
            },
            "colorscale": [
             [
              0,
              "#0d0887"
             ],
             [
              0.1111111111111111,
              "#46039f"
             ],
             [
              0.2222222222222222,
              "#7201a8"
             ],
             [
              0.3333333333333333,
              "#9c179e"
             ],
             [
              0.4444444444444444,
              "#bd3786"
             ],
             [
              0.5555555555555556,
              "#d8576b"
             ],
             [
              0.6666666666666666,
              "#ed7953"
             ],
             [
              0.7777777777777778,
              "#fb9f3a"
             ],
             [
              0.8888888888888888,
              "#fdca26"
             ],
             [
              1,
              "#f0f921"
             ]
            ],
            "type": "surface"
           }
          ],
          "table": [
           {
            "cells": {
             "fill": {
              "color": "#EBF0F8"
             },
             "line": {
              "color": "white"
             }
            },
            "header": {
             "fill": {
              "color": "#C8D4E3"
             },
             "line": {
              "color": "white"
             }
            },
            "type": "table"
           }
          ]
         },
         "layout": {
          "annotationdefaults": {
           "arrowcolor": "#2a3f5f",
           "arrowhead": 0,
           "arrowwidth": 1
          },
          "autotypenumbers": "strict",
          "coloraxis": {
           "colorbar": {
            "outlinewidth": 0,
            "ticks": ""
           }
          },
          "colorscale": {
           "diverging": [
            [
             0,
             "#8e0152"
            ],
            [
             0.1,
             "#c51b7d"
            ],
            [
             0.2,
             "#de77ae"
            ],
            [
             0.3,
             "#f1b6da"
            ],
            [
             0.4,
             "#fde0ef"
            ],
            [
             0.5,
             "#f7f7f7"
            ],
            [
             0.6,
             "#e6f5d0"
            ],
            [
             0.7,
             "#b8e186"
            ],
            [
             0.8,
             "#7fbc41"
            ],
            [
             0.9,
             "#4d9221"
            ],
            [
             1,
             "#276419"
            ]
           ],
           "sequential": [
            [
             0,
             "#0d0887"
            ],
            [
             0.1111111111111111,
             "#46039f"
            ],
            [
             0.2222222222222222,
             "#7201a8"
            ],
            [
             0.3333333333333333,
             "#9c179e"
            ],
            [
             0.4444444444444444,
             "#bd3786"
            ],
            [
             0.5555555555555556,
             "#d8576b"
            ],
            [
             0.6666666666666666,
             "#ed7953"
            ],
            [
             0.7777777777777778,
             "#fb9f3a"
            ],
            [
             0.8888888888888888,
             "#fdca26"
            ],
            [
             1,
             "#f0f921"
            ]
           ],
           "sequentialminus": [
            [
             0,
             "#0d0887"
            ],
            [
             0.1111111111111111,
             "#46039f"
            ],
            [
             0.2222222222222222,
             "#7201a8"
            ],
            [
             0.3333333333333333,
             "#9c179e"
            ],
            [
             0.4444444444444444,
             "#bd3786"
            ],
            [
             0.5555555555555556,
             "#d8576b"
            ],
            [
             0.6666666666666666,
             "#ed7953"
            ],
            [
             0.7777777777777778,
             "#fb9f3a"
            ],
            [
             0.8888888888888888,
             "#fdca26"
            ],
            [
             1,
             "#f0f921"
            ]
           ]
          },
          "colorway": [
           "#636efa",
           "#EF553B",
           "#00cc96",
           "#ab63fa",
           "#FFA15A",
           "#19d3f3",
           "#FF6692",
           "#B6E880",
           "#FF97FF",
           "#FECB52"
          ],
          "font": {
           "color": "#2a3f5f"
          },
          "geo": {
           "bgcolor": "white",
           "lakecolor": "white",
           "landcolor": "#E5ECF6",
           "showlakes": true,
           "showland": true,
           "subunitcolor": "white"
          },
          "hoverlabel": {
           "align": "left"
          },
          "hovermode": "closest",
          "mapbox": {
           "style": "light"
          },
          "paper_bgcolor": "white",
          "plot_bgcolor": "#E5ECF6",
          "polar": {
           "angularaxis": {
            "gridcolor": "white",
            "linecolor": "white",
            "ticks": ""
           },
           "bgcolor": "#E5ECF6",
           "radialaxis": {
            "gridcolor": "white",
            "linecolor": "white",
            "ticks": ""
           }
          },
          "scene": {
           "xaxis": {
            "backgroundcolor": "#E5ECF6",
            "gridcolor": "white",
            "gridwidth": 2,
            "linecolor": "white",
            "showbackground": true,
            "ticks": "",
            "zerolinecolor": "white"
           },
           "yaxis": {
            "backgroundcolor": "#E5ECF6",
            "gridcolor": "white",
            "gridwidth": 2,
            "linecolor": "white",
            "showbackground": true,
            "ticks": "",
            "zerolinecolor": "white"
           },
           "zaxis": {
            "backgroundcolor": "#E5ECF6",
            "gridcolor": "white",
            "gridwidth": 2,
            "linecolor": "white",
            "showbackground": true,
            "ticks": "",
            "zerolinecolor": "white"
           }
          },
          "shapedefaults": {
           "line": {
            "color": "#2a3f5f"
           }
          },
          "ternary": {
           "aaxis": {
            "gridcolor": "white",
            "linecolor": "white",
            "ticks": ""
           },
           "baxis": {
            "gridcolor": "white",
            "linecolor": "white",
            "ticks": ""
           },
           "bgcolor": "#E5ECF6",
           "caxis": {
            "gridcolor": "white",
            "linecolor": "white",
            "ticks": ""
           }
          },
          "title": {
           "x": 0.05
          },
          "xaxis": {
           "automargin": true,
           "gridcolor": "white",
           "linecolor": "white",
           "ticks": "",
           "title": {
            "standoff": 15
           },
           "zerolinecolor": "white",
           "zerolinewidth": 2
          },
          "yaxis": {
           "automargin": true,
           "gridcolor": "white",
           "linecolor": "white",
           "ticks": "",
           "title": {
            "standoff": 15
           },
           "zerolinecolor": "white",
           "zerolinewidth": 2
          }
         }
        },
        "xaxis": {
         "anchor": "y",
         "domain": [
          0,
          1
         ],
         "title": {
          "text": "ELBO"
         }
        },
        "yaxis": {
         "anchor": "x",
         "domain": [
          0,
          1
         ],
         "title": {
          "text": "value"
         }
        }
       }
      },
      "text/html": [
       "<div>                            <div id=\"ba1e5a54-356a-408f-b14e-bb2072924614\" class=\"plotly-graph-div\" style=\"height:525px; width:100%;\"></div>            <script type=\"text/javascript\">                require([\"plotly\"], function(Plotly) {                    window.PLOTLYENV=window.PLOTLYENV || {};                                    if (document.getElementById(\"ba1e5a54-356a-408f-b14e-bb2072924614\")) {                    Plotly.newPlot(                        \"ba1e5a54-356a-408f-b14e-bb2072924614\",                        [{\"hovertemplate\":\"variable=accuracy<br>ELBO=%{x}<br>value=%{y}<extra></extra>\",\"legendgroup\":\"accuracy\",\"line\":{\"color\":\"#636efa\",\"dash\":\"solid\"},\"marker\":{\"symbol\":\"circle\"},\"mode\":\"lines\",\"name\":\"accuracy\",\"orientation\":\"v\",\"showlegend\":true,\"x\":[\"model_0.pt\",\"model_1000.pt\",\"model_10000.pt\",\"model_10500.pt\",\"model_11000.pt\",\"model_11500.pt\",\"model_12000.pt\",\"model_12500.pt\",\"model_13000.pt\",\"model_13500.pt\",\"model_14000.pt\",\"model_14500.pt\",\"model_1500.pt\",\"model_15000.pt\",\"model_15500.pt\",\"model_16000.pt\",\"model_16500.pt\",\"model_17000.pt\",\"model_17500.pt\",\"model_18000.pt\",\"model_18500.pt\",\"model_19000.pt\",\"model_19500.pt\",\"model_2000.pt\",\"model_20000.pt\",\"model_20500.pt\",\"model_21000.pt\",\"model_21500.pt\",\"model_22000.pt\",\"model_22500.pt\",\"model_23000.pt\",\"model_23500.pt\",\"model_24000.pt\",\"model_24500.pt\",\"model_2500.pt\",\"model_25000.pt\",\"model_25500.pt\",\"model_26000.pt\",\"model_26500.pt\",\"model_27000.pt\",\"model_27500.pt\",\"model_28000.pt\",\"model_28500.pt\",\"model_29000.pt\",\"model_29500.pt\",\"model_3000.pt\",\"model_30000.pt\",\"model_30500.pt\",\"model_31000.pt\",\"model_31500.pt\",\"model_32000.pt\",\"model_32500.pt\",\"model_33000.pt\",\"model_33500.pt\",\"model_34000.pt\",\"model_34500.pt\",\"model_3500.pt\",\"model_35000.pt\",\"model_35500.pt\",\"model_36000.pt\",\"model_36500.pt\",\"model_37000.pt\",\"model_37500.pt\",\"model_38000.pt\",\"model_38500.pt\",\"model_39000.pt\",\"model_39500.pt\",\"model_4000.pt\",\"model_40000.pt\",\"model_40500.pt\",\"model_41000.pt\",\"model_41500.pt\",\"model_42000.pt\",\"model_42500.pt\",\"model_43000.pt\",\"model_43500.pt\",\"model_44000.pt\",\"model_44500.pt\",\"model_4500.pt\",\"model_45000.pt\",\"model_45500.pt\",\"model_46000.pt\",\"model_46500.pt\",\"model_47000.pt\",\"model_47500.pt\",\"model_48000.pt\",\"model_48500.pt\",\"model_49000.pt\",\"model_49500.pt\",\"model_500.pt\",\"model_5000.pt\",\"model_50000.pt\",\"model_50500.pt\",\"model_51000.pt\",\"model_51500.pt\",\"model_52000.pt\",\"model_52500.pt\",\"model_53000.pt\",\"model_53500.pt\",\"model_54000.pt\",\"model_54500.pt\",\"model_5500.pt\",\"model_55000.pt\",\"model_55500.pt\",\"model_56000.pt\",\"model_56500.pt\",\"model_57000.pt\",\"model_57500.pt\",\"model_58000.pt\",\"model_58500.pt\",\"model_59000.pt\",\"model_59500.pt\",\"model_6000.pt\",\"model_6500.pt\",\"model_7000.pt\",\"model_7500.pt\",\"model_8000.pt\",\"model_8500.pt\",\"model_9000.pt\",\"model_9500.pt\"],\"xaxis\":\"x\",\"y\":[0.24673333875834938,0.24911111652851103,0.2589777834961811,0.2585333386311928,0.2614666717251141,0.2657555606712897,0.268955561046799,0.2695111168175936,0.27746667216221493,0.2707333391904831,0.278155561722815,0.2892888954033454,0.25097778248290215,0.29231111756215494,0.3089555625120799,0.32022222893933455,0.3236444517225027,0.342155563334624,0.3398000070328514,0.354466674476862,0.35182222972313565,0.3697333406905333,0.37148889700571697,0.26075556096931296,0.37917778658370177,0.38966667498151464,0.39084445292750997,0.39626667482157546,0.3945777866244316,0.39915556530157725,0.4125777873645226,0.40724445370336376,0.41155556400616966,0.41397778744498887,0.25988889450828234,0.418822232161959,0.4223555651555459,0.42540000977615516,0.43240000955760477,0.4321777880936861,0.432022231866916,0.4337777879834175,0.43882223290701705,0.43611112164954347,0.4390666776398818,0.2645111164698998,0.4454000099748373,0.43953334346413614,0.438088898807764,0.44404445541401705,0.4496666768193245,0.45137778781354426,0.45677778812746206,0.4458444540699323,0.4562222319344679,0.44831112183630467,0.261644450041155,0.44622223305205505,0.4485111215958993,0.453488899966081,0.45291112224260965,0.45271112129092217,0.4539111205935478,0.45891112138827644,0.4565777873744567,0.4582889011998971,0.4494889007260402,0.26528889422615365,0.4553333447128534,0.45206667703886827,0.4675333440552155,0.4566888993481795,0.45628889933228495,0.4602666787803173,0.4656222329288721,0.4650222329298655,0.45955556685725846,0.46188889888425666,0.2607111163685719,0.45644445486366747,0.458022233247757,0.4592000105728706,0.4579777877777815,0.46551112247010074,0.4577555662890275,0.4602222334593534,0.4552666775882244,0.45682223382095494,0.4578222329169512,0.24971111626674733,0.2571333383396268,0.4548444548000892,0.4642666766792536,0.4589333441108465,0.45920001037418845,0.4670888998111089,0.46204445528487365,0.4562222330768903,0.46000001090268294,0.4665777887155612,0.46362223356962207,0.2580444496621688,0.4196222317467133,0.46811112254858017,0.4642444544037183,0.45926667732497056,0.449555565888683,0.46268890000879764,0.45957778826355933,0.4582666775584221,0.4575333441297213,0.4628666766484578,0.2538888940711816,0.24920000487317637,0.24086667134116088,0.23477778291950618,0.23408889306088285,0.23842222727835177,0.24517778304715945,0.252022227148215],\"yaxis\":\"y\",\"type\":\"scatter\"}],                        {\"template\":{\"data\":{\"bar\":[{\"error_x\":{\"color\":\"#2a3f5f\"},\"error_y\":{\"color\":\"#2a3f5f\"},\"marker\":{\"line\":{\"color\":\"#E5ECF6\",\"width\":0.5},\"pattern\":{\"fillmode\":\"overlay\",\"size\":10,\"solidity\":0.2}},\"type\":\"bar\"}],\"barpolar\":[{\"marker\":{\"line\":{\"color\":\"#E5ECF6\",\"width\":0.5},\"pattern\":{\"fillmode\":\"overlay\",\"size\":10,\"solidity\":0.2}},\"type\":\"barpolar\"}],\"carpet\":[{\"aaxis\":{\"endlinecolor\":\"#2a3f5f\",\"gridcolor\":\"white\",\"linecolor\":\"white\",\"minorgridcolor\":\"white\",\"startlinecolor\":\"#2a3f5f\"},\"baxis\":{\"endlinecolor\":\"#2a3f5f\",\"gridcolor\":\"white\",\"linecolor\":\"white\",\"minorgridcolor\":\"white\",\"startlinecolor\":\"#2a3f5f\"},\"type\":\"carpet\"}],\"choropleth\":[{\"colorbar\":{\"outlinewidth\":0,\"ticks\":\"\"},\"type\":\"choropleth\"}],\"contour\":[{\"colorbar\":{\"outlinewidth\":0,\"ticks\":\"\"},\"colorscale\":[[0.0,\"#0d0887\"],[0.1111111111111111,\"#46039f\"],[0.2222222222222222,\"#7201a8\"],[0.3333333333333333,\"#9c179e\"],[0.4444444444444444,\"#bd3786\"],[0.5555555555555556,\"#d8576b\"],[0.6666666666666666,\"#ed7953\"],[0.7777777777777778,\"#fb9f3a\"],[0.8888888888888888,\"#fdca26\"],[1.0,\"#f0f921\"]],\"type\":\"contour\"}],\"contourcarpet\":[{\"colorbar\":{\"outlinewidth\":0,\"ticks\":\"\"},\"type\":\"contourcarpet\"}],\"heatmap\":[{\"colorbar\":{\"outlinewidth\":0,\"ticks\":\"\"},\"colorscale\":[[0.0,\"#0d0887\"],[0.1111111111111111,\"#46039f\"],[0.2222222222222222,\"#7201a8\"],[0.3333333333333333,\"#9c179e\"],[0.4444444444444444,\"#bd3786\"],[0.5555555555555556,\"#d8576b\"],[0.6666666666666666,\"#ed7953\"],[0.7777777777777778,\"#fb9f3a\"],[0.8888888888888888,\"#fdca26\"],[1.0,\"#f0f921\"]],\"type\":\"heatmap\"}],\"heatmapgl\":[{\"colorbar\":{\"outlinewidth\":0,\"ticks\":\"\"},\"colorscale\":[[0.0,\"#0d0887\"],[0.1111111111111111,\"#46039f\"],[0.2222222222222222,\"#7201a8\"],[0.3333333333333333,\"#9c179e\"],[0.4444444444444444,\"#bd3786\"],[0.5555555555555556,\"#d8576b\"],[0.6666666666666666,\"#ed7953\"],[0.7777777777777778,\"#fb9f3a\"],[0.8888888888888888,\"#fdca26\"],[1.0,\"#f0f921\"]],\"type\":\"heatmapgl\"}],\"histogram\":[{\"marker\":{\"pattern\":{\"fillmode\":\"overlay\",\"size\":10,\"solidity\":0.2}},\"type\":\"histogram\"}],\"histogram2d\":[{\"colorbar\":{\"outlinewidth\":0,\"ticks\":\"\"},\"colorscale\":[[0.0,\"#0d0887\"],[0.1111111111111111,\"#46039f\"],[0.2222222222222222,\"#7201a8\"],[0.3333333333333333,\"#9c179e\"],[0.4444444444444444,\"#bd3786\"],[0.5555555555555556,\"#d8576b\"],[0.6666666666666666,\"#ed7953\"],[0.7777777777777778,\"#fb9f3a\"],[0.8888888888888888,\"#fdca26\"],[1.0,\"#f0f921\"]],\"type\":\"histogram2d\"}],\"histogram2dcontour\":[{\"colorbar\":{\"outlinewidth\":0,\"ticks\":\"\"},\"colorscale\":[[0.0,\"#0d0887\"],[0.1111111111111111,\"#46039f\"],[0.2222222222222222,\"#7201a8\"],[0.3333333333333333,\"#9c179e\"],[0.4444444444444444,\"#bd3786\"],[0.5555555555555556,\"#d8576b\"],[0.6666666666666666,\"#ed7953\"],[0.7777777777777778,\"#fb9f3a\"],[0.8888888888888888,\"#fdca26\"],[1.0,\"#f0f921\"]],\"type\":\"histogram2dcontour\"}],\"mesh3d\":[{\"colorbar\":{\"outlinewidth\":0,\"ticks\":\"\"},\"type\":\"mesh3d\"}],\"parcoords\":[{\"line\":{\"colorbar\":{\"outlinewidth\":0,\"ticks\":\"\"}},\"type\":\"parcoords\"}],\"pie\":[{\"automargin\":true,\"type\":\"pie\"}],\"scatter\":[{\"marker\":{\"colorbar\":{\"outlinewidth\":0,\"ticks\":\"\"}},\"type\":\"scatter\"}],\"scatter3d\":[{\"line\":{\"colorbar\":{\"outlinewidth\":0,\"ticks\":\"\"}},\"marker\":{\"colorbar\":{\"outlinewidth\":0,\"ticks\":\"\"}},\"type\":\"scatter3d\"}],\"scattercarpet\":[{\"marker\":{\"colorbar\":{\"outlinewidth\":0,\"ticks\":\"\"}},\"type\":\"scattercarpet\"}],\"scattergeo\":[{\"marker\":{\"colorbar\":{\"outlinewidth\":0,\"ticks\":\"\"}},\"type\":\"scattergeo\"}],\"scattergl\":[{\"marker\":{\"colorbar\":{\"outlinewidth\":0,\"ticks\":\"\"}},\"type\":\"scattergl\"}],\"scattermapbox\":[{\"marker\":{\"colorbar\":{\"outlinewidth\":0,\"ticks\":\"\"}},\"type\":\"scattermapbox\"}],\"scatterpolar\":[{\"marker\":{\"colorbar\":{\"outlinewidth\":0,\"ticks\":\"\"}},\"type\":\"scatterpolar\"}],\"scatterpolargl\":[{\"marker\":{\"colorbar\":{\"outlinewidth\":0,\"ticks\":\"\"}},\"type\":\"scatterpolargl\"}],\"scatterternary\":[{\"marker\":{\"colorbar\":{\"outlinewidth\":0,\"ticks\":\"\"}},\"type\":\"scatterternary\"}],\"surface\":[{\"colorbar\":{\"outlinewidth\":0,\"ticks\":\"\"},\"colorscale\":[[0.0,\"#0d0887\"],[0.1111111111111111,\"#46039f\"],[0.2222222222222222,\"#7201a8\"],[0.3333333333333333,\"#9c179e\"],[0.4444444444444444,\"#bd3786\"],[0.5555555555555556,\"#d8576b\"],[0.6666666666666666,\"#ed7953\"],[0.7777777777777778,\"#fb9f3a\"],[0.8888888888888888,\"#fdca26\"],[1.0,\"#f0f921\"]],\"type\":\"surface\"}],\"table\":[{\"cells\":{\"fill\":{\"color\":\"#EBF0F8\"},\"line\":{\"color\":\"white\"}},\"header\":{\"fill\":{\"color\":\"#C8D4E3\"},\"line\":{\"color\":\"white\"}},\"type\":\"table\"}]},\"layout\":{\"annotationdefaults\":{\"arrowcolor\":\"#2a3f5f\",\"arrowhead\":0,\"arrowwidth\":1},\"autotypenumbers\":\"strict\",\"coloraxis\":{\"colorbar\":{\"outlinewidth\":0,\"ticks\":\"\"}},\"colorscale\":{\"diverging\":[[0,\"#8e0152\"],[0.1,\"#c51b7d\"],[0.2,\"#de77ae\"],[0.3,\"#f1b6da\"],[0.4,\"#fde0ef\"],[0.5,\"#f7f7f7\"],[0.6,\"#e6f5d0\"],[0.7,\"#b8e186\"],[0.8,\"#7fbc41\"],[0.9,\"#4d9221\"],[1,\"#276419\"]],\"sequential\":[[0.0,\"#0d0887\"],[0.1111111111111111,\"#46039f\"],[0.2222222222222222,\"#7201a8\"],[0.3333333333333333,\"#9c179e\"],[0.4444444444444444,\"#bd3786\"],[0.5555555555555556,\"#d8576b\"],[0.6666666666666666,\"#ed7953\"],[0.7777777777777778,\"#fb9f3a\"],[0.8888888888888888,\"#fdca26\"],[1.0,\"#f0f921\"]],\"sequentialminus\":[[0.0,\"#0d0887\"],[0.1111111111111111,\"#46039f\"],[0.2222222222222222,\"#7201a8\"],[0.3333333333333333,\"#9c179e\"],[0.4444444444444444,\"#bd3786\"],[0.5555555555555556,\"#d8576b\"],[0.6666666666666666,\"#ed7953\"],[0.7777777777777778,\"#fb9f3a\"],[0.8888888888888888,\"#fdca26\"],[1.0,\"#f0f921\"]]},\"colorway\":[\"#636efa\",\"#EF553B\",\"#00cc96\",\"#ab63fa\",\"#FFA15A\",\"#19d3f3\",\"#FF6692\",\"#B6E880\",\"#FF97FF\",\"#FECB52\"],\"font\":{\"color\":\"#2a3f5f\"},\"geo\":{\"bgcolor\":\"white\",\"lakecolor\":\"white\",\"landcolor\":\"#E5ECF6\",\"showlakes\":true,\"showland\":true,\"subunitcolor\":\"white\"},\"hoverlabel\":{\"align\":\"left\"},\"hovermode\":\"closest\",\"mapbox\":{\"style\":\"light\"},\"paper_bgcolor\":\"white\",\"plot_bgcolor\":\"#E5ECF6\",\"polar\":{\"angularaxis\":{\"gridcolor\":\"white\",\"linecolor\":\"white\",\"ticks\":\"\"},\"bgcolor\":\"#E5ECF6\",\"radialaxis\":{\"gridcolor\":\"white\",\"linecolor\":\"white\",\"ticks\":\"\"}},\"scene\":{\"xaxis\":{\"backgroundcolor\":\"#E5ECF6\",\"gridcolor\":\"white\",\"gridwidth\":2,\"linecolor\":\"white\",\"showbackground\":true,\"ticks\":\"\",\"zerolinecolor\":\"white\"},\"yaxis\":{\"backgroundcolor\":\"#E5ECF6\",\"gridcolor\":\"white\",\"gridwidth\":2,\"linecolor\":\"white\",\"showbackground\":true,\"ticks\":\"\",\"zerolinecolor\":\"white\"},\"zaxis\":{\"backgroundcolor\":\"#E5ECF6\",\"gridcolor\":\"white\",\"gridwidth\":2,\"linecolor\":\"white\",\"showbackground\":true,\"ticks\":\"\",\"zerolinecolor\":\"white\"}},\"shapedefaults\":{\"line\":{\"color\":\"#2a3f5f\"}},\"ternary\":{\"aaxis\":{\"gridcolor\":\"white\",\"linecolor\":\"white\",\"ticks\":\"\"},\"baxis\":{\"gridcolor\":\"white\",\"linecolor\":\"white\",\"ticks\":\"\"},\"bgcolor\":\"#E5ECF6\",\"caxis\":{\"gridcolor\":\"white\",\"linecolor\":\"white\",\"ticks\":\"\"}},\"title\":{\"x\":0.05},\"xaxis\":{\"automargin\":true,\"gridcolor\":\"white\",\"linecolor\":\"white\",\"ticks\":\"\",\"title\":{\"standoff\":15},\"zerolinecolor\":\"white\",\"zerolinewidth\":2},\"yaxis\":{\"automargin\":true,\"gridcolor\":\"white\",\"linecolor\":\"white\",\"ticks\":\"\",\"title\":{\"standoff\":15},\"zerolinecolor\":\"white\",\"zerolinewidth\":2}}},\"xaxis\":{\"anchor\":\"y\",\"domain\":[0.0,1.0],\"title\":{\"text\":\"ELBO\"}},\"yaxis\":{\"anchor\":\"x\",\"domain\":[0.0,1.0],\"title\":{\"text\":\"value\"}},\"legend\":{\"title\":{\"text\":\"variable\"},\"tracegroupgap\":0},\"margin\":{\"t\":60}},                        {\"responsive\": true}                    ).then(function(){\n",
       "                            \n",
       "var gd = document.getElementById('ba1e5a54-356a-408f-b14e-bb2072924614');\n",
       "var x = new MutationObserver(function (mutations, observer) {{\n",
       "        var display = window.getComputedStyle(gd).display;\n",
       "        if (!display || display === 'none') {{\n",
       "            console.log([gd, 'removed!']);\n",
       "            Plotly.purge(gd);\n",
       "            observer.disconnect();\n",
       "        }}\n",
       "}});\n",
       "\n",
       "// Listen for the removal of the full notebook cells\n",
       "var notebookContainer = gd.closest('#notebook-container');\n",
       "if (notebookContainer) {{\n",
       "    x.observe(notebookContainer, {childList: true});\n",
       "}}\n",
       "\n",
       "// Listen for the clearing of the current output cell\n",
       "var outputEl = gd.closest('.output');\n",
       "if (outputEl) {{\n",
       "    x.observe(outputEl, {childList: true});\n",
       "}}\n",
       "\n",
       "                        })                };                });            </script>        </div>"
      ]
     },
     "metadata": {},
     "output_type": "display_data"
    }
   ],
   "source": [
    "df_train = pd.read_csv('./logs/MAML/train.csv')\n",
    "df_test = pd.read_csv('./logs/MAML/test.csv')\n",
    "df_train = df_train.groupby(np.arange(len(df_train)) // 4).mean()\n",
    "df_train = df_train['accuracy']\n",
    "df_test = df_test.groupby('ELBO').mean()\n",
    "df_test = df_test['accuracy']\n",
    "fig = px.line(df_test)\n",
    "fig.show()"
   ]
  },
  {
   "cell_type": "code",
   "execution_count": 15,
   "metadata": {
    "ExecuteTime": {
     "end_time": "2022-02-14T14:40:21.002766Z",
     "start_time": "2022-02-14T14:40:20.987997Z"
    }
   },
   "outputs": [
    {
     "data": {
      "text/plain": [
       "ELBO\n",
       "model_0.pt        0.246733\n",
       "model_1000.pt     0.249111\n",
       "model_10000.pt    0.258978\n",
       "model_10500.pt    0.258533\n",
       "model_11000.pt    0.261467\n",
       "                    ...   \n",
       "model_7500.pt     0.234778\n",
       "model_8000.pt     0.234089\n",
       "model_8500.pt     0.238422\n",
       "model_9000.pt     0.245178\n",
       "model_9500.pt     0.252022\n",
       "Name: accuracy, Length: 120, dtype: float64"
      ]
     },
     "execution_count": 15,
     "metadata": {},
     "output_type": "execute_result"
    }
   ],
   "source": [
    "df_test"
   ]
  },
  {
   "cell_type": "code",
   "execution_count": 39,
   "metadata": {
    "ExecuteTime": {
     "end_time": "2022-02-15T01:01:15.865188Z",
     "start_time": "2022-02-15T01:01:15.403153Z"
    }
   },
   "outputs": [
    {
     "name": "stdout",
     "output_type": "stream",
     "text": [
      "0.005673313743538332 0.07075063286036465\n"
     ]
    },
    {
     "data": {
      "image/png": "[encoded data removed]",
      "text/plain": [
       "<Figure size 504x432 with 2 Axes>"
      ]
     },
     "metadata": {
      "needs_background": "light"
     },
     "output_type": "display_data"
    }
   ],
   "source": [
    "df_preds = pd.read_csv('./logs/MAML/preds.csv')\n",
    "ece, mce = prob_metrics(df_preds)\n",
    "print(ece,mce)"
   ]
  },
  {
   "cell_type": "code",
   "execution_count": null,
   "metadata": {},
   "outputs": [],
   "source": []
  },
  {
   "cell_type": "markdown",
   "metadata": {},
   "source": [
    "## EAEN "
   ]
  },
  {
   "cell_type": "code",
   "execution_count": null,
   "metadata": {
    "ExecuteTime": {
     "end_time": "2021-12-10T11:30:04.900073Z",
     "start_time": "2021-12-10T11:30:04.083476Z"
    }
   },
   "outputs": [],
   "source": [
    "df_train = pd.read_csv('./logs/DELPO_miniimagenet_5-way_1-shot_10-queries/exp1-eaen/train.csv')\n",
    "df_valid = pd.read_csv('./logs/DELPO_miniimagenet_5-way_1-shot_10-queries/exp1-eaen/valid_all.csv')\n",
    "df_test = pd.read_csv('./logs/DELPO_miniimagenet_5-way_1-shot_10-queries/exp1-eaen/test_all1.csv')\n",
    "df_test = df_test[~(df_test['CE_Loss'] == 'model_last.pt')]\n",
    "df_valid = df_valid[~(df_valid['CE_Loss'] == 'model_last.pt')]"
   ]
  },
  {
   "cell_type": "code",
   "execution_count": null,
   "metadata": {
    "ExecuteTime": {
     "end_time": "2021-12-10T11:30:08.517928Z",
     "start_time": "2021-12-10T11:30:05.468730Z"
    },
    "scrolled": false
   },
   "outputs": [],
   "source": [
    "plot_summarize([df_train, df_valid, df_test], ['accuracy', 'ELBO', 'Label_KL', 'Style_KL', 'Reconst_Loss', 'CE_Loss'], 20, 500)"
   ]
  },
  {
   "cell_type": "code",
   "execution_count": null,
   "metadata": {
    "ExecuteTime": {
     "end_time": "2021-12-07T19:16:30.360225Z",
     "start_time": "2021-12-07T19:16:30.350166Z"
    }
   },
   "outputs": [],
   "source": [
    "conf_int(df_test[df_test['model_name'] == 'model_31000.pt']['accuracy'])"
   ]
  },
  {
   "cell_type": "code",
   "execution_count": null,
   "metadata": {
    "ExecuteTime": {
     "end_time": "2021-12-07T19:27:07.167448Z",
     "start_time": "2021-12-07T19:27:07.136633Z"
    }
   },
   "outputs": [],
   "source": [
    "df_test2 = pd.read_csv('./logs/DELPO_miniimagenet_5-way_1-shot_10-queries/exp1-eaen/test_all2.csv')\n",
    "df_test3 = pd.read_csv('./logs/DELPO_miniimagenet_5-way_1-shot_10-queries/exp1-eaen/test_all3.csv')\n",
    "df_test4 = pd.read_csv('./logs/DELPO_miniimagenet_5-way_1-shot_10-queries/exp1-eaen/test_all4.csv')\n",
    "test_report([df_test2, df_test3, df_test4])"
   ]
  },
  {
   "cell_type": "code",
   "execution_count": null,
   "metadata": {},
   "outputs": [],
   "source": []
  },
  {
   "cell_type": "code",
   "execution_count": null,
   "metadata": {
    "ExecuteTime": {
     "end_time": "2021-12-10T11:38:52.939242Z",
     "start_time": "2021-12-10T11:38:49.136715Z"
    }
   },
   "outputs": [],
   "source": [
    "df_train = pd.read_csv('./logs/DELPO_miniimagenet_5-way_1-shot_10-queries/exp1-eaen/train.csv')\n",
    "df_train = df_train.groupby(np.arange(len(df_train)) // 20).mean()\n",
    "\n",
    "df_train1 = pd.read_csv('./logs/DELPO_miniimagenet_5-way_1-shot_10-queries/train.csv')\n",
    "df_train1 = df_train1.groupby(np.arange(len(df_train1)) // 20).mean()\n",
    "\n",
    "df_train = pd.concat([df_train, df_train1], axis=1)\n",
    "df_train = df_train['accuracy']\n",
    "df_train.columns = ['acc1', 'acc2']\n",
    "#df_train.dropna(inplace=True)\n",
    "\n",
    "fig = px.line(df_train)\n",
    "fig.show()"
   ]
  },
  {
   "cell_type": "markdown",
   "metadata": {},
   "source": [
    "# MiniImagenet: 5-way, 5-shot, 15-queries: Vanilla"
   ]
  },
  {
   "cell_type": "markdown",
   "metadata": {},
   "source": [
    "## Experiment-8:"
   ]
  },
  {
   "cell_type": "code",
   "execution_count": null,
   "metadata": {
    "ExecuteTime": {
     "end_time": "2021-12-15T14:59:05.150166Z",
     "start_time": "2021-12-15T14:59:04.002541Z"
    }
   },
   "outputs": [],
   "source": [
    "df_train = pd.read_csv('./logs/DELPO_miniimagenet_5-way_5-shot_10-queries/vanilla/train8.csv')\n",
    "df_valid = pd.read_csv('./logs/DELPO_miniimagenet_5-way_5-shot_10-queries/vanilla/valid_all8.csv')\n",
    "df_test = pd.read_csv('./logs/DELPO_miniimagenet_5-way_5-shot_10-queries/vanilla/test_all8.csv')\n",
    "df_test = df_test[~(df_test['CE_Loss'] == 'model_last.pt')]\n",
    "df_valid = df_valid[~(df_valid['CE_Loss'] == 'model_last.pt')]"
   ]
  },
  {
   "cell_type": "code",
   "execution_count": null,
   "metadata": {
    "ExecuteTime": {
     "end_time": "2021-12-15T14:59:07.536830Z",
     "start_time": "2021-12-15T14:59:05.151519Z"
    },
    "scrolled": false
   },
   "outputs": [],
   "source": [
    "df, test = plot_summarize(\n",
    "    [df_train, df_valid, df_test],\n",
    "    ['accuracy', 'ELBO', 'Label_KL', 'Style_KL', 'Reconst_Loss', 'CE_Loss'],\n",
    "    20, 500)"
   ]
  },
  {
   "cell_type": "code",
   "execution_count": null,
   "metadata": {},
   "outputs": [],
   "source": []
  },
  {
   "cell_type": "code",
   "execution_count": null,
   "metadata": {
    "ExecuteTime": {
     "end_time": "2021-12-14T07:42:42.963373Z",
     "start_time": "2021-12-14T07:42:38.763213Z"
    }
   },
   "outputs": [],
   "source": [
    "df_train = pd.read_csv('./logs/DELPO_miniimagenet_5-way_5-shot_10-queries/vanilla/train8.csv')\n",
    "df_train = df_train.groupby(np.arange(len(df_train)) // 20).mean()\n",
    "df_train1 = pd.read_csv('./logs/DELPO_miniimagenet_5-way_5-shot_10-queries/vanilla/train9.csv')\n",
    "df_train1 = df_train1.groupby(np.arange(len(df_train1)) // 20).mean()\n",
    "df_train3 = pd.read_csv('./logs/DELPO_miniimagenet_5-way_5-shot_10-queries/vanilla/train10.csv')\n",
    "df_train3 = df_train3.groupby(np.arange(len(df_train3)) // 20).mean()\n",
    "\n",
    "\n",
    "df_train = pd.concat([df_train, df_train1, df_train3], axis=1)\n",
    "df_train = df_train['accuracy']\n",
    "df_train.columns = ['acc1', 'acc2', 'acc3']\n",
    "#df_train.dropna(inplace=True)\n",
    "\n",
    "fig = px.line(df_train)\n",
    "fig.show()"
   ]
  },
  {
   "cell_type": "code",
   "execution_count": null,
   "metadata": {
    "ExecuteTime": {
     "end_time": "2021-12-10T19:17:35.494039Z",
     "start_time": "2021-12-10T19:17:31.515976Z"
    }
   },
   "outputs": [],
   "source": [
    "df_train = pd.read_csv('/media/anuj/New Volume/Win_BKP/TU_Delft/research/implement/learning_to_meta-learn/logs_v1/DELPO_miniimagenet_5-way_5-shot_15-queries/exp8/train.csv')\n",
    "df_valid = pd.read_csv('/media/anuj/New Volume/Win_BKP/TU_Delft/research/implement/learning_to_meta-learn/logs_v1/DELPO_miniimagenet_5-way_5-shot_15-queries/exp8/valid.csv')\n",
    "df_test = pd.read_csv('/media/anuj/New Volume/Win_BKP/TU_Delft/research/implement/learning_to_meta-learn/logs_v1/DELPO_miniimagenet_5-way_5-shot_15-queries/exp8/test_all.csv')\n",
    "\n",
    "df_test = df_test[~(df_test['CE_Loss'] == 'model_last.pt')]\n",
    "\n",
    "df_train1 = pd.read_csv('/media/anuj/New Volume/Win_BKP/TU_Delft/research/implement/learning_to_meta-learn/logs_v1/DELPO_miniimagenet_5-way_5-shot_15-queries/exp8/train_45.csv')\n",
    "df_valid1 = pd.read_csv('/media/anuj/New Volume/Win_BKP/TU_Delft/research/implement/learning_to_meta-learn/logs_v1/DELPO_miniimagenet_5-way_5-shot_15-queries/exp8/valid_45.csv')\n",
    "df_test1 = pd.read_csv('/media/anuj/New Volume/Win_BKP/TU_Delft/research/implement/learning_to_meta-learn/logs_v1/DELPO_miniimagenet_5-way_5-shot_15-queries/exp8/test_all_45.csv')\n",
    "\n",
    "df_test1 = df_test1[~(df_test1['CE_Loss'] == 'model_last.pt')]\n",
    "\n",
    "df_train_all = pd.concat([df_train, df_train1])\n",
    "df_valid_all = pd.concat([df_valid, df_valid1])\n",
    "df_test_all = pd.concat([df_test, df_test1])"
   ]
  },
  {
   "cell_type": "code",
   "execution_count": null,
   "metadata": {
    "ExecuteTime": {
     "end_time": "2021-11-14T09:21:26.980070Z",
     "start_time": "2021-11-14T09:21:25.769442Z"
    }
   },
   "outputs": [],
   "source": [
    "df_train = pd.read_csv('./logs/DELPO_miniimagenet_5-way_5-shot_15-queries/exp8/train.csv')\n",
    "df_valid = pd.read_csv('./logs/DELPO_miniimagenet_5-way_5-shot_15-queries/exp8/valid.csv')\n",
    "df_test = pd.read_csv('./logs/DELPO_miniimagenet_5-way_5-shot_15-queries/exp8/test_all.csv')\n",
    "\n",
    "df_test = df_test[~(df_test['CE_Loss'] == 'model_last.pt')]\n",
    "\n",
    "df_train1 = pd.read_csv('./logs/DELPO_miniimagenet_5-way_5-shot_15-queries/exp8/train_45.csv')\n",
    "df_valid1 = pd.read_csv('./logs/DELPO_miniimagenet_5-way_5-shot_15-queries/exp8/valid_45.csv')\n",
    "df_test1 = pd.read_csv('./logs/DELPO_miniimagenet_5-way_5-shot_15-queries/exp8/test_all_45.csv')\n",
    "\n",
    "df_test1 = df_test1[~(df_test1['CE_Loss'] == 'model_last.pt')]\n",
    "\n",
    "df_train_all = pd.concat([df_train, df_train1])\n",
    "df_valid_all = pd.concat([df_valid, df_valid1])\n",
    "df_test_all = pd.concat([df_test, df_test1])"
   ]
  },
  {
   "cell_type": "code",
   "execution_count": null,
   "metadata": {
    "ExecuteTime": {
     "end_time": "2021-12-10T19:18:43.544060Z",
     "start_time": "2021-12-10T19:18:43.516541Z"
    }
   },
   "outputs": [],
   "source": [
    "df_train"
   ]
  },
  {
   "cell_type": "code",
   "execution_count": null,
   "metadata": {
    "ExecuteTime": {
     "end_time": "2021-12-10T19:17:50.694979Z",
     "start_time": "2021-12-10T19:17:45.536874Z"
    }
   },
   "outputs": [],
   "source": [
    "df, test = plot_summarize_old(\n",
    "    [df_train_all, df_valid_all, df_test_all],\n",
    "    ['accuracy', 'ELBO', 'Label_KL', 'Style_KL', 'Reconst_Loss', 'CE_Loss'],\n",
    "    20)"
   ]
  },
  {
   "cell_type": "code",
   "execution_count": null,
   "metadata": {
    "ExecuteTime": {
     "end_time": "2021-11-03T16:40:52.522980Z",
     "start_time": "2021-11-03T16:40:52.328977Z"
    }
   },
   "outputs": [],
   "source": [
    "viz_images(['exp8', 'miniimagenet'], 41500, 'train')"
   ]
  },
  {
   "cell_type": "code",
   "execution_count": null,
   "metadata": {
    "ExecuteTime": {
     "end_time": "2021-11-03T16:41:08.022815Z",
     "start_time": "2021-11-03T16:41:07.312473Z"
    }
   },
   "outputs": [],
   "source": [
    "viz_latents(['exp8', 'miniimagenet'], 41500, 'train')"
   ]
  },
  {
   "cell_type": "markdown",
   "metadata": {},
   "source": [
    "### Experiment-8-arch-ablation: "
   ]
  },
  {
   "cell_type": "markdown",
   "metadata": {},
   "source": [
    "added a layer before extracting mu, sigma for latent distribution, thus now: 1000 -- 256 -- 64 "
   ]
  },
  {
   "cell_type": "code",
   "execution_count": null,
   "metadata": {
    "ExecuteTime": {
     "end_time": "2021-11-04T11:44:05.873875Z",
     "start_time": "2021-11-04T11:44:05.083169Z"
    }
   },
   "outputs": [],
   "source": [
    "df_train = pd.read_csv('./logs/DELPO_miniimagenet_5-way_5-shot_15-queries/exp8-archab/train.csv')\n",
    "df_valid = pd.read_csv('./logs/DELPO_miniimagenet_5-way_5-shot_15-queries/exp8-archab/valid.csv')\n",
    "df_test = pd.read_csv('./logs/DELPO_miniimagenet_5-way_5-shot_15-queries/exp8-archab/test_all.csv')\n",
    "df_test = df_test[~(df_test['CE_Loss'] == 'model_last.pt')]"
   ]
  },
  {
   "cell_type": "code",
   "execution_count": null,
   "metadata": {
    "ExecuteTime": {
     "end_time": "2021-11-04T11:44:34.985573Z",
     "start_time": "2021-11-04T11:44:31.689216Z"
    }
   },
   "outputs": [],
   "source": [
    "df, test = plot_summarize(\n",
    "    [df_train, df_valid, df_test],\n",
    "    ['accuracy', 'ELBO', 'Label_KL', 'Style_KL', 'Reconst_Loss', 'CE_Loss'],\n",
    "    20)"
   ]
  },
  {
   "cell_type": "markdown",
   "metadata": {},
   "source": [
    "# MiniImagenet: 5-way, 5-shot, 10-queries - TAD "
   ]
  },
  {
   "cell_type": "markdown",
   "metadata": {},
   "source": [
    "## TAFE "
   ]
  },
  {
   "cell_type": "code",
   "execution_count": null,
   "metadata": {
    "ExecuteTime": {
     "end_time": "2022-02-10T14:04:30.488925Z",
     "start_time": "2022-02-10T14:04:26.558219Z"
    }
   },
   "outputs": [],
   "source": [
    "df_train = pd.read_csv('./logs/DELPO_miniimagenet_5-way_5-shot_10-queries/exp8-tafe/exp8.2-tafe(w relu)/train.csv')\n",
    "df_train = df_train.groupby(np.arange(len(df_train)) // 20).mean()\n",
    "df_train1 = pd.read_csv(f'./logs/DELPO_miniimagenet_5-way_5-shot_10-queries/exp8-tafe/train3.csv')\n",
    "df_train1 = df_train1.groupby(np.arange(len(df_train1)) // 20).mean()\n",
    "df_train2 = pd.read_csv(f'./logs/DELPO_miniimagenet_5-way_5-shot_10-queries/exp8-tafe/train4.csv')\n",
    "df_train2 = df_train2.groupby(np.arange(len(df_train2)) // 20).mean()\n",
    "df_train3 = pd.read_csv(f'./logs/DELPO_miniimagenet_5-way_5-shot_10-queries/exp8-tafe/stash/train5.csv')\n",
    "df_train3 = df_train3.groupby(np.arange(len(df_train3)) // 20).mean()\n",
    "\n",
    "\n",
    "df_train = pd.concat([df_train, df_train1, df_train2, df_train3], axis=1)\n",
    "df_train = df_train['accuracy']\n",
    "df_train.columns = ['acc', 'acc1', 'acc2', 'acc3']\n",
    "#df_train.dropna(inplace=True)\n",
    "\n",
    "fig = px.line(df_train)\n",
    "fig.show()"
   ]
  },
  {
   "cell_type": "markdown",
   "metadata": {},
   "source": [
    "**Monitor till the end, maybe try cutting the lr at ~25k epochs**"
   ]
  },
  {
   "cell_type": "code",
   "execution_count": null,
   "metadata": {
    "ExecuteTime": {
     "end_time": "2022-02-04T15:19:15.098338Z",
     "start_time": "2022-02-04T15:19:11.230005Z"
    }
   },
   "outputs": [],
   "source": [
    "df_train = pd.read_csv('./logs/DELPO_miniimagenet_5-way_5-shot_10-queries/exp8-tafe/exp8.2-tafe(w relu)/train.csv')\n",
    "df_train = df_train.groupby(np.arange(len(df_train)) // 20).mean()\n",
    "df_train1 = pd.read_csv(f'./logs/DELPO_miniimagenet_5-way_5-shot_10-queries/exp8-tafe/stash/train1(wo relu).csv')\n",
    "df_train1 = df_train1.groupby(np.arange(len(df_train1)) // 20).mean()\n",
    "df_train2 = pd.read_csv(f'./logs/DELPO_miniimagenet_5-way_5-shot_10-queries/exp8-tafe/stash/train2(wo relu).csv')\n",
    "df_train2 = df_train2.groupby(np.arange(len(df_train2)) // 20).mean()\n",
    "df_train3 = pd.read_csv(f'./logs/DELPO_miniimagenet_5-way_5-shot_10-queries/exp8-tafe/stash/train1(w relu).csv')\n",
    "df_train3 = df_train3.groupby(np.arange(len(df_train3)) // 20).mean()\n",
    "df_train4 = pd.read_csv(f'./logs/DELPO_miniimagenet_5-way_5-shot_10-queries/exp8-tafe/stash/train2(w relu).csv')\n",
    "df_train4 = df_train4.groupby(np.arange(len(df_train4)) // 20).mean()\n",
    "\n",
    "\n",
    "df_train = pd.concat([df_train, df_train1, df_train2, df_train3, df_train4], axis=1)\n",
    "df_train = df_train['accuracy']\n",
    "df_train.columns = ['acc', 'acc1', 'acc2', 'acc3', 'acc4']\n",
    "#df_train.dropna(inplace=True)\n",
    "\n",
    "fig = px.line(df_train)\n",
    "fig.show()"
   ]
  },
  {
   "cell_type": "markdown",
   "metadata": {},
   "source": [
    "**Monitor and monitor tomorrow at EOD, 4th run seems most promising yet - Testing!**"
   ]
  },
  {
   "cell_type": "code",
   "execution_count": null,
   "metadata": {
    "ExecuteTime": {
     "end_time": "2022-01-15T11:11:50.330836Z",
     "start_time": "2022-01-15T11:11:49.892687Z"
    }
   },
   "outputs": [],
   "source": [
    "df_train = pd.read_csv(f'./logs/DELPO_miniimagenet_5-way_5-shot_10-queries/exp8-tafe/stash/train2(wo relu).csv')\n",
    "df_valid = pd.read_csv(f'./logs/DELPO_miniimagenet_5-way_5-shot_10-queries/exp8-tafe/stash/valid.csv')\n",
    "df_test = pd.read_csv(f'./logs/DELPO_miniimagenet_5-way_5-shot_10-queries/exp8-tafe/stash/test.csv')"
   ]
  },
  {
   "cell_type": "markdown",
   "metadata": {},
   "source": [
    "**Didn't work, check other runs**"
   ]
  },
  {
   "cell_type": "code",
   "execution_count": null,
   "metadata": {
    "ExecuteTime": {
     "end_time": "2022-01-27T12:47:01.614867Z",
     "start_time": "2022-01-27T12:47:00.962666Z"
    }
   },
   "outputs": [],
   "source": [
    "df_train = pd.read_csv(f'./logs/DELPO_miniimagenet_5-way_5-shot_10-queries/exp8-tafe/exp8.2-tafe(w relu)/train.csv')\n",
    "df_valid = pd.read_csv(f'./logs/DELPO_miniimagenet_5-way_5-shot_10-queries/exp8-tafe/exp8.2-tafe(w relu)/valid_all.csv')\n",
    "df_test = pd.read_csv(f'./logs/DELPO_miniimagenet_5-way_5-shot_10-queries/exp8-tafe/exp8.2-tafe(w relu)/test_all.csv')\n",
    "df_test = df_test[~(df_test['CE_Loss'] == 'model_last.pt')]"
   ]
  },
  {
   "cell_type": "code",
   "execution_count": null,
   "metadata": {
    "ExecuteTime": {
     "end_time": "2022-01-27T12:47:07.018305Z",
     "start_time": "2022-01-27T12:47:05.005477Z"
    },
    "scrolled": true
   },
   "outputs": [],
   "source": [
    "plot_summarize(\n",
    "    [df_train, df_valid, df_test],\n",
    "    ['accuracy', 'ELBO', 'Label_KL', 'Style_KL', 'Reconst_Loss', 'CE_Loss'],\n",
    "    20, 500)"
   ]
  },
  {
   "cell_type": "code",
   "execution_count": null,
   "metadata": {
    "ExecuteTime": {
     "end_time": "2022-01-27T12:47:26.035741Z",
     "start_time": "2022-01-27T12:47:26.017785Z"
    }
   },
   "outputs": [],
   "source": [
    "conf_int(df_test[df_test['model_name'] == 'model_33000.pt']['accuracy'])"
   ]
  },
  {
   "cell_type": "code",
   "execution_count": null,
   "metadata": {
    "ExecuteTime": {
     "end_time": "2022-01-27T12:48:19.152754Z",
     "start_time": "2022-01-27T12:48:19.127490Z"
    }
   },
   "outputs": [],
   "source": [
    "df_test2 = pd.read_csv(f'./logs/DELPO_miniimagenet_5-way_5-shot_10-queries/exp8-tafe/exp8.2-tafe(w relu)/test_all2.csv')\n",
    "df_test3 = pd.read_csv(f'./logs/DELPO_miniimagenet_5-way_5-shot_10-queries/exp8-tafe/exp8.2-tafe(w relu)/test_all3.csv')\n",
    "df_test4 = pd.read_csv(f'./logs/DELPO_miniimagenet_5-way_5-shot_10-queries/exp8-tafe/exp8.2-tafe(w relu)/test_all4.csv')\n",
    "test_report([df_test2, df_test3, df_test4])"
   ]
  },
  {
   "cell_type": "markdown",
   "metadata": {},
   "source": [
    "### Viz "
   ]
  },
  {
   "cell_type": "code",
   "execution_count": null,
   "metadata": {
    "ExecuteTime": {
     "end_time": "2022-02-13T13:22:35.656414Z",
     "start_time": "2022-02-13T13:22:35.647687Z"
    }
   },
   "outputs": [],
   "source": [
    "latents0 = torch.load(\n",
    "    './logs/DELPO_miniimagenet_5-way_5-shot_10-queries/exp8-tafe/exp8.2-tafe(w relu)/add_eval/latents_0_epoch-8_test.pt')\n",
    "latents = torch.load(\n",
    "    './logs/DELPO_miniimagenet_5-way_5-shot_10-queries/exp8-tafe/exp8.2-tafe(w relu)/add_eval/latents_epoch-8_test.pt')"
   ]
  },
  {
   "cell_type": "code",
   "execution_count": null,
   "metadata": {
    "ExecuteTime": {
     "end_time": "2022-02-13T13:22:37.093746Z",
     "start_time": "2022-02-13T13:22:36.037088Z"
    }
   },
   "outputs": [],
   "source": [
    "# Making Before and After latent-datasets \n",
    "df0 = pd.DataFrame(np.array(latents0['label_latents'][0]))\n",
    "df0['class'] = pd.Series(list(np.full((10,), 0)) + list(np.full((10,), 1)) + list(\n",
    "    np.full((10,), 2)) + list(np.full((10,), 3)) + list(np.full((10,), 4)))\n",
    "features0 = df0.iloc[:, :-1]\n",
    "df = pd.DataFrame(np.array(latents['label_latents'][0]))\n",
    "df['class'] = pd.Series(list(np.full((10,), 0)) + list(np.full((10,), 1)) + list(\n",
    "    np.full((10,), 2)) + list(np.full((10,), 3)) + list(np.full((10,), 4)))\n",
    "features = df.iloc[:, :-1]\n",
    "\n",
    "# UMAP projection to 2D space \n",
    "umap = UMAP(n_components=2, init='random', random_state=0)\n",
    "proj_2d0 = umap.fit_transform(features0)\n",
    "umap = UMAP(n_components=2, init='random', random_state=0)\n",
    "proj_2d = umap.fit_transform(features)"
   ]
  },
  {
   "cell_type": "code",
   "execution_count": null,
   "metadata": {
    "ExecuteTime": {
     "end_time": "2022-02-13T13:22:37.129882Z",
     "start_time": "2022-02-13T13:22:37.096056Z"
    }
   },
   "outputs": [],
   "source": [
    "fig = make_subplots(rows=2, cols=1, subplot_titles=(\n",
    "    \"Before\", \"After\"))\n",
    "fig.add_trace(go.Scatter(x=proj_2d0[:, 0], y=proj_2d0[:, 1],\n",
    "              mode='markers', marker_color=df['class'].astype(int), marker=dict(size=7)), row=1, col=1)\n",
    "fig.add_trace(go.Scatter(x=proj_2d[:, 0], y=proj_2d[:, 1],\n",
    "              mode='markers', marker_color=df['class'].astype(int), marker=dict(size=7)), row=2, col=1)\n",
    "fig.update_layout(width=450, height=500, showlegend=False, title_font_family=\"Ariel\", plot_bgcolor='white',\n",
    "                  titlefont=dict(color='black', size=20),\n",
    "                  title={\n",
    "                      'y': 0.91,\n",
    "                      'x': 0.5,\n",
    "                      'xanchor': 'center',\n",
    "                      'yanchor': 'top'},\n",
    "                  xaxis=dict(\n",
    "                      showline=True,\n",
    "                      linecolor='black',\n",
    "                      showticklabels=True,\n",
    "                      ticks='outside',\n",
    "                      gridcolor='rgb(255,255,255)',\n",
    "                  ),\n",
    "                  yaxis=dict(\n",
    "                      showline=True,\n",
    "                      linecolor='black',\n",
    "                      showticklabels=True,\n",
    "                      ticks='outside',\n",
    "                      nticks=6,\n",
    "                      gridcolor='rgb(255,255,255)',\n",
    "                  ),\n",
    "                  xaxis2=dict(\n",
    "                      showline=True,\n",
    "                      linecolor='black',\n",
    "                      showticklabels=True,\n",
    "                      ticks='outside',\n",
    "                      nticks=6,\n",
    "                      gridcolor='rgb(255,255,255)',\n",
    "                  ),\n",
    "                  yaxis2=dict(\n",
    "                      showline=True,\n",
    "                      linecolor='black',\n",
    "                      showticklabels=True,\n",
    "                      ticks='outside',\n",
    "                      nticks=5,\n",
    "                      gridcolor='rgb(255,255,255)',\n",
    "                  ))\n",
    "fig.show()"
   ]
  },
  {
   "cell_type": "code",
   "execution_count": null,
   "metadata": {
    "ExecuteTime": {
     "end_time": "2022-02-13T13:22:38.865555Z",
     "start_time": "2022-02-13T13:22:38.769142Z"
    }
   },
   "outputs": [],
   "source": [
    "pio.write_image(fig, 'label_latents.pdf', width=450, height=500)"
   ]
  },
  {
   "cell_type": "code",
   "execution_count": null,
   "metadata": {
    "ExecuteTime": {
     "end_time": "2022-02-13T13:28:04.758881Z",
     "start_time": "2022-02-13T13:28:03.776882Z"
    }
   },
   "outputs": [],
   "source": [
    "# Making Before and After latent-datasets \n",
    "df0 = pd.DataFrame(np.array(latents0['style_latents'][0]))\n",
    "df0['class'] = pd.Series(list(np.full((10,), 0)) + list(np.full((10,), 1)) + list(\n",
    "    np.full((10,), 2)) + list(np.full((10,), 3)) + list(np.full((10,), 4)))\n",
    "features0 = df0.iloc[:, :-1]\n",
    "df = pd.DataFrame(np.array(latents['style_latents'][0]))\n",
    "df['class'] = pd.Series(list(np.full((10,), 0)) + list(np.full((10,), 1)) + list(\n",
    "    np.full((10,), 2)) + list(np.full((10,), 3)) + list(np.full((10,), 4)))\n",
    "features = df.iloc[:, :-1]\n",
    "\n",
    "# UMAP projection to 2D space\n",
    "umap = UMAP(n_components=2, init='random', random_state=0)\n",
    "proj_2d0 = umap.fit_transform(features0)\n",
    "umap = UMAP(n_components=2, init='random', random_state=0)\n",
    "proj_2d = umap.fit_transform(features)"
   ]
  },
  {
   "cell_type": "code",
   "execution_count": null,
   "metadata": {
    "ExecuteTime": {
     "end_time": "2022-02-13T13:28:12.356375Z",
     "start_time": "2022-02-13T13:28:12.284953Z"
    }
   },
   "outputs": [],
   "source": [
    "# Plot\n",
    "fig = make_subplots(rows=2, cols=1, subplot_titles=(\n",
    "    \"Before\", \"After\"))\n",
    "fig.add_trace(go.Scatter(x=proj_2d0[:, 0], y=proj_2d0[:, 1],\n",
    "              mode='markers', marker_color=df['class'].astype(int), marker=dict(size=7)), row=1, col=1)\n",
    "fig.add_trace(go.Scatter(x=proj_2d[:, 0], y=proj_2d[:, 1],\n",
    "              mode='markers', marker_color=df['class'].astype(int), marker=dict(size=7)), row=2, col=1)\n",
    "fig.update_layout(width=450, height=500, showlegend=False, title_font_family=\"Ariel\", plot_bgcolor='white',\n",
    "                  titlefont=dict(color='black', size=20),\n",
    "                  title={\n",
    "                      'y': 0.91,\n",
    "                      'x': 0.5,\n",
    "                      'xanchor': 'center',\n",
    "                      'yanchor': 'top'},\n",
    "                  xaxis=dict(\n",
    "                      showline=True,\n",
    "                      linecolor='black',\n",
    "                      showticklabels=True,\n",
    "                      ticks='outside',\n",
    "                      nticks=6,\n",
    "                      gridcolor='rgb(255,255,255)',\n",
    "                  ),\n",
    "                  yaxis=dict(\n",
    "                      showline=True,\n",
    "                      linecolor='black',\n",
    "                      showticklabels=True,\n",
    "                      ticks='outside',\n",
    "                      nticks=6,\n",
    "                      gridcolor='rgb(255,255,255)',\n",
    "                  ),\n",
    "                  xaxis2=dict(\n",
    "                      showline=True,\n",
    "                      linecolor='black',\n",
    "                      showticklabels=True,\n",
    "                      ticks='outside',\n",
    "                      nticks=6,\n",
    "                      gridcolor='rgb(255,255,255)',\n",
    "                  ),\n",
    "                  yaxis2=dict(\n",
    "                      showline=True,\n",
    "                      linecolor='black',\n",
    "                      showticklabels=True,\n",
    "                      ticks='outside',\n",
    "                      nticks=5,\n",
    "                      gridcolor='rgb(255,255,255)',\n",
    "                  ))\n",
    "fig.show()"
   ]
  },
  {
   "cell_type": "code",
   "execution_count": null,
   "metadata": {
    "ExecuteTime": {
     "end_time": "2022-02-13T13:28:17.676925Z",
     "start_time": "2022-02-13T13:28:17.566407Z"
    }
   },
   "outputs": [],
   "source": [
    "pio.write_image(fig, 'style_latents.pdf', width=450, height=500)"
   ]
  },
  {
   "cell_type": "code",
   "execution_count": null,
   "metadata": {
    "ExecuteTime": {
     "end_time": "2022-02-12T15:08:31.352689Z",
     "start_time": "2022-02-12T15:08:30.853203Z"
    }
   },
   "outputs": [],
   "source": [
    "proj_2d0 = TSNE(n_components=3, learning_rate='auto', init='random').fit_transform(features0)\n",
    "fig_2d0 = px.scatter_3d(\n",
    "    proj_2d0, x=0, y=1, z=2,\n",
    "    color=df0['class'].astype(str), labels={'color': 'class'}\n",
    ")\n",
    "fig_2d0.show()\n",
    "\n",
    "\n",
    "proj_2d = TSNE(n_components=3, learning_rate='auto', init='random').fit_transform(features)\n",
    "fig_2d = px.scatter_3d(\n",
    "    proj_2d, x=0, y=1, z=2,\n",
    "    color=df['class'].astype(str), labels={'color': 'class'}\n",
    ")\n",
    "fig_2d.show()"
   ]
  },
  {
   "cell_type": "code",
   "execution_count": null,
   "metadata": {},
   "outputs": [],
   "source": []
  },
  {
   "cell_type": "markdown",
   "metadata": {},
   "source": [
    "## EAEN "
   ]
  },
  {
   "cell_type": "code",
   "execution_count": null,
   "metadata": {
    "ExecuteTime": {
     "end_time": "2021-12-10T11:58:38.348886Z",
     "start_time": "2021-12-10T11:58:37.483051Z"
    }
   },
   "outputs": [],
   "source": [
    "df_train = pd.read_csv('./logs/DELPO_miniimagenet_5-way_5-shot_10-queries/train.csv')\n",
    "df_valid = pd.read_csv('./logs/DELPO_miniimagenet_5-way_5-shot_10-queries/exp8-eaen/valid_all.csv')\n",
    "df_test = pd.read_csv('./logs/DELPO_miniimagenet_5-way_5-shot_10-queries/exp8-eaen/test_all2.csv')\n",
    "df_test = df_test[~(df_test['CE_Loss'] == 'model_last.pt')]"
   ]
  },
  {
   "cell_type": "code",
   "execution_count": null,
   "metadata": {
    "ExecuteTime": {
     "end_time": "2021-12-10T11:58:41.986137Z",
     "start_time": "2021-12-10T11:58:39.486366Z"
    },
    "scrolled": false
   },
   "outputs": [],
   "source": [
    "plot_summarize(\n",
    "    [df_train, df_valid, df_test],\n",
    "    ['accuracy', 'ELBO', 'Label_KL', 'Style_KL', 'Reconst_Loss', 'CE_Loss'],\n",
    "    20, 500)"
   ]
  },
  {
   "cell_type": "code",
   "execution_count": null,
   "metadata": {
    "ExecuteTime": {
     "end_time": "2021-12-10T11:44:10.070263Z",
     "start_time": "2021-12-10T11:44:10.054680Z"
    }
   },
   "outputs": [],
   "source": [
    "conf_int(df_test[df_test['model_name'] == 'model_40500.pt']['accuracy'])"
   ]
  },
  {
   "cell_type": "code",
   "execution_count": null,
   "metadata": {
    "ExecuteTime": {
     "end_time": "2021-12-10T11:48:05.634404Z",
     "start_time": "2021-12-10T11:48:05.621378Z"
    }
   },
   "outputs": [],
   "source": [
    "conf_int(df_test[df_test['model_name'] == 'model_40500.pt']['accuracy'])"
   ]
  },
  {
   "cell_type": "code",
   "execution_count": null,
   "metadata": {
    "ExecuteTime": {
     "end_time": "2021-12-10T11:44:46.874296Z",
     "start_time": "2021-12-10T11:44:46.854394Z"
    }
   },
   "outputs": [],
   "source": [
    "df_test3 = pd.read_csv('./logs/DELPO_miniimagenet_5-way_5-shot_10-queries/exp8-eaen/test_all3.csv')\n",
    "df_test4 = pd.read_csv('./logs/DELPO_miniimagenet_5-way_5-shot_10-queries/exp8-eaen/test_all4.csv')\n",
    "test_report([df_test3, df_test4])"
   ]
  },
  {
   "cell_type": "code",
   "execution_count": null,
   "metadata": {},
   "outputs": [],
   "source": []
  },
  {
   "cell_type": "code",
   "execution_count": null,
   "metadata": {
    "ExecuteTime": {
     "end_time": "2021-12-11T07:43:25.366203Z",
     "start_time": "2021-12-11T07:43:24.689885Z"
    }
   },
   "outputs": [],
   "source": [
    "df_train = pd.read_csv('/media/anuj/New Volume/Win_BKP/TU_Delft/research/implement/learning_to_meta-learn/logs/DELPO_miniimagenet_5-way_5-shot_10-queries/exp8-eaen/train.csv')\n",
    "df_train = df_train.groupby(np.arange(len(df_train)) // 20).mean()\n",
    "df_train1 = pd.read_csv('./logs/DELPO_miniimagenet_5-way_5-shot_10-queries/train8.csv')\n",
    "df_train1 = df_train1.groupby(np.arange(len(df_train1)) // 20).mean()\n",
    "\n",
    "df_train = pd.concat([df_train, df_train1], axis=1)\n",
    "df_train = df_train['accuracy']\n",
    "df_train.columns = ['acc1', 'acc2']\n",
    "#df_train.dropna(inplace=True)\n",
    "\n",
    "fig = px.line(df_train)\n",
    "fig.show()"
   ]
  },
  {
   "cell_type": "markdown",
   "metadata": {},
   "source": [
    "**Seems good, let run till ~35k-epochs**"
   ]
  },
  {
   "cell_type": "markdown",
   "metadata": {},
   "source": [
    "## Experiment-8-lr-ablations:"
   ]
  },
  {
   "cell_type": "markdown",
   "metadata": {},
   "source": [
    "a ; b ; d :: 0.003,0.0003 ; 0.006,0.0006 ; 0.01,0.001   ---- (inner lr, meta-lr) "
   ]
  },
  {
   "cell_type": "code",
   "execution_count": null,
   "metadata": {
    "ExecuteTime": {
     "end_time": "2021-10-25T21:29:09.532837Z",
     "start_time": "2021-10-25T21:29:09.451092Z"
    }
   },
   "outputs": [],
   "source": [
    "test = pd.read_csv('./logs/DELPO_miniimagenet_5-way_5-shot_15-queries/exp8c/test.csv')\n",
    "df_testa = pd.read_csv('./logs/DELPO_miniimagenet_5-way_5-shot_15-queries/exp8c/exp8ca/test.csv')\n",
    "df_testb = pd.read_csv('./logs/DELPO_miniimagenet_5-way_5-shot_15-queries/exp8c/exp8cb/test.csv')\n",
    "df_testd = pd.read_csv('./logs/DELPO_miniimagenet_5-way_5-shot_15-queries/exp8c/exp8cd/test.csv')"
   ]
  },
  {
   "cell_type": "code",
   "execution_count": null,
   "metadata": {
    "ExecuteTime": {
     "end_time": "2021-10-25T21:03:31.928910Z",
     "start_time": "2021-10-25T21:03:31.903616Z"
    }
   },
   "outputs": [],
   "source": [
    "df_testa.columns = list(df_testa.columns[1:]) + ['model_name']\n",
    "a = df_testa.groupby('model_name', as_index=False).mean()\n",
    "a['iter'] = a['model_name'].apply(lambda x: int(x[x.index('_')+1 : -3]))\n",
    "a"
   ]
  },
  {
   "cell_type": "code",
   "execution_count": null,
   "metadata": {
    "ExecuteTime": {
     "end_time": "2021-10-25T20:43:16.177630Z",
     "start_time": "2021-10-25T20:43:16.160006Z"
    }
   },
   "outputs": [],
   "source": [
    "df_testb.columns = list(df_testb.columns[1:]) + ['model_name']\n",
    "df_testb.groupby('model_name', as_index=False)['accuracy'].mean()"
   ]
  },
  {
   "cell_type": "code",
   "execution_count": null,
   "metadata": {
    "ExecuteTime": {
     "end_time": "2021-10-25T20:43:16.539580Z",
     "start_time": "2021-10-25T20:43:16.523062Z"
    }
   },
   "outputs": [],
   "source": [
    "df_testd.columns = list(df_testd.columns[1:]) + ['model_name']\n",
    "df_testd.groupby('model_name', as_index=False)['accuracy'].mean()"
   ]
  },
  {
   "cell_type": "code",
   "execution_count": null,
   "metadata": {
    "ExecuteTime": {
     "end_time": "2021-10-25T21:29:12.834677Z",
     "start_time": "2021-10-25T21:29:12.803621Z"
    }
   },
   "outputs": [],
   "source": [
    "test.columns = list(test.columns[1:]) + ['model_name']\n",
    "test = test.groupby('model_name', as_index=False).mean()\n",
    "test['iter'] = test['model_name'].apply(lambda x: int(x[x.index('_')+1 : -3]))\n",
    "test.drop(columns=['model_name'], inplace=True)\n",
    "test"
   ]
  },
  {
   "cell_type": "markdown",
   "metadata": {},
   "source": [
    "# MiniImagenet: 5-way, 10-shot, 10-queries "
   ]
  },
  {
   "cell_type": "markdown",
   "metadata": {},
   "source": [
    "## Exp1: EAEN "
   ]
  },
  {
   "cell_type": "code",
   "execution_count": null,
   "metadata": {
    "ExecuteTime": {
     "end_time": "2021-12-06T15:43:42.269208Z",
     "start_time": "2021-12-06T15:43:39.499304Z"
    },
    "scrolled": false
   },
   "outputs": [],
   "source": [
    "df_train = pd.read_csv('./logs/DELPO_miniimagenet_5-way_10-shot_10-queries/exp1-eaen/train.csv')\n",
    "df_valid = pd.read_csv('./logs/DELPO_miniimagenet_5-way_10-shot_10-queries/exp1-eaen/valid_all.csv')\n",
    "df_test = pd.read_csv('./logs/DELPO_miniimagenet_5-way_10-shot_10-queries/exp1-eaen/test_all.csv')\n",
    "df_test = df_test[~(df_test['CE_Loss'] == 'model_last.pt')]\n",
    "\n",
    "plot_summarize(\n",
    "    [df_train, df_valid, df_test],\n",
    "    ['accuracy', 'ELBO', 'Label_KL', 'Style_KL', 'Reconst_Loss', 'CE_Loss'],\n",
    "    20, 500)"
   ]
  },
  {
   "cell_type": "code",
   "execution_count": null,
   "metadata": {
    "ExecuteTime": {
     "end_time": "2021-12-06T12:19:35.675324Z",
     "start_time": "2021-12-06T12:19:34.777771Z"
    }
   },
   "outputs": [],
   "source": [
    "df_train = pd.read_csv('./logs/DELPO_miniimagenet_5-way_10-shot_10-queries/train1.csv')\n",
    "df_train = df_train.groupby(np.arange(len(df_train)) // 20).mean()\n",
    "\n",
    "df_train = df_train['accuracy']\n",
    "df_train.columns = ['acc1']\n",
    "#df_train.dropna(inplace=True)\n",
    "\n",
    "fig = px.line(df_train)\n",
    "fig.show()"
   ]
  },
  {
   "cell_type": "markdown",
   "metadata": {},
   "source": [
    "**Seems good, check at 40-45k epochs tomorrow**"
   ]
  },
  {
   "cell_type": "markdown",
   "metadata": {},
   "source": [
    "# Omniglot: 5-way, 5-shot, 15-queries"
   ]
  },
  {
   "cell_type": "code",
   "execution_count": null,
   "metadata": {
    "ExecuteTime": {
     "end_time": "2022-02-08T11:56:04.751358Z",
     "start_time": "2022-02-08T11:56:03.725837Z"
    }
   },
   "outputs": [],
   "source": [
    "df_train1 = pd.read_csv('./logs/DELPO_omniglot_5-way_5-shot_15-queries/train1.csv')\n",
    "df_train1 = df_train1.groupby(np.arange(len(df_train1)) // 20).mean()\n",
    "df_train2 = pd.read_csv('./logs/DELPO_omniglot_5-way_5-shot_15-queries/train2.csv')\n",
    "df_train2 = df_train2.groupby(np.arange(len(df_train2)) // 20).mean()\n",
    "df_train3 = pd.read_csv('./logs/DELPO_omniglot_5-way_5-shot_15-queries/train3.csv')\n",
    "df_train3 = df_train3.groupby(np.arange(len(df_train3)) // 20).mean()\n",
    "df_train4 = pd.read_csv('./logs/DELPO_omniglot_5-way_5-shot_15-queries/exp5/train.csv')\n",
    "df_train4 = df_train4.groupby(np.arange(len(df_train4)) // 20).mean()\n",
    "\n",
    "\n",
    "# df_train4 = pd.read_csv('./logs/DELPO_omniglot_5-way_5-shot_15-queries/exp4-tafe/train.csv')\n",
    "# df_train4 = df_train4.groupby(np.arange(len(df_train4)) // 20).mean()\n",
    "# df_train5 = pd.read_csv(f'./logs/DELPO_omniglot_5-way_5-shot_15-queries/exp5-tafe/train.csv')\n",
    "# df_train5 = df_train5.groupby(np.arange(len(df_train5)) // 20).mean()\n",
    "# df_train6 = pd.read_csv('./logs/DELPO_omniglot_5-way_5-shot_15-queries/exp6-tafe/train.csv')\n",
    "# df_train6 = df_train6.groupby(np.arange(len(df_train6)) // 20).mean()\n",
    "\n",
    "df_train = pd.concat([df_train1, df_train2, df_train3, df_train4], axis=1)\n",
    "df_train = df_train['accuracy']\n",
    "df_train.columns = ['acc1', 'acc2', 'acc3', 'acc4']\n",
    "#df_train.dropna(inplace=True)\n",
    "\n",
    "fig = px.line(df_train)\n",
    "fig.show()"
   ]
  },
  {
   "cell_type": "markdown",
   "metadata": {},
   "source": [
    "**Kill 5.2 and 5.3, schedule more jobs in lr/wt viscinity of 5.1**"
   ]
  },
  {
   "cell_type": "markdown",
   "metadata": {},
   "source": [
    "**Test 5.1.1 and 5.1.2**"
   ]
  },
  {
   "cell_type": "markdown",
   "metadata": {},
   "source": [
    "## Experiment-1: "
   ]
  },
  {
   "cell_type": "code",
   "execution_count": null,
   "metadata": {
    "ExecuteTime": {
     "end_time": "2021-10-21T08:42:16.608265Z",
     "start_time": "2021-10-21T08:42:16.500111Z"
    }
   },
   "outputs": [],
   "source": [
    "df_train = pd.read_csv('./logs/DELPO_omniglot_5-way_5-shot_15-queries/exp1/train.csv')\n",
    "df_valid = pd.read_csv('./logs/DELPO_omniglot_5-way_5-shot_15-queries/exp1/valid.csv')\n",
    "df_test = pd.read_csv('./logs/DELPO_omniglot_5-way_5-shot_15-queries/exp1/test.csv')"
   ]
  },
  {
   "cell_type": "code",
   "execution_count": null,
   "metadata": {
    "ExecuteTime": {
     "end_time": "2021-10-21T08:42:21.510339Z",
     "start_time": "2021-10-21T08:42:21.494600Z"
    }
   },
   "outputs": [],
   "source": [
    "acc = 100 * np.array(df_test.accuracy)\n",
    "1.96 * acc.std()/(600**0.5)"
   ]
  },
  {
   "cell_type": "code",
   "execution_count": null,
   "metadata": {
    "ExecuteTime": {
     "end_time": "2021-10-21T08:42:23.175754Z",
     "start_time": "2021-10-21T08:42:22.604314Z"
    }
   },
   "outputs": [],
   "source": [
    "df = plot_summarize([df_train, df_valid, df_test], ['accuracy', 'ELBO', 'Label_KL', 'Style_KL', 'Reconst_Loss', 'CE_Loss'], 20)"
   ]
  },
  {
   "cell_type": "code",
   "execution_count": null,
   "metadata": {
    "ExecuteTime": {
     "end_time": "2021-10-18T11:36:03.875639Z",
     "start_time": "2021-10-18T11:36:03.706706Z"
    },
    "scrolled": true
   },
   "outputs": [],
   "source": [
    "viz_images(['exp4', 'omniglot'], 5000, 'train')"
   ]
  },
  {
   "cell_type": "code",
   "execution_count": null,
   "metadata": {},
   "outputs": [],
   "source": [
    "viz_latents('exp7', 13000, 'train')"
   ]
  },
  {
   "cell_type": "markdown",
   "metadata": {},
   "source": [
    "## Experiment-2: "
   ]
  },
  {
   "cell_type": "code",
   "execution_count": null,
   "metadata": {
    "ExecuteTime": {
     "end_time": "2021-10-21T08:43:01.387291Z",
     "start_time": "2021-10-21T08:43:01.321141Z"
    }
   },
   "outputs": [],
   "source": [
    "df_train = pd.read_csv('./logs/DELPO_omniglot_5-way_5-shot_15-queries/exp2/train.csv')\n",
    "df_valid = pd.read_csv('./logs/DELPO_omniglot_5-way_5-shot_15-queries/exp2/valid.csv')\n",
    "df_test = pd.read_csv('./logs/DELPO_omniglot_5-way_5-shot_15-queries/exp2/test.csv')"
   ]
  },
  {
   "cell_type": "code",
   "execution_count": null,
   "metadata": {
    "ExecuteTime": {
     "end_time": "2021-10-21T09:43:10.436248Z",
     "start_time": "2021-10-21T09:43:10.416066Z"
    }
   },
   "outputs": [],
   "source": [
    "df_train"
   ]
  },
  {
   "cell_type": "code",
   "execution_count": null,
   "metadata": {
    "ExecuteTime": {
     "end_time": "2021-10-21T08:43:02.027597Z",
     "start_time": "2021-10-21T08:43:01.999819Z"
    }
   },
   "outputs": [],
   "source": [
    "acc = 100 * np.array(df_test.accuracy)\n",
    "1.96 * acc.std()/(600**0.5)"
   ]
  },
  {
   "cell_type": "code",
   "execution_count": null,
   "metadata": {
    "ExecuteTime": {
     "end_time": "2021-10-21T08:43:11.536208Z",
     "start_time": "2021-10-21T08:43:11.067470Z"
    }
   },
   "outputs": [],
   "source": [
    "df = plot_summarize([df_train, df_valid, df_test], ['accuracy', 'ELBO', 'Label_KL', 'Style_KL', 'Reconst_Loss', 'CE_Loss'], 20)"
   ]
  },
  {
   "cell_type": "code",
   "execution_count": null,
   "metadata": {
    "ExecuteTime": {
     "end_time": "2021-10-18T11:36:03.875639Z",
     "start_time": "2021-10-18T11:36:03.706706Z"
    },
    "scrolled": true
   },
   "outputs": [],
   "source": [
    "viz_images(['exp4', 'omniglot'], 5000, 'train')"
   ]
  },
  {
   "cell_type": "code",
   "execution_count": null,
   "metadata": {},
   "outputs": [],
   "source": [
    "viz_latents('exp7', 13000, 'train')"
   ]
  },
  {
   "cell_type": "code",
   "execution_count": null,
   "metadata": {},
   "outputs": [],
   "source": []
  },
  {
   "cell_type": "markdown",
   "metadata": {},
   "source": [
    "## Experiment-3: "
   ]
  },
  {
   "cell_type": "code",
   "execution_count": null,
   "metadata": {
    "ExecuteTime": {
     "end_time": "2021-10-21T09:43:34.589708Z",
     "start_time": "2021-10-21T09:43:34.522404Z"
    }
   },
   "outputs": [],
   "source": [
    "df_train = pd.read_csv('./logs/DELPO_omniglot_5-way_5-shot_15-queries/exp3/train.csv')\n",
    "df_valid = pd.read_csv('./logs/DELPO_omniglot_5-way_5-shot_15-queries/exp3/valid.csv')\n",
    "df_test = pd.read_csv('./logs/DELPO_omniglot_5-way_5-shot_15-queries/exp3/test.csv')"
   ]
  },
  {
   "cell_type": "code",
   "execution_count": null,
   "metadata": {
    "ExecuteTime": {
     "end_time": "2021-10-21T09:43:35.523705Z",
     "start_time": "2021-10-21T09:43:35.504712Z"
    }
   },
   "outputs": [],
   "source": [
    "df_train"
   ]
  },
  {
   "cell_type": "code",
   "execution_count": null,
   "metadata": {
    "ExecuteTime": {
     "end_time": "2021-10-21T09:43:41.951675Z",
     "start_time": "2021-10-21T09:43:41.932816Z"
    }
   },
   "outputs": [],
   "source": [
    "acc = 100 * np.array(df_test.accuracy)\n",
    "1.96 * acc.std()/(600**0.5)"
   ]
  },
  {
   "cell_type": "code",
   "execution_count": null,
   "metadata": {
    "ExecuteTime": {
     "end_time": "2021-10-21T08:43:11.536208Z",
     "start_time": "2021-10-21T08:43:11.067470Z"
    }
   },
   "outputs": [],
   "source": [
    "df = plot_summarize([df_train, df_valid, df_test], ['accuracy', 'ELBO', 'Label_KL', 'Style_KL', 'Reconst_Loss', 'CE_Loss'], 20)"
   ]
  },
  {
   "cell_type": "code",
   "execution_count": null,
   "metadata": {
    "ExecuteTime": {
     "end_time": "2021-10-18T11:36:03.875639Z",
     "start_time": "2021-10-18T11:36:03.706706Z"
    },
    "scrolled": true
   },
   "outputs": [],
   "source": [
    "viz_images(['exp4', 'omniglot'], 5000, 'train')"
   ]
  },
  {
   "cell_type": "code",
   "execution_count": null,
   "metadata": {},
   "outputs": [],
   "source": [
    "viz_latents('exp7', 13000, 'train')"
   ]
  },
  {
   "cell_type": "markdown",
   "metadata": {},
   "source": [
    "## Experiment-4: "
   ]
  },
  {
   "cell_type": "code",
   "execution_count": null,
   "metadata": {
    "ExecuteTime": {
     "end_time": "2021-11-16T22:27:10.841696Z",
     "start_time": "2021-11-16T22:27:10.822552Z"
    }
   },
   "outputs": [],
   "source": [
    "df_test = pd.read_csv('./logs/DELPO_omniglot_5-way_5-shot_15-queries/exp4/exp4_5000+/test.csv')"
   ]
  },
  {
   "cell_type": "code",
   "execution_count": null,
   "metadata": {
    "ExecuteTime": {
     "end_time": "2021-11-16T22:28:43.013334Z",
     "start_time": "2021-11-16T22:28:42.978683Z"
    }
   },
   "outputs": [],
   "source": [
    "df_test[df_test['CE_Loss'] == 'model_last.pt'].describe()"
   ]
  },
  {
   "cell_type": "code",
   "execution_count": null,
   "metadata": {
    "ExecuteTime": {
     "end_time": "2021-11-16T20:07:20.867735Z",
     "start_time": "2021-11-16T20:07:20.552680Z"
    }
   },
   "outputs": [],
   "source": [
    "df_train = pd.read_csv('./logs/DELPO_omniglot_5-way_5-shot_15-queries/exp4/train.csv')\n",
    "df_valid = pd.read_csv('./logs/DELPO_omniglot_5-way_5-shot_15-queries/exp4/valid_all.csv')\n",
    "\n",
    "df_train1 = pd.read_csv('./logs/DELPO_omniglot_5-way_5-shot_15-queries/exp4/train1.csv')\n",
    "df_test = pd.read_csv('./logs/DELPO_omniglot_5-way_5-shot_15-queries/exp4/test_all.csv')\n",
    "\n",
    "df_train = pd.concat([df_train, df_train1])"
   ]
  },
  {
   "cell_type": "code",
   "execution_count": null,
   "metadata": {
    "ExecuteTime": {
     "end_time": "2021-11-16T20:07:23.953832Z",
     "start_time": "2021-11-16T20:07:22.603227Z"
    },
    "scrolled": false
   },
   "outputs": [],
   "source": [
    "plot_summarize([df_train, df_valid, df_test], ['accuracy', 'ELBO', 'Label_KL', 'Style_KL', 'Reconst_Loss', 'CE_Loss'], 20, 500)"
   ]
  },
  {
   "cell_type": "code",
   "execution_count": null,
   "metadata": {
    "ExecuteTime": {
     "end_time": "2021-10-18T11:36:03.875639Z",
     "start_time": "2021-10-18T11:36:03.706706Z"
    },
    "scrolled": true
   },
   "outputs": [],
   "source": [
    "viz_images(['exp4', 'omniglot'], 5000, 'train')"
   ]
  },
  {
   "cell_type": "code",
   "execution_count": null,
   "metadata": {},
   "outputs": [],
   "source": [
    "viz_latents('exp7', 13000, 'train')"
   ]
  },
  {
   "cell_type": "markdown",
   "metadata": {},
   "source": [
    "## Experiment-4-eaen: "
   ]
  },
  {
   "cell_type": "code",
   "execution_count": null,
   "metadata": {
    "ExecuteTime": {
     "end_time": "2021-11-15T13:25:19.336140Z",
     "start_time": "2021-11-15T13:25:19.034195Z"
    }
   },
   "outputs": [],
   "source": [
    "df_train = pd.read_csv('./logs/DELPO_omniglot_5-way_5-shot_15-queries/exp4-eaen/train.csv')\n",
    "df_valid = pd.read_csv('./logs/DELPO_omniglot_5-way_5-shot_15-queries/exp4-eaen/valid_all.csv')\n",
    "df_test = pd.read_csv('./logs/DELPO_omniglot_5-way_5-shot_15-queries/exp4-eaen/test_all.csv')"
   ]
  },
  {
   "cell_type": "code",
   "execution_count": null,
   "metadata": {
    "ExecuteTime": {
     "end_time": "2021-11-15T13:25:22.176660Z",
     "start_time": "2021-11-15T13:25:21.449046Z"
    },
    "scrolled": false
   },
   "outputs": [],
   "source": [
    "plot_summarize([df_train, df_valid, df_test], ['accuracy', 'ELBO', 'Label_KL', 'Style_KL', 'Reconst_Loss', 'CE_Loss'], 20, 500)"
   ]
  },
  {
   "cell_type": "code",
   "execution_count": null,
   "metadata": {
    "ExecuteTime": {
     "end_time": "2021-10-18T11:36:03.875639Z",
     "start_time": "2021-10-18T11:36:03.706706Z"
    },
    "scrolled": true
   },
   "outputs": [],
   "source": [
    "viz_images(['exp4', 'omniglot'], 5000, 'train')"
   ]
  },
  {
   "cell_type": "code",
   "execution_count": null,
   "metadata": {},
   "outputs": [],
   "source": [
    "viz_latents('exp7', 13000, 'train')"
   ]
  },
  {
   "cell_type": "markdown",
   "metadata": {},
   "source": [
    "## Experiment-5: "
   ]
  },
  {
   "cell_type": "code",
   "execution_count": null,
   "metadata": {
    "ExecuteTime": {
     "end_time": "2022-02-08T12:00:18.273149Z",
     "start_time": "2022-02-08T12:00:18.099704Z"
    }
   },
   "outputs": [],
   "source": [
    "df_train = pd.read_csv('./logs/DELPO_omniglot_5-way_5-shot_15-queries/exp5/train.csv')\n",
    "df_valid = pd.read_csv('./logs/DELPO_omniglot_5-way_5-shot_15-queries/exp5/valid_all.csv')\n",
    "df_test = pd.read_csv('./logs/DELPO_omniglot_5-way_5-shot_15-queries/exp5/test_all1.csv')\n",
    "df_valid = df_valid[~(df_valid['CE_Loss'] == 'model_last.pt')]\n",
    "df_test = df_test[~(df_test['CE_Loss'] == 'model_last.pt')]"
   ]
  },
  {
   "cell_type": "code",
   "execution_count": null,
   "metadata": {
    "ExecuteTime": {
     "end_time": "2022-02-10T14:27:45.998191Z",
     "start_time": "2022-02-10T14:27:45.738158Z"
    }
   },
   "outputs": [],
   "source": [
    "df_train = pd.read_csv('./logs/DELPO_omniglot_5-way_5-shot_15-queries/exp5.1.1/train.csv')\n",
    "df_valid = pd.read_csv('./logs/DELPO_omniglot_5-way_5-shot_15-queries/exp5.1.1/valid_all.csv')\n",
    "df_test = pd.read_csv('./logs/DELPO_omniglot_5-way_5-shot_15-queries/exp5.1.1/test_all.csv')\n",
    "df_test1 = pd.read_csv('./logs/DELPO_omniglot_5-way_5-shot_15-queries/exp5.1.1/test_all1.csv')\n",
    "df_valid = df_valid[~(df_valid['CE_Loss'] == 'model_last.pt')]\n",
    "df_test = df_test[~(df_test['CE_Loss'] == 'model_last.pt')]"
   ]
  },
  {
   "cell_type": "code",
   "execution_count": null,
   "metadata": {
    "ExecuteTime": {
     "end_time": "2021-12-02T09:50:32.837736Z",
     "start_time": "2021-12-02T09:50:31.417893Z"
    }
   },
   "outputs": [],
   "source": [
    "df_train = pd.read_csv('/media/anuj/New Volume/Win_BKP/TU_Delft/research/implement/learning_to_meta-learn/logs/DELPO_omniglot_5-way_5-shot_15-queries/exp5/train.csv')\n",
    "df_train = df_train.groupby(np.arange(len(df_train)) // 20).mean()\n",
    "\n",
    "df_train1 = pd.read_csv('./logs/DELPO_omniglot_5-way_5-shot_15-queries/train5.csv')\n",
    "df_train1 = df_train1.groupby(np.arange(len(df_train1)) // 20).mean()\n",
    "\n",
    "df_train = pd.concat([df_train, df_train1], axis=1)\n",
    "df_train = df_train['accuracy']\n",
    "df_train.columns = ['acc1', 'acc2']\n",
    "\n",
    "fig = px.line(df_train)\n",
    "fig.show()"
   ]
  },
  {
   "cell_type": "markdown",
   "metadata": {},
   "source": [
    "**Seems good enough -- Test now!**"
   ]
  },
  {
   "cell_type": "code",
   "execution_count": null,
   "metadata": {
    "ExecuteTime": {
     "end_time": "2022-02-10T14:27:50.762967Z",
     "start_time": "2022-02-10T14:27:50.289031Z"
    },
    "scrolled": false
   },
   "outputs": [],
   "source": [
    "plot_summarize([df_train, df_valid, df_test], ['accuracy', 'ELBO', 'Label_KL', 'Style_KL', 'Reconst_Loss', 'CE_Loss'], 32, 500)"
   ]
  },
  {
   "cell_type": "code",
   "execution_count": null,
   "metadata": {
    "ExecuteTime": {
     "end_time": "2021-12-07T19:36:53.223143Z",
     "start_time": "2021-12-07T19:36:53.213629Z"
    }
   },
   "outputs": [],
   "source": [
    "conf_int(df_test[df_test['model_name'] == 'model_3500.pt']['accuracy'])"
   ]
  },
  {
   "cell_type": "code",
   "execution_count": null,
   "metadata": {
    "ExecuteTime": {
     "end_time": "2021-12-07T19:37:20.249317Z",
     "start_time": "2021-12-07T19:37:20.230426Z"
    }
   },
   "outputs": [],
   "source": [
    "df_test2 = pd.read_csv('./logs/DELPO_omniglot_5-way_5-shot_15-queries/exp5/test_all2.csv')\n",
    "df_test3 = pd.read_csv('./logs/DELPO_omniglot_5-way_5-shot_15-queries/exp5/test_all3.csv')\n",
    "df_test4 = pd.read_csv('./logs/DELPO_omniglot_5-way_5-shot_15-queries/exp5/test_all4.csv')\n",
    "test_report([df_test2, df_test3, df_test4])"
   ]
  },
  {
   "cell_type": "code",
   "execution_count": null,
   "metadata": {
    "ExecuteTime": {
     "end_time": "2022-02-10T14:27:59.993021Z",
     "start_time": "2022-02-10T14:27:59.967083Z"
    }
   },
   "outputs": [],
   "source": [
    "report(df_test1, 600)"
   ]
  },
  {
   "cell_type": "markdown",
   "metadata": {},
   "source": [
    "# Omniglot: 5-way, 1-shot, 15-queries"
   ]
  },
  {
   "cell_type": "code",
   "execution_count": null,
   "metadata": {
    "ExecuteTime": {
     "end_time": "2022-02-08T11:52:19.589060Z",
     "start_time": "2022-02-08T11:52:18.616498Z"
    }
   },
   "outputs": [],
   "source": [
    "df_train1 = pd.read_csv('./logs/DELPO_omniglot_5-way_1-shot_15-queries/train1.csv')\n",
    "df_train1 = df_train1.groupby(np.arange(len(df_train1)) // 20).mean()\n",
    "df_train2 = pd.read_csv('./logs/DELPO_omniglot_5-way_1-shot_15-queries/train2.csv')\n",
    "df_train2 = df_train2.groupby(np.arange(len(df_train2)) // 20).mean()\n",
    "df_train3 = pd.read_csv('./logs/DELPO_omniglot_5-way_1-shot_15-queries/train3.csv')\n",
    "df_train3 = df_train3.groupby(np.arange(len(df_train3)) // 20).mean()\n",
    "df_train4 = pd.read_csv('./logs/DELPO_omniglot_5-way_1-shot_15-queries/exp3/train.csv')\n",
    "df_train4 = df_train4.groupby(np.arange(len(df_train4)) // 20).mean()\n",
    "# df_train5 = pd.read_csv(f'./logs/DELPO_omniglot_5-way_1-shot_15-queries/exp5-tafe/train.csv')\n",
    "# df_train5 = df_train5.groupby(np.arange(len(df_train5)) // 20).mean()\n",
    "# df_train6 = pd.read_csv('./logs/DELPO_omniglot_5-way_1-shot_15-queries/exp6-tafe/train.csv')\n",
    "# df_train6 = df_train6.groupby(np.arange(len(df_train6)) // 20).mean()\n",
    "\n",
    "df_train = pd.concat([df_train1, df_train2, df_train3, df_train4], axis=1)\n",
    "df_train = df_train['accuracy']\n",
    "df_train.columns = ['acc1', 'acc2', 'acc3', 'acc4']\n",
    "#df_train.dropna(inplace=True)\n",
    "\n",
    "fig = px.line(df_train)\n",
    "fig.show()"
   ]
  },
  {
   "cell_type": "markdown",
   "metadata": {},
   "source": [
    "**Kill 3.1 and 3.3, schedule more jobs in lr/wt viscinity of 3.2**"
   ]
  },
  {
   "cell_type": "markdown",
   "metadata": {},
   "source": [
    "**Test 3.2.1 and 3.2.2**"
   ]
  },
  {
   "cell_type": "markdown",
   "metadata": {},
   "source": [
    "## Experiment 1 "
   ]
  },
  {
   "cell_type": "code",
   "execution_count": null,
   "metadata": {
    "ExecuteTime": {
     "end_time": "2021-11-16T22:21:23.115151Z",
     "start_time": "2021-11-16T22:21:23.064797Z"
    }
   },
   "outputs": [],
   "source": [
    "df_test = pd.read_csv('./logs/DELPO_omniglot_5-way_1-shot_15-queries/exp1/test_all.csv')\n",
    "df_test1 = pd.read_csv('./logs/DELPO_omniglot_5-way_1-shot_15-queries/exp1/exp1_5500+/test.csv')"
   ]
  },
  {
   "cell_type": "code",
   "execution_count": null,
   "metadata": {
    "ExecuteTime": {
     "end_time": "2021-11-16T22:23:07.401531Z",
     "start_time": "2021-11-16T22:23:07.385568Z"
    }
   },
   "outputs": [],
   "source": [
    "df_test[df_test['CE_Loss'] == 'model_5500.pt']"
   ]
  },
  {
   "cell_type": "code",
   "execution_count": null,
   "metadata": {
    "ExecuteTime": {
     "end_time": "2021-11-16T22:25:20.885267Z",
     "start_time": "2021-11-16T22:25:20.844517Z"
    }
   },
   "outputs": [],
   "source": [
    "df_test1[df_test1['CE_Loss'] == 'model_8500.pt'].describe()"
   ]
  },
  {
   "cell_type": "code",
   "execution_count": null,
   "metadata": {
    "ExecuteTime": {
     "end_time": "2021-11-16T22:23:47.507075Z",
     "start_time": "2021-11-16T22:23:47.502742Z"
    }
   },
   "outputs": [],
   "source": [
    "df_test1.CE_Loss.unique()"
   ]
  },
  {
   "cell_type": "code",
   "execution_count": null,
   "metadata": {
    "ExecuteTime": {
     "end_time": "2021-11-16T20:10:28.962277Z",
     "start_time": "2021-11-16T20:10:28.579030Z"
    }
   },
   "outputs": [],
   "source": [
    "df_train = pd.read_csv('./logs/DELPO_omniglot_5-way_1-shot_15-queries/exp1/train.csv')\n",
    "df_valid = pd.read_csv('./logs/DELPO_omniglot_5-way_1-shot_15-queries/exp1/valid_all.csv')\n",
    "df_test = pd.read_csv('./logs/DELPO_omniglot_5-way_1-shot_15-queries/exp1/test_all.csv')\n",
    "df_train1 = pd.read_csv('./logs/DELPO_omniglot_5-way_1-shot_15-queries/exp1/train1.csv')\n",
    "df_train = pd.concat([df_train, df_train1])"
   ]
  },
  {
   "cell_type": "code",
   "execution_count": null,
   "metadata": {
    "ExecuteTime": {
     "end_time": "2021-11-16T20:10:30.874142Z",
     "start_time": "2021-11-16T20:10:30.116619Z"
    },
    "scrolled": false
   },
   "outputs": [],
   "source": [
    "plot_summarize([df_train, df_valid, df_test], ['accuracy', 'ELBO', 'Label_KL', 'Style_KL', 'Reconst_Loss', 'CE_Loss'], 20, 500)"
   ]
  },
  {
   "cell_type": "markdown",
   "metadata": {},
   "source": [
    "## Experiment 2 "
   ]
  },
  {
   "cell_type": "code",
   "execution_count": null,
   "metadata": {
    "ExecuteTime": {
     "end_time": "2021-11-21T11:40:44.853472Z",
     "start_time": "2021-11-21T11:40:44.555989Z"
    }
   },
   "outputs": [],
   "source": [
    "df_train = pd.read_csv('./logs/DELPO_omniglot_5-way_1-shot_15-queries/exp2/train.csv')\n",
    "df_valid = pd.read_csv('./logs/DELPO_omniglot_5-way_1-shot_15-queries/exp2/valid_all.csv')\n",
    "df_test = pd.read_csv('./logs/DELPO_omniglot_5-way_1-shot_15-queries/exp2/test_all.csv')\n",
    "df_valid = df_valid[~(df_valid['CE_Loss'] == 'model_last.pt')]\n",
    "df_test = df_test[~(df_test['CE_Loss'] == 'model_last.pt')]"
   ]
  },
  {
   "cell_type": "code",
   "execution_count": null,
   "metadata": {
    "ExecuteTime": {
     "end_time": "2021-11-21T11:40:46.166718Z",
     "start_time": "2021-11-21T11:40:45.503414Z"
    },
    "scrolled": false
   },
   "outputs": [],
   "source": [
    "plot_summarize([df_train, df_valid, df_test], ['accuracy', 'ELBO', 'Label_KL', 'Style_KL', 'Reconst_Loss', 'CE_Loss'], 20, 500)"
   ]
  },
  {
   "cell_type": "markdown",
   "metadata": {},
   "source": [
    "## Experiment 3 "
   ]
  },
  {
   "cell_type": "code",
   "execution_count": null,
   "metadata": {
    "ExecuteTime": {
     "end_time": "2022-02-08T11:54:35.308505Z",
     "start_time": "2022-02-08T11:54:35.096234Z"
    }
   },
   "outputs": [],
   "source": [
    "df_train = pd.read_csv('./logs/DELPO_omniglot_5-way_1-shot_15-queries/exp3/train.csv')\n",
    "df_valid = pd.read_csv('./logs/DELPO_omniglot_5-way_1-shot_15-queries/exp3/valid_all.csv')\n",
    "df_test = pd.read_csv('./logs/DELPO_omniglot_5-way_1-shot_15-queries/exp3/test_all1.csv')\n",
    "df_valid = df_valid[~(df_valid['CE_Loss'] == 'model_last.pt')]\n",
    "df_test = df_test[~(df_test['CE_Loss'] == 'model_last.pt')]"
   ]
  },
  {
   "cell_type": "code",
   "execution_count": null,
   "metadata": {
    "ExecuteTime": {
     "end_time": "2022-02-10T14:29:27.685994Z",
     "start_time": "2022-02-10T14:29:27.447557Z"
    }
   },
   "outputs": [],
   "source": [
    "df_train = pd.read_csv('./logs/DELPO_omniglot_5-way_1-shot_15-queries/exp3.2.1/train.csv')\n",
    "df_valid = pd.read_csv('./logs/DELPO_omniglot_5-way_1-shot_15-queries/exp3.2.1/valid_all.csv')\n",
    "df_test = pd.read_csv('./logs/DELPO_omniglot_5-way_1-shot_15-queries/exp3.2.1/test_all.csv')\n",
    "df_test1 = pd.read_csv('./logs/DELPO_omniglot_5-way_1-shot_15-queries/exp3.2.1/test_all1.csv')\n",
    "\n",
    "df_valid = df_valid[~(df_valid['CE_Loss'] == 'model_last.pt')]\n",
    "df_test = df_test[~(df_test['CE_Loss'] == 'model_last.pt')]"
   ]
  },
  {
   "cell_type": "code",
   "execution_count": null,
   "metadata": {
    "ExecuteTime": {
     "end_time": "2021-12-06T08:33:34.045154Z",
     "start_time": "2021-12-06T08:33:32.883841Z"
    }
   },
   "outputs": [],
   "source": [
    "df_train = pd.read_csv('/media/anuj/New Volume/Win_BKP/TU_Delft/research/implement/learning_to_meta-learn/logs/DELPO_omniglot_5-way_1-shot_15-queries/exp3/train.csv')\n",
    "df_train = df_train.groupby(np.arange(len(df_train)) // 20).mean()\n",
    "\n",
    "df_train1 = pd.read_csv('./logs/DELPO_omniglot_5-way_1-shot_15-queries/train3.csv')\n",
    "df_train1 = df_train1.groupby(np.arange(len(df_train1)) // 20).mean()\n",
    "\n",
    "df_train = pd.concat([df_train, df_train1], axis=1)\n",
    "df_train = df_train['accuracy']\n",
    "df_train.columns = ['acc1', 'acc2']\n",
    "\n",
    "fig = px.line(df_train)\n",
    "fig.show()"
   ]
  },
  {
   "cell_type": "markdown",
   "metadata": {},
   "source": [
    "**Seems close enough -- Test now!**"
   ]
  },
  {
   "cell_type": "code",
   "execution_count": null,
   "metadata": {
    "ExecuteTime": {
     "end_time": "2022-02-09T17:40:57.978248Z",
     "start_time": "2022-02-09T17:40:57.574553Z"
    },
    "scrolled": false
   },
   "outputs": [],
   "source": [
    "plot_summarize([df_train, df_valid, df_test], ['accuracy', 'ELBO', 'Label_KL', 'Style_KL', 'Reconst_Loss', 'CE_Loss'], 32, 500)"
   ]
  },
  {
   "cell_type": "code",
   "execution_count": null,
   "metadata": {
    "ExecuteTime": {
     "end_time": "2021-12-07T19:39:25.297432Z",
     "start_time": "2021-12-07T19:39:25.286730Z"
    }
   },
   "outputs": [],
   "source": [
    "conf_int(df_test[df_test['model_name'] == 'model_4500.pt']['accuracy'])"
   ]
  },
  {
   "cell_type": "code",
   "execution_count": null,
   "metadata": {
    "ExecuteTime": {
     "end_time": "2022-02-05T19:53:55.170485Z",
     "start_time": "2022-02-05T19:53:55.148789Z"
    }
   },
   "outputs": [],
   "source": [
    "df_test2 = pd.read_csv('./logs/DELPO_omniglot_5-way_1-shot_15-queries/exp3/test_all2.csv')\n",
    "df_test3 = pd.read_csv('./logs/DELPO_omniglot_5-way_1-shot_15-queries/exp3/test_all3.csv')\n",
    "df_test4 = pd.read_csv('./logs/DELPO_omniglot_5-way_1-shot_15-queries/exp3/test_all4.csv')\n",
    "test_report([df_test2, df_test3, df_test4])"
   ]
  },
  {
   "cell_type": "code",
   "execution_count": null,
   "metadata": {
    "ExecuteTime": {
     "end_time": "2022-02-10T14:29:39.261494Z",
     "start_time": "2022-02-10T14:29:39.226149Z"
    }
   },
   "outputs": [],
   "source": [
    "report(df_test1, 600)"
   ]
  },
  {
   "cell_type": "markdown",
   "metadata": {},
   "source": [
    "## Experiment 4 "
   ]
  },
  {
   "cell_type": "code",
   "execution_count": null,
   "metadata": {
    "ExecuteTime": {
     "end_time": "2021-11-20T15:14:16.141514Z",
     "start_time": "2021-11-20T15:14:15.778739Z"
    }
   },
   "outputs": [],
   "source": [
    "df_train = pd.read_csv('./logs/DELPO_omniglot_5-way_1-shot_15-queries/exp4/train.csv')\n",
    "df_valid = pd.read_csv('./logs/DELPO_omniglot_5-way_1-shot_15-queries/exp4/valid_all.csv')\n",
    "df_test = pd.read_csv('./logs/DELPO_omniglot_5-way_1-shot_15-queries/exp4/test_all.csv')\n",
    "df_valid = df_valid[~(df_valid['CE_Loss'] == 'model_last.pt')]\n",
    "df_test = df_test[~(df_test['CE_Loss'] == 'model_last.pt')]"
   ]
  },
  {
   "cell_type": "code",
   "execution_count": null,
   "metadata": {
    "ExecuteTime": {
     "end_time": "2021-11-20T15:14:17.438077Z",
     "start_time": "2021-11-20T15:14:16.808416Z"
    },
    "scrolled": false
   },
   "outputs": [],
   "source": [
    "plot_summarize([df_train, df_valid, df_test], ['accuracy', 'ELBO', 'Label_KL', 'Style_KL', 'Reconst_Loss', 'CE_Loss'], 20, 500)"
   ]
  },
  {
   "cell_type": "markdown",
   "metadata": {},
   "source": [
    "## Experiment 5 "
   ]
  },
  {
   "cell_type": "code",
   "execution_count": null,
   "metadata": {
    "ExecuteTime": {
     "end_time": "2021-11-20T15:10:28.340235Z",
     "start_time": "2021-11-20T15:10:27.689985Z"
    }
   },
   "outputs": [],
   "source": [
    "df_train = pd.read_csv('./logs/DELPO_omniglot_5-way_1-shot_15-queries/exp5/train.csv')\n",
    "df_valid = pd.read_csv('./logs/DELPO_omniglot_5-way_1-shot_15-queries/exp5/valid_all.csv')\n",
    "df_test = pd.read_csv('./logs/DELPO_omniglot_5-way_1-shot_15-queries/exp5/test_all.csv')\n",
    "df_train1 = pd.read_csv('./logs/DELPO_omniglot_5-way_1-shot_15-queries/exp5/exp5/train.csv')\n",
    "\n",
    "df_train = pd.concat([df_train, df_train1])\n",
    "df_valid = df_valid[~(df_valid['CE_Loss'] == 'model_last.pt')]\n",
    "df_test = df_test[~(df_test['CE_Loss'] == 'model_last.pt')]"
   ]
  },
  {
   "cell_type": "code",
   "execution_count": null,
   "metadata": {
    "ExecuteTime": {
     "end_time": "2021-11-20T15:10:32.845899Z",
     "start_time": "2021-11-20T15:10:30.995363Z"
    },
    "scrolled": false
   },
   "outputs": [],
   "source": [
    "plot_summarize([df_train, df_valid, df_test], ['accuracy', 'ELBO', 'Label_KL', 'Style_KL', 'Reconst_Loss', 'CE_Loss'], 20, 500)"
   ]
  },
  {
   "cell_type": "markdown",
   "metadata": {},
   "source": [
    "- **Resume run for exp5 for another 20k epochs/ retrain till 35k epochs = = Nah, doesn't improve significantly** <br>\n",
    "- **Run with ce_wt = 40 for 20k epochs**"
   ]
  },
  {
   "cell_type": "markdown",
   "metadata": {},
   "source": [
    "# tiered: 5-way, 1-shot, 15-queries: vanilla"
   ]
  },
  {
   "cell_type": "code",
   "execution_count": null,
   "metadata": {
    "ExecuteTime": {
     "end_time": "2021-12-15T13:25:20.653048Z",
     "start_time": "2021-12-15T13:25:20.365194Z"
    }
   },
   "outputs": [],
   "source": [
    "df_test = pd.read_csv('./logs/DELPO_tiered_5-way_1-shot_15-queries/vanilla/test_all1.csv')\n",
    "df_test1 = pd.read_csv('./logs/DELPO_tiered_5-way_1-shot_15-queries/vanilla/test.csv', header=None)\n"
   ]
  },
  {
   "cell_type": "code",
   "execution_count": null,
   "metadata": {
    "ExecuteTime": {
     "end_time": "2021-12-15T13:25:42.448464Z",
     "start_time": "2021-12-15T13:25:42.430734Z"
    }
   },
   "outputs": [],
   "source": [
    "df_test"
   ]
  },
  {
   "cell_type": "code",
   "execution_count": null,
   "metadata": {
    "ExecuteTime": {
     "end_time": "2021-12-15T13:26:28.846718Z",
     "start_time": "2021-12-15T13:26:28.842439Z"
    }
   },
   "outputs": [],
   "source": [
    "df_test1.drop(columns=[0], inplace=True)"
   ]
  },
  {
   "cell_type": "code",
   "execution_count": null,
   "metadata": {
    "ExecuteTime": {
     "end_time": "2021-12-15T13:26:32.493140Z",
     "start_time": "2021-12-15T13:26:32.490197Z"
    }
   },
   "outputs": [],
   "source": [
    "df_test1.columns = df_test.columns"
   ]
  },
  {
   "cell_type": "code",
   "execution_count": null,
   "metadata": {
    "ExecuteTime": {
     "end_time": "2021-12-15T13:26:34.168900Z",
     "start_time": "2021-12-15T13:26:34.146915Z"
    }
   },
   "outputs": [],
   "source": [
    "df_test = pd.concat([df_test, df_test1])\n",
    "df_test"
   ]
  },
  {
   "cell_type": "code",
   "execution_count": null,
   "metadata": {
    "ExecuteTime": {
     "end_time": "2021-12-15T13:27:31.989933Z",
     "start_time": "2021-12-15T13:27:29.765841Z"
    }
   },
   "outputs": [],
   "source": [
    "df_test.reset_index(inplace=True)\n",
    "df_test.to_csv('./logs/DELPO_tiered_5-way_1-shot_15-queries/vanilla/test_allnew.csv')"
   ]
  },
  {
   "cell_type": "code",
   "execution_count": null,
   "metadata": {
    "ExecuteTime": {
     "end_time": "2021-12-15T15:00:01.665939Z",
     "start_time": "2021-12-15T15:00:00.242346Z"
    }
   },
   "outputs": [],
   "source": [
    "df_train = pd.read_csv('./logs/DELPO_tiered_5-way_1-shot_15-queries/vanilla/train1.csv')\n",
    "df_valid = pd.read_csv('./logs/DELPO_tiered_5-way_1-shot_15-queries/vanilla/valid_all1.csv')\n",
    "df_test = pd.read_csv('./logs/DELPO_tiered_5-way_1-shot_15-queries/vanilla/test_allnew.csv')\n",
    "df_test = df_test[~(df_test['CE_Loss'] == 'model_last.pt')]\n",
    "df_valid = df_valid[~(df_valid['CE_Loss'] == 'model_last.pt')]"
   ]
  },
  {
   "cell_type": "code",
   "execution_count": null,
   "metadata": {
    "ExecuteTime": {
     "end_time": "2021-12-15T15:00:05.192080Z",
     "start_time": "2021-12-15T15:00:01.667387Z"
    },
    "scrolled": false
   },
   "outputs": [],
   "source": [
    "plot_summarize([df_train, df_valid, df_test], ['accuracy', 'ELBO', 'Label_KL', 'Style_KL', 'Reconst_Loss', 'CE_Loss'], 20, 500)"
   ]
  },
  {
   "cell_type": "code",
   "execution_count": null,
   "metadata": {},
   "outputs": [],
   "source": []
  },
  {
   "cell_type": "code",
   "execution_count": null,
   "metadata": {
    "ExecuteTime": {
     "end_time": "2021-12-14T07:44:55.614493Z",
     "start_time": "2021-12-14T07:44:44.692510Z"
    }
   },
   "outputs": [],
   "source": [
    "df_train1 = pd.read_csv('./logs/DELPO_tiered_5-way_1-shot_15-queries/vanilla/train1.csv')\n",
    "df_train1 = df_train1.groupby(np.arange(len(df_train1)) // 20).mean()\n",
    "df_train2 = pd.read_csv('./logs/DELPO_tiered_5-way_1-shot_15-queries/vanilla/train2.csv')\n",
    "df_train2 = df_train2.groupby(np.arange(len(df_train2)) // 20).mean()\n",
    "df_train3 = pd.read_csv('./logs/DELPO_tiered_5-way_1-shot_15-queries/vanilla/train3.csv')\n",
    "df_train3 = df_train3.groupby(np.arange(len(df_train3)) // 20).mean()\n",
    "df_train4 = pd.read_csv('./logs/DELPO_tiered_5-way_1-shot_15-queries/vanilla/train4.csv')\n",
    "df_train4 = df_train4.groupby(np.arange(len(df_train4)) // 20).mean()\n",
    "df_train5 = pd.read_csv('./logs/DELPO_tiered_5-way_1-shot_15-queries/vanilla/train5.csv')\n",
    "df_train5 = df_train5.groupby(np.arange(len(df_train5)) // 20).mean()\n",
    "df_train6 = pd.read_csv('./logs/DELPO_tiered_5-way_1-shot_15-queries/vanilla/train6.csv')\n",
    "df_train6 = df_train6.groupby(np.arange(len(df_train6)) // 20).mean()\n",
    "\n",
    "df_train = pd.concat([df_train1, df_train2, df_train3, df_train4, df_train5, df_train6], axis=1)\n",
    "df_train = df_train['accuracy']\n",
    "df_train.columns = ['acc1', 'acc2', 'acc3', 'acc4', 'acc5', 'acc6']\n",
    "#df_train.dropna(inplace=True)\n",
    "\n",
    "fig = px.line(df_train)\n",
    "fig.show()"
   ]
  },
  {
   "cell_type": "markdown",
   "metadata": {},
   "source": [
    "# tiered: 5-way, 1-shot, 10-queries: TAD"
   ]
  },
  {
   "cell_type": "markdown",
   "metadata": {},
   "source": [
    "## TAFE "
   ]
  },
  {
   "cell_type": "code",
   "execution_count": null,
   "metadata": {
    "ExecuteTime": {
     "end_time": "2022-01-13T16:20:24.687563Z",
     "start_time": "2022-01-13T16:20:20.315494Z"
    }
   },
   "outputs": [],
   "source": [
    "df_train5 = pd.read_csv(f'./logs/DELPO_tiered_5-way_1-shot_10-queries/exp5-tafe(wo relu)/train.csv')\n",
    "df_train5 = df_train5.groupby(np.arange(len(df_train5)) // 20).mean()\n",
    "df_train6 = pd.read_csv('./logs/DELPO_tiered_5-way_1-shot_10-queries/exp5-tafe(w relu)/train.csv')\n",
    "df_train6 = df_train6.groupby(np.arange(len(df_train6)) // 20).mean()\n",
    "\n",
    "df_train = pd.concat([df_train5, df_train6], axis=1)\n",
    "df_train = df_train['accuracy']\n",
    "df_train.columns = ['acc5', 'acc6']\n",
    "#df_train.dropna(inplace=True)\n",
    "\n",
    "fig = px.line(df_train)\n",
    "fig.show()"
   ]
  },
  {
   "cell_type": "code",
   "execution_count": null,
   "metadata": {
    "ExecuteTime": {
     "end_time": "2022-01-09T07:59:56.133217Z",
     "start_time": "2022-01-09T07:59:49.723050Z"
    }
   },
   "outputs": [],
   "source": [
    "df_train1 = pd.read_csv('./logs/DELPO_tiered_5-way_1-shot_10-queries/exp1-tafe/train.csv')\n",
    "df_train1 = df_train1.groupby(np.arange(len(df_train1)) // 20).mean()\n",
    "df_train2 = pd.read_csv('./logs/DELPO_tiered_5-way_1-shot_10-queries/exp2-tafe/train.csv')\n",
    "df_train2 = df_train2.groupby(np.arange(len(df_train2)) // 20).mean()\n",
    "df_train3 = pd.read_csv('./logs/DELPO_tiered_5-way_1-shot_10-queries/exp3-tafe/train.csv')\n",
    "df_train3 = df_train3.groupby(np.arange(len(df_train3)) // 20).mean()\n",
    "df_train4 = pd.read_csv('./logs/DELPO_tiered_5-way_1-shot_10-queries/exp4-tafe/train.csv')\n",
    "df_train4 = df_train4.groupby(np.arange(len(df_train4)) // 20).mean()\n",
    "df_train5 = pd.read_csv(f'./logs/DELPO_tiered_5-way_1-shot_10-queries/exp5-tafe(wo relu)/train.csv')\n",
    "df_train5 = df_train5.groupby(np.arange(len(df_train5)) // 20).mean()\n",
    "df_train6 = pd.read_csv('./logs/DELPO_tiered_5-way_1-shot_10-queries/exp6-tafe/train.csv')\n",
    "df_train6 = df_train6.groupby(np.arange(len(df_train6)) // 20).mean()\n",
    "\n",
    "df_train = pd.concat([df_train1, df_train2, df_train3, df_train4, df_train5, df_train6], axis=1)\n",
    "df_train = df_train['accuracy']\n",
    "df_train.columns = ['acc1', 'acc2', 'acc3', 'acc4', 'acc5', 'acc6']\n",
    "#df_train.dropna(inplace=True)\n",
    "\n",
    "fig = px.line(df_train)\n",
    "fig.show()"
   ]
  },
  {
   "cell_type": "code",
   "execution_count": null,
   "metadata": {
    "ExecuteTime": {
     "end_time": "2022-01-17T15:06:25.581424Z",
     "start_time": "2022-01-17T15:06:25.570110Z"
    }
   },
   "outputs": [],
   "source": [
    "df_test"
   ]
  },
  {
   "cell_type": "code",
   "execution_count": null,
   "metadata": {
    "ExecuteTime": {
     "end_time": "2022-01-17T15:22:45.995628Z",
     "start_time": "2022-01-17T15:22:45.992311Z"
    }
   },
   "outputs": [],
   "source": [
    "df_train = df_train.iloc[:60000*20]\n",
    "df_valid = df_valid.iloc[:120*500]"
   ]
  },
  {
   "cell_type": "code",
   "execution_count": null,
   "metadata": {
    "ExecuteTime": {
     "end_time": "2022-01-17T15:28:47.995661Z",
     "start_time": "2022-01-17T15:28:47.983545Z"
    }
   },
   "outputs": [],
   "source": [
    "df_valid"
   ]
  },
  {
   "cell_type": "code",
   "execution_count": null,
   "metadata": {
    "ExecuteTime": {
     "end_time": "2022-01-17T15:29:37.827031Z",
     "start_time": "2022-01-17T15:29:37.814012Z"
    }
   },
   "outputs": [],
   "source": [
    "df_valid = df_valid[~(df_valid['CE_Loss'] == 'model_67500.pt')]"
   ]
  },
  {
   "cell_type": "code",
   "execution_count": null,
   "metadata": {
    "ExecuteTime": {
     "end_time": "2022-01-17T15:35:23.695474Z",
     "start_time": "2022-01-17T15:35:23.678176Z"
    }
   },
   "outputs": [],
   "source": [
    "df_test"
   ]
  },
  {
   "cell_type": "code",
   "execution_count": null,
   "metadata": {
    "ExecuteTime": {
     "end_time": "2022-01-17T15:36:54.520722Z",
     "start_time": "2022-01-17T15:36:54.478526Z"
    }
   },
   "outputs": [],
   "source": [
    "df_train = df_train.iloc[:, 1:]\n",
    "df_train"
   ]
  },
  {
   "cell_type": "code",
   "execution_count": null,
   "metadata": {
    "ExecuteTime": {
     "end_time": "2022-01-17T15:37:20.183488Z",
     "start_time": "2022-01-17T15:37:10.203414Z"
    }
   },
   "outputs": [],
   "source": [
    "df_train.to_csv(f'./logs/DELPO_tiered_5-way_1-shot_10-queries/exp5-tafe(wo relu)/train_final.csv', index=False)"
   ]
  },
  {
   "cell_type": "code",
   "execution_count": null,
   "metadata": {
    "ExecuteTime": {
     "end_time": "2022-01-27T12:49:06.775591Z",
     "start_time": "2022-01-27T12:49:05.870393Z"
    }
   },
   "outputs": [],
   "source": [
    "df_train = pd.read_csv(f'./logs/DELPO_tiered_5-way_1-shot_10-queries/exp5-tafe(wo relu)/train_final.csv')\n",
    "df_valid = pd.read_csv(f'./logs/DELPO_tiered_5-way_1-shot_10-queries/exp5-tafe(wo relu)/valid_all_final.csv')\n",
    "df_test = pd.read_csv(f'./logs/DELPO_tiered_5-way_1-shot_10-queries/exp5-tafe(wo relu)/test_all_final.csv')\n",
    "df_test = df_test[~(df_test['CE_Loss'] == 'model_last.pt')]\n",
    "df_valid = df_valid[~(df_valid['CE_Loss'] == 'model_last.pt')]"
   ]
  },
  {
   "cell_type": "code",
   "execution_count": null,
   "metadata": {
    "ExecuteTime": {
     "end_time": "2022-01-27T12:49:56.110476Z",
     "start_time": "2022-01-27T12:49:54.041453Z"
    },
    "scrolled": true
   },
   "outputs": [],
   "source": [
    "plot_summarize([df_train, df_valid, df_test], ['accuracy', 'ELBO', 'Label_KL', 'Style_KL', 'Reconst_Loss', 'CE_Loss'], 20, 500)"
   ]
  },
  {
   "cell_type": "code",
   "execution_count": null,
   "metadata": {
    "ExecuteTime": {
     "end_time": "2022-01-27T12:50:04.141022Z",
     "start_time": "2022-01-27T12:50:04.127396Z"
    }
   },
   "outputs": [],
   "source": [
    "conf_int(df_test[df_test['model_name'] == 'model_59500.pt']['accuracy'])"
   ]
  },
  {
   "cell_type": "code",
   "execution_count": null,
   "metadata": {
    "ExecuteTime": {
     "end_time": "2022-01-27T12:49:48.841993Z",
     "start_time": "2022-01-27T12:49:48.811746Z"
    }
   },
   "outputs": [],
   "source": [
    "df_test2 = pd.read_csv(f'./logs/DELPO_tiered_5-way_1-shot_10-queries/exp5-tafe(wo relu)/test_all2.csv')\n",
    "df_test3 = pd.read_csv(f'./logs/DELPO_tiered_5-way_1-shot_10-queries/exp5-tafe(wo relu)/test_all3.csv')\n",
    "df_test4 = pd.read_csv(f'./logs/DELPO_tiered_5-way_1-shot_10-queries/exp5-tafe(wo relu)/test_all4.csv')\n",
    "test_report([df_test2, df_test3, df_test4])"
   ]
  },
  {
   "cell_type": "markdown",
   "metadata": {},
   "source": [
    "## EAEN "
   ]
  },
  {
   "cell_type": "code",
   "execution_count": null,
   "metadata": {
    "ExecuteTime": {
     "end_time": "2021-12-22T15:33:57.505651Z",
     "start_time": "2021-12-22T15:33:54.821210Z"
    }
   },
   "outputs": [],
   "source": [
    "df_train1 = pd.read_csv('./logs/DELPO_tiered_5-way_1-shot_10-queries/exp3-eaen/train.csv')\n",
    "df_train1 = df_train1.groupby(np.arange(len(df_train1)) // 20).mean()\n",
    "\n",
    "df_train2 = pd.read_csv('./logs/DELPO_tiered_5-way_1-shot_10-queries/train3.csv')\n",
    "df_train2 = df_train2.groupby(np.arange(len(df_train2)) // 20).mean()\n",
    "\n",
    "df_train = pd.concat([df_train1, df_train2], axis=1)\n",
    "df_train = df_train['accuracy']\n",
    "df_train.columns = ['acc1', 'acc2']\n",
    "#df_train.dropna(inplace=True)\n",
    "\n",
    "fig = px.line(df_train)\n",
    "fig.show()"
   ]
  },
  {
   "cell_type": "code",
   "execution_count": null,
   "metadata": {
    "ExecuteTime": {
     "end_time": "2021-12-07T19:42:03.181643Z",
     "start_time": "2021-12-07T19:42:02.545931Z"
    }
   },
   "outputs": [],
   "source": [
    "df_train = pd.read_csv('./logs/DELPO_tiered_5-way_1-shot_10-queries/exp3-eaen/train.csv')\n",
    "df_valid = pd.read_csv('./logs/DELPO_tiered_5-way_1-shot_10-queries/exp3-eaen/valid_all.csv')\n",
    "df_test = pd.read_csv('./logs/DELPO_tiered_5-way_1-shot_10-queries/exp3-eaen/test_all1.csv')\n",
    "df_test = df_test[~(df_test['CE_Loss'] == 'model_last.pt')]\n",
    "df_valid = df_valid[~(df_valid['CE_Loss'] == 'model_last.pt')]"
   ]
  },
  {
   "cell_type": "code",
   "execution_count": null,
   "metadata": {
    "ExecuteTime": {
     "end_time": "2021-12-07T19:42:06.185387Z",
     "start_time": "2021-12-07T19:42:04.085200Z"
    },
    "scrolled": false
   },
   "outputs": [],
   "source": [
    "plot_summarize([df_train, df_valid, df_test], ['accuracy', 'ELBO', 'Label_KL', 'Style_KL', 'Reconst_Loss', 'CE_Loss'], 20, 500)"
   ]
  },
  {
   "cell_type": "code",
   "execution_count": null,
   "metadata": {
    "ExecuteTime": {
     "end_time": "2021-12-07T19:42:32.967019Z",
     "start_time": "2021-12-07T19:42:32.947321Z"
    }
   },
   "outputs": [],
   "source": [
    "conf_int(df_test[df_test['model_name'] == 'model_25000.pt']['accuracy'])"
   ]
  },
  {
   "cell_type": "code",
   "execution_count": null,
   "metadata": {
    "ExecuteTime": {
     "end_time": "2021-12-07T19:42:50.701386Z",
     "start_time": "2021-12-07T19:42:50.675525Z"
    }
   },
   "outputs": [],
   "source": [
    "df_test2 = pd.read_csv('./logs/DELPO_tiered_5-way_1-shot_10-queries/exp3-eaen/test_all2.csv')\n",
    "df_test3 = pd.read_csv('./logs/DELPO_tiered_5-way_1-shot_10-queries/exp3-eaen/test_all3.csv')\n",
    "df_test4 = pd.read_csv('./logs/DELPO_tiered_5-way_1-shot_10-queries/exp3-eaen/test_all4.csv')\n",
    "test_report([df_test2, df_test3, df_test4])"
   ]
  },
  {
   "cell_type": "markdown",
   "metadata": {},
   "source": [
    "**Let run, check again in 2 days**"
   ]
  },
  {
   "cell_type": "markdown",
   "metadata": {},
   "source": [
    "# tiered: 5-way, 5-shot, 15-queries: vanilla"
   ]
  },
  {
   "cell_type": "code",
   "execution_count": null,
   "metadata": {
    "ExecuteTime": {
     "end_time": "2021-12-15T15:00:21.495502Z",
     "start_time": "2021-12-15T15:00:20.475915Z"
    }
   },
   "outputs": [],
   "source": [
    "df_train = pd.read_csv('./logs/DELPO_tiered_5-way_5-shot_10-queries/vanilla/train6.csv')\n",
    "df_valid = pd.read_csv('./logs/DELPO_tiered_5-way_5-shot_10-queries/vanilla/valid_all6.csv')\n",
    "df_test = pd.read_csv('./logs/DELPO_tiered_5-way_5-shot_10-queries/vanilla/test_all6.csv')\n",
    "df_test = df_test[~(df_test['CE_Loss'] == 'model_last.pt')]\n",
    "df_valid = df_valid[~(df_valid['CE_Loss'] == 'model_last.pt')]"
   ]
  },
  {
   "cell_type": "code",
   "execution_count": null,
   "metadata": {
    "ExecuteTime": {
     "end_time": "2021-12-15T15:00:23.642975Z",
     "start_time": "2021-12-15T15:00:21.497198Z"
    },
    "scrolled": false
   },
   "outputs": [],
   "source": [
    "plot_summarize([df_train, df_valid, df_test], ['accuracy', 'ELBO', 'Label_KL', 'Style_KL', 'Reconst_Loss', 'CE_Loss'], 20, 500)"
   ]
  },
  {
   "cell_type": "code",
   "execution_count": null,
   "metadata": {},
   "outputs": [],
   "source": []
  },
  {
   "cell_type": "code",
   "execution_count": null,
   "metadata": {
    "ExecuteTime": {
     "end_time": "2021-12-22T07:41:22.286495Z",
     "start_time": "2021-12-22T07:41:15.007947Z"
    }
   },
   "outputs": [],
   "source": [
    "df_train1 = pd.read_csv('./logs/DELPO_tiered_5-way_5-shot_10-queries/vanilla/train1.csv')\n",
    "df_train1 = df_train1.groupby(np.arange(len(df_train1)) // 20).mean()\n",
    "df_train2 = pd.read_csv('./logs/DELPO_tiered_5-way_5-shot_10-queries/vanilla/train2.csv')\n",
    "df_train2 = df_train2.groupby(np.arange(len(df_train2)) // 20).mean()\n",
    "df_train3 = pd.read_csv('./logs/DELPO_tiered_5-way_5-shot_10-queries/vanilla/train3.csv')\n",
    "df_train3 = df_train3.groupby(np.arange(len(df_train3)) // 20).mean()\n",
    "df_train4 = pd.read_csv('./logs/DELPO_tiered_5-way_5-shot_10-queries/vanilla/train4.csv')\n",
    "df_train4 = df_train4.groupby(np.arange(len(df_train4)) // 20).mean()\n",
    "df_train5 = pd.read_csv('./logs/DELPO_tiered_5-way_5-shot_10-queries/vanilla/train5.csv')\n",
    "df_train5 = df_train5.groupby(np.arange(len(df_train5)) // 20).mean()\n",
    "df_train6 = pd.read_csv('./logs/DELPO_tiered_5-way_5-shot_10-queries/vanilla/train6.csv')\n",
    "df_train6 = df_train6.groupby(np.arange(len(df_train6)) // 20).mean()\n",
    "\n",
    "df_train = pd.concat([df_train1, df_train2, df_train3, df_train4, df_train5, df_train6], axis=1)\n",
    "df_train = df_train['accuracy']\n",
    "df_train.columns = ['acc1', 'acc2', 'acc3', 'acc4', 'acc5', 'acc6']\n",
    "#df_train.dropna(inplace=True)\n",
    "\n",
    "fig = px.line(df_train)\n",
    "fig.show()"
   ]
  },
  {
   "cell_type": "markdown",
   "metadata": {},
   "source": [
    "# tiered: 5-way, 5-shot, 10-queries with TAD"
   ]
  },
  {
   "cell_type": "markdown",
   "metadata": {},
   "source": [
    "## TAFE "
   ]
  },
  {
   "cell_type": "code",
   "execution_count": null,
   "metadata": {
    "ExecuteTime": {
     "end_time": "2022-02-10T14:07:25.205202Z",
     "start_time": "2022-02-10T14:07:21.911022Z"
    }
   },
   "outputs": [],
   "source": [
    "df_train1 = pd.read_csv('./logs/DELPO_tiered_5-way_5-shot_10-queries/stash/train5.csv')\n",
    "df_train1 = df_train1.groupby(np.arange(len(df_train1)) // 20).mean()\n",
    "df_train2 = pd.read_csv('./logs/DELPO_tiered_5-way_5-shot_10-queries/stash/train6.csv')\n",
    "df_train2 = df_train2.groupby(np.arange(len(df_train2)) // 20).mean()\n",
    "df_train3 = pd.read_csv('./logs/DELPO_tiered_5-way_5-shot_10-queries/train7.csv')\n",
    "df_train3 = df_train3.groupby(np.arange(len(df_train3)) // 20).mean()\n",
    "# df_train4 = pd.read_csv('./logs/DELPO_tiered_5-way_5-shot_10-queries/train4.csv')\n",
    "# df_train4 = df_train4.groupby(np.arange(len(df_train4)) // 20).mean()\n",
    "df_train5 = pd.read_csv('./logs/DELPO_tiered_5-way_5-shot_10-queries/exp5.1-tafe/train.csv')\n",
    "df_train5 = df_train5.groupby(np.arange(len(df_train5)) // 20).mean()\n",
    "# df_train6 = pd.read_csv('./logs/DELPO_tiered_5-way_5-shot_10-queries/exp5-tafe2/train.csv')\n",
    "# df_train6 = df_train6.groupby(np.arange(len(df_train6)) // 20).mean()\n",
    "\n",
    "df_train = pd.concat([df_train1, df_train2, df_train3, df_train5], axis=1)\n",
    "df_train = df_train['accuracy']\n",
    "df_train.columns = ['acc1', 'acc2', 'acc3', 'acc5']\n",
    "#df_train.dropna(inplace=True)\n",
    "\n",
    "fig = px.line(df_train)\n",
    "fig.show()"
   ]
  },
  {
   "cell_type": "markdown",
   "metadata": {},
   "source": [
    "**Monitor again after a day, 5.7 most promising**"
   ]
  },
  {
   "cell_type": "markdown",
   "metadata": {},
   "source": [
    "**All runs but the 1st one worked out, let 5.1 run for another 1/2 day - Testing!**"
   ]
  },
  {
   "cell_type": "code",
   "execution_count": null,
   "metadata": {
    "ExecuteTime": {
     "end_time": "2022-01-15T11:01:46.067134Z",
     "start_time": "2022-01-15T11:01:45.374372Z"
    }
   },
   "outputs": [],
   "source": [
    "df_train = pd.read_csv('./logs/DELPO_tiered_5-way_5-shot_10-queries/train1.csv')\n",
    "df_valid = pd.read_csv('./logs/DELPO_tiered_5-way_5-shot_10-queries/valid.csv')\n",
    "df_test = pd.read_csv('./logs/DELPO_tiered_5-way_5-shot_10-queries/test.csv')"
   ]
  },
  {
   "cell_type": "code",
   "execution_count": null,
   "metadata": {
    "ExecuteTime": {
     "end_time": "2022-02-10T14:30:37.447897Z",
     "start_time": "2022-02-10T14:30:36.574853Z"
    }
   },
   "outputs": [],
   "source": [
    "df_train = pd.read_csv('./logs/DELPO_tiered_5-way_5-shot_10-queries/exp5.1-tafe/train.csv')\n",
    "df_valid = pd.read_csv('./logs/DELPO_tiered_5-way_5-shot_10-queries/exp5.1-tafe/valid_all.csv')\n",
    "df_test = pd.read_csv('./logs/DELPO_tiered_5-way_5-shot_10-queries/exp5.1-tafe/test_all.csv')\n",
    "df_test1 = pd.read_csv('./logs/DELPO_tiered_5-way_5-shot_10-queries/exp5.1-tafe/test_all5.csv')\n",
    "df_test = df_test[~(df_test['CE_Loss'] == 'model_last.pt')]\n",
    "df_valid = df_valid[~(df_valid['CE_Loss'] == 'model_last.pt')]"
   ]
  },
  {
   "cell_type": "code",
   "execution_count": null,
   "metadata": {
    "ExecuteTime": {
     "end_time": "2022-02-09T17:48:12.398360Z",
     "start_time": "2022-02-09T17:48:10.110252Z"
    },
    "scrolled": false
   },
   "outputs": [],
   "source": [
    "plot_summarize([df_train, df_valid, df_test], ['accuracy', 'ELBO', 'Label_KL', 'Style_KL', 'Reconst_Loss', 'CE_Loss'], 20, 500)"
   ]
  },
  {
   "cell_type": "code",
   "execution_count": null,
   "metadata": {
    "ExecuteTime": {
     "end_time": "2022-02-09T17:48:34.701305Z",
     "start_time": "2022-02-09T17:48:34.665734Z"
    }
   },
   "outputs": [],
   "source": [
    "conf_int(df_test[df_test['model_name'] == 'model_27500.pt']['accuracy'])"
   ]
  },
  {
   "cell_type": "code",
   "execution_count": null,
   "metadata": {
    "ExecuteTime": {
     "end_time": "2022-02-09T17:48:32.996037Z",
     "start_time": "2022-02-09T17:48:32.967434Z"
    }
   },
   "outputs": [],
   "source": [
    "df_test2 = pd.read_csv('./logs/DELPO_tiered_5-way_5-shot_10-queries/exp5.1-tafe/test_all2.csv')\n",
    "df_test3 = pd.read_csv('./logs/DELPO_tiered_5-way_5-shot_10-queries/exp5.1-tafe/test_all3.csv')\n",
    "df_test4 = pd.read_csv('./logs/DELPO_tiered_5-way_5-shot_10-queries/exp5.1-tafe/test_all4.csv')\n",
    "test_report([df_test2, df_test3, df_test4])"
   ]
  },
  {
   "cell_type": "code",
   "execution_count": null,
   "metadata": {
    "ExecuteTime": {
     "end_time": "2022-02-10T14:30:53.093719Z",
     "start_time": "2022-02-10T14:30:53.070661Z"
    }
   },
   "outputs": [],
   "source": [
    "report(df_test1, 2000)"
   ]
  },
  {
   "cell_type": "markdown",
   "metadata": {},
   "source": [
    "**Satisfactory test resutls, but I think can be pushed further. Test at EOD again, train curve seems to be improving! <br>\n",
    "LATER: Try the same and maybe more runs on the A6000**"
   ]
  },
  {
   "cell_type": "markdown",
   "metadata": {},
   "source": [
    "## EAEN: "
   ]
  },
  {
   "cell_type": "code",
   "execution_count": null,
   "metadata": {
    "ExecuteTime": {
     "end_time": "2021-12-10T12:03:44.722633Z",
     "start_time": "2021-12-10T12:03:44.181761Z"
    }
   },
   "outputs": [],
   "source": [
    "df_train = pd.read_csv('./logs/DELPO_tiered_5-way_5-shot_10-queries/exp6-eaen/train.csv')\n",
    "df_valid = pd.read_csv('./logs/DELPO_tiered_5-way_5-shot_10-queries/exp6-eaen/valid_all.csv')\n",
    "df_test = pd.read_csv('./logs/DELPO_tiered_5-way_5-shot_10-queries/exp6-eaen/test_all.csv')\n",
    "df_test = df_test[~(df_test['CE_Loss'] == 'model_last.pt')]\n",
    "df_valid = df_valid[~(df_valid['CE_Loss'] == 'model_last.pt')]"
   ]
  },
  {
   "cell_type": "code",
   "execution_count": null,
   "metadata": {
    "ExecuteTime": {
     "end_time": "2021-12-10T12:03:46.723548Z",
     "start_time": "2021-12-10T12:03:45.384652Z"
    },
    "scrolled": false
   },
   "outputs": [],
   "source": [
    "plot_summarize([df_train, df_valid, df_test], ['accuracy', 'ELBO', 'Label_KL', 'Style_KL', 'Reconst_Loss', 'CE_Loss'], 20, 500)"
   ]
  },
  {
   "cell_type": "code",
   "execution_count": null,
   "metadata": {
    "ExecuteTime": {
     "end_time": "2021-12-10T12:06:31.026366Z",
     "start_time": "2021-12-10T12:06:27.726809Z"
    },
    "scrolled": false
   },
   "outputs": [],
   "source": [
    "df_train = pd.read_csv('./logs/DELPO_tiered_5-way_5-shot_10-queries/exp3-eaen/train.csv')\n",
    "df_valid = pd.read_csv('./logs/DELPO_tiered_5-way_5-shot_10-queries/exp3-eaen/valid_all.csv')\n",
    "df_test = pd.read_csv('./logs/DELPO_tiered_5-way_5-shot_10-queries/exp3-eaen/test_all1.csv')\n",
    "df_test = df_test[~(df_test['CE_Loss'] == 'model_last.pt')]\n",
    "df_valid = df_valid[~(df_valid['CE_Loss'] == 'model_last.pt')]\n",
    "\n",
    "plot_summarize([df_train, df_valid, df_test], ['accuracy', 'ELBO', 'Label_KL', 'Style_KL', 'Reconst_Loss', 'CE_Loss'], 20, 500)"
   ]
  },
  {
   "cell_type": "code",
   "execution_count": null,
   "metadata": {
    "ExecuteTime": {
     "end_time": "2021-12-07T19:47:07.747481Z",
     "start_time": "2021-12-07T19:47:07.725976Z"
    }
   },
   "outputs": [],
   "source": [
    "conf_int(df_test[df_test['model_name'] == 'model_26000.pt']['accuracy'])"
   ]
  },
  {
   "cell_type": "code",
   "execution_count": null,
   "metadata": {
    "ExecuteTime": {
     "end_time": "2021-12-07T19:47:13.852051Z",
     "start_time": "2021-12-07T19:47:13.811333Z"
    }
   },
   "outputs": [],
   "source": [
    "df_test2 = pd.read_csv('./logs/DELPO_tiered_5-way_5-shot_10-queries/exp3-eaen/test_all2.csv')\n",
    "df_test3 = pd.read_csv('./logs/DELPO_tiered_5-way_5-shot_10-queries/exp3-eaen/test_all3.csv')\n",
    "df_test4 = pd.read_csv('./logs/DELPO_tiered_5-way_5-shot_10-queries/exp3-eaen/test_all4.csv')\n",
    "test_report([df_test2, df_test3, df_test4])"
   ]
  },
  {
   "cell_type": "code",
   "execution_count": null,
   "metadata": {
    "ExecuteTime": {
     "end_time": "2021-12-10T16:50:39.598806Z",
     "start_time": "2021-12-10T16:50:37.677490Z"
    }
   },
   "outputs": [],
   "source": [
    "df_train1 = pd.read_csv('./logs/DELPO_tiered_5-way_5-shot_10-queries/exp3-eaen/train.csv')\n",
    "df_train1 = df_train1.groupby(np.arange(len(df_train1)) // 20).mean()\n",
    "\n",
    "df_train2 = pd.read_csv('./logs/DELPO_tiered_5-way_5-shot_10-queries/train.csv')\n",
    "df_train2 = df_train2.groupby(np.arange(len(df_train2)) // 20).mean()\n",
    "\n",
    "df_train = pd.concat([df_train1, df_train2], axis=1)\n",
    "df_train = df_train['accuracy']\n",
    "df_train.columns = ['acc1', 'acc2']\n",
    "#df_train.dropna(inplace=True)\n",
    "\n",
    "fig = px.line(df_train)\n",
    "fig.show()"
   ]
  },
  {
   "cell_type": "markdown",
   "metadata": {
    "ExecuteTime": {
     "end_time": "2021-11-20T16:32:51.218376Z",
     "start_time": "2021-11-20T16:32:51.211995Z"
    }
   },
   "source": [
    "**Try out a few more configs of lr + ce_wt manipulation**"
   ]
  },
  {
   "cell_type": "code",
   "execution_count": null,
   "metadata": {
    "ExecuteTime": {
     "end_time": "2021-12-23T14:19:50.229401Z",
     "start_time": "2021-12-23T14:19:44.639974Z"
    }
   },
   "outputs": [],
   "source": [
    "df_train1 = pd.read_csv('./logs/DELPO_tiered_5-way_5-shot_10-queries/stash/train1.csv')\n",
    "df_train1 = df_train1.groupby(np.arange(len(df_train1)) // 20).mean()\n",
    "df_train2 = pd.read_csv('./logs/DELPO_tiered_5-way_5-shot_10-queries/stash/train2.csv')\n",
    "df_train2 = df_train2.groupby(np.arange(len(df_train2)) // 20).mean()\n",
    "df_train3 = pd.read_csv('./logs/DELPO_tiered_5-way_5-shot_10-queries/stash/train3.csv')\n",
    "df_train3 = df_train3.groupby(np.arange(len(df_train3)) // 20).mean()\n",
    "df_train4 = pd.read_csv('./logs/DELPO_tiered_5-way_5-shot_10-queries/stash/train4.csv')\n",
    "df_train4 = df_train4.groupby(np.arange(len(df_train4)) // 20).mean()\n",
    "# df_train5 = pd.read_csv('./logs/DELPO_tiered_5-way_5-shot_10-queries/train5.csv')\n",
    "# df_train5 = df_train5.groupby(np.arange(len(df_train5)) // 20).mean()\n",
    "# df_train6 = pd.read_csv('./logs/DELPO_tiered_5-way_5-shot_10-queries/train.csv')\n",
    "# df_train6 = df_train6.groupby(np.arange(len(df_train6)) // 20).mean()\n",
    "df_train7 = pd.read_csv('./logs/DELPO_tiered_5-way_5-shot_10-queries/stash/train6.csv')\n",
    "df_train7 = df_train7.groupby(np.arange(len(df_train7)) // 20).mean()\n",
    "\n",
    "df_train = pd.concat([df_train1, df_train2, df_train3, df_train4, df_train7], axis=1)\n",
    "df_train = df_train['accuracy']\n",
    "df_train.columns = ['acc1', 'acc2', 'acc3', 'acc4', 'acc7']\n",
    "\n",
    "fig = px.line(df_train)\n",
    "fig.show()"
   ]
  },
  {
   "cell_type": "markdown",
   "metadata": {
    "ExecuteTime": {
     "end_time": "2021-11-21T17:28:21.057605Z",
     "start_time": "2021-11-21T17:28:20.716162Z"
    }
   },
   "source": [
    "**let run the re-run of exp6. monitor again at ~20k-epochs. Test exp3,4**"
   ]
  },
  {
   "cell_type": "markdown",
   "metadata": {},
   "source": [
    "# tiered: 5-way, 10-shot, 10-queries"
   ]
  },
  {
   "cell_type": "code",
   "execution_count": null,
   "metadata": {
    "ExecuteTime": {
     "end_time": "2021-12-07T15:33:02.958140Z",
     "start_time": "2021-12-07T15:33:02.055845Z"
    }
   },
   "outputs": [],
   "source": [
    "df_train = pd.read_csv('./logs/DELPO_tiered_5-way_10-shot_10-queries/exp1-eaen/train.csv')\n",
    "df_valid = pd.read_csv('./logs/DELPO_tiered_5-way_10-shot_10-queries/exp1-eaen/valid_all.csv')\n",
    "df_test = pd.read_csv('./logs/DELPO_tiered_5-way_10-shot_10-queries/exp1-eaen/test_all.csv')\n",
    "df_test = df_test[~(df_test['CE_Loss'] == 'model_last.pt')]\n",
    "df_valid = df_valid[~(df_valid['CE_Loss'] == 'model_last.pt')]"
   ]
  },
  {
   "cell_type": "code",
   "execution_count": null,
   "metadata": {
    "ExecuteTime": {
     "end_time": "2021-12-07T15:33:05.864352Z",
     "start_time": "2021-12-07T15:33:03.492168Z"
    },
    "scrolled": false
   },
   "outputs": [],
   "source": [
    "plot_summarize([df_train, df_valid, df_test], ['accuracy', 'ELBO', 'Label_KL', 'Style_KL', 'Reconst_Loss', 'CE_Loss'], 20, 500)"
   ]
  },
  {
   "cell_type": "code",
   "execution_count": null,
   "metadata": {},
   "outputs": [],
   "source": []
  },
  {
   "cell_type": "code",
   "execution_count": null,
   "metadata": {
    "ExecuteTime": {
     "end_time": "2021-12-06T12:19:59.775784Z",
     "start_time": "2021-12-06T12:19:58.764078Z"
    }
   },
   "outputs": [],
   "source": [
    "df_train = pd.read_csv('./logs/DELPO_tiered_5-way_10-shot_10-queries/train1.csv')\n",
    "df_train = df_train.groupby(np.arange(len(df_train)) // 20).mean()\n",
    "\n",
    "df_train = df_train['accuracy']\n",
    "df_train.columns = ['acc1']\n",
    "#df_train.dropna(inplace=True)\n",
    "\n",
    "fig = px.line(df_train)\n",
    "fig.show()"
   ]
  },
  {
   "cell_type": "markdown",
   "metadata": {},
   "source": [
    "**Seems good, check at 40-45k epochs tomorrow**"
   ]
  },
  {
   "cell_type": "code",
   "execution_count": null,
   "metadata": {},
   "outputs": [],
   "source": []
  },
  {
   "cell_type": "markdown",
   "metadata": {},
   "source": [
    "# Pre-trained ResNet-12 feature extractor "
   ]
  },
  {
   "cell_type": "markdown",
   "metadata": {},
   "source": [
    "Frozen backbone doesn't generalize w and w/o TAFE on test tasks. Finetuning possible only with FO meta learning; but doesn't work w and w/o TAFE "
   ]
  },
  {
   "cell_type": "markdown",
   "metadata": {},
   "source": [
    "## MiniImagenet: 5-way, 1-shot, 10-queries - w TAD "
   ]
  },
  {
   "cell_type": "markdown",
   "metadata": {},
   "source": [
    "### TAFE - Episodic"
   ]
  },
  {
   "cell_type": "code",
   "execution_count": null,
   "metadata": {
    "ExecuteTime": {
     "end_time": "2022-02-06T14:03:32.134012Z",
     "start_time": "2022-02-06T14:03:31.416076Z"
    }
   },
   "outputs": [],
   "source": [
    "df_train3 = pd.read_csv('./logs/DELPO_miniimagenet_5-way_1-shot_10-queries/backbone/exp1ptepi-tafe/train.csv')\n",
    "df_train3 = df_train3.groupby(np.arange(len(df_train3)) // 20).mean()\n",
    "\n",
    "df_train1 = pd.read_csv('./logs/DELPO_miniimagenet_5-way_1-shot_10-queries/backbone/exp1ptepi-tafe/valid.csv')\n",
    "df_train1 = df_train1.groupby(np.arange(len(df_train1)) // 500).mean()\n",
    "\n",
    "# df_train1 = pd.read_csv(f'./logs/DELPO_miniimagenet_5-way_1-shot_10-queries/exp1-tafe/exp1-tafe(wo relu)/train.csv')\n",
    "# df_train1 = df_train1.groupby(np.arange(len(df_train1)) // 20).mean()\n",
    "\n",
    "df_train = pd.concat([df_train1, df_train3], axis=1)\n",
    "df_train = df_train['accuracy']\n",
    "df_train.columns = ['acc1', 'acc3']\n",
    "#df_train.dropna(inplace=True)\n",
    "\n",
    "fig = px.line(df_train)\n",
    "fig.show()"
   ]
  },
  {
   "cell_type": "markdown",
   "metadata": {},
   "source": [
    "**None work, LRs too high, reduce by order of 1e-1**"
   ]
  },
  {
   "cell_type": "markdown",
   "metadata": {},
   "source": [
    "## MiniImagenet: 5-way, 5-shot, 10-queries - w TAD"
   ]
  },
  {
   "cell_type": "markdown",
   "metadata": {},
   "source": [
    "### TAFE "
   ]
  },
  {
   "cell_type": "code",
   "execution_count": null,
   "metadata": {
    "ExecuteTime": {
     "end_time": "2022-02-03T13:14:13.980471Z",
     "start_time": "2022-02-03T13:14:12.533087Z"
    }
   },
   "outputs": [],
   "source": [
    "df_train1 = pd.read_csv('./logs/DELPO_miniimagenet_5-way_5-shot_10-queries/backbone/exp8ptepi-tafe/valid1.csv')\n",
    "df_train1 = df_train1.groupby(np.arange(len(df_train1)) // 500).mean()\n",
    "\n",
    "df_train2 = pd.read_csv('./logs/DELPO_miniimagenet_5-way_5-shot_10-queries/exp8-tafe/exp8-tafe(wo relu)/train.csv')\n",
    "df_train2 = df_train2.groupby(np.arange(len(df_train2)) // 20).mean()\n",
    "\n",
    "df_train = pd.concat([df_train1, df_train2], axis=1)\n",
    "df_train = df_train['accuracy']\n",
    "df_train.columns = ['acc1', 'acc2']\n",
    "#df_train.dropna(inplace=True)\n",
    "\n",
    "fig = px.line(df_train)\n",
    "fig.show()"
   ]
  },
  {
   "cell_type": "markdown",
   "metadata": {},
   "source": [
    "**None work, LRs too high, reduce by order of 1e-1**"
   ]
  },
  {
   "cell_type": "markdown",
   "metadata": {},
   "source": [
    "# Backbone ResNet-12 feature extractor "
   ]
  },
  {
   "cell_type": "markdown",
   "metadata": {},
   "source": [
    "Training from scratch"
   ]
  },
  {
   "cell_type": "markdown",
   "metadata": {},
   "source": [
    "## MiniImagenet: 5-way, 1-shot, 10-queries - w TAD "
   ]
  },
  {
   "cell_type": "markdown",
   "metadata": {},
   "source": [
    "### TAFE - FO"
   ]
  },
  {
   "cell_type": "code",
   "execution_count": null,
   "metadata": {
    "ExecuteTime": {
     "end_time": "2022-02-03T13:17:00.502594Z",
     "start_time": "2022-02-03T13:17:00.336604Z"
    }
   },
   "outputs": [],
   "source": [
    "df_train3 = pd.read_csv('./logs/DELPO_miniimagenet_5-way_1-shot_10-queries/backbone/exp1scr-tafe/train.csv')\n",
    "df_train3 = df_train3.groupby(np.arange(len(df_train3)) // 20).mean()\n",
    "\n",
    "df_train1 = pd.read_csv('./logs/DELPO_miniimagenet_5-way_1-shot_10-queries/backbone/exp1scr-tafe/valid.csv')\n",
    "df_train1 = df_train1.groupby(np.arange(len(df_train1)) // 500).mean()\n",
    "\n",
    "# df_train1 = pd.read_csv(f'./logs/DELPO_miniimagenet_5-way_1-shot_10-queries/exp1-tafe/exp1-tafe(wo relu)/train.csv')\n",
    "# df_train1 = df_train1.groupby(np.arange(len(df_train1)) // 20).mean()\n",
    "\n",
    "df_train = pd.concat([df_train1, df_train3], axis=1)\n",
    "df_train = df_train['accuracy']\n",
    "df_train.columns = ['acc1', 'acc3']\n",
    "#df_train.dropna(inplace=True)\n",
    "\n",
    "fig = px.line(df_train)\n",
    "fig.show()"
   ]
  },
  {
   "cell_type": "markdown",
   "metadata": {},
   "source": [
    "## MiniImagenet: 5-way, 5-shot, 10-queries - w TAD"
   ]
  },
  {
   "cell_type": "markdown",
   "metadata": {},
   "source": [
    "### TAFE "
   ]
  },
  {
   "cell_type": "code",
   "execution_count": null,
   "metadata": {
    "ExecuteTime": {
     "end_time": "2022-02-03T13:17:05.869804Z",
     "start_time": "2022-02-03T13:17:05.704466Z"
    }
   },
   "outputs": [],
   "source": [
    "df_train1 = pd.read_csv('./logs/DELPO_miniimagenet_5-way_5-shot_10-queries/backbone/exp8scr-tafe/train.csv')\n",
    "df_train1 = df_train1.groupby(np.arange(len(df_train1)) // 20).mean()\n",
    "\n",
    "df_train2 = pd.read_csv('./logs/DELPO_miniimagenet_5-way_5-shot_10-queries/backbone/exp8scr-tafe/valid.csv')\n",
    "df_train2 = df_train2.groupby(np.arange(len(df_train2)) // 500).mean()\n",
    "\n",
    "# df_train2 = pd.read_csv('./logs/DELPO_miniimagenet_5-way_5-shot_10-queries/exp8-tafe/exp8-tafe(wo relu)/train.csv')\n",
    "# df_train2 = df_train2.groupby(np.arange(len(df_train2)) // 20).mean()\n",
    "\n",
    "df_train = pd.concat([df_train1, df_train2], axis=1)\n",
    "df_train = df_train['accuracy']\n",
    "df_train.columns = ['acc1', 'acc2']\n",
    "#df_train.dropna(inplace=True)\n",
    "\n",
    "fig = px.line(df_train)\n",
    "fig.show()"
   ]
  },
  {
   "cell_type": "markdown",
   "metadata": {},
   "source": [
    "**Monitor more**"
   ]
  },
  {
   "cell_type": "code",
   "execution_count": null,
   "metadata": {},
   "outputs": [],
   "source": []
  }
 ],
 "metadata": {
  "interpreter": {
   "hash": "7e3af266dcb7df8b026f0780dbb396b062ee5ca2767a18f50e60e26ee6084121"
  },
  "kernelspec": {
   "display_name": "Python 3 (ipykernel)",
   "language": "python",
   "name": "python3"
  },
  "language_info": {
   "codemirror_mode": {
    "name": "ipython",
    "version": 3
   },
   "file_extension": ".py",
   "mimetype": "text/x-python",
   "name": "python",
   "nbconvert_exporter": "python",
   "pygments_lexer": "ipython3",
   "version": "3.9.7"
  },
  "toc": {
   "base_numbering": 1,
   "nav_menu": {},
   "number_sections": true,
   "sideBar": true,
   "skip_h1_title": false,
   "title_cell": "Table of Contents",
   "title_sidebar": "Contents",
   "toc_cell": false,
   "toc_position": {
    "height": "calc(100% - 180px)",
    "left": "10px",
    "top": "150px",
    "width": "369.069px"
   },
   "toc_section_display": true,
   "toc_window_display": true
  }
 },
 "nbformat": 4,
 "nbformat_minor": 2
}

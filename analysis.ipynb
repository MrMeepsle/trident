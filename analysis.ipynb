{
 "cells": [
  {
   "cell_type": "code",
   "execution_count": null,
   "metadata": {
    "ExecuteTime": {
     "end_time": "2021-11-06T12:19:52.343197Z",
     "start_time": "2021-11-06T12:19:41.986015Z"
    }
   },
   "outputs": [],
   "source": [
    "import pandas as pd\n",
    "import numpy as np\n",
    "import torch\n",
    "from umap import UMAP\n",
    "import plotly_express as px\n",
    "import plotly.graph_objects as go"
   ]
  },
  {
   "cell_type": "code",
   "execution_count": null,
   "metadata": {
    "ExecuteTime": {
     "end_time": "2021-11-06T12:21:34.281046Z",
     "start_time": "2021-11-06T12:21:34.268237Z"
    }
   },
   "outputs": [],
   "source": [
    "def plot_summarize(dfs, columns, meta_batch_size):\n",
    "    dfs[0] = dfs[0].groupby(np.arange(len(dfs[0])) // meta_batch_size).mean()\n",
    "    dfs[0].reset_index(drop=True, inplace=True)\n",
    "    dfs[1].reset_index(drop=True, inplace=True)\n",
    "    df = pd.concat([dfs[0][columns], dfs[1][columns]], axis=1)\n",
    "    df.columns = [str(c)+'_train' for c in columns] + \\\n",
    "        [str(c)+'_valid' for c in columns]\n",
    "    df[['accuracy_train', 'accuracy_valid']] = 100 * \\\n",
    "        df[['accuracy_train', 'accuracy_valid']]\n",
    "    df['iter'] = df.index\n",
    "\n",
    "    dfs[2].columns = list(dfs[2].columns[1:]) + ['model_name']\n",
    "    test = dfs[2].groupby('model_name', as_index=False)[dfs[2].columns].mean()\n",
    "    test['iter'] = test['model_name'].apply(\n",
    "        lambda x: int(x[x.index('_') + 1:-3]))\n",
    "    test['accuracy'] = 100 * test['accuracy']\n",
    "    test.drop(columns=['model_name'], inplace=True)\n",
    "    test.sort_values(by=['iter'], inplace=True)\n",
    "\n",
    "    # Summarizing test scores\n",
    "    ind = test[test['accuracy'] == test['accuracy'].max()]['iter'].values[0]\n",
    "    t = dfs[2][dfs[2]['model_name'] == 'model_' + str(ind) + '.pt']\n",
    "    t['accuracy'] = 100 * t['accuracy']\n",
    "    print('Test Metrics Stats of Best Model at {}-th Iteration'.format(ind))\n",
    "    display(t.describe())\n",
    "\n",
    "    # Plotting\n",
    "    ctv = [str(c)+'_train' for c in columns] + \\\n",
    "        [str(c)+'_valid' for c in columns]\n",
    "    fig = px.line(df, x=df.index, y=ctv)\n",
    "    # figure this test.columns format and how to name\n",
    "    fig.add_scatter(x=test['iter'], y=test['accuracy'], name='accuracy_test')\n",
    "    fig.show()\n",
    "\n",
    "    return df, test"
   ]
  },
  {
   "cell_type": "code",
   "execution_count": null,
   "metadata": {
    "ExecuteTime": {
     "end_time": "2021-11-06T12:21:34.500103Z",
     "start_time": "2021-11-06T12:21:34.492630Z"
    }
   },
   "outputs": [],
   "source": [
    "def viz_images(experiment, epoch, mode):\n",
    "    images = torch.load(\n",
    "        '/home/anuj/Desktop/Work/TU_Delft/research/implement/learning_to_meta-learn/logs/DELPO_{}_5-way_5-shot_15-queries/{}/images_epoch-{}_{}.pt'.format(experiment[1], experiment[0], epoch, mode))\n",
    "    \n",
    "    fig1 = px.imshow(np.array(images['gt_examples'].permute(0,2,3,1))[::15], facet_col=0 ,facet_col_wrap=5)\n",
    "    fig2 = px.imshow(np.array(images['reconst_examples'].permute(0,2,3,1))[::15], facet_col=0 ,facet_col_wrap=5)\n",
    "\n",
    "    fig1.show()\n",
    "    fig2.show()"
   ]
  },
  {
   "cell_type": "code",
   "execution_count": null,
   "metadata": {
    "ExecuteTime": {
     "end_time": "2021-11-06T12:21:34.902450Z",
     "start_time": "2021-11-06T12:21:34.894601Z"
    }
   },
   "outputs": [],
   "source": [
    "def viz_latents(experiment, epoch, mode):\n",
    "\n",
    "    #Only visualizing the image-latent-gaussian distribution mu's\n",
    "    latents = torch.load(\n",
    "        '/home/anuj/Desktop/Work/TU_Delft/research/implement/learning_to_meta-learn/logs/DELPO_{}_5-way_5-shot_15-queries/{}/latents_epoch-{}_{}.pt'.format(experiment[1], experiment[0], epoch, mode))\n",
    "    df = pd.DataFrame(np.array(latents['label_latents'][0]))\n",
    "    df['class'] = pd.Series(list(np.full((15,), 0)) + list(np.full((15,), 1)) + list(\n",
    "        np.full((15,), 2)) + list(np.full((15,), 3)) + list(np.full((15,), 4)))\n",
    "    features = df.iloc[:, :-1]\n",
    "\n",
    "    umap = UMAP(n_components=3, init='random', random_state=0)\n",
    "\n",
    "    proj_2d = umap.fit_transform(features)\n",
    "\n",
    "    fig_3d = px.scatter_3d(\n",
    "        proj_2d, x=0, y=1, z=2,\n",
    "        color=df['class'], labels={'color': 'class'}\n",
    "    )\n",
    "    fig_3d.show()\n"
   ]
  },
  {
   "cell_type": "markdown",
   "metadata": {},
   "source": [
    "# MiniImagenet: 5-way, 5-shot 15-queries "
   ]
  },
  {
   "cell_type": "markdown",
   "metadata": {},
   "source": [
    "# Experiment-1:"
   ]
  },
  {
   "cell_type": "code",
   "execution_count": null,
   "metadata": {},
   "outputs": [],
   "source": [
    "df_train = pd.read_csv('./logs/DELPO_miniimagenet_5-way_5-shot_15-queries/exp1/train.csv')\n",
    "df_valid = pd.read_csv('./logs/DELPO_miniimagenet_5-way_5-shot_15-queries/exp1/valid.csv')\n",
    "df_test = pd.read_csv('./logs/DELPO_miniimagenet_5-way_5-shot_15-queries/exp1/test.csv')"
   ]
  },
  {
   "cell_type": "code",
   "execution_count": null,
   "metadata": {},
   "outputs": [],
   "source": [
    "plot_summarize([df_train, df_valid, df_test], ['accuracy', 'ELBO', 'Label_KL', 'Style_KL', 'Reconst_Loss', 'CE_Loss'], 10)"
   ]
  },
  {
   "cell_type": "markdown",
   "metadata": {},
   "source": [
    "# Experiment-3:"
   ]
  },
  {
   "cell_type": "code",
   "execution_count": null,
   "metadata": {},
   "outputs": [],
   "source": [
    "df_train = pd.read_csv('./logs/DELPO_miniimagenet_5-way_5-shot_15-queries/exp3/train.csv')\n",
    "df_valid = pd.read_csv('./logs/DELPO_miniimagenet_5-way_5-shot_15-queries/exp3/valid.csv')\n",
    "df_test = pd.read_csv('./logs/DELPO_miniimagenet_5-way_5-shot_15-queries/exp3/test.csv')"
   ]
  },
  {
   "cell_type": "code",
   "execution_count": null,
   "metadata": {},
   "outputs": [],
   "source": [
    "df = plot_summarize([df_train, df_valid, df_test], ['accuracy', 'ELBO', 'Label_KL', 'Style_KL', 'Reconst_Loss', 'CE_Loss'], 10)"
   ]
  },
  {
   "cell_type": "code",
   "execution_count": null,
   "metadata": {},
   "outputs": [],
   "source": []
  },
  {
   "cell_type": "markdown",
   "metadata": {},
   "source": [
    "# Experiment-4:"
   ]
  },
  {
   "cell_type": "code",
   "execution_count": null,
   "metadata": {},
   "outputs": [],
   "source": [
    "df_train = pd.read_csv('./logs/DELPO_miniimagenet_5-way_5-shot_15-queries/exp4/train.csv')\n",
    "df_valid = pd.read_csv('./logs/DELPO_miniimagenet_5-way_5-shot_15-queries/exp4/valid.csv')\n",
    "df_test = pd.read_csv('./logs/DELPO_miniimagenet_5-way_5-shot_15-queries/exp4/test.csv')"
   ]
  },
  {
   "cell_type": "code",
   "execution_count": null,
   "metadata": {},
   "outputs": [],
   "source": [
    "df = plot_summarize([df_train, df_valid, df_test], ['accuracy', 'ELBO', 'Label_KL', 'Style_KL', 'Reconst_Loss', 'CE_Loss'], 30)"
   ]
  },
  {
   "cell_type": "code",
   "execution_count": null,
   "metadata": {},
   "outputs": [],
   "source": []
  },
  {
   "cell_type": "markdown",
   "metadata": {},
   "source": [
    "# Experiment-5:"
   ]
  },
  {
   "cell_type": "code",
   "execution_count": null,
   "metadata": {},
   "outputs": [],
   "source": [
    "df_train = pd.read_csv('./logs/DELPO_miniimagenet_5-way_5-shot_15-queries/exp5/train.csv')\n",
    "df_valid = pd.read_csv('./logs/DELPO_miniimagenet_5-way_5-shot_15-queries/exp5/valid.csv')\n",
    "df_test = pd.read_csv('./logs/DELPO_miniimagenet_5-way_5-shot_15-queries/exp5/test.csv')"
   ]
  },
  {
   "cell_type": "code",
   "execution_count": null,
   "metadata": {},
   "outputs": [],
   "source": [
    "acc = 100 * np.array(df_test.accuracy)\n",
    "1.96 * acc.std()/(600**0.5)"
   ]
  },
  {
   "cell_type": "code",
   "execution_count": null,
   "metadata": {},
   "outputs": [],
   "source": [
    "df = plot_summarize([df_train, df_valid, df_test], ['accuracy', 'ELBO', 'Label_KL', 'Style_KL', 'Reconst_Loss', 'CE_Loss'], 20)"
   ]
  },
  {
   "cell_type": "code",
   "execution_count": null,
   "metadata": {},
   "outputs": [],
   "source": [
    "viz_images('exp5', 6000, 'train')"
   ]
  },
  {
   "cell_type": "code",
   "execution_count": null,
   "metadata": {},
   "outputs": [],
   "source": [
    "viz_latents('exp5', 6000, 'train')"
   ]
  },
  {
   "cell_type": "markdown",
   "metadata": {},
   "source": [
    "# Experiment-3 (W/O Reparametrization):"
   ]
  },
  {
   "cell_type": "code",
   "execution_count": null,
   "metadata": {},
   "outputs": [],
   "source": [
    "df_train = pd.read_csv('./logs/DELPO_miniimagenet_5-way_5-shot_15-queries/exp3r/train.csv')\n",
    "df_valid = pd.read_csv('./logs/DELPO_miniimagenet_5-way_5-shot_15-queries/exp3r/valid.csv')\n",
    "df_test = pd.read_csv('./logs/DELPO_miniimagenet_5-way_5-shot_15-queries/exp3r/test.csv')"
   ]
  },
  {
   "cell_type": "code",
   "execution_count": null,
   "metadata": {},
   "outputs": [],
   "source": [
    "df = plot_summarize([df_train, df_valid, df_test], ['accuracy', 'ELBO', 'Label_KL', 'Style_KL', 'Reconst_Loss', 'CE_Loss'], 10)"
   ]
  },
  {
   "cell_type": "code",
   "execution_count": null,
   "metadata": {},
   "outputs": [],
   "source": []
  },
  {
   "cell_type": "markdown",
   "metadata": {},
   "source": [
    "# Experiment-7: "
   ]
  },
  {
   "cell_type": "code",
   "execution_count": null,
   "metadata": {},
   "outputs": [],
   "source": [
    "df_train = pd.read_csv('./logs/DELPO_miniimagenet_5-way_5-shot_15-queries/exp7/train.csv')\n",
    "df_valid = pd.read_csv('./logs/DELPO_miniimagenet_5-way_5-shot_15-queries/exp7/valid.csv')\n",
    "df_test = pd.read_csv('./logs/DELPO_miniimagenet_5-way_5-shot_15-queries/exp7/test.csv')"
   ]
  },
  {
   "cell_type": "code",
   "execution_count": null,
   "metadata": {},
   "outputs": [],
   "source": [
    "acc = 100 * np.array(df_test.accuracy)\n",
    "1.96 * acc.std()/(600**0.5)"
   ]
  },
  {
   "cell_type": "code",
   "execution_count": null,
   "metadata": {},
   "outputs": [],
   "source": [
    "df = plot_summarize([df_train, df_valid, df_test], ['accuracy', 'ELBO', 'Label_KL', 'Style_KL', 'Reconst_Loss', 'CE_Loss'], 20)"
   ]
  },
  {
   "cell_type": "code",
   "execution_count": null,
   "metadata": {},
   "outputs": [],
   "source": [
    "viz_images('exp7', 6000, 'train')"
   ]
  },
  {
   "cell_type": "code",
   "execution_count": null,
   "metadata": {},
   "outputs": [],
   "source": [
    "viz_latents('exp7', 13000, 'train')"
   ]
  },
  {
   "cell_type": "markdown",
   "metadata": {},
   "source": [
    "# Experiment-8:"
   ]
  },
  {
   "cell_type": "code",
   "execution_count": null,
   "metadata": {
    "ExecuteTime": {
     "end_time": "2021-11-04T11:43:49.550348Z",
     "start_time": "2021-11-04T11:43:48.341727Z"
    }
   },
   "outputs": [],
   "source": [
    "df_train = pd.read_csv('./logs/DELPO_miniimagenet_5-way_5-shot_15-queries/exp8/train.csv')\n",
    "df_valid = pd.read_csv('./logs/DELPO_miniimagenet_5-way_5-shot_15-queries/exp8/valid.csv')\n",
    "df_test = pd.read_csv('./logs/DELPO_miniimagenet_5-way_5-shot_15-queries/exp8/test_all.csv')\n",
    "\n",
    "df_test = df_test[~(df_test['CE_Loss'] == 'model_last.pt')]\n",
    "\n",
    "df_train1 = pd.read_csv('./logs/DELPO_miniimagenet_5-way_5-shot_15-queries/exp8/train_45.csv')\n",
    "df_valid1 = pd.read_csv('./logs/DELPO_miniimagenet_5-way_5-shot_15-queries/exp8/valid_45.csv')\n",
    "df_test1 = pd.read_csv('./logs/DELPO_miniimagenet_5-way_5-shot_15-queries/exp8/test_all_45.csv')\n",
    "\n",
    "df_test1 = df_test1[~(df_test1['CE_Loss'] == 'model_last.pt')]\n",
    "\n",
    "df_train_all = pd.concat([df_train, df_train1])\n",
    "df_valid_all = pd.concat([df_valid, df_valid1])\n",
    "df_test_all = pd.concat([df_test, df_test1])"
   ]
  },
  {
   "cell_type": "code",
   "execution_count": null,
   "metadata": {
    "ExecuteTime": {
     "end_time": "2021-11-04T11:43:58.764637Z",
     "start_time": "2021-11-04T11:43:53.287465Z"
    }
   },
   "outputs": [],
   "source": [
    "df, test = plot_summarize(\n",
    "    [df_train_all, df_valid_all, df_test_all],\n",
    "    ['accuracy', 'ELBO', 'Label_KL', 'Style_KL', 'Reconst_Loss', 'CE_Loss'],\n",
    "    20)"
   ]
  },
  {
   "cell_type": "code",
   "execution_count": null,
   "metadata": {
    "ExecuteTime": {
     "end_time": "2021-11-03T16:40:52.522980Z",
     "start_time": "2021-11-03T16:40:52.328977Z"
    }
   },
   "outputs": [],
   "source": [
    "viz_images(['exp8', 'miniimagenet'], 41500, 'train')"
   ]
  },
  {
   "cell_type": "code",
   "execution_count": null,
   "metadata": {
    "ExecuteTime": {
     "end_time": "2021-11-03T16:41:08.022815Z",
     "start_time": "2021-11-03T16:41:07.312473Z"
    }
   },
   "outputs": [],
   "source": [
    "viz_latents(['exp8', 'miniimagenet'], 41500, 'train')"
   ]
  },
  {
   "cell_type": "markdown",
   "metadata": {},
   "source": [
    "# Experiment-8-arch-ablation: "
   ]
  },
  {
   "cell_type": "markdown",
   "metadata": {},
   "source": [
    "added a layer before extracting mu, sigma for latent distribution, thus now: 1000 -- 256 -- 64 "
   ]
  },
  {
   "cell_type": "code",
   "execution_count": null,
   "metadata": {
    "ExecuteTime": {
     "end_time": "2021-11-04T11:44:05.873875Z",
     "start_time": "2021-11-04T11:44:05.083169Z"
    }
   },
   "outputs": [],
   "source": [
    "df_train = pd.read_csv('./logs/DELPO_miniimagenet_5-way_5-shot_15-queries/exp8-archab/train.csv')\n",
    "df_valid = pd.read_csv('./logs/DELPO_miniimagenet_5-way_5-shot_15-queries/exp8-archab/valid.csv')\n",
    "df_test = pd.read_csv('./logs/DELPO_miniimagenet_5-way_5-shot_15-queries/exp8-archab/test_all.csv')\n",
    "df_test = df_test[~(df_test['CE_Loss'] == 'model_last.pt')]"
   ]
  },
  {
   "cell_type": "code",
   "execution_count": null,
   "metadata": {
    "ExecuteTime": {
     "end_time": "2021-11-04T11:44:34.985573Z",
     "start_time": "2021-11-04T11:44:31.689216Z"
    }
   },
   "outputs": [],
   "source": [
    "df, test = plot_summarize(\n",
    "    [df_train, df_valid, df_test],\n",
    "    ['accuracy', 'ELBO', 'Label_KL', 'Style_KL', 'Reconst_Loss', 'CE_Loss'],\n",
    "    20)"
   ]
  },
  {
   "cell_type": "markdown",
   "metadata": {},
   "source": [
    "# Experiment-8-TAD: "
   ]
  },
  {
   "cell_type": "markdown",
   "metadata": {},
   "source": [
    "## EAEN "
   ]
  },
  {
   "cell_type": "code",
   "execution_count": null,
   "metadata": {
    "ExecuteTime": {
     "end_time": "2021-11-06T12:58:57.163758Z",
     "start_time": "2021-11-06T12:58:56.500538Z"
    }
   },
   "outputs": [],
   "source": [
    "df_train = pd.read_csv('./logs/DELPO_miniimagenet_5-way_5-shot_10-queries/exp8-eaen/train.csv')\n",
    "df_valid = pd.read_csv('./logs/DELPO_miniimagenet_5-way_5-shot_10-queries/exp8-eaen/valid.csv')\n",
    "df_test = pd.read_csv('./logs/DELPO_miniimagenet_5-way_5-shot_10-queries/exp8-eaen/test_all.csv')\n",
    "df_test = df_test[~(df_test['CE_Loss'] == 'model_last.pt')]\n",
    "\n",
    "df_train1 = pd.read_csv('./logs/DELPO_miniimagenet_5-way_5-shot_10-queries/exp8-eaen/train_33500.csv')\n",
    "df_valid1 = pd.read_csv('./logs/DELPO_miniimagenet_5-way_5-shot_10-queries/exp8-eaen/valid_33500.csv')\n",
    "df_test1 = pd.read_csv('./logs/DELPO_miniimagenet_5-way_5-shot_10-queries/exp8-eaen/test_all_33000.csv')\n",
    "df_test1 = df_test1[~(df_test1['CE_Loss'] == 'model_last.pt')]\n",
    "\n",
    "df_train_all = pd.concat([df_train, df_train1])\n",
    "df_valid_all = pd.concat([df_valid, df_valid1])\n",
    "df_test_all = pd.concat([df_test, df_test1])"
   ]
  },
  {
   "cell_type": "code",
   "execution_count": null,
   "metadata": {
    "ExecuteTime": {
     "end_time": "2021-11-06T12:59:01.978697Z",
     "start_time": "2021-11-06T12:58:57.730163Z"
    }
   },
   "outputs": [],
   "source": [
    "df, test = plot_summarize(\n",
    "    [df_train_all, df_valid_all, df_test_all],\n",
    "    ['accuracy', 'ELBO', 'Label_KL', 'Style_KL', 'Reconst_Loss', 'CE_Loss'],\n",
    "    20)"
   ]
  },
  {
   "cell_type": "code",
   "execution_count": null,
   "metadata": {},
   "outputs": [],
   "source": []
  },
  {
   "cell_type": "markdown",
   "metadata": {},
   "source": [
    "# Experiment-8-lr-ablations:"
   ]
  },
  {
   "cell_type": "markdown",
   "metadata": {},
   "source": [
    "a ; b ; d :: 0.003,0.0003 ; 0.006,0.0006 ; 0.01,0.001   ---- (inner lr, meta-lr) "
   ]
  },
  {
   "cell_type": "code",
   "execution_count": null,
   "metadata": {
    "ExecuteTime": {
     "end_time": "2021-10-25T21:29:09.532837Z",
     "start_time": "2021-10-25T21:29:09.451092Z"
    }
   },
   "outputs": [],
   "source": [
    "test = pd.read_csv('./logs/DELPO_miniimagenet_5-way_5-shot_15-queries/exp8c/test.csv')\n",
    "df_testa = pd.read_csv('./logs/DELPO_miniimagenet_5-way_5-shot_15-queries/exp8c/exp8ca/test.csv')\n",
    "df_testb = pd.read_csv('./logs/DELPO_miniimagenet_5-way_5-shot_15-queries/exp8c/exp8cb/test.csv')\n",
    "df_testd = pd.read_csv('./logs/DELPO_miniimagenet_5-way_5-shot_15-queries/exp8c/exp8cd/test.csv')"
   ]
  },
  {
   "cell_type": "code",
   "execution_count": null,
   "metadata": {
    "ExecuteTime": {
     "end_time": "2021-10-25T21:03:31.928910Z",
     "start_time": "2021-10-25T21:03:31.903616Z"
    }
   },
   "outputs": [],
   "source": [
    "df_testa.columns = list(df_testa.columns[1:]) + ['model_name']\n",
    "a = df_testa.groupby('model_name', as_index=False).mean()\n",
    "a['iter'] = a['model_name'].apply(lambda x: int(x[x.index('_')+1 : -3]))\n",
    "a"
   ]
  },
  {
   "cell_type": "code",
   "execution_count": null,
   "metadata": {
    "ExecuteTime": {
     "end_time": "2021-10-25T20:43:16.177630Z",
     "start_time": "2021-10-25T20:43:16.160006Z"
    }
   },
   "outputs": [],
   "source": [
    "df_testb.columns = list(df_testb.columns[1:]) + ['model_name']\n",
    "df_testb.groupby('model_name', as_index=False)['accuracy'].mean()"
   ]
  },
  {
   "cell_type": "code",
   "execution_count": null,
   "metadata": {
    "ExecuteTime": {
     "end_time": "2021-10-25T20:43:16.539580Z",
     "start_time": "2021-10-25T20:43:16.523062Z"
    }
   },
   "outputs": [],
   "source": [
    "df_testd.columns = list(df_testd.columns[1:]) + ['model_name']\n",
    "df_testd.groupby('model_name', as_index=False)['accuracy'].mean()"
   ]
  },
  {
   "cell_type": "code",
   "execution_count": null,
   "metadata": {
    "ExecuteTime": {
     "end_time": "2021-10-25T21:29:12.834677Z",
     "start_time": "2021-10-25T21:29:12.803621Z"
    }
   },
   "outputs": [],
   "source": [
    "test.columns = list(test.columns[1:]) + ['model_name']\n",
    "test = test.groupby('model_name', as_index=False).mean()\n",
    "test['iter'] = test['model_name'].apply(lambda x: int(x[x.index('_')+1 : -3]))\n",
    "test.drop(columns=['model_name'], inplace=True)\n",
    "test"
   ]
  },
  {
   "cell_type": "markdown",
   "metadata": {},
   "source": [
    "# Omniglot: 5-way, 5-shot, 15-queries"
   ]
  },
  {
   "cell_type": "markdown",
   "metadata": {},
   "source": [
    "# Experiment-1: "
   ]
  },
  {
   "cell_type": "code",
   "execution_count": null,
   "metadata": {
    "ExecuteTime": {
     "end_time": "2021-10-21T08:42:16.608265Z",
     "start_time": "2021-10-21T08:42:16.500111Z"
    }
   },
   "outputs": [],
   "source": [
    "df_train = pd.read_csv('./logs/DELPO_omniglot_5-way_5-shot_15-queries/exp1/train.csv')\n",
    "df_valid = pd.read_csv('./logs/DELPO_omniglot_5-way_5-shot_15-queries/exp1/valid.csv')\n",
    "df_test = pd.read_csv('./logs/DELPO_omniglot_5-way_5-shot_15-queries/exp1/test.csv')"
   ]
  },
  {
   "cell_type": "code",
   "execution_count": null,
   "metadata": {
    "ExecuteTime": {
     "end_time": "2021-10-21T08:42:21.510339Z",
     "start_time": "2021-10-21T08:42:21.494600Z"
    }
   },
   "outputs": [],
   "source": [
    "acc = 100 * np.array(df_test.accuracy)\n",
    "1.96 * acc.std()/(600**0.5)"
   ]
  },
  {
   "cell_type": "code",
   "execution_count": null,
   "metadata": {
    "ExecuteTime": {
     "end_time": "2021-10-21T08:42:23.175754Z",
     "start_time": "2021-10-21T08:42:22.604314Z"
    }
   },
   "outputs": [],
   "source": [
    "df = plot_summarize([df_train, df_valid, df_test], ['accuracy', 'ELBO', 'Label_KL', 'Style_KL', 'Reconst_Loss', 'CE_Loss'], 20)"
   ]
  },
  {
   "cell_type": "code",
   "execution_count": null,
   "metadata": {
    "ExecuteTime": {
     "end_time": "2021-10-18T11:36:03.875639Z",
     "start_time": "2021-10-18T11:36:03.706706Z"
    },
    "scrolled": true
   },
   "outputs": [],
   "source": [
    "viz_images(['exp4', 'omniglot'], 5000, 'train')"
   ]
  },
  {
   "cell_type": "code",
   "execution_count": null,
   "metadata": {},
   "outputs": [],
   "source": [
    "viz_latents('exp7', 13000, 'train')"
   ]
  },
  {
   "cell_type": "markdown",
   "metadata": {},
   "source": [
    "# Experiment-2: "
   ]
  },
  {
   "cell_type": "code",
   "execution_count": null,
   "metadata": {
    "ExecuteTime": {
     "end_time": "2021-10-21T08:43:01.387291Z",
     "start_time": "2021-10-21T08:43:01.321141Z"
    }
   },
   "outputs": [],
   "source": [
    "df_train = pd.read_csv('./logs/DELPO_omniglot_5-way_5-shot_15-queries/exp2/train.csv')\n",
    "df_valid = pd.read_csv('./logs/DELPO_omniglot_5-way_5-shot_15-queries/exp2/valid.csv')\n",
    "df_test = pd.read_csv('./logs/DELPO_omniglot_5-way_5-shot_15-queries/exp2/test.csv')"
   ]
  },
  {
   "cell_type": "code",
   "execution_count": null,
   "metadata": {
    "ExecuteTime": {
     "end_time": "2021-10-21T09:43:10.436248Z",
     "start_time": "2021-10-21T09:43:10.416066Z"
    }
   },
   "outputs": [],
   "source": [
    "df_train"
   ]
  },
  {
   "cell_type": "code",
   "execution_count": null,
   "metadata": {
    "ExecuteTime": {
     "end_time": "2021-10-21T08:43:02.027597Z",
     "start_time": "2021-10-21T08:43:01.999819Z"
    }
   },
   "outputs": [],
   "source": [
    "acc = 100 * np.array(df_test.accuracy)\n",
    "1.96 * acc.std()/(600**0.5)"
   ]
  },
  {
   "cell_type": "code",
   "execution_count": null,
   "metadata": {
    "ExecuteTime": {
     "end_time": "2021-10-21T08:43:11.536208Z",
     "start_time": "2021-10-21T08:43:11.067470Z"
    }
   },
   "outputs": [],
   "source": [
    "df = plot_summarize([df_train, df_valid, df_test], ['accuracy', 'ELBO', 'Label_KL', 'Style_KL', 'Reconst_Loss', 'CE_Loss'], 20)"
   ]
  },
  {
   "cell_type": "code",
   "execution_count": null,
   "metadata": {
    "ExecuteTime": {
     "end_time": "2021-10-18T11:36:03.875639Z",
     "start_time": "2021-10-18T11:36:03.706706Z"
    },
    "scrolled": true
   },
   "outputs": [],
   "source": [
    "viz_images(['exp4', 'omniglot'], 5000, 'train')"
   ]
  },
  {
   "cell_type": "code",
   "execution_count": null,
   "metadata": {},
   "outputs": [],
   "source": [
    "viz_latents('exp7', 13000, 'train')"
   ]
  },
  {
   "cell_type": "code",
   "execution_count": null,
   "metadata": {},
   "outputs": [],
   "source": []
  },
  {
   "cell_type": "markdown",
   "metadata": {},
   "source": [
    "# Experiment-3: "
   ]
  },
  {
   "cell_type": "code",
   "execution_count": null,
   "metadata": {
    "ExecuteTime": {
     "end_time": "2021-10-21T09:43:34.589708Z",
     "start_time": "2021-10-21T09:43:34.522404Z"
    }
   },
   "outputs": [],
   "source": [
    "df_train = pd.read_csv('./logs/DELPO_omniglot_5-way_5-shot_15-queries/exp3/train.csv')\n",
    "df_valid = pd.read_csv('./logs/DELPO_omniglot_5-way_5-shot_15-queries/exp3/valid.csv')\n",
    "df_test = pd.read_csv('./logs/DELPO_omniglot_5-way_5-shot_15-queries/exp3/test.csv')"
   ]
  },
  {
   "cell_type": "code",
   "execution_count": null,
   "metadata": {
    "ExecuteTime": {
     "end_time": "2021-10-21T09:43:35.523705Z",
     "start_time": "2021-10-21T09:43:35.504712Z"
    }
   },
   "outputs": [],
   "source": [
    "df_train"
   ]
  },
  {
   "cell_type": "code",
   "execution_count": null,
   "metadata": {
    "ExecuteTime": {
     "end_time": "2021-10-21T09:43:41.951675Z",
     "start_time": "2021-10-21T09:43:41.932816Z"
    }
   },
   "outputs": [],
   "source": [
    "acc = 100 * np.array(df_test.accuracy)\n",
    "1.96 * acc.std()/(600**0.5)"
   ]
  },
  {
   "cell_type": "code",
   "execution_count": null,
   "metadata": {
    "ExecuteTime": {
     "end_time": "2021-10-21T08:43:11.536208Z",
     "start_time": "2021-10-21T08:43:11.067470Z"
    }
   },
   "outputs": [],
   "source": [
    "df = plot_summarize([df_train, df_valid, df_test], ['accuracy', 'ELBO', 'Label_KL', 'Style_KL', 'Reconst_Loss', 'CE_Loss'], 20)"
   ]
  },
  {
   "cell_type": "code",
   "execution_count": null,
   "metadata": {
    "ExecuteTime": {
     "end_time": "2021-10-18T11:36:03.875639Z",
     "start_time": "2021-10-18T11:36:03.706706Z"
    },
    "scrolled": true
   },
   "outputs": [],
   "source": [
    "viz_images(['exp4', 'omniglot'], 5000, 'train')"
   ]
  },
  {
   "cell_type": "code",
   "execution_count": null,
   "metadata": {},
   "outputs": [],
   "source": [
    "viz_latents('exp7', 13000, 'train')"
   ]
  },
  {
   "cell_type": "markdown",
   "metadata": {},
   "source": [
    "# Experiment-4: "
   ]
  },
  {
   "cell_type": "code",
   "execution_count": null,
   "metadata": {
    "ExecuteTime": {
     "end_time": "2021-10-21T09:43:55.817505Z",
     "start_time": "2021-10-21T09:43:55.752694Z"
    }
   },
   "outputs": [],
   "source": [
    "df_train = pd.read_csv('./logs/DELPO_omniglot_5-way_5-shot_15-queries/exp4/train.csv')\n",
    "df_valid = pd.read_csv('./logs/DELPO_omniglot_5-way_5-shot_15-queries/exp4/valid.csv')\n",
    "df_test = pd.read_csv('./logs/DELPO_omniglot_5-way_5-shot_15-queries/exp4/test.csv')"
   ]
  },
  {
   "cell_type": "code",
   "execution_count": null,
   "metadata": {
    "ExecuteTime": {
     "end_time": "2021-10-21T09:43:56.913911Z",
     "start_time": "2021-10-21T09:43:56.893793Z"
    }
   },
   "outputs": [],
   "source": [
    "df_train"
   ]
  },
  {
   "cell_type": "code",
   "execution_count": null,
   "metadata": {
    "ExecuteTime": {
     "end_time": "2021-10-21T09:45:47.868110Z",
     "start_time": "2021-10-21T09:45:47.861235Z"
    }
   },
   "outputs": [],
   "source": [
    "df_train['accuracy'][-10:-1].mean()"
   ]
  },
  {
   "cell_type": "code",
   "execution_count": null,
   "metadata": {
    "ExecuteTime": {
     "end_time": "2021-10-21T09:44:00.276656Z",
     "start_time": "2021-10-21T09:44:00.254615Z"
    }
   },
   "outputs": [],
   "source": [
    "acc = 100 * np.array(df_test.accuracy)\n",
    "1.96 * acc.std()/(600**0.5)"
   ]
  },
  {
   "cell_type": "code",
   "execution_count": null,
   "metadata": {
    "ExecuteTime": {
     "end_time": "2021-10-21T09:44:02.293171Z",
     "start_time": "2021-10-21T09:44:01.638970Z"
    }
   },
   "outputs": [],
   "source": [
    "df = plot_summarize([df_train, df_valid, df_test], ['accuracy', 'ELBO', 'Label_KL', 'Style_KL', 'Reconst_Loss', 'CE_Loss'], 20)"
   ]
  },
  {
   "cell_type": "code",
   "execution_count": null,
   "metadata": {
    "ExecuteTime": {
     "end_time": "2021-10-18T11:36:03.875639Z",
     "start_time": "2021-10-18T11:36:03.706706Z"
    },
    "scrolled": true
   },
   "outputs": [],
   "source": [
    "viz_images(['exp4', 'omniglot'], 5000, 'train')"
   ]
  },
  {
   "cell_type": "code",
   "execution_count": null,
   "metadata": {},
   "outputs": [],
   "source": [
    "viz_latents('exp7', 13000, 'train')"
   ]
  },
  {
   "cell_type": "code",
   "execution_count": null,
   "metadata": {},
   "outputs": [],
   "source": []
  }
 ],
 "metadata": {
  "interpreter": {
   "hash": "7e3af266dcb7df8b026f0780dbb396b062ee5ca2767a18f50e60e26ee6084121"
  },
  "kernelspec": {
   "display_name": "Python 3 (ipykernel)",
   "language": "python",
   "name": "python3"
  },
  "language_info": {
   "codemirror_mode": {
    "name": "ipython",
    "version": 3
   },
   "file_extension": ".py",
   "mimetype": "text/x-python",
   "name": "python",
   "nbconvert_exporter": "python",
   "pygments_lexer": "ipython3",
   "version": "3.8.11"
  },
  "toc": {
   "base_numbering": 1,
   "nav_menu": {},
   "number_sections": true,
   "sideBar": true,
   "skip_h1_title": false,
   "title_cell": "Table of Contents",
   "title_sidebar": "Contents",
   "toc_cell": false,
   "toc_position": {},
   "toc_section_display": true,
   "toc_window_display": false
  }
 },
 "nbformat": 4,
 "nbformat_minor": 2
}

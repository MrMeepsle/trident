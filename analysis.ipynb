{
 "cells": [
  {
   "cell_type": "code",
   "execution_count": 5,
   "metadata": {},
   "outputs": [],
   "source": [
    "import pandas as pd\n",
    "import numpy as np\n",
    "%matplotlib notebook\n",
    "import matplotlib.pyplot as plt"
   ]
  },
  {
   "cell_type": "markdown",
   "metadata": {},
   "source": [
    "# 5-way, 5-shot 15-queries "
   ]
  },
  {
   "cell_type": "markdown",
   "metadata": {},
   "source": [
    "# Experiment-2:"
   ]
  },
  {
   "cell_type": "markdown",
   "metadata": {},
   "source": [
    "{\n",
    "\"dataset\": \"miniimagenet\",\n",
    "\"root\": \"../dataset/mini_imagenet\",\n",
    "\"n_ways\": 5,\n",
    "\"k_shots\": 5,\n",
    "\"q_shots\": 15,\n",
    "\"inner_adapt_steps_train\": 5,\n",
    "\"inner_adapt_steps_test\": 5,\n",
    "\"inner_lr\": 0.001,\n",
    "\"meta_lr\": 0.0001,\n",
    "\"meta_batch_size\": 30,\n",
    "\"iterations\": 3500,\n",
    "\"wt_ce\": 1,\n",
    "\"klwt\": \"False\",\n",
    "\"rec_wt\": 1,\n",
    "\"beta_l\": 1,\n",
    "\"beta_s\": 1,\n",
    "\"experiment\": \"exp2\",\n",
    "\"order\": \"False\",\n",
    "\"device\": \"cuda\"\n",
    "}"
   ]
  },
  {
   "cell_type": "code",
   "execution_count": 46,
   "metadata": {},
   "outputs": [],
   "source": [
    "df_train = pd.read_csv('./exp4/train.csv')\n",
    "df_valid = pd.read_csv('./exp4/valid.csv')\n",
    "df_test = pd.read_csv('./exp4/test.csv')"
   ]
  },
  {
   "cell_type": "code",
   "execution_count": 44,
   "metadata": {},
   "outputs": [],
   "source": [
    "def correction(df, path):\n",
    "    df['a'] = df['ELBO'].apply(lambda x: x.replace(\"[\", \"\"))\n",
    "    df['a'] = df['a'].apply(lambda x: x.replace(\"]\", \"\"))\n",
    "    df['a'] = df['a'].apply(lambda x: x.split(\", \"))\n",
    "    df[['ELBO', 'Label_KL', 'Style_KL', 'Reconst_Loss', 'CE_Loss']] = pd.DataFrame(df['a'].tolist())\n",
    "    df.drop(columns=['a'])\n",
    "    df.to_csv(path)"
   ]
  },
  {
   "cell_type": "code",
   "execution_count": null,
   "metadata": {},
   "outputs": [],
   "source": [
    "correction(df_train, )"
   ]
  },
  {
   "cell_type": "code",
   "execution_count": 49,
   "metadata": {},
   "outputs": [
    {
     "data": {
      "text/html": [
       "<div>\n",
       "<style scoped>\n",
       "    .dataframe tbody tr th:only-of-type {\n",
       "        vertical-align: middle;\n",
       "    }\n",
       "\n",
       "    .dataframe tbody tr th {\n",
       "        vertical-align: top;\n",
       "    }\n",
       "\n",
       "    .dataframe thead th {\n",
       "        text-align: right;\n",
       "    }\n",
       "</style>\n",
       "<table border=\"1\" class=\"dataframe\">\n",
       "  <thead>\n",
       "    <tr style=\"text-align: right;\">\n",
       "      <th></th>\n",
       "      <th>task</th>\n",
       "      <th>accuracy</th>\n",
       "      <th>ELBO</th>\n",
       "      <th>Label_KL</th>\n",
       "      <th>Style_KL</th>\n",
       "      <th>Reconst_Loss</th>\n",
       "      <th>CE_Loss</th>\n",
       "    </tr>\n",
       "  </thead>\n",
       "  <tbody>\n",
       "    <tr>\n",
       "      <th>0</th>\n",
       "      <td>0</td>\n",
       "      <td>0.253333</td>\n",
       "      <td>&lt;generator object &lt;genexpr&gt; at 0x7fe78cb5b4a0&gt;</td>\n",
       "      <td>NaN</td>\n",
       "      <td>NaN</td>\n",
       "      <td>NaN</td>\n",
       "      <td>NaN</td>\n",
       "    </tr>\n",
       "    <tr>\n",
       "      <th>1</th>\n",
       "      <td>1</td>\n",
       "      <td>0.346667</td>\n",
       "      <td>&lt;generator object &lt;genexpr&gt; at 0x7fe911dc5510&gt;</td>\n",
       "      <td>NaN</td>\n",
       "      <td>NaN</td>\n",
       "      <td>NaN</td>\n",
       "      <td>NaN</td>\n",
       "    </tr>\n",
       "    <tr>\n",
       "      <th>2</th>\n",
       "      <td>2</td>\n",
       "      <td>0.240000</td>\n",
       "      <td>&lt;generator object &lt;genexpr&gt; at 0x7fe911dc5510&gt;</td>\n",
       "      <td>NaN</td>\n",
       "      <td>NaN</td>\n",
       "      <td>NaN</td>\n",
       "      <td>NaN</td>\n",
       "    </tr>\n",
       "    <tr>\n",
       "      <th>3</th>\n",
       "      <td>3</td>\n",
       "      <td>0.186667</td>\n",
       "      <td>&lt;generator object &lt;genexpr&gt; at 0x7fe911dc5510&gt;</td>\n",
       "      <td>NaN</td>\n",
       "      <td>NaN</td>\n",
       "      <td>NaN</td>\n",
       "      <td>NaN</td>\n",
       "    </tr>\n",
       "    <tr>\n",
       "      <th>4</th>\n",
       "      <td>4</td>\n",
       "      <td>0.306667</td>\n",
       "      <td>&lt;generator object &lt;genexpr&gt; at 0x7fe911dc5510&gt;</td>\n",
       "      <td>NaN</td>\n",
       "      <td>NaN</td>\n",
       "      <td>NaN</td>\n",
       "      <td>NaN</td>\n",
       "    </tr>\n",
       "  </tbody>\n",
       "</table>\n",
       "</div>"
      ],
      "text/plain": [
       "   task  accuracy                                            ELBO  Label_KL  \\\n",
       "0     0  0.253333  <generator object <genexpr> at 0x7fe78cb5b4a0>       NaN   \n",
       "1     1  0.346667  <generator object <genexpr> at 0x7fe911dc5510>       NaN   \n",
       "2     2  0.240000  <generator object <genexpr> at 0x7fe911dc5510>       NaN   \n",
       "3     3  0.186667  <generator object <genexpr> at 0x7fe911dc5510>       NaN   \n",
       "4     4  0.306667  <generator object <genexpr> at 0x7fe911dc5510>       NaN   \n",
       "\n",
       "   Style_KL  Reconst_Loss  CE_Loss  \n",
       "0       NaN           NaN      NaN  \n",
       "1       NaN           NaN      NaN  \n",
       "2       NaN           NaN      NaN  \n",
       "3       NaN           NaN      NaN  \n",
       "4       NaN           NaN      NaN  "
      ]
     },
     "execution_count": 49,
     "metadata": {},
     "output_type": "execute_result"
    }
   ],
   "source": [
    "df_valid.head()"
   ]
  },
  {
   "cell_type": "code",
   "execution_count": 41,
   "metadata": {},
   "outputs": [
    {
     "data": {
      "text/html": [
       "<div>\n",
       "<style scoped>\n",
       "    .dataframe tbody tr th:only-of-type {\n",
       "        vertical-align: middle;\n",
       "    }\n",
       "\n",
       "    .dataframe tbody tr th {\n",
       "        vertical-align: top;\n",
       "    }\n",
       "\n",
       "    .dataframe thead th {\n",
       "        text-align: right;\n",
       "    }\n",
       "</style>\n",
       "<table border=\"1\" class=\"dataframe\">\n",
       "  <thead>\n",
       "    <tr style=\"text-align: right;\">\n",
       "      <th></th>\n",
       "      <th>task</th>\n",
       "      <th>accuracy</th>\n",
       "      <th>ELBO</th>\n",
       "      <th>Label_KL</th>\n",
       "      <th>Style_KL</th>\n",
       "      <th>Reconst_Loss</th>\n",
       "      <th>CE_Loss</th>\n",
       "    </tr>\n",
       "  </thead>\n",
       "  <tbody>\n",
       "    <tr>\n",
       "      <th>0</th>\n",
       "      <td>0</td>\n",
       "      <td>0.373333</td>\n",
       "      <td>193.83935546875</td>\n",
       "      <td>13.944713592529297</td>\n",
       "      <td>7.009795188903809</td>\n",
       "      <td>2507.172119140625</td>\n",
       "      <td>1.4781312942504883</td>\n",
       "    </tr>\n",
       "    <tr>\n",
       "      <th>1</th>\n",
       "      <td>1</td>\n",
       "      <td>0.160000</td>\n",
       "      <td>215.18350219726562</td>\n",
       "      <td>15.043779373168945</td>\n",
       "      <td>6.963221073150635</td>\n",
       "      <td>2554.450927734375</td>\n",
       "      <td>1.6763198375701904</td>\n",
       "    </tr>\n",
       "    <tr>\n",
       "      <th>2</th>\n",
       "      <td>2</td>\n",
       "      <td>0.306667</td>\n",
       "      <td>199.13633728027344</td>\n",
       "      <td>13.192551612854004</td>\n",
       "      <td>7.316178798675537</td>\n",
       "      <td>2401.73046875</td>\n",
       "      <td>1.5461030006408691</td>\n",
       "    </tr>\n",
       "    <tr>\n",
       "      <th>3</th>\n",
       "      <td>3</td>\n",
       "      <td>0.346667</td>\n",
       "      <td>198.44973754882812</td>\n",
       "      <td>12.838288307189941</td>\n",
       "      <td>7.280230522155762</td>\n",
       "      <td>2579.722900390625</td>\n",
       "      <td>1.525339961051941</td>\n",
       "    </tr>\n",
       "    <tr>\n",
       "      <th>4</th>\n",
       "      <td>4</td>\n",
       "      <td>0.320000</td>\n",
       "      <td>197.34095764160156</td>\n",
       "      <td>14.44733715057373</td>\n",
       "      <td>7.336524486541748</td>\n",
       "      <td>2542.8818359375</td>\n",
       "      <td>1.501282811164856</td>\n",
       "    </tr>\n",
       "  </tbody>\n",
       "</table>\n",
       "</div>"
      ],
      "text/plain": [
       "   task  accuracy                ELBO            Label_KL           Style_KL  \\\n",
       "0     0  0.373333     193.83935546875  13.944713592529297  7.009795188903809   \n",
       "1     1  0.160000  215.18350219726562  15.043779373168945  6.963221073150635   \n",
       "2     2  0.306667  199.13633728027344  13.192551612854004  7.316178798675537   \n",
       "3     3  0.346667  198.44973754882812  12.838288307189941  7.280230522155762   \n",
       "4     4  0.320000  197.34095764160156   14.44733715057373  7.336524486541748   \n",
       "\n",
       "        Reconst_Loss             CE_Loss  \n",
       "0  2507.172119140625  1.4781312942504883  \n",
       "1  2554.450927734375  1.6763198375701904  \n",
       "2      2401.73046875  1.5461030006408691  \n",
       "3  2579.722900390625   1.525339961051941  \n",
       "4    2542.8818359375   1.501282811164856  "
      ]
     },
     "execution_count": 41,
     "metadata": {},
     "output_type": "execute_result"
    }
   ],
   "source": [
    "df_train['a'] = df_train['ELBO'].apply(lambda x: x.replace(\"[\", \"\"))\n",
    "df_train['a'] = df_train['a'].apply(lambda x: x.replace(\"]\", \"\"))\n",
    "df_train['a'] = df_train['a'].apply(lambda x: x.split(\", \"))\n",
    "df_train[['ELBO', 'Label_KL', 'Style_KL', 'Reconst_Loss', 'CE_Loss']] = pd.DataFrame(df_train['a'].tolist())\n",
    "df_train.drop(columns=['a'], inplace=True)\n",
    "df_train.head()\n"
   ]
  },
  {
   "cell_type": "code",
   "execution_count": 28,
   "metadata": {},
   "outputs": [
    {
     "data": {
      "text/plain": [
       "['193.83935546875',\n",
       " '13.944713592529297',\n",
       " '7.009795188903809',\n",
       " '2507.172119140625',\n",
       " '1.4781312942504883']"
      ]
     },
     "execution_count": 28,
     "metadata": {},
     "output_type": "execute_result"
    }
   ],
   "source": [
    "df_train['a'][0]"
   ]
  }
 ],
 "metadata": {
  "interpreter": {
   "hash": "7e3af266dcb7df8b026f0780dbb396b062ee5ca2767a18f50e60e26ee6084121"
  },
  "kernelspec": {
   "display_name": "Python 3.8.11 64-bit ('torch': conda)",
   "name": "python3"
  },
  "language_info": {
   "codemirror_mode": {
    "name": "ipython",
    "version": 3
   },
   "file_extension": ".py",
   "mimetype": "text/x-python",
   "name": "python",
   "nbconvert_exporter": "python",
   "pygments_lexer": "ipython3",
   "version": "3.8.11"
  },
  "orig_nbformat": 4
 },
 "nbformat": 4,
 "nbformat_minor": 2
}

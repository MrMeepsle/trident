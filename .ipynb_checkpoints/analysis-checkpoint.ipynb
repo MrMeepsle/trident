{
 "cells": [
  {
   "cell_type": "code",
   "execution_count": null,
   "metadata": {
    "ExecuteTime": {
     "end_time": "2022-01-31T17:13:28.123504Z",
     "start_time": "2022-01-31T17:13:22.646135Z"
    }
   },
   "outputs": [],
   "source": [
    "import pandas as pd\n",
    "import numpy as np\n",
    "import torch\n",
    "import scipy\n",
    "from umap import UMAP\n",
    "import plotly_express as px\n",
    "import plotly.graph_objects as go"
   ]
  },
  {
   "cell_type": "code",
   "execution_count": null,
   "metadata": {
    "ExecuteTime": {
     "end_time": "2022-01-31T17:13:28.130369Z",
     "start_time": "2022-01-31T17:13:28.125795Z"
    }
   },
   "outputs": [],
   "source": [
    "def test_report(l, confidence=0.95):\n",
    "    for df in l:\n",
    "        df.columns = list(df.columns[1:]) + ['model_name']\n",
    "        df['accuracy'] = 100 * df['accuracy']\n",
    "        a = df['accuracy'].to_numpy()\n",
    "        n = len(a)\n",
    "        m, se = np.mean(a), scipy.stats.sem(a)\n",
    "        h = se * scipy.stats.t.ppf((1 + confidence) / 2., n-1)\n",
    "        print(m, h)"
   ]
  },
  {
   "cell_type": "code",
   "execution_count": null,
   "metadata": {
    "ExecuteTime": {
     "end_time": "2022-01-31T17:13:28.135109Z",
     "start_time": "2022-01-31T17:13:28.131847Z"
    }
   },
   "outputs": [],
   "source": [
    "def conf_int(data, confidence=0.95):\n",
    "    a = data.to_numpy()\n",
    "    n = len(a)\n",
    "    m, se = np.mean(a), scipy.stats.sem(a)\n",
    "    h = se * scipy.stats.t.ppf((1 + confidence) / 2., n-1)\n",
    "    return m, h"
   ]
  },
  {
   "cell_type": "code",
   "execution_count": null,
   "metadata": {
    "ExecuteTime": {
     "end_time": "2022-01-31T17:13:28.145154Z",
     "start_time": "2022-01-31T17:13:28.137271Z"
    }
   },
   "outputs": [],
   "source": [
    "def plot_summarize(dfs, columns, meta_batch_size, batch_size):\n",
    "    dfs[0] = dfs[0].groupby(np.arange(len(dfs[0])) // meta_batch_size).mean()\n",
    "    \n",
    "    dfs[1].columns = list(dfs[1].columns[1:]) + ['model_name']\n",
    "    valid = dfs[1].groupby('model_name', as_index=False)[dfs[1].columns].mean()\n",
    "    valid['iter'] = valid['model_name'].apply(\n",
    "        lambda x: int(x[x.index('_') + 1:-3]))\n",
    "    valid.sort_values(by=['iter'], inplace=True)\n",
    "    valid.drop(columns=['model_name'], inplace=True)\n",
    "    valid['accuracy'] = 100 * valid['accuracy'] \n",
    "\n",
    "    dfs[2].columns = list(dfs[2].columns[1:]) + ['model_name']\n",
    "    test = dfs[2].groupby('model_name', as_index=False)[dfs[2].columns].mean()\n",
    "    test['iter'] = test['model_name'].apply(\n",
    "        lambda x: int(x[x.index('_') + 1:-3]))\n",
    "    test['accuracy'] = 100 * test['accuracy']\n",
    "    test.drop(columns=['model_name'], inplace=True)\n",
    "    test.sort_values(by=['iter'], inplace=True)\n",
    "\n",
    "    # Summarizing best valid & test scores\n",
    "    ind = valid[valid['accuracy'] == valid['accuracy'].max()]['iter'].values[0]\n",
    "    t = dfs[1][dfs[1]['model_name'] == 'model_' + str(ind) + '.pt']\n",
    "    t['accuracy'] = 100 * t['accuracy']\n",
    "    print('Validation Metrics Stats of Best Model at {}-th Iteration'.format(ind))\n",
    "    display(t.describe())\n",
    "    t = dfs[2][dfs[2]['model_name'] == 'model_' + str(ind) + '.pt']\n",
    "    t['accuracy'] = 100 * t['accuracy']\n",
    "    print('Test Metrics Stats of Best Val-picked Model at {}-th Iteration'.format(ind))\n",
    "    display(t.describe())\n",
    "    \n",
    "    ind = test[test['accuracy'] == test['accuracy'].max()]['iter'].values[0]\n",
    "    t = dfs[2][dfs[2]['model_name'] == 'model_' + str(ind) + '.pt']\n",
    "    t['accuracy'] = 100 * t['accuracy']\n",
    "    print('Test Metrics Stats of Best Model at {}-th Iteration'.format(ind))\n",
    "    display(t.describe())\n",
    "\n",
    "    dfs[0].drop(columns=['task'], inplace=True)\n",
    "    dfs[0].reset_index(drop=True, inplace=True)\n",
    "    valid.reset_index(drop=True, inplace=True)\n",
    "    dfs[0].columns = [str(c)+'_train' for c in columns]\n",
    "    dfs[0]['accuracy_train'] = 100 * dfs[0]['accuracy_train']\n",
    "    dfs[0]['iter'] = dfs[0].index\n",
    "    \n",
    "    # Plotting\n",
    "    ctv = [str(c)+'_train' for c in columns]\n",
    "    fig = px.line(dfs[0], x=dfs[0].index, y=ctv)\n",
    "    # figure this test.columns format and how to name\n",
    "    fig.add_scatter(x=test['iter'], y=test['accuracy'], name='accuracy_test')\n",
    "    fig.add_scatter(x=valid['iter'], y=valid['accuracy'], name='accuracy_valid')\n",
    "    fig.show()\n",
    "\n",
    "    #return df, test"
   ]
  },
  {
   "cell_type": "code",
   "execution_count": null,
   "metadata": {
    "ExecuteTime": {
     "end_time": "2022-01-31T17:13:28.152478Z",
     "start_time": "2022-01-31T17:13:28.147024Z"
    }
   },
   "outputs": [],
   "source": [
    "def plot_summarize_old(dfs, columns, meta_batch_size):\n",
    "    dfs[0] = dfs[0].groupby(np.arange(len(dfs[0])) // meta_batch_size).mean()\n",
    "    dfs[0].reset_index(drop=True, inplace=True)\n",
    "    dfs[1].reset_index(drop=True, inplace=True)\n",
    "    df = pd.concat([dfs[0][columns], dfs[1][columns]], axis=1)\n",
    "    df.columns = [str(c)+'_train' for c in columns] + \\\n",
    "        [str(c)+'_valid' for c in columns]\n",
    "    df[['accuracy_train', 'accuracy_valid']] = 100 * \\\n",
    "        df[['accuracy_train', 'accuracy_valid']]\n",
    "    df['iter'] = df.index\n",
    "\n",
    "    dfs[2].columns = list(dfs[2].columns[1:]) + ['model_name']\n",
    "    test = dfs[2].groupby('model_name', as_index=False)[dfs[2].columns].mean()\n",
    "    test['iter'] = test['model_name'].apply(\n",
    "        lambda x: int(x[x.index('_') + 1:-3]))\n",
    "    test['accuracy'] = 100 * test['accuracy']\n",
    "    test.drop(columns=['model_name'], inplace=True)\n",
    "    test.sort_values(by=['iter'], inplace=True)\n",
    "\n",
    "    # Summarizing test scores\n",
    "    ind = test[test['accuracy'] == test['accuracy'].max()]['iter'].values[0]\n",
    "    t = dfs[2][dfs[2]['model_name'] == 'model_' + str(ind) + '.pt']\n",
    "    t['accuracy'] = 100 * t['accuracy']\n",
    "    print('Test Metrics Stats of Best Model at {}-th Iteration'.format(ind))\n",
    "    display(t.describe())\n",
    "\n",
    "    # Plotting\n",
    "    ctv = [str(c)+'_train' for c in columns] + \\\n",
    "        [str(c)+'_valid' for c in columns]\n",
    "    fig = px.line(df, x=df.index, y=ctv)\n",
    "    # figure this test.columns format and how to name\n",
    "    fig.add_scatter(x=test['iter'], y=test['accuracy'], name='accuracy_test')\n",
    "    fig.show()\n",
    "\n",
    "    return df, test"
   ]
  },
  {
   "cell_type": "code",
   "execution_count": null,
   "metadata": {
    "ExecuteTime": {
     "end_time": "2022-01-31T17:13:28.158627Z",
     "start_time": "2022-01-31T17:13:28.154643Z"
    }
   },
   "outputs": [],
   "source": [
    "def viz_images(experiment, epoch, mode):\n",
    "    images = torch.load(\n",
    "        '/home/anuj/Desktop/Work/TU_Delft/research/implement/learning_to_meta-learn/logs/DELPO_{}_5-way_5-shot_15-queries/{}/images_epoch-{}_{}.pt'.format(experiment[1], experiment[0], epoch, mode))\n",
    "    \n",
    "    fig1 = px.imshow(np.array(images['gt_examples'].permute(0,2,3,1))[::15], facet_col=0 ,facet_col_wrap=5)\n",
    "    fig2 = px.imshow(np.array(images['reconst_examples'].permute(0,2,3,1))[::15], facet_col=0 ,facet_col_wrap=5)\n",
    "\n",
    "    fig1.show()\n",
    "    fig2.show()"
   ]
  },
  {
   "cell_type": "code",
   "execution_count": null,
   "metadata": {
    "ExecuteTime": {
     "end_time": "2022-01-31T17:13:28.168494Z",
     "start_time": "2022-01-31T17:13:28.160846Z"
    }
   },
   "outputs": [],
   "source": [
    "def viz_latents(experiment, epoch, mode):\n",
    "\n",
    "    #Only visualizing the image-latent-gaussian distribution mu's\n",
    "    latents = torch.load(\n",
    "        '/home/anuj/Desktop/Work/TU_Delft/research/implement/learning_to_meta-learn/logs/DELPO_{}_5-way_5-shot_15-queries/{}/latents_epoch-{}_{}.pt'.format(experiment[1], experiment[0], epoch, mode))\n",
    "    df = pd.DataFrame(np.array(latents['label_latents'][0]))\n",
    "    df['class'] = pd.Series(list(np.full((15,), 0)) + list(np.full((15,), 1)) + list(\n",
    "        np.full((15,), 2)) + list(np.full((15,), 3)) + list(np.full((15,), 4)))\n",
    "    features = df.iloc[:, :-1]\n",
    "\n",
    "    umap = UMAP(n_components=3, init='random', random_state=0)\n",
    "\n",
    "    proj_2d = umap.fit_transform(features)\n",
    "\n",
    "    fig_3d = px.scatter_3d(\n",
    "        proj_2d, x=0, y=1, z=2,\n",
    "        color=df['class'], labels={'color': 'class'}\n",
    "    )\n",
    "    fig_3d.show()\n"
   ]
  },
  {
   "cell_type": "markdown",
   "metadata": {},
   "source": [
    "# MiniImagenet: 5-way, 1-shot, 15-queries - Vanilla"
   ]
  },
  {
   "cell_type": "code",
   "execution_count": null,
   "metadata": {
    "ExecuteTime": {
     "end_time": "2021-12-15T14:58:48.848054Z",
     "start_time": "2021-12-15T14:58:47.274675Z"
    }
   },
   "outputs": [],
   "source": [
    "df_train = pd.read_csv('./logs/DELPO_miniimagenet_5-way_1-shot_15-queries/vanilla/train2.csv')\n",
    "df_valid = pd.read_csv('./logs/DELPO_miniimagenet_5-way_1-shot_15-queries/vanilla/valid_all2.csv')\n",
    "df_test = pd.read_csv('./logs/DELPO_miniimagenet_5-way_1-shot_15-queries/vanilla/test_all2.csv')\n",
    "df_test = df_test[~(df_test['CE_Loss'] == 'model_last.pt')]\n",
    "df_valid = df_valid[~(df_valid['CE_Loss'] == 'model_last.pt')]"
   ]
  },
  {
   "cell_type": "code",
   "execution_count": null,
   "metadata": {
    "ExecuteTime": {
     "end_time": "2021-12-15T14:58:52.180629Z",
     "start_time": "2021-12-15T14:58:48.849760Z"
    },
    "scrolled": false
   },
   "outputs": [],
   "source": [
    "plot_summarize([df_train, df_valid, df_test], ['accuracy', 'ELBO', 'Label_KL', 'Style_KL', 'Reconst_Loss', 'CE_Loss'], 20, 500)"
   ]
  },
  {
   "cell_type": "code",
   "execution_count": null,
   "metadata": {},
   "outputs": [],
   "source": []
  },
  {
   "cell_type": "code",
   "execution_count": null,
   "metadata": {
    "ExecuteTime": {
     "end_time": "2021-12-14T07:40:38.400195Z",
     "start_time": "2021-12-14T07:40:30.026243Z"
    }
   },
   "outputs": [],
   "source": [
    "df_train = pd.read_csv('./logs/DELPO_miniimagenet_5-way_1-shot_10-queries/exp1-eaen/train.csv')\n",
    "df_train = df_train.groupby(np.arange(len(df_train)) // 20).mean()\n",
    "\n",
    "df_train1 = pd.read_csv('./logs/DELPO_miniimagenet_5-way_1-shot_15-queries/vanilla/train1.csv')\n",
    "df_train1 = df_train1.groupby(np.arange(len(df_train1)) // 20).mean()\n",
    "\n",
    "df_train2 = pd.read_csv('./logs/DELPO_miniimagenet_5-way_1-shot_15-queries/vanilla/train2.csv')\n",
    "df_train2 = df_train2.groupby(np.arange(len(df_train2)) // 20).mean()\n",
    "\n",
    "df_train3 = pd.read_csv('./logs/DELPO_miniimagenet_5-way_1-shot_15-queries/vanilla/train3.csv')\n",
    "df_train3 = df_train3.groupby(np.arange(len(df_train3)) // 20).mean()\n",
    "\n",
    "df_train = pd.concat([df_train, df_train1, df_train2, df_train3], axis=1)\n",
    "df_train = df_train['accuracy']\n",
    "df_train.columns = ['acc', 'acc1', 'acc2', 'acc3']\n",
    "#df_train.dropna(inplace=True)\n",
    "\n",
    "fig = px.line(df_train)\n",
    "fig.show()"
   ]
  },
  {
   "cell_type": "markdown",
   "metadata": {},
   "source": [
    "# MiniImagenet: 5-way, 1-shot, 10-queries - with TAD"
   ]
  },
  {
   "cell_type": "markdown",
   "metadata": {},
   "source": [
    "## TAFE "
   ]
  },
  {
   "cell_type": "code",
   "execution_count": null,
   "metadata": {
    "ExecuteTime": {
     "end_time": "2022-01-09T07:32:36.124340Z",
     "start_time": "2022-01-09T07:32:28.248847Z"
    }
   },
   "outputs": [],
   "source": [
    "df_train = pd.read_csv('./logs/DELPO_miniimagenet_5-way_1-shot_10-queries/exp1-eaen/train.csv')\n",
    "df_train = df_train.groupby(np.arange(len(df_train)) // 20).mean()\n",
    "\n",
    "df_train1 = pd.read_csv(f'./logs/DELPO_miniimagenet_5-way_1-shot_10-queries/exp1-tafe/train(wo relu)3.csv')\n",
    "df_train1 = df_train1.groupby(np.arange(len(df_train1)) // 20).mean()\n",
    "\n",
    "df_train2 = pd.read_csv(f'./logs/DELPO_miniimagenet_5-way_1-shot_10-queries/exp1-tafe/train(w relu)2.csv')\n",
    "df_train2 = df_train2.groupby(np.arange(len(df_train2)) // 20).mean()\n",
    "\n",
    "df_train = pd.concat([df_train, df_train1, df_train2], axis=1)\n",
    "df_train = df_train['accuracy']\n",
    "df_train.columns = ['acc1', 'acc2', 'acc3']\n",
    "#df_train.dropna(inplace=True)\n",
    "\n",
    "fig = px.line(df_train)\n",
    "fig.show()"
   ]
  },
  {
   "cell_type": "code",
   "execution_count": null,
   "metadata": {
    "ExecuteTime": {
     "end_time": "2022-01-27T12:42:24.070262Z",
     "start_time": "2022-01-27T12:42:22.822909Z"
    }
   },
   "outputs": [],
   "source": [
    "df_train = pd.read_csv(f'./logs/DELPO_miniimagenet_5-way_1-shot_10-queries/exp1-tafe/exp1-tafe(wo relu)/train.csv')\n",
    "df_valid = pd.read_csv(f'./logs/DELPO_miniimagenet_5-way_1-shot_10-queries/exp1-tafe/exp1-tafe(wo relu)/valid_all.csv')\n",
    "df_test = pd.read_csv(f'./logs/DELPO_miniimagenet_5-way_1-shot_10-queries/exp1-tafe/exp1-tafe(wo relu)/test_all.csv')\n",
    "df_test = df_test[~(df_test['CE_Loss'] == 'model_last.pt')]\n",
    "df_valid = df_valid[~(df_valid['CE_Loss'] == 'model_last.pt')]"
   ]
  },
  {
   "cell_type": "code",
   "execution_count": null,
   "metadata": {
    "ExecuteTime": {
     "end_time": "2022-01-27T12:43:24.348162Z",
     "start_time": "2022-01-27T12:43:24.322180Z"
    }
   },
   "outputs": [],
   "source": [
    "df_test2 = pd.read_csv(f'./logs/DELPO_miniimagenet_5-way_1-shot_10-queries/exp1-tafe/exp1-tafe(wo relu)/test_all2.csv')\n",
    "df_test3 = pd.read_csv(f'./logs/DELPO_miniimagenet_5-way_1-shot_10-queries/exp1-tafe/exp1-tafe(wo relu)/test_all3.csv')\n",
    "df_test4 = pd.read_csv(f'./logs/DELPO_miniimagenet_5-way_1-shot_10-queries/exp1-tafe/exp1-tafe(wo relu)/test_all4.csv')\n",
    "test_report([df_test2, df_test3, df_test4])"
   ]
  },
  {
   "cell_type": "code",
   "execution_count": null,
   "metadata": {
    "ExecuteTime": {
     "end_time": "2022-01-27T12:42:29.778939Z",
     "start_time": "2022-01-27T12:42:26.209055Z"
    },
    "scrolled": true
   },
   "outputs": [],
   "source": [
    "plot_summarize([df_train, df_valid, df_test], ['accuracy', 'ELBO', 'Label_KL', 'Style_KL', 'Reconst_Loss', 'CE_Loss'], 20, 500)"
   ]
  },
  {
   "cell_type": "code",
   "execution_count": null,
   "metadata": {
    "ExecuteTime": {
     "end_time": "2022-01-27T12:42:33.712359Z",
     "start_time": "2022-01-27T12:42:33.701404Z"
    }
   },
   "outputs": [],
   "source": [
    "conf_int(df_test[df_test['model_name'] == 'model_59500.pt']['accuracy'])"
   ]
  },
  {
   "cell_type": "markdown",
   "metadata": {},
   "source": [
    "**Works best without relu activations for QKV extraction. Finalize and test!**"
   ]
  },
  {
   "cell_type": "markdown",
   "metadata": {},
   "source": [
    "## EAEN "
   ]
  },
  {
   "cell_type": "code",
   "execution_count": null,
   "metadata": {
    "ExecuteTime": {
     "end_time": "2021-12-10T11:30:04.900073Z",
     "start_time": "2021-12-10T11:30:04.083476Z"
    }
   },
   "outputs": [],
   "source": [
    "df_train = pd.read_csv('./logs/DELPO_miniimagenet_5-way_1-shot_10-queries/exp1-eaen/train.csv')\n",
    "df_valid = pd.read_csv('./logs/DELPO_miniimagenet_5-way_1-shot_10-queries/exp1-eaen/valid_all.csv')\n",
    "df_test = pd.read_csv('./logs/DELPO_miniimagenet_5-way_1-shot_10-queries/exp1-eaen/test_all1.csv')\n",
    "df_test = df_test[~(df_test['CE_Loss'] == 'model_last.pt')]\n",
    "df_valid = df_valid[~(df_valid['CE_Loss'] == 'model_last.pt')]"
   ]
  },
  {
   "cell_type": "code",
   "execution_count": null,
   "metadata": {
    "ExecuteTime": {
     "end_time": "2021-12-10T11:30:08.517928Z",
     "start_time": "2021-12-10T11:30:05.468730Z"
    },
    "scrolled": false
   },
   "outputs": [],
   "source": [
    "plot_summarize([df_train, df_valid, df_test], ['accuracy', 'ELBO', 'Label_KL', 'Style_KL', 'Reconst_Loss', 'CE_Loss'], 20, 500)"
   ]
  },
  {
   "cell_type": "code",
   "execution_count": null,
   "metadata": {
    "ExecuteTime": {
     "end_time": "2021-12-07T19:16:30.360225Z",
     "start_time": "2021-12-07T19:16:30.350166Z"
    }
   },
   "outputs": [],
   "source": [
    "conf_int(df_test[df_test['model_name'] == 'model_31000.pt']['accuracy'])"
   ]
  },
  {
   "cell_type": "code",
   "execution_count": null,
   "metadata": {
    "ExecuteTime": {
     "end_time": "2021-12-07T19:27:07.167448Z",
     "start_time": "2021-12-07T19:27:07.136633Z"
    }
   },
   "outputs": [],
   "source": [
    "df_test2 = pd.read_csv('./logs/DELPO_miniimagenet_5-way_1-shot_10-queries/exp1-eaen/test_all2.csv')\n",
    "df_test3 = pd.read_csv('./logs/DELPO_miniimagenet_5-way_1-shot_10-queries/exp1-eaen/test_all3.csv')\n",
    "df_test4 = pd.read_csv('./logs/DELPO_miniimagenet_5-way_1-shot_10-queries/exp1-eaen/test_all4.csv')\n",
    "test_report([df_test2, df_test3, df_test4])"
   ]
  },
  {
   "cell_type": "code",
   "execution_count": null,
   "metadata": {},
   "outputs": [],
   "source": []
  },
  {
   "cell_type": "code",
   "execution_count": null,
   "metadata": {
    "ExecuteTime": {
     "end_time": "2021-12-10T11:38:52.939242Z",
     "start_time": "2021-12-10T11:38:49.136715Z"
    }
   },
   "outputs": [],
   "source": [
    "df_train = pd.read_csv('./logs/DELPO_miniimagenet_5-way_1-shot_10-queries/exp1-eaen/train.csv')\n",
    "df_train = df_train.groupby(np.arange(len(df_train)) // 20).mean()\n",
    "\n",
    "df_train1 = pd.read_csv('./logs/DELPO_miniimagenet_5-way_1-shot_10-queries/train.csv')\n",
    "df_train1 = df_train1.groupby(np.arange(len(df_train1)) // 20).mean()\n",
    "\n",
    "df_train = pd.concat([df_train, df_train1], axis=1)\n",
    "df_train = df_train['accuracy']\n",
    "df_train.columns = ['acc1', 'acc2']\n",
    "#df_train.dropna(inplace=True)\n",
    "\n",
    "fig = px.line(df_train)\n",
    "fig.show()"
   ]
  },
  {
   "cell_type": "markdown",
   "metadata": {},
   "source": [
    "# MiniImagenet: 5-way, 5-shot, 15-queries: Vanilla"
   ]
  },
  {
   "cell_type": "markdown",
   "metadata": {},
   "source": [
    "## Experiment-8:"
   ]
  },
  {
   "cell_type": "code",
   "execution_count": null,
   "metadata": {
    "ExecuteTime": {
     "end_time": "2021-12-15T14:59:05.150166Z",
     "start_time": "2021-12-15T14:59:04.002541Z"
    }
   },
   "outputs": [],
   "source": [
    "df_train = pd.read_csv('./logs/DELPO_miniimagenet_5-way_5-shot_10-queries/vanilla/train8.csv')\n",
    "df_valid = pd.read_csv('./logs/DELPO_miniimagenet_5-way_5-shot_10-queries/vanilla/valid_all8.csv')\n",
    "df_test = pd.read_csv('./logs/DELPO_miniimagenet_5-way_5-shot_10-queries/vanilla/test_all8.csv')\n",
    "df_test = df_test[~(df_test['CE_Loss'] == 'model_last.pt')]\n",
    "df_valid = df_valid[~(df_valid['CE_Loss'] == 'model_last.pt')]"
   ]
  },
  {
   "cell_type": "code",
   "execution_count": null,
   "metadata": {
    "ExecuteTime": {
     "end_time": "2021-12-15T14:59:07.536830Z",
     "start_time": "2021-12-15T14:59:05.151519Z"
    },
    "scrolled": false
   },
   "outputs": [],
   "source": [
    "df, test = plot_summarize(\n",
    "    [df_train, df_valid, df_test],\n",
    "    ['accuracy', 'ELBO', 'Label_KL', 'Style_KL', 'Reconst_Loss', 'CE_Loss'],\n",
    "    20, 500)"
   ]
  },
  {
   "cell_type": "code",
   "execution_count": null,
   "metadata": {},
   "outputs": [],
   "source": []
  },
  {
   "cell_type": "code",
   "execution_count": null,
   "metadata": {
    "ExecuteTime": {
     "end_time": "2021-12-14T07:42:42.963373Z",
     "start_time": "2021-12-14T07:42:38.763213Z"
    }
   },
   "outputs": [],
   "source": [
    "df_train = pd.read_csv('./logs/DELPO_miniimagenet_5-way_5-shot_10-queries/vanilla/train8.csv')\n",
    "df_train = df_train.groupby(np.arange(len(df_train)) // 20).mean()\n",
    "df_train1 = pd.read_csv('./logs/DELPO_miniimagenet_5-way_5-shot_10-queries/vanilla/train9.csv')\n",
    "df_train1 = df_train1.groupby(np.arange(len(df_train1)) // 20).mean()\n",
    "df_train3 = pd.read_csv('./logs/DELPO_miniimagenet_5-way_5-shot_10-queries/vanilla/train10.csv')\n",
    "df_train3 = df_train3.groupby(np.arange(len(df_train3)) // 20).mean()\n",
    "\n",
    "\n",
    "df_train = pd.concat([df_train, df_train1, df_train3], axis=1)\n",
    "df_train = df_train['accuracy']\n",
    "df_train.columns = ['acc1', 'acc2', 'acc3']\n",
    "#df_train.dropna(inplace=True)\n",
    "\n",
    "fig = px.line(df_train)\n",
    "fig.show()"
   ]
  },
  {
   "cell_type": "code",
   "execution_count": null,
   "metadata": {
    "ExecuteTime": {
     "end_time": "2021-12-10T19:17:35.494039Z",
     "start_time": "2021-12-10T19:17:31.515976Z"
    }
   },
   "outputs": [],
   "source": [
    "df_train = pd.read_csv('/media/anuj/New Volume/Win_BKP/TU_Delft/research/implement/learning_to_meta-learn/logs_v1/DELPO_miniimagenet_5-way_5-shot_15-queries/exp8/train.csv')\n",
    "df_valid = pd.read_csv('/media/anuj/New Volume/Win_BKP/TU_Delft/research/implement/learning_to_meta-learn/logs_v1/DELPO_miniimagenet_5-way_5-shot_15-queries/exp8/valid.csv')\n",
    "df_test = pd.read_csv('/media/anuj/New Volume/Win_BKP/TU_Delft/research/implement/learning_to_meta-learn/logs_v1/DELPO_miniimagenet_5-way_5-shot_15-queries/exp8/test_all.csv')\n",
    "\n",
    "df_test = df_test[~(df_test['CE_Loss'] == 'model_last.pt')]\n",
    "\n",
    "df_train1 = pd.read_csv('/media/anuj/New Volume/Win_BKP/TU_Delft/research/implement/learning_to_meta-learn/logs_v1/DELPO_miniimagenet_5-way_5-shot_15-queries/exp8/train_45.csv')\n",
    "df_valid1 = pd.read_csv('/media/anuj/New Volume/Win_BKP/TU_Delft/research/implement/learning_to_meta-learn/logs_v1/DELPO_miniimagenet_5-way_5-shot_15-queries/exp8/valid_45.csv')\n",
    "df_test1 = pd.read_csv('/media/anuj/New Volume/Win_BKP/TU_Delft/research/implement/learning_to_meta-learn/logs_v1/DELPO_miniimagenet_5-way_5-shot_15-queries/exp8/test_all_45.csv')\n",
    "\n",
    "df_test1 = df_test1[~(df_test1['CE_Loss'] == 'model_last.pt')]\n",
    "\n",
    "df_train_all = pd.concat([df_train, df_train1])\n",
    "df_valid_all = pd.concat([df_valid, df_valid1])\n",
    "df_test_all = pd.concat([df_test, df_test1])"
   ]
  },
  {
   "cell_type": "code",
   "execution_count": null,
   "metadata": {
    "ExecuteTime": {
     "end_time": "2021-11-14T09:21:26.980070Z",
     "start_time": "2021-11-14T09:21:25.769442Z"
    }
   },
   "outputs": [],
   "source": [
    "df_train = pd.read_csv('./logs/DELPO_miniimagenet_5-way_5-shot_15-queries/exp8/train.csv')\n",
    "df_valid = pd.read_csv('./logs/DELPO_miniimagenet_5-way_5-shot_15-queries/exp8/valid.csv')\n",
    "df_test = pd.read_csv('./logs/DELPO_miniimagenet_5-way_5-shot_15-queries/exp8/test_all.csv')\n",
    "\n",
    "df_test = df_test[~(df_test['CE_Loss'] == 'model_last.pt')]\n",
    "\n",
    "df_train1 = pd.read_csv('./logs/DELPO_miniimagenet_5-way_5-shot_15-queries/exp8/train_45.csv')\n",
    "df_valid1 = pd.read_csv('./logs/DELPO_miniimagenet_5-way_5-shot_15-queries/exp8/valid_45.csv')\n",
    "df_test1 = pd.read_csv('./logs/DELPO_miniimagenet_5-way_5-shot_15-queries/exp8/test_all_45.csv')\n",
    "\n",
    "df_test1 = df_test1[~(df_test1['CE_Loss'] == 'model_last.pt')]\n",
    "\n",
    "df_train_all = pd.concat([df_train, df_train1])\n",
    "df_valid_all = pd.concat([df_valid, df_valid1])\n",
    "df_test_all = pd.concat([df_test, df_test1])"
   ]
  },
  {
   "cell_type": "code",
   "execution_count": null,
   "metadata": {
    "ExecuteTime": {
     "end_time": "2021-12-10T19:18:43.544060Z",
     "start_time": "2021-12-10T19:18:43.516541Z"
    }
   },
   "outputs": [],
   "source": [
    "df_train"
   ]
  },
  {
   "cell_type": "code",
   "execution_count": null,
   "metadata": {
    "ExecuteTime": {
     "end_time": "2021-12-10T19:17:50.694979Z",
     "start_time": "2021-12-10T19:17:45.536874Z"
    }
   },
   "outputs": [],
   "source": [
    "df, test = plot_summarize_old(\n",
    "    [df_train_all, df_valid_all, df_test_all],\n",
    "    ['accuracy', 'ELBO', 'Label_KL', 'Style_KL', 'Reconst_Loss', 'CE_Loss'],\n",
    "    20)"
   ]
  },
  {
   "cell_type": "code",
   "execution_count": null,
   "metadata": {
    "ExecuteTime": {
     "end_time": "2021-11-03T16:40:52.522980Z",
     "start_time": "2021-11-03T16:40:52.328977Z"
    }
   },
   "outputs": [],
   "source": [
    "viz_images(['exp8', 'miniimagenet'], 41500, 'train')"
   ]
  },
  {
   "cell_type": "code",
   "execution_count": null,
   "metadata": {
    "ExecuteTime": {
     "end_time": "2021-11-03T16:41:08.022815Z",
     "start_time": "2021-11-03T16:41:07.312473Z"
    }
   },
   "outputs": [],
   "source": [
    "viz_latents(['exp8', 'miniimagenet'], 41500, 'train')"
   ]
  },
  {
   "cell_type": "markdown",
   "metadata": {},
   "source": [
    "### Experiment-8-arch-ablation: "
   ]
  },
  {
   "cell_type": "markdown",
   "metadata": {},
   "source": [
    "added a layer before extracting mu, sigma for latent distribution, thus now: 1000 -- 256 -- 64 "
   ]
  },
  {
   "cell_type": "code",
   "execution_count": null,
   "metadata": {
    "ExecuteTime": {
     "end_time": "2021-11-04T11:44:05.873875Z",
     "start_time": "2021-11-04T11:44:05.083169Z"
    }
   },
   "outputs": [],
   "source": [
    "df_train = pd.read_csv('./logs/DELPO_miniimagenet_5-way_5-shot_15-queries/exp8-archab/train.csv')\n",
    "df_valid = pd.read_csv('./logs/DELPO_miniimagenet_5-way_5-shot_15-queries/exp8-archab/valid.csv')\n",
    "df_test = pd.read_csv('./logs/DELPO_miniimagenet_5-way_5-shot_15-queries/exp8-archab/test_all.csv')\n",
    "df_test = df_test[~(df_test['CE_Loss'] == 'model_last.pt')]"
   ]
  },
  {
   "cell_type": "code",
   "execution_count": null,
   "metadata": {
    "ExecuteTime": {
     "end_time": "2021-11-04T11:44:34.985573Z",
     "start_time": "2021-11-04T11:44:31.689216Z"
    }
   },
   "outputs": [],
   "source": [
    "df, test = plot_summarize(\n",
    "    [df_train, df_valid, df_test],\n",
    "    ['accuracy', 'ELBO', 'Label_KL', 'Style_KL', 'Reconst_Loss', 'CE_Loss'],\n",
    "    20)"
   ]
  },
  {
   "cell_type": "markdown",
   "metadata": {},
   "source": [
    "# MiniImagenet: 5-way, 5-shot, 10-queries - TAD "
   ]
  },
  {
   "cell_type": "markdown",
   "metadata": {},
   "source": [
    "## TAFE "
   ]
  },
  {
   "cell_type": "code",
   "execution_count": null,
   "metadata": {
    "ExecuteTime": {
     "end_time": "2022-01-18T13:01:12.436630Z",
     "start_time": "2022-01-18T13:01:05.192697Z"
    }
   },
   "outputs": [],
   "source": [
    "df_train = pd.read_csv('./logs/DELPO_miniimagenet_5-way_5-shot_10-queries/exp8-tafe/exp8-tafe(wo relu)/train.csv')\n",
    "df_train = df_train.groupby(np.arange(len(df_train)) // 20).mean()\n",
    "df_train1 = pd.read_csv(f'./logs/DELPO_miniimagenet_5-way_5-shot_10-queries/exp8-tafe/train1(wo relu).csv')\n",
    "df_train1 = df_train1.groupby(np.arange(len(df_train1)) // 20).mean()\n",
    "df_train2 = pd.read_csv(f'./logs/DELPO_miniimagenet_5-way_5-shot_10-queries/exp8-tafe/stash/train2(wo relu).csv')\n",
    "df_train2 = df_train2.groupby(np.arange(len(df_train2)) // 20).mean()\n",
    "df_train3 = pd.read_csv(f'./logs/DELPO_miniimagenet_5-way_5-shot_10-queries/exp8-tafe/train1(w relu).csv')\n",
    "df_train3 = df_train3.groupby(np.arange(len(df_train3)) // 20).mean()\n",
    "df_train4 = pd.read_csv(f'./logs/DELPO_miniimagenet_5-way_5-shot_10-queries/exp8-tafe/train2(w relu).csv')\n",
    "df_train4 = df_train4.groupby(np.arange(len(df_train4)) // 20).mean()\n",
    "\n",
    "\n",
    "df_train = pd.concat([df_train, df_train1, df_train2, df_train3, df_train4], axis=1)\n",
    "df_train = df_train['accuracy']\n",
    "df_train.columns = ['acc', 'acc1', 'acc2', 'acc3', 'acc4']\n",
    "#df_train.dropna(inplace=True)\n",
    "\n",
    "fig = px.line(df_train)\n",
    "fig.show()"
   ]
  },
  {
   "cell_type": "markdown",
   "metadata": {},
   "source": [
    "**Monitor and monitor tomorrow at EOD, 4th run seems most promising yet - Testing!**"
   ]
  },
  {
   "cell_type": "code",
   "execution_count": null,
   "metadata": {
    "ExecuteTime": {
     "end_time": "2022-01-15T11:11:50.330836Z",
     "start_time": "2022-01-15T11:11:49.892687Z"
    }
   },
   "outputs": [],
   "source": [
    "df_train = pd.read_csv(f'./logs/DELPO_miniimagenet_5-way_5-shot_10-queries/exp8-tafe/stash/train2(wo relu).csv')\n",
    "df_valid = pd.read_csv(f'./logs/DELPO_miniimagenet_5-way_5-shot_10-queries/exp8-tafe/stash/valid.csv')\n",
    "df_test = pd.read_csv(f'./logs/DELPO_miniimagenet_5-way_5-shot_10-queries/exp8-tafe/stash/test.csv')"
   ]
  },
  {
   "cell_type": "markdown",
   "metadata": {},
   "source": [
    "**Didn't work, check other runs**"
   ]
  },
  {
   "cell_type": "code",
   "execution_count": null,
   "metadata": {
    "ExecuteTime": {
     "end_time": "2022-01-27T12:47:01.614867Z",
     "start_time": "2022-01-27T12:47:00.962666Z"
    }
   },
   "outputs": [],
   "source": [
    "df_train = pd.read_csv(f'./logs/DELPO_miniimagenet_5-way_5-shot_10-queries/exp8-tafe/exp8.2-tafe(w relu)/train.csv')\n",
    "df_valid = pd.read_csv(f'./logs/DELPO_miniimagenet_5-way_5-shot_10-queries/exp8-tafe/exp8.2-tafe(w relu)/valid_all.csv')\n",
    "df_test = pd.read_csv(f'./logs/DELPO_miniimagenet_5-way_5-shot_10-queries/exp8-tafe/exp8.2-tafe(w relu)/test_all.csv')\n",
    "df_test = df_test[~(df_test['CE_Loss'] == 'model_last.pt')]"
   ]
  },
  {
   "cell_type": "code",
   "execution_count": null,
   "metadata": {
    "ExecuteTime": {
     "end_time": "2022-01-27T12:47:07.018305Z",
     "start_time": "2022-01-27T12:47:05.005477Z"
    },
    "scrolled": true
   },
   "outputs": [],
   "source": [
    "plot_summarize(\n",
    "    [df_train, df_valid, df_test],\n",
    "    ['accuracy', 'ELBO', 'Label_KL', 'Style_KL', 'Reconst_Loss', 'CE_Loss'],\n",
    "    20, 500)"
   ]
  },
  {
   "cell_type": "code",
   "execution_count": null,
   "metadata": {
    "ExecuteTime": {
     "end_time": "2022-01-27T12:47:26.035741Z",
     "start_time": "2022-01-27T12:47:26.017785Z"
    }
   },
   "outputs": [],
   "source": [
    "conf_int(df_test[df_test['model_name'] == 'model_33000.pt']['accuracy'])"
   ]
  },
  {
   "cell_type": "code",
   "execution_count": null,
   "metadata": {
    "ExecuteTime": {
     "end_time": "2022-01-27T12:48:19.152754Z",
     "start_time": "2022-01-27T12:48:19.127490Z"
    }
   },
   "outputs": [],
   "source": [
    "df_test2 = pd.read_csv(f'./logs/DELPO_miniimagenet_5-way_5-shot_10-queries/exp8-tafe/exp8.2-tafe(w relu)/test_all2.csv')\n",
    "df_test3 = pd.read_csv(f'./logs/DELPO_miniimagenet_5-way_5-shot_10-queries/exp8-tafe/exp8.2-tafe(w relu)/test_all3.csv')\n",
    "df_test4 = pd.read_csv(f'./logs/DELPO_miniimagenet_5-way_5-shot_10-queries/exp8-tafe/exp8.2-tafe(w relu)/test_all4.csv')\n",
    "test_report([df_test2, df_test3, df_test4])"
   ]
  },
  {
   "cell_type": "markdown",
   "metadata": {},
   "source": [
    "## EAEN "
   ]
  },
  {
   "cell_type": "code",
   "execution_count": null,
   "metadata": {
    "ExecuteTime": {
     "end_time": "2021-12-10T11:58:38.348886Z",
     "start_time": "2021-12-10T11:58:37.483051Z"
    }
   },
   "outputs": [],
   "source": [
    "df_train = pd.read_csv('./logs/DELPO_miniimagenet_5-way_5-shot_10-queries/train.csv')\n",
    "df_valid = pd.read_csv('./logs/DELPO_miniimagenet_5-way_5-shot_10-queries/exp8-eaen/valid_all.csv')\n",
    "df_test = pd.read_csv('./logs/DELPO_miniimagenet_5-way_5-shot_10-queries/exp8-eaen/test_all2.csv')\n",
    "df_test = df_test[~(df_test['CE_Loss'] == 'model_last.pt')]"
   ]
  },
  {
   "cell_type": "code",
   "execution_count": null,
   "metadata": {
    "ExecuteTime": {
     "end_time": "2021-12-10T11:58:41.986137Z",
     "start_time": "2021-12-10T11:58:39.486366Z"
    },
    "scrolled": false
   },
   "outputs": [],
   "source": [
    "plot_summarize(\n",
    "    [df_train, df_valid, df_test],\n",
    "    ['accuracy', 'ELBO', 'Label_KL', 'Style_KL', 'Reconst_Loss', 'CE_Loss'],\n",
    "    20, 500)"
   ]
  },
  {
   "cell_type": "code",
   "execution_count": null,
   "metadata": {
    "ExecuteTime": {
     "end_time": "2021-12-10T11:44:10.070263Z",
     "start_time": "2021-12-10T11:44:10.054680Z"
    }
   },
   "outputs": [],
   "source": [
    "conf_int(df_test[df_test['model_name'] == 'model_40500.pt']['accuracy'])"
   ]
  },
  {
   "cell_type": "code",
   "execution_count": null,
   "metadata": {
    "ExecuteTime": {
     "end_time": "2021-12-10T11:48:05.634404Z",
     "start_time": "2021-12-10T11:48:05.621378Z"
    }
   },
   "outputs": [],
   "source": [
    "conf_int(df_test[df_test['model_name'] == 'model_40500.pt']['accuracy'])"
   ]
  },
  {
   "cell_type": "code",
   "execution_count": null,
   "metadata": {
    "ExecuteTime": {
     "end_time": "2021-12-10T11:44:46.874296Z",
     "start_time": "2021-12-10T11:44:46.854394Z"
    }
   },
   "outputs": [],
   "source": [
    "df_test3 = pd.read_csv('./logs/DELPO_miniimagenet_5-way_5-shot_10-queries/exp8-eaen/test_all3.csv')\n",
    "df_test4 = pd.read_csv('./logs/DELPO_miniimagenet_5-way_5-shot_10-queries/exp8-eaen/test_all4.csv')\n",
    "test_report([df_test3, df_test4])"
   ]
  },
  {
   "cell_type": "code",
   "execution_count": null,
   "metadata": {},
   "outputs": [],
   "source": []
  },
  {
   "cell_type": "code",
   "execution_count": null,
   "metadata": {
    "ExecuteTime": {
     "end_time": "2021-12-11T07:43:25.366203Z",
     "start_time": "2021-12-11T07:43:24.689885Z"
    }
   },
   "outputs": [],
   "source": [
    "df_train = pd.read_csv('/media/anuj/New Volume/Win_BKP/TU_Delft/research/implement/learning_to_meta-learn/logs/DELPO_miniimagenet_5-way_5-shot_10-queries/exp8-eaen/train.csv')\n",
    "df_train = df_train.groupby(np.arange(len(df_train)) // 20).mean()\n",
    "df_train1 = pd.read_csv('./logs/DELPO_miniimagenet_5-way_5-shot_10-queries/train8.csv')\n",
    "df_train1 = df_train1.groupby(np.arange(len(df_train1)) // 20).mean()\n",
    "\n",
    "df_train = pd.concat([df_train, df_train1], axis=1)\n",
    "df_train = df_train['accuracy']\n",
    "df_train.columns = ['acc1', 'acc2']\n",
    "#df_train.dropna(inplace=True)\n",
    "\n",
    "fig = px.line(df_train)\n",
    "fig.show()"
   ]
  },
  {
   "cell_type": "markdown",
   "metadata": {},
   "source": [
    "**Seems good, let run till ~35k-epochs**"
   ]
  },
  {
   "cell_type": "markdown",
   "metadata": {},
   "source": [
    "## Experiment-8-lr-ablations:"
   ]
  },
  {
   "cell_type": "markdown",
   "metadata": {},
   "source": [
    "a ; b ; d :: 0.003,0.0003 ; 0.006,0.0006 ; 0.01,0.001   ---- (inner lr, meta-lr) "
   ]
  },
  {
   "cell_type": "code",
   "execution_count": null,
   "metadata": {
    "ExecuteTime": {
     "end_time": "2021-10-25T21:29:09.532837Z",
     "start_time": "2021-10-25T21:29:09.451092Z"
    }
   },
   "outputs": [],
   "source": [
    "test = pd.read_csv('./logs/DELPO_miniimagenet_5-way_5-shot_15-queries/exp8c/test.csv')\n",
    "df_testa = pd.read_csv('./logs/DELPO_miniimagenet_5-way_5-shot_15-queries/exp8c/exp8ca/test.csv')\n",
    "df_testb = pd.read_csv('./logs/DELPO_miniimagenet_5-way_5-shot_15-queries/exp8c/exp8cb/test.csv')\n",
    "df_testd = pd.read_csv('./logs/DELPO_miniimagenet_5-way_5-shot_15-queries/exp8c/exp8cd/test.csv')"
   ]
  },
  {
   "cell_type": "code",
   "execution_count": null,
   "metadata": {
    "ExecuteTime": {
     "end_time": "2021-10-25T21:03:31.928910Z",
     "start_time": "2021-10-25T21:03:31.903616Z"
    }
   },
   "outputs": [],
   "source": [
    "df_testa.columns = list(df_testa.columns[1:]) + ['model_name']\n",
    "a = df_testa.groupby('model_name', as_index=False).mean()\n",
    "a['iter'] = a['model_name'].apply(lambda x: int(x[x.index('_')+1 : -3]))\n",
    "a"
   ]
  },
  {
   "cell_type": "code",
   "execution_count": null,
   "metadata": {
    "ExecuteTime": {
     "end_time": "2021-10-25T20:43:16.177630Z",
     "start_time": "2021-10-25T20:43:16.160006Z"
    }
   },
   "outputs": [],
   "source": [
    "df_testb.columns = list(df_testb.columns[1:]) + ['model_name']\n",
    "df_testb.groupby('model_name', as_index=False)['accuracy'].mean()"
   ]
  },
  {
   "cell_type": "code",
   "execution_count": null,
   "metadata": {
    "ExecuteTime": {
     "end_time": "2021-10-25T20:43:16.539580Z",
     "start_time": "2021-10-25T20:43:16.523062Z"
    }
   },
   "outputs": [],
   "source": [
    "df_testd.columns = list(df_testd.columns[1:]) + ['model_name']\n",
    "df_testd.groupby('model_name', as_index=False)['accuracy'].mean()"
   ]
  },
  {
   "cell_type": "code",
   "execution_count": null,
   "metadata": {
    "ExecuteTime": {
     "end_time": "2021-10-25T21:29:12.834677Z",
     "start_time": "2021-10-25T21:29:12.803621Z"
    }
   },
   "outputs": [],
   "source": [
    "test.columns = list(test.columns[1:]) + ['model_name']\n",
    "test = test.groupby('model_name', as_index=False).mean()\n",
    "test['iter'] = test['model_name'].apply(lambda x: int(x[x.index('_')+1 : -3]))\n",
    "test.drop(columns=['model_name'], inplace=True)\n",
    "test"
   ]
  },
  {
   "cell_type": "markdown",
   "metadata": {},
   "source": [
    "# MiniImagenet: 5-way, 10-shot, 10-queries "
   ]
  },
  {
   "cell_type": "markdown",
   "metadata": {},
   "source": [
    "## Exp1: EAEN "
   ]
  },
  {
   "cell_type": "code",
   "execution_count": null,
   "metadata": {
    "ExecuteTime": {
     "end_time": "2021-12-06T15:43:42.269208Z",
     "start_time": "2021-12-06T15:43:39.499304Z"
    },
    "scrolled": false
   },
   "outputs": [],
   "source": [
    "df_train = pd.read_csv('./logs/DELPO_miniimagenet_5-way_10-shot_10-queries/exp1-eaen/train.csv')\n",
    "df_valid = pd.read_csv('./logs/DELPO_miniimagenet_5-way_10-shot_10-queries/exp1-eaen/valid_all.csv')\n",
    "df_test = pd.read_csv('./logs/DELPO_miniimagenet_5-way_10-shot_10-queries/exp1-eaen/test_all.csv')\n",
    "df_test = df_test[~(df_test['CE_Loss'] == 'model_last.pt')]\n",
    "\n",
    "plot_summarize(\n",
    "    [df_train, df_valid, df_test],\n",
    "    ['accuracy', 'ELBO', 'Label_KL', 'Style_KL', 'Reconst_Loss', 'CE_Loss'],\n",
    "    20, 500)"
   ]
  },
  {
   "cell_type": "code",
   "execution_count": null,
   "metadata": {
    "ExecuteTime": {
     "end_time": "2021-12-06T12:19:35.675324Z",
     "start_time": "2021-12-06T12:19:34.777771Z"
    }
   },
   "outputs": [],
   "source": [
    "df_train = pd.read_csv('./logs/DELPO_miniimagenet_5-way_10-shot_10-queries/train1.csv')\n",
    "df_train = df_train.groupby(np.arange(len(df_train)) // 20).mean()\n",
    "\n",
    "df_train = df_train['accuracy']\n",
    "df_train.columns = ['acc1']\n",
    "#df_train.dropna(inplace=True)\n",
    "\n",
    "fig = px.line(df_train)\n",
    "fig.show()"
   ]
  },
  {
   "cell_type": "markdown",
   "metadata": {},
   "source": [
    "**Seems good, check at 40-45k epochs tomorrow**"
   ]
  },
  {
   "cell_type": "markdown",
   "metadata": {},
   "source": [
    "# Omniglot: 5-way, 5-shot, 15-queries"
   ]
  },
  {
   "cell_type": "code",
   "execution_count": null,
   "metadata": {
    "ExecuteTime": {
     "end_time": "2022-01-04T15:30:15.021266Z",
     "start_time": "2022-01-04T15:30:12.773477Z"
    }
   },
   "outputs": [],
   "source": [
    "df_train1 = pd.read_csv('./logs/DELPO_omniglot_5-way_5-shot_15-queries/exp1-tafe/train.csv')\n",
    "df_train1 = df_train1.groupby(np.arange(len(df_train1)) // 20).mean()\n",
    "df_train2 = pd.read_csv('./logs/DELPO_omniglot_5-way_5-shot_15-queries/exp2-tafe/train.csv')\n",
    "df_train2 = df_train2.groupby(np.arange(len(df_train2)) // 20).mean()\n",
    "df_train3 = pd.read_csv('./logs/DELPO_omniglot_5-way_5-shot_15-queries/exp3-tafe/train.csv')\n",
    "df_train3 = df_train3.groupby(np.arange(len(df_train3)) // 20).mean()\n",
    "df_train4 = pd.read_csv('./logs/DELPO_omniglot_5-way_5-shot_15-queries/exp4-tafe/train.csv')\n",
    "df_train4 = df_train4.groupby(np.arange(len(df_train4)) // 20).mean()\n",
    "df_train5 = pd.read_csv(f'./logs/DELPO_omniglot_5-way_5-shot_15-queries/exp5-tafe/train.csv')\n",
    "df_train5 = df_train5.groupby(np.arange(len(df_train5)) // 20).mean()\n",
    "df_train6 = pd.read_csv('./logs/DELPO_omniglot_5-way_5-shot_15-queries/exp6-tafe/train.csv')\n",
    "df_train6 = df_train6.groupby(np.arange(len(df_train6)) // 20).mean()\n",
    "\n",
    "df_train = pd.concat([df_train1, df_train2, df_train3, df_train4, df_train5, df_train6], axis=1)\n",
    "df_train = df_train['accuracy']\n",
    "df_train.columns = ['acc1', 'acc2', 'acc3', 'acc4', 'acc5', 'acc6']\n",
    "#df_train.dropna(inplace=True)\n",
    "\n",
    "fig = px.line(df_train)\n",
    "fig.show()"
   ]
  },
  {
   "cell_type": "markdown",
   "metadata": {},
   "source": [
    "## Experiment-1: "
   ]
  },
  {
   "cell_type": "code",
   "execution_count": null,
   "metadata": {
    "ExecuteTime": {
     "end_time": "2021-10-21T08:42:16.608265Z",
     "start_time": "2021-10-21T08:42:16.500111Z"
    }
   },
   "outputs": [],
   "source": [
    "df_train = pd.read_csv('./logs/DELPO_omniglot_5-way_5-shot_15-queries/exp1/train.csv')\n",
    "df_valid = pd.read_csv('./logs/DELPO_omniglot_5-way_5-shot_15-queries/exp1/valid.csv')\n",
    "df_test = pd.read_csv('./logs/DELPO_omniglot_5-way_5-shot_15-queries/exp1/test.csv')"
   ]
  },
  {
   "cell_type": "code",
   "execution_count": null,
   "metadata": {
    "ExecuteTime": {
     "end_time": "2021-10-21T08:42:21.510339Z",
     "start_time": "2021-10-21T08:42:21.494600Z"
    }
   },
   "outputs": [],
   "source": [
    "acc = 100 * np.array(df_test.accuracy)\n",
    "1.96 * acc.std()/(600**0.5)"
   ]
  },
  {
   "cell_type": "code",
   "execution_count": null,
   "metadata": {
    "ExecuteTime": {
     "end_time": "2021-10-21T08:42:23.175754Z",
     "start_time": "2021-10-21T08:42:22.604314Z"
    }
   },
   "outputs": [],
   "source": [
    "df = plot_summarize([df_train, df_valid, df_test], ['accuracy', 'ELBO', 'Label_KL', 'Style_KL', 'Reconst_Loss', 'CE_Loss'], 20)"
   ]
  },
  {
   "cell_type": "code",
   "execution_count": null,
   "metadata": {
    "ExecuteTime": {
     "end_time": "2021-10-18T11:36:03.875639Z",
     "start_time": "2021-10-18T11:36:03.706706Z"
    },
    "scrolled": true
   },
   "outputs": [],
   "source": [
    "viz_images(['exp4', 'omniglot'], 5000, 'train')"
   ]
  },
  {
   "cell_type": "code",
   "execution_count": null,
   "metadata": {},
   "outputs": [],
   "source": [
    "viz_latents('exp7', 13000, 'train')"
   ]
  },
  {
   "cell_type": "markdown",
   "metadata": {},
   "source": [
    "## Experiment-2: "
   ]
  },
  {
   "cell_type": "code",
   "execution_count": null,
   "metadata": {
    "ExecuteTime": {
     "end_time": "2021-10-21T08:43:01.387291Z",
     "start_time": "2021-10-21T08:43:01.321141Z"
    }
   },
   "outputs": [],
   "source": [
    "df_train = pd.read_csv('./logs/DELPO_omniglot_5-way_5-shot_15-queries/exp2/train.csv')\n",
    "df_valid = pd.read_csv('./logs/DELPO_omniglot_5-way_5-shot_15-queries/exp2/valid.csv')\n",
    "df_test = pd.read_csv('./logs/DELPO_omniglot_5-way_5-shot_15-queries/exp2/test.csv')"
   ]
  },
  {
   "cell_type": "code",
   "execution_count": null,
   "metadata": {
    "ExecuteTime": {
     "end_time": "2021-10-21T09:43:10.436248Z",
     "start_time": "2021-10-21T09:43:10.416066Z"
    }
   },
   "outputs": [],
   "source": [
    "df_train"
   ]
  },
  {
   "cell_type": "code",
   "execution_count": null,
   "metadata": {
    "ExecuteTime": {
     "end_time": "2021-10-21T08:43:02.027597Z",
     "start_time": "2021-10-21T08:43:01.999819Z"
    }
   },
   "outputs": [],
   "source": [
    "acc = 100 * np.array(df_test.accuracy)\n",
    "1.96 * acc.std()/(600**0.5)"
   ]
  },
  {
   "cell_type": "code",
   "execution_count": null,
   "metadata": {
    "ExecuteTime": {
     "end_time": "2021-10-21T08:43:11.536208Z",
     "start_time": "2021-10-21T08:43:11.067470Z"
    }
   },
   "outputs": [],
   "source": [
    "df = plot_summarize([df_train, df_valid, df_test], ['accuracy', 'ELBO', 'Label_KL', 'Style_KL', 'Reconst_Loss', 'CE_Loss'], 20)"
   ]
  },
  {
   "cell_type": "code",
   "execution_count": null,
   "metadata": {
    "ExecuteTime": {
     "end_time": "2021-10-18T11:36:03.875639Z",
     "start_time": "2021-10-18T11:36:03.706706Z"
    },
    "scrolled": true
   },
   "outputs": [],
   "source": [
    "viz_images(['exp4', 'omniglot'], 5000, 'train')"
   ]
  },
  {
   "cell_type": "code",
   "execution_count": null,
   "metadata": {},
   "outputs": [],
   "source": [
    "viz_latents('exp7', 13000, 'train')"
   ]
  },
  {
   "cell_type": "code",
   "execution_count": null,
   "metadata": {},
   "outputs": [],
   "source": []
  },
  {
   "cell_type": "markdown",
   "metadata": {},
   "source": [
    "## Experiment-3: "
   ]
  },
  {
   "cell_type": "code",
   "execution_count": null,
   "metadata": {
    "ExecuteTime": {
     "end_time": "2021-10-21T09:43:34.589708Z",
     "start_time": "2021-10-21T09:43:34.522404Z"
    }
   },
   "outputs": [],
   "source": [
    "df_train = pd.read_csv('./logs/DELPO_omniglot_5-way_5-shot_15-queries/exp3/train.csv')\n",
    "df_valid = pd.read_csv('./logs/DELPO_omniglot_5-way_5-shot_15-queries/exp3/valid.csv')\n",
    "df_test = pd.read_csv('./logs/DELPO_omniglot_5-way_5-shot_15-queries/exp3/test.csv')"
   ]
  },
  {
   "cell_type": "code",
   "execution_count": null,
   "metadata": {
    "ExecuteTime": {
     "end_time": "2021-10-21T09:43:35.523705Z",
     "start_time": "2021-10-21T09:43:35.504712Z"
    }
   },
   "outputs": [],
   "source": [
    "df_train"
   ]
  },
  {
   "cell_type": "code",
   "execution_count": null,
   "metadata": {
    "ExecuteTime": {
     "end_time": "2021-10-21T09:43:41.951675Z",
     "start_time": "2021-10-21T09:43:41.932816Z"
    }
   },
   "outputs": [],
   "source": [
    "acc = 100 * np.array(df_test.accuracy)\n",
    "1.96 * acc.std()/(600**0.5)"
   ]
  },
  {
   "cell_type": "code",
   "execution_count": null,
   "metadata": {
    "ExecuteTime": {
     "end_time": "2021-10-21T08:43:11.536208Z",
     "start_time": "2021-10-21T08:43:11.067470Z"
    }
   },
   "outputs": [],
   "source": [
    "df = plot_summarize([df_train, df_valid, df_test], ['accuracy', 'ELBO', 'Label_KL', 'Style_KL', 'Reconst_Loss', 'CE_Loss'], 20)"
   ]
  },
  {
   "cell_type": "code",
   "execution_count": null,
   "metadata": {
    "ExecuteTime": {
     "end_time": "2021-10-18T11:36:03.875639Z",
     "start_time": "2021-10-18T11:36:03.706706Z"
    },
    "scrolled": true
   },
   "outputs": [],
   "source": [
    "viz_images(['exp4', 'omniglot'], 5000, 'train')"
   ]
  },
  {
   "cell_type": "code",
   "execution_count": null,
   "metadata": {},
   "outputs": [],
   "source": [
    "viz_latents('exp7', 13000, 'train')"
   ]
  },
  {
   "cell_type": "markdown",
   "metadata": {},
   "source": [
    "## Experiment-4: "
   ]
  },
  {
   "cell_type": "code",
   "execution_count": null,
   "metadata": {
    "ExecuteTime": {
     "end_time": "2021-11-16T22:27:10.841696Z",
     "start_time": "2021-11-16T22:27:10.822552Z"
    }
   },
   "outputs": [],
   "source": [
    "df_test = pd.read_csv('./logs/DELPO_omniglot_5-way_5-shot_15-queries/exp4/exp4_5000+/test.csv')"
   ]
  },
  {
   "cell_type": "code",
   "execution_count": null,
   "metadata": {
    "ExecuteTime": {
     "end_time": "2021-11-16T22:28:43.013334Z",
     "start_time": "2021-11-16T22:28:42.978683Z"
    }
   },
   "outputs": [],
   "source": [
    "df_test[df_test['CE_Loss'] == 'model_last.pt'].describe()"
   ]
  },
  {
   "cell_type": "code",
   "execution_count": null,
   "metadata": {
    "ExecuteTime": {
     "end_time": "2021-11-16T20:07:20.867735Z",
     "start_time": "2021-11-16T20:07:20.552680Z"
    }
   },
   "outputs": [],
   "source": [
    "df_train = pd.read_csv('./logs/DELPO_omniglot_5-way_5-shot_15-queries/exp4/train.csv')\n",
    "df_valid = pd.read_csv('./logs/DELPO_omniglot_5-way_5-shot_15-queries/exp4/valid_all.csv')\n",
    "\n",
    "df_train1 = pd.read_csv('./logs/DELPO_omniglot_5-way_5-shot_15-queries/exp4/train1.csv')\n",
    "df_test = pd.read_csv('./logs/DELPO_omniglot_5-way_5-shot_15-queries/exp4/test_all.csv')\n",
    "\n",
    "df_train = pd.concat([df_train, df_train1])"
   ]
  },
  {
   "cell_type": "code",
   "execution_count": null,
   "metadata": {
    "ExecuteTime": {
     "end_time": "2021-11-16T20:07:23.953832Z",
     "start_time": "2021-11-16T20:07:22.603227Z"
    },
    "scrolled": false
   },
   "outputs": [],
   "source": [
    "plot_summarize([df_train, df_valid, df_test], ['accuracy', 'ELBO', 'Label_KL', 'Style_KL', 'Reconst_Loss', 'CE_Loss'], 20, 500)"
   ]
  },
  {
   "cell_type": "code",
   "execution_count": null,
   "metadata": {
    "ExecuteTime": {
     "end_time": "2021-10-18T11:36:03.875639Z",
     "start_time": "2021-10-18T11:36:03.706706Z"
    },
    "scrolled": true
   },
   "outputs": [],
   "source": [
    "viz_images(['exp4', 'omniglot'], 5000, 'train')"
   ]
  },
  {
   "cell_type": "code",
   "execution_count": null,
   "metadata": {},
   "outputs": [],
   "source": [
    "viz_latents('exp7', 13000, 'train')"
   ]
  },
  {
   "cell_type": "markdown",
   "metadata": {},
   "source": [
    "## Experiment-4-eaen: "
   ]
  },
  {
   "cell_type": "code",
   "execution_count": null,
   "metadata": {
    "ExecuteTime": {
     "end_time": "2021-11-15T13:25:19.336140Z",
     "start_time": "2021-11-15T13:25:19.034195Z"
    }
   },
   "outputs": [],
   "source": [
    "df_train = pd.read_csv('./logs/DELPO_omniglot_5-way_5-shot_15-queries/exp4-eaen/train.csv')\n",
    "df_valid = pd.read_csv('./logs/DELPO_omniglot_5-way_5-shot_15-queries/exp4-eaen/valid_all.csv')\n",
    "df_test = pd.read_csv('./logs/DELPO_omniglot_5-way_5-shot_15-queries/exp4-eaen/test_all.csv')"
   ]
  },
  {
   "cell_type": "code",
   "execution_count": null,
   "metadata": {
    "ExecuteTime": {
     "end_time": "2021-11-15T13:25:22.176660Z",
     "start_time": "2021-11-15T13:25:21.449046Z"
    },
    "scrolled": false
   },
   "outputs": [],
   "source": [
    "plot_summarize([df_train, df_valid, df_test], ['accuracy', 'ELBO', 'Label_KL', 'Style_KL', 'Reconst_Loss', 'CE_Loss'], 20, 500)"
   ]
  },
  {
   "cell_type": "code",
   "execution_count": null,
   "metadata": {
    "ExecuteTime": {
     "end_time": "2021-10-18T11:36:03.875639Z",
     "start_time": "2021-10-18T11:36:03.706706Z"
    },
    "scrolled": true
   },
   "outputs": [],
   "source": [
    "viz_images(['exp4', 'omniglot'], 5000, 'train')"
   ]
  },
  {
   "cell_type": "code",
   "execution_count": null,
   "metadata": {},
   "outputs": [],
   "source": [
    "viz_latents('exp7', 13000, 'train')"
   ]
  },
  {
   "cell_type": "markdown",
   "metadata": {},
   "source": [
    "## Experiment-5: "
   ]
  },
  {
   "cell_type": "code",
   "execution_count": null,
   "metadata": {
    "ExecuteTime": {
     "end_time": "2021-12-07T19:36:23.904217Z",
     "start_time": "2021-12-07T19:36:23.707529Z"
    }
   },
   "outputs": [],
   "source": [
    "df_train = pd.read_csv('./logs/DELPO_omniglot_5-way_5-shot_15-queries/exp5/train.csv')\n",
    "df_valid = pd.read_csv('./logs/DELPO_omniglot_5-way_5-shot_15-queries/exp5/valid_all.csv')\n",
    "df_test = pd.read_csv('./logs/DELPO_omniglot_5-way_5-shot_15-queries/exp5/test_all1.csv')\n",
    "df_valid = df_valid[~(df_valid['CE_Loss'] == 'model_last.pt')]\n",
    "df_test = df_test[~(df_test['CE_Loss'] == 'model_last.pt')]"
   ]
  },
  {
   "cell_type": "code",
   "execution_count": null,
   "metadata": {
    "ExecuteTime": {
     "end_time": "2021-12-02T09:50:32.837736Z",
     "start_time": "2021-12-02T09:50:31.417893Z"
    }
   },
   "outputs": [],
   "source": [
    "df_train = pd.read_csv('/media/anuj/New Volume/Win_BKP/TU_Delft/research/implement/learning_to_meta-learn/logs/DELPO_omniglot_5-way_5-shot_15-queries/exp5/train.csv')\n",
    "df_train = df_train.groupby(np.arange(len(df_train)) // 20).mean()\n",
    "\n",
    "df_train1 = pd.read_csv('./logs/DELPO_omniglot_5-way_5-shot_15-queries/train5.csv')\n",
    "df_train1 = df_train1.groupby(np.arange(len(df_train1)) // 20).mean()\n",
    "\n",
    "df_train = pd.concat([df_train, df_train1], axis=1)\n",
    "df_train = df_train['accuracy']\n",
    "df_train.columns = ['acc1', 'acc2']\n",
    "\n",
    "fig = px.line(df_train)\n",
    "fig.show()"
   ]
  },
  {
   "cell_type": "markdown",
   "metadata": {},
   "source": [
    "**Seems good enough -- Test now!**"
   ]
  },
  {
   "cell_type": "code",
   "execution_count": null,
   "metadata": {
    "ExecuteTime": {
     "end_time": "2021-12-07T19:36:27.255522Z",
     "start_time": "2021-12-07T19:36:26.371569Z"
    },
    "scrolled": false
   },
   "outputs": [],
   "source": [
    "plot_summarize([df_train, df_valid, df_test], ['accuracy', 'ELBO', 'Label_KL', 'Style_KL', 'Reconst_Loss', 'CE_Loss'], 20, 500)"
   ]
  },
  {
   "cell_type": "code",
   "execution_count": null,
   "metadata": {
    "ExecuteTime": {
     "end_time": "2021-12-07T19:36:53.223143Z",
     "start_time": "2021-12-07T19:36:53.213629Z"
    }
   },
   "outputs": [],
   "source": [
    "conf_int(df_test[df_test['model_name'] == 'model_3500.pt']['accuracy'])"
   ]
  },
  {
   "cell_type": "code",
   "execution_count": null,
   "metadata": {
    "ExecuteTime": {
     "end_time": "2021-12-07T19:37:20.249317Z",
     "start_time": "2021-12-07T19:37:20.230426Z"
    }
   },
   "outputs": [],
   "source": [
    "df_test2 = pd.read_csv('./logs/DELPO_omniglot_5-way_5-shot_15-queries/exp5/test_all2.csv')\n",
    "df_test3 = pd.read_csv('./logs/DELPO_omniglot_5-way_5-shot_15-queries/exp5/test_all3.csv')\n",
    "df_test4 = pd.read_csv('./logs/DELPO_omniglot_5-way_5-shot_15-queries/exp5/test_all4.csv')\n",
    "test_report([df_test2, df_test3, df_test4])"
   ]
  },
  {
   "cell_type": "code",
   "execution_count": null,
   "metadata": {},
   "outputs": [],
   "source": []
  },
  {
   "cell_type": "markdown",
   "metadata": {},
   "source": [
    "# Omniglot: 5-way, 1-shot, 15-queries"
   ]
  },
  {
   "cell_type": "code",
   "execution_count": null,
   "metadata": {
    "ExecuteTime": {
     "end_time": "2022-01-04T15:30:57.122654Z",
     "start_time": "2022-01-04T15:30:53.542017Z"
    }
   },
   "outputs": [],
   "source": [
    "df_train1 = pd.read_csv('./logs/DELPO_omniglot_5-way_1-shot_15-queries/exp1-tafe/train.csv')\n",
    "df_train1 = df_train1.groupby(np.arange(len(df_train1)) // 20).mean()\n",
    "df_train2 = pd.read_csv('./logs/DELPO_omniglot_5-way_1-shot_15-queries/exp2-tafe/train.csv')\n",
    "df_train2 = df_train2.groupby(np.arange(len(df_train2)) // 20).mean()\n",
    "df_train3 = pd.read_csv('./logs/DELPO_omniglot_5-way_1-shot_15-queries/exp3-tafe/train.csv')\n",
    "df_train3 = df_train3.groupby(np.arange(len(df_train3)) // 20).mean()\n",
    "df_train4 = pd.read_csv('./logs/DELPO_omniglot_5-way_1-shot_15-queries/exp4-tafe/train.csv')\n",
    "df_train4 = df_train4.groupby(np.arange(len(df_train4)) // 20).mean()\n",
    "df_train5 = pd.read_csv(f'./logs/DELPO_omniglot_5-way_1-shot_15-queries/exp5-tafe/train.csv')\n",
    "df_train5 = df_train5.groupby(np.arange(len(df_train5)) // 20).mean()\n",
    "df_train6 = pd.read_csv('./logs/DELPO_omniglot_5-way_1-shot_15-queries/exp6-tafe/train.csv')\n",
    "df_train6 = df_train6.groupby(np.arange(len(df_train6)) // 20).mean()\n",
    "\n",
    "df_train = pd.concat([df_train1, df_train2, df_train3, df_train4, df_train5, df_train6], axis=1)\n",
    "df_train = df_train['accuracy']\n",
    "df_train.columns = ['acc1', 'acc2', 'acc3', 'acc4', 'acc5', 'acc6']\n",
    "#df_train.dropna(inplace=True)\n",
    "\n",
    "fig = px.line(df_train)\n",
    "fig.show()"
   ]
  },
  {
   "cell_type": "markdown",
   "metadata": {},
   "source": [
    "## Experiment 1 "
   ]
  },
  {
   "cell_type": "code",
   "execution_count": null,
   "metadata": {
    "ExecuteTime": {
     "end_time": "2021-11-16T22:21:23.115151Z",
     "start_time": "2021-11-16T22:21:23.064797Z"
    }
   },
   "outputs": [],
   "source": [
    "df_test = pd.read_csv('./logs/DELPO_omniglot_5-way_1-shot_15-queries/exp1/test_all.csv')\n",
    "df_test1 = pd.read_csv('./logs/DELPO_omniglot_5-way_1-shot_15-queries/exp1/exp1_5500+/test.csv')"
   ]
  },
  {
   "cell_type": "code",
   "execution_count": null,
   "metadata": {
    "ExecuteTime": {
     "end_time": "2021-11-16T22:23:07.401531Z",
     "start_time": "2021-11-16T22:23:07.385568Z"
    }
   },
   "outputs": [],
   "source": [
    "df_test[df_test['CE_Loss'] == 'model_5500.pt']"
   ]
  },
  {
   "cell_type": "code",
   "execution_count": null,
   "metadata": {
    "ExecuteTime": {
     "end_time": "2021-11-16T22:25:20.885267Z",
     "start_time": "2021-11-16T22:25:20.844517Z"
    }
   },
   "outputs": [],
   "source": [
    "df_test1[df_test1['CE_Loss'] == 'model_8500.pt'].describe()"
   ]
  },
  {
   "cell_type": "code",
   "execution_count": null,
   "metadata": {
    "ExecuteTime": {
     "end_time": "2021-11-16T22:23:47.507075Z",
     "start_time": "2021-11-16T22:23:47.502742Z"
    }
   },
   "outputs": [],
   "source": [
    "df_test1.CE_Loss.unique()"
   ]
  },
  {
   "cell_type": "code",
   "execution_count": null,
   "metadata": {
    "ExecuteTime": {
     "end_time": "2021-11-16T20:10:28.962277Z",
     "start_time": "2021-11-16T20:10:28.579030Z"
    }
   },
   "outputs": [],
   "source": [
    "df_train = pd.read_csv('./logs/DELPO_omniglot_5-way_1-shot_15-queries/exp1/train.csv')\n",
    "df_valid = pd.read_csv('./logs/DELPO_omniglot_5-way_1-shot_15-queries/exp1/valid_all.csv')\n",
    "df_test = pd.read_csv('./logs/DELPO_omniglot_5-way_1-shot_15-queries/exp1/test_all.csv')\n",
    "df_train1 = pd.read_csv('./logs/DELPO_omniglot_5-way_1-shot_15-queries/exp1/train1.csv')\n",
    "df_train = pd.concat([df_train, df_train1])"
   ]
  },
  {
   "cell_type": "code",
   "execution_count": null,
   "metadata": {
    "ExecuteTime": {
     "end_time": "2021-11-16T20:10:30.874142Z",
     "start_time": "2021-11-16T20:10:30.116619Z"
    },
    "scrolled": false
   },
   "outputs": [],
   "source": [
    "plot_summarize([df_train, df_valid, df_test], ['accuracy', 'ELBO', 'Label_KL', 'Style_KL', 'Reconst_Loss', 'CE_Loss'], 20, 500)"
   ]
  },
  {
   "cell_type": "markdown",
   "metadata": {},
   "source": [
    "## Experiment 2 "
   ]
  },
  {
   "cell_type": "code",
   "execution_count": null,
   "metadata": {
    "ExecuteTime": {
     "end_time": "2021-11-21T11:40:44.853472Z",
     "start_time": "2021-11-21T11:40:44.555989Z"
    }
   },
   "outputs": [],
   "source": [
    "df_train = pd.read_csv('./logs/DELPO_omniglot_5-way_1-shot_15-queries/exp2/train.csv')\n",
    "df_valid = pd.read_csv('./logs/DELPO_omniglot_5-way_1-shot_15-queries/exp2/valid_all.csv')\n",
    "df_test = pd.read_csv('./logs/DELPO_omniglot_5-way_1-shot_15-queries/exp2/test_all.csv')\n",
    "df_valid = df_valid[~(df_valid['CE_Loss'] == 'model_last.pt')]\n",
    "df_test = df_test[~(df_test['CE_Loss'] == 'model_last.pt')]"
   ]
  },
  {
   "cell_type": "code",
   "execution_count": null,
   "metadata": {
    "ExecuteTime": {
     "end_time": "2021-11-21T11:40:46.166718Z",
     "start_time": "2021-11-21T11:40:45.503414Z"
    },
    "scrolled": false
   },
   "outputs": [],
   "source": [
    "plot_summarize([df_train, df_valid, df_test], ['accuracy', 'ELBO', 'Label_KL', 'Style_KL', 'Reconst_Loss', 'CE_Loss'], 20, 500)"
   ]
  },
  {
   "cell_type": "markdown",
   "metadata": {},
   "source": [
    "## Experiment 3 "
   ]
  },
  {
   "cell_type": "code",
   "execution_count": null,
   "metadata": {
    "ExecuteTime": {
     "end_time": "2021-12-07T19:39:08.706905Z",
     "start_time": "2021-12-07T19:39:08.462404Z"
    }
   },
   "outputs": [],
   "source": [
    "df_train = pd.read_csv('./logs/DELPO_omniglot_5-way_1-shot_15-queries/exp3/train.csv')\n",
    "df_valid = pd.read_csv('./logs/DELPO_omniglot_5-way_1-shot_15-queries/exp3/valid_all.csv')\n",
    "df_test = pd.read_csv('./logs/DELPO_omniglot_5-way_1-shot_15-queries/exp3/test_all1.csv')\n",
    "df_valid = df_valid[~(df_valid['CE_Loss'] == 'model_last.pt')]\n",
    "df_test = df_test[~(df_test['CE_Loss'] == 'model_last.pt')]"
   ]
  },
  {
   "cell_type": "code",
   "execution_count": null,
   "metadata": {
    "ExecuteTime": {
     "end_time": "2021-12-06T08:33:34.045154Z",
     "start_time": "2021-12-06T08:33:32.883841Z"
    }
   },
   "outputs": [],
   "source": [
    "df_train = pd.read_csv('/media/anuj/New Volume/Win_BKP/TU_Delft/research/implement/learning_to_meta-learn/logs/DELPO_omniglot_5-way_1-shot_15-queries/exp3/train.csv')\n",
    "df_train = df_train.groupby(np.arange(len(df_train)) // 20).mean()\n",
    "\n",
    "df_train1 = pd.read_csv('./logs/DELPO_omniglot_5-way_1-shot_15-queries/train3.csv')\n",
    "df_train1 = df_train1.groupby(np.arange(len(df_train1)) // 20).mean()\n",
    "\n",
    "df_train = pd.concat([df_train, df_train1], axis=1)\n",
    "df_train = df_train['accuracy']\n",
    "df_train.columns = ['acc1', 'acc2']\n",
    "\n",
    "fig = px.line(df_train)\n",
    "fig.show()"
   ]
  },
  {
   "cell_type": "markdown",
   "metadata": {},
   "source": [
    "**Seems close enough -- Test now!**"
   ]
  },
  {
   "cell_type": "code",
   "execution_count": null,
   "metadata": {
    "ExecuteTime": {
     "end_time": "2021-12-07T19:39:10.917590Z",
     "start_time": "2021-12-07T19:39:09.927114Z"
    },
    "scrolled": false
   },
   "outputs": [],
   "source": [
    "plot_summarize([df_train, df_valid, df_test], ['accuracy', 'ELBO', 'Label_KL', 'Style_KL', 'Reconst_Loss', 'CE_Loss'], 20, 500)"
   ]
  },
  {
   "cell_type": "code",
   "execution_count": null,
   "metadata": {
    "ExecuteTime": {
     "end_time": "2021-12-07T19:39:25.297432Z",
     "start_time": "2021-12-07T19:39:25.286730Z"
    }
   },
   "outputs": [],
   "source": [
    "conf_int(df_test[df_test['model_name'] == 'model_4500.pt']['accuracy'])"
   ]
  },
  {
   "cell_type": "code",
   "execution_count": null,
   "metadata": {
    "ExecuteTime": {
     "end_time": "2021-12-07T19:39:32.866675Z",
     "start_time": "2021-12-07T19:39:32.850093Z"
    }
   },
   "outputs": [],
   "source": [
    "df_test2 = pd.read_csv('./logs/DELPO_omniglot_5-way_1-shot_15-queries/exp3/test_all2.csv')\n",
    "df_test3 = pd.read_csv('./logs/DELPO_omniglot_5-way_1-shot_15-queries/exp3/test_all3.csv')\n",
    "df_test4 = pd.read_csv('./logs/DELPO_omniglot_5-way_1-shot_15-queries/exp3/test_all4.csv')\n",
    "test_report([df_test2, df_test3, df_test4])"
   ]
  },
  {
   "cell_type": "markdown",
   "metadata": {},
   "source": [
    "## Experiment 4 "
   ]
  },
  {
   "cell_type": "code",
   "execution_count": null,
   "metadata": {
    "ExecuteTime": {
     "end_time": "2021-11-20T15:14:16.141514Z",
     "start_time": "2021-11-20T15:14:15.778739Z"
    }
   },
   "outputs": [],
   "source": [
    "df_train = pd.read_csv('./logs/DELPO_omniglot_5-way_1-shot_15-queries/exp4/train.csv')\n",
    "df_valid = pd.read_csv('./logs/DELPO_omniglot_5-way_1-shot_15-queries/exp4/valid_all.csv')\n",
    "df_test = pd.read_csv('./logs/DELPO_omniglot_5-way_1-shot_15-queries/exp4/test_all.csv')\n",
    "df_valid = df_valid[~(df_valid['CE_Loss'] == 'model_last.pt')]\n",
    "df_test = df_test[~(df_test['CE_Loss'] == 'model_last.pt')]"
   ]
  },
  {
   "cell_type": "code",
   "execution_count": null,
   "metadata": {
    "ExecuteTime": {
     "end_time": "2021-11-20T15:14:17.438077Z",
     "start_time": "2021-11-20T15:14:16.808416Z"
    },
    "scrolled": false
   },
   "outputs": [],
   "source": [
    "plot_summarize([df_train, df_valid, df_test], ['accuracy', 'ELBO', 'Label_KL', 'Style_KL', 'Reconst_Loss', 'CE_Loss'], 20, 500)"
   ]
  },
  {
   "cell_type": "markdown",
   "metadata": {},
   "source": [
    "## Experiment 5 "
   ]
  },
  {
   "cell_type": "code",
   "execution_count": null,
   "metadata": {
    "ExecuteTime": {
     "end_time": "2021-11-20T15:10:28.340235Z",
     "start_time": "2021-11-20T15:10:27.689985Z"
    }
   },
   "outputs": [],
   "source": [
    "df_train = pd.read_csv('./logs/DELPO_omniglot_5-way_1-shot_15-queries/exp5/train.csv')\n",
    "df_valid = pd.read_csv('./logs/DELPO_omniglot_5-way_1-shot_15-queries/exp5/valid_all.csv')\n",
    "df_test = pd.read_csv('./logs/DELPO_omniglot_5-way_1-shot_15-queries/exp5/test_all.csv')\n",
    "df_train1 = pd.read_csv('./logs/DELPO_omniglot_5-way_1-shot_15-queries/exp5/exp5/train.csv')\n",
    "\n",
    "df_train = pd.concat([df_train, df_train1])\n",
    "df_valid = df_valid[~(df_valid['CE_Loss'] == 'model_last.pt')]\n",
    "df_test = df_test[~(df_test['CE_Loss'] == 'model_last.pt')]"
   ]
  },
  {
   "cell_type": "code",
   "execution_count": null,
   "metadata": {
    "ExecuteTime": {
     "end_time": "2021-11-20T15:10:32.845899Z",
     "start_time": "2021-11-20T15:10:30.995363Z"
    },
    "scrolled": false
   },
   "outputs": [],
   "source": [
    "plot_summarize([df_train, df_valid, df_test], ['accuracy', 'ELBO', 'Label_KL', 'Style_KL', 'Reconst_Loss', 'CE_Loss'], 20, 500)"
   ]
  },
  {
   "cell_type": "markdown",
   "metadata": {},
   "source": [
    "- **Resume run for exp5 for another 20k epochs/ retrain till 35k epochs = = Nah, doesn't improve significantly** <br>\n",
    "- **Run with ce_wt = 40 for 20k epochs**"
   ]
  },
  {
   "cell_type": "markdown",
   "metadata": {},
   "source": [
    "# tiered: 5-way, 1-shot, 15-queries: vanilla"
   ]
  },
  {
   "cell_type": "code",
   "execution_count": null,
   "metadata": {
    "ExecuteTime": {
     "end_time": "2021-12-15T13:25:20.653048Z",
     "start_time": "2021-12-15T13:25:20.365194Z"
    }
   },
   "outputs": [],
   "source": [
    "df_test = pd.read_csv('./logs/DELPO_tiered_5-way_1-shot_15-queries/vanilla/test_all1.csv')\n",
    "df_test1 = pd.read_csv('./logs/DELPO_tiered_5-way_1-shot_15-queries/vanilla/test.csv', header=None)\n"
   ]
  },
  {
   "cell_type": "code",
   "execution_count": null,
   "metadata": {
    "ExecuteTime": {
     "end_time": "2021-12-15T13:25:42.448464Z",
     "start_time": "2021-12-15T13:25:42.430734Z"
    }
   },
   "outputs": [],
   "source": [
    "df_test"
   ]
  },
  {
   "cell_type": "code",
   "execution_count": null,
   "metadata": {
    "ExecuteTime": {
     "end_time": "2021-12-15T13:26:28.846718Z",
     "start_time": "2021-12-15T13:26:28.842439Z"
    }
   },
   "outputs": [],
   "source": [
    "df_test1.drop(columns=[0], inplace=True)"
   ]
  },
  {
   "cell_type": "code",
   "execution_count": null,
   "metadata": {
    "ExecuteTime": {
     "end_time": "2021-12-15T13:26:32.493140Z",
     "start_time": "2021-12-15T13:26:32.490197Z"
    }
   },
   "outputs": [],
   "source": [
    "df_test1.columns = df_test.columns"
   ]
  },
  {
   "cell_type": "code",
   "execution_count": null,
   "metadata": {
    "ExecuteTime": {
     "end_time": "2021-12-15T13:26:34.168900Z",
     "start_time": "2021-12-15T13:26:34.146915Z"
    }
   },
   "outputs": [],
   "source": [
    "df_test = pd.concat([df_test, df_test1])\n",
    "df_test"
   ]
  },
  {
   "cell_type": "code",
   "execution_count": null,
   "metadata": {
    "ExecuteTime": {
     "end_time": "2021-12-15T13:27:31.989933Z",
     "start_time": "2021-12-15T13:27:29.765841Z"
    }
   },
   "outputs": [],
   "source": [
    "df_test.reset_index(inplace=True)\n",
    "df_test.to_csv('./logs/DELPO_tiered_5-way_1-shot_15-queries/vanilla/test_allnew.csv')"
   ]
  },
  {
   "cell_type": "code",
   "execution_count": null,
   "metadata": {
    "ExecuteTime": {
     "end_time": "2021-12-15T15:00:01.665939Z",
     "start_time": "2021-12-15T15:00:00.242346Z"
    }
   },
   "outputs": [],
   "source": [
    "df_train = pd.read_csv('./logs/DELPO_tiered_5-way_1-shot_15-queries/vanilla/train1.csv')\n",
    "df_valid = pd.read_csv('./logs/DELPO_tiered_5-way_1-shot_15-queries/vanilla/valid_all1.csv')\n",
    "df_test = pd.read_csv('./logs/DELPO_tiered_5-way_1-shot_15-queries/vanilla/test_allnew.csv')\n",
    "df_test = df_test[~(df_test['CE_Loss'] == 'model_last.pt')]\n",
    "df_valid = df_valid[~(df_valid['CE_Loss'] == 'model_last.pt')]"
   ]
  },
  {
   "cell_type": "code",
   "execution_count": null,
   "metadata": {
    "ExecuteTime": {
     "end_time": "2021-12-15T15:00:05.192080Z",
     "start_time": "2021-12-15T15:00:01.667387Z"
    },
    "scrolled": false
   },
   "outputs": [],
   "source": [
    "plot_summarize([df_train, df_valid, df_test], ['accuracy', 'ELBO', 'Label_KL', 'Style_KL', 'Reconst_Loss', 'CE_Loss'], 20, 500)"
   ]
  },
  {
   "cell_type": "code",
   "execution_count": null,
   "metadata": {},
   "outputs": [],
   "source": []
  },
  {
   "cell_type": "code",
   "execution_count": null,
   "metadata": {
    "ExecuteTime": {
     "end_time": "2021-12-14T07:44:55.614493Z",
     "start_time": "2021-12-14T07:44:44.692510Z"
    }
   },
   "outputs": [],
   "source": [
    "df_train1 = pd.read_csv('./logs/DELPO_tiered_5-way_1-shot_15-queries/vanilla/train1.csv')\n",
    "df_train1 = df_train1.groupby(np.arange(len(df_train1)) // 20).mean()\n",
    "df_train2 = pd.read_csv('./logs/DELPO_tiered_5-way_1-shot_15-queries/vanilla/train2.csv')\n",
    "df_train2 = df_train2.groupby(np.arange(len(df_train2)) // 20).mean()\n",
    "df_train3 = pd.read_csv('./logs/DELPO_tiered_5-way_1-shot_15-queries/vanilla/train3.csv')\n",
    "df_train3 = df_train3.groupby(np.arange(len(df_train3)) // 20).mean()\n",
    "df_train4 = pd.read_csv('./logs/DELPO_tiered_5-way_1-shot_15-queries/vanilla/train4.csv')\n",
    "df_train4 = df_train4.groupby(np.arange(len(df_train4)) // 20).mean()\n",
    "df_train5 = pd.read_csv('./logs/DELPO_tiered_5-way_1-shot_15-queries/vanilla/train5.csv')\n",
    "df_train5 = df_train5.groupby(np.arange(len(df_train5)) // 20).mean()\n",
    "df_train6 = pd.read_csv('./logs/DELPO_tiered_5-way_1-shot_15-queries/vanilla/train6.csv')\n",
    "df_train6 = df_train6.groupby(np.arange(len(df_train6)) // 20).mean()\n",
    "\n",
    "df_train = pd.concat([df_train1, df_train2, df_train3, df_train4, df_train5, df_train6], axis=1)\n",
    "df_train = df_train['accuracy']\n",
    "df_train.columns = ['acc1', 'acc2', 'acc3', 'acc4', 'acc5', 'acc6']\n",
    "#df_train.dropna(inplace=True)\n",
    "\n",
    "fig = px.line(df_train)\n",
    "fig.show()"
   ]
  },
  {
   "cell_type": "markdown",
   "metadata": {},
   "source": [
    "# tiered: 5-way, 1-shot, 10-queries: TAD"
   ]
  },
  {
   "cell_type": "markdown",
   "metadata": {},
   "source": [
    "## TAFE "
   ]
  },
  {
   "cell_type": "code",
   "execution_count": null,
   "metadata": {
    "ExecuteTime": {
     "end_time": "2022-01-13T16:20:24.687563Z",
     "start_time": "2022-01-13T16:20:20.315494Z"
    }
   },
   "outputs": [],
   "source": [
    "df_train5 = pd.read_csv(f'./logs/DELPO_tiered_5-way_1-shot_10-queries/exp5-tafe(wo relu)/train.csv')\n",
    "df_train5 = df_train5.groupby(np.arange(len(df_train5)) // 20).mean()\n",
    "df_train6 = pd.read_csv('./logs/DELPO_tiered_5-way_1-shot_10-queries/exp5-tafe(w relu)/train.csv')\n",
    "df_train6 = df_train6.groupby(np.arange(len(df_train6)) // 20).mean()\n",
    "\n",
    "df_train = pd.concat([df_train5, df_train6], axis=1)\n",
    "df_train = df_train['accuracy']\n",
    "df_train.columns = ['acc5', 'acc6']\n",
    "#df_train.dropna(inplace=True)\n",
    "\n",
    "fig = px.line(df_train)\n",
    "fig.show()"
   ]
  },
  {
   "cell_type": "code",
   "execution_count": null,
   "metadata": {
    "ExecuteTime": {
     "end_time": "2022-01-09T07:59:56.133217Z",
     "start_time": "2022-01-09T07:59:49.723050Z"
    }
   },
   "outputs": [],
   "source": [
    "df_train1 = pd.read_csv('./logs/DELPO_tiered_5-way_1-shot_10-queries/exp1-tafe/train.csv')\n",
    "df_train1 = df_train1.groupby(np.arange(len(df_train1)) // 20).mean()\n",
    "df_train2 = pd.read_csv('./logs/DELPO_tiered_5-way_1-shot_10-queries/exp2-tafe/train.csv')\n",
    "df_train2 = df_train2.groupby(np.arange(len(df_train2)) // 20).mean()\n",
    "df_train3 = pd.read_csv('./logs/DELPO_tiered_5-way_1-shot_10-queries/exp3-tafe/train.csv')\n",
    "df_train3 = df_train3.groupby(np.arange(len(df_train3)) // 20).mean()\n",
    "df_train4 = pd.read_csv('./logs/DELPO_tiered_5-way_1-shot_10-queries/exp4-tafe/train.csv')\n",
    "df_train4 = df_train4.groupby(np.arange(len(df_train4)) // 20).mean()\n",
    "df_train5 = pd.read_csv(f'./logs/DELPO_tiered_5-way_1-shot_10-queries/exp5-tafe(wo relu)/train.csv')\n",
    "df_train5 = df_train5.groupby(np.arange(len(df_train5)) // 20).mean()\n",
    "df_train6 = pd.read_csv('./logs/DELPO_tiered_5-way_1-shot_10-queries/exp6-tafe/train.csv')\n",
    "df_train6 = df_train6.groupby(np.arange(len(df_train6)) // 20).mean()\n",
    "\n",
    "df_train = pd.concat([df_train1, df_train2, df_train3, df_train4, df_train5, df_train6], axis=1)\n",
    "df_train = df_train['accuracy']\n",
    "df_train.columns = ['acc1', 'acc2', 'acc3', 'acc4', 'acc5', 'acc6']\n",
    "#df_train.dropna(inplace=True)\n",
    "\n",
    "fig = px.line(df_train)\n",
    "fig.show()"
   ]
  },
  {
   "cell_type": "code",
   "execution_count": null,
   "metadata": {
    "ExecuteTime": {
     "end_time": "2022-01-17T15:06:25.581424Z",
     "start_time": "2022-01-17T15:06:25.570110Z"
    }
   },
   "outputs": [],
   "source": [
    "df_test"
   ]
  },
  {
   "cell_type": "code",
   "execution_count": null,
   "metadata": {
    "ExecuteTime": {
     "end_time": "2022-01-17T15:22:45.995628Z",
     "start_time": "2022-01-17T15:22:45.992311Z"
    }
   },
   "outputs": [],
   "source": [
    "df_train = df_train.iloc[:60000*20]\n",
    "df_valid = df_valid.iloc[:120*500]"
   ]
  },
  {
   "cell_type": "code",
   "execution_count": null,
   "metadata": {
    "ExecuteTime": {
     "end_time": "2022-01-17T15:28:47.995661Z",
     "start_time": "2022-01-17T15:28:47.983545Z"
    }
   },
   "outputs": [],
   "source": [
    "df_valid"
   ]
  },
  {
   "cell_type": "code",
   "execution_count": null,
   "metadata": {
    "ExecuteTime": {
     "end_time": "2022-01-17T15:29:37.827031Z",
     "start_time": "2022-01-17T15:29:37.814012Z"
    }
   },
   "outputs": [],
   "source": [
    "df_valid = df_valid[~(df_valid['CE_Loss'] == 'model_67500.pt')]"
   ]
  },
  {
   "cell_type": "code",
   "execution_count": null,
   "metadata": {
    "ExecuteTime": {
     "end_time": "2022-01-17T15:35:23.695474Z",
     "start_time": "2022-01-17T15:35:23.678176Z"
    }
   },
   "outputs": [],
   "source": [
    "df_test"
   ]
  },
  {
   "cell_type": "code",
   "execution_count": null,
   "metadata": {
    "ExecuteTime": {
     "end_time": "2022-01-17T15:36:54.520722Z",
     "start_time": "2022-01-17T15:36:54.478526Z"
    }
   },
   "outputs": [],
   "source": [
    "df_train = df_train.iloc[:, 1:]\n",
    "df_train"
   ]
  },
  {
   "cell_type": "code",
   "execution_count": null,
   "metadata": {
    "ExecuteTime": {
     "end_time": "2022-01-17T15:37:20.183488Z",
     "start_time": "2022-01-17T15:37:10.203414Z"
    }
   },
   "outputs": [],
   "source": [
    "df_train.to_csv(f'./logs/DELPO_tiered_5-way_1-shot_10-queries/exp5-tafe(wo relu)/train_final.csv', index=False)"
   ]
  },
  {
   "cell_type": "code",
   "execution_count": null,
   "metadata": {
    "ExecuteTime": {
     "end_time": "2022-01-27T12:49:06.775591Z",
     "start_time": "2022-01-27T12:49:05.870393Z"
    }
   },
   "outputs": [],
   "source": [
    "df_train = pd.read_csv(f'./logs/DELPO_tiered_5-way_1-shot_10-queries/exp5-tafe(wo relu)/train_final.csv')\n",
    "df_valid = pd.read_csv(f'./logs/DELPO_tiered_5-way_1-shot_10-queries/exp5-tafe(wo relu)/valid_all_final.csv')\n",
    "df_test = pd.read_csv(f'./logs/DELPO_tiered_5-way_1-shot_10-queries/exp5-tafe(wo relu)/test_all_final.csv')\n",
    "df_test = df_test[~(df_test['CE_Loss'] == 'model_last.pt')]\n",
    "df_valid = df_valid[~(df_valid['CE_Loss'] == 'model_last.pt')]"
   ]
  },
  {
   "cell_type": "code",
   "execution_count": null,
   "metadata": {
    "ExecuteTime": {
     "end_time": "2022-01-27T12:49:56.110476Z",
     "start_time": "2022-01-27T12:49:54.041453Z"
    },
    "scrolled": true
   },
   "outputs": [],
   "source": [
    "plot_summarize([df_train, df_valid, df_test], ['accuracy', 'ELBO', 'Label_KL', 'Style_KL', 'Reconst_Loss', 'CE_Loss'], 20, 500)"
   ]
  },
  {
   "cell_type": "code",
   "execution_count": null,
   "metadata": {
    "ExecuteTime": {
     "end_time": "2022-01-27T12:50:04.141022Z",
     "start_time": "2022-01-27T12:50:04.127396Z"
    }
   },
   "outputs": [],
   "source": [
    "conf_int(df_test[df_test['model_name'] == 'model_59500.pt']['accuracy'])"
   ]
  },
  {
   "cell_type": "code",
   "execution_count": null,
   "metadata": {
    "ExecuteTime": {
     "end_time": "2022-01-27T12:49:48.841993Z",
     "start_time": "2022-01-27T12:49:48.811746Z"
    }
   },
   "outputs": [],
   "source": [
    "df_test2 = pd.read_csv(f'./logs/DELPO_tiered_5-way_1-shot_10-queries/exp5-tafe(wo relu)/test_all2.csv')\n",
    "df_test3 = pd.read_csv(f'./logs/DELPO_tiered_5-way_1-shot_10-queries/exp5-tafe(wo relu)/test_all3.csv')\n",
    "df_test4 = pd.read_csv(f'./logs/DELPO_tiered_5-way_1-shot_10-queries/exp5-tafe(wo relu)/test_all4.csv')\n",
    "test_report([df_test2, df_test3, df_test4])"
   ]
  },
  {
   "cell_type": "markdown",
   "metadata": {},
   "source": [
    "## EAEN "
   ]
  },
  {
   "cell_type": "code",
   "execution_count": null,
   "metadata": {
    "ExecuteTime": {
     "end_time": "2021-12-22T15:33:57.505651Z",
     "start_time": "2021-12-22T15:33:54.821210Z"
    }
   },
   "outputs": [],
   "source": [
    "df_train1 = pd.read_csv('./logs/DELPO_tiered_5-way_1-shot_10-queries/exp3-eaen/train.csv')\n",
    "df_train1 = df_train1.groupby(np.arange(len(df_train1)) // 20).mean()\n",
    "\n",
    "df_train2 = pd.read_csv('./logs/DELPO_tiered_5-way_1-shot_10-queries/train3.csv')\n",
    "df_train2 = df_train2.groupby(np.arange(len(df_train2)) // 20).mean()\n",
    "\n",
    "df_train = pd.concat([df_train1, df_train2], axis=1)\n",
    "df_train = df_train['accuracy']\n",
    "df_train.columns = ['acc1', 'acc2']\n",
    "#df_train.dropna(inplace=True)\n",
    "\n",
    "fig = px.line(df_train)\n",
    "fig.show()"
   ]
  },
  {
   "cell_type": "code",
   "execution_count": null,
   "metadata": {
    "ExecuteTime": {
     "end_time": "2021-12-07T19:42:03.181643Z",
     "start_time": "2021-12-07T19:42:02.545931Z"
    }
   },
   "outputs": [],
   "source": [
    "df_train = pd.read_csv('./logs/DELPO_tiered_5-way_1-shot_10-queries/exp3-eaen/train.csv')\n",
    "df_valid = pd.read_csv('./logs/DELPO_tiered_5-way_1-shot_10-queries/exp3-eaen/valid_all.csv')\n",
    "df_test = pd.read_csv('./logs/DELPO_tiered_5-way_1-shot_10-queries/exp3-eaen/test_all1.csv')\n",
    "df_test = df_test[~(df_test['CE_Loss'] == 'model_last.pt')]\n",
    "df_valid = df_valid[~(df_valid['CE_Loss'] == 'model_last.pt')]"
   ]
  },
  {
   "cell_type": "code",
   "execution_count": null,
   "metadata": {
    "ExecuteTime": {
     "end_time": "2021-12-07T19:42:06.185387Z",
     "start_time": "2021-12-07T19:42:04.085200Z"
    },
    "scrolled": false
   },
   "outputs": [],
   "source": [
    "plot_summarize([df_train, df_valid, df_test], ['accuracy', 'ELBO', 'Label_KL', 'Style_KL', 'Reconst_Loss', 'CE_Loss'], 20, 500)"
   ]
  },
  {
   "cell_type": "code",
   "execution_count": null,
   "metadata": {
    "ExecuteTime": {
     "end_time": "2021-12-07T19:42:32.967019Z",
     "start_time": "2021-12-07T19:42:32.947321Z"
    }
   },
   "outputs": [],
   "source": [
    "conf_int(df_test[df_test['model_name'] == 'model_25000.pt']['accuracy'])"
   ]
  },
  {
   "cell_type": "code",
   "execution_count": null,
   "metadata": {
    "ExecuteTime": {
     "end_time": "2021-12-07T19:42:50.701386Z",
     "start_time": "2021-12-07T19:42:50.675525Z"
    }
   },
   "outputs": [],
   "source": [
    "df_test2 = pd.read_csv('./logs/DELPO_tiered_5-way_1-shot_10-queries/exp3-eaen/test_all2.csv')\n",
    "df_test3 = pd.read_csv('./logs/DELPO_tiered_5-way_1-shot_10-queries/exp3-eaen/test_all3.csv')\n",
    "df_test4 = pd.read_csv('./logs/DELPO_tiered_5-way_1-shot_10-queries/exp3-eaen/test_all4.csv')\n",
    "test_report([df_test2, df_test3, df_test4])"
   ]
  },
  {
   "cell_type": "markdown",
   "metadata": {},
   "source": [
    "**Let run, check again in 2 days**"
   ]
  },
  {
   "cell_type": "markdown",
   "metadata": {},
   "source": [
    "# tiered: 5-way, 5-shot, 15-queries: vanilla"
   ]
  },
  {
   "cell_type": "code",
   "execution_count": null,
   "metadata": {
    "ExecuteTime": {
     "end_time": "2021-12-15T15:00:21.495502Z",
     "start_time": "2021-12-15T15:00:20.475915Z"
    }
   },
   "outputs": [],
   "source": [
    "df_train = pd.read_csv('./logs/DELPO_tiered_5-way_5-shot_10-queries/vanilla/train6.csv')\n",
    "df_valid = pd.read_csv('./logs/DELPO_tiered_5-way_5-shot_10-queries/vanilla/valid_all6.csv')\n",
    "df_test = pd.read_csv('./logs/DELPO_tiered_5-way_5-shot_10-queries/vanilla/test_all6.csv')\n",
    "df_test = df_test[~(df_test['CE_Loss'] == 'model_last.pt')]\n",
    "df_valid = df_valid[~(df_valid['CE_Loss'] == 'model_last.pt')]"
   ]
  },
  {
   "cell_type": "code",
   "execution_count": null,
   "metadata": {
    "ExecuteTime": {
     "end_time": "2021-12-15T15:00:23.642975Z",
     "start_time": "2021-12-15T15:00:21.497198Z"
    },
    "scrolled": false
   },
   "outputs": [],
   "source": [
    "plot_summarize([df_train, df_valid, df_test], ['accuracy', 'ELBO', 'Label_KL', 'Style_KL', 'Reconst_Loss', 'CE_Loss'], 20, 500)"
   ]
  },
  {
   "cell_type": "code",
   "execution_count": null,
   "metadata": {},
   "outputs": [],
   "source": []
  },
  {
   "cell_type": "code",
   "execution_count": null,
   "metadata": {
    "ExecuteTime": {
     "end_time": "2021-12-22T07:41:22.286495Z",
     "start_time": "2021-12-22T07:41:15.007947Z"
    }
   },
   "outputs": [],
   "source": [
    "df_train1 = pd.read_csv('./logs/DELPO_tiered_5-way_5-shot_10-queries/vanilla/train1.csv')\n",
    "df_train1 = df_train1.groupby(np.arange(len(df_train1)) // 20).mean()\n",
    "df_train2 = pd.read_csv('./logs/DELPO_tiered_5-way_5-shot_10-queries/vanilla/train2.csv')\n",
    "df_train2 = df_train2.groupby(np.arange(len(df_train2)) // 20).mean()\n",
    "df_train3 = pd.read_csv('./logs/DELPO_tiered_5-way_5-shot_10-queries/vanilla/train3.csv')\n",
    "df_train3 = df_train3.groupby(np.arange(len(df_train3)) // 20).mean()\n",
    "df_train4 = pd.read_csv('./logs/DELPO_tiered_5-way_5-shot_10-queries/vanilla/train4.csv')\n",
    "df_train4 = df_train4.groupby(np.arange(len(df_train4)) // 20).mean()\n",
    "df_train5 = pd.read_csv('./logs/DELPO_tiered_5-way_5-shot_10-queries/vanilla/train5.csv')\n",
    "df_train5 = df_train5.groupby(np.arange(len(df_train5)) // 20).mean()\n",
    "df_train6 = pd.read_csv('./logs/DELPO_tiered_5-way_5-shot_10-queries/vanilla/train6.csv')\n",
    "df_train6 = df_train6.groupby(np.arange(len(df_train6)) // 20).mean()\n",
    "\n",
    "df_train = pd.concat([df_train1, df_train2, df_train3, df_train4, df_train5, df_train6], axis=1)\n",
    "df_train = df_train['accuracy']\n",
    "df_train.columns = ['acc1', 'acc2', 'acc3', 'acc4', 'acc5', 'acc6']\n",
    "#df_train.dropna(inplace=True)\n",
    "\n",
    "fig = px.line(df_train)\n",
    "fig.show()"
   ]
  },
  {
   "cell_type": "markdown",
   "metadata": {},
   "source": [
    "# tiered: 5-way, 5-shot, 10-queries with TAD"
   ]
  },
  {
   "cell_type": "markdown",
   "metadata": {},
   "source": [
    "## TAFE "
   ]
  },
  {
   "cell_type": "code",
   "execution_count": null,
   "metadata": {
    "ExecuteTime": {
     "end_time": "2022-01-17T09:21:12.108434Z",
     "start_time": "2022-01-17T09:21:06.948054Z"
    }
   },
   "outputs": [],
   "source": [
    "df_train1 = pd.read_csv('./logs/DELPO_tiered_5-way_5-shot_10-queries/train1.csv')\n",
    "df_train1 = df_train1.groupby(np.arange(len(df_train1)) // 20).mean()\n",
    "df_train2 = pd.read_csv('./logs/DELPO_tiered_5-way_5-shot_10-queries/train2.csv')\n",
    "df_train2 = df_train2.groupby(np.arange(len(df_train2)) // 20).mean()\n",
    "df_train3 = pd.read_csv('./logs/DELPO_tiered_5-way_5-shot_10-queries/train3.csv')\n",
    "df_train3 = df_train3.groupby(np.arange(len(df_train3)) // 20).mean()\n",
    "df_train4 = pd.read_csv('./logs/DELPO_tiered_5-way_5-shot_10-queries/train4.csv')\n",
    "df_train4 = df_train4.groupby(np.arange(len(df_train4)) // 20).mean()\n",
    "df_train5 = pd.read_csv('./logs/DELPO_tiered_5-way_5-shot_10-queries/exp5-tafe1/train.csv')\n",
    "df_train5 = df_train5.groupby(np.arange(len(df_train5)) // 20).mean()\n",
    "df_train6 = pd.read_csv('./logs/DELPO_tiered_5-way_5-shot_10-queries/exp5-tafe2/train.csv')\n",
    "df_train6 = df_train6.groupby(np.arange(len(df_train6)) // 20).mean()\n",
    "\n",
    "df_train = pd.concat([df_train1, df_train2, df_train3, df_train4, df_train5, df_train6], axis=1)\n",
    "df_train = df_train['accuracy']\n",
    "df_train.columns = ['acc1', 'acc2', 'acc3', 'acc4', 'acc5', 'acc6']\n",
    "#df_train.dropna(inplace=True)\n",
    "\n",
    "fig = px.line(df_train)\n",
    "fig.show()"
   ]
  },
  {
   "cell_type": "markdown",
   "metadata": {},
   "source": [
    "**All runs but the 1st one worked out, let 5.1 run for another 1/2 day - Testing!**"
   ]
  },
  {
   "cell_type": "code",
   "execution_count": null,
   "metadata": {
    "ExecuteTime": {
     "end_time": "2022-01-15T11:01:46.067134Z",
     "start_time": "2022-01-15T11:01:45.374372Z"
    }
   },
   "outputs": [],
   "source": [
    "df_train = pd.read_csv('./logs/DELPO_tiered_5-way_5-shot_10-queries/train1.csv')\n",
    "df_valid = pd.read_csv('./logs/DELPO_tiered_5-way_5-shot_10-queries/valid.csv')\n",
    "df_test = pd.read_csv('./logs/DELPO_tiered_5-way_5-shot_10-queries/test.csv')"
   ]
  },
  {
   "cell_type": "code",
   "execution_count": null,
   "metadata": {
    "ExecuteTime": {
     "end_time": "2022-01-27T12:50:14.791403Z",
     "start_time": "2022-01-27T12:50:14.101681Z"
    }
   },
   "outputs": [],
   "source": [
    "df_train = pd.read_csv('./logs/DELPO_tiered_5-way_5-shot_10-queries/exp5.1-tafe/train.csv')\n",
    "df_valid = pd.read_csv('./logs/DELPO_tiered_5-way_5-shot_10-queries/exp5.1-tafe/valid_all.csv')\n",
    "df_test = pd.read_csv('./logs/DELPO_tiered_5-way_5-shot_10-queries/exp5.1-tafe/test_all.csv')\n",
    "df_test = df_test[~(df_test['CE_Loss'] == 'model_last.pt')]\n",
    "df_valid = df_valid[~(df_valid['CE_Loss'] == 'model_last.pt')]"
   ]
  },
  {
   "cell_type": "code",
   "execution_count": null,
   "metadata": {
    "ExecuteTime": {
     "end_time": "2022-01-27T12:50:20.024927Z",
     "start_time": "2022-01-27T12:50:18.524152Z"
    },
    "scrolled": true
   },
   "outputs": [],
   "source": [
    "plot_summarize([df_train, df_valid, df_test], ['accuracy', 'ELBO', 'Label_KL', 'Style_KL', 'Reconst_Loss', 'CE_Loss'], 20, 500)"
   ]
  },
  {
   "cell_type": "code",
   "execution_count": null,
   "metadata": {
    "ExecuteTime": {
     "end_time": "2022-01-27T12:50:24.487562Z",
     "start_time": "2022-01-27T12:50:24.475806Z"
    }
   },
   "outputs": [],
   "source": [
    "conf_int(df_test[df_test['model_name'] == 'model_27500.pt']['accuracy'])"
   ]
  },
  {
   "cell_type": "code",
   "execution_count": null,
   "metadata": {
    "ExecuteTime": {
     "end_time": "2022-01-27T12:50:54.355617Z",
     "start_time": "2022-01-27T12:50:54.323901Z"
    }
   },
   "outputs": [],
   "source": [
    "df_test2 = pd.read_csv('./logs/DELPO_tiered_5-way_5-shot_10-queries/exp5.1-tafe/test_all2.csv')\n",
    "df_test3 = pd.read_csv('./logs/DELPO_tiered_5-way_5-shot_10-queries/exp5.1-tafe/test_all3.csv')\n",
    "df_test4 = pd.read_csv('./logs/DELPO_tiered_5-way_5-shot_10-queries/exp5.1-tafe/test_all4.csv')\n",
    "test_report([df_test2, df_test3, df_test4])"
   ]
  },
  {
   "cell_type": "markdown",
   "metadata": {},
   "source": [
    "**Satisfactory test resutls, but I think can be pushed further. Test at EOD again, train curve seems to be improving! <br>\n",
    "LATER: Try the same and maybe more runs on the A6000**"
   ]
  },
  {
   "cell_type": "markdown",
   "metadata": {},
   "source": [
    "## EAEN: "
   ]
  },
  {
   "cell_type": "code",
   "execution_count": null,
   "metadata": {
    "ExecuteTime": {
     "end_time": "2021-12-10T12:03:44.722633Z",
     "start_time": "2021-12-10T12:03:44.181761Z"
    }
   },
   "outputs": [],
   "source": [
    "df_train = pd.read_csv('./logs/DELPO_tiered_5-way_5-shot_10-queries/exp6-eaen/train.csv')\n",
    "df_valid = pd.read_csv('./logs/DELPO_tiered_5-way_5-shot_10-queries/exp6-eaen/valid_all.csv')\n",
    "df_test = pd.read_csv('./logs/DELPO_tiered_5-way_5-shot_10-queries/exp6-eaen/test_all.csv')\n",
    "df_test = df_test[~(df_test['CE_Loss'] == 'model_last.pt')]\n",
    "df_valid = df_valid[~(df_valid['CE_Loss'] == 'model_last.pt')]"
   ]
  },
  {
   "cell_type": "code",
   "execution_count": null,
   "metadata": {
    "ExecuteTime": {
     "end_time": "2021-12-10T12:03:46.723548Z",
     "start_time": "2021-12-10T12:03:45.384652Z"
    },
    "scrolled": false
   },
   "outputs": [],
   "source": [
    "plot_summarize([df_train, df_valid, df_test], ['accuracy', 'ELBO', 'Label_KL', 'Style_KL', 'Reconst_Loss', 'CE_Loss'], 20, 500)"
   ]
  },
  {
   "cell_type": "code",
   "execution_count": null,
   "metadata": {
    "ExecuteTime": {
     "end_time": "2021-12-10T12:06:31.026366Z",
     "start_time": "2021-12-10T12:06:27.726809Z"
    },
    "scrolled": false
   },
   "outputs": [],
   "source": [
    "df_train = pd.read_csv('./logs/DELPO_tiered_5-way_5-shot_10-queries/exp3-eaen/train.csv')\n",
    "df_valid = pd.read_csv('./logs/DELPO_tiered_5-way_5-shot_10-queries/exp3-eaen/valid_all.csv')\n",
    "df_test = pd.read_csv('./logs/DELPO_tiered_5-way_5-shot_10-queries/exp3-eaen/test_all1.csv')\n",
    "df_test = df_test[~(df_test['CE_Loss'] == 'model_last.pt')]\n",
    "df_valid = df_valid[~(df_valid['CE_Loss'] == 'model_last.pt')]\n",
    "\n",
    "plot_summarize([df_train, df_valid, df_test], ['accuracy', 'ELBO', 'Label_KL', 'Style_KL', 'Reconst_Loss', 'CE_Loss'], 20, 500)"
   ]
  },
  {
   "cell_type": "code",
   "execution_count": null,
   "metadata": {
    "ExecuteTime": {
     "end_time": "2021-12-07T19:47:07.747481Z",
     "start_time": "2021-12-07T19:47:07.725976Z"
    }
   },
   "outputs": [],
   "source": [
    "conf_int(df_test[df_test['model_name'] == 'model_26000.pt']['accuracy'])"
   ]
  },
  {
   "cell_type": "code",
   "execution_count": null,
   "metadata": {
    "ExecuteTime": {
     "end_time": "2021-12-07T19:47:13.852051Z",
     "start_time": "2021-12-07T19:47:13.811333Z"
    }
   },
   "outputs": [],
   "source": [
    "df_test2 = pd.read_csv('./logs/DELPO_tiered_5-way_5-shot_10-queries/exp3-eaen/test_all2.csv')\n",
    "df_test3 = pd.read_csv('./logs/DELPO_tiered_5-way_5-shot_10-queries/exp3-eaen/test_all3.csv')\n",
    "df_test4 = pd.read_csv('./logs/DELPO_tiered_5-way_5-shot_10-queries/exp3-eaen/test_all4.csv')\n",
    "test_report([df_test2, df_test3, df_test4])"
   ]
  },
  {
   "cell_type": "code",
   "execution_count": null,
   "metadata": {
    "ExecuteTime": {
     "end_time": "2021-12-10T16:50:39.598806Z",
     "start_time": "2021-12-10T16:50:37.677490Z"
    }
   },
   "outputs": [],
   "source": [
    "df_train1 = pd.read_csv('./logs/DELPO_tiered_5-way_5-shot_10-queries/exp3-eaen/train.csv')\n",
    "df_train1 = df_train1.groupby(np.arange(len(df_train1)) // 20).mean()\n",
    "\n",
    "df_train2 = pd.read_csv('./logs/DELPO_tiered_5-way_5-shot_10-queries/train.csv')\n",
    "df_train2 = df_train2.groupby(np.arange(len(df_train2)) // 20).mean()\n",
    "\n",
    "df_train = pd.concat([df_train1, df_train2], axis=1)\n",
    "df_train = df_train['accuracy']\n",
    "df_train.columns = ['acc1', 'acc2']\n",
    "#df_train.dropna(inplace=True)\n",
    "\n",
    "fig = px.line(df_train)\n",
    "fig.show()"
   ]
  },
  {
   "cell_type": "markdown",
   "metadata": {
    "ExecuteTime": {
     "end_time": "2021-11-20T16:32:51.218376Z",
     "start_time": "2021-11-20T16:32:51.211995Z"
    }
   },
   "source": [
    "**Try out a few more configs of lr + ce_wt manipulation**"
   ]
  },
  {
   "cell_type": "code",
   "execution_count": null,
   "metadata": {
    "ExecuteTime": {
     "end_time": "2021-12-23T14:19:50.229401Z",
     "start_time": "2021-12-23T14:19:44.639974Z"
    }
   },
   "outputs": [],
   "source": [
    "df_train1 = pd.read_csv('./logs/DELPO_tiered_5-way_5-shot_10-queries/stash/train1.csv')\n",
    "df_train1 = df_train1.groupby(np.arange(len(df_train1)) // 20).mean()\n",
    "df_train2 = pd.read_csv('./logs/DELPO_tiered_5-way_5-shot_10-queries/stash/train2.csv')\n",
    "df_train2 = df_train2.groupby(np.arange(len(df_train2)) // 20).mean()\n",
    "df_train3 = pd.read_csv('./logs/DELPO_tiered_5-way_5-shot_10-queries/stash/train3.csv')\n",
    "df_train3 = df_train3.groupby(np.arange(len(df_train3)) // 20).mean()\n",
    "df_train4 = pd.read_csv('./logs/DELPO_tiered_5-way_5-shot_10-queries/stash/train4.csv')\n",
    "df_train4 = df_train4.groupby(np.arange(len(df_train4)) // 20).mean()\n",
    "# df_train5 = pd.read_csv('./logs/DELPO_tiered_5-way_5-shot_10-queries/train5.csv')\n",
    "# df_train5 = df_train5.groupby(np.arange(len(df_train5)) // 20).mean()\n",
    "# df_train6 = pd.read_csv('./logs/DELPO_tiered_5-way_5-shot_10-queries/train.csv')\n",
    "# df_train6 = df_train6.groupby(np.arange(len(df_train6)) // 20).mean()\n",
    "df_train7 = pd.read_csv('./logs/DELPO_tiered_5-way_5-shot_10-queries/stash/train6.csv')\n",
    "df_train7 = df_train7.groupby(np.arange(len(df_train7)) // 20).mean()\n",
    "\n",
    "df_train = pd.concat([df_train1, df_train2, df_train3, df_train4, df_train7], axis=1)\n",
    "df_train = df_train['accuracy']\n",
    "df_train.columns = ['acc1', 'acc2', 'acc3', 'acc4', 'acc7']\n",
    "\n",
    "fig = px.line(df_train)\n",
    "fig.show()"
   ]
  },
  {
   "cell_type": "markdown",
   "metadata": {
    "ExecuteTime": {
     "end_time": "2021-11-21T17:28:21.057605Z",
     "start_time": "2021-11-21T17:28:20.716162Z"
    }
   },
   "source": [
    "**let run the re-run of exp6. monitor again at ~20k-epochs. Test exp3,4**"
   ]
  },
  {
   "cell_type": "markdown",
   "metadata": {},
   "source": [
    "# tiered: 5-way, 10-shot, 10-queries"
   ]
  },
  {
   "cell_type": "code",
   "execution_count": null,
   "metadata": {
    "ExecuteTime": {
     "end_time": "2021-12-07T15:33:02.958140Z",
     "start_time": "2021-12-07T15:33:02.055845Z"
    }
   },
   "outputs": [],
   "source": [
    "df_train = pd.read_csv('./logs/DELPO_tiered_5-way_10-shot_10-queries/exp1-eaen/train.csv')\n",
    "df_valid = pd.read_csv('./logs/DELPO_tiered_5-way_10-shot_10-queries/exp1-eaen/valid_all.csv')\n",
    "df_test = pd.read_csv('./logs/DELPO_tiered_5-way_10-shot_10-queries/exp1-eaen/test_all.csv')\n",
    "df_test = df_test[~(df_test['CE_Loss'] == 'model_last.pt')]\n",
    "df_valid = df_valid[~(df_valid['CE_Loss'] == 'model_last.pt')]"
   ]
  },
  {
   "cell_type": "code",
   "execution_count": null,
   "metadata": {
    "ExecuteTime": {
     "end_time": "2021-12-07T15:33:05.864352Z",
     "start_time": "2021-12-07T15:33:03.492168Z"
    },
    "scrolled": false
   },
   "outputs": [],
   "source": [
    "plot_summarize([df_train, df_valid, df_test], ['accuracy', 'ELBO', 'Label_KL', 'Style_KL', 'Reconst_Loss', 'CE_Loss'], 20, 500)"
   ]
  },
  {
   "cell_type": "code",
   "execution_count": null,
   "metadata": {},
   "outputs": [],
   "source": []
  },
  {
   "cell_type": "code",
   "execution_count": null,
   "metadata": {
    "ExecuteTime": {
     "end_time": "2021-12-06T12:19:59.775784Z",
     "start_time": "2021-12-06T12:19:58.764078Z"
    }
   },
   "outputs": [],
   "source": [
    "df_train = pd.read_csv('./logs/DELPO_tiered_5-way_10-shot_10-queries/train1.csv')\n",
    "df_train = df_train.groupby(np.arange(len(df_train)) // 20).mean()\n",
    "\n",
    "df_train = df_train['accuracy']\n",
    "df_train.columns = ['acc1']\n",
    "#df_train.dropna(inplace=True)\n",
    "\n",
    "fig = px.line(df_train)\n",
    "fig.show()"
   ]
  },
  {
   "cell_type": "markdown",
   "metadata": {},
   "source": [
    "**Seems good, check at 40-45k epochs tomorrow**"
   ]
  },
  {
   "cell_type": "code",
   "execution_count": null,
   "metadata": {},
   "outputs": [],
   "source": []
  },
  {
   "cell_type": "markdown",
   "metadata": {},
   "source": [
    "# Pre-trained ResNet-12 feature extractor "
   ]
  },
  {
   "cell_type": "markdown",
   "metadata": {},
   "source": [
    "## MiniImagenet: 5-way, 1-shot, 10-queries - w TAD "
   ]
  },
  {
   "cell_type": "markdown",
   "metadata": {},
   "source": [
    "### TAFE "
   ]
  },
  {
   "cell_type": "code",
   "execution_count": null,
   "metadata": {
    "ExecuteTime": {
     "end_time": "2022-01-20T21:44:59.943664Z",
     "start_time": "2022-01-20T21:44:57.441470Z"
    },
    "scrolled": false
   },
   "outputs": [],
   "source": [
    "df_train = pd.read_csv('./logs/DELPO_miniimagenet_5-way_1-shot_10-queries/exp1ptf-tafe/train.csv')\n",
    "df_valid = pd.read_csv('./logs/DELPO_miniimagenet_5-way_5-shot_10-queries/exp8ptf-tafe/valid.csv')\n",
    "df_test = pd.read_csv('./logs/DELPO_miniimagenet_5-way_1-shot_10-queries/exp1ptf-tafe/test.csv')\n",
    "plot_summarize([df_train, df_valid, df_test], ['accuracy', 'ELBO', 'Label_KL', 'Style_KL', 'Reconst_Loss', 'CE_Loss'], 20, 500)"
   ]
  },
  {
   "cell_type": "code",
   "execution_count": null,
   "metadata": {
    "ExecuteTime": {
     "end_time": "2021-12-08T12:53:59.713427Z",
     "start_time": "2021-12-08T12:53:59.039519Z"
    },
    "scrolled": false
   },
   "outputs": [],
   "source": [
    "plot_summarize([df_train, df_valid, df_test], ['accuracy', 'ELBO', 'Label_KL', 'Style_KL', 'Reconst_Loss', 'CE_Loss'], 20, 500)"
   ]
  },
  {
   "cell_type": "code",
   "execution_count": null,
   "metadata": {
    "ExecuteTime": {
     "end_time": "2022-01-31T17:14:54.619484Z",
     "start_time": "2022-01-31T17:14:52.240620Z"
    }
   },
   "outputs": [],
   "source": [
    "df_train3 = pd.read_csv('./logs/DELPO_miniimagenet_5-way_1-shot_10-queries/exp1ptnf-tafe/train.csv')\n",
    "df_train3 = df_train3.groupby(np.arange(len(df_train3)) // 20).mean()\n",
    "\n",
    "df_train1 = pd.read_csv(f'./logs/DELPO_miniimagenet_5-way_1-shot_10-queries/exp1-tafe/exp1-tafe(wo relu)/train.csv')\n",
    "df_train1 = df_train1.groupby(np.arange(len(df_train1)) // 20).mean()\n",
    "\n",
    "df_train = pd.concat([df_train1, df_train3], axis=1)\n",
    "df_train = df_train['accuracy']\n",
    "df_train.columns = ['acc1', 'acc3']\n",
    "#df_train.dropna(inplace=True)\n",
    "\n",
    "fig = px.line(df_train)\n",
    "fig.show()"
   ]
  },
  {
   "cell_type": "markdown",
   "metadata": {},
   "source": [
    "**Let run, pray and monitor a day later**"
   ]
  },
  {
   "cell_type": "markdown",
   "metadata": {},
   "source": [
    "## MiniImagenet: 5-way, 5-shot, 10-queries - w TAD"
   ]
  },
  {
   "cell_type": "markdown",
   "metadata": {},
   "source": [
    "### TAFE "
   ]
  },
  {
   "cell_type": "code",
   "execution_count": null,
   "metadata": {},
   "outputs": [],
   "source": [
    "df_train = pd.read_csv('./logs/DELPO_miniimagenet_5-way_5-shot_10-queries/exp8ptf-tafe/train.csv')\n",
    "df_valid = pd.read_csv('./logs/DELPO_miniimagenet_5-way_5-shot_10-queries/exp8ptf-tafe/valid.csv')\n",
    "df_test = pd.read_csv('./logs/DELPO_miniimagenet_5-way_5-shot_10-queries/exp8ptf-tafe/test.csv')"
   ]
  },
  {
   "cell_type": "code",
   "execution_count": null,
   "metadata": {},
   "outputs": [],
   "source": [
    "plot_summarize([df_train, df_valid, df_test], ['accuracy', 'ELBO', 'Label_KL', 'Style_KL', 'Reconst_Loss', 'CE_Loss'], 20, 500)"
   ]
  },
  {
   "cell_type": "code",
   "execution_count": null,
   "metadata": {
    "ExecuteTime": {
     "end_time": "2022-01-15T22:39:29.116989Z",
     "start_time": "2022-01-15T22:39:27.786947Z"
    }
   },
   "outputs": [],
   "source": [
    "df_train1 = pd.read_csv('./logs/DELPO_miniimagenet_5-way_5-shot_10-queries/exp8ptnf-tafe/train.csv')\n",
    "df_train1 = df_train1.groupby(np.arange(len(df_train1)) // 20).mean()\n",
    "\n",
    "df_train2 = pd.read_csv('./logs/DELPO_miniimagenet_5-way_5-shot_10-queries/exp8-tafe/exp8-tafe(wo relu)/train.csv')\n",
    "df_train2 = df_train2.groupby(np.arange(len(df_train2)) // 20).mean()\n",
    "\n",
    "df_train = pd.concat([df_train1, df_train2], axis=1)\n",
    "df_train = df_train['accuracy']\n",
    "df_train.columns = ['acc1', 'acc2']\n",
    "#df_train.dropna(inplace=True)\n",
    "\n",
    "fig = px.line(df_train)\n",
    "fig.show()"
   ]
  },
  {
   "cell_type": "markdown",
   "metadata": {},
   "source": [
    "**Let run, pray and monitor a day later**"
   ]
  }
 ],
 "metadata": {
  "interpreter": {
   "hash": "7e3af266dcb7df8b026f0780dbb396b062ee5ca2767a18f50e60e26ee6084121"
  },
  "kernelspec": {
   "display_name": "Python 3 (ipykernel)",
   "language": "python",
   "name": "python3"
  },
  "language_info": {
   "codemirror_mode": {
    "name": "ipython",
    "version": 3
   },
   "file_extension": ".py",
   "mimetype": "text/x-python",
   "name": "python",
   "nbconvert_exporter": "python",
   "pygments_lexer": "ipython3",
   "version": "3.9.7"
  },
  "toc": {
   "base_numbering": 1,
   "nav_menu": {},
   "number_sections": true,
   "sideBar": true,
   "skip_h1_title": false,
   "title_cell": "Table of Contents",
   "title_sidebar": "Contents",
   "toc_cell": false,
   "toc_position": {},
   "toc_section_display": true,
   "toc_window_display": false
  }
 },
 "nbformat": 4,
 "nbformat_minor": 2
}
